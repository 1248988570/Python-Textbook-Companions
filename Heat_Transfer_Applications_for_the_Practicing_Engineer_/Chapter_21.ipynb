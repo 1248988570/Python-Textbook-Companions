{
 "metadata": {
  "name": "Chapter 21"
 },
 "nbformat": 3,
 "nbformat_minor": 0,
 "worksheets": [
  {
   "cells": [
    {
     "cell_type": "heading",
     "level": 1,
     "metadata": {},
     "source": "Chapter 21: Entropy Considerations and Analysis"
    },
    {
     "cell_type": "heading",
     "level": 3,
     "metadata": {},
     "source": "ILLUSTRATIVE EXAMPLE 21.1, Page number: 460"
    },
    {
     "cell_type": "code",
     "collapsed": false,
     "input": "'''Refer to Case I, Figure 21.3, above. Calculate the entropy change of the two exchangers. For the\npurposes of analysis, arbitrarily assume cp = l.0 Btu/lb.\u00b0F and mH = mC = l.0 lb\n'''\n\nfrom __future__ import division\nfrom math import log\n\n#Variable declaration:\nm = 1                           #Mass flowrate (lb)\ncP = 1                          #Heat capacity (Btu/lb.\u00b0F)\n#From figure 21.3:\nT1 = 300                        #Temperature of hot fluid leaving exchanger (\u00b0F)\nT2 = 540                        #Temperature of hot fluid entering exchanger (\u00b0F)\nT3 = 60                         #Temperature of cold fluid leaving exchanger (\u00b0F)\nT4 = 300                        #Temperature of cold fluid entering exchanger (\u00b0F)\n\n#Calculation:\nDSh = m*cP*log((T1+460)/(T2+460))      #Entropy for hot fluid (Btu/\u00b0F)\nDSc = m*cP*log((T4+460)/(T3+460))      #Entropy for cold fluid (Btu/\u00b0F)\nDSa = DSh+DSc                   #Entropy for one exchanger (Btu/\u00b0F)\nDSt = DSa*2                     #Total entropy change (Btu/\u00b0F)\n\n#Result:\nprint \"The entropy chage is :\",round(DSt,4),\" Btu/\u00b0F .\"\nif (DSt>0):\n    print \"There is a positive entropy change.\"\nelse :\n    print \"There is a negative entropy change.\"",
     "language": "python",
     "metadata": {},
     "outputs": [
      {
       "output_type": "stream",
       "stream": "stdout",
       "text": "The entropy chage is : 0.2101  Btu/\u00b0F .\nThere is a positive entropy change.\n"
      }
     ],
     "prompt_number": 1
    },
    {
     "cell_type": "heading",
     "level": 3,
     "metadata": {},
     "source": "ILLUSTRATIVE EXAMPLE 21.2, Page number: 461"
    },
    {
     "cell_type": "code",
     "collapsed": false,
     "input": "'''Refer to Case II, Figure 21.4. Calculate the entropy change of exchangers C and D.'''\n\nfrom __future__ import division\nfrom math import log\n\n#Variable declaration:\n#From example 21.1:\nDSh = -0.2744                   #Entropy for hot fluid (Btu/\u00b0F)\nDSc = 0.3795                    #Entropy for cold fluid (Btu/\u00b0F)\nm = 1                           #Mass flowrate (lb)\ncP = 1                          #Heat capacity (Btu/lb.\u00b0F)\n#From figure 21.4:\nDT = 0                          #Temperature difference driving force (\u00b0F)\nDS_D = 0                        #Entropy for D exchanger (Btu/\u00b0F)\n\n#Calculation:\nDS_C = DSh+DSc                  #Entropy for C exchanger (Btu/\u00b0F)\nDSt = DS_C+DS_D                 #Total entropy change of exchangers (Btu/\u00b0F)\n\n#Result:\nprint \"The total entropy change is :\",DSt,\" Btu/\u00b0F .\"",
     "language": "python",
     "metadata": {},
     "outputs": [
      {
       "output_type": "stream",
       "stream": "stdout",
       "text": "The total entropy change is : 0.1051  Btu/\u00b0F .\n"
      }
     ],
     "prompt_number": 3
    },
    {
     "cell_type": "heading",
     "level": 3,
     "metadata": {},
     "source": "ILLUSTRATIVE EXAMPLE 21.3, Page number: 462"
    },
    {
     "cell_type": "code",
     "collapsed": false,
     "input": "'''Refer to Case III, Figure 21.5. Calculate the entropy change in exchangers E and F.'''\n\nfrom __future__ import division\nfrom math import log\n\n#Variable declaration:\n#From figure 21.5:\nm = 2                           #Mass flowrate (lb)\ncP = 1                          #Heat capacity (Btu/lb.\u00b0F)\nDS1 = -0.2744                   #Entropy for hot fluid for E exchanger (Btu/\u00b0F)\nT1 = 180                        #Temperature cold fluid entering the E exchabger (\u00b0F)\nT2 = 60                         #Temperature cold fluid leaving the E exchabger (\u00b0F)\n\n#Calculation:\nDS2 = m*cP*log((T1+460)/(T2+460))   #Entropy for cold fluid for E exchanger (Btu/\u00b0F)\nDS_E = DS1+DS2                  #Entropy for E exchanger (Btu/\u00b0F)\nDS_F = DS_E                     #Entropy for F exchanger (Btu/\u00b0F)\nDSt = DS_F+DS_E                 #Entropy change in exchangers E and F (Btu/\u00b0F)\n\n#Result:\nprint \"The entropy change in exchangers E and F is :\",round(DSt,4),\" Btu/\u00b0F .\"",
     "language": "python",
     "metadata": {},
     "outputs": [
      {
       "output_type": "stream",
       "stream": "stdout",
       "text": "The entropy change in exchangers E and F is : 0.2818  Btu/\u00b0F .\n"
      }
     ],
     "prompt_number": 4
    }
   ],
   "metadata": {}
  }
 ]
}