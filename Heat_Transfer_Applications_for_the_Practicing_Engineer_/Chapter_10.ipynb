{
 "metadata": {
  "name": "Chapter 10"
 },
 "nbformat": 3,
 "nbformat_minor": 0,
 "worksheets": [
  {
   "cells": [
    {
     "cell_type": "heading",
     "level": 1,
     "metadata": {},
     "source": "Chapter 10: Free Convection"
    },
    {
     "cell_type": "heading",
     "level": 3,
     "metadata": {},
     "source": "ILLUSTRATIVE EXAMPLE 10.1, Page number: 163"
    },
    {
     "cell_type": "code",
     "collapsed": false,
     "input": "'''The Grashof and Reynolds numbers for a system involved in a heat transfer process are approximately\n100 and 50, respectively. Can free convection effects be neglected.\n'''\n\n#Variable declaration:\nGr = 100.0                  #Grashof number\nRe = 50.0                   #Reynolds number\n\n#Calculation:\nLT = Gr/Re**2               #Measure of influence of convection effect\n\n#Result:\nif (LT<1.0):\n    print \"The free convection effects can be neglected.\"\nelif (LT>1.0):\n    print \"The free convection effects can not be neglected.\"",
     "language": "python",
     "metadata": {},
     "outputs": [
      {
       "output_type": "stream",
       "stream": "stdout",
       "text": "The free convection effects can be neglected.\n"
      }
     ],
     "prompt_number": 1
    },
    {
     "cell_type": "heading",
     "level": 3,
     "metadata": {},
     "source": "ILLUSTRATIVE EXAMPLE 10.2, Page number: 166"
    },
    {
     "cell_type": "code",
     "collapsed": false,
     "input": "'''The heat flux rate incident on a vertical flat plate at 110\u00b0C is 800W/m2. The plate is 2 m wide\nand 3.5 m high and is well insulated on the back side. The ambient air temperature is 30\u00b0C. All\nthe incident radiation (800W/m2) on the plate is absorbed and dissipated by free convection to\nthe ambient air at 30\u00b0C. Determine the Grashof and Rayleigh numbers.\n'''\n\n#Variable declaration:\nTs = 110.0+273.0                #Surface temperature of plate (K)\nToo = 30.0+273.0                #Ambient air temperature (K)\nL = 3.5                         #Height of plate (m)\ng = 9.807                       #Gravitational acceleration (m^2/s)\n\n#Calculation:\nTf = (Ts+Too)/2                 #Film temperature (K)\nDT = Ts - Too                   #Temperature difference between surface and air (K)\n#From appendix:\nv = 2.0*10**-5                  #Kinematic viscosity for air (m^2/s)\nk = 0.029                       #Thermal conductivity for air (W/m.K)\nPr = 0.7                        #Prandtl number\nB = 1.0/Tf                      #Coefficient of expansion (K^-1)\nGr = g*B*DT*L**3/v**2           #Grashof number\nRa = Gr*Pr                      #Rayleigh number\n\n#Result:\nprint \"The Grashof number is :\",round(Gr/10**11,2),\" x 10^11 .\"\nprint \"The Rayleigh number is :\",round(Ra/10**11,2),\" x 10^11 .\"",
     "language": "python",
     "metadata": {},
     "outputs": [
      {
       "output_type": "stream",
       "stream": "stdout",
       "text": "The Grashof number is : 2.45  x 10^11 .\nThe Rayleigh number is : 1.72  x 10^11 .\n"
      }
     ],
     "prompt_number": 2
    },
    {
     "cell_type": "heading",
     "level": 3,
     "metadata": {},
     "source": "ILLUSTRATIVE EXAMPLE 10.3, Page number: 166"
    },
    {
     "cell_type": "code",
     "collapsed": false,
     "input": "'''Refer to Illustrative Example 10.2. Determine the type of natural convection (flow regime).\n'''\n\n#Variable declaration:\n#From example 10.2:\nRa = 1.71*10**11                #Rayleigh number\n\n#Result:\nif (Ra>10**9):\n    print \"The convection flow category is turbulent.\"\nelif(Ra<10**9):\n    print \"The convection flow category is laminar.\"",
     "language": "python",
     "metadata": {},
     "outputs": [
      {
       "output_type": "stream",
       "stream": "stdout",
       "text": "The convection flow category is turbulent.\n"
      }
     ],
     "prompt_number": 3
    },
    {
     "cell_type": "heading",
     "level": 3,
     "metadata": {},
     "source": "ILLUSTRATIVE EXAMPLE 10.4, Page number: 167"
    },
    {
     "cell_type": "code",
     "collapsed": false,
     "input": "'''Refer to Illustrative Example 10.2. Determine the average heat transfer coefficient.\n'''\n\n#Variable declaration:\n#From Table 10.1:\nc = 0.1                             #Constant c\nm = 1.0/3.0                         #Constant for turbulent free conection\n#From example 10.2:\nRa = 1.71*10**11                    #Rayleigh number\nk = 0.029                           #Thermal conductivity (W/m.K)\nL = 3.5                             #Thickness of plate (m)\n\n#Calculation:\nNu = c*Ra**m                        #Average Nusselt number\nh = Nu*k/L                          #Average heat transfer coefficient (W/m^2.K)\n\n#Result:\nprint \"The average heat transfer coefficient is :\",round(h,1),\" W/m^2.K .\"",
     "language": "python",
     "metadata": {},
     "outputs": [
      {
       "output_type": "stream",
       "stream": "stdout",
       "text": "The average heat transfer coefficient is : 4.6  W/m^2.K .\n"
      }
     ],
     "prompt_number": 4
    },
    {
     "cell_type": "heading",
     "level": 3,
     "metadata": {},
     "source": "ILLUSTRATIVE EXAMPLE 10.6, Page number: 167"
    },
    {
     "cell_type": "code",
     "collapsed": false,
     "input": "'''Calculate the air heat transfer film coefficient for a horizontal 6 inch diameter pipe whose surface\ntemperature is 200\u00b0F in a room containing air at 70\u00b0F.\n'''\n\nfrom math import log,e\n\n#Variable declaration:\nTs = 200.0+460.0                #Surface temperature of pipe (\u00b0R)\nToo = 70.0+460.0                #Air temperature (\u00b0R)\nD = 0.5                         #Diameter of pipe (ft)\nR = 0.73                        #Universal gas constant (ft^3.atm.R^\u22121.lb.mol^\u22121)\nP = 1.0                         #Atmospheric pressure (Pa)\nMW = 29.0                       #Molecular weight of fluid (mol)\n#From Appendix:\nmu = 1.28*10**-5                #Absolute viscosity (lb/ft.s)\nk = 0.016/3600.0                #Thermal conductivity (Btu/s.ft.\u00b0F)\ng = 32.174                      #Gravitational acceleration (ft/s^2)\n\n#Calculation:\nTav = (Ts+Too)/2                #Average temperature (\u00b0R)\nv = R*Tav/P                     #kinematic viscosity (ft^3/lbmol)\np = MW/v                        #Air density (lb/ft^3)\nB = 1.0/Tav                     #Coefficient of expansion (\u00b0R^-1)\nDT = Ts-Too                     #Temperature difference (\u00b0R)\nGr = D**3*p**2*g*B*DT/mu**2     #Grashof number\n#From equation 10.5:\nCp = 0.25                       #Air heat capacity (Btu/lb.\u00b0F)\nPr = Cp*mu/k                    #Prandtl number\nGrPr = 10**8.24                 #Rayleigh number\n#From Holman^(3):\nNu = 10**(1.5)                  #Nusselt number\nh = Nu*(k/D)*3600.0             #Air heat transfer film coefficient (Btu/h.ft.\u00b0F)\n\n#Result:\nprint \"The required air heat transfer film coefficient is :\",round(h,2),\" Btu/h.ft.\u00b0F .\"",
     "language": "python",
     "metadata": {},
     "outputs": [
      {
       "output_type": "stream",
       "stream": "stdout",
       "text": "The required air heat transfer film coefficient is : 1.01  Btu/h.ft.\u00b0F .\n"
      }
     ],
     "prompt_number": 6
    },
    {
     "cell_type": "heading",
     "level": 3,
     "metadata": {},
     "source": "ILLUSTRATIVE EXAMPLE 10.7, Page number: 168"
    },
    {
     "cell_type": "code",
     "collapsed": false,
     "input": "'''Calculate the free convection heat transfer coefficient for a plate 6 ft high and 8 ft wide at 120\u00b0F\nthat is exposed to nitrogen at 60\u00b0F.\n'''\n\n#Variable declaration:\nTs = 120.0+460                  #Surface temperature of plate (\u00b0R)\nToo = 60.0+460                  #Ambient temperature of nitrogen (\u00b0R)\nL = 6                           #Height of plate (ft)\n#From Appendix:\np = 0.0713                      #Air density (lb/ft^3)\nk = 0.01514                     #Thermal conductivity (Btu/h.ft.\u00b0F)\nv = 16.82*10**-5                #Kinematic viscosity (ft^2/s)\nPr = 0.713                      #Prandtl number\ng = 32.2                        #Gravitational acceleration (ft/s^2)\n\n#Calculation:\nTf = (Ts+Too)/2                 #Mean film temperature (\u00b0R)\nB = 1.0/Tf                      #Coefficient of expansion (\u00b0R^-1)\nGr = g*B*(Ts-Too)*L**3/v**2     #Grashof number\nRa = Gr*Pr                      #Rayleigh number\n#From equation 10.13(Table 10.2) and costants from Table 10.1:\nh = 0.10*(k/L)*Ra**(1.0/3.0)    #Free convection heat transfer coefficient (Btu/h.ft^2.\u00b0F)\n\n#Result:\nprint \"The free convection heat transfer coefficient is :\",round(h,3),\" Btu/h.ft^2.\u00b0F .\"\nprint \"There is a calculation mistake in the book for calculating 'Gr', so, value of 'h' alters from that given.\"",
     "language": "python",
     "metadata": {},
     "outputs": [
      {
       "output_type": "stream",
       "stream": "stdout",
       "text": "The free convection heat transfer coefficient is : 0.675  Btu/h.ft^2.\u00b0F .\nThere is a calculation mistake in the book for calculating 'Gr', so, value of 'h' alters from that given.\n"
      }
     ],
     "prompt_number": 7
    },
    {
     "cell_type": "heading",
     "level": 3,
     "metadata": {},
     "source": "ILLUSTRATIVE EXAMPLE 10.8, Page number: 169"
    },
    {
     "cell_type": "code",
     "collapsed": false,
     "input": "'''Calculate the heat loss in the previous example.\n'''\n\n#Variable declaration:\n#From example:\nh = 0.675                       #Free convection heat transfer coefficient (Btu/h.ft^2.\u00b0F)\nA = 6.0*8.0                     #Area of plate (ft^2)\nTs = 120.0                      #Surface temperature of plate (\u00b0F)\nToo = 60.0                      #Ambient temperature of nitrogen (\u00b0F)\n\n#Calculation:\nQ = h*A*(Ts-Too)                #Heat loss (Btu/h)\n\n#Result:\nprint \"The heat loss is :\",round(Q,-1),\" Btu/h .\"\nprint \" The 'h' obtained in the previous example differs, therefore, 'Q' obtained here also fiffers from that given in book.\"",
     "language": "python",
     "metadata": {},
     "outputs": [
      {
       "output_type": "stream",
       "stream": "stdout",
       "text": "The heat loss is : 1940.0  Btu/h .\n The 'h' obtained in the previous example differs, therefore, 'Q' obtained here also fiffers from that given in book.\n"
      }
     ],
     "prompt_number": 8
    },
    {
     "cell_type": "heading",
     "level": 3,
     "metadata": {},
     "source": "ILLUSTRATIVE EXAMPLE 10.9, Page number: 169"
    },
    {
     "cell_type": "code",
     "collapsed": false,
     "input": "'''Calculate the heat transfer from a 100-W light bulb at 113\u00b0C to 31\u00b0C ambient air. Approximate\nthe bulb as a 120-mm-diameter sphere.\n'''\n\n#Variable declaration:\nTs = 113.0+273.0                    #Surface temperature of bulb (K)\nToo = 31.0+273.0                    #Ambient air temperature (K)\nD = 0.06                            #Diameter of sphere (m)\ng = 9.8                             #Gravitational acceleration (m/s^2)\n\n#Calculation:\nTf = (Ts+Too)/2                     #Mean temperature (K)\n#From Appendix:\nv = (22.38*10**-5)*0.0929           #Kinematic viscosity (m^2/s)\nPr = 0.70                           #Prandtl number\nk = 0.01735*1.729                   #Thermal conductivity (W/m.K)\nB = 1.0/(Tf)                        #Coefficient of expansion (K^-1)\nGr = g*B*(Ts-Too)*D**3/v**2         #Grashof number\nRa = Gr*Pr                          #Rayleigh number\n\n#From equation 10.13:\nh = (k/D)*0.6*Ra**(1.0/4.0)         #Heat transferred from bulb (W/m^2.K)\n\n#Result:\nprint \"The heat transferred from bulb to air is :\",round(h,2),\" W/m^2.K .\"",
     "language": "python",
     "metadata": {},
     "outputs": [
      {
       "output_type": "stream",
       "stream": "stdout",
       "text": "The heat transferred from bulb to air is : 9.01  W/m^2.K .\n"
      }
     ],
     "prompt_number": 9
    },
    {
     "cell_type": "heading",
     "level": 3,
     "metadata": {},
     "source": "ILLUSTRATIVE EXAMPLE 10.10, Page number: 170"
    },
    {
     "cell_type": "code",
     "collapsed": false,
     "input": "'''Refer to Illustrative Example 10.9. Calculate the heat transfer lost by free convection from the\nlight bulb.\n'''\n\nfrom math import pi\n\n#Variable declaration:\n#From example 10.9:\nh = 9.01                    #Heat transferred from bulb (W/m^2.K)\nD = 0.06                    #Diameter of sphere (m)\nTs = 113.0+273.0            #Surface temperature of bulb (K)\nToo = 31.0+273.0            #Ambient air temperature (K)\n\n#Calculation:\nA = pi*D**2                 #Surface area of bulb (m^2)\nQ = h*A*(Ts-Too)            #Heat transfer lost by free convection from light bulb (W)\n\n#Result:\nprint \"The heat transfer lost by free convection from light bulb is :\",round(Q,2),\" W .\"",
     "language": "python",
     "metadata": {},
     "outputs": [
      {
       "output_type": "stream",
       "stream": "stdout",
       "text": "The heat transfer lost by free convection from light bulb is : 8.36  W .\n"
      }
     ],
     "prompt_number": 10
    },
    {
     "cell_type": "heading",
     "level": 3,
     "metadata": {},
     "source": "ILLUSTRATIVE EXAMPLE 10.11, Page number: 170"
    },
    {
     "cell_type": "code",
     "collapsed": false,
     "input": "'''With reference to Illustrative Examples 10.9\u009610.10, what percentage of the energy is lost by free\nconvection.\n'''\n\n#Variable declaration:\n#From example 10.9-10.10:\nQ = 8.36                        #Heat transfer lost by free convection from light bulb (W)\n\n#Calculation:\nE = Q/100.0*(100.0)             #Percent energy lost by free convection (%)\n\n#Result:\nprint \"The percentage of the energy lost by free convection is :\",round(E,2),\" % .\"\nprint \"The energy lost fraction is :\",round(E/100.0,4),\" .\"",
     "language": "python",
     "metadata": {},
     "outputs": [
      {
       "output_type": "stream",
       "stream": "stdout",
       "text": "The percentage of the energy lost by free convection is : 8.36  % .\nThe energy lost fraction is : 0.0836  .\n"
      }
     ],
     "prompt_number": 11
    },
    {
     "cell_type": "heading",
     "level": 3,
     "metadata": {},
     "source": "ILLUSTRATIVE EXAMPLE 10.13, Page number: 175"
    },
    {
     "cell_type": "code",
     "collapsed": false,
     "input": "'''If a waste source emits a gas with a buoyancy flux of 50 m^4/s^3, and the wind speed averages 4\nm/s, find the plume rise at a distance of 750 m downward from a stack that is 50 m high under\nunstable atmospheric conditions. Several plume rise equations are available. Use the equation\nproposed by Briggs.\nBriggs(5) used the following equations to calculate the plume rise.\nDh = 1.6F^1/3u^-1x^2/3 ; x < xf (10.23)\n= 1.6F^1/3u^-1xf^2/3 ; if x < xf\nxc = 14F^5/8 ; when F < 55m^4/s^3\n= 34F^2/5 ; when F < 55m^4/s^3\nxf = 3.5xc\nwhere Dh = plume rise, m\nF = buoyancy flux, m^4/s^3 =3 .7 x 10^-5 Q\u02d9H\nu = wind speed, m/s\nx* = downward distance, m\nxf = distance of transition from first stage of rise to the second stage of rise, m\nQ\u02d9H = heat emission rate, kcal/s\nIf the term Q\u02d9H is not available, the term F may be estimated by\nF = (g/pi)q(TS - T)/TS (10.24)\nwhere g = gravity term 9.8 m/s^2\nq = stack gas volumetric flowrate, m^3/s (actual conditions)\nTS, T = stack gas and ambient air temperature, K, respectively\n'''\n\n#Variable declaration:\nF = 50.0                        #Buoyancy flux of gas (m^4/s^3)\nu = 4.0                         #wind speed (m/s)\n\n#Calculation:\nxc = 14*F**(5.0/8.0)            #Downward distance (m)\nxf = 3.5*xc                     #distance of transition from first stage of rise to the second stage of rise (m)\nDh = 1.6*F**(1.0/3.0)*u**-1*xf**(2.0/3.0)   #Plume rise (m)\n\n#Result:\nprint \"The plume rise is :\",round(Dh),\" m .\"",
     "language": "python",
     "metadata": {},
     "outputs": [
      {
       "output_type": "stream",
       "stream": "stdout",
       "text": "The plume rise is : 101.0  m .\n"
      }
     ],
     "prompt_number": 13
    }
   ],
   "metadata": {}
  }
 ]
}