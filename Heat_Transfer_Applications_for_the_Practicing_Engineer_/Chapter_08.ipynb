{
 "metadata": {
  "name": "Chapter 08"
 },
 "nbformat": 3,
 "nbformat_minor": 0,
 "worksheets": [
  {
   "cells": [
    {
     "cell_type": "heading",
     "level": 1,
     "metadata": {},
     "source": "Chapter 8: Unsteady-State Heat Conduction"
    },
    {
     "cell_type": "heading",
     "level": 3,
     "metadata": {},
     "source": "ILLUSTRATIVE EXAMPLE 8.4, Page number: 122"
    },
    {
     "cell_type": "code",
     "collapsed": false,
     "input": "'''Refer to Illustrative Example 8.3. If TS represents saturated steam at 15 psig, the initial temperature\nTA is 71\u00b0F, and the rod is 20 inches in length of stainless steel with k = 9.1 Btu/h . ft . \u00b0F,\nr = 0.29 lb/in3, and cp = 0.12 Btu/lb . \u00b0F, calculate the temperature 0.875 inches from one of\nthe ends after 30 minutes. Note: This unit was designed by the author and is located in the Unit\nOperations Laboratory of Manhattan College.\n'''\n\nfrom math import pi,sin,e\n\n#Variable declaration:\nk = 9.1                 #Thermal coductivity of steel rod (Btu/h.ft.\u00b0F)\np = 0.29*1728           #Density of steel rod (lb/ft^3)\nCp = 0.12               #Heat capacity of steel rod (Btu/lb.\u00b0F)\nP = 15+14.7             #Absolute pressure (psia)\nTa = 71.0               #Initial temperature (\u00b0F)\nL = 20.0/12.0           #Length of rod (ft)\nt = 30.0/60.0           #Time taken (h)\nx = 0.875/12.0          #Length from one of end (ft)\n#From assumption:\nn = 1.0                 #First term\n#From tables in Appendix:\nTs = 249.7              #Saturated steam temperature (\u00b0F)\n\n#Calculation:\na = k/(p*Cp)            #Thermal diffusivity  (ft^2/s)\nT = Ts+(Ta-Ts)*(((n+1)*(-1)**2 + 1 )/pi)*e**((-a*((n*pi)/L)**2)*t)*sin((n*pi*x)/L) #Temperature 0.875 inches from one of the ends after 30 minutes (\u00b0F)\n\n#Result:\nprint \"The temperature 0.875 inches from one of the ends after 30 minutes is :\",round(T),\" \u00b0F.\"",
     "language": "python",
     "metadata": {},
     "outputs": [
      {
       "output_type": "stream",
       "stream": "stdout",
       "text": "The temperature 0.875 inches from one of the ends after 30 minutes is : 232.0  \u00b0F.\n"
      }
     ],
     "prompt_number": 4
    }
   ],
   "metadata": {}
  }
 ]
}