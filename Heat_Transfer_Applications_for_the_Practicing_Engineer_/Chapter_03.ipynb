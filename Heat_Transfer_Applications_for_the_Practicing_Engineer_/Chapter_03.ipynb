{
 "metadata": {
  "name": "Chapter 03"
 },
 "nbformat": 3,
 "nbformat_minor": 0,
 "worksheets": [
  {
   "cells": [
    {
     "cell_type": "heading",
     "level": 1,
     "metadata": {},
     "source": "Chapter 3: Process Variables"
    },
    {
     "cell_type": "heading",
     "level": 3,
     "metadata": {},
     "source": "ILLUSTRATIVE EXAMPLE 3.2, Page number: 17"
    },
    {
     "cell_type": "code",
     "collapsed": false,
     "input": "'''Convert the following:\n1. 8.03 yr to seconds (s)\n2. 150 miles/h to yards/h\n3. 100.0 m/s2 to ft/min2\n4. 0.03 g/cm3 to lb/ft3\n'''\n \n#Variable Declaration:\nQ1 = 8.03                       #Years(part 1)\nD = 365                         #Days in a year\nH = 24                          #Hours in a day\nM = 60                          #Minutes in an hour\nS = 60                          #Seconds in a minute\nQ2 = 150                        #Miles per hour(part 2)\nFM = 5280                       #Feet in a mile\nYF = 1.0/3.0                    #Yard in a feet\nQ3 = 100                        #Meter per second square(part 3)\nCmm = 100                       #Centimeter in a meter\nFC = 1.0/30.48                  #Feet in a centimeter\nSsMs = 60**2                    #Second square in a minute square\nQ4 = 0.03                       #Gram per centimeter cube (part 4)\nPG = 1.0/454.0                  #Pound  in a gram\nCF = (30.48)**3                 #Centimeter in a feet\n \n#Calculation:\nA1 = Q1*D*H*M*S                 #Seconds (s)\nA2 = Q2*FM*YF                   #Yards per hour (yd/hr)\nA3 = Q3*Cmm*FC*SsMs             #Feet per min square (ft/min^2)\nA4 = Q4*PG*CF                   #Pound per feet cube (lb/ft^3)\n \n#Results:\nprint \"1. Seconds in\",Q1,\"year is:\",round(A1/10**8,2),\" x 10**8 s\"\nprint \"2. Yards per hour in\",Q2,\"miles per hour is:\",round(A2/10**5,1),\" x 10**5 yd/h\"\nprint \"3. Feets per minute square in\",Q3,\"meter per square is:\",round(A3/10**6,3),\" x 10**6 ft/min^2\"\nprint \"4. Pounds per feet cube in\",Q4,\"gram per centimeter cube is:\",round(A4),\"lb/ft^3\"",
     "language": "python",
     "metadata": {},
     "outputs": [
      {
       "output_type": "stream",
       "stream": "stdout",
       "text": "1. Seconds in 8.03 year is: 2.53  x 10**8 s\n2. Yards per hour in 150 miles per hour is: 2.6  x 10**5 yd/h\n3. Feets per minute square in 100 meter per square is: 1.181  x 10**6 ft/min^2\n4. Pounds per feet cube in 0.03 gram per centimeter cube is: 2.0 lb/ft^3\n"
      }
     ],
     "prompt_number": 2
    },
    {
     "cell_type": "heading",
     "level": 3,
     "metadata": {},
     "source": "ILLUSTRATIVE EXAMPLE 3.3, Page number: 21"
    },
    {
     "cell_type": "code",
     "collapsed": false,
     "input": "'''Consider the following pressure calculations.\n1. A liquid weighing 100 lb held in a cylindrical column with a base area of 3 in2 exerts\nhow much pressure at the base in lbf/ft2?\n2. If a pressure reading is 35 psig (pounds per square inch gauge), what is the absolute\npressure?\n'''\n \n#Variable Declaration:\nQ1 = 32.2                   #Gravitational acceleration (ft/s^2) (part 1)\nCF = 32.2                   #Conversion factor (lb.ft/lbf.s^2)\nM = 100                     #Mass (lb)\nSA = 3                      #Surface area (in^2)\nFsIs = (1.0/12.0)**2        #Feet square in a inch square\nQ2 = 14.7                   #Atmospheric pressure (psi) (part 2)\nGP = 35                     #Gauge Pressure (psig)\n \n#Caculations:\nF = M*Q1/CF                 #Force (lbf)\nP = F/SA/FsIs               #Pressure at the base (lbf/ft^2)\nPa = GP+Q2                  #Absolute pressure (psia)\n \n#Results:\nprint \"1. Pressure at the base is:\",round(P),\"lbf/ft^2\"\nprint \"2. Absolute pressure is:\",round(Pa,1),\"psia\"",
     "language": "python",
     "metadata": {},
     "outputs": [
      {
       "output_type": "stream",
       "stream": "stdout",
       "text": "1. Pressure at the base is: 4800.0 lbf/ft^2\n2. Absolute pressure is: 49.7 psia\n"
      }
     ],
     "prompt_number": 3
    },
    {
     "cell_type": "heading",
     "level": 3,
     "metadata": {},
     "source": "ILLUSTRATIVE EXAMPLE 3.4, Page number: 23"
    },
    {
     "cell_type": "code",
     "collapsed": false,
     "input": "'''If a 55-gal tank contains 20.0 lb of water,\n1. How many pound . moles of water does it contain?\n2. How many gram . moles does it contain?\n3. How many molecules does it contain?\n'''\n \n#Variable Declaration:\nQ1 = 20.0                   #Mass (lb) (part 1)\nMH = 1.008                  #Molecular weight of H (lb/lbmol)\nMO = 15.999                 #Molecular weight of O (lb/lbmol)\nQ2 = 454                    #Gram in pound (part 2)\nQ3 = 6.023*10**23           #Avogadro nuber (part 3)\n \n#Calculations:\nMol = 2*MH+MO               #Molecular weight of water (lb/lbmol)\nA1 = Q1/Mol                 #Pound.moles of water (lbmol)\nA2 = Q1*Q2/Mol              #Gram.moles of water (gmol)\nA3 = A2*Q3                  #Molecules of water (molecules)\n \n#Results:\nprint \"1. Pound.moles of water is:\",round(A1,2),\"lbmol water\"\nprint \"2. Gram.moles of water is:\",round(A2),\"gmol water\"\nprint \"3. Molecules of water is:\",round(A3/10**26,3),\" x 10**26 molecules\"",
     "language": "python",
     "metadata": {},
     "outputs": [
      {
       "output_type": "stream",
       "stream": "stdout",
       "text": "1. Pound.moles of water is: 1.11 lbmol water\n2. Gram.moles of water is: 504.0 gmol water\n3. Molecules of water is: 3.036  x 10**26 molecules\n"
      }
     ],
     "prompt_number": 4
    },
    {
     "cell_type": "heading",
     "level": 3,
     "metadata": {},
     "source": "ILLUSTRATIVE EXAMPLE 3.5, Page number: 25"
    },
    {
     "cell_type": "code",
     "collapsed": false,
     "input": "'''The following information is given:\nSpecific gravity of liquid (methanol) = 0.92 (at 60\u00b0F)\nDensity of reference substance (water) = 62.4 lb/ft^3 (at 60\u00b0F)\nDetermine the density of methanol in lb/ft^3.\n'''\n \n#Variable declaration:\nSG = 0.92               #Specific gavity of liquid, methanol\nDW = 62.4               #Density of reference substance, water (lb/ft^3)\n \n#Calculation:\nDM = SG*DW              #Density of methanol (lb/ft^3)\n \n#Result:\nprint \"Density of methanol is:\",round(DM,1),\"lb/ft^3\"",
     "language": "python",
     "metadata": {},
     "outputs": [
      {
       "output_type": "stream",
       "stream": "stdout",
       "text": "Density of methanol is: 57.4 lb/ft^3\n"
      }
     ],
     "prompt_number": 7
    },
    {
     "cell_type": "heading",
     "level": 3,
     "metadata": {},
     "source": "ILLUSTRATIVE EXAMPLE 3.6, Page number: 27\n"
    },
    {
     "cell_type": "code",
     "collapsed": false,
     "input": "'''What is the kinematic viscosity of a gas, if the specific gravity and absolute viscosity are 0.8 and\n0.02 cP, respectively?\n'''\n \n#Variable declaration:\nSG = 0.8                    #Specific Gravity\nAV = 0.02                   #Absolute Viscosity (cP)\ncP = 1                      #Viscosity of centipoise (cP)\nVcP = 6.72 * 10**-4         #Pound per feet.sec in a centipoise (lb/ft.s)\npR = 62.43                  #Reference density (lb/ft^3)\n \n#Calculations:\nu = AV*VcP/cP               #Viscosity of gas (lb/ft.s)\np = SG*pR                   #Density of gas (lb/ft^3)\nv = u/p                     #Kinematic viscosity of gas (ft^2/s)\n \n#Result:\nprint \"Kinematic viscosity of gas is:\",round(v/10**-7,3),\"x 10**-7 ft^2/s\"",
     "language": "python",
     "metadata": {},
     "outputs": [
      {
       "output_type": "stream",
       "stream": "stdout",
       "text": "Kinematic viscosity of gas is: 2.691 x 10**-7 ft^2/s\n"
      }
     ],
     "prompt_number": 8
    },
    {
     "cell_type": "heading",
     "level": 3,
     "metadata": {},
     "source": "ILLUSTRATIVE EXAMPLE 3.7, Page number: 27"
    },
    {
     "cell_type": "code",
     "collapsed": false,
     "input": "'''To illustrate the use of a monogram, calculate the absolute viscosity of a 98% sulfuric acid\nsolution at 45\u00b0C.\n'''\n \n#Variable declaration:\nX = 7.0                     #Coordinate X of H2SO4\nY = 24.8                    #Coordinate Y of H2SO4\nS = 45                      #Slope\n \n#Calculations:\n#From the figure C.1 we found the intersection of curves mu = 12cP\nmu = 12\n \n#Results:\nprint \"Absolute viscosity of a 98% sulfuric acid solution at 45\u00b0 C is :\",mu*10**-2,\" g/cm.s\"",
     "language": "python",
     "metadata": {},
     "outputs": [
      {
       "output_type": "stream",
       "stream": "stdout",
       "text": "Absolute viscosity of a 98% sulfuric acid solution at 45\u00b0 C is : 0.12  g/cm.s\n"
      }
     ],
     "prompt_number": 9
    },
    {
     "cell_type": "heading",
     "level": 3,
     "metadata": {},
     "source": "ILLUSTRATIVE EXAMPLE 3.8, Page number: 28"
    },
    {
     "cell_type": "code",
     "collapsed": false,
     "input": "'''The following is given:\nHeat capacity of methanol = 0.61 cal/g.\u00b0C (at 60\u00b0F)\nConvert the heat capacities to English units.\n'''\n \n#Variable declaration:\nCpM = 0.61                  #Heat capacity of methanol (cal/g.\u00b0C)\nG = 454                     #Grams in a pound\nB = 1.0/252.0               #Btu in a calorie\nC = 1.0/1.8                 #Degree celsius in a degree fahrenheit\n \n#Calculation:\nCp = CpM*G*B*C              #Heat capacity in English units (Btu/lb.\u00b0F)\n \n#Result:\nprint \"Heat capacity in English units is: \",round(Cp,2),\" Btu/lb.\u00b0F\"",
     "language": "python",
     "metadata": {},
     "outputs": [
      {
       "output_type": "stream",
       "stream": "stdout",
       "text": "Heat capacity in English units is:  0.61  Btu/lb.\u00b0F\n"
      }
     ],
     "prompt_number": 10
    },
    {
     "cell_type": "heading",
     "level": 3,
     "metadata": {},
     "source": "ILLUSTRATIVE EXAMPLE 3.9, Page number: 29"
    },
    {
     "cell_type": "code",
     "collapsed": false,
     "input": "'''The following data is given:\nThermal conductivity of methanol = 0.0512 cal/m.s.\u00b0C(at 60\u00b0F)\nConvert the thermal conductivity to English units.\n'''\n \n#Variable declaration:\nkM = 0.0512                 #Thermal conductivity of methanol (cal/m.s\u00b0C)\nB = 1.0/252.0               #Btu in a calorie\nM = 0.3048                  #Meters in a feet\nS = 3600                    #Seconds in an hour\nC = 1.0/1.8                 #Degree celsius in a degree fahrenheit\n \n#Calculation:\nk = kM*B*M*S*C              #Thermal conductivity in English units (Btu/ft.h.\u00b0F)\n \n#Result:\nprint \"Thermal coductivity in English units is:\",round(k,3),\"Btu/ft.h.\u00b0F\"",
     "language": "python",
     "metadata": {},
     "outputs": [
      {
       "output_type": "stream",
       "stream": "stdout",
       "text": "Thermal coductivity in English units is: 0.124 Btu/ft.h.\u00b0F\n"
      }
     ],
     "prompt_number": 11
    },
    {
     "cell_type": "heading",
     "level": 3,
     "metadata": {},
     "source": "ILLUSTRATIVE EXAMPLE 3.11, Page number: 31"
    },
    {
     "cell_type": "code",
     "collapsed": false,
     "input": "'''Calculate the Reynolds number for a fluid flowing through a 5-inch diameter pipe at 10 fps\n(feet per second) with a density of 50 lb/ft3 and a viscosity of 0.65 cP. Is the flow turbulent\nor laminar?\n'''\n \n#Variable declaration:\nD = 5                       #Diameter of pipe (ft)\nV = 10                      #Fluid velocity (ft/s)\np = 50                      #Fluid density (lb/ft^3)\nu = 0.65                    #Fluid viscosity (lb/ft.s)\nF = 1.0/12.0                #Feet in an inch\nVCp = 6.72*10**-4           #Viscosity of centipoise (lb/ft.s)\n \n#Calculation:\nA = D*V*p*F/u/VCp           #Reynolds Number\n \n#Result:\nif(A>2100):\n    print \"The Reynolds number is :\",round(A,-2),\"; therefore, the flow is turbulent.\"\nelif(A<2100):\n     print \"The Reynolds number is :\",round(A,-2),\"; therefore, the flow is not turbulent.\"",
     "language": "python",
     "metadata": {},
     "outputs": [
      {
       "output_type": "stream",
       "stream": "stdout",
       "text": "The Reynolds number is : 477000.0 ; therefore, the flow is turbulent.\n"
      }
     ],
     "prompt_number": 13
    },
    {
     "cell_type": "heading",
     "level": 3,
     "metadata": {},
     "source": "ILLUSTRATIVE EXAMPLE 3.12, Page number: 32"
    },
    {
     "cell_type": "code",
     "collapsed": false,
     "input": "'''As part of a heat transfer course, a young environmental engineering major has been requested to\ndetermine the potential energy of water before it flows over a waterfall 10 meters in height above\nground level conditions.\n'''\n#Variable declaration:\n#For the problem at hand, take as a basis 1 kilogram of water and assume the potential energy to be zero at ground level conditions.\nz1 = 0                      #Intial height from ground level (m)\nz2 = 10                     #Final height from ground level (m)\nPE1 = 0                     #Initial potential energy at z1 (J)\nm = 1                       #Mass of water (kg)\ng = 9.8                     #Gravitational acceleration (m/s^2)\ngc = 1                      #Conversion factor\n \n#Calculations:\nPE2 = m*(g/gc)*z2           #Final potential energy at z2 (J)\n \n#Result:\nprint \"The potential energy of water is :\",PE2,\"J \"",
     "language": "python",
     "metadata": {},
     "outputs": [
      {
       "output_type": "stream",
       "stream": "stdout",
       "text": "The potential energy of water is : 98.0 J \n"
      }
     ],
     "prompt_number": 14
    }
   ],
   "metadata": {}
  }
 ]
}