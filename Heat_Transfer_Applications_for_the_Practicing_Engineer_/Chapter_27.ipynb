{
 "metadata": {
  "name": "Chapter 27"
 },
 "nbformat": 3,
 "nbformat_minor": 0,
 "worksheets": [
  {
   "cells": [
    {
     "cell_type": "heading",
     "level": 1,
     "metadata": {},
     "source": "Chapter 27: Economics and Finance"
    },
    {
     "cell_type": "heading",
     "level": 3,
     "metadata": {},
     "source": "ILLUSTRATIVE EXAMPLE 27.5, Page number: 575"
    },
    {
     "cell_type": "code",
     "collapsed": false,
     "input": "'''A heat exchanger costing $60,000 has an estimated lifetime of 9 years and a salvage value of\n$500. What uniform annual payment must be made into a fund at the end of the year to replace\nTable 27.1 Comparative Methods of Analysis\nYear    Straight-line   Double-declining    Sum-of-the-year\u2019s digits\n0           1.000           1.000               1.000\n1           0.900           0.800               0.818\n2           0.800           0.640               0.655\n3           0.700           0.512               0.510\n4           0.600           0.410               0.383\n5           0.500           0.328               0.274\n6           0.400           0.262               0.183\n7           0.300           0.210               0.110\n8           0.200           0.168               0.056\n9           0.100           0.134               0.018\n10          0.000           0.108               0.000\nthe exchanger if the fund earns 3.375%? What would be the appraisal value of the exchanger at\nthe end of the fifth year based on straight line depreciation?\n'''\n\n#Variable declaration:\ni = 0.03375                     #Rate of interest (%)\nn = 9                           #Years to the end of life (yr)\nP = 60000                       #Cost of exchanger ($)\nL = 500                         #Salvage value ($)\nx = 5                           #Time after 5 years (yr)\n\n#Calculation:\nSFDF = i/((1+i)**n-1)           #Sinking fund depreciation factor\nUAP = (P-L)*SFDF                #Uniform annual payment ($)\nB = P-((P-L)/n)*x               #Appraisal value after 5 years ($)\n\n#Result:\nprint \"1. The uniform annual payment made into the fund at the of the year is : $\",round(UAP),\" .\"\nprint \"2. The appraisal value of the exchanger at the end of the fifth year is : $\",round(B),\" .\"",
     "language": "python",
     "metadata": {},
     "outputs": [
      {
       "output_type": "stream",
       "stream": "stdout",
       "text": "1. The uniform annual payment made into the fund at the of the year is : $ 5768.0  .\n2. The appraisal value of the exchanger at the end of the fifth year is : $ 26945.0  .\n"
      }
     ],
     "prompt_number": 6
    },
    {
     "cell_type": "heading",
     "level": 3,
     "metadata": {},
     "source": "ILLUSTRATIVE EXAMPLE 27.6, Page number: 576"
    },
    {
     "cell_type": "code",
     "collapsed": false,
     "input": "'''The annual operation costs of an outdated heat exchanger/boiler system is $75,000. Under a\nproposed new design, the installation of a new system will require an initial cost of $150,000\nand an annual operating cost of $15,000 for the first five years. Determine the annualized cost for\nthe new heating system by assuming the system has only five years (n) operational life. The interest\nrate (i) is 7%. The capital recovery factor (CRF) or annual payment of a capital investment\ncan be calculated as follows:\nCRF = (A/P)i,n = i(1 + i)^n/(1 + i)^n - 1                               (27.11)\nwhere A is the annual cost and P is the present worth.\nCompare the costs for both the outdated and proposed operations.\n'''\n\nfrom __future__ import division\n\n#Variable declaration:\nC = 150000                      #Capital cost ($)\ni = 7/100                       #Interest rate\nn = 5                           #Time (yr)\nOC = 15000                      #Operating cost ($)\nA = 75000                       #Annual cost for the old process ($)\n\n#Calculation:\nCRF = (i*(1+i)**n)/((1+i)**n-1) #Capital recovery factor\nIC = CRF*C                      #Initial cost ($)\nAC = IC+OC                      #Total annualized cost ($)\n\n#Result:\nprint \"The annualized cost for the new heating system is : $\",round(AC),\" .\"\nif (AC<A):\n    print \"Since this cost is lower than the annual cost of $75,000 for the old process, the proposed plan should be implemented.\"\nelse :\n    print \"Since this cost is higher than the annual cost of $75,000 for the old process, the proposed plan should not be implemented.\"",
     "language": "python",
     "metadata": {},
     "outputs": [
      {
       "output_type": "stream",
       "stream": "stdout",
       "text": "The annualized cost for the new heating system is : $ 51584.0  .\nSince this cost is lower than the annual cost of $75,000 for the old process, the proposed plan should be implemented.\n"
      }
     ],
     "prompt_number": 7
    },
    {
     "cell_type": "heading",
     "level": 3,
     "metadata": {},
     "source": "ILLUSTRATIVE EXAMPLE 27.7, Page number: 577"
    },
    {
     "cell_type": "code",
     "collapsed": false,
     "input": "'''Plans are underway to construct and operate a commercial hazardous waste facility in\nDumpsville in the sate of Egabrag. The company is still undecided as to whether to install a\ndouble pipe or shell-and-tube heat exchanger at the plant site to recover energy. The double\npipe (DP) unit is less expensive to purchase and operate than a comparable shell-and-tube\n(ST) system. However, projected energy recover income from the ST unit is higher since it\nwill handle a larger quantity and different temperature steam.\nBased on economic and financial data provided in Table 27.2, select the heat exchanger or\nthat will yield the higher annual profit.\nCalculations should be based on an interest rate of 12% and a process lifetime of 12 years for\nboth exchangers.\nTable 27.2 Costs/Credits Data\nCosts/credits        Double pipe (DP)            Shell-and-tube (ST)\nCapital ($)          2,625,000                   2,975,000\nInstallation ($)     1,575,000                   1,700,000\nOperation ($/yr)     400,000                     550,000\nMaintenance ($/yr)   650,000                     775,000\nIncome ($/yr)        2,000,000                   2,500,000\n'''\n\nfrom __future__ import division\n\n#Variable declaration:\ni = 12/100                          #Intersest rate\nn = 12                              #Lifetime period (yr)\nCC = 2625000                        #Capital cost ($)\nIC = 1575000                        #Installation cost ($)\n#From table 27.3:\nIc1 = 2000000                       #Income credit for double pipe ($/yr)\nIc2 = 2500000                       #Income credit for Shell-and-tube ($/yr)\nAC1 = 1728000                       #Total annual cost for double pipe ($/yr)\nAC2 = 2080000                       #Total annual cost for Shell-and-tube ($/yr)\n\n#Calculation:\nCRF = i/(1-(1+i)**-n)               #Capital recovery factor\nDPc = (CC+IC)*CRF                   #Annual capital and installation costs for the DP unit ($/yr)\nSTc = (CC+IC)*CRF                   #Annual capital and installation costs for the ST unit ($/yr)\nDPp = Ic1-AC1                       #Profit for the DP unit ($/yr)\nSTp = Ic2-AC2                       #Profit for the ST unit ($/yr)\n\n#Result:\nprint \"The profit for the shell-and-tube unit is : $\",round(DPp),\"/yr .\"\nprint \"The profit for the double pipe unit is : $\",round(STp),\"/yr .\"\nif (STp>DPp):\n    print \"A shell-and-tube heat exchanger should therefore be selected based on the above economic analysis.\"\nelse :\n    print \"A double pipe heat exchanger should therefore be selected based on the above economic analysis.\"",
     "language": "python",
     "metadata": {},
     "outputs": [
      {
       "output_type": "stream",
       "stream": "stdout",
       "text": "The profit for the shell-and-tube unit is : $ 272000.0 /yr .\nThe profit for the double pipe unit is : $ 420000.0 /yr .\nA shell-and-tube heat exchanger should therefore be selected based on the above economic analysis.\n"
      }
     ],
     "prompt_number": 8
    },
    {
     "cell_type": "heading",
     "level": 3,
     "metadata": {},
     "source": "ILLUSTRATIVE EXAMPLE 27.8, Page number: 579"
    },
    {
     "cell_type": "code",
     "collapsed": false,
     "input": "'''Based on an outgrowth of a 2011 energy audit study for a new process, it is necessary to heat\n50,000 lb/h of an organic liquid form 150 to 330\u00b0F. The liquid is at a pressure of 135 psia. A\nsimple steam-heated shell-and-tube foating-head carbon steel exchanger is the preferred equipment\nchoice. Steam is available at 150 psia (135 psig) and 300 psia (285 psig). The higher\npressure steam should result in a smaller heat exchanger but the steam will cost more. Which\nsteam choice would be better?\nData:\nThe heat capacity of the organic liquid is 0.6 Btu/lb.\u00b0F.\nThe plant on-stream operation factor is expected to be 90%.\nSteam properties are:\n                                    150 psia            300 psia\nSaturation temperature, \u00b0F          358.0               417.0\nLatent heat (enthalpy), Btu/lb      863.6               809.0\nCost, $/1000 lb                     5.20                5.75\nHeat exchanger cost correlation (1998 basis):\nBase cost (BC) = 117 A^0.65\nInstallation factor (IF) = 3.29\nPressure factors (PF):\n100 to 200 psig = 1.15\n200 to 300 psig = 1.20\nCost indexes (CI):\n1998 = 230\n2011 = 360\nCapital cost (C) = (BC)(IF)(PF)(CI)\n'''\n\nfrom __future__ import division\nfrom math import log\n\n#Variable declaration:\nm = 50000                       #Mass flowrate of the organic fluid (lb/h)\ncP = 0.6                        #The heat capacity of the organic liquid (Btu/lb.\u00b0F)\nT1 = 150                        #Initial temperature of organic fluid (\u00b0F)\nT2 = 330                        #Final temperature of organic fluid (\u00b0F)\nTs1 = 358                       #Saturation temperature for 150 psia (\u00b0F)\nTs2 = 417                       #Saturation temperature for 300 psia (\u00b0F)\nL1 = 863.6                      #Latent heat for 150 psia (Btu/lb)\nL2 = 809                        #Latent heat for 300 psia (Btu/lb)\nc1 = 5.20/1000                  #Cost for 150 psia ($/lb)\nc2 = 5.75/1000                  #Cost for 300 psia ($/lb)\nCI1 = 230                       #Cost index in 1998 \nCI2 = 360                       #Cost index in 2011\nIF = 3.29                       #Installation factor\nPF1 = 1.15                      #Pressure factors for 100 to 200 psig\nPF2 = 1.20                      #Pressure factors for 200 to 300 psig\nOP = 90/100                     #Plant on-stream operation factor\nh = 365*24                      #Hours in a year (h)\n\n#Calculation:\nQ = m*cP*(T2-T1)                #Overall heta duty (Btu/h)\nDT1 = Ts1-T1                    #Temperature driving force 1 for 150 psia (\u00b0F)\nDT2 = Ts1-T2                    #Temperature driving force 2 for 150 psia (\u00b0F)\nLMTD1 = (DT1-DT2)/log(DT1/DT2)  #Log-mean temperature difference for 150 psia (\u00b0F)\nDT3 = Ts2-T1                    #Temperature driving force 1 for 300 psia (\u00b0F)\nDT4 = Ts2-T2                    #Temperature driving force 2 for 300 psia (\u00b0F)\nLMTD2 = (DT3-DT4)/log(DT3/DT4)  #Log-mean temperature difference for 1300 psia (\u00b0F)\nA1 = Q/(138*LMTD1)              #Required heat transfer area for 150 psia (ft^2)\nA2 = Q/(138*LMTD2)              #Required heat transfer area for 300 psia (ft^2)\nBC1 = 117*A1**0.65              #Base cost for 150 psia ($)\nBC2 = 117*A2**0.65              #Base cost for 13000 psia ($)\nC1 = BC1*(CI2/CI1)*IF*PF1       #Capital cost for 150 psia ($)\nC2 = BC2*(CI2/CI1)*IF*PF2       #Capital cost for 300 psia ($)\nS1 = Q*(h*OP)/L1                #Steam requirement for 150 psia (lb/yr)\nS2 = Q*(h*OP)/L2                #Steam requirement for 300 psia (lb/yr)\nSC1 = S1*c1                     #Annual steam cost for 150 psia ($/yr)\nSC2 = S2*c2                     #Annual steam cost for 300 psia ($/yr)\n\n#Result:\nprint \"1. The capital cost for 150 psia is : $\",round(C1,-3),\" .\"\nprint \"   The capital cost for 300 psia is : $\",round(C2,-3),\" .\"\nprint \"2. The annual steam cost for 150 psia is : $\",round(SC1,-3),\"/yr .\"\nprint \"   The annual steam cost for 300 psia is : $\",round(SC2,-3),\"/yr .\"\nif (C1<C2 and SC1>SC2):\n    print \"The 300-psia exchanger costs less to purchase and install, but it costs more to operate. Choosing the more expensive, 150-psia exchanger is the obvious choice.\"\nelif (C1>C2 and SC1<SC2):\n    print \"The 150-psia exchanger costs less to purchase and install, but it costs more to operate. Choosing the more expensive, 300-psia exchanger is the obvious choice.\"",
     "language": "python",
     "metadata": {},
     "outputs": [
      {
       "output_type": "stream",
       "stream": "stdout",
       "text": "1. The capital cost for 150 psia is : $ 36000.0  .\n   The capital cost for 300 psia is : $ 26000.0  .\n2. The annual steam cost for 150 psia is : $ 256000.0 /yr .\n   The annual steam cost for 300 psia is : $ 303000.0 /yr .\nThe 150-psia exchanger costs less to purchase and install, but it costs more to operate. Choosing the more expensive, 300-psia exchanger is the obvious choice.\n"
      }
     ],
     "prompt_number": 9
    },
    {
     "cell_type": "heading",
     "level": 3,
     "metadata": {},
     "source": "ILLUSTRATIVE EXAMPLE 27.9, Page number: 581"
    },
    {
     "cell_type": "code",
     "collapsed": false,
     "input": "'''Two small commercial power plant designs are under consideration. The first design involves a\ntraditional boiler (TB) and the second a fluidized fed (FB). For the TB system, the total capital\ncost (TCC_TB) is $2.5 million, the annual operating costs (AOC_TB) are $1.2 million, and the annual\nrevenue generated from the facility (R_TB) is $3.6 million. For the FB system, TCC_TB, AOC_TB and R_TB are\n$3.5, 1.4 and 5.3 million, respectively. Using straight-line depreciation and the discounted cash\nflow method, which unit is more attractive? Assume a 10-yr facility lifetime and a 2 yr construction\nperiod. Note that the solution involves the calculation of the rate of return for each of the two\nproposals.(11)\n'''\n\nfrom __future__ import division\nfrom sympy import symbols,solve\nfrom scipy.optimize import fsolve\n\n#Variable declaration:\nTCC_TB = 2500000                   #Total capital cost ($)\nR_TB = 3600000                     #R_TBevenue generated from the facility ($)\nAOC_TB = 1200000                   #Annual operating costs ($)\nTCC_FB = 3500000                   #Total capital cost ($)\nR_FB = 5300000                     #R_TBevenue generated from the facility ($)\nAOC_FB = 1400000                   #Annual operating costs ($)\nn = 10                          \t#Time of facility (yr)\n\n#Calculation:\nD = 0.1*TCC_TB                     #Depriciation ($)\nWC = 0.1*TCC_TB                    #Working capital ($)\nTI = R_TB-AOC_TB-D                 #Taxable income ($)\nIT = 0.5*TI                        #Income tax to be paid ($)\nA = R_TB-AOC_TB-IT                 #After-tax cash flow ($)\ndef eqTB(i):\n\tx = (((1+i)**n-1)/(i*(1+i)**n))*A + (1/(1+i)**n)*WC    #Equation for computing rate of return for TB unit\n\ty = WC + 0.5*TCC_TB + 0.5*TCC_TB*(1+i)**1              #Equation for computing rate of return for TB unit\n\treturn x-y\niTB = round(fsolve(eqTB,0.8)*100,1) #Rate of return for TB unit (%)\n\nD = 0.1*TCC_FB                     #Depriciation ($)\nWC = 0.1*TCC_FB                    #Working capital ($)\nTI = R_FB-AOC_FB-D                 #Taxable income ($)\nIT = 0.5*TI                        #Income tax to be paid ($)\nA = R_FB-AOC_FB-IT                 #After-tax cash flow ($)\n\ndef eqFB(i):\n\tx = (((1+i)**n-1)/(i*(1+i)**n))*A + (1/(1+i)**n)*WC    #Equation for computing rate of return for FB unit\n\ty = WC + 0.5*TCC_FB + 0.5*TCC_FB*(1+i)**1              #Equation for computing rate of return for FB unit\n\treturn x-y\niFB = round(fsolve(eqFB,0.8)*100,1) #Rate of return for FB unit (%)\n\n#Results:\nprint \"The rate of return for TB unit is:\",round(iTB),\" %.\"\nprint \"The rate of return for FB unit is:\",round(iFB,1),\" %.\"",
     "language": "python",
     "metadata": {},
     "outputs": [
      {
       "output_type": "stream",
       "stream": "stdout",
       "text": "The rate of return for TB unit is: 40.0  %.\nThe rate of return for FB unit is: 44.8  %.\n"
      }
     ],
     "prompt_number": 1
    },
    {
     "cell_type": "heading",
     "level": 3,
     "metadata": {},
     "source": "ILLUSTRATIVE EXAMPLE 27.10, Page number: 582"
    },
    {
     "cell_type": "code",
     "collapsed": false,
     "input": "'''A stream of 100,000 acfm flue gas from a utility facility is to be cooled in an air preheater. You\nhave been requested to find the best unit to install to cool the flue gas and preheat the combustion\nair feed to the boiler. A reputable vendor has provided information on the cost of three units, as\nwell as installation, operating, and maintenance costs. Table 27.4 summarizes all the data you\nhave collected. Determine what preheater you would select in order to minimize costs on an\nannualized basis.\n'''\n\n#Variable declaration:\nf = 100000                        #Flow rate of flue gas (acfm)\ni = 0.1                           #Interest rate\n#From table 27.4:\n#For finned preheater:\nac1 = 3.1                         #Equipment cost ($/acfm)\nac2 = 0.8                         #Installation cost ($/acfm)\nac3 = 0.06                        #Operating cost ($/acfm-yr)\nac4 = 14000                       #Maintenance cost ($/yr)\nan = 20                           #Lifetime (yr)\n#For 4-pass preheater:\nbc1 = 1.9                         #Equipment cost ($/acfm)\nbc2 = 1.4                         #Installation cost ($/acfm)\nbc3 = 0.06                        #Operating cost for ($/acfm-yr)\nbc4 = 28000                       #Maintenance cost ($/yr)\nbn = 15                           #Lifetime of (yr)\n#For 2-pass preheater:\ncc1 = 2.5                         #Equipment cost ($/acfm)\ncc2 = 1.0                         #Installation cost ($/acfm)\ncc3 = 0.095                       #Operating cost for ($/acfm-yr)\ncc4 = 9500                        #Maintenance cost for ($/yr)\ncn = 20                           #Lifetime of (yr)\n\n#Calculation:\n#For Finned preheater:\naEC = f*ac1                        #Total equipment cost ($)\naIC = f*ac2                        #Total installation cost ($)\naOC = f*ac3                        #Total operating cost ($)\naMC = f*ac4                        #Total maintenance cost ($)\naCRF = (i*(1+i)**an)/((1+i)**an-1) #Capital recovery factor\naAEC = aEC*aCRF                    #Equipment annual cost ($/yr)\naAIC = aIC*aCRF                    #Installation annual cost($/yr)\naAOC = ac3*f                       #Annual operating cost ($)\naAMC = ac4                         #Annual maintenance cost ($)\naTAC = aAEC+aAIC+aAOC+aAMC         #Total annual cost ($)\n\n#For 4-pass preheater:\nbEC = f*bc1                        #Total equipment cost ($)\nbIC = f*bc2                        #Total installation cost ($)\nbOC = f*bc3                        #Total operating cost ($)\nbMC = f*bc4                        #Total maintenance cost ($)\nbCRF = (i*(1+i)**bn)/((1+i)**bn-1) #Capital recovery factor\nbAEC = bEC*bCRF                    #Equipment annual cost ($/yr)\nbAIC = bIC*bCRF                    #Installation annual cost($/yr)\nbAOC = bc3*f                       #Annual operating cost ($)\nbAMC = bc4                         #Annual maintenance cost ($)\nbTAC = bAEC+bAIC+bAOC+bAMC         #Total annual cost ($)\n#For 2-pass preheater:\ncEC = f*cc1                        #Total equipment cost ($)\ncIC = f*cc2                        #Total installation cost ($)\ncOC = f*cc3                        #Total operating cost ($)\ncMC = f*cc4                        #Total maintenance cost ($)\ncCRF = (i*(1+i)**cn)/((1+i)**cn-1) #Capital recovery factor\ncAEC = cEC*cCRF                    #Equipment annual cost ($/yr)\ncAIC = cIC*cCRF                    #Installation annual cost($/yr)\ncAOC = cc3*f                       #Annual operating cost ($)\ncAMC = cc4                         #Annual maintenance cost ($)\ncTAC = cAEC+cAIC+cAOC+cAMC         #Total annual cost ($)\n\n#Result:\nprint \"Total annual cost for finned preheater is : $\",round(aTAC),\" .\"\nprint \"Total annual cost for 4-pass preheater is : $\",round(bTAC),\" .\"\nprint \"Total annual cost for 2-pass preheater is : $\",round(cTAC),\" .\"\nif (cTAC<aTAC and cTAC<bTAC):\n    print \"According to the analysis, the 2-pass exchanger is the most economically attractive device since the annual cost is the lowest.\"\nelif (bTAC<aTAC and bTAC<cTAC):\n    print \"According to the analysis, the 4-pass exchanger is the most economically attractive device since the annual cost is the lowest.\"\nelif (aTAC<cTAC and aTAC<bTAC):\n    print \"According to the analysis, the finned exchanger is the most economically attractive device since the annual cost is the lowest.\"",
     "language": "python",
     "metadata": {},
     "outputs": [
      {
       "output_type": "stream",
       "stream": "stdout",
       "text": "Total annual cost for finned preheater is : $ 65809.0  .\nTotal annual cost for 4-pass preheater is : $ 77386.0  .\nTotal annual cost for 2-pass preheater is : $ 60111.0  .\nAccording to the analysis, the 2-pass exchanger is the most economically attractive device since the annual cost is the lowest.\n"
      }
     ],
     "prompt_number": 11
    },
    {
     "cell_type": "heading",
     "level": 3,
     "metadata": {},
     "source": "ILLUSTRATIVE EXAMPLE 27.12, Page number: 584"
    },
    {
     "cell_type": "code",
     "collapsed": false,
     "input": "'''Shannon O\u2019Brien, a recent graduate from Manhattan College\u2019s prestigious chemical engineering\nprogramwas given an assignment to design the most cost-effective heat exchanger to recover\nenergy from a hot flue gas at 500\u00b0F. The design is to be based on pre-heating 1008F incoming air\n(to be employed in the boiler) to a temperature that will result in the maximum annual profit to\nthe utility. A line diagram of the proposed countercurrent exchanger is provided in Figure 27.2.\nHaving just completed a heat transfer course with Dr. Flynn and a thermodynamics course\nwith the infamous Dr. Theodore, Shannon realizes that their are two costs that need to be\nconsidered:\n1. the heat exchanger employed for energy recovery, and\n2. the \u201cquality\u201d (from an entropy perspective) of the recovered energy\u2014refer to Chapter\n20 for additional details.\nShe also notes that the higher the discharge temperature of the heated air, t, the smaller will be\nthe temperature difference driving force, and the higher the area requirement of the exchanger\nand the higher the equipment cost. Alternatively, with a higher t, the \u201cquality\u201d of the recovered\nenergy is higher, thus leading to an increase in recovered profits (by reducing fuel costs).\nBased on similar system designs, Ricci Consultants (RC) has provided the following annual\neconomic models:\nRecovered energy profit: A(t - tc); A = $/yr.\u00b0F\nExchange cost: B/(TH - t); B = $.\u00b0F/yr\nFor the above system, RC suggests a value for the coefficients in the cost model be set at:\nA = 10\nB = 100,000\nEmploying the above information, Shannon has been asked to calculate a t that will\n1. provide breakeven operation\n2. maximize profits\nShe is also required to perform the calculation if A = 10, B = 4000, and A = 10, B = 400,000.\nFinally, an analysis of the results is requested.\n'''\nfrom __future__ import division\nfrom numpy import roots\nfrom math import sqrt\n\n#Variable declaration:\nTH = 500                        #Hot stream temperature at exchanger 1 (\u00b0F)\ntc = 100                        #Cold stream temperature at exchanger 2 (\u00b0F)\nA = 10                          #Constant A\nB1 = 100000                     #Constant B1\nB2 = 4000                       #Constant B2\nB3 = 400000                     #Constant B3\n\n#Calculations:\n#It forms equation fo form t^2 - t(Th-tc) +tcTH +B/A\nt1 = roots([1, -(TH+tc),(tc*TH + B1/A) ]); #Roots\ntmax1 = TH - sqrt(B1/A)         #Upon maximising profit\nt2 = roots([1, -(TH+tc),(tc*TH + B2/A) ]); #Roots\ntmax2 = TH - sqrt(B2/A)         #Upon maximising profit\nt3 = roots([1, -(TH+tc),(tc*TH + B3/A) ]); #Roots\ntmax3 = TH - sqrt(B3/A)         #Upon maximising profit\n\n#Results:\nprint 'tBE for case 1: ',round(t1[0]),'\u00b0F',round(t1[1]),'\u00b0F'\nprint 'tmax1:', round(tmax1),'\u00b0F'\nprint 'tBE for case 2: ',round(t2[0]),'\u00b0F',round(t2[1]),'\u00b0F'\nprint 'tmax1:', round(tmax2),'\u00b0F'\nprint 'tBE for case 1: ',round(t3[0]),'\u00b0F',round(t3[1]),'\u00b0F'\nprint 'tmax1:', round(tmax3),'\u00b0F'",
     "language": "python",
     "metadata": {},
     "outputs": [
      {
       "output_type": "stream",
       "stream": "stdout",
       "text": "tBE for case 1:  473.0 \u00b0F 127.0 \u00b0F\ntmax1: 400.0 \u00b0F\ntBE for case 2:  499.0 \u00b0F 101.0 \u00b0F\ntmax1: 480.0 \u00b0F\ntBE for case 1:  300.0 \u00b0F 300.0 \u00b0F\ntmax1: 300.0 \u00b0F\n"
      }
     ],
     "prompt_number": 14
    },
    {
     "cell_type": "heading",
     "level": 3,
     "metadata": {},
     "source": "ILLUSTRATIVE EXAMPLE 27.15, Page number: 588"
    },
    {
     "cell_type": "code",
     "collapsed": false,
     "input": "'''Refer to the two previous examples. Calculate values of qA and qB that will maximize the profit\nfrom this process. Also calculate the annual (365 day basis) profit based on this condition.\n'''\n\nfrom __future__ import division\nfrom scipy.optimize import fmin_cobyla as optimize\n\n#Key:\n#f(x) : Objective Function\n#ci(x)'s : Constraints\n\n#Variable Declaration:\ndef f(x):\t\n    return -1.70*x[0] - 2*x[1]\n\ndef c1(x):\n    return 8000 - x[0]\n\ndef c2(x):\n    return 6000 - x[1]\n\ndef c3(x):\n    return 12000 - 0.75*x[0] - 0.40*x[1]\n\ndef c4(x):\n    return 6000 - 0.60*x[0] - 0.25*x[1]\n\ndef c5(x):\n    return x[0]\n\ndef c6(x):\n    return x[1]\n\n#Calculation\nX = optimize(f,[7000,6000],[c1,c2,c3,c4,c5,c6], disp = 0)\n\n#Result:\nprint \"Maximum Profit is $\",-f(X), \"/day or $\", -365*f(X), \"/year\"",
     "language": "python",
     "metadata": {},
     "outputs": [
      {
       "output_type": "stream",
       "stream": "stdout",
       "text": "Maximum Profit is $ 24750.0 /day or $ 9033750.0 /year\n"
      }
     ],
     "prompt_number": 4
    }
   ],
   "metadata": {}
  }
 ]
}