{
 "metadata": {
  "name": "Chapter 15"
 },
 "nbformat": 3,
 "nbformat_minor": 0,
 "worksheets": [
  {
   "cells": [
    {
     "cell_type": "heading",
     "level": 1,
     "metadata": {},
     "source": "Chapter 15: Double Pipe Heat Exchangers"
    },
    {
     "cell_type": "heading",
     "level": 3,
     "metadata": {},
     "source": "ILLUSTRATIVE EXAMPLE 15.2, Page number: 290"
    },
    {
     "cell_type": "code",
     "collapsed": false,
     "input": "'''The following data is provided for a double pipe heat exchanger\nQ = 12,000 Btu/h\nU = 48.0 Btu/ft^2.h.\u00b0F\nDTlm = 50\u00b0F\nCalculate the area of the exchanger.\n'''\n\n#Variable declaration:\nQ = 12000.0                     #Heat transfer rate (Btu/h)\nU = 48.0                        #Overall heat coefficient (Btu/ft^2.h.\u00b0F)\nDTlm = 50.0                     #Log mean temperature difference (\u00b0F)\n\n#Calculation:\nA = Q/(U*DTlm)                  #Area of exchanger (ft^2)\n\n#Result:\nprint \"The area of the exchanger is :\",round(A),\" ft^2 .\"",
     "language": "python",
     "metadata": {},
     "outputs": [
      {
       "output_type": "stream",
       "stream": "stdout",
       "text": "The area of the exchanger is : 5.0  ft^2 .\n"
      }
     ],
     "prompt_number": 2
    },
    {
     "cell_type": "heading",
     "level": 3,
     "metadata": {},
     "source": "ILLUSTRATIVE EXAMPLE 15.3, Page number: 291"
    },
    {
     "cell_type": "code",
     "collapsed": false,
     "input": "'''Calculate the inlet cold water temperature flowing at a rate of 14.6 lb/min in a double pipe heat\nexchanger given the following data. Assume co-current operation.\nt1 = tc,i = 63\u00b0F\nT1 = TH,i = 164\u00b0F\nT2 = TH,o = 99\u00b0F\nU = 35.35 Btu/ft.h.\u00b0F\nQ = 56,760 Btu/h\nA = 32.1 ft^2\n'''\n\nfrom sympy import symbols,solve,log\n\n#Variable declaration:\nQ = 56760                           #Heat transfer rate (Btu/h)\nU = 35.35                           #Overall heat coefficient (Btu/ft.h.\u00b0F)\nA = 32.1                            #Area of exachanger (ft^2)\nt1 = 63.0                           #Outlet cold water temperature (\u00b0F)\nT1 = 164                            #Outlet hot water temperature (\u00b0F)\nT2 = 99                             #Inlet hot water temperature (\u00b0F)\nt2 = symbols('t2')                  #Inlet cold water temperature (\u00b0F)\n\n#Calculation:\nDTlm = Q/(U*A)                      #Log mean temperature difference (\u00b0F)\ndT1 = T1-t1                         #Temperature approach at pipe outlet (\u00b0F)\ndT2 = T2-t2                         #Temperature approach at pipe inlet (\u00b0F)\nEq = (dT2-dT1)/log(dT2/dT1)-DTlm\nR = solve(Eq,t2)                    #Inlet cold water temperature (\u00b0F)\n\n#Result:\nprint \"The inlet cold water temperature is : \",round(R[0]),\" \u00b0F.\"",
     "language": "python",
     "metadata": {},
     "outputs": [
      {
       "output_type": "stream",
       "stream": "stdout",
       "text": "The inlet cold water temperature is :  79.0  \u00b0F.\n"
      }
     ],
     "prompt_number": 26
    },
    {
     "cell_type": "heading",
     "level": 3,
     "metadata": {},
     "source": "ILLUSTRATIVE EXAMPLE 15.4, Page number: 292"
    },
    {
     "cell_type": "code",
     "collapsed": false,
     "input": "'''As Shakespeare once said: \u201cSomething is rotten in the state of . . .\u201d Comment on whether the\ninformation provided in the previous example is \u201cconsistent.\u201d\n'''\n\n#Variable declaration:\nm = 14.6                         #Flow rate of water inside the tube (lb/min)\nCp = 1                           #Heat capacity of water (Btu/lb.\u00b0F)\nt2 = 79                          #Initial temperature of water (\u00b0F)\nt1 = 63                          #Final temperature of water (\u00b0F)\n#From example 15.3:\nQ1 = 56760                       #Old heat transfer rate (Btu/h)\n\n#Calculation:\nQ2 = m*Cp*(t2-t1)                #New heat transfer rate (Btu/min)\n\n#Result:\nprint \"The new heat transfer rate is :\",round(Q2),\" Btu/min.\" \nprint \"Or, the new heat transfer rate is :\",round(Q2*60),\" Btu/h.\"\nif (Q1==Q2) :\n    print \"This result agree with the Q\u02d9 provided in the problem statement. Shakespeare is wrong, nothing is rotten there.\"\nelse :\n    print \"This result does not agree with the Q\u02d9 provided in the problem statement. Shakespeare is right, something is indeed rotten.\"",
     "language": "python",
     "metadata": {},
     "outputs": [
      {
       "output_type": "stream",
       "stream": "stdout",
       "text": "The new heat transfer rate is : 234.0  Btu/min.\nOr, the new heat transfer rate is : 14016.0  Btu/h.\nThis result does not agree with the Q\u02d9 provided in the problem statement. Shakespeare is right, something is indeed rotten.\n"
      }
     ],
     "prompt_number": 8
    },
    {
     "cell_type": "heading",
     "level": 3,
     "metadata": {},
     "source": "ILLUSTRATIVE EXAMPLE 15.5, Page number: 292"
    },
    {
     "cell_type": "code",
     "collapsed": false,
     "input": "'''A heavy hydrocarbon oil with a heat capacity, cp = 0.55 Btu/lb.\u00b0F, is being cooled in a double\npipe heat exchanger from T1 = 210\u00b0F to T2 = 170\u00b0F. The oil flows inside a tube at a rate of\n8000 lb/h and the tube surface temperature is maintained at 60\u00b0F. The overall heat transfer\ncoefficient U = 63 Btu.h.ft^2.\u00b0F. Calculate the required heat transfer area, A, in ft^2.\n'''\n\nfrom math import log\n\n#Variable declaration:\nT1 = 210.0                          #Initial temperature of oil (\u00b0F)\nT2 = 170.0                          #Final temperature of oil (\u00b0F)\nT3 = 60.0                           #Surface temperature of oil (\u00b0F)\nm = 8000.0                          #Flow rate of oil inside tube (lb/h)\ncp = 0.55                           #Heat capacity of oil (Btu/lb.\u00b0F)\nU = 63.0                            #Overall heat teansfer coefficient (Btu.h.ft^2.\u00b0F)\n\n#Calculation:\nDT1 = T1-T3                         #Temperature difference 1 (\u00b0F)\nDT2 = T2-T3                         #Temperature difference 2 (\u00b0F)\nDTlm = (DT1-DT2)/log(DT1/DT2)       #Log mean temerature difference (\u00b0F)\nQ = m*cp*(T1-T2)                    #Heat transferred (Btu/h)\nA = Q/(U*DTlm)                      #Heat transfer area (ft^2)\n\n#Result:\nprint \"The required heat transfer area is :\",round(A,2),\" ft^2 .\"",
     "language": "python",
     "metadata": {},
     "outputs": [
      {
       "output_type": "stream",
       "stream": "stdout",
       "text": "The required heat transfer area is : 21.66  ft^2 .\n"
      }
     ],
     "prompt_number": 5
    },
    {
     "cell_type": "heading",
     "level": 3,
     "metadata": {},
     "source": "ILLUSTRATIVE EXAMPLE 15.6, Page number: 293"
    },
    {
     "cell_type": "code",
     "collapsed": false,
     "input": "'''Two variations of the design of a heat exchanger have been proposed. The unit is to cool a hot\nwater stream from 140\u00b0F to 110\u00b0F through indirect contact with a cold water stream that is being\nheated from 60\u00b0F to 90\u00b0F. The water flow rate is 100 lb/min and the overall heat transfer coefficient\nmay be assumed equal to 750 Btu/h.ft^2.\u00b0F. Calculate the area requirements for the following\ntwo exchanger conditions:\n1. double pipe co-current flow\n2. double pipe countercurrent flow\n'''\n\nfrom math import log\n\n#Variable declaration:\nT1 = 140.0                          #Initial temperature of hot water (\u00b0F)\nT2 = 110.0                          #Final temperature of hot water (\u00b0F)\nT3 = 60.0                           #Initial temperature of cold water (\u00b0F)\nT4 = 90.0                           #Initial temperature of cold water (\u00b0F)\nDTlm2 = 50.0                        #Log mean temerature difference for countercurrent flow, a constant (\u00b0F) (part 2)\nm = 100.0*60                        #Water flow rate (lb/h)\ncp = 1.0                            ##Heat capacity of water (Btu/lb.\u00b0F)\nU = 750.0                           #Overall heat teansfer coefficient (Btu.h.ft^2.\u00b0F)\n\n#Calculation:\nDT1 = T1-T3                         #Temperature difference 1 (\u00b0F) (part 1)\nDT2 = T2-T4                         #Temperature difference 2 (\u00b0F)\nDTlm1 = (DT1-DT2)/log(DT1/DT2)      #Log mean temerature difference (\u00b0F)\nQ = m*cp*(T1-T2)                    #Heat transferred (Btu/h)\nAp = Q/(U*DTlm1)                     #Heat transfer area for parallel flow (ft^2)\nAc = Q/(U*DTlm2)                    #Heat transfer area for counter flow (ft^2)\n\n#Result:\nprint \"1. The double pipe co-current flow is :\",round(Ap,2),\" ft^2 .\"\nprint \"1. The double pipe countercurrent flow is :\",round(Ac,2),\" ft^2 .\"",
     "language": "python",
     "metadata": {},
     "outputs": [
      {
       "output_type": "stream",
       "stream": "stdout",
       "text": "1. The double pipe co-current flow is : 5.55  ft^2 .\n1. The double pipe countercurrent flow is : 4.8  ft^2 .\n"
      }
     ],
     "prompt_number": 6
    },
    {
     "cell_type": "heading",
     "level": 3,
     "metadata": {},
     "source": "ILLUSTRATIVE EXAMPLE 15.8, Page number: 294"
    },
    {
     "cell_type": "code",
     "collapsed": false,
     "input": "'''The double pipe heat exchanger shown in Figure 15.4 is used for heating 2500 lb/h benzene\n\tfrom 60\u00b0F to 120\u00b0F. Hot water at 200\u00b0F from a boiler is available for heating purposes in\n\tamounts up to 4000 lb/h. Use schedule 40 brass pipe and an integral number of 15 foot long\n\tsections are to be employed in the design of the exchanger.\n\tThe design is to be based on achieving a Reynolds number of 13,000 (turbulent flow) in both\n\tthe inner pipe and annular region. As an additional constrain because of pressure drop consideration,\n\tthe width of the annular region must be at least equal to one fourth the outside diameter of\n\tthe inner pipe.\n\tNote that one can obtainQ\u02d9 by calculating the duty of the benzene stream, and a heat balance\n\twill yield the exit temperature of the water, Tw. However, the area or the overall heat transfer\n\tcoefficient is not known. Obtaining U becomes more complicated since information on flow\n\tvariables or a pipe diameter is not given.\n\tData is provided below for this problem, but can be estimated or obtained from Tables in the\n\tAppendix:\n\tCenzene at 90\u00b0F:\n\tmu = 0.55 cP = 3.70 x 10^-4 lb/ft.s\n\tSG = 0.879 (at 68.8\u00b0F)\n\tr = 0.879(62.4) = 54.8 lb/ft^3\n\tcp = 0.415 Ctu/lb.\u00b0F\n\tk = 0.092 Ctu/h.ft.\u00b0F (at 86\u00b0F)\n\tHater at 200\u00b0F.\n\tmu = 0.305 cP = 2.05 x 10^-4 lb/ft.s\n\tr = 60.13 lb/ft^3\n\tcp = 1.0 Btu/lb.\u00b0F\n\tk = 0.392 Btu/h.ft.\u00b0F\n'''\n\nfrom __future__ import division\nfrom math import pi,log\n\n#Variable declaration:\nuC = 3.7*10**-4                            \t    #Viscosity of benzene (lb/ft.s)\nuH = 2.05*10**-4                          \t    #Viscosity of water @200 \u00b0F (lb/ft.s)\nu2 = 2.16*10**-4 \t\t\t\t                 #Viscosity of water @192 \u00b0F (lb/ft.s)\npC = 54.8                                       #Density of benzene (lb/ft^3)\npH = 60.13                                      #Density of water (lb/ft^3)\ncpC = 0.415                                     #Specific heat capacity of benzene (Btu/lb.\u00b0F)\ncpH = 1                                         #Specific heat capacity of water (Btu/lb.\u00b0F)\nsgC = 0.879                                     \nkC = 0.092                                      #Thermal conductivity of benzene (Btu/h.ft.\u00b0F)\nkH = 0.392                                      #Thermal conductivity of water @200 \u00b0F  (Btu/h.ft.\u00b0F)\nk2 = 0.390\t\t\t\t\t                 #Thermal conductivity of water @192 \u00b0F  (Btu/h.ft.\u00b0F)\nmC = 2500\t \t\t\t                     #Flow rate of benzene (lb/s)\nmH = 4000                                       #Flow rate of water (lb/s)\nRe = 13000                                      #Reynolds number\ndTc = 120-60\t\t\t\t\t                 #Difference in temperature heating for benzene\nTw = 200\t\t\t\t                          #Temperatperature of hot water (\u00b0F)\n#For 2-inch schedule 40 pipe\nAi = 0.541                                      #Inside area of pipe (ft^2/ft)\nAo = 0.622                                      #Outside area of pipe (ft^2/ft)\nDi = 2.067                                      #Inside diameter of pipe (inch)\nDo =  2.375                                     #Outside diameter of pipe (inch)\nSi = 0.0233                                     #Inside surface area of pipe (ft^2)\ndXw = 0.128                                     #Width of pipe (ft)\n\n#For 4-inch schedule 40 pipe\nDio = 4.026                                     #Inside diameter of pipe (inch)\nDoi = Do                                        #Outside diameter of pipe (inch)\nkw = 26                                         \n\n#Calculations:\ndef St(Re,Pr):\t\t\t\t                 #Dittus Boelter equation\n\treturn 0.023*Re**-0.2*Pr**-0.667\n#For inside tubes:\nDicalc = 4*mC/(Re*pi*uC)/3600                   #Inside diameter (ft)\nmHcalc = Re*pi*uH*(Doi+Dio)/4*3600/12           #Mass flow rate of water (lb/h)\nQ = mC*cpC*dTc\t\t\t\t\t             #Heat in water (Btu/h)\ndTH = Q/mH                                      #Temperature difference of water (\u00b0F)\nTHo = Tw - dTH                                  #Outlet temperature of water (\u00b0F)\nTHav = (Tw+THo)/2                               #Average temperature of water (\u00b0F) \n#For benzene:\nPrC = cpC*uC/kC*3600                            #Prandtl number\nStC = round(St(13000, PrC),5)                   #Stanton number\nhi = StC*cpC*mC/Si                              #Heat transfer coefficient (Btu/h.ft^2.\u00b0F)\n#For water:\nReH = 4*mH/3600/(pi*u2*(Doi+Dio)/12)            #Reynolds number\nPrH = round(cpH*(u2)/k2*3600 ,2)                #Prandtl number\nStH = round(St(ReH, PrH),5)                     #Stanton number\nSann = round(pi/4*(Dio**2-Doi**2)/144,4)        #Surface area of annulus (ft^2)\nho = round(StH*cpH*mH/Sann)                     #Heat transfer coefficient (Btu/h.ft^2.\u00b0F)\n#For pipe:\nDlm = round((Do-Di)/log(Do/Di)*12,3)            #Log mean difference in diameter (ft)\nUo = 1/(Do/Di/hi + dXw*Do/kw/Dlm + 1/ho)        #Overall heat transfer coefficient (Btu/h.ft^2.\u00b0F)\ndTlm = (124.4-80)/log(124.4/80)                 #Log mean temperature difference (\u00b0F)\nL = Q/(Uo*0.622*dTlm)                           #Length of pipe (ft)\n\n#Result:\nprint 'The required length of pipe: ',round(L,1), 'ft'",
     "language": "python",
     "metadata": {},
     "outputs": [
      {
       "output_type": "stream",
       "stream": "stdout",
       "text": "The required length of pipe:  31.4 ft\n"
      }
     ],
     "prompt_number": 8
    },
    {
     "cell_type": "heading",
     "level": 3,
     "metadata": {},
     "source": "ILLUSTRATIVE EXAMPLE 15.10, Page number: 300"
    },
    {
     "cell_type": "code",
     "collapsed": false,
     "input": "'''Calculate T2 and t2 in (consistent units)\nMC = m_HcpH = 2000\nmc = m_CcpC = 1000\nU = 2000\nA = 10\nT1 = 300\nt1 = 60\nCalculate the exit temperatures if the flow is countercurrent by employing Equation (15.32).(7)\n'''\n\nfrom __future__ import division\nfrom math import e\n\n#Variable declaration:\nMC = 2000.0     \nmc = 1000.0\nU = 2000.0\nA = 10.0\nT1 = 300.0\nt1 = 60.0\n\n#Calculation:\nB = 1.0/mc \nb = 1.0/MC\nx = B/b\ny = U*(B-b)\nT2 = ((x-y)*T1 + x*(e-y)*t1)/(2*e-1)\nt2 = t1+(T1-T2)/x\n\n#Result:\nprint \"T2 = :\",round(T2),\" \u00b0F\"\nprint \"t2 = :\",round(t2),\" \u00b0F\"",
     "language": "python",
     "metadata": {},
     "outputs": [
      {
       "output_type": "stream",
       "stream": "stdout",
       "text": "T2 = : 114.0  \u00b0F\nt2 = : 153.0  \u00b0F\n"
      }
     ],
     "prompt_number": 10
    },
    {
     "cell_type": "heading",
     "level": 3,
     "metadata": {},
     "source": "ILLUSTRATIVE EXAMPLE 15.11, Page number: 301"
    },
    {
     "cell_type": "code",
     "collapsed": false,
     "input": "'''The following information is provided for a co-current flow double pipe heat exchanger. The\npipe consists of 200 ft of 2-inch schedule 40 pipe, k = 25 Btu/h.ft.\u00b0F. The hot and cold\nfilm coefficients are 1200 and 1175 Btu/h.ft^2.\u00b0F, respectively, In addition,\nMC = m_HcpH = 30,000 Btu/h.\u00b0F\nmc = m_CcpC = 22,300 Btu/h.\u00b0F\nT1 = 300 \u00b0F\nt1 = 60 \u00b0F\nCalculate T2 and t2.\n'''\n\nfrom sympy import symbols,solve,log\n\n#Variable declaration:\nh1 = 1200.0                         #Hot film coefficient (Btu/h.ft^2.\u00b0F)\nh2 = 1175.0                         #Cold film coefficient (Btu/h.ft^2.\u00b0F)\nL = 200.0                           #Length of pipe (ft)\nMC = 30000.0\nmc = 22300.0\nT1 = 300.0                          #Inlet temperature of hot fluid in pipe (\u00b0F)\nt1 = 60.0                           #Inlet temperature of cold fluid in pipe (\u00b0F)\nT2 = symbols('T2')                   #Outlet temperature of hot fluid \u00b0F\nt2 = symbols('t2')                   #Outlet temperature of cold fluid \u00b0F\n#From table 6.2:\nID = 2.067                          #Inside diameter of pipe (in)\nOD = 2.375                          #Outside diameter of pipe (in)\nDx = 0.154                          #Thickness of pipe (in)\nAi = 0.541                          #Inside sectional area of pipe (ft^2/ft)\nk = 25.0                            #Thermal conductivity of pipe (Btu/h)\n\n#Calculation:\nUi = 1.0/((1.0/h1) +(Dx/(k*12.0))+(1.0/(h2*(OD/ID))))    #Overall heat transfer coefficient (Btu/h.ft^2.\u00b0F)\nAi1 = Ai*L                          #Inside area of pipe (ft^3/ft)\nQH = MC*(T1-T2)                     #Heat transfer rate of hot fluid (Btu/h)\nQC = mc*(t2-t1)                     #Heat transfer rate of cold fluid (Btu/h)\nt2ht = 195                          #t2 by hit and trial\nx = solve(QC-QH,T2)\nT2 = x[0]\nDTlm = (T1-t1-T2+t2)/log((T1-t1)/(T2-t2))  #Log mean temperature difference (\u00b0F)\nQ = Ui*Ai1*DTlm.subs(t2,t2ht)       #Total heat transfer rate (Btu/h)\n\n#Result:\nprint \"T2 :\", round(T2.subs(t2,t2ht)),\"(\u00b0F)\"\nprint \"t2 :\", t2.subs(t2,t2ht),\"(\u00b0F)\"\nprint \"Qdot :\", round(Q/10**6) ,\"x 10**6 Btu/h\"",
     "language": "python",
     "metadata": {},
     "outputs": [
      {
       "output_type": "stream",
       "stream": "stdout",
       "text": "T2 : 200.0 (\u00b0F)\nt2 : 195 (\u00b0F)\nQdot : 3.0 x 10**6 Btu/h\n"
      }
     ],
     "prompt_number": 23
    },
    {
     "cell_type": "heading",
     "level": 3,
     "metadata": {},
     "source": "ILLUSTRATIVE EXAMPLE 15.12, Page number: 302"
    },
    {
     "cell_type": "code",
     "collapsed": false,
     "input": "'''Solve the previous example employing the equations above provided by Famularo.(7) Also calculate\nthe discharge temperature, the LMTD, and Q\u02d9 for the countercurrent case.\n'''\n\nfrom __future__ import division\nfrom math import log,e\n\n#Variable declaration:\nB = 3.33*10**-5\nb = 4.48*10**-5\n#From example 15.11:\nA = 108.2                           #Inside area of pipe (ft^3/ft)\nU = 482                             #Overall heat transfer coefficient (Btu/h.ft^2.\u00b0F)\nMC = 30000.0\nmc = 23000.0\nT1 = 300.0                          #Inlet temperature of hot fluid in pipe (\u00b0F)\nt1 = 60.0                           #Inlet temperature of cold fluid in pipe (\u00b0F)\n\n#Calculation:\n#From equation 15.28:\nT2 = ((B/b)*(e**(U*A*(B-b))-1)*t1+T1*(B/b-1))/((B/b)*e**(U*A*(B-b))-1) #Outlet temperature of hot fluid (\u00b0F)\n#From equation 15.32:\nt2 = ((b/B)*(e**(U*A*(b-B))-1)*T1+t1*(b/B-1))/((b/B)*e**(U*A*(b-B))-1) #Outlet temperature of cold fluid (\u00b0F)\nDT = ((T2-t1)-(T1-t2))/(log((T2-t1)/(T1-t2))) #Log mean difference temperature (\u00b0F)\nQ1 = U*A*DT                         #Heat transfer rate of hot fluid (Btu/h)\nQ2 = MC*(T1-T2)                     #Heat transfer rate of cold fluid (Btu/h)\n\n#Result:\nprint \"The heat load is :\",round(Q2,-3),\" Btu/h.\"",
     "language": "python",
     "metadata": {},
     "outputs": [
      {
       "output_type": "stream",
       "stream": "stdout",
       "text": "The heat load is : 4078000.0  Btu/h.\n"
      }
     ],
     "prompt_number": 27
    },
    {
     "cell_type": "heading",
     "level": 3,
     "metadata": {},
     "source": "ILLUSTRATIVE EXAMPLE 15.14, Page number: 305"
    },
    {
     "cell_type": "code",
     "collapsed": false,
     "input": "'''A double pipe heat exchanger is employed to heat 228 kg/h of water from 25 \u00b0C to 73 \u00b0C.\nWater is on the tube side and the flow is countercurrent. The heating fluid is saturated steam\nat 1 atm, with 55 kg/h of steam condensing on the annular side. No subcooling of condensed\nwater takes place. The inner pipe of the double pipe heat exchanger has an inner radius (ri,i)\nof 1.3 cm and an outer radius (ro,i) of 1.9 cm. The inner radius of the outer tube (ri,o) is 3.2\ncm. Both tubes are 0.5 % carbon steel. The overall heat transfer coefficient for the new heat\nexchanger, Uclean, was originally determined to be 3994 W/m^2.K, based on the inside area of\nthe inner pipe. After a period of use, the fouling factor, Rf, was estimated to be 0.0002 m^2.K/W.\nDetermine:\n1. the temperature profile of the water and steam along the length of the exchanger,\n2. whether the steam has enough energy to heat the water,\n3. the minimum length of the heat exchanger, and\n4. the dirty overall heat transfer coefficient.\nWater properties at the average bulk temperature (25 \u00fe 73)/2 = 49\u00b0C are: heat capacity,\ncp = 4174 J/kg.K; density, r = 993 kg/m^3; absolute viscosity, m = 6.82 x 10^-4 kg/m.s ;\nkinematic viscosity, n = 6.87 x 10^-7 m2/s, and the Prandtl number, Pr = 4.53. The properties\nof water at the \u201caverage\u201d film temperature (100 + 49)/2 = 74.9 \u00b0C are: heat capacity, cp = 4190\nJ/kg.K; density, r = 975 kg/m^3; absolute viscosity, m = 3.8 x 10^-4 kg/m.s; kinematic viscosity,\nn = 3.89 x 10^-7 m^2/s, and the Prandtl number, Pr = 2.53.\nFor saturated steam at 100\u00b0C: latent heat of condensation = 2.26 x 10^6 J/kg, vapor\ndensity = 0.596 kg/m^3. The thermal conductivity for 0.5% carbon steel at an average temperature\nof (100 + 25)/2 = 62.5 \u00b0C is k = 54 W/m.K\nAssumptions include steady-state operation, incompressible fluids, Newtonian fluids,\nconstant properties, homogeneous isotropic materials, and there are negligible heat losses.\nNotations 1 and 2 denote the water inlet and outlet, respectively, and s the stream.\n'''\n\nfrom __future__ import division\nfrom math import log,pi\n\n#Variable declaration:\nTs = 100.0                      #Saturation temperature (\u00b0C)\nt1 = 25.0                       #Initial temperature of water (\u00b0C)\nt2 = 73.0                       #Final temperature of water (\u00b0C)\nm = 228.0/3600.0                #Mass flow rate of water (kg/s)\ncp = 4174.0                     #Heat capacity of water (J/kg.K)\nm_s = 55.0/3600.0               #Mass flow rate of steam (kg/s)\nh_vap = 2.26*10**26             #Latent heat of condensation (J/kg)\nk = 54.0                        #Thermal conductivity for 0.5% carbon steel (W/m.K)\nrii = 0.013                     #Inner radius of inner pipe of the double pipe heat exchanger (m)\nroi = 0.019                     #Outer radius of inner pipe of the double pipe heat exchanger (m)\nRf = 0.0002                     #Fouling factor (m^2.K/W)\nUc = 0.00045                    #Clean overall heat transfer coefficient (W/m^2.K)\n\n#Calculation:\nDT1 = Ts-t1                     #Temperature driving force at end 1 (K)\nDT2 = Ts-t2                     #Temperature driving force at end 2 (K)\nDTlm = (DT1-DT2)/(log(DT1/DT2))   #Log mean difference temperature (\u00b0C)\nCw =m*cp                        #Capacitance rate of water (W/K)\nQ = Cw*(t2-t1)                  #Heat transfer rate (W)\nQmax1 = Cw*(Ts-t1)              #Maximum heat term from the water stream (W)\nQmax2 = m_s*h_vap               #Maximum heat term from the steam (W)\nE = Q/Qmax1                     #Effectiveness\nLmin = (Q*(log(roi/rii)))/(2*pi*k*(Ts-t1))    #Minimum required length of heat exchanger (m)\nUd = 1.0/(1.0/Uc+Rf)            #Dirty overall heat transfer coefficient (W/m^2.K)\n\n#Result:\nprint \"1. The temperature profile of the water and steam along the length of the exchanger is :\",round(DTlm),\" \u00b0C .\"\nprint \"2. Effectiveness of energy from steam to heat the water is :\",round(E,3),\" .\"\nprint \"3. The minimum length of the heat exchanger is :\",round(Lmin,3),\" m .\"\nprint \"4. The dirty overall heat transfer coefficient :\",round(Ud,5),\" W/m^2.K .\"\nprint \"5. U_dirty: \", round(1/Ud,-1),\" W/m^2.K\"",
     "language": "python",
     "metadata": {},
     "outputs": [
      {
       "output_type": "stream",
       "stream": "stdout",
       "text": "1. The temperature profile of the water and steam along the length of the exchanger is : 47.0  \u00b0C .\n2. Effectiveness of energy from steam to heat the water is : 0.64  .\n3. The minimum length of the heat exchanger is : 0.189  m .\n4. The dirty overall heat transfer coefficient : 0.00045  W/m^2.K .\n5. U_dirty:  2220.0  W/m^2.K\n"
      }
     ],
     "prompt_number": 24
    },
    {
     "cell_type": "heading",
     "level": 3,
     "metadata": {},
     "source": "ILLUSTRATIVE EXAMPLE 15.15, Page number: 308"
    },
    {
     "cell_type": "code",
     "collapsed": false,
     "input": "'''Refer to the previous example. Calculate the area and the length of the heat exchanger.'''\n\nfrom math import pi\n\n#Variable declaration:\nQ = 12700.0                 #Heat transfer rate (W)\nUd = 2220.0                 #Dirty overall heat transfer coefficient (W/m^2.K)\nDTlm = 47.0                 #Log mean difference temperature (\u00b0C)\nrii = 0.013                 #Inner radius of inner pipe of the double pipe heat exchanger (m)\n#Calculation:\nA = Q/(Ud*DTlm)             #Heat transfer area (m^2)\nL = A/(2*pi*rii)            #Tube length (m)\n\n#Result:\nprint \"The heat transfer area is :\",round(A,4),\" m^2 .\"\nprint \"The length of the heat exchanger is :\",round(L,2),\" m .\"",
     "language": "python",
     "metadata": {},
     "outputs": [
      {
       "output_type": "stream",
       "stream": "stdout",
       "text": "The heat transfer area is : 0.1217  m^2 .\nThe length of the heat exchanger is : 1.49  m .\n"
      }
     ],
     "prompt_number": 15
    },
    {
     "cell_type": "heading",
     "level": 3,
     "metadata": {},
     "source": "ILLUSTRATIVE EXAMPLE 15.16, Page number: 308"
    },
    {
     "cell_type": "code",
     "collapsed": false,
     "input": "'''With reference to Illustrative Example 15.14, calculate the number of transfer units (NTU) of the\nexchanger.\n'''\n\n#Variable declaration:\nUd = 2220.0                 #Dirty overall heat transfer coefficient (W/m^2.K)\nA = 0.1217                  #Heat transfer area (m^2)\nCw = 264.0                  #Capacitance rate of water (W/K)\n\n#Calculation:\nNTU = (Ud*A)/Cw             #Number of transfer units of the exchanger\n\n#Result:\nprint \"The number of transfer units (NTU) of the exchanger is :\",round(NTU,2),\" .\"",
     "language": "python",
     "metadata": {},
     "outputs": [
      {
       "output_type": "stream",
       "stream": "stdout",
       "text": "The number of transfer units (NTU) of the exchanger is : 1.02  .\n"
      }
     ],
     "prompt_number": 16
    },
    {
     "cell_type": "heading",
     "level": 3,
     "metadata": {},
     "source": "ILLUSTRATIVE EXAMPLE 15.18, Page number: 309"
    },
    {
     "cell_type": "code",
     "collapsed": false,
     "input": "'''In 1975, Arthur Andrews(10)\u2014achemical engineering senior at Manhattan College\u2014conducted\na double pipe heat exchanger experiment in the Unit Operations Laboratory. Some of the\nTable 15.4 Wilson Method Information: Illustrative Example 15.18\nRun     l/Uo Ao, \u00b0F.h/Btu       T, \u00b0F Average temperature           l/V, h/ft\n1        1.2176 x 10^-3              124.5                       2.29 x 10^-4\n2        0.9454 x 10^-3              125                         1.65 x 10^-4\n3        0.9366 x 10^-3              129                         1.29 x 10^-4\n4        0.8618 x 10^-3              121.5                       1.117 x 10^-4\n5        0.7966 x 10^-3              122                         0.962 x 10^-4\nco-current flow data and calculations submitted are presented in Table 15.4. Employing\nAndrew\u2019s data and Wilson\u2019s method, estimate ho for the exchanger fluid. For this lab unit\n(see Figure 15.1), Ao = 1.85 ft^2.\n'''\n\n#Variable declaration:\nAo = 1.85                           #Area of heat exchanger (ft^2)\n\n#Calculation:\n#From figure 15.6:\ny = 0.560*10**-3                    #Intercept 1/UoAo (\u00b0F.h/Btu)\nho = 1.0/(Ao*y)                     #Thermal conductivity for heat exchanger (Btu/h.ft^2.\u00b0F)\n\n#Result:\nprint \"Thermal conductivity for the heat exchanger is :\",round(ho),\" Btu/h.ft^2.\u00b0F .\"",
     "language": "python",
     "metadata": {},
     "outputs": [
      {
       "output_type": "stream",
       "stream": "stdout",
       "text": "Thermal conductivity for the heat exchanger is : 965.0  Btu/h.ft^2.\u00b0F .\n"
      }
     ],
     "prompt_number": 18
    },
    {
     "cell_type": "heading",
     "level": 3,
     "metadata": {},
     "source": "ILLUSTRATIVE EXAMPLE 15.19, Page number: 310"
    },
    {
     "cell_type": "code",
     "collapsed": false,
     "input": "'''Another experiment(11) on the double pipe heat exchanger in the Unit Operation Laboratory at\nManhattan College produced the following data and calculated results for U (overall heat transfer\ncoefficient) and m\u02d9C (inside cold water flow rate); see Table 15.5.\nTable 15.5 Wilson Experiment Data and Results\nU, Btu/h.ft^2.\u00b0F        m\u02d9C, lb/h          m_C^-0.8\n687.98                  500.97              144.49\n740.74                  1001.94             251.58\n748.10                  1502.90             347.97\n757.08                  2003.87             438.02\n756.31                  2204.26             472.73\nUsing the Wilson method, estimate the outside fluid film coefficient. Once again, neglect the\neffects of scale and pipe wall.\n'''\n\n#Variable declaration:\n#From figure 15.7:\na = 0.00126\nb = 0.0276\n\n#Calculation:\nho = 1.0/a                          #The value of ho (Btu/h.ft^2.\u00b0F)\n\n#Result:\nprint \"Thermal conductivity is :\",round(ho),\" Btu/h.ft^2.\u00b0F .\"",
     "language": "python",
     "metadata": {},
     "outputs": [
      {
       "output_type": "stream",
       "stream": "stdout",
       "text": "Thermal conductivity is : 794.0  Btu/h.ft^2.\u00b0F .\n"
      }
     ],
     "prompt_number": 19
    },
    {
     "cell_type": "heading",
     "level": 3,
     "metadata": {},
     "source": "ILLUSTRATIVE EXAMPLE 15.20, Page number: 311"
    },
    {
     "cell_type": "code",
     "collapsed": false,
     "input": "'''Refer to the previous illustrative example. Perform the same calculation but include the resistance\nassociated with the tube (Admiralty metal) if the inside and outside diameters are 1.00 and\n0.902 in, respectively; k for the tube is 60 Btu/h.ft^2.\u00b0F.\nTable 15.6 Wilson Experiment Data and Results\nU, Btu/h.ft^2.\u00b0F    1/U, h.ft^2.\u00b0F      m\u02d9C, lb/h      m_C^0.8      m_C^-0.8\n687.98              0.0014535           500.97          144.49      0.00692071\n740.74              0.00135             1001.94         251.58      0.003974904\n748.10              0.0013367           1502.90         347.97      0.002873796\n757.08              0.0013209           2003.87         438.02      0.002282992\n756.31              0.0013222           2204.26         472.73      0.002115387\n'''\n\n#Variable declaration:\nDi = 0.902/12.0                     #Inside diameter of tube (ft)\nDo = 1.0/12.0                       #Outside diameter of tube (ft)\nk = 60.0                            #Thermal conductivity of tube (Btu/h.ft^2.\u00b0F)                         \n\n#Calculation:\n#From example 15.19:\na = 0.00126\nDr = (Do - Di)/2.0                  #Radial thickness of tube wall  (ft)\nRw = Dr/k                           #Resistance of wall (Btu/h.\u00b0F)\nho = 1.0/(a-Rw)                     #The revised ho (Btu/h.ft^2.\u00b0F)\n\n#Result:\nprint \"The revised ho is :\",round(ho),\" Btu/h.ft^2.\u00b0F .\"",
     "language": "python",
     "metadata": {},
     "outputs": [
      {
       "output_type": "stream",
       "stream": "stdout",
       "text": "The revised ho is : 839.0  Btu/h.ft^2.\u00b0F .\n"
      }
     ],
     "prompt_number": 20
    },
    {
     "cell_type": "heading",
     "level": 3,
     "metadata": {},
     "source": "ILLUSTRATIVE EXAMPLE 15.21, Page number: 312"
    },
    {
     "cell_type": "code",
     "collapsed": false,
     "input": "'''Data from experiments based on Wilson\u2019s method produced the following results.\nClean tube:\n1/Uclean = 0.00044 + 0.0050/(m\u02d9)0.8\n\nTube with scale:\n1/Udirty = 0.00089 +0.0050/(m\u02d9)0.8\nCalculate the scale film coefficient if the wall resistance can be neglected.\n'''\n\n#Variable declaration:\na1 = 0.00044                #Term 'a' for U_clean\na2 = 0.00089                #Term 'a' for U_dirty\n\n#Calculation:\nRs = a2 - a1                #Resistance associated with the scale\nhs = 1.0/Rs                 #Scale film coefficient (Btu/h.ft^2.\u00b0F)\n\n#Result:\nprint \"The scale film coefficient neglecting the wall resistance is:\",round(hs),\" Btu/h.ft^2.\u00b0F .\"",
     "language": "python",
     "metadata": {},
     "outputs": [
      {
       "output_type": "stream",
       "stream": "stdout",
       "text": "The scale film coefficient neglecting the wall resistance is: 2222.0  Btu/h.ft^2.\u00b0F .\n"
      }
     ],
     "prompt_number": 21
    }
   ],
   "metadata": {}
  }
 ]
}