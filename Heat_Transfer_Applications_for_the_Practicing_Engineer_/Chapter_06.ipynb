{
 "metadata": {
  "name": "Chapter 06"
 },
 "nbformat": 3,
 "nbformat_minor": 0,
 "worksheets": [
  {
   "cells": [
    {
     "cell_type": "heading",
     "level": 1,
     "metadata": {},
     "source": "Chapter 6: Heat Exchanger Pipes and Tubes"
    },
    {
     "cell_type": "heading",
     "level": 3,
     "metadata": {},
     "source": "ILLUSTRATIVE EXAMPLE 6.1, Page number: 73"
    },
    {
     "cell_type": "code",
     "collapsed": false,
     "input": "'''Obtain the inside diameter in inches of 2 inch schedule 40 nominal steel pipe.\n'''\n\n#Variable declaration:\nNPS = 2                     #Nominal pipe size (inch)\nSN = 40                     #Schedule number\n\n#Calculation:\n#From Table 6.2, we obtain that the inside diameter of steel pipe is ID = 2.067 in.\nID = 2.067\n\n#Result:\nprint \"The inside diameter of steel pipe is :\",ID,\" in.\"",
     "language": "python",
     "metadata": {},
     "outputs": [
      {
       "output_type": "stream",
       "stream": "stdout",
       "text": "The inside diameter of steel pipe is : 2.067  in.\n"
      }
     ],
     "prompt_number": 1
    },
    {
     "cell_type": "heading",
     "level": 3,
     "metadata": {},
     "source": "ILLUSTRATIVE EXAMPLE 6.2, Page number: 73"
    },
    {
     "cell_type": "code",
     "collapsed": false,
     "input": "'''Determine the inside diameter (ID), outside diameter (OD), wall thickness, and pipe weight\n(in lb/ft) of 3 inch schedule 40 steel pipe.\n'''\n\n#Variable declaration:\nNPS = 3                     #Nominal pipe size (inch)\nSN = 40                     #Schedule number\n\n#Calculation:\n#From Table 6.2, we obtain that the inside diameter of steel pipe is ID = 3.068 in, outside diameter OD = 3.5 in, wal thickness WT = 0.216 in, and pipe weight PW = 7.58 lb/ft.\nID = 3.068\nOD = 3.5\nWT = 0.216\nPW = 7.58\n\n#Result:\nprint \"The inside diameter of steel pipe is :\",ID,\" in\"\nprint \"The outside diameter of steel pipe is :\",OD,\" in\"\nprint \"The wall thickness of steel pipe is :\",WT,\" in\"\nprint \"The weight of steel pipe is :\",PW,\" lb/ft.\"",
     "language": "python",
     "metadata": {},
     "outputs": [
      {
       "output_type": "stream",
       "stream": "stdout",
       "text": "The inside diameter of steel pipe is : 3.068  in\nThe outside diameter of steel pipe is : 3.5  in\nThe wall thickness of steel pipe is : 0.216  in\nThe weight of steel pipe is : 7.58  lb/ft.\n"
      }
     ],
     "prompt_number": 2
    },
    {
     "cell_type": "heading",
     "level": 3,
     "metadata": {},
     "source": "ILLUSTRATIVE EXAMPLE 6.3, Page number: 73"
    },
    {
     "cell_type": "code",
     "collapsed": false,
     "input": "'''The following information is provided for a steel pipe:\nID = 0.957 in\nOD = 1.315 in\nWall thickness = 0.179 in\nPipe weight = 2.17 lb/ft\nDetermine the nominal size and schedule number of the pipe.\n'''\n\n#Variable declaration:\nID = 0.957                  #Inside diameter of pipe (in)\nOD = 1.315                  #Outside diameter of pipe (in)\nWT = 0.179                  #Wall thickness of pipe (in)\nPW = 2.17                   #Weight of pipe (lb/ft)\n\n#Calculation:\n#From Table 6.2, it indicates that the steel pipe is 1 inch schedule 80.\nNSP = 1\nSN = 80\n\n#Result:\nprint \"The nominal size of the pipe is :\",NSP,\" in.\"\nprint \"The schedule number of the pipe is:\",SN,\".\"",
     "language": "python",
     "metadata": {},
     "outputs": [
      {
       "output_type": "stream",
       "stream": "stdout",
       "text": "The nominal size of the pipe is : 1  in.\nThe schedule number of the pipe is: 80 .\n"
      }
     ],
     "prompt_number": 3
    },
    {
     "cell_type": "heading",
     "level": 3,
     "metadata": {},
     "source": "ILLUSTRATIVE EXAMPLE 6.4, Page number: 75"
    },
    {
     "cell_type": "code",
     "collapsed": false,
     "input": "'''Determine the inside diameter, wall thickness, outside diameter, and external area per foot (EA)\nof a 3/4 inch 16 BWG tube.\n'''\n\n#Variable declaration:\nS = 3/4                         #Tube size (in)\nBWG = 16                        #Birmingham Wire Gauge number (gauge)\n\n#calculation:\n#From table 6.3, we get:\nID = 0.620                      #Internal diameter of tube (in)\nWT = 0.065                      #Wall thickness of tube (in)\nOD = ID+2*WT                    #Outside diameter of tube (in)\nEA = 0.1963                     #External area per foot (ft)\n\n#Result:\nprint \"The inside diameter is :\",ID,\" in\"\nprint \"The wall thickness is :\",WT,\" in\"\nprint \"The outside diamater is :\",OD,\" in\"\nprint \"The external area per foot per foot :\",EA,\" ft.\"",
     "language": "python",
     "metadata": {},
     "outputs": [
      {
       "output_type": "stream",
       "stream": "stdout",
       "text": "The inside diameter is : 0.62  in\nThe wall thickness is : 0.065  in\nThe outside diamater is : 0.75  in\nThe external area per foot per foot : 0.1963  ft.\n"
      }
     ],
     "prompt_number": 4
    },
    {
     "cell_type": "heading",
     "level": 3,
     "metadata": {},
     "source": "ILLUSTRATIVE EXAMPLE 6.11, Page number: 81"
    },
    {
     "cell_type": "code",
     "collapsed": false,
     "input": "'''An air-conditioning duct has a rectangular cross-section of 1 m by 0.25 m. If the kinematic viscosity\nof the air is approximately 1 x 10**-5 m2/s, determine the maximum air velocity before\nthe flow becomes turbulent. Assume the critical Reynolds number is 2300.\n'''\n\n#Variable declaration:\na = 1                           #Length of cross-section (m)\nb = 0.25                        #Width of cross-section (m)\nv = 1*10**-5                    #Kinematic viscosity of air (m^2/s)\nRe = 2300.0                     #Reynolds Number\ncm = 100                        #Cenitmeters in a meter\n\n#Calculation:\nDh = 2*a*b/(a+b)                #Hydraulic diameter of duct (m)\nV = Re*v/Dh*cm                  #Maximum air velocity (cm/s)\n\n#Result:\nprint \"The maximum air velocity before the flow becomes turbulent is :\",round(V,1),\" cm/s.\"",
     "language": "python",
     "metadata": {},
     "outputs": [
      {
       "output_type": "stream",
       "stream": "stdout",
       "text": "The maximum air velocity before the flow becomes turbulent is : 5.8  cm/s.\n"
      }
     ],
     "prompt_number": 11
    },
    {
     "cell_type": "heading",
     "level": 3,
     "metadata": {},
     "source": "ILLUSTRATIVE EXAMPLE 6.12, Page number: 82"
    },
    {
     "cell_type": "code",
     "collapsed": false,
     "input": "'''A circular 2-inch diameter horizontal tube contains a cold liquid fluid of density and viscosity\n70 lb/ft3 and 0.1806 lb/ft . s, respectively. If, the flow rate is 0.486 ft3/s, determine if the flow\nis laminar.\n'''\n\n#Variable declaration:\nq = 0.486                       #Flow rate of fluid (ft^3/s)\nD = 2.0/12.0                    #Diameter of tube in feet (ft)\npi = 3.14                       #Value of pi\np = 70.0                        #Density of fluid (lb/ft^3)\nu = 0.1806                      #Viscosity of fluid (lb/ft)\n\n#Calculation:\nV = 4*q/pi/D**2                 #Flow velocity (ft/s)\nRe = D*V*p/u                    #Reynolds Number\n\n#Result:\nif(Re<2100):\n    print \"The flow is laminar.\"\nelif(Re>2100):\n    print \"The flow is turbulant.\"",
     "language": "python",
     "metadata": {},
     "outputs": [
      {
       "output_type": "stream",
       "stream": "stdout",
       "text": "The flow is laminar.\n"
      }
     ],
     "prompt_number": 12
    },
    {
     "cell_type": "heading",
     "level": 3,
     "metadata": {},
     "source": "ILLUSTRATIVE EXAMPLE 6.13, Page number: 82"
    },
    {
     "cell_type": "code",
     "collapsed": false,
     "input": "'''Refer to Illustrative Example 6.12. How long must the pipe be to ensure a fully developed flow?'''\n\n#Variable declaration:\n#From example 6.12, we have:\nD = 2.0/12.0                    #Diameter of pipe in feet (ft)\nRe = 1440.0                     #Reynolds number\n\n#Calculation:\nLc = 0.05*D*Re                  #Length of pipe (ft)\n\n#Result:\nprint \"The pipe length to ensure a fully developed flow is:\",Lc,\" ft.\"\nprint \"This is an abnormally long calming length for a pipe (or tube) in a heat exchanger.\"",
     "language": "python",
     "metadata": {},
     "outputs": [
      {
       "output_type": "stream",
       "stream": "stdout",
       "text": "The pipe length to ensure a fully developed flow is: 12.0  ft.\nThis is an abnormally long calming length for a pipe (or tube) in a heat exchanger.\n"
      }
     ],
     "prompt_number": 22
    },
    {
     "cell_type": "heading",
     "level": 3,
     "metadata": {},
     "source": "ILLUSTRATIVE EXAMPLE 6.14, Page number: 82"
    },
    {
     "cell_type": "code",
     "collapsed": false,
     "input": "'''Calculate the average velocity of water flowing in a 2-inch schedule 40 standard pipe at 608F for\nwhich the flow is viscous (laminar).\n'''\n\n#Variable declaration:\nu = 6.72*10**-4                     #Viscosity of water (lb/ft.s)\np = 62.4                            #Density of water (lb/ft^3)\n#For laminar flow:\nRe = 2100.0                        #Reynolds number\n#From table 6.2, we have:\nD = 2.067/12.0                      #Inside diameter of pipe (ft)\n\n#Calculation:\nV = Re*u/D/p                        #Average velocity of water flowing (ft/s)\n\n#Result:\nprint \"The average velocity of water flowing is:\",round(V,2),\" ft/s.\"",
     "language": "python",
     "metadata": {},
     "outputs": [
      {
       "output_type": "stream",
       "stream": "stdout",
       "text": "The average velocity of water flowing is: 0.13  ft/s.\n"
      }
     ],
     "prompt_number": 14
    }
   ],
   "metadata": {}
  }
 ]
}