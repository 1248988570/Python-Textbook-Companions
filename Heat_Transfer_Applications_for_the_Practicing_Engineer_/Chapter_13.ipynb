{
 "metadata": {
  "name": "Chapter 13"
 },
 "nbformat": 3,
 "nbformat_minor": 0,
 "worksheets": [
  {
   "cells": [
    {
     "cell_type": "heading",
     "level": 1,
     "metadata": {},
     "source": "Chapter 13: Refrigeration and Cryogenics"
    },
    {
     "cell_type": "heading",
     "level": 3,
     "metadata": {},
     "source": "ILLUSTRATIVE EXAMPLE 13.1, Page number: 237"
    },
    {
     "cell_type": "code",
     "collapsed": false,
     "input": "'''The vertical flat walls of the combustion chamber of a furnace consist of 7.5 in of refractory,\nkR = 0.75; 3 in of insulation, kI = 0.08; and 0.25 in of steel, kS = 26.0. The units of k are\nBtu/h.ft.\u00b0F. The average surface temperature of the inner face of the refractory and the outer\nface of the steel are 2000\u00b0F and 220\u00b0F, respectively.\nCalculate the heat loss expressed as Btu/h.ft^2.\n'''\n\n#Variable declaration:\nLR = 7.5/12.0                           #Thickness of refractory (ft)\nLI = 3.0/12.0                           #Thickness of insulation (ft)\nLS = 0.25/12.0                          #Thickness of steel (ft)\nkR = 0.75                               #Thermal conductivity of refractory\nkI = 0.08                               #Thermal conductivity of insulation\nkS = 26.0                               #Thermal conductivity of steel\nTR = 2000.0                             #Average surface temperature of the inner face of the refractory (\u00b0F)\nTS = 220.0                              #Average surface temperature of the outer face of the steel (\u00b0F)\n\n#Calculation:\nDT = TR-TS                              #Temperature difference (\u00b0F)\nQ = DT/(LR/kR+LI/kI+LS/kS)              #Heat loss (Btu/h.ft^2)(here representing Qdot/A)\n\n#Result:\nprint \"The heat loss is :\",round(Q),\" Btu/h.ft^2 .\"",
     "language": "python",
     "metadata": {},
     "outputs": [
      {
       "output_type": "stream",
       "stream": "stdout",
       "text": "The heat loss is : 450.0  Btu/h.ft^2 .\n"
      }
     ],
     "prompt_number": 2
    },
    {
     "cell_type": "heading",
     "level": 3,
     "metadata": {},
     "source": "ILLUSTRATIVE EXAMPLE 13.2, Page number: 239"
    },
    {
     "cell_type": "code",
     "collapsed": false,
     "input": "'''For the combustion chamber of the furnace in the previous example, calculate the temperature of\nthe boundary where the refractory meets the insulation, TI.\n'''\n\n#Variable declaration:\nLR = 7.5/12.0                           #Thickness of refractory (ft)\nkR = 0.75                               #Thermal conductivity of refractory\nTR = 2000.0                             #Average surface temperature of the inner face of the refractory (\u00b0F)\nQ = 450.0                               #Heat loss (Btu/h.ft^2)\n\n#Calculation:\nTI = TR - Q*(LR/kR)                     #Temperature of the boundary where the refractory meets the insulation (\u00b0F)\n\n#Result:\nprint \"The temperature of the boundary where the refractory meets the insulation is :\",round(TI),\" \u00b0F .\"",
     "language": "python",
     "metadata": {},
     "outputs": [
      {
       "output_type": "stream",
       "stream": "stdout",
       "text": "The temperature of the boundary where the refractory meets the insulation is : 1625.0  \u00b0F .\n"
      }
     ],
     "prompt_number": 3
    },
    {
     "cell_type": "heading",
     "level": 3,
     "metadata": {},
     "source": "ILLUSTRATIVE EXAMPLE 13.3, Page number: 239"
    },
    {
     "cell_type": "code",
     "collapsed": false,
     "input": "'''Using the scenario described in Illustrative Examples 13.1 and 13.2, calculate the area available\nfor heat transfer if the total heat loss is 70,000 Btu/h.\n'''\n\n#Variable declaration:\nQbyA = 70000.0                    #Total heat loss (Btu/h)\nQ = 450.0                       #Heat loss (Btu/h.ft^2)\n\n#Calculation:\nA = QbyA/Q                        #Area available for heat transfer (ft^2)\n\n#Result:\nprint \"The area available for heat transfer is :\",round(A,1),\" ft^2 .\"",
     "language": "python",
     "metadata": {},
     "outputs": [
      {
       "output_type": "stream",
       "stream": "stdout",
       "text": "The area available for heat transfer is : 155.6  ft^2 .\n"
      }
     ],
     "prompt_number": 4
    },
    {
     "cell_type": "heading",
     "level": 3,
     "metadata": {},
     "source": "ILLUSTRATIVE EXAMPLE 13.9, Page number: 245"
    },
    {
     "cell_type": "code",
     "collapsed": false,
     "input": "'''A refrigerator\u2019s evaporator is at 0.2 MPa and has a working fluid that enters the unit as liquid\nwith an enthalpy, hin, of 230 kJ/kg. If the refrigerator\u2019s working fluid (see Table 13.3) exits\nthe evaporator as dry and saturated vapor, calculate the heat absorbed by the evaporator, QC.\nTable 13.3 Fluid Data for Illustrative Example 13.9\nP, MPa  Tsat, \u00b0C    hf, kJ/kg   hg, kJ/kg,  h at 20\u00b0C superheated, kJ/kg\n0.2     210         190         390         410\n0.6     20          230         410         430\n'''\n\n#Variable declaration:\nh_out = 390.0                   #Enthalpy of the fluid that exits from the evaporator (kJ/kg)\nh_in = 230.0                    #Enthalpy of the fluid that enters the unit (kJ/kg)\n\n#Calculation:\nQC = h_out - h_in               #Heat absorbed by the evaporator (kJ/kg)\n\n#Result:\nprint \"The heat absorbed by the evaporator is :\",round(QC),\" kJ/kg .\"",
     "language": "python",
     "metadata": {},
     "outputs": [
      {
       "output_type": "stream",
       "stream": "stdout",
       "text": "The heat absorbed by the evaporator is : 160.0  kJ/kg .\n"
      }
     ],
     "prompt_number": 10
    },
    {
     "cell_type": "heading",
     "level": 3,
     "metadata": {},
     "source": "ILLUSTRATIVE EXAMPLE 13.10, Page number: 246"
    },
    {
     "cell_type": "code",
     "collapsed": false,
     "input": "'''As a follow-up to Illustrative Example 13.9, what is the fluid\u2019s change in entropy across the\nevaporator?\n'''\n\n#Variable declaration:\n#From example 13.9:\nTS = -10.0+273.0                    #Fluid\u2019s saturation temperature expressed in Kelvin (K)\nQC = 160.0                          #Heat absorbed by the evaporator (kJ/kg)\n\n#Calcuation:\nDS = QC/TS                          #Fluid\u2019s change in entropy(kJ/kg.K)\n\n#Result:\nprint \"The fluid's change in entropy across the evaporator is :\",round(DS,2),\" kJ/kg.K .\"",
     "language": "python",
     "metadata": {},
     "outputs": [
      {
       "output_type": "stream",
       "stream": "stdout",
       "text": "The fluid's change in entropy across the evaporator is : 0.61  kJ/kg.K .\n"
      }
     ],
     "prompt_number": 11
    },
    {
     "cell_type": "heading",
     "level": 3,
     "metadata": {},
     "source": "ILLUSTRATIVE EXAMPLE 13.11, Page number: 247"
    },
    {
     "cell_type": "code",
     "collapsed": false,
     "input": "'''The working fluid in a refrigerator enters a compressor at dry-saturated conditions at a pressure\nof 0.2 MPa and exits the compressor 20\u00b0C superheated at a pressure of 0.6 MPa. Given the fluid\ndata from Illustrative Example 13.9, and given that the fluid leaves the condenser wet-saturated,\nwhat is the heat absorbed by the evaporator of the refrigerator?\n'''\n\n#Variable declaration:\n#From figure 13.2:\nh1 = 390.0                      #Fluid enthalpy on entering the compressor (kJ/kg)\nh2 = 430.0                      #Fluid enthalpy on leaving the compressor (kJ/kg)\nh3 = 230.0                      #Fluid enthalpy on leaving the condenser (kJ/kg)\n\n#Calculation:\nQH = h2 - h3                    #Heat rejected from the condenser (kJ/kg)\nW_in = h2 - h1                  #Change in enthalpy across the compressor (kJ/kg)\nQC = QH - W_in                  #Heat absorbed by the evaporator (kJ/kg)\n\n#Result:\nprint \"The heat absorbed by the evaporator of the refrigerator is :\",round(QC),\" kJ/kg .\"",
     "language": "python",
     "metadata": {},
     "outputs": [
      {
       "output_type": "stream",
       "stream": "stdout",
       "text": "The heat absorbed by the evaporator of the refrigerator is : 160.0  kJ/kg .\n"
      }
     ],
     "prompt_number": 12
    },
    {
     "cell_type": "heading",
     "level": 3,
     "metadata": {},
     "source": "ILLUSTRATIVE EXAMPLE 13.12, Page number: 248"
    },
    {
     "cell_type": "code",
     "collapsed": false,
     "input": "'''From Illustrative Example 13.11, what is the refrigerator\u2019s C.O.P.?\n'''\n\n#Variable declaration:\n#From example 13.11:\nW_in = 40.0                  #Change in enthalpy across the compressor (kJ/kg)\nQC = 160.0                   #Heat absorbed by the evaporator (kJ/kg)\n\n#Calculation:\nCOP = QC/W_in               #Refrigerator\u2019s C.O.P.\n\n#Result:\nprint \"the refrigerator's C.O.P. is :\",round(COP),\" .\"",
     "language": "python",
     "metadata": {},
     "outputs": [
      {
       "output_type": "stream",
       "stream": "stdout",
       "text": "the refrigerator's C.O.P. is : 4.0  .\n"
      }
     ],
     "prompt_number": 13
    },
    {
     "cell_type": "heading",
     "level": 3,
     "metadata": {},
     "source": "ILLUSTRATIVE EXAMPLE 13.13, Page number: 250"
    },
    {
     "cell_type": "code",
     "collapsed": false,
     "input": "'''A Rankine cycle has a T-S diagram as shown in Figure 13.4, and rejects 2043 kJ/kg of heat\nduring the constant pressure process between points 3 and 4. The data provided in Table 13.4\nis also associated with this cycle. Calculate the enthalpy change across the boiler.\nProperties associated with the condenser are as follows:\nP = 0.1235 bar\nhf = 209 kJ/kg\nhg = 2592 kJ/kg\nsf = 0.7038 kJ/kg . K\nsg = 8.0763 kJ/kg . K\n\nTable 13.4 T-S Data for Illustrative Example 13.13\nPoint           x            h, kJ/kg            s, kJ/kg.K\n1                              548\n2                             3989                7.5190\n3            0.9575           2491                7.7630\n4                                                 1.4410\n'''\n\n#Variable declaration:\nh1 = 548.0                          #Steam enthalpy at the entry and exit to the boiler (kJ/kg)\nh2 = 3989.0                         #Steam enthalpy at the entry and exit to the turbine (kJ/kg)\nh3 = 2491.0                         #Steam enthalpy at the entry and exit to the pump (kJ/kg)\nQH = 2043.0                         #Heat rejected by the condenser (kJ/kg)\n\n#Calculation:\nh4 = h3 - QH                        #Steam enthalpy at the entry and exit to the condenser (kJ/kg)\nQb = h2 - h1                        #Enthalpy change across the boiler (kJ/kg)\n\n#Result:\nprint \"The enthalpy change across the boiler is :\",round(Qb),\" kJ/kg .\"",
     "language": "python",
     "metadata": {},
     "outputs": [
      {
       "output_type": "stream",
       "stream": "stdout",
       "text": "The enthalpy change across the boiler is : 3441.0  kJ/kg .\n"
      }
     ],
     "prompt_number": 14
    },
    {
     "cell_type": "heading",
     "level": 3,
     "metadata": {},
     "source": "ILLUSTRATIVE EXAMPLE 13.14, Page number: 251"
    },
    {
     "cell_type": "code",
     "collapsed": false,
     "input": "'''What is the thermal efficiency of the cycle in Illustrative Example 13.13?\n'''\n\n#Variable declaration:\n#From example 13.4:\nh1 = 548.0                          #Steam enthalpy at the entry and exit to the boiler (kJ/kg)\nh2 = 3989.0                         #Steam enthalpy at the entry and exit to the turbine (kJ/kg)\nh3 = 2491.0                         #Steam enthalpy at the entry and exit to the pump (kJ/kg)\nh4 = 448.0                          #Steam enthalpy at the entry and exit to the condenser (kJ/kg)\nQb = 3441.0                         #Enthalpy change across the boiler (kJ/kg)\n\n#Calculation:\nWt = h2 - h3                        #Work produced by the turbine (kJ/kg)\nWp = h1 - h4                        #Work used by the pump (kJ/kg)\nW_net = Wt - Wp                     #Net work by subtracting the pump work from the turbine work (kJ/kg)\nn_th = W_net/Qb                     #Thermal efficiency\n\n#Result:\nprint \"The thermal efficiency is :\",round(n_th*100,1),\" % .\"",
     "language": "python",
     "metadata": {},
     "outputs": [
      {
       "output_type": "stream",
       "stream": "stdout",
       "text": "The thermal efficiency is : 40.6  % .\n"
      }
     ],
     "prompt_number": 15
    },
    {
     "cell_type": "heading",
     "level": 3,
     "metadata": {},
     "source": "ILLUSTRATIVE EXAMPLE 13.15, Page number: 252"
    },
    {
     "cell_type": "code",
     "collapsed": false,
     "input": "'''Using the Rankine cycle T-s diagram, in Figure 13.4, and the data from Illustrative Example\n13.13, calculate the temperature at point 3.\n'''\n\n#Variable declaration:\n#From table 13.4:\nx3 = 0.9575                         #Mass fraction vapour at point 3\nh3 = 2491.0                         #Steam enthalpy at the entry and exit to the pump (kJ/kg)\ns3 = 7.7630                         #Entropy at the entry and exit to the pump (kJ/kg.K)\ns4 = 1.4410                         #Entropy at the entry and exit to the condenser (kJ/kg.K)\n#From example13.14:\nh4 = 448.0                          #Steam enthalpy at the entry and exit to the condenser (kJ/kg)\n\n#Calculation:\nQ_out = h3 - h4                     #Heat rejected (kJ/kg)\nDS = s3 - s4                        #Process change in entropy (kJ/kg)\nT3 = Q_out/DS                       #Temperature at point 3 (K)\n\n#Result:\nprint \"The temperature at point 3 is :\",round(T3),\" K .\"\nprint \"Or, the temperature at point 3 is :\",round(T3-273),\" \u00b0C .\"",
     "language": "python",
     "metadata": {},
     "outputs": [
      {
       "output_type": "stream",
       "stream": "stdout",
       "text": "The temperature at point 3 is : 323.0  K .\nOr, the temperature at point 3 is : 50.0  \u00b0C .\n"
      }
     ],
     "prompt_number": 16
    }
   ],
   "metadata": {}
  }
 ]
}