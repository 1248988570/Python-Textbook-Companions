{
 "metadata": {
  "name": "Chapter 12"
 },
 "nbformat": 3,
 "nbformat_minor": 0,
 "worksheets": [
  {
   "cells": [
    {
     "cell_type": "heading",
     "level": 1,
     "metadata": {},
     "source": "Chapter 12: Condensation and Boiling"
    },
    {
     "cell_type": "heading",
     "level": 3,
     "metadata": {},
     "source": "ILLUSTRATIVE EXAMPLE 12.2, Page number: 206"
    },
    {
     "cell_type": "code",
     "collapsed": false,
     "input": "'''Calculate the number of degrees of freedom for a one-component, one-phase system.\n'''\n\n#Variable declaration:\nC = 1                       #Number of constituents\nP = 1                       #Number of phases\n\n#Calculation:\nF = C-P+2                   #Number of degrees of freedom\n\n#Result:\nprint \"The number of degrees of freedom is :\",F,\" .\"",
     "language": "python",
     "metadata": {},
     "outputs": [
      {
       "output_type": "stream",
       "stream": "stdout",
       "text": "The number of degrees of freedom is : 2  .\n"
      }
     ],
     "prompt_number": 2
    },
    {
     "cell_type": "heading",
     "level": 3,
     "metadata": {},
     "source": "ILLUSTRATIVE EXAMPLE 12.4, Page number: 209"
    },
    {
     "cell_type": "code",
     "collapsed": false,
     "input": "'''Refer to the previous illustrative example. How much heat is removed from the system during\nthis process?\n'''\n\n#Variable declaration:\n#From steam tables:\nU1 = 1237.1                     #Internnal energy of gas (Btu/lb)\nU2_g = 1112.2                   #Internal energy of gas (Btu/lb)\nU2_l = 343.15                   #Internal energy of liquid (Btu/lb)\n\n#Calculation:\nQ = 0.5*(U2_g+U2_l)-1*U1        #Heat removed (Btu/lb)\n\n#Result:\nprint \"Heat removed from the system during the process is :\",round(Q,1),\" Btu/lb .\"",
     "language": "python",
     "metadata": {},
     "outputs": [
      {
       "output_type": "stream",
       "stream": "stdout",
       "text": "Heat removed from the system during the process is : -509.4  Btu/lb .\n"
      }
     ],
     "prompt_number": 4
    },
    {
     "cell_type": "heading",
     "level": 3,
     "metadata": {},
     "source": "ILLUSTRATIVE EXAMPLE 12.5, Page number: 212"
    },
    {
     "cell_type": "code",
     "collapsed": false,
     "input": "'''A vertical rectangular plate is 0.2 m wide and 0.4 m high. One surface of the plate is exposed to\nsaturated steam at atmospheric pressure. The plate surface is maintained at 98\u00b0C. Filmwise condensation\nmay be assumed. Calculate the type of condensation (flow type) and the condensation\nheat transfer coefficient. Assume steady-state, constant properties, an isotropic homogeneous\nsurface, and that the properties of the water condensate may be evaluated at a film temperature\nof 99\u00b0C. The thermal conductivity of water may be assumed equal to 0.68W/m . K.\n'''\nfrom __future__ import division\nfrom sympy import symbols,solve\n\n#Variable declaration:\nT1 = 99.0                           #Mean film temperature (\u00b0C)\nT2 = 98.0                           #Plate surface temperature (\u00b0C)\ng = 9.807                           #Gravitational acceleration (m/s^2)\n#From Appendix:\nT3 = 100.0                          #Saturation temperatre (\u00b0C)\nh_vap1 = 970.3                      #Latent heat of steam in Btu/lb (Btu/lb)\nh_vap2 = 2.255*10**6                #Latent heat of steam in J/kg (J/kg)\np_v = 0.577                         #Density of steam (kg/m^3)\np_l = 960.0                         #Density of liquid water condensate (kg/m^3)\nmu_l = 2.82*10**-4                  #Absolute viscosity of liquid water condensate (kg/m.s)\nk = 0.68                            #Thermal conductivity of water (W/m.K)\n#From table 12.2\nZ = 0.4                             #Height of rectangular plate (m)\nPw = 0.2                            #Wetted perimeter of rectangular plate (m)\nh = symbols('h')                    #Average heat transfer coefficient (W/m^2.K)\n\n#Calculation:\nA = Z*Pw                            #Heat transfer area of plate (m^2)\nR = A/Pw                            #Ratio A/Pw (m)\nv_l = mu_l/p_l                      #Kinematic viscosity of liquid water condensate (m^2/s)\nCo1 = (h/k)*(v_l**2/g/(1-p_v/p_l))**(1/3)    #Condensation number (in terms of the average heat transfer coefficient)\nRe = 4*h*Z*(T3-T2)/(mu_l*h_vap2)    #Reynolds number in terms of the average heat transfer coefficient\n#From equation 12.14:\nCO1 = 0.0077*Re**Z                  #Co in terms of Reynolds number for flow type 1\nx1 = solve(Co1-CO1,h)               #Solving heat transfer coefficient (W/m^2.K)\nh1 =x1[1];                          #Average heat transfer coefficient for flow type 1 (W/m^2.K)\nRe1 = Re.subs(h,h1);                #Reynolds number for flow type 1\nCO2 = 1.874*Re**(-1/3)              #Co in terms of Reynolds number for flow tupe 2\nx2 = solve(Co1-CO2,h)               #Solving average heat transfer coefficient for flow type 2 (W/m^2.K)\nh2 = x2[0];                         #Average heat transfer coefficient for flow type 2 (W/m^2.K)\nRe2 = Re.subs(h,h2)                 #Reynolds number for flow type 2\n\n#Result:\nprint \"The type of condensation flow type 2 is laminar.\"\nprint \"And the condensation heat transfer coefficient is :\",round(h2,-1),\" W/m^2.K .\"\n",
     "language": "python",
     "metadata": {},
     "outputs": [
      {
       "output_type": "stream",
       "stream": "stdout",
       "text": "The type of condensation flow type 2 is laminar.\nAnd the condensation heat transfer coefficient is : 14700.0  W/m^2.K .\n"
      }
     ],
     "prompt_number": 14
    },
    {
     "cell_type": "heading",
     "level": 3,
     "metadata": {},
     "source": "ILLUSTRATIVE EXAMPLE 12.6, Page number: 214"
    },
    {
     "cell_type": "code",
     "collapsed": false,
     "input": "'''Refer to Illustrative Example 12.5. Calculate\n1. the mass flow rate of condensate, m\u02d91\n2. the heat transfer rate Q\u02d9 .\n'''\n\n#Variable declaration:\n#From example 12.5:\nRe = 73.9                       #Reynolds number\nmu_l = 2.82*10**-4              #Absolute viscosity of liquid water condensate (kg/m.s)\nPw = 0.2                        #Wetted perimeter of rectangular plate (m)\nh = 14700.0                     #Heat transfer coefficient (W/m^2.K)\nT_sat = 100.0                   #Saturation temperature (\u00b0C)\nTs = 98.0                       #Surface temperature (\u00b0C)\nA = 0.2*0.4                     #Heat transfer area of plate (m^2) \n\n#Calculation:\nm1 = Re*mu_l/4.0                #Mass flow rate of condensate (kg/m.s)\nm = Pw*m1                       #Mass flow rate of condensate (kg/s)\nCo = (3.038*10**-5)*h           #Condensation number\nQ = h*A*(T_sat-Ts)              #Heat transfer rate (W)\n\n#Result:\nprint \"1. The mass flow rate of condensate is :\",round(m1,4),\" kg/m.s . \"\nprint \"2. The heat transfer rate is :\",round(Q/10**3,2),\" kW . \"",
     "language": "python",
     "metadata": {},
     "outputs": [
      {
       "output_type": "stream",
       "stream": "stdout",
       "text": "1. The mass flow rate of condensate is : 0.0052  kg/m.s . \n2. The heat transfer rate is : 2.35  kW . \n"
      }
     ],
     "prompt_number": 6
    },
    {
     "cell_type": "heading",
     "level": 3,
     "metadata": {},
     "source": "ILLUSTRATIVE EXAMPLE 12.7, Page number: 215"
    },
    {
     "cell_type": "code",
     "collapsed": false,
     "input": "'''A horizontal 4-inch OD tube is surrounded by saturated steam at 2.0 psia. The tube is maintained\nat 64\u00b0F. What is the average heat-transfer coefficient? Assume laminar flow.\n'''\n\n#Variable declaration:\nT_sat = 126.0                   #Saturation temperature (\u00b0F)\nT = 64.0                        #Surface temperature of tube (\u00b0F)\ng = 32.2                        #Gravitational acceleration (ft^2/s)\nD = 4.0/12.0                    #Outside diameter of tube (ft)\n\n#Calculation:\nTf = (T_sat+T)/2.0               #Mean film temperature (\u00b0F)\n#From approximate values of key properties:\nh_vap = 1022.0                  #Latent heat of steam (Btu/lb)\np_v = 0.00576                   #Density of steam (lb/ft^3)\np_l = 62.03                     #Density of liquid (lb/ft^3)\nk_l = 0.364                     #Thermal conductivity of liquid (Btu/h.ft.\u00b0F)\nmu_l = 4.26*10**-4              #Absolute viscosity of liquid water condensate (lb/ft.s)\nh = 0.725*((p_l*(p_l-p_v)*g*h_vap*k_l**3)/(mu_l*D*(T_sat-T)/3600.0))**(1.0/4.0)   #Average heat transfer coefficient (Btu/h.ft^2.\u00b0F)\n\n#Result:\nprint \"The average heat transfer coefficient is :\",round(h,1),\" Btu/h.ft^2.\u00b0F .\"",
     "language": "python",
     "metadata": {},
     "outputs": [
      {
       "output_type": "stream",
       "stream": "stdout",
       "text": "The average heat transfer coefficient is : 911.4  Btu/h.ft^2.\u00b0F .\n"
      }
     ],
     "prompt_number": 7
    },
    {
     "cell_type": "heading",
     "level": 3,
     "metadata": {},
     "source": "ILLUSTRATIVE EXAMPLE 12.9, Page number: 222"
    },
    {
     "cell_type": "code",
     "collapsed": false,
     "input": "'''Boiling water at 100\u00b0C and 1 atm is supplied with heat from a surface at 102\u00b0C. The heat flux is\n9\u00b000W/m2. If the surface temperature is raised to 103\u00b0C, determine the new heat flux.\nAt 1 atm, the saturation temperature of the water is 100\u00b0C. The liquid water properties (SI\nunits) are: density = 957.9 kg/m3, heat capacity = 4217 J/kg . K, latent heat of vaporization =\n2.26 \u0005 106 J/kg. Assume steady-state operation, constant properties, and laminar conditions.\n'''\n\n#Variable declaration:\nQs1 = 9800.0                        #Heat flux (W/m^2)\nTs1 = 102.0                         #Original surface temperature (\u00b0C)\nTs2 = 103.0                         #New surface temperature (\u00b0C)\nTsat = 100.0                        #Saturation temperature (\u00b0C)\n\n#Calculation:\nh1 = Qs1/(Ts1-Tsat)                 #Original heat transfer coefficient (W/m^2.K)\nDT1 = (Ts1 - Tsat)                  #Original excess temperature (\u00b0C)\nDT2 = (Ts2 - Tsat)                  #New excess temperature (\u00b0C)\nn = 0.25                            #Value of n for laminar flow\nh2 = h1*(DT2/DT1)**(n)              #New heat transfer coefficient (W/m^2.K)\nQs2 = h2*(Ts2-Tsat)                 #New heat flux (W/m^2)\n\n#Result:\nprint \"The new heat flux is :\",round(Qs2),\" W/m^2.K . \"",
     "language": "python",
     "metadata": {},
     "outputs": [
      {
       "output_type": "stream",
       "stream": "stdout",
       "text": "The new heat flux is : 16268.0  W/m^2.K . \n"
      }
     ],
     "prompt_number": 9
    },
    {
     "cell_type": "heading",
     "level": 3,
     "metadata": {},
     "source": "ILLUSTRATIVE EXAMPLE 12.10, Page number: 223"
    },
    {
     "cell_type": "code",
     "collapsed": false,
     "input": "'''With respect to Illustrative Example 12.9, determine the mechanism of boiling heat transfer.\nIs the earlier assumed boiling mechanism still valid?\n'''\n\n#Variable declaration:\n#From example 12.9:\nTs1 = 102.0                         #Original surface temperature (\u00b0C)\nTs2 = 103.0                         #New surface temperature (\u00b0C)\nTsat = 100.0                        #Saturation temperature (\u00b0C)\n\n#Calculation:\nDTe1 = (Ts1 - Tsat)                 #Original excess temperature (\u00b0C)\nDTe2 = (Ts2 - Tsat)                 #New excess temperature (\u00b0C)\n\n#Result:\nprint \"The original excess temperature is: DTe = \",DTe1,\" \u00b0C .\"\nprint \"The new excess temperature is: DTe = \",DTe2,\" \u00b0C .\"\nif ((DTe1 < 5) and (DTe2 < 5)):\n    print \"The assumption of the free convection mechanism is valid since DTe < 5\u00b0C.\"",
     "language": "python",
     "metadata": {},
     "outputs": [
      {
       "output_type": "stream",
       "stream": "stdout",
       "text": "The original excess temperature is: DTe =  2.0  \u00b0C .\nThe new excess temperature is: DTe =  3.0  \u00b0C .\nThe assumption of the free convection mechanism is valid since DTe < 5\u00b0C.\n"
      }
     ],
     "prompt_number": 10
    },
    {
     "cell_type": "heading",
     "level": 3,
     "metadata": {},
     "source": "ILLUSTRATIVE EXAMPLE 12.11, Page number: 223"
    },
    {
     "cell_type": "code",
     "collapsed": false,
     "input": "'''Refer to Illustrative Example 12.9 and calculate the liquid Jakob number.\n'''\n\n#Variable declaration:\n#From example 12.9:\nCp = 4127.0                         #heat capacity (J/kg . K)\nDTe = 3.0                           #New excess temperature (\u00b0C)\nh_vap = 2.26*10**6                  #latent heat of vaporization (J/kg)\n\n#Calculation:\nJa_L = Cp*DTe/h_vap                 #Liquid Jakob number\n\n#Result:\nprint \"The liquid Jakob number is :\",round(Ja_L,5),\" .\"",
     "language": "python",
     "metadata": {},
     "outputs": [
      {
       "output_type": "stream",
       "stream": "stdout",
       "text": "The liquid Jakob number is : 0.00548  .\n"
      }
     ],
     "prompt_number": 11
    },
    {
     "cell_type": "heading",
     "level": 3,
     "metadata": {},
     "source": "ILLUSTRATIVE EXAMPLE 12.12, Page number: 223"
    },
    {
     "cell_type": "code",
     "collapsed": false,
     "input": "'''An electric heater 0.3 m in diameter at 106\u00b0C is used to heat water. The water is at 1 atm and\n100\u00b0C. Determine\n1. the boiling regime, and\n2. The heat transfer coefficient.\nAssume steady-state operation and constant properties.\n'''\n\n#Variable declaration:\nTs = 106.0                      #Surface temperature (\u00b0C)\nTsat = 100.0                    #Saturation temperature (\u00b0C)\n\n#Calculation:\nDTe = Ts-Tsat                   #Excess temperature (\u00b0C)\n#From table 12.5:\nC1 = 5.56                       #Constant C1\nn1 = 3.0                        #Constant n1\nC2 = 1040.0                     #Constant C2\nn2 = 1.0/3.0                    #Constant n2\nP = 1.0                         #Absolute pressure (atm)\nPa = 1.0                        #Ambient absolute pressure (atm)\n\n#Calculation:\nh1 = C1*DTe**n1*(P/Pa)**0.4     #Boiling water heat transfer coefficient (W/m^2)\nQs1 = h1*DTe                    #Surface flux (W/m^2)\nh2 = C2*DTe**n2*(P/Pa)**0.4     #Second Boiling water heat transfer coefficient (W/m^2)\nQs2 = h2*DTe                   #Second Surface flux (W/m^2) \n\n#Result:\n   \nif (Qs1/10**3 > 15.8 and Qs1/10**3 < 236):\n    print \"The boiling regime is :\",round(Qs1/10**3,1),\" kW/m^2 .\"\n    print \"The heat transfer coefficient is :\",round(h1), \" W/m^2 .\"\nelif (Qs1/10**3 < 15.8):\n    print \"The boiling regime is :\",round(Qs2/10**3,2),\" kW/m^2 .\"\n    print \"The heat transfer coefficient is :\",round(h2), \" W/m^2 .\"",
     "language": "python",
     "metadata": {},
     "outputs": [
      {
       "output_type": "stream",
       "stream": "stdout",
       "text": "The boiling regime is : 11.34  kW/m^2 .\nThe heat transfer coefficient is : 1890.0  W/m^2 .\n"
      }
     ],
     "prompt_number": 12
    },
    {
     "cell_type": "heading",
     "level": 3,
     "metadata": {},
     "source": "ILLUSTRATIVE EXAMPLE 12.13, Page number: 224"
    },
    {
     "cell_type": "code",
     "collapsed": false,
     "input": "'''Refer to the previous example. Calculate the rate of heat transfer.\n'''\n\nfrom math import pi\n\n#Variable declaration:\n#From example 12.12:\nQs1 = 11340.0                   #Surface flux (W/m^2)\nD = 0.3                         #Diameter of electric heater (m)\n\n#Calculation:\nA = pi*(D/2.0)**2               #Surface area of heater (m^2)\nQs = Qs1*A                      #Heat transfer rate (W)\n\n#Result:\nprint \"The rate of heat transfer is :\",round(Qs),\" W .\"",
     "language": "python",
     "metadata": {},
     "outputs": [
      {
       "output_type": "stream",
       "stream": "stdout",
       "text": "The rate of heat transfer is : 802.0  W .\n"
      }
     ],
     "prompt_number": 13
    }
   ],
   "metadata": {}
  }
 ]
}