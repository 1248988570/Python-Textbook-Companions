{
 "metadata": {
  "name": "Chapter 23"
 },
 "nbformat": 3,
 "nbformat_minor": 0,
 "worksheets": [
  {
   "cells": [
    {
     "cell_type": "heading",
     "level": 1,
     "metadata": {},
     "source": "Chapter 23: Environmental Management"
    },
    {
     "cell_type": "heading",
     "level": 3,
     "metadata": {},
     "source": "ILLUSTRATIVE EXAMPLE 23.6, Page number: 498"
    },
    {
     "cell_type": "code",
     "collapsed": false,
     "input": "'''In 1900, it took about 20,000 Btu fuel input to produce 1 kW. h of electricity. Estimate the\nefficiency of conversion and compare it with a typical value for today\u2019s power industry.\n'''\n\nfrom __future__ import division\n\n#Variable declaration:\nQ = 20000                   #Fuel input (Btu)\ne = 1                       #Energy produced (kW.h)\nBtu = 3412                  #Units Btu in 1 kW.h\n\n#Calulation:\nER = Q/Btu                  #Energy requirement in 1990 (kW.h)\nE = e/ER*100                #Efficiency of energy conversion (%)\n\n#Result:\nprint \"The efficiency of energy conversion is :\",round(E,1),\" % .\"",
     "language": "python",
     "metadata": {},
     "outputs": [
      {
       "output_type": "stream",
       "stream": "stdout",
       "text": "The efficiency of energy conversion is : 17.1  % .\n"
      }
     ],
     "prompt_number": 6
    },
    {
     "cell_type": "heading",
     "level": 3,
     "metadata": {},
     "source": "ILLUSTRATIVE EXAMPLE 23.7, Page number: 499"
    },
    {
     "cell_type": "code",
     "collapsed": false,
     "input": "'''The James David University runs it own coal-fired power plant, consuming Utah bituminous\ncoal with an energy content (in the combustion literature, energy content is defined as the\nlower heating value, LHV) of 25,000 kJ/kg. The coal contains, on average, 1.0 wt% sulfur\nand 1.2 wt% ash (based on the total mass of the coal). The power plant is 35% efficient (indicating\nthat 35% of the energy in the coal is actually converted to electrical energy), and is operated\nat a 2.0-MW average daily load (ADL).\nAssume that the coal is completely burned during combustion, and also that the power plant\ncaptures 99% of the ash and 70% of the sulfur dioxide produced during combustion. After a\nU.S. Environmental Protection Agency (EPA) Green Lights energy audit, James David found\nthat it could install energy-efficient lighting and reduce its average daily electrical generating\nneeds by 25%.\nUsing the information given above, calculate the average reduction in electrical load and the\nnew average daily load for the power plant.\n'''\n\nfrom __future__ import division\n\n#Variable declaration:\nADL1 = 2                        #Average daily load (MW)\nR = 25/100                      #Reduction in electrical load (%)\n\n#Calculation:\nL = 1-R                         #New load fraction\nADL2 = ADL1*L                   #New average daily load (MW)\nAR = ADL1-ADL2                  #Average reduction in electrical load (MW)\n\n#Result:\nprint \"The new Average daily load for the plant is :\",ADL2,\" MW.\"\nprint \"The average reduction in electrical load is :\",AR,\" MW.\"",
     "language": "python",
     "metadata": {},
     "outputs": [
      {
       "output_type": "stream",
       "stream": "stdout",
       "text": "The new Average daily load for the plant is : 1.5  MW.\nThe average reduction in electrical load is : 0.5  MW.\n"
      }
     ],
     "prompt_number": 7
    }
   ],
   "metadata": {}
  }
 ]
}