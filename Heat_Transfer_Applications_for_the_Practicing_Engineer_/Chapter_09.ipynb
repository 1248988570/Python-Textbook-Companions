{
 "metadata": {
  "name": "Chapter 09"
 },
 "nbformat": 3,
 "nbformat_minor": 0,
 "worksheets": [
  {
   "cells": [
    {
     "cell_type": "heading",
     "level": 1,
     "metadata": {},
     "source": "Chapter 9: Forced Convection"
    },
    {
     "cell_type": "heading",
     "level": 3,
     "metadata": {},
     "source": "ILLUSTRATIVE EXAMPLE 9.1, Page number: 135"
    },
    {
     "cell_type": "code",
     "collapsed": false,
     "input": "'''Consider a closed cylindrical reactor vessel of diameter D = 1 ft, and length L = 1.5 ft. The surface\ntemperature of the vessel, T1, and the surrounding temperature, T2, are 390\u00b0F and 50\u00b0F,\nrespectively. The convective heat transfer coefficient, h, between the vessel wall and surrounding\nfluid is 4.0 Btu/h . ft . \u00b0F. Calculate the thermal resistance in \u00b0F . h/Btu.\n'''\n\n#Variable declaration:\nD = 1.0                     #Diamete of vessel (ft)\nL = 1.5                     #Length of vessel (ft)\nT1 = 390.0                  #Surface temperature of vessel (\u00b0F)\nT2 = 50.0                   #Surrounding temperature of vessel (\u00b0F)\nh = 4.0                     #Convective heat transfer coefficient (Btu/h.ft.\u00b0F)\n\n#Calculation:\nA = pi*D*L+2*pi*(D/2)**2    #Total heat transfer area (ft^2)\nQ = h*A*(T1-T2)             #Rate of heat transfer (Btu/h)\nR = 1/(h*A)                 #Thermal resistance (\u00b0F.h/Btu)\n\n#Result:\nprint \"The thermal resistance of vessel wal is :\",round(R,4),\" \u00b0F.h/Btu .\"",
     "language": "python",
     "metadata": {},
     "outputs": [
      {
       "output_type": "stream",
       "stream": "stdout",
       "text": "The thermal resistance of vessel wal is : 0.0398  \u00b0F.h/Btu .\n"
      }
     ],
     "prompt_number": 9
    },
    {
     "cell_type": "heading",
     "level": 3,
     "metadata": {},
     "source": "ILLUSTRATIVE EXAMPLE 9.2, Page number: 135"
    },
    {
     "cell_type": "code",
     "collapsed": false,
     "input": "'''Referring to the previous example, convert the resistance to K/W and \u00b0C/W.\n'''\n\n#Variable declaration:\n#From example 9.1:\nR = 0.0398                      #Theral resistance (\u00b0F.h/Btu)\nBtu = 3.412                     #Btu/h in a watt\nC = 1.8                         #Change in degree fahrenheit for a degree change in celsius\nK = 1                           #Change in degree celsius for a unit change in Kelvin\n\n#Calculation:\nRc = R*Btu/C                    #Thermal resistance in degree cesius per watt (\u00b0C/W)\nRk = Rc/K                       #Thermal resistance in Kelvin per watt (K/W)\n\n#Result:\nprint \"The thermal resistance in \u00b0C/W is :\",round(Rc,3),\" \u00b0C/W.\"\nprint \"The thermal resistance in K/W is :\",round(Rk,3),\" K/W.\"",
     "language": "python",
     "metadata": {},
     "outputs": [
      {
       "output_type": "stream",
       "stream": "stdout",
       "text": "The thermal resistance in \u00b0C/W is : 0.075  \u00b0C/W.\nThe thermal resistance in K/W is : 0.075  K/W.\n"
      }
     ],
     "prompt_number": 2
    },
    {
     "cell_type": "heading",
     "level": 3,
     "metadata": {},
     "source": "ILLUSTRATIVE EXAMPLE 9.3, Page number: 136"
    },
    {
     "cell_type": "code",
     "collapsed": false,
     "input": "'''Hot gas at 530\u00b0F flows over a flat plate of dimensions 2 ft by 1.5 ft. The convection heat transfer\ncoefficient between the plate and the gas is 48 Btu/ft2 . h . \u00b0F. Determine the heat transfer rate in\nBtu/h and kW from the air to one side of the plate when the plate is maintained at 105\u00b0F.\n'''\n\n#Variable declaration:\nh = 48.0                    #Convective heat transfer coefficient (Btu/h.ft.\u00b0F)\nA = 2*1.5                   #Total heat transfer area (ft^2)\nTs = 530.0                  #Surface temperature of plate (\u00b0F)\nTm = 105.0                  #Maintained temperature of opposite side of plate (\u00b0F)\nkW = 3.4123*10**3           #Units kW in a Btu/h\n\n#Calculation:\nQ = h*A*(Ts-Tm)             #Heat transfer rate in Btu/h (Btu/h)\nQ1 = Q/kW                   #Heat transfer rate in kW (kW)\n\n#Result:\nprint \"The heat transfer rate in Btu/h is :\",round(Q),\" Btu/h.\"\nprint \"The heat transfer rate in kW is :\",round(Q1,2),\" kW.\"",
     "language": "python",
     "metadata": {},
     "outputs": [
      {
       "output_type": "stream",
       "stream": "stdout",
       "text": "The heat transfer rate in Btu/h is : 61200.0  Btu/h.\nThe heat transfer rate in kW is : 17.94  kW.\n"
      }
     ],
     "prompt_number": 3
    },
    {
     "cell_type": "heading",
     "level": 3,
     "metadata": {},
     "source": "ILLUSTRATIVE EXAMPLE 9.4, Page number: 136"
    },
    {
     "cell_type": "code",
     "collapsed": false,
     "input": "'''The glass window shown in Figure 9.3 of area 3.0 m2 has a temperature at the outer surface of\n10\u00b0C. The glass has conductivity of 1.4W/m . K. The convection coefficient (heat transfer\ncoefficient) of the air is 100W/m2 . K. The heat transfer is 3.0 kW. Calculate the bulk temperature\nof the fluid.\n'''\n\n#Variable declaration:\nTS = 10+273                     #Outer surface temperature of wall (K)\nQ = 3000.0                      #Heat transfer rate (W)\nh = 100.0                       #Convection coefficient of air (W/m^2)\nA = 3.0                         #Area of glass window (m^2)\n\n#Calculation:\nTM = TS-Q/(h*A)                 #Bulk temperature of fluid (K)\n\n#Result:\nprint \"The bulk temperature of fluid is :\",round(TM),\" K.\"\nprint \"The bulk temperature of fluid is :\",round(TM-273),\" \u00b0C.\"",
     "language": "python",
     "metadata": {},
     "outputs": [
      {
       "output_type": "stream",
       "stream": "stdout",
       "text": "The bulk temperature of fluid is : 273.0  K.\nThe bulk temperature of fluid is : 0.0  \u00b0C.\n"
      }
     ],
     "prompt_number": 22
    },
    {
     "cell_type": "heading",
     "level": 3,
     "metadata": {},
     "source": "ILLUSTRATIVE EXAMPLE 9.5, Page number: 137"
    },
    {
     "cell_type": "code",
     "collapsed": false,
     "input": "'''Refer to Illustrative Example 9.1. If the convective heat transfer coefficient, h, between the\nvessel wall and the surrounding fluid is constant at 4.0 Btu/h . ft2 . \u00b0F and the plant operates\n24 h/day, 350 days/yr, calculate the steady-state energy loss in Btu/yr.\n'''\n\n#Variable declaration:\nh = 24.0                    #Plant operating hour per day (h/day)\nd = 350.0                   #Plant operating day per year (day/yr)\n\n#Calculation:\nN = h*d                     #Operating hours per year (h/yr)\n#From example 9.1:\nQ = 8545.0                  #Rate of energy loss (Btu/h)\nQy = Q*N                    #Steady-state energy loss yearly (Btu/yr)\n\n#Result:\nprint \"The yearly steady-state energy loss is :\",round(Qy/10**7,2),\" x 10^7 Btu/yr.\"",
     "language": "python",
     "metadata": {},
     "outputs": [
      {
       "output_type": "stream",
       "stream": "stdout",
       "text": "The yearly steady-state energy loss is : 7.18  x 10^7 Btu/yr.\n"
      }
     ],
     "prompt_number": 23
    },
    {
     "cell_type": "heading",
     "level": 3,
     "metadata": {},
     "source": "ILLUSTRATIVE EXAMPLE 9.7, Page number: 148"
    },
    {
     "cell_type": "code",
     "collapsed": false,
     "input": "'''For a flow of air over a horizontal flat plate, the local heat transfer coefficient, hx, is given by the\nequation\nhx = 25/x**0.4, W/m^2 . K\nwhere hx is the local heat transfer coefficient at a distance x from the leading edge of the plate and\nx is the distance in meters. The critical Reynolds number, Recr, which is the Reynolds number at\nwhich the flow is no longer laminar, is 500,000.\nConsider the flow of air at T1 = 21\u00b0C (cp = 1004.8 J/kg . K, v = 1.5 x 10**(-5) m^2/s,\nk = 0.025W/m . K, Pr = 0.7), at a velocity of 3 m/s, over a flat plate. The plate has a thermal conductivity k = 33W/m . K,\nsurface temperature, TS = 58\u00b0C, width, b = 1 m, and length,L = 1.2 m. Calculate\n1. the heat flux at 0.3 m from the leading edge of the plate\n2. the local heat transfer coefficient at the end of the plate\n3. the ratio h/hx at the end of the plate\n'''\nfrom sympy import symbols, integrate\n\n#Variable declaration:\nx = 0.3                         #Length from the leading age of the plate (m)\nL = 1.2                         #Length of plate (m)\nTS = 58.0                       #Surface temperature of plate (\u00b0C)\nTa = 21.0                       #Temperature of flowing air (\u00b0C)\n\n#Calculation:\nhx = 25/x**0.4                  #Local heat transfer coefficient at 0.3m (W/m^2.K) (Part 1)\ny = symbols('y')                #Length\nhy = 25/y**0.4                  #hx at the end of the plate (W/m^2.K)\nh = integrate(hy, (y,0,L))/L    #Average heat transfer coefficient (W/m^2.K)\nQ = hx*(TS-Ta)                  #Heat flux at 0.3m from leading edge of plate (W/m^2)\nhL = 25/L**0.4                  #Local heat transfer coefficient at plate end (W/m^2.K) (Part 2) \nr = h/hL                        #Ratio h/hL at the end of the plate\n\n#Result:\nprint \"1. The heat flux at 0.3 m from the leading edge of the plate is :\",round(Q),\" W/m^2.\"\nprint \"2. The local heat transfer coefficient at the end of the plate is :\",round(hL,1),\" W/m^2.K.\"\nprint \"3. The ratio h/hL at the end of plate is :\",round(r,3),\" .\"",
     "language": "python",
     "metadata": {},
     "outputs": [
      {
       "output_type": "stream",
       "stream": "stdout",
       "text": "1. The heat flux at 0.3 m from the leading edge of the plate is : 1497.0  W/m^2.\n2. The local heat transfer coefficient at the end of the plate is : 23.2  W/m^2.K.\n3. The ratio h/hL at the end of plate is : 1.667  .\n"
      }
     ],
     "prompt_number": 25
    },
    {
     "cell_type": "heading",
     "level": 3,
     "metadata": {},
     "source": "ILLUSTRATIVE EXAMPLE 9.8, Page number: 150"
    },
    {
     "cell_type": "code",
     "collapsed": false,
     "input": "'''Refer to the previous example. Calculate the rate of heat transfer over the whole length of the\nplate.\n'''\n\n#Variable declaration:\n#From example 9.7:\nb = 1.0                     #Width of plate (m)\nL = 1.2                     #Length of plate (m)\nTS = 58.0                   #Surface temperture of plate (\u00b0C)\nTa = 21.0                   #Air flow temperature (\u00b0C)\nh = 38.7                    #Average heat transfer coefficient (W/m^2.K)\n\n#Calculation:\nA = b*L                     #Area for heat transfer for the entire plate (m^2)\nQ = h*A*(TS-Ta)             #Rate of heat transfer over the whole length of the plate (W)\n\n#Result:\nprint \"The rate of heat transfer over the whole length of the plate is :\",round(Q,-1),\" W.\"",
     "language": "python",
     "metadata": {},
     "outputs": [
      {
       "output_type": "stream",
       "stream": "stdout",
       "text": "The rate of heat transfer over the whole length of the plate is : 1720.0  W.\n"
      }
     ],
     "prompt_number": 26
    },
    {
     "cell_type": "heading",
     "level": 3,
     "metadata": {},
     "source": "ILLUSTRATIVE EXAMPLE 9.9, Page number: 150"
    },
    {
     "cell_type": "code",
     "collapsed": false,
     "input": "'''Air with a mass rate of 0.075 kg/s flows through a tube of diameter D = 0.225 m. The air enters\nat 100\u00b0C and, after a distance of L = 5 m, cools to 70\u00b0C. Determine the heat transfer coefficient\nof the air. The properties of air at 85\u00b0C are approximately, cp = 1010 J/kg . K, k = 0.030\nW/m . K, mu = 20\u00b0 x 10**-7 N . s/m2, and Pr = 0.71.\n'''\nfrom math import pi\n#Variable declaration:\nm = 0.075                           #Mass rate of air flow (kg/s)\nD = 0.225                           #Diameter of tube (m)\nmu = 208*10**-7                     #Dynamic viscosity of fluid (N)\nPr = 0.71                           #Prandtl number\nk = 0.030                           #Thermal conductivity of air (W/m.K)\n\n#Calculation:\nRe = 4*m/(pi*D*mu)                  #Reynolds number\n#From equation 9.26:\nNu = 0.023*(Re**0.8)*(Pr**0.3)      #Nusselt number\nh = (k/D)*Nu                        #Heat transfer coefficient of air (W/m^2.K)\n\n#Result:\nprint \"The Heat transfer coefficient of air is :\",round(h,2),\" W/m^2.K.\"",
     "language": "python",
     "metadata": {},
     "outputs": [
      {
       "output_type": "stream",
       "stream": "stdout",
       "text": "The Heat transfer coefficient of air is : 7.76  W/m^2.K.\n"
      }
     ],
     "prompt_number": 27
    },
    {
     "cell_type": "heading",
     "level": 3,
     "metadata": {},
     "source": "ILLUSTRATIVE EXAMPLE 9.10, Page number: 150"
    },
    {
     "cell_type": "code",
     "collapsed": false,
     "input": "'''Calculate the average film heat transfer coefficient (Btu/h . ft^2 . \u00b0F) on the water side of a single\npass steam condenser. The tubes are 0.902 inch inside diameter, and the cooling water enters\nat 60\u00b0F and leaves at 70\u00b0F. Employ the Dittus\u2013Boelter equation and assume the average\nwater velocity is 7 ft/s. Pertinent physical properties of water at an average temperature of\n65\u00b0F are:\np = 62.3 lb/ft^3\nmu = 2.51 lb/ft . h\nCp = 1.0 Btu/lb . \u00b0F\nk = 0.340 Btu/h . ft . \u00b0F\n'''\n\n#Variable declaration:\nD = 0.902/12.0                  #Inside diameter of tube (ft)\nT_in = 60.0                     #Temperature water entering the tube (\u00b0F)\nT_out = 70.0                    #Temperature water leaving the tube (\u00b0F)\nV = 7.0                         #Average wave velocity water (ft/s)\np = 62.3                        #Density of water (lb/ft^3)\nmu = 2.51/3600.0                #Dynamic viscosity of water (lb/ft.s)\nCp = 1.0                        #Viscosity of centipoise (Btu/lb.\u00b0F)\nk = 0.34                        #Thermal conductivity of water (Btu/h.ft.\u00b0F)\n\n#Calculation:\nRe = D*V*p/mu                   #Reynolds Number\nPr = Cp*mu/k*3600               #Prandtl number\n#From equation 9.26:\nNu = 0.023*(Re**0.8)*(Pr**0.4)  #Nusselt number\nh = (k/D)*Nu                    #Average film heat transfer coefficient (Btu/h.ft^2.\u00b0F)\n\n#Result:\nprint \"The required average film heat transfer coefficient is :\",round(h),\" Btu/h.ft^2.\u00b0F.\"",
     "language": "python",
     "metadata": {},
     "outputs": [
      {
       "output_type": "stream",
       "stream": "stdout",
       "text": "The required average film heat transfer coefficient is : 1265.0  Btu/h.ft^2.\u00b0F.\n"
      }
     ],
     "prompt_number": 4
    },
    {
     "cell_type": "heading",
     "level": 3,
     "metadata": {},
     "source": "ILLUSTRATIVE EXAMPLE 9.11, Page number: 151"
    },
    {
     "cell_type": "code",
     "collapsed": false,
     "input": "'''Air at 1 atm and 300\u00b0C is cooled as it flows at a velocity 5.0 m/s through a tube with a diameter\nof 2.54 cm. Calculate the heat transfer coefficient if a constant heat flux condition is maintained\nat the wall and the wall temperature is 20\u00b0C above the temperature along the entire length of\nthe tube.\n'''\n\n#Variable declaration:\nP = 1.0132 * 10**5              #Air pressure (Pa)\nT = 300.0+273.0                 #Air temperature (K)\nV = 5.0                         #Air flow velocity (m/s)\nD = 2.54/100.0                  #Diameter of tube (m)\nR = 287.0                       #Gas constant (m^2/s^2.K)\n#From Appendix:\nPr = 0.713                      #Prandtl number of nitrogen\nmu = 1.784*10**(-5)             #Dynamic viscosity of nitrogen (kg/m.s)\nk = 0.0262                      #Thermal conductivity of nitrogen (W/m.K)\nCp = 1.041                      #Heat capacity of nitrogen (kJ/kg.K)\n\n#Calculation:\np = P/(R*T)                     #Density of air\nRe = D*V*p/mu                   #Reynolds number\n#From table 9.5:\nNu = 0.023*(Re**0.8)*(Pr**0.3)  #Nusselt number\nh = (k/D)*Nu                    #Heat transfer coefficient (W/m^2.K)\n\n#Result:\nprint \"The required Heat transfer coefficient is :\",round(h,2),\" W/m^2.K.\"",
     "language": "python",
     "metadata": {},
     "outputs": [
      {
       "output_type": "stream",
       "stream": "stdout",
       "text": "The required Heat transfer coefficient is : 17.57  W/m^2.K.\n"
      }
     ],
     "prompt_number": 10
    },
    {
     "cell_type": "heading",
     "level": 3,
     "metadata": {},
     "source": "ILLUSTRATIVE EXAMPLE 9.12, Page number: 152"
    },
    {
     "cell_type": "code",
     "collapsed": false,
     "input": "'''Water flows with an average velocity of 0.355 m/s through a long copper tube (inside\ndiameter = 2.2 cm) in a heat exchanger. The water is heated by steam condensing at 150\u00b0C\non the outside of the tube. Water enters at 15\u00b0C and leaves at 60\u00b0C. Determine the heat transfer\ncoefficient, h, for the water. (Adapted from Griskey.^(5))\n'''\n\n#Variable declaration:\nT1 = 15.0                   #Water entering temperature (\u00b0C)\nT2 = 60.0                   #Water leaving temperature (\u00b0C)\nD = 0.022                   #Inside diameter of tube (m)\nV = 0.355                   #Average water flow velocity (m/s)\nTC = 150.0                  #Outside wall temperature (\u00b0C)\n#From Appendix:\np = 993.0                   #Density of water (kg/m^3)\nmu = 0.000683               #Dynamic viscosity of water (kg/m.s)\nCp = 4.17*10**3             #Heat capacity of water (J/kg.K)\nk = 0.63                    #Thermal conductivity of water (W/m.K)\n\n#Calculation:\nTav1 = (T1+T2)/2.0          #Average bulk temperature of water (\u00b0C)\nRe = D*V*p/mu               #Reynolds number\nPr = Cp*mu/k                #Prandtl number\nTav2 = (Tav1+TC)/2.0        #Fluid's average wall temperature (\u00b0C)\n#From Appendix:\nmu_w = 0.000306             #Dynamic viscosity of fluid at wall (kg/m.s)\n#From Table 9.5:\nh = (k/D)*0.027*Re**0.8*Pr**0.33*(mu/mu_w)**0.14    #Heat transfer coefficient for water (W/m^2.K)\n\n#Result:\nprint \"The heat transfer coefficient for water is :\",round(h,1),\" W/m^2.K.\"\n",
     "language": "python",
     "metadata": {},
     "outputs": [
      {
       "output_type": "stream",
       "stream": "stdout",
       "text": "The heat transfer coefficient for water is : 2497.3  W/m^2.K.\n"
      }
     ],
     "prompt_number": 11
    },
    {
     "cell_type": "heading",
     "level": 3,
     "metadata": {},
     "source": "ILLUSTRATIVE EXAMPLE 9.13, Page number: 153"
    },
    {
     "cell_type": "code",
     "collapsed": false,
     "input": "'''Refer to Illustrative Example 9.7. Calculate the average Biot number.\n'''\n\n#Variable declaration:\n#From example 9.7:\nh = 38.7                    #Average heat transfer coefficient (W/m^2.K)\nL = 1.2                     #Length of plate (m)\nk = 0.025                   #Thermal conductivity of air (W/m)\n\n#Calculation:\nBi = h*L/k                  #Average Biot number\n\n#Result:\nprint \"The average Biot number is :\",round(Bi),\" .\"",
     "language": "python",
     "metadata": {},
     "outputs": [
      {
       "output_type": "stream",
       "stream": "stdout",
       "text": "The average Biot number is : 1858.0  .\n"
      }
     ],
     "prompt_number": 12
    },
    {
     "cell_type": "heading",
     "level": 3,
     "metadata": {},
     "source": "ILLUSTRATIVE EXAMPLE 9.14, Page number: 154"
    },
    {
     "cell_type": "code",
     "collapsed": false,
     "input": "'''The surface temperature Ts of a circular conducting rod is maintained at 250\u00b0C by the passage of\nan electric current. The rod diameter is 10 mm, the length is 2.5 m, the thermal conductivity is 60\nW/m . K, the density is 7850 kg/m3, and the heat capacity is 434 J/kg . K. The rod is in a fluid\nat temperature Tf = 25\u00b0C, and the convection heat transfer coefficient is 140 W/m2 . K. The\nthermal conductivity of the fluid is 0.6W/m . K.\n1. What is the thermal diffusivity of the bare rod?\n2. What is the Nusselt number of the fluid in contact with the bare rod?\n3. What is the Biot number of the bare rod?\n4. Calculate the heat transferred from the rod to the fluid.\n'''\nfrom math import pi\n#Variable declaration:\nk = 60.0                    #Thermal conductivity of rod (W/m.K)\np = 7850.0                  #Density of rod (kg/m^3)\nCp = 434.0                  #Heat capacity of rod (J/kg.K)\nh = 140.0                   #Convection heat transfer coefficient (W/m^2.K)\nD = 0.01                    #Diameter of rod (m)\nkf = 0.6                    #Thermal conductivity of fluid (W/m.K)\nL = 2.5                     #Length of rod (m)\nTs = 250.0                  #Surface temperature of rod (\u00b0C)\nTf = 25.0                   #Fluid temperature (\u00b0C)\n\n#Calculation:\n#Case 1:\na = k/(p*Cp)                #Thermal diffusivity of bare rod (m^2/s)\n#Case 2:\nNu = h*D/kf                 #Nusselt number\n#Case 3:\nBi = h*D/k                  #Biot number of bare rod\n#Case 4:\nQ = h*(pi*D*L)*(Ts-Tf)      #Heat transferred from rod to fluid (W)\n\n#Result:\nprint \"1. The thermal diffusivity of the bare rod is :\",round(a/10**-5,2),\" x 10^-5 m^2/s.\"\nprint \"2. The nusselt number is :\",round(Nu,2),\" .\"\nprint \"3. The Biot number is :\",round(Bi,4),\" .\"\nprint \"4. The heat transferred from the rod to the fluid is :\",round(Q),\" W.\"",
     "language": "python",
     "metadata": {},
     "outputs": [
      {
       "output_type": "stream",
       "stream": "stdout",
       "text": "1. The thermal diffusivity of the bare rod is : 1.76  x 10^-5 m^2/s.\n2. The nusselt number is : 2.33  .\n3. The Biot number is : 0.0233  .\n4. The heat transferred from the rod to the fluid is : 2474.0  W.\n"
      }
     ],
     "prompt_number": 14
    }
   ],
   "metadata": {}
  }
 ]
}