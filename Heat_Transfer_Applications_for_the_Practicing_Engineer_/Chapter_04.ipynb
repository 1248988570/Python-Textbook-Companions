{
 "metadata": {
  "name": "Chapter 04"
 },
 "nbformat": 3,
 "nbformat_minor": 0,
 "worksheets": [
  {
   "cells": [
    {
     "cell_type": "heading",
     "level": 1,
     "metadata": {},
     "source": "Chapter 4: The Conservation Law for Momentum"
    },
    {
     "cell_type": "heading",
     "level": 3,
     "metadata": {},
     "source": "ILLUSTRATIVE EXAMPLE 4.1, Page number: 39"
    },
    {
     "cell_type": "code",
     "collapsed": false,
     "input": "'''A 10-cm-diameter horizontal line carries saturated steam at 420 m/s. Water is entrained by the\nsteam at a rate of 0.15 kg/s. The line has a 90\u00b0 bend. Calculate the force components in the horizontal\nand vertical directions required to hold the bend in place due to the entrained water.\n'''\n\n#Variable declaration:\nVx_in = 420                     #Entry Velocity in X direction (m/s)\nVx_out = 0                      #Exit Velocity in X direction (m/s)\nVy_in = 0                       #Entry Velocity in Y direction (m/s)\nVy_out = 420                    #Exit Velocity in Y direction (m/s)\nm =  0.15                       #Rate of water entrained by the steam (kg/s)\nlb = 1.0/4.46                   #Pound force in a newton force\n\n#Calculations:\nMx_out = m*Vx_out               #Rate of change of momentum at entry in x-direction (kg.m)\nMx_in = m*Vx_in                 #Rate of change of momentum at exit in x-direction  (kg.m)\nMy_out = m*Vy_out               #Rate of change of momentum at entry in y-direction (kg.m)\nMy_in = m*Vy_in                 #Rate of change of momentum at exit in y-direction  (kg.m)\nFxgc = (Mx_out - Mx_in)*lb      #Force in X direction (lbf)\nFygc = (My_out - My_in)*lb      #Force in X direction (lbf)\n\n#Results:\nif Fxgc < 1:\n    print \"The x-direction supporting force acting on the 90\u00b0 elbow is :\",round(-Fxgc,1),\" lbf acting toward the left. \"\nelse:\n    print \"The x-direction supporting force acting on the 90\u00b0 elbow is :\",round(Fxgc,1),\" lbf acting toward the right. \"\nif Fygc < 1:\n    print \"The y-direction supporting force acting on the 90\u00b0 elbow is :\",round(-Fygc,1),\" lbf acting downwards. \"    \nelse:\n    print \"The y-direction supporting force acting on the 90\u00b0 elbow is :\",round(Fygc,1),\" lbf acting upwards. \"",
     "language": "python",
     "metadata": {},
     "outputs": [
      {
       "output_type": "stream",
       "stream": "stdout",
       "text": "The x-direction supporting force acting on the 90\u00b0 elbow is : 14.1  lbf acting toward the left. \nThe y-direction supporting force acting on the 90\u00b0 elbow is : 14.1  lbf acting upwards. \n"
      }
     ],
     "prompt_number": 6
    },
    {
     "cell_type": "heading",
     "level": 3,
     "metadata": {},
     "source": "ILLUSTRATIVE EXAMPLE 4.2 Page number: 40"
    },
    {
     "cell_type": "code",
     "collapsed": false,
     "input": "'''Refer to Illustrative Example 4.1. Calculate the magnitude and direction of the resultant force.\n'''\n\nfrom math import sqrt,degrees,atan2\n\n#Variable declaration:\nFx = -63                                #Force component in X direction (N)\nFy = 63                                 #Force component in Y direction (N)\nlbf = 0.22481                           #Pound-forrce in unit newton (lbf)\n\n#Calculations:\nFr = sqrt(Fx**2 + Fy**2)*lbf            #The resultant supporting force (lbf)\nu = degrees(atan2(Fy,Fx))               #Angle between the positive x axis and the direction of the force (degrees)\n\n#Result: \nif (0<u<90):\n    print \"The supporting force is :\",round(Fr,1),\" lbf acting at\",u,\"\u00b0 i.e in the \u201cnortheast\u201d direction.\"\nelif (90<u<180):\n    print \"The supporting force is :\",round(Fr,1),\" lbf acting at\",u,\"\u00b0 i.e in the \u201cnorthwest\u201d direction.\"\nelif (180<u<270):\n    print \"The supporting force is :\",round(Fr,1),\" lbf acting at\",u,\"\u00b0 i.e in the \u201csouthwest\u201d direction.\"\nelif (270<u<360):\n    print \"The supporting force is :\",round(Fr,1),\" lbf acting at\",u,\"\u00b0 i.e in the \u201csoutheast\u201d direction.\"",
     "language": "python",
     "metadata": {},
     "outputs": [
      {
       "output_type": "stream",
       "stream": "stdout",
       "text": "The supporting force is : 20.0  lbf acting at 135.0 \u00b0 i.e in the \u201cnorthwest\u201d direction.\n"
      }
     ],
     "prompt_number": 4
    },
    {
     "cell_type": "heading",
     "level": 3,
     "metadata": {},
     "source": "ILLUSTRATIVE EXAMPLE 4.3, Page number: 42"
    },
    {
     "cell_type": "code",
     "collapsed": false,
     "input": "'''Fuel is fed into a boiler at a rate of 10,000 lb/h in the presence of 20,000 lb/h of air. Due to the\nlow heating value of the fuel, 2000 lb/h of methane is added to assist in the combustion of the\nfuel. At what rate (lb/h) do the product gases exit the incinerator?\n'''\n\n#Variable declaration:\nR1_in = 10000                   #Rate of fuel fed into the boiler (lb/h)\nR2_1n = 20000                   #Rate of air fed into the boiler (lb/h)\nR3_in = 2000                    #Rate of methane fed into the boiler (lb/h)\n\n#Calculations:\nm_in = R1_in + R2_1n + R3_in    #Rate of mass in (lb/h)\nm_out = m_in                    #Rate of mass out (lb/h)\n\n#Result:\nprint \"The rate of the product gases exit from the incinerator is :\",round(m_in),\" lb/h\"",
     "language": "python",
     "metadata": {},
     "outputs": [
      {
       "output_type": "stream",
       "stream": "stdout",
       "text": "The rate of the product gases exit from the incinerator is : 32000.0  lb/h\n"
      }
     ],
     "prompt_number": 7
    },
    {
     "cell_type": "heading",
     "level": 3,
     "metadata": {},
     "source": "ILLUSTRATIVE EXAMPLE 4.4, Page number: 42"
    },
    {
     "cell_type": "code",
     "collapsed": false,
     "input": "'''A proposed heat exchanger design requires that a packed column and a spray tower are to be used\nin series for the removal of HCl from a gas feed stream. The spray tower is operating at an efficiency\nof 65% and the packed column at an efficiency of 98%. Calculate the mass flow rate of HCl leaving the spray tower, the mass flow rate of HCl entering the packed tower, and the overall\nfractional efficiency of the removal system if 76.0 lb of HCl enters the system every hour.\n'''\n\n#Variable declaration:\nE1 = 65                             #Efficiency of spray tower (%)\nE2 = 98                             #Efficiency of packed column (%)\nm_in = 76                           #Mass flow rate of HCl entering the system (lb/h)\n\n#Calculations:\nm1_out = (1 - E1/100.0)*m_in        #Mass flow rate of HCl leaving the spray tower (lb/h)\nm2_out = (1 - E2/100.0)*m1_out      #Mass flow rate of HCl entering the packed column (lb/h)\nE = (m_in - m2_out)/m_in            #Overall fractional efficiency (%)\n\n#Result:\nprint \"The mass flow rate of HCl leaving the spray tower is :\",round(m1_out,2),\" lb/h HCL\"\nprint \"The mass flow rate of HCl entering the packed column is :\",round(m2_out,3),\" lb/h HCL\"\nprint \"The overall fractional efficiency is :\",round(E*100,1),\" %\"",
     "language": "python",
     "metadata": {},
     "outputs": [
      {
       "output_type": "stream",
       "stream": "stdout",
       "text": "The mass flow rate of HCl leaving the spray tower is : 26.6  lb/h HCL\nThe mass flow rate of HCl entering the packed column is : 0.532  lb/h HCL\nThe overall fractional efficiency is : 99.3  %\n"
      }
     ],
     "prompt_number": 6
    },
    {
     "cell_type": "heading",
     "level": 3,
     "metadata": {},
     "source": "ILLUSTRATIVE EXAMPLE 4.5, Page number: 43"
    },
    {
     "cell_type": "code",
     "collapsed": false,
     "input": "'''Consider the flow diagram in Figure 4.3 for a wastewater treatment system. The following\nflowrate data are given:\nm\u02d91 = 1000 lb/min\nm\u02d92 = 1000 lb/min\nm\u02d94 = 200 lb/min\nCalculate the amount of water lost by evaporation in the operation, m\u02d9 .\n'''\n\n#Variable declaration:\nm1 = 1000                   #Flowrate data 1 (lb/min)\nm2 = 1000                   #Flowrate data 2 (lb/min)\nm4 = 200                    #Flowrate data 4 (lb/min)\n\n#Calculations:\nm5 = m1 + m2 - m4           #Flowrate data 5 (lb/min)\nm6 = m2                     #Flowrate data 6 (lb/min)\nm = m5 - m6                 #Flowrate of water lost in operation (lb/min)\n\n#Result:\nprint \"The amount of water lost by evaporation in the operation is\", round(m),\" lb/min\"",
     "language": "python",
     "metadata": {},
     "outputs": [
      {
       "output_type": "stream",
       "stream": "stdout",
       "text": "The amount of water lost by evaporation in the operation is 800.0  lb/min\n"
      }
     ],
     "prompt_number": 8
    },
    {
     "cell_type": "heading",
     "level": 3,
     "metadata": {},
     "source": "ILLUSTRATIVE EXAMPLE 4.6, Page number: 44"
    },
    {
     "cell_type": "code",
     "collapsed": false,
     "input": "'''Consider the system shown in Figure 4.4. The following volumetric flowrate and phosphate concentration\n(volume basis) data have been provided by the plant manager. Are the data correct\nand/or consistent?\nq1 = 1000 gal/day\nq2 = 1000 gal/day\nq3 = 2000 gal/day\nq4 = 200 gal/day\nq5 = 1800 gal/day\nq6 = 1000 gal/day\nC1 = 4 ppm\nC2 = 0 ppm\nC3 = 2 ppm\nC4 = 20 ppm\nC5 = 0 ppm\nC6 = 0 ppm\n'''\n\n#Variable declaration:\nq1 = 1000.0                   #Volumetric flowrate from tank 1 (gal/day)\nq2 = 1000.0                   #Volumetric flowrate from tank 2 (gal/day)\nq3 = 2000.0                   #Volumetric flowrate from tank 3 (gal/day)\nq4 = 200.0                    #Volumetric flowrate from tank 4 (gal/day)\nq5 = 1800.0                   #Volumetric flowrate from tank 5 (gal/day)\nq6 = 1000.0                   #Volumetric flowrate from tank 6 (gal/day)\nC1 = 4.0                      #Phosphate concentration in tank 1 (ppm)\nC2 = 0.0                      #Phosphate concentration in tank 2 (ppm)\nC3 = 2.0                      #Phosphate concentration in tank 3 (ppm)\nC4 = 20.0                     #Phosphate concentration in tank 4 (ppm)\nC5 = 0.0                      #Phosphate concentration in tank 5 (ppm)\nC6 = 0.0                      #Phosphate concentration in tank 6 (ppm)\nCf = 120000.0                 #conversion factor for water (gal/10**6lb)\n\n#Calculations:\nC1q1 = C1*q1/Cf             #Data 1 (lb/day)\nC2q2 = C2*q2/Cf             #Data 2 (lb/day)\nC3q3 = C3*q3/Cf             #Data 3 (lb/day)\nC4q4 = C4*q4/Cf             #Data 4 (lb/day)\nC5q5 = C5*q5/Cf             #Data 5 (lb/day)\nC6q6 = C6*q6/Cf             #Data 6 (lb/day)\n\n#Results:\nif (((C1q1 + C2q2) == C3q3) and  C3q3 == (C4q4 + C5q5) and C5q5 == C6q6 and C2q2 == C6q6):\n     print \"The data appear to be consistent .\"\nelse:\n     print \"The data appear to be inconsistent .\"",
     "language": "python",
     "metadata": {},
     "outputs": [
      {
       "output_type": "stream",
       "stream": "stdout",
       "text": "The data appear to be consistent .\n"
      }
     ],
     "prompt_number": 9
    },
    {
     "cell_type": "heading",
     "level": 3,
     "metadata": {},
     "source": "ILLUSTRATIVE EXAMPLE 4.7, Page number: 48"
    },
    {
     "cell_type": "code",
     "collapsed": false,
     "input": "'''A lake is located at the top of a mountain. A power plant has been constructed at the bottom of\nthe mountain. The potential energy of the water traveling downhill can be used to spin turbines\nand generate electricity. This is the operating mode in the daytime during peak electrical\ndemand. At night, when demand is reduced, the water is pumped back up the mountain. The\noperation is shown in Figure 4.5.\nUsing the method of power \u201cproduction\u201d described above, determine how much power\n(Watts) is generated by the lake located at an elevation of 3000 ft above the power plant. The\nflowrate of water is 500,000 gpm. The turbine efficiency is 30%. Neglect friction effects.\nNote: This programmed-instructional problem is a modified and edited version (with permission)\nof an illustrative example prepared by Marie Gillman, a graduate mechanical engineering\nstudent at Manhattan College.\n'''\n\n#Variable declaration:\nDz = 3000                       #Height (ft)\nV0 = 500000                     #Flowrate of water (gal/min)\nn = 30                          #Turbine efficiency (%)\nm = 0.3048                      #Meters in a feet\nm3 = 0.00378                    #Meters-cube in a gallon\ng = 9.8                         #Gravitational acceleration (m/s^2)\ngc = 1                          #Conversion factor\nMW = 10**(-6)                   #Megawatt in newton-meter-per-second\n\n#Calculations:\nV1 = (V0*m3)*1000.0/60.0        #The mass flow rate of the water in kilograms/second (kg/s)\nDPE = V1*g*Dz*m/gc*MW           #The loss in potential energy (MW)\nAP = n/100.0*DPE                #The actual power output (MW)\n\n#Result:\nprint \"The power generated by the lake located is :\",round(AP,1),\" MW\"",
     "language": "python",
     "metadata": {},
     "outputs": [
      {
       "output_type": "stream",
       "stream": "stdout",
       "text": "The power generated by the lake located is : 84.7  MW\n"
      }
     ],
     "prompt_number": 10
    },
    {
     "cell_type": "heading",
     "level": 3,
     "metadata": {},
     "source": "ILLUSTRATIVE EXAMPLE 4.8, Page number: 50"
    },
    {
     "cell_type": "code",
     "collapsed": false,
     "input": "'''If 111.4 lbmol/min of an air stream is heated from 200\u00b0F to 600\u00b0F, calculate the heat transfer\nrate required to bring about this change in temperature. Use the following enthalpy and average\nheat capacity data:\nH200\u00b0F = 1170 Btu/lbmol\nH600\u00b0F = 4010 Btu/lbmol\n'''\n\n#Variable declaration:\nn = 111.4                   #Flowrate of air stream (lbmol/min)\nH1 = 1170                   #Average heat capacity at 200\u00b0F (Btu/lbmol)\nH2 = 4010                   #Average heat capacity at 600\u00b0F (Btu/lbmol)\n\n#Calculation:\nQ = n*(H2 - H1)             #The heat transfer rate (Btu/min)\n\n#Result:\nprint \"The heat transfer rate required is:\",round(Q/10**5,2),\" x 10**5 Btu/min\"",
     "language": "python",
     "metadata": {},
     "outputs": [
      {
       "output_type": "stream",
       "stream": "stdout",
       "text": "The heat transfer rate required is: 3.16  x 10**5 Btu/min\n"
      }
     ],
     "prompt_number": 11
    },
    {
     "cell_type": "heading",
     "level": 3,
     "metadata": {},
     "source": "ILLUSTRATIVE EXAMPLE 4.9, Page number: 50"
    },
    {
     "cell_type": "code",
     "collapsed": false,
     "input": "'''Given the mass flow rate of a fluid and its heat capacity, determine the required heat rate to\nchange the fluid from one temperature to another. Data are provided below:\nn = 600 lbmol/min\nCp,AV = 0.271 Btu/lbmol . \u00b0F (over the 200\u2013600\u00b0F range)\nT1 = 200\u00b0F\nT2 = 600\u00b0F\n'''\n\n#Variable declaration:\nn = 600                     #The mass flow rate of fluid (lbmol/min)\nCp_AV = 0.271               #Heat capacity (Btu/lbmol . \u00b0F)\nT1 = 200                    #Initial temperature(\u00b0F)\nT2 = 600                    #Final temperature(\u00b0F)\n\n#Calcultaion:\nQ = n*Cp_AV*(T2 - T1)       #The required heat rate (Btu/min)\n\n#Result:\nprint \"The required heat rate is :\",round(Q,-2),\" Btu/min\"",
     "language": "python",
     "metadata": {},
     "outputs": [
      {
       "output_type": "stream",
       "stream": "stdout",
       "text": "The required heat rate is : 65000.0  Btu/min\n"
      }
     ],
     "prompt_number": 12
    },
    {
     "cell_type": "heading",
     "level": 3,
     "metadata": {},
     "source": "ILLUSTRATIVE EXAMPLE 4.10, Page number: 51"
    },
    {
     "cell_type": "code",
     "collapsed": false,
     "input": "'''Obtain the heat transfer rate in an exchanger if equal mass liquid flow rates are used. The hot\nfluid is cooled from 94 \u00b0C to  82 \u00b0C while the cold fluid is initially at 20 \u00b0C.\n'''\n\n#Variable declaration:\nT_c1 = 20                               #Initial cold fluid temperature (\u00b0C)\nT_h1 = 82                               #Initial hot fluid temperature (\u00b0C)\nT_h2 = 94                               #Final hot fluid temperature (\u00b0C)\n\n#Calculation:\nT_c2 = (T_h2 - T_h1 + T_c1)             #Final cold fluid temperature (\u00b0C)\n\n#Result:\nprint \"The heat transfer rate is:\",round(T_c2),\" \u00b0C\"\nprint \"There is a printing mistake in book regarding unit of the final result.\"",
     "language": "python",
     "metadata": {},
     "outputs": [
      {
       "output_type": "stream",
       "stream": "stdout",
       "text": "The heat transfer rate is: 32.0  \u00b0C\nThere is a printing mistake in book regarding unit of the final result.\n"
      }
     ],
     "prompt_number": 13
    },
    {
     "cell_type": "heading",
     "level": 3,
     "metadata": {},
     "source": "ILLUSTRATIVE EXAMPLE 4.11, Page number: 51"
    },
    {
     "cell_type": "code",
     "collapsed": false,
     "input": "'''As a gas flows through a cooler, 5.5MW of heat is transferred from the gas. The average heat\ncapacity of the gas is 1090 J/(kg .  \u00b0C), the gas mass flow rate, m\u02d9 , is 9 kg/s and the gas inlet temperature,\nT1, is 650 \u00b0C. For this example, kinetic and potential energy effects are again neglected.\nFurthermore, there is no shaft work. Determine the gas outlet temperature.\n'''\n\n#Variable declaration:\nQ = -5.5*10**6                  #The heat transferred out from the gas (W)\nCp = 1090.0                     #The average heat capacity of the gas (J/(kg . \u00b0C))\nm = 9.0                         #The gas mass flow rate (kg/s)\nT1 = 650                        #The gas inlet temperature (\u00b0C)\n\n#Calculation:\nT2 = Q/(m*Cp)+T1                #The gas outlet temperature (\u00b0C)\n\n#Result:\nprint \"The gas outlet temperature is :\",round(T2),\" \u00b0C\"",
     "language": "python",
     "metadata": {},
     "outputs": [
      {
       "output_type": "stream",
       "stream": "stdout",
       "text": "The gas outlet temperature is : 89.0  \u00b0C\n"
      }
     ],
     "prompt_number": 14
    },
    {
     "cell_type": "heading",
     "level": 3,
     "metadata": {},
     "source": "ILLUSTRATIVE EXAMPLE 4.12, Page number: 52"
    },
    {
     "cell_type": "code",
     "collapsed": false,
     "input": "'''A heat pump takes in 3500 gpm of water at a temperature of 38 \u00b0F and discharges it back to the\nlake at 36.2 \u00b0F. How many Btu are removed from thewater per day [Cp for H2O  = 75.4 J/(gmol .\u00b0C),\np  = 62.4 lb/ft^3]?\n '''\n\n#Variable declaration:\nn = 3500.0                      #Inlet flowrate of water (gal/min)\nCp_W = 75.4                     #Heat capacity of water (J/(gmol . \u00b0C)\np = 62.4                        #Density of water (lb/ft^3)\nM = 24*60.0                     #Minutes in a day (min/day)\nG = 7.48                        #Gallons in a feet cube (gal/ft^3)\ngm = 454.0                      #Grams in a pound (g/lb)\nJ = 1054.0                      #Joules in a Btu (J/Btu)\ng = 18.0                        #Grams in a gmol (g/gmol)\nF = 1.8                         #Degree fahrenheit in a degree celcius (\u00b0F)\nTi = 38.0                       #Initial temperature (\u00b0F)\nTf = 36.2                       #Final temperature (\u00b0F)\n\n#Calculations:\nT= Ti-Tf                        #Temperature loss (\u00b0F)\nm = n*p*M/G                     #Mass flow rate of water (lb/day)\nCp = Cp_W*gm/J/g/F              #Heat capacity in cosistent units (Btu/(lb.\u00b0F))\nQ = m*Cp*T                      #Rate of heat flow from water (Btu/day)\n\n#Result:\nprint \"The rate of Btu removed from the water per day is :\",round(Q/10**8,2),\" x 10**8 Btu/day .\"\nprint \"There is a calculation mistake in the book regarding the final result.\"",
     "language": "python",
     "metadata": {},
     "outputs": [
      {
       "output_type": "stream",
       "stream": "stdout",
       "text": "The rate of Btu removed from the water per day is : 0.76  x 10**8 Btu/day .\nThere is a calculation mistake in the book regarding the final result.\n"
      }
     ],
     "prompt_number": 15
    }
   ],
   "metadata": {}
  }
 ]
}