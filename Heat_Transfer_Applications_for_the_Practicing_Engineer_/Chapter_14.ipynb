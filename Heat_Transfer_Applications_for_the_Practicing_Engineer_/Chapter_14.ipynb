{
 "metadata": {
  "name": "Chapter 14"
 },
 "nbformat": 3,
 "nbformat_minor": 0,
 "worksheets": [
  {
   "cells": [
    {
     "cell_type": "heading",
     "level": 1,
     "metadata": {},
     "source": "Chapter 14: Introduction to Heat Exchangers"
    },
    {
     "cell_type": "heading",
     "level": 3,
     "metadata": {},
     "source": "ILLUSTRATIVE EXAMPLE 14.1, Page number: 259"
    },
    {
     "cell_type": "code",
     "collapsed": false,
     "input": "'''If 20,000 scfm (32\u00b0F, 1 atm) of an air stream is heated from 200\u00b0F to 2000\u00b0F, calculate the heat\ntransfer rate required to bring about this change in temperature. Use the following enthalpy and\naverage heat capacity data:\nH_200\u00b0F = 1170 Btu/lbmol\nH_2000\u00b0F = 14,970 Btu/lbmol\nCp,av = 7.53 Btu/lbmol.\u00b0F (over the 200-2000\u00b0F range)\n'''\n\n#Variable declaration:\nscfm = 20000.0                  #Volumetric flow rate of air at standard conditions (scfm)\nH1 = 1170.0                     #Enthalpy at 200\u00b0F (Btu/lbmol)\nH2 = 14970.0                    #Enthalpy at 2000\u00b0F (Btu/lbmol)\nCp = 7.53                       #Average heat capacity (Btu/lbmol.\u00b0F)\nT1 = 200.0                      #Initial temperature (\u00b0F)\nT2 = 2000.0                     #Final temperature (\u00b0F)\n\n#Calculation:\nn = scfm/359.0                  #Flow rate of air in a molar flow rate (lbmol/min)\nDH = H2 - H1                    #Change in enthalpy (Btu/lbmol)\nDT = T2 - T1                    #Change in temperature (\u00b0F)\nQ1 = n*DH                       #Heat transfer rate using enthalpy data (Btu/min)\nQ2 = n*Cp*DT                    #Heat transfer rate using the average heat capacity data (Btu/min)\n\n#Result:\nprint \"The heat transfer rate using enthalpy data is :\",round(Q1/10**5,2),\" x 10^5 Btu/min.\"\nprint \"The heat transfer rate using the average heat capacity data is :\",round(Q2/10**5,2),\" x 10^5 Btu/min.\"",
     "language": "python",
     "metadata": {},
     "outputs": [
      {
       "output_type": "stream",
       "stream": "stdout",
       "text": "The heat transfer rate using enthalpy data is : 7.69  x 10^5 Btu/min.\nThe heat transfer rate using the average heat capacity data is : 7.55  x 10^5 Btu/min.\n"
      }
     ],
     "prompt_number": 2
    },
    {
     "cell_type": "heading",
     "level": 3,
     "metadata": {},
     "source": "ILLUSTRATIVE EXAMPLE 14.2, Page number: 259"
    },
    {
     "cell_type": "code",
     "collapsed": false,
     "input": "'''Given the mass flow rate of a gas stream and its heat capacity, determine the required heat rate to\nchange the gas stream from one temperature to another. Data are provided below:\nn = 1200 lbmol/min\nCP,av = 0.26 Btu/lbmol.\u00b0F (over the 200-2000\u00b0F range)\nT1 = 200\u00b0F\nT2 = 1200\u00b0F\n'''\n\n#Variable declaration:\nn = 1200.0                  #Flow rate of air in a molar flow rate (lbmol/min)\nCp = 0.26                   #Average heat capacity (Btu/lbmol.\u00b0F)\nT1 = 200.0                  #Initial temperature (\u00b0F)\nT2 = 1200.0                 #Final temperature (\u00b0F)\n\n#Calculation:\nDT = T2 - T1                #Change in temperature (\u00b0F)\nQ = n*Cp*DT                 #Required heat rate (Btu/min)\n\n#Result:\nprint \"The required heat rate is :\",round(Q/10**5,2),\" x 10^5 Btu/min .\"",
     "language": "python",
     "metadata": {},
     "outputs": [
      {
       "output_type": "stream",
       "stream": "stdout",
       "text": "The required heat rate is : 3.12  x 10^5 Btu/min .\n"
      }
     ],
     "prompt_number": 3
    },
    {
     "cell_type": "heading",
     "level": 3,
     "metadata": {},
     "source": "ILLUSTRATIVE EXAMPLE 14.3, Page number: 260"
    },
    {
     "cell_type": "code",
     "collapsed": false,
     "input": "'''Obtain the heat transfer rate in an exchanger if equal similar liquid flow rates are used. The hot\nfluid is cooled from 84\u00b0C to 72\u00b0C while the cold fluid is initially at 25\u00b0C.\n'''\n\n#Variable declaration:\nTc1 = 25.0                  #Initial temperature of cold fluid (\u00b0C)\nTh1 = 72.0                  #Initial temperature of hot fluid (\u00b0C)\nTh2 = 84.0                  #Final temperature of hot fluid (\u00b0C)\n\n#Calculation:\n#From equation 14.2:\nTc2 = (Th2-Th1)+Tc1         #Final temperature of cold fluid (\u00b0C)\n\n#Result:\nprint \"The final temperature of the cold liquid is :\",Tc2,\" \u00b0C .\"\nprint \"There is a printing mistake in unit of final temperature in book.\"",
     "language": "python",
     "metadata": {},
     "outputs": [
      {
       "output_type": "stream",
       "stream": "stdout",
       "text": "The final temperature of the cold liquid is : 37.0  \u00b0C .\nThere is a printing mistake in unit of final temperature in book.\n"
      }
     ],
     "prompt_number": 4
    },
    {
     "cell_type": "heading",
     "level": 3,
     "metadata": {},
     "source": "ILLUSTRATIVE EXAMPLE 14.4, Page number: 265"
    },
    {
     "cell_type": "code",
     "collapsed": false,
     "input": "'''Steam at 1 atm outside a pipe is heating a fluid inside a pipe whose temperature may be assumed\nuniform at 25\u00b0C. Calculate the LMTD.\n'''\n\n#Variable declaration:\nTs = 100.0                  #Steam temperature at 1 atm (\u00b0C)\nTl = 25.0                   #Fluid temperature (\u00b0C)\n\n#Calculation:\nDTlm = Ts - Tl              #Log mean temperature difference (\u00b0C)\n\n#Result:\nprint \"The LMTD is :\",DTlm,\" \u00b0C .\"",
     "language": "python",
     "metadata": {},
     "outputs": [
      {
       "output_type": "stream",
       "stream": "stdout",
       "text": "The LMTD is : 75.0  \u00b0C .\n"
      }
     ],
     "prompt_number": 5
    },
    {
     "cell_type": "heading",
     "level": 3,
     "metadata": {},
     "source": "ILLUSTRATIVE EXAMPLE 14.5, Page number: 265"
    },
    {
     "cell_type": "code",
     "collapsed": false,
     "input": "'''Repeat the calculation in the previous example if the fluid is heated from 25\u00b0C and 80\u00b0C\n'''\n\nfrom math import log\n\n#Variable declaration:\nTs = 100.0                      #Steam temperature at 1 atm (\u00b0C)\nT1 = 25.0                       #Initial fluid temperature (\u00b0C)\nT2 = 80.0                       #Final fluid temperature (\u00b0C)\n\n#Calculation:\nDT1 = Ts - T1                   #Temperature difference driving force at the fluid entrance (\u00b0C)\nDT2 = Ts - T2                   #Temperature driving force at the fluid exit (\u00b0C)\nDTlm = (DT1 - DT2)/log(DT1/DT2) #Log mean temperature difference (\u00b0C)\n\n#Result:\nprint \"The LMTD is :\",round(DTlm,1),\" \u00b0C .\"\nprint \"There is a calculation mistake regarding final result in book.\"",
     "language": "python",
     "metadata": {},
     "outputs": [
      {
       "output_type": "stream",
       "stream": "stdout",
       "text": "The LMTD is : 41.6  \u00b0C .\nThere is a calculation mistake regarding final result in book.\n"
      }
     ],
     "prompt_number": 6
    },
    {
     "cell_type": "heading",
     "level": 3,
     "metadata": {},
     "source": "ILLUSTRATIVE EXAMPLE 14.6, Page number: 266"
    },
    {
     "cell_type": "code",
     "collapsed": false,
     "input": "'''A liquid-to-liquid counterflow heat exchanger is used to heat a cold fluid from 120\u00b0F to 310\u00b0F.\nAssuming that the hot fluid enters at 500\u00b0F and leaves at 400\u00b0F, calculate the log mean temperature\ndifference (driving force) for the heat exchanger.\n'''\n\nfrom math import log\n\n#Variable declaration:\nT1 = 500.0                      #Temperature of hot fluid entering the heat exchanger (\u00b0F)\nT2 = 400.0                      #Temperature of hot fluid exiting the heat exchanger (\u00b0F)\nt1 = 120.0                      #Temperature of cold fluid entering the heat exchanger (\u00b0F)\nt2 = 310.0                      #Temperature of cold fluid exiting the heat exchanger (\u00b0F)\n\n#Calculation:\nDT1 = T1 - t2                   #Temperature difference driving force at the heat exchanger entrance (\u00b0F)\nDT2 = T2 - t1                   #Temperature difference driving force at the heat exchanger exit (\u00b0F)\nDTlm = (DT1 - DT2)/(log(DT1/DT2))   #LMTD (driving force) for the heat exchanger (\u00b0F)\n\n#Result:\nprint \"The LMTD (driving force) for the heat exchanger is :\",round(DTlm),\" \u00b0F .\"",
     "language": "python",
     "metadata": {},
     "outputs": [
      {
       "output_type": "stream",
       "stream": "stdout",
       "text": "The LMTD (driving force) for the heat exchanger is : 232.0  \u00b0F .\n"
      }
     ],
     "prompt_number": 7
    },
    {
     "cell_type": "heading",
     "level": 3,
     "metadata": {},
     "source": "ILLUSTRATIVE EXAMPLE 14.7, Page number: 267"
    },
    {
     "cell_type": "code",
     "collapsed": false,
     "input": "'''A heavy hydrocarbon oil with heat capacity, cp = 0.55 Btu/lb . \u00b0F, is being cooled from T1 =\n210\u00b0F to T2 = 170\u00b0F. The oil flows inside a tube at a rate of 8000 lb/h and the tube surface temperature\nis maintained at 60\u00b0F. Calculate the heat transfer rate and the LMTD in \u00b0F.\n'''\n\nfrom math import log\n\n#Variable declaration:\nm = 8000.0                  #Rate of oil flow inside the tube (lb/h)\nCp = 0.55                   #Heat capacity of oil (Btu/lb.\u00b0F)\nT1 = 210.0                  #Initial temperature of oil (\u00b0F)\nT2 = 170.0                  #Final temperature of oil (\u00b0F)\nt = 60.0                    #Tube surface temperature (\u00b0F)\n\n#Calculation:\nDT = T2 - T1                #Change in temperature (\u00b0F)\nQ = m*Cp*DT                 #Heat transferred from the heavy oil (Btu/h)\nDT1 = T1 - t                #Temperature difference driving force at the pipe entrance (\u00b0F)\nDT2 = T2 - t                #Temperature difference driving force at the pipe exit (\u00b0F)\nDTlm = (DT1 - DT2)/(log(DT1/DT2))   #LMTD (driving force) for the heat exchanger (\u00b0F)\n\n#Result:\nprint \"The heat transfer rate is :\",round(Q),\" Btu/h .\"\nprint \"The LMTD for the heat exchanger is :\",round(DTlm),\" \u00b0F .\"",
     "language": "python",
     "metadata": {},
     "outputs": [
      {
       "output_type": "stream",
       "stream": "stdout",
       "text": "The heat transfer rate is : -176000.0  Btu/h .\nThe LMTD for the heat exchanger is : 129.0  \u00b0F .\n"
      }
     ],
     "prompt_number": 8
    },
    {
     "cell_type": "heading",
     "level": 3,
     "metadata": {},
     "source": "ILLUSTRATIVE EXAMPLE 14.8, Page number: 267"
    },
    {
     "cell_type": "code",
     "collapsed": false,
     "input": "'''An oil cooler is to operate with an inlet of 138\u00b0F and outlet of 103\u00b0F, and the coolant entering at\n88\u00b0F is to be allowed to rise to 98\u00b0F. What is the LMTD for this unit, if it is considered as\n1. counter-current flow unit, and\n2. a parallel flow unit.\n'''\n\nfrom math import log\n\n#Variable declaration:\nT1 = 138.0                  #Temperature of oil entering the cooler (\u00b0F)\nT2 = 103.0                  #Temperature of oil leaving the cooler (\u00b0F)\nt1 = 88.0                   #Temperature of coolant entering the cooler (\u00b0F)\nt2 = 98.0                   #Temperature of coolant leaving the cooler (\u00b0F)\n\n#Calculation:\n#For counter flow unit:\nDT1 = T1 - t2               #Temperature difference driving force at the cooler entrance (\u00b0F)\nDT2 = T2 - t1               #Temperature difference driving force at the cooler exit (\u00b0F)\nDTlm1 = (DT1 - DT2)/(log(DT1/DT2))   #LMTD (driving force) for the heat exchanger (\u00b0F)\n#For parallel flow unit:\nDT3 = T1 - t1               #Temperature difference driving force at the cooler entrance (\u00b0F)\nDT4 = T2 - t2               #Temperature difference driving force at the cooler exit (\u00b0F)\nDTlm2 = (DT3 - DT4)/(log(DT3/DT4))   #LMTD (driving force) for the heat exchanger (\u00b0F)\n\n#Result:\nprint \"The LMTD for counter-current flow unit is :\",round(DTlm1,1),\" \u00b0F .\"\nprint \"The LMTD for parallel flow unit is :\",round(DTlm2,1),\" \u00b0F .\"",
     "language": "python",
     "metadata": {},
     "outputs": [
      {
       "output_type": "stream",
       "stream": "stdout",
       "text": "The LMTD for counter-current flow unit is : 25.5  \u00b0F .\nThe LMTD for parallel flow unit is : 19.5  \u00b0F .\n"
      }
     ],
     "prompt_number": 9
    },
    {
     "cell_type": "heading",
     "level": 3,
     "metadata": {},
     "source": "ILLUSTRATIVE EXAMPLE 14.10, Page number: 272"
    },
    {
     "cell_type": "code",
     "collapsed": false,
     "input": "'''Arectangular plane window glass panel is mounted on a house. The glass is 0.125 inch thick and\nhas a surface area of 1.0 m2; its thermal conductivity, k2, is 1.4W/m . K. The inside house temperature,\nT1, and the outside air temperature, t4, are 25\u00b0C and 214\u00b0C, respectively. The heat\ntransfer coefficient inside the room, h1, is 11.0 W/m^2 . K and the heat transfer coefficient\nfrom the window to the surrounding cold air, h3, is 9.0 W/m^2 . K. Calculate the overall heat\ntransfer coefficient in W/m^2 . K.\n'''\n\n#Variable declaration:\nA = 1.0                         #Surface area of glass (m^2)\nh1 = 11.0                       #Heat transfer coefficient inside room (W/m^2.K)\nL2 = 0.125*0.0254               #Thickness of glass (m)\nk2 = 1.4                        #Thermal conductivity of glass (W/m.K)\nh3 = 9.0                        #Heat transfer coefficient from window to surrounding cold air (W/m^2.K)\n\n#Calculation:\nR1 = 1.0/(h1*A)                 #Internal convection resistance (K/W)\nR2 = L2/(k2*A)                  #Conduction resistance through glass panel (K/W)\nR3 = 1.0/(h3*A)                 #Outside convection resistance (K/W)\nRt = R1+R2+R3                   #Total thermal resistance (K/W)\nU = 1.0/(A*Rt)                  #Overall heat transfer coefficient (W/m^2.K)\n\n#Result:\nprint \"The overall heat transfer coefficient is :\",round(U,1),\" W/m^2.K .\"",
     "language": "python",
     "metadata": {},
     "outputs": [
      {
       "output_type": "stream",
       "stream": "stdout",
       "text": "The overall heat transfer coefficient is : 4.9  W/m^2.K .\n"
      }
     ],
     "prompt_number": 11
    },
    {
     "cell_type": "heading",
     "level": 3,
     "metadata": {},
     "source": "ILLUSTRATIVE EXAMPLE 14.11, Page number: 273"
    },
    {
     "cell_type": "code",
     "collapsed": false,
     "input": "'''A heat exchanger wall consists of a copper plate 0.049 inch thick. If the two surface film coefficients\nare 208 and 10.8 Btu/h.ft^2.\u00b0F, respectively, calculate the overall heat transfer coefficient\nin Btu/h.ft^2.\u00b0F.\n'''\n\n#Variable declaration:\nDx = 0.049/12.0                     #Thickness of copper plate (ft)\nh1 = 208.0                          #Film coefficient of surface one (Btu/h.ft^2.\u00b0F)\nh2 = 10.8                           #Film coefficient of surface two (Btu/h.ft^2.\u00b0F)\nk = 220.0                           #Thermal conductivity for copper (W/m.K)\n\n#Calculation:\nU = 1.0/(1.0/h1+Dx/k+1.0/h2)        #Overall heat transfer coefficient (Btu/h.ft^2.\u00b0F)\n\n#Result:\nprint \"The overall heat transfer coefficient is :\",round(U,2),\" Btu/h.ft^2.\u00b0F .\"",
     "language": "python",
     "metadata": {},
     "outputs": [
      {
       "output_type": "stream",
       "stream": "stdout",
       "text": "The overall heat transfer coefficient is : 10.26  Btu/h.ft^2.\u00b0F .\n"
      }
     ],
     "prompt_number": 12
    },
    {
     "cell_type": "heading",
     "level": 3,
     "metadata": {},
     "source": "ILLUSTRATIVE EXAMPLE 14.12, Page number: 274"
    },
    {
     "cell_type": "code",
     "collapsed": false,
     "input": "'''A coolant flows through a steel pipe (inside diameter of 0.05 m, outside diameter of 0.06 m) at a\nvelocity of 0.25 m/s. What is the overall heat transfer coefficient for the system based on the\npipe\u2019s outside surface area if the inside and outside coefficients are 2000 W/m^2 . K and 8.25\nW/m^2 . K, respectively. Assume the \u201cresistance\u201d term for the steel, that is,\nR = Do x ln(Do/Di)/2k\nis 1.33 x 10^-4 m^2.K/W .\n'''\n\n#Variable declaration:\nDo = 0.06                        #Outside diameter of pipe (m)\nDi = 0.05                        #Inside diameter of pipe (m)\nho = 8.25                        #Outside coefficient (W/m^2.K)\nhi = 2000.0                      #Inside coefficient (W/m^2.K)\nR = 1.33*10**-4                  #Resistance for steel (m^2.K/W)\n\n#Calculation:\nU = 1.0/(Do/(hi*Di)+R+1.0/ho)    #Overall heat transfer coefficient (W/m^2.\u00b0K)\n\n#Result:\nprint \"The overall heat transfer coefficient is :\",round(U,2),\" W/m^2.\u00b0K .\"",
     "language": "python",
     "metadata": {},
     "outputs": [
      {
       "output_type": "stream",
       "stream": "stdout",
       "text": "The overall heat transfer coefficient is : 8.2  W/m^2.\u00b0K .\n"
      }
     ],
     "prompt_number": 13
    },
    {
     "cell_type": "heading",
     "level": 3,
     "metadata": {},
     "source": "ILLUSTRATIVE EXAMPLE 14.14, Page number: 274"
    },
    {
     "cell_type": "code",
     "collapsed": false,
     "input": "'''Steam at 247\u00b0F is flowing through a pipe exposed to air but covered with 1.5 inch thick insulation.\nThe following data is provided:\n1. Pipe diameter, inside = 0.825 inch\n2. Pipe diameter, outside = 1.05 inch\n3. Surrounding air temperature = 60\u00b0F\n4. Thermal conductivity, pipe = 26 Btu/h . ft . \u00b0F\n5. Thermal conductivity, insulation = 0.037 Btu/h . ft . \u00b0F\n6. Steam film coefficient = 800 Btu/h . ft^2 . \u00b0F\n7. Air film coefficient = 2.5 Btu/h . ft^2 . \u00b0F\nCalculate the overall heat transfer coefficient based on the inside area of the pipe.\n'''\n\nfrom math import pi,log\n\n#Variable declaration:\nDi = 0.825/12.0                         #Pipe inside diameter (ft)\nDo = 1.05/12.0                          #Pipe outside diameter (ft)\nDl = 4.05/12.0                           #Insulation thickness (ft)\nl = 1.0                                 #Pipe length (ft)\nkp = 26.0                               #Thermal conductivity of pipe (Btu/h.ft.\u00b0F)\nkl = 0.037                              #Thermal conductivity of insulation (Btu/h.ft.\u00b0F)\nhi = 800.0                              #Steam film coefficient (Btu/h.ft^2.\u00b0F)\nho = 2.5                                #Air film coefficient (Btu/h.ft^2.\u00b0F)\n\n#Calculation:\nri = Di/2.0                             #Pipe inside radius (ft)\nro = Do/2.0                             #Pipe outside radius (ft)\nrl = Dl/2.0                             #Insulation radius (ft)\nAi = pi*Di*l                            #Inside area of pipe (ft^2)\nAo = pi*Do*l                            #Outside area of pipe (ft^2)\nAl = pi*Dl*l                            #Insulation area of pipe (ft^2)\nA_Plm = (Ao-Ai)/log(Ao/Ai)              #Log mean area for steel pipe (ft^2)\nA_Ilm = (Al-Ao)/log(Al/Ao)              #Log mean area for insulation (ft^2)\nRi = 1.0/(hi*Ai)                        #Air resistance (m^2.K/W)\nRo = 1.0/(ho*Al)                        #Steam resistance (m^2.K/W)\nRp = (ro-ri)/(kp*A_Plm)                 #Pipe resistance (m^2.K/W)\nRl = (rl-ro)/(kl*A_Ilm)                 #Insulation resistance (m^2.K/W)\nU = 1.0/(Ai*(Ri+Rp+Ro+Rl))              #Overall heat coefficient based on the inside area (Btu/h.ft^2.\u00b0F)\n\n#Result:\nprint \"The overall heat transfer coefficient based on the inside area of the pipe is :\",round(U,3),\" Btu/h.ft^2.\u00b0F .\"",
     "language": "python",
     "metadata": {},
     "outputs": [
      {
       "output_type": "stream",
       "stream": "stdout",
       "text": "The overall heat transfer coefficient based on the inside area of the pipe is : 0.748  Btu/h.ft^2.\u00b0F .\n"
      }
     ],
     "prompt_number": 15
    },
    {
     "cell_type": "heading",
     "level": 3,
     "metadata": {},
     "source": "ILLUSTRATIVE EXAMPLE 14.15, Page number: 275"
    },
    {
     "cell_type": "code",
     "collapsed": false,
     "input": "'''Calculate the rate of heat transfer in the previous example.\n'''\n\nfrom math import pi\n\n#Variable declaration:\n#From example 14.14:\nDi = 0.825/12.0                         #Pipe inside diameter (ft)\nL = 1.0                                 #Pipe length (ft)\nUi = 0.7492                             #Overall heat coefficient (Btu/h.ft^2.\u00b0F)\nTs = 247.0                              #Steam temperature (\u00b0F)\nta = 60.0                               #Air temperature (\u00b0F)\n\n#Calculation:\nAi = pi*Di*L                            #Inside area of pipe (ft^2)\nQ = Ui*Ai*(Ts-ta)                       #Heat transfer rate (Btu/h)\n\n#Result:\nprint \"The heat transfer rate is :\",round(Q,1),\" Btu/h .\"",
     "language": "python",
     "metadata": {},
     "outputs": [
      {
       "output_type": "stream",
       "stream": "stdout",
       "text": "The heat transfer rate is : 30.3  Btu/h .\n"
      }
     ],
     "prompt_number": 16
    },
    {
     "cell_type": "heading",
     "level": 3,
     "metadata": {},
     "source": "ILLUSTRATIVE EXAMPLE 14.16, Page number: 276"
    },
    {
     "cell_type": "code",
     "collapsed": false,
     "input": "'''The following information is provided for a heat exchanger:\nhw(water) = 200 Btu/h.ft^2.\u00b0F\nho(oil) = 50 Btu/h.ft^2.\u00b0F\nhf (fouling) = 1000 Btu/h.ft^2.\u00b0F\nDTlm = 90\u00b0F\nA = 15.0 ft^2\nCalculate the heat transfer rate for the exchanger if the wall resistance can be neglected.\n'''\n\n#Variable declaration:\nhw = 200.0                      #Water heat coefficient (Btu/h.ft^2.\u00b0F)\nho = 50.0                       #Oil heat coefficient (Btu/h.ft^2.\u00b0F)\nhf = 1000.0                     #Fouling heat coefficient (Btu/h.ft^2.\u00b0F)\nDTlm = 90.0                     #Log mean temperature difference (\u00b0F)\nA = 15.0                        #Area of wall (ft^2)\n\n#Calculation:\nX = 1.0/hw+1.0/ho+1.0/hf        #Equation 14.34 for constant A\nU = 1.0/X                       #Overall heat coeffocient (Btu/h.ft^2.\u00b0F)\nQ = U*A*DTlm                    #Heat transfer rate (Btu/h)\n\n#Result:\nprint \"The heat transfer rate is :\",round(Q,-1),\" Btu/h .\"",
     "language": "python",
     "metadata": {},
     "outputs": [
      {
       "output_type": "stream",
       "stream": "stdout",
       "text": "The heat transfer rate is : 51920.0  Btu/h .\n"
      }
     ],
     "prompt_number": 17
    },
    {
     "cell_type": "heading",
     "level": 3,
     "metadata": {},
     "source": "ILLUSTRATIVE EXAMPLE 14.17, Page number: 277"
    },
    {
     "cell_type": "code",
     "collapsed": false,
     "input": "'''A brine solution at 10\u00b0F in a food processing plant is heated by flowing through a heated pipe.\nThe pipe surface is maintained at 80\u00b0F. The pipe surface area for heat transfer is 2.5 ft^2. The\nbrine solution (with a density of 62.4 lb/ft^3 and a heat capacity of 0.99 Btu/lb.\u00b0F) flows at a\nrate of 20 lb/min. The overall heat transfer coefficient varies linearly with the temperature\napproach, with values of 150 Btu/h.ft^2.\u00b0F at the brine solution entrance (where the brine\ntemperature is 10\u00b0F) and 140 Btu/h.ft^2.\u00b0F at the brine solution exit. Determine the temperature\napproach at the brine inlet side, the exit temperature of the brine solution, and the rate of heat\ntransfer, Q .\n''' \n\nfrom __future__ import division\nfrom sympy import symbols,log,nsolve\n\n\n#Variable declaration:\nT = 80.0                        #Pipe surface temperature (\u00b0F)\nt1 = 10.0                       #Brine inlet temperature (\u00b0F)\nDT2 = symbols('DT2')            #Discharge temperature of the brine solution (\u00b0F)\nm = 20*60                       #Flowrate of brine solution (lb/h)\nCp = 0.99                       #Heat capacity of brine solution (Btu/lb.\u00b0F)\nU1 = 150                        #Overall heat transfer coefficient at brine solution entrance (Btu/h.ft^2.\u00b0F)\nU2 = 140                        #Overall heat transfer coefficientat at brine solution exit (Btu/h.ft^2.\u00b0F)\nA = 2.5                         #Pipe surface area for heat transfer (ft^2)\n\n#Calculation:\nDT1 = T-t1                      #Temperature approach at the pipe entrance (\u00b0F)\nQ = m*Cp*(DT1-DT2)              #Energy balance to the brine solution across the full length of the pipe (Btu/h)\nDT1m = (DT1-DT2)/log(DT1/DT2)   #Equation for the LMTD\nQQ = A*(U2*DT1-U1*DT2)/log(U2*DT1/U1/DT2)   #Equation for the heat transfer rate (Btu/h)\nE = QQ-Q                        #Energy balance equation\nR = nsolve([E],[DT2],[1.2])     #\nDT = R[0]                       #Log mean temperature difference\nt2 = T-DT                       #In discharge temperature of the brine solution (\u00b0F)\nt2c = 5/9*(t2-32)               #In discharge temperature of the brine solution in \u00b0C (c/5 = (F-32)/9)\n_Q_ = Q.subs(DT2,DT)            #Heat transfer rate (Btu/h)\n\n#Result:\nprint \"The temperature approach at the brine inlet side is :\",round(DT1,1),\" \u00b0F.\"\nprint \"Or, the temperature approach at the brine inlet side is :\",round(DT1/1.8,1),\" \u00b0C.\"\nprint \"The exit temperature of the brine solution is :\",round(t2,1),\" \u00b0F.\"\nprint \"Or, the exit temperature of the brine solution is :\",round((t2-32)/1.8,1),\" \u00b0C.\"\nprint \"The rate of heat transfer is :\",round(_Q_,-1),\" Btu/h.\"\nprint \"Or, the rate of heat transfer is :\",round(_Q_/3.412,-2),\" W.\"",
     "language": "python",
     "metadata": {},
     "outputs": [
      {
       "output_type": "stream",
       "stream": "stdout",
       "text": "The temperature approach at the brine inlet side is : 70.0  \u00b0F.\nOr, the temperature approach at the brine inlet side is : 38.9  \u00b0C.\nThe exit temperature of the brine solution is : 28.4  \u00b0F.\nOr, the exit temperature of the brine solution is : -2.0  \u00b0C.\nThe rate of heat transfer is : 21830.0  Btu/h.\nOr, the rate of heat transfer is : 6400.0  W.\n"
      }
     ],
     "prompt_number": 18
    }
   ],
   "metadata": {}
  }
 ]
}