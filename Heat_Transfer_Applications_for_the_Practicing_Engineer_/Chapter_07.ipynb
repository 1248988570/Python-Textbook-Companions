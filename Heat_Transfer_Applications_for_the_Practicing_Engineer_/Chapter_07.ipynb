{
 "metadata": {
  "name": "Chapter 07"
 },
 "nbformat": 3,
 "nbformat_minor": 0,
 "worksheets": [
  {
   "cells": [
    {
     "cell_type": "heading",
     "level": 1,
     "metadata": {},
     "source": "Chapter 7: Steady-State Heat Conduction"
    },
    {
     "cell_type": "heading",
     "level": 3,
     "metadata": {},
     "source": "ILLUSTRATIVE EXAMPLE 7.1, Page number: 93"
    },
    {
     "cell_type": "code",
     "collapsed": false,
     "input": "'''A glass window is 1 cm thick and has an area of 3 m^2. The temperature at the outer surface is\n10\u00b0C. The glass has a conductivity of 1.4 W/m . K. The heat transfer rate is 3 kW. Calculate\nthe temperature at the inner surface.\n'''\n\n#Variable declaration:\nQ = 3000.0              #The rate of heat flow through the glass window (W)\nL = 0.01                #Thickness of glass window (m)\nA = 3.0                 #Area of heat transfer (m^2)\nTC = 10+273             #Temperature at the outside surface (K)\nk = 1.4                 #Thermal onductivity of glass (W/m.K)\n\n#Calculation:\nTH = TC+Q*L/k/A         #Temperature at the inner surface (K)\n\n#Result:\nprint \"The temperature at the inner surface is :\",round(TH,1),\" K\"\nprint \"The temperature at the inner surface is :\",round(TH-273,1),\" \u00b0C\"",
     "language": "python",
     "metadata": {},
     "outputs": [
      {
       "output_type": "stream",
       "stream": "stdout",
       "text": "The temperature at the inner surface is : 290.1  K\nThe temperature at the inner surface is : 17.1  \u00b0C\n"
      }
     ],
     "prompt_number": 1
    },
    {
     "cell_type": "heading",
     "level": 3,
     "metadata": {},
     "source": "ILLUSTRATIVE EXAMPLE 7.2, Page number: 94"
    },
    {
     "cell_type": "code",
     "collapsed": false,
     "input": "'''A new 1 ft thick insulating material was recently tested for heat resistant properties. The data\nrecorded temperatures of 70\u00b0F and 210\u00b0F on the cold and hot sides, respectively. If the thermal\nconductivity of the insulating material is 0.026 Btu/ft . h . \u00b0F, calculate the rate of the heat flux,\nQ/A, through the wall in Btu/ft^2 . h. Resolve the problem in SI units.\n'''\n\n#Variable declaration:\nk = 0.026               #Thermal conductivity of insulating material (Btu/ft.h.\u00b0F)\nL = 1.0                 #Thickness of insulating material (ft)\nTC = 70.0               #Temperature on the cold side surface (\u00b0F)\nTH = 210.0              #Temperature on the hot side surface (\u00b0F)\nc = 0.252               #Kilocalorie per hour in a Btu per hour\nm = 0.093               #meter square in a feet square\n\n#Calculation:\nDT = TH-TC              #Change in temperature (\u00b0F)\nQ1 = k*DT/L             #Rate of heat flux throughthe wall (Btu/f^t2.h.)\nQ2 = Q1*c/m             #Rate of heat flux throughthe wall in SI units (kcal/m^2.h)\n\n#Result:\nprint \"The rate of heat flux in Btu/ft^2.h is :\",round(Q1,3),\" Btu/ft^2.h .\"\nprint \"The rate of heat flux in SI units is :\",round(Q2,3),\" kcal/m^2.h .\"",
     "language": "python",
     "metadata": {},
     "outputs": [
      {
       "output_type": "stream",
       "stream": "stdout",
       "text": "The rate of heat flux in Btu/ft^2.h is : 3.64  Btu/ft^2.h .\nThe rate of heat flux in SI units is : 9.863  kcal/m^2.h .\n"
      }
     ],
     "prompt_number": 2
    },
    {
     "cell_type": "heading",
     "level": 3,
     "metadata": {},
     "source": "ILLUSTRATIVE EXAMPLE 7.3, Page number: 94"
    },
    {
     "cell_type": "code",
     "collapsed": false,
     "input": "'''The following information is provided. A rectangular furnace wall is made of fire clay (height,\nH = 3 m, width, W = 1.2 m, thickness, L = 0.17 m). Temperature of inside surface (area =\nH x W), TH, is 1592 K, and of the outside surface (area = H x W), TC, is 1364 K.\nDetermine the temperature gradient, the heat transfer rate, and the heat transfer flux.\n'''\n\n#Variable declaration:\nTH = 1592.0                     #Temperature of inside surface (K)\nTC = 1364.0                     #Temperature of outside surface (K)\nH = 3.0                         #Height of furnace wall (m)\nW = 1.2                         #Width of furnace wall (m)\nL = 0.17                        #Thickness furnace wall (m)\nm = 0.0929                      #Meter square per second in a feet square per second\nBtu = 3.412                     #Btu per hour in a Watt\nBtu2 = 0.3171                   #Btu per feet square hour in a watt per meter square\n\n#Calculation:\nTav = (TH+TC)/2                 #Average wall temperature (K)\n#From Table in Appendix:\np = 2645.0                      #Density of material (kg/m^3)\nk = 1.8                         #Thermal conductivity (W/m.K)\nCp = 960.0                      #Heat capacity of material (J/kg.K)\na = k/(p*Cp)/m                  #Thermal diffusivity (ft^2/s)\nt = (TC-TH)/L                   #Temperature gradient (\u00b0C/m)\nA = H*W                         #Heat transfer area (m^2)\nQ1 = k*A*(TH-TC)/L*Btu          #Heat transfer rate (Btu/h)\nQ2 = k*(TH-TC)/L*Btu2           #Heat transfer flux (Btu/h.ft^2)\nR = L/(k*A)                     #Thermal resistance (\u00b0C/W)\n\n#Result:\nprint \"The temperature gradient is :\",round(t),\" \u00b0C/m.\"\nprint \"The heat transfer rate is :\",round(Q1),\" Btu/h.\"\nprint \"The heat transfer flux is :\",round(Q2,1),\" Btu/h.ft^2.\"",
     "language": "python",
     "metadata": {},
     "outputs": [
      {
       "output_type": "stream",
       "stream": "stdout",
       "text": "The temperature gradient is : -1341.0  \u00b0C/m.\nThe heat transfer rate is : 29653.0  Btu/h.\nThe heat transfer flux is : 765.5  Btu/h.ft^2.\n"
      }
     ],
     "prompt_number": 3
    },
    {
     "cell_type": "heading",
     "level": 3,
     "metadata": {},
     "source": "ILLUSTRATIVE EXAMPLE 7.4, Page number: 96"
    },
    {
     "cell_type": "code",
     "collapsed": false,
     "input": "'''A concrete wall has a surface area of 30 m^2 and is 0.30 m thick. It separates warm room air from\ncold ambient air. The inner surface of the wall is known to be at a temperature of 25\u00b0C, while the\nouter surface is at -15\u00b0C. The thermal conductivity of the concrete is 1.0 W/m . K.\n1. Describe the conditions that must be satisfied in order for the temperature distribution in\nthe wall to be linear.\n2. What is the driving force for the transfer of heat?\n3. What is the heat loss through the wall?\n'''\n\n#Variable declaration:\nTH = 25.0                   #Temperature at inner suface of wall (\u00b0C)\nTC = -15.0                  #Temperature at outer suface of wall (\u00b0C)\nL = 0.3                     #Thickness of wall (m)\nk = 1.0                     #Thermal conductivity of concrete (W/m)\nA = 30.0                    #Sueface area of wall (m^2)\n\n#Calculation:\nDT = TH-TC                  #Driving force for heat transfer (\u00b0C) (part 2)\nR = L/(k*A)                 #Thermal resistance (\u00b0C/W) (part 3)\nQ = DT/R/10**3              #Heat loss through the wall (kW)\n\n#Result:\nprint \"1. Theoretical part.\"\nprint \"2. The driving force for heat transfer is :\",DT,\" \u00b0C.\"\nprint \"3. The heat loss through the wall is :\",Q,\" kW.\"",
     "language": "python",
     "metadata": {},
     "outputs": [
      {
       "output_type": "stream",
       "stream": "stdout",
       "text": "1. Theoretical part.\n2. The driving force for heat transfer is : 40.0  \u00b0C.\n3. The heat loss through the wall is : 4.0  kW.\n"
      }
     ],
     "prompt_number": 4
    },
    {
     "cell_type": "heading",
     "level": 3,
     "metadata": {},
     "source": "ILLUSTRATIVE EXAMPLE 7.5, Page number: 97"
    },
    {
     "cell_type": "code",
     "collapsed": false,
     "input": "'''The inside and outside temperatures of the walls of a room are 27\u00b0C and 68.7\u00b0C, respectively.\nThe room walls consist of 6-inch concrete (C), 8-inch cork-board (B), and 1-inch wood (W) with\ncorresponding thermal conductivities of 0.762, 0.0433, and 0.151W/m . K, respectively.\nCalculate the heat transfer rate across the wall and determine the temperature at the interface\nbetween the wood and the cork-board.\n'''\n\n#Variable declaration:\nTC = 27.0                   #Inside temperature of walls (\u00b0C)\nTH = 68.7                   #Outside temperature of walls (\u00b0C)\nLC = 6*0.0254               #Thickness of concrete (m)\nLB = 8*0.0254               #Thickness of cork-board (m)\nLW = 1*0.0254               #Thickness of wood (m)\nkC = 0.762                  #Thermal conductivity of concrete (W/m.K)\nkB = 0.0433                 #Thermal conductivity of cork-board (W/m.K)\nkW = 0.151                  #Thermal conductivity of wood (W/m.K)\n\n#Calculation:\nRC = LC/kC                  #Thermal resistance of concrete (K/W)\nRB = LB/kB                  #Thermal resistance of cork-board (K/W)\nRW = LW/kW                  #Thermal resistance of wood (K/W)\nQ = (TC-TH)/(RC+RB+RW)      #Heat transfer rate across the wall (W)\nT = -(Q*RW-TC)              #Interface temperature between wood and cork-board (K)\n\n#Result:\nprint \"The heat transfer rate across the wall is :\",round(Q,3),\" W.\"\nprint \"The interface temperature between wood and cork-board is :\",round(T,1),\" \u00b0C.\"\nprint \"The interface temperature between wood and cork-board is :\",round(T+273,1),\" K.\"",
     "language": "python",
     "metadata": {},
     "outputs": [
      {
       "output_type": "stream",
       "stream": "stdout",
       "text": "The heat transfer rate across the wall is : -8.239  W.\nThe interface temperature between wood and cork-board is : 28.4  \u00b0C.\nThe interface temperature between wood and cork-board is : 301.4  K.\n"
      }
     ],
     "prompt_number": 5
    },
    {
     "cell_type": "heading",
     "level": 3,
     "metadata": {},
     "source": "ILLUSTRATIVE EXAMPLE 7.6, Page number: 98"
    },
    {
     "cell_type": "code",
     "collapsed": false,
     "input": "'''A 3-inch outside diameter steel pipe is covered with a 1/2-inch layer of asbestos, (a), which in turn\nis covered with a 2-inch layer of glass wool, (b). Determine the steady-state heat transfer per foot\nof pipe, Z, if the pipe outer surface temperature is 500\u00b0F and the glass wool outer temperature\nis 100\u00b0F.\nAssume an asbestos\u2013glass wool interfacial temperature of 300\u00b0F and an average asbestos (a)\ntemperature of 200\u00b0F and glass wool (b) temperature of 400\u00b0F. Based on a literature review,\nasbestos and glass wool thermal conductivity values have been estimated to be:\nk(a)(200\u00b0F) = 0.120 Btu=h . ft . \u00b0F\nk(b)(400\u00b0F) = 0.0317 Btu=h . ft . \u00b0F\n'''\n\nfrom math import pi, log\nfrom sympy import symbols\n\n#Variable declaration:\nZ = symbols ('z')                       #Length of pipe\nD1s = 4.0                               #Glass wool inside diameter (in)\nD2s = 8.0                               #Glass wool outside diameter (in)\nD1a = 3.0                               #Asbestos inside diameter (in)\nD2a = 4.0                               #Asbestos outside diameter (in)\nTH = 500.0                              #Outer surface temperature of pipe (\u00b0F)\nTC = 100.0                              #Outer surface temperature of glass wool (\u00b0F)\nLa = 0.5/12.0                           #Thickness of asbestos (ft)\nLb = 2.0/12.0                           #Thickness of glss wool (ft)\nka = 0.120                              #Thermal conductivity of asbestos (Btu/h.ft.\u00b0F)\nkb = 0.0317                             #Thermal conductivity of asbestos (Btu/h.ft.\u00b0F)\n\n#Calculation:\nAa = (pi*Z*(D2a-D1a)/12.0)/log(D2a/D1a) #Area of asbestos (ft^2)\nAb = (pi*Z*(D2s-D1s)/12.0)/log(D2s/D1s) #Area of glass wool (ft^2)\nQ1 = (TH-TC)/(La/(ka*Aa)+Lb/(kb*Ab))    #Steady-state heat transfer per foot of pipe (Btu/h.)\nQ2 = Q1/Z                               #Factorization of Q/Z (Btu/h.ft)\n\n#Result:\nprint \"The steady-state heat transfer per foot of pipe, Z, is :\",round(Q1/Z,1),\" x z Btu/h.\"\nprint \"The steady-state heat transfer factorizating out Z is :\",round(Q2,1),\" Btu/h.ft.\"",
     "language": "python",
     "metadata": {},
     "outputs": [
      {
       "output_type": "stream",
       "stream": "stdout",
       "text": "The steady-state heat transfer per foot of pipe, Z, is : 103.6  x z Btu/h.\nThe steady-state heat transfer factorizating out Z is : 103.6  Btu/h.ft.\n"
      }
     ],
     "prompt_number": 6
    },
    {
     "cell_type": "heading",
     "level": 3,
     "metadata": {},
     "source": "ILLUSTRATIVE EXAMPLE 7.7, Page number: 99"
    },
    {
     "cell_type": "code",
     "collapsed": false,
     "input": "'''Refer to the previous example. Calculate the outer asbestos temperature, Ti (i.e., the interfacial\ntemperature between the asbestos and glass wool).\n'''\n\n#Variable declaration:\n#From example 7.6:\nTH = 500                                #Outer surface temperature of pipe (\u00b0F)\nLb = 2.0/12.0                           #Thickness of glss wool (ft)\nkb = 0.0317                             #Thermal conductivity of asbestos (Btu/h.ft.\u00b0F)\nAb = 1.51                               #Area of glass wool (ft^2)\nQ = 103.5                               #Steady-state heat transfer per foot of pipe (Btu/h.)\nLa = 0.5/12.0                           #Thickness of asbestos (ft)\nka = 0.120                              #Thermal conductivity of asbestos (Btu/h.ft.\u00b0F)\nAa = 0.91                               #Area of asbestos (ft^2)\nTC = 100                                #Outer surface temperature of glass wool (\u00b0F)\n\n#Calculation:\nTi_b = -((Lb*Q)/(kb*Ab)-TH)             #Interfacial temperature of glass wool layer (\u00b0F)\nTi_a = (Q*La)/(ka*Aa)+TC                #Interfacial temperature of asbestos layer (\u00b0F)\n\n#Result:\nprint \"The interfacial temperature of glass wool layer is :\",round(Ti_b),\" \u00b0F.\"\nprint \"The interfacial temperature of asbestos layer is :\",round(Ti_a,1),\" \u00b0F.\"",
     "language": "python",
     "metadata": {},
     "outputs": [
      {
       "output_type": "stream",
       "stream": "stdout",
       "text": "The interfacial temperature of glass wool layer is : 140.0  \u00b0F.\nThe interfacial temperature of asbestos layer is : 139.5  \u00b0F.\n"
      }
     ],
     "prompt_number": 7
    },
    {
     "cell_type": "heading",
     "level": 3,
     "metadata": {},
     "source": "ILLUSTRATIVE EXAMPLE 7.8, Page number: 100"
    },
    {
     "cell_type": "code",
     "collapsed": false,
     "input": "'''The temperature of the solid slab pictured in Figure 7.4 is given by the expression\nT = 100cos(pz/2h)\nCalculate the heat flux at z = 0 and z = h in terms of the thermal conductivity and h. Comment\non the results.\n'''\n\nfrom sympy import cos,symbols,diff,pi\n\n#Variable declaration:\nz,h,k = symbols('z, h, k')      #Length, height, thermal conductivity\nT = 100*cos((pi*z)/(2*h))       #Temperature of solid slab\n\n#Calculation:\nDT = diff(T,z)                  #Temperature at z\nQ = -k*(DT)                     #Heat flux in slab (Btu/s.ft^2)\nQ1 = Q.subs(z,0)                #Heat flux in slab at z = 0 (Btu/s.ft^2)\nQ2 = Q.subs(z,h)                #Heat flux in slab at z = h (Btu/s.ft^2)\n\n#Result:\nprint \"The heat flux in slab is :\",Q,\" Btu/s.ft^2 .\"\nprint \"The heat flux in slab at z = 0 is :\",Q1,\" Btu/s.ft^2 .\"\nprint \"The heat flux in slab at z = h is :5\",Q2,\" Btu/s.ft^2 .\"",
     "language": "python",
     "metadata": {},
     "outputs": [
      {
       "output_type": "stream",
       "stream": "stdout",
       "text": "The heat flux in slab is : 50*pi*k*sin(pi*z/(2*h))/h  Btu/s.ft^2 .\nThe heat flux in slab at z = 0 is : 0  Btu/s.ft^2 .\nThe heat flux in slab at z = h is :5 50*pi*k/h  Btu/s.ft^2 .\n"
      }
     ],
     "prompt_number": 8
    }
   ],
   "metadata": {}
  }
 ]
}