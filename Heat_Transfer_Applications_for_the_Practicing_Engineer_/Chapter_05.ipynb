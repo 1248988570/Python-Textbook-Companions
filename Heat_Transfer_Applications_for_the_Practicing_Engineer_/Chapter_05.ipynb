{
 "metadata": {
  "name": "Chapter 05"
 },
 "nbformat": 3,
 "nbformat_minor": 0,
 "worksheets": [
  {
   "cells": [
    {
     "cell_type": "heading",
     "level": 1,
     "metadata": {},
     "source": "Chapter 5: Gas Laws"
    },
    {
     "cell_type": "heading",
     "level": 3,
     "metadata": {},
     "source": "ILLUSTRATIVE EXAMPLE 5.1, Page number: 56"
    },
    {
     "cell_type": "code",
     "collapsed": false,
     "input": "'''What is the final ( f ) volumetric flow rate of a gas that is heated at constant pressure in a heat\nexchanger from 100 to 300\u00b0F if its initial (i) flow is 3500 actual cubic feet per minute (acfm).\n'''\n\n#Variable declaration:\nqi = 3500                       #Initial volumetric flow rate of gas (acfm)\nTi = 100.0                      #Initial temperature (\u00b0F)\nTf = 300.0                      #Final temperature (\u00b0F)\n\n#Calculation:\nTi_R = Ti+460                   #Initial temperatur in Rankine scale (\u00b0R)\nTf_R = Tf+460                   #Final temperatur in Rankine scale (\u00b0R)\nqf = qi*(Tf_R/Ti_R)             #Final volumetric flow rate of gas (acfm)\n\n#Result:\nprint \"The final volumetric flow rate of gas is :\",round(qf),\" acfm\"",
     "language": "python",
     "metadata": {},
     "outputs": [
      {
       "output_type": "stream",
       "stream": "stdout",
       "text": "The final volumetric flow rate of gas is : 4750.0  acfm\n"
      }
     ],
     "prompt_number": 1
    },
    {
     "cell_type": "heading",
     "level": 3,
     "metadata": {},
     "source": "ILLUSTRATIVE EXAMPLE 5.2, Page number: 57"
    },
    {
     "cell_type": "code",
     "collapsed": false,
     "input": "'''What is the volumetric flow rate of the gas (100\u00b0F, 1 atm) in the previous example if it is compressed\nisothermally (constant temperature) to 3 atm?\n'''\n\n#Variable declaration:\nqi = 3500                       #Initial volumetric flow rate of gas (acfm)\nPi = 1.0                        #Iitial pressure (atm)\nPf = 3.0                        #Final pressure (atm)\n\n#Calculation:\nqf = qi*(Pi/Pf)                 #Final volumetric flow rate of gas (acfm)\n\n#Result:\nprint \"The volumetric flow rate of the gas (100\u00b0F, 1 atm) is:\",round(qf),\" acfm\"",
     "language": "python",
     "metadata": {},
     "outputs": [
      {
       "output_type": "stream",
       "stream": "stdout",
       "text": "The volumetric flow rate of the gas (100\u00b0F, 1 atm) is: 1167.0  acfm\n"
      }
     ],
     "prompt_number": 2
    },
    {
     "cell_type": "heading",
     "level": 3,
     "metadata": {},
     "source": "ILLUSTRATIVE EXAMPLE 5.3, Page number: 57"
    },
    {
     "cell_type": "code",
     "collapsed": false,
     "input": "'''What is the volumetric flow rate of the gas in the previous example if the final temperature\nis 300\u00b0F.\n'''\n\n#Variable declaration:\nqi = 3500                       #Initial volumetric flow rate of the gas (acfm)\nPi = 1.0                        #Initial pressure (atm)\nPf = 3.0                        #Final pressure (atm)\nTf = 300.0+460.0                #Final temperature in Rankine scale (\u00b0R)\nTi = 100.0+460.0                #Initial temperature in Rankine scale (\u00b0R)\n\n#Calculation:\nqf = qi*(Pi/Pf)*(Tf/Ti)         #Final volumetric flow rate of the gas (acfm)\n\n#Result:\nprint \"The volumetric flow rate of the gas at 300\u00b0F temperature is :\",round(qf),\" acfm\"",
     "language": "python",
     "metadata": {},
     "outputs": [
      {
       "output_type": "stream",
       "stream": "stdout",
       "text": "The volumetric flow rate of the gas at 300\u00b0F temperature is : 1583.0  acfm\n"
      }
     ],
     "prompt_number": 4
    },
    {
     "cell_type": "heading",
     "level": 3,
     "metadata": {},
     "source": "ILLUSTRATIVE EXAMPLE 5.4, Page number: 59"
    },
    {
     "cell_type": "code",
     "collapsed": false,
     "input": "'''What is the density of air at 75 \u00b0F and 14.7 psia? The molecular weight of air is approximately 29.\n'''\n\n#Variable declaration:\nP = 14.7                    #Absolute pressure of air (psia)\nMW = 29                     #Molecular weight of air (lb/lbmol)\nT = 75+460                  #Temperature in Rankine scale (\u00b0R)\nR = 10.73                   #Universal gas constant (ft^3.psi/lbmol.\u00b0R)\n\n#Calculation:\np = P*MW/R/T                #Density of air (lb/ft^3)\n\n#Result:\nprint \"The density of air at 75\u00b0F and 14.7 psia is :\",round(p,4),\" lb/ft^3\"",
     "language": "python",
     "metadata": {},
     "outputs": [
      {
       "output_type": "stream",
       "stream": "stdout",
       "text": "The density of air at 75\u00b0F and 14.7 psia is : 0.0743  lb/ft^3\n"
      }
     ],
     "prompt_number": 5
    },
    {
     "cell_type": "heading",
     "level": 3,
     "metadata": {},
     "source": "ILLUSTRATIVE EXAMPLE 5.5, Page number: 59"
    },
    {
     "cell_type": "code",
     "collapsed": false,
     "input": "'''Calculate the volume (in ft3) of 1.0 lbmol of any ideal gas at 60\u00b0F and 14.7 psia.\n'''\n\n#Variable declaration:\nn = 1                           #Molar flow rate of gas (lbmol/h)\nR = 10.73                       #Universal gas constant (ft^3.psi/lbmol.\u00b0R)\nT = 60+460                      #Temperature in Rankine scale (\u00b0R)\nP = 14.7                        #Absolute pressure of gas (psia)\n\n#Calculation:\nV = n*R*T/P                     #Volume of gas (ft^3)\n\n#Result:\nprint \"The volume of given ideal gas is :\",round(V,1),\" ft^3\"",
     "language": "python",
     "metadata": {},
     "outputs": [
      {
       "output_type": "stream",
       "stream": "stdout",
       "text": "The volume of given ideal gas is : 379.6  ft^3\n"
      }
     ],
     "prompt_number": 6
    },
    {
     "cell_type": "heading",
     "level": 3,
     "metadata": {},
     "source": "ILLUSTRATIVE EXAMPLE 5.6, Page number: 59"
    },
    {
     "cell_type": "code",
     "collapsed": false,
     "input": "'''Calculate the density of a gas (MW = 29) in g/cm3 at 20\u00b0C and 1.2 atm using the ideal gas law.\n'''\n\n#Variable declaration:\nP = 1.2                         #Abslute pressure of gas (psia)\nMW = 29                         #Molecular weight of gas (g/gmol)\nR = 82.06                       #Universal gas constant (atm.cm^3/gmol.K)\nT = 20+273                      #Temperature in Kelvin (K)\n\n#Calculation:\np = P*MW/R/T                    #Dendity of gas (g/cm^3)\n\n#Result:\nprint \"The density of given gas is :\",round(p,5),\" g/cm^3\"",
     "language": "python",
     "metadata": {},
     "outputs": [
      {
       "output_type": "stream",
       "stream": "stdout",
       "text": "The density of given gas is : 0.00145  g/cm^3\n"
      }
     ],
     "prompt_number": 7
    },
    {
     "cell_type": "heading",
     "level": 3,
     "metadata": {},
     "source": "ILLUSTRATIVE EXAMPLE 5.7, Page number: 60"
    },
    {
     "cell_type": "code",
     "collapsed": false,
     "input": "'''A certain pure-component two-element ideal gas has a specific volume v of 10.58 ft3/lb at 70\u00b0F\nand 14.7 psia. Determine the molecular weight of the gas and state its name. (Hint: The gas is\nacidic and soluble in water.)\n'''\n\n#Variable declaration:\nR = 10.73                       #Universal gas constant (psia . ft^3/lbmol .\u00b0R)\nT = 70+460                      #Temperature in Rankine scale (\u00b0R)\nv = 10.58                       #Specific volume (ft^3/lb)\nP = 14.7                        #Absolute pressure (psia)\n\n#Calculation:\nMW = R*T/v/P                    #Molecular weight of gas (lb/lbmol)\n\n#Result:\nprint \"The molecular weight of the gas is :\",round(MW,2),\" lb/lbmol.\"\nprint \"It appears that the gas is HCl (i.e., hydrogen chloride).\"",
     "language": "python",
     "metadata": {},
     "outputs": [
      {
       "output_type": "stream",
       "stream": "stdout",
       "text": "The molecular weight of the gas is : 36.57  lb/lbmol.\nIt appears that the gas is HCl (i.e., hydrogen chloride).\n"
      }
     ],
     "prompt_number": 7
    },
    {
     "cell_type": "heading",
     "level": 3,
     "metadata": {},
     "source": "ILLUSTRATIVE EXAMPLE 5.8, Page number: 61"
    },
    {
     "cell_type": "code",
     "collapsed": false,
     "input": "'''Data from a heat exchanger indicate a volumetric flow rate of 30,000 scfm (60\u00b0F, 1 atm). If the\noperating temperature and pressure of the unit are 1100\u00b0F and 1 atm, respectively, calculate the\nflow rate in actual cubic feet per minute (acfm).\n'''\n\n#Variable declaration:\nqs = 30000                      #Volumetric flow rate at standard conditions (scfm)\nTa = 1100+460                   #Actual absolute temperature in Rankine scale (\u00b0R)\nTs = 60+460                     #Standard absolute temperature in Rankine scale (\u00b0R)\n\n#Calculation:\nqa = qs*Ta/Ts                   #Volumetric flow rate at actual conditions (acfm)\n\n#Result:\nprint \"The volumetric flow rate in actual cubic feet per minute is :\",round(qa),\"  acfm\"",
     "language": "python",
     "metadata": {},
     "outputs": [
      {
       "output_type": "stream",
       "stream": "stdout",
       "text": "The volumetric flow rate in actual cubic feet per minute is : 90000.0   acfm\n"
      }
     ],
     "prompt_number": 9
    },
    {
     "cell_type": "heading",
     "level": 3,
     "metadata": {},
     "source": "ILLUSTRATIVE EXAMPLE 5.9, Page number: 62"
    },
    {
     "cell_type": "code",
     "collapsed": false,
     "input": "'''The exhaust gas flow rate from a condenser is 1000 scfm. All of the gas is vented through a small\nstack that has an inlet area of 2.0 ft^2. The exhaust gas temperature is 300\u00b0F. What is the velocity\nof the gas through the stack inlet in feet per second? Assume standard conditions to be 70\u00b0F and\n1.0 atm. Neglect the pressure drop across the stack.\n'''\n\n#Variable declaration:\nqs = 1000                       #Volumetric flow rate at standard conditions (scfm)\nTa = 300+460                    #Actual absolute temperature in Rankine scale (\u00b0R)\nTs = 70+460                     #Standard absolute temperature in Rankine scale (\u00b0R)\nA = 2.0                         #Inlet area of stack (ft^2)\n\n#Calculations:\nqa = qs*Ta/Ts                   #Volumetric flow rate at actual conditions (acfm)\nv = qa/A/60                     #Velocity of gas (ft/s)\n\n#Result:\nprint \"The velocity of the gas through the stack inlet is :\",round(v),\" ft/s\"",
     "language": "python",
     "metadata": {},
     "outputs": [
      {
       "output_type": "stream",
       "stream": "stdout",
       "text": "The velocity of the gas through the stack inlet is : 12.0  ft/s\n"
      }
     ],
     "prompt_number": 10
    },
    {
     "cell_type": "heading",
     "level": 3,
     "metadata": {},
     "source": "ILLUSTRATIVE EXAMPLE 5.10, Page number: 62"
    },
    {
     "cell_type": "code",
     "collapsed": false,
     "input": "'''C6H5Cl is fed into a thermal oxidizer at a rate of 5000 scfm (60\u00b0F, 1 atm) and is combusted in the\npresence of air fed at a rate of 3000 scfm (60\u00b0F, 1 atm). Both streams enter the oxidizer at 70\u00b0F.\nThe products are then cooled from 20008F and exit the cooler at 180\u00b0F. At what rate (lb/h) do the\nproducts exit the cooler? The molecular weight of C6H5Cl is 112.5; the molecular weight of\nair is 29.\n'''\n\n#Variable declaration:\nqs1 = 5000.0                    #Volumetric flow rate of C6H5Cl at standard conditions (scfm)\nqs2 = 3000.0                    #Volumetric flow rate of air at standard conditions (scfm)\nTa = 70+460.0                   #Actual absolute temperature in Rankine scale (\u00b0R)\nTs = 60+460.0                   #Standard absolute temperature in Rankine scale (\u00b0R)\nV = 387.0                       #Volume occupied by one lbmol of any ideal gas (ft^3)\nM1 = 112.5                      #Molecular weight of C6H5Cl (lb/lbmol)\nM2 = 29.0                       #Molecular weight of air (lb/lbmol)\nT = 60.0                        #Absolute temperature (\u00b0F)\n\n#Calculations:\nqa1 = qs1*(Ta/Ts)               #Volumetric flow rate of C6H5Cl at actual conditions (acfm)\nqa2 = qs2*(Ta/Ts)               #Volumetric flow rate of air at actual conditions (acfm)\nn1 = qa1/V                      #Molar flow rate of C6H5Cl (lbmol/min)\nn2 = qa2/V                      #Molar flow rate of air (lbmol/min)\nm1 = n1*M1*T                    #Mass flow rate of C6H5Cl (lb/h)\nm2 = n2*M2*T                    #Mass flow rate of air (lb/h)\nm_in = m1+m2                    #Total mass flow rate of both streams entering the oxidizer (lb/h)\nm_out = m_in                    #Total mass flow rate of both streams exit the cooler (lb/h)\n\n#Result:\nprint \"The rate of the products exit the cooler is :\",round(m_out),\" lb/h\"",
     "language": "python",
     "metadata": {},
     "outputs": [
      {
       "output_type": "stream",
       "stream": "stdout",
       "text": "The rate of the products exit the cooler is : 102634.0  lb/h\n"
      }
     ],
     "prompt_number": 11
    },
    {
     "cell_type": "heading",
     "level": 3,
     "metadata": {},
     "source": "ILLUSTRATIVE EXAMPLE 5.11, Page number: 64"
    },
    {
     "cell_type": "code",
     "collapsed": false,
     "input": "'''The exhaust to the atmosphere from a thermal device has a SO3 concentration expressed as\n0.15 mm Hg partial pressure. Calculate the parts per million of SO3 in the exhaust.\n'''\n\n#Variable declaration:\np = 0.15                        #Partial pressure of SO3 (mm Hg)\nP = 760.0                       #Atmospheric pressure (mm Hg)\nm = 10**6                       #Particles in a million\n\n#Calculation:\ny = p/P                         #Mole fraction of SO3\nppm = y*m                       #Parts per million of SO3 (ppm)\n\n#Result:\nprint \"The parts per million of SO3 in the exhaust is :\",round(ppm),\" ppm .\"",
     "language": "python",
     "metadata": {},
     "outputs": [
      {
       "output_type": "stream",
       "stream": "stdout",
       "text": "The parts per million of SO3 in the exhaust is : 197.0  ppm .\n"
      }
     ],
     "prompt_number": 12
    }
   ],
   "metadata": {}
  }
 ]
}