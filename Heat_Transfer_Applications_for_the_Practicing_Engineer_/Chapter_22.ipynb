{
 "metadata": {
  "name": "Chapter 22"
 },
 "nbformat": 3,
 "nbformat_minor": 0,
 "worksheets": [
  {
   "cells": [
    {
     "cell_type": "heading",
     "level": 1,
     "metadata": {},
     "source": "Chapter 22: Design Principles and Industrial Applications"
    },
    {
     "cell_type": "heading",
     "level": 3,
     "metadata": {},
     "source": "ILLUSTRATIVE EXAMPLE 22.6, Page number: 471"
    },
    {
     "cell_type": "code",
     "collapsed": false,
     "input": "'''It is desired to evaporate 1000 lb/h of 60\u00b0F water at 1 atm at a power plant. Utility superheated\nsteam at 40 atm and 1000\u00b0F is available, but since this steam is to be used elsewhere in the plant,\nit cannot drop below 20 atm and 600\u00b0F. What mass flowrate of the utility steam is required?\nAssume that there is no heat loss in the evaporator.\nFrom the steam tables:\nP = 40 atm, T = 1000\u00b0F, h = 1572 Btu/lb\nP = 20 atm, T = 600\u00b0F, h = 1316 Btu/lb\nFor saturated steam:\nP = 1 atm, h = 1151 Btu/lb\nFor saturated water:\nT = 60\u00b0F, h = 28.1 Btu/lb\n'''\n\nfrom __future__ import division\nfrom sympy import symbols,solve\n\n#Variable declaration:\n#From steam tables:\nh1 = 1572                           #Enthalpy for super heated steam at (P = 40 atm, T = 1000\u00b0F) (Btu/lb)\nh2 = 1316                           #Enthalpy for super heated steam at (P = 20 atm, T = 600\u00b0F) (Btu/lb)\nh3 = 1151                           #Enthalpy for saturated steam (Btu/lb)\nh4 = 28.1                           #Enthalpy for saturated water (Btu/lb)\nm1 = 1000                           #Mass flowrate of  steam (lb/h)\nm = symbols('m')                    #Mass flow rate of steam (lb/h)\n\n#Calculation:\nDh1 = m1*(h3-h4)                    #The change in enthalpy for the vaporization of the water stream (Btu/h)\nDh2 = m*(h1-h2)                     #The change in enthalpy for the cooling of the water stream (Btu/h)\nx = solve(Dh1-Dh2,m)                #Mass flowrate of steam (lb/h)\nm2 = x[0];                          #Mass flowrate of steam (lb/h)\n\n#Result:\nprint \"The mass flowrate of the utility steam required is :\",round(m2),\" lb/h.\"",
     "language": "python",
     "metadata": {},
     "outputs": [
      {
       "output_type": "stream",
       "stream": "stdout",
       "text": "The mass flowrate of the utility steam required is : 4386.0  lb/h.\n"
      }
     ],
     "prompt_number": 6
    },
    {
     "cell_type": "heading",
     "level": 3,
     "metadata": {},
     "source": "ILLUSTRATIVE EXAMPLE 22.7, Page number: 473"
    },
    {
     "cell_type": "code",
     "collapsed": false,
     "input": "'''Determine the total flowrate of cooling water required for the services listed below if a cooling\ntower system supplies the water at 90\u00b0F with a return temperature of 115\u00b0F. How much fresh\nwater makeup is required if 5% of the return water is sent to \u201cblowdown?\u201d Note that the cooling\nwater heat capacity is 1.00 Btu/(lb.\u00b0F), the heat of vaporization at cooling tower operating\nconditions is 1030 Btu/lb, and the density of water at cooling tower operating conditions is\n62.0 lb/ft^3. Process data is provided in Table 22.1.\nTable 22.1 Data for Illustrative Example 22.7\nProcess unit            Heat duty, Btu/h                Required\n                                                    temperature, \u00b0F\n1                       12,000,000                        250\n2                        6,000,000                      200\u2013276\n3                       23,500,000                      130\u2013175\n4                       17,000,000                        300\n5                       31,500,000                      150\u2013225\n'''\n\nfrom __future__ import division\n\n#Variable declaration:\n#From table 22.1:\nQH1 = 12*10**6                  #Heat duty for process unit 1 (Btu/h)\nQH2 = 6*10**6                   #Heat duty for process unit 2 (Btu/h)\nQH3 = 23.5*10**6                #Heat duty for process unit 3 (Btu/h)\nQH4 = 17*10**6                  #Heat duty for process unit 4 (Btu/h)\nQH5 = 31*10**6                  #Heat duty for process unit 5 (Btu/h)\nT1 = 90                         #Supply water temperature (\u00b0F)\nT2 = 115                        #Return water temperature (\u00b0F)\ncP = 1                          #Cooling water heat capacity (Btu/(lb.\u00b0F))\np = 62*0.1337                   #Density of water (lb/gal)\nBDR = 5/100                     #Blow-down rate\n\n#Calculation:\nQHL = (QH1+QH2+QH3+QH4+QH5)/60  #Heat load (Btu/min)\nDT = T2-T1                      #Change in temperature (\u00b0F)\nqCW = round(QHL,-5)/(DT*cP*p)   #Required cooling water flowrate (gpm)\nqBD = BDR*qCW                   #Blow-down flow (gpm)\n\n#Result:\nprint \"The total flowrate of cooling water required for the services is :\",round(qCW,-1),\" gpm.\"\nprint \"The required blow-down flow is :\",round(qBD),\" gpm.\"",
     "language": "python",
     "metadata": {},
     "outputs": [
      {
       "output_type": "stream",
       "stream": "stdout",
       "text": "The total flowrate of cooling water required for the services is : 7240.0  gpm.\nThe required blow-down flow is : 362.0  gpm.\n"
      }
     ],
     "prompt_number": 7
    },
    {
     "cell_type": "heading",
     "level": 3,
     "metadata": {},
     "source": "ILLUSTRATIVE EXAMPLE 22.8, Page number: 474"
    },
    {
     "cell_type": "code",
     "collapsed": false,
     "input": "'''Determine how many pounds per hour of steam are required for the following situation if steam\nis provided at 500 psig, and if steam is provided at both 500 and 75 psig pressures. The plant has\nthe heating requirements given in Table 22.2. Also note the properties of saturated steam in\nTable 22.3.\nTable 22.2 Process Data for Illustrative Example 22.8\nProcess unit        Unit heat duty (Q\u02d9 ),               Required\n                        Btu/h                        temperature, \u00b0F\n1                   10,000,000                           250\n2                    8,000,000                           450\n3                   12,000,000                           400\n4                   20,000,000                           300\nTable 22.3 Steam Data\nPressure                    Saturation              Enthalpy of vaporization\nprovided, psig            temperature, \u00b0F               (hvap), Btu/lb\n75                           320                         894\n500                          470                         751\n'''\n\nfrom __future__ import division\n\n#Variable declaration:\nQ1 = 10*10**6                       #Unit heat duty for process unit 1 (Btu/h)\nQ2 = 8*10**6                        #Unit heat duty for process unit 2 (Btu/h)\nQ3 = 12*10**6                       #Unit heat duty for process unit 3 (Btu/h)\nQ4 = 20*10**6                       #Unit heat duty for process unit 4 (Btu/h)\nhv = 751                            #Enthalpy of vaporization for pressure 500 psig (Btu/lb)\n\n#Calculation:\nmB1 = Q1/hv                         #Mass flowrate of 500 psig steam through unit 1 (lb/h)\nmB2 = Q2/hv                         #Mass flowrate of 500 psig steam through unit 2 (lb/h)\nmB3 = Q3/hv                         #Mass flowrate of 500 psig steam through unit 3 (lb/h)\nmB4 = Q4/hv                         #Mass flowrate of 500 psig steam through unit 4 (lb/h)\nmBT = mB1+mB2+mB3+mB4               #Total steam required (lb/h)\n\n#Result:\nprint \"The total steam required is :\", round(mBT,-1),\" lb/h.\"",
     "language": "python",
     "metadata": {},
     "outputs": [
      {
       "output_type": "stream",
       "stream": "stdout",
       "text": "The total steam required is : 66580.0  lb/h.\n"
      }
     ],
     "prompt_number": 8
    },
    {
     "cell_type": "heading",
     "level": 3,
     "metadata": {},
     "source": "ILLUSTRATIVE EXAMPLE 22.9, Page number: 474"
    },
    {
     "cell_type": "code",
     "collapsed": false,
     "input": "'''Afeed stream to a distillation column processes of 28,830 gals/day of a light oil, and is fed to the\ncolumn through a 6-inch I.D. pipeline. The temperature of the feed is usually 27\u00b0C. You are\nasked to explore the possibility of using either a countercurrent or a parallel (co-current)\ndouble pipe heat exchanger as an auxiliary heater for the feed stream. The double-pipe exchanger\nis to heat the oil from 23.5\u00b0C to 27\u00b0C.Water at 8406 gals/day and 93\u00b0C is available for heating\nthe oil. The necessary physical properties are provided in Table 22.4. The inner diameter of\nthe pipe forming the annular region is 20.3 cm and the outer surface of that pipe is well insulated.\nFor a counter-current flow arrangement, calculate the following using the SI system:\n1. The lowest temperature the exiting heating water could reach. Is there sufficient energy\navailable from thewater to raise the oil temperature? (If there is not enough energy, there\nis no point in designing the exchanger.)\n2. The log mean temperature difference.\n3. The overall heat transfer coefficient, U, for a new clean exchanger based on the inside\narea is 35.4 W/m^2.K. Correct the U for the fouling of the heat exchanger. Use a\nfouling factor, Rf, of quenching oil, which is 0.0007 m^2.K/W.\n4. The length of the double pipe heat exchanger.\n5. The effectiveness of the exchanger and the NTU.\nTable 22.4 Property Data for Illustrative Example 22.9\nOil (27\u00b0C)                  Water (93\u00b0C)                        Pipe\np = 53 lb/ft^3             p = 964 kg/m^3                    ID = 6.0 in\ncp = 0.46 Btu/lb.\u00b0F        cp = 4204 J/kg.\u00b0C                 OD= 168 mm\nmu = 150 cP                mu = 0.7 lb/h.ft                  k = 45 W/m.\u00b0C\nk = 0.11 Btu/h.ft.\u00b0F       k = 0.678 W/m.\u00b0C\n'''\n\nfrom __future__ import division\nfrom sympy import symbols,solve\nfrom math import log,pi\n\n#Variable declaration:\npo = 53*16.0185                     #Density of oil (kg/m^3)\nco = 0.46*4186.7                    #Heat capacity of oil (J/kg.\u00b0C)\nmuo = 150/1000                      #Dynamic viscosity of oil (kg/m.s)\nko = 0.11*1.7303                    #Thermal conductivity of oil (W/m.\u00b0C)\nqo = 28830*4.381*10**-8             #Volumetric flowrate of oil (m^3/s)\npw = 964                            #Density of water (kg/m^3)\ncw = 4204                           #Heat capacity of water (J/kg.\u00b0C)\nmuw = 0.7/3600*1.4881               #Dynamic viscosity of water (kg/m.s)\nkw = 0.678                          #Thermal conductivity of water (W/m.\u00b0C)\nqw = 8406*4.381*10**-8              #Volumetric flowrate of water (m^3/s)\nt1 = 23.5                           #Initial temperature of oil (\u00b0C)\nt2 = 27                             #Final temperature of oil (\u00b0C)\nT1 = 93                             #Water heating temperature of water (\u00b0C)\nT2 = symbols('T2')                  #Minimum temperature of heating water (\u00b0C)\nA = symbols('A')                    #Heat transfer area (m^2)\nUc = 35.4                           #Clean heat transfer coefficient (W/m^2.K)\nRf = 0.0007                         #Thermal resistance (m^2.K/W)\nD = 6*0.0254                        #Inside diameter of pipe (m)\n\n#Calculation:\nvo = muo/po                         #Kinematic viscosity of oil (m^2/s)\nmo = po*qo                          #Mass flowrate of oil (kg/s)\nvw = muw/pw                         #Kinematic viscosity of  (m^2/s)\nmw = pw*qw                          #Masss flow rate of water (kg/s)\nQ1 = mo*co*(t2-t1)                  #Duty of exchanger of oil (W)\nT2m = t1                            #Lowest possible temperature of the water (\u00b0C) (part 1)\nQmw = mw*cw*(T1-T2m)                #Maximum duty of exchanger of water (W) (part 2)\nQ2 = mw*cw*(T1-T2)                  #Duty of exchanger of water in terms of T2 (W)\nx = solve(Q1-Q2,T2)                 #Solving value for T2 (\u00b0C)\nT3 = x[0];                          #Minimum temperature of heating water (\u00b0C)\nDT1 = T3-t1                         #Inlet temperature difference (\u00b0C)\nDT2 = T1-t2                         #Outlet temperature difference (\u00b0C)\nDTlm = (DT1-DT2)/log(DT1/DT2)       #Log mean temperature difference (\u00b0C)\nUd1 = 1/Uc+Rf                       #Dirty heat transfer coefficient (W/m^2.K) (part 3)\nUd2 = 34.6                          #Dirty heat transfer coefficient (W/m^2.\u00b0C)\nQ3 = Ud2*A*DTlm                     #Duty of exchanger (W) (part 4)\ny = solve(Q1-Q3,A)                  #Heat transfer area (m^2)\nA1 = y[0];                          #Required heat transfer area (m^2)\nL = A1/(pi*D)                       #Required heat transfer length (m)\nQmo = mo*co*(T1-t1)                 #Maximum duty of exchanger of oil (W) (part 5)\nQm = Qmw                            #Maximum duty of exchanger (W)\nE = Q1/Qm*100                       #Effectiveness (%)\nNTU = Ud2*A1/(mw*cw)                #Number of transfer units\n\n#Result:\nprint \"1. The lowest possible temperature of the water is :\",T2m,\" \u00b0C .\"\nprint \"2. The log mean temperature difference is :\",round(DTlm,2),\" \u00b0C .\"\nprint \"3. The overall heat transfer coefficient for the new clean exchanger is :\",round(Ud2,1),\" (W/m^2.\u00b0C .\"\nprint \"4. The length of the double pipe heat exchanger is :\",round(L,2),\" m .\"\nprint \"5. The effectiveness of the exchanger is :\",round(E,2),\" % .\"\nprint \"   The NTU of the exchanger is :\",round(NTU,4),\" .\"",
     "language": "python",
     "metadata": {},
     "outputs": [
      {
       "output_type": "stream",
       "stream": "stdout",
       "text": "1. The lowest possible temperature of the water is : 23.5  \u00b0C .\n2. The log mean temperature difference is : 65.33  \u00b0C .\n3. The overall heat transfer coefficient for the new clean exchanger is : 34.6  (W/m^2.\u00b0C .\n4. The length of the double pipe heat exchanger is : 6.68  m .\n5. The effectiveness of the exchanger is : 6.97  % .\n   The NTU of the exchanger is : 0.0741  .\n"
      }
     ],
     "prompt_number": 9
    },
    {
     "cell_type": "heading",
     "level": 3,
     "metadata": {},
     "source": "ILLUSTRATIVE EXAMPLE 22.10, Page number: 477"
    },
    {
     "cell_type": "code",
     "collapsed": false,
     "input": "'''Refer to Illustrative Example 22.9. How would the answer to Parts 2 and 4 be affected if the flow\nwere parallel?\n'''\n\nfrom __future__ import division\nfrom math import log,pi\n\n#Variable declaration:\n#From example 22.9:\nt1 = 23.5                           #Initial temperature of oil (\u00b0C)\nt2 = 27                             #Final temperature of oil (\u00b0C)\nT1 = 93                             #Water heating temperature of water (\u00b0C)\nT2 = 88.16                          #Minimum temperature of heating water (\u00b0C)\nU = 34.6                            #Overall heat transfer coefficient (W/m^2.\u00b0C)\nQ = 7227.2                          #Duty of exchanger (W)\nD = 6*0.0254                        #Inside diameter of pipe (m)\nl = 6.68                            #Previous heat transfer length (m)\n\n#Calculation:\nDT1 = T1-t1                         #Inlet temperature difference (\u00b0C)\nDT2 = T2-t2                         #Outlet temperature difference (\u00b0C)\nDTlm = (DT1-DT2)/log(DT1/DT2)       #Log mean temperature difference (\u00b0C)\nA = Q/(U*DTlm)                      #Required heat transfer area (m^2)\nL = A/(pi*D)                        #Required heat transfer length (m)\n\n#Result:\nprint \"The length of the parallel pipe heat exchanger is :\",round(L,2),\" m .\"\nif L>l:\n    print \"The tube length would increase slightly.\"\nelif L<l:\n    print \"The tube length would decrease slightly.\"",
     "language": "python",
     "metadata": {},
     "outputs": [
      {
       "output_type": "stream",
       "stream": "stdout",
       "text": "The length of the parallel pipe heat exchanger is : 6.69  m .\nThe tube length would increase slightly.\n"
      }
     ],
     "prompt_number": 10
    },
    {
     "cell_type": "heading",
     "level": 3,
     "metadata": {},
     "source": "ILLUSTRATIVE EXAMPLE 22.12, Page number: 478"
    },
    {
     "cell_type": "code",
     "collapsed": false,
     "input": "'''A brine solution at 10\u00b0F is heated in a food processing plant by flowing through a heated\npipe. The pipe surface is maintained at 80\u00b0F. The pipe surface area for heat transfer is 2.5 ft^2.\nThe brine solution (with a density of 62.4 lb/ft^3 and a heat capacity of 0.99 Btu/lb.\u00b0F)\nflows at a rate of 20 lb/min. The overall heat transfer coefficient varies linearly with the temperature\napproach, with values of 150 Btu/h.ft^2.\u00b0F at the brine solution entrance (where the\nbrine temperature is 10\u00b0F) and 140 Btu/h.ft.\u00b0F at the brine solution exit. Determine:\n1. the temperature approach at the brine inlet side\n2. the exit temperature of the brine solution.\n'''\n\nfrom __future__ import division\nfrom scipy.optimize import fsolve\nfrom math import log\n\n#Variable declaration:\nT = 80                                #Pipe surface temperature (\u00b0F)\nt1 = 10                               #Inlet temperature of brine solution (\u00b0F)\nm = 1200                              #mass flowrate of solution (kg/s)\nc = 0.99                              #Heat capacity of brine solution (Btu/lb.\u00b0F)\nA = 2.5                               #Heat transfer area (ft^2)\nU1 = 150                              #Overall heat transfer coefficient at temperature approach (Btu/h.ft^2.\u00b0F)\nU2 = 140                              #Overall heat transfer coefficient at inlet brine temperature (Btu/h.ft^2.\u00b0F)\n\n#Calculation:\nDT1 = T-t1                            #Temperature approach at the pipe entrance (\u00b0F)\n\ndef equation(DT2):\n\tQ1 = m*c*(DT1-DT2)               #Energy balance to the brine solution across the full length of the pipe (Btu/h)\n\tDTlm = (DT1-DT2)*log(DT2/DT1)    #Log mean temperature difference (\u00b0F)\n\tQ2 = A*(U2*DT1-U1*DT2)/log((U2*DT1)/(U1*DT2)) #Heat transfer rate (Btu/h)\n\treturn Q2-Q1\t\nt2 = round(T-fsolve(equation,1),1)\t   #The temperature of the brine solution (\u00b0F)\n\n#Results:\nprint 'The temperature of brine solution is: ',(t2-32)/1.8,'\u00b0C'",
     "language": "python",
     "metadata": {},
     "outputs": [
      {
       "output_type": "stream",
       "stream": "stdout",
       "text": "The temperature of brine solution is:  -2.0 \u00b0C\n"
      }
     ],
     "prompt_number": 1
    },
    {
     "cell_type": "heading",
     "level": 3,
     "metadata": {},
     "source": "ILLUSTRATIVE EXAMPLE 22.13, Page number: 479"
    },
    {
     "cell_type": "code",
     "collapsed": false,
     "input": "'''Refer to Illustrative Example 22.12. Calculate:\n1. the rate of heat transfer, Q\u02d9\n2. the log mean temperature difference.\n'''\n\nfrom __future__ import division\nfrom math import log\n\n#Variable declaration:\nm = 1200                            #mass flowrate of solution (kg/s)\nc = 0.99                            #Heat capacity of brine solution (Btu/lb.\u00b0F)\nDT1 = 70                            #Temperature approach at the pipe entrance (\u00b0F)\nDT2 = 51.6                          #Temperature difference at the pipe exit (\u00b0F)\n\n#Calculation:\nQ = m*c*(DT1-DT2)                   #Heat transfer rate (Btu/h)\nDTlm = (DT1-DT2)/log(DT1/DT2)       #Log mean temperature difference (\u00b0F)\n\n#Result:\nprint \"1. The rate of heat transfer is :\",round(Q,-1),\" Btu/h.\"\nprint \"Or, the rate of heat transfer is :\",round(Q/3.412),\" W.\"\nprint \"2. The log mean temperature difference is :\",round(DTlm,1),\" \u00b0F.\"\nprint \"Or, the log mean temperature difference is :\",round(DTlm/1.8,1),\" \u00b0C.\"",
     "language": "python",
     "metadata": {},
     "outputs": [
      {
       "output_type": "stream",
       "stream": "stdout",
       "text": "1. The rate of heat transfer is : 21860.0  Btu/h.\nOr, the rate of heat transfer is : 6407.0  W.\n2. The log mean temperature difference is : 60.3  \u00b0F.\nOr, the log mean temperature difference is : 33.5  \u00b0C.\n"
      }
     ],
     "prompt_number": 13
    },
    {
     "cell_type": "heading",
     "level": 3,
     "metadata": {},
     "source": "ILLUSTRATIVE EXAMPLE 22.23, Page number: 484"
    },
    {
     "cell_type": "code",
     "collapsed": false,
     "input": "'''Heating or cooling of liquids in batch processes is used in a number of commercial applications.\nSome reasons for using a batch rather than a continuous heat transfer operation include: the\nliquid is not continuously available, the liquid cleaning and regeneration is a significant part\nof the operation, or batch operation is simpler and cheaper.\nFor example, vapor degreasers are widely used for cleaning metal parts. A degreaser consists\nof a tank partially filled with a solvent. The tank is equipped with a heating coil to heat the solvent\nclose to its boiling point. The vapor of the solvent occupies the remaining volume of the\ntank, forming the \u201csolvent vapor zone.\u201d When a metal part is placed in the solvent vapor\nzone, the solvent condenses on the metal part and then drips off, taking contaminants with it.\nFor ease of use, vapor degreasers are often open to the atmosphere. This makes it easier to introduce\nand remove the metal parts. It has been a common practice to use a halogenated hydrocarbon\nfor such cleaning since they are excellent solvents, volatile, and non-flammable;\nhowever, they can be toxic and the open tank of a degreaser can be a significant source of solvent\nemissions or volatile organic components (VOCs).\nWhen an agitated liquid batch, initially at Ti, is heated, the temperature, T, of the liquid at\nany time, t, can be assumed to be uniform if the liquid is well stirred. Three different types of\ncalculations involving the batch heating of liquids are outlined in Table 22.6.\nThe assumptions in these analyses include:\n1. constant properties for the duration of the process,\n2. constant overall heat transfer coefficient, U, for the process,\n3. a constant temperature, T1, of the heating medium,\n\nTable 22.6 Batch Heating of Liquids\nCase                        Description                         Calculate\nDesign            It is desired to heat the liquid to a     The surface area required.\n                    specified temperature within a\n                    given time.\n\nSimulation       It is desired to heat the liquid for a     The final temperature, T.\n                    specified time; the heat transfer\n                    surface area is known.\n\nTime             The heat transfer surface area and the     The batch time, t.\n                    final temperature are known.\n\n4. a vigorously stirred unit (and therefore a uniform temperature),\n5. negligible heat losses, and\n6. no phase change.\nThe describing equation for these batch systems can be developed. Consider a liquid batch\nthat has a volume, V, density, r, and heat capacity, c. The initial temperature is Ti, and the temperature\nat any time, t, is T. The energy balance on the liquid in the agitated tank simplifies to\n    UA(Too - T) = pVcp(dT/dt)                                       (1)\nAn excess temperature, u, can be defined as\n    u = T00 - T; ui = T00 - Ti, Ti 2 initial temprature             (2)\nSubstituting this expression into Equation (1) and integrating with respect to t yields\n    u/ui = e^(-t/r)                                                 (3)\nwhere rt is the thermal time constant that is given by\n    r = pVcp/(UA)                                                   (4)\n    Design a degreaser employing the development provided above; i.e., calculate the heating\nsurface area requirement for a vapor degreaser using 1,1,1-trichloroethane, Cl3C-CH3 (TCA)\nas the solvent. The degreaser tank has a rectangular cross section (6 ft x 3 ft) and a height of\n5 ft. Liquid TCA at 18\u00b0C is poured into the tank to a height of 1 ft. The solvent vapor zone\nwill occupy the remaining 4 ft. At time t = 0, saturated steam is passed into the heating coil.\nThe steam temperature is 100\u00b0C. The overall heat transfer coefficient, U, from the steam to\nthe liquid TCA, based on the outside area of the coil, is 200 Btu/h.ft^2.\u00b0F. It is desired to\nheat the liquid TCA from 18\u00b0C to its boiling point (74\u00b0C) without evaporation in 180 seconds.\nThe approximate properties of TCA are: density, p = 87.4 lb/ft3, heat capacity, cp = 0.23 Btu/lb.\u00b0F,\nand viscosity = 0.56 cP. The design should include:\n1. the required surface area of the heating coil\n2. the total heat added to the liquid TCA.\n'''\n\nfrom __future__ import division\nfrom math import log\n\n#Variable declaration:\nToo = 100                           #Steam temperature (\u00b0C)\nTi = 18                             #Initial temperature of liquid TCA (\u00b0C)\nTf = 74                             #Final temperature of liquid TCA (\u00b0C)\nt = 180                             #Heating time (s)\np = 87.4                            #Density of TCA (lb/ft^3)\nV = 18                              #Kinematic viscosity of TCA (m^2/s)\ncp = 0.23                           #Heat capacity of TCA (Btu/lb.\u00b0F)\nU = 200                             #Overall heat transfer coefficient (Btu/h.ft^2.\u00b0F)\n\n#Calculation:\nui = Too-Ti                         #Initial excess temperature (\u00b0C)\nuf = Too-Tf                         #Final excess temperature (\u00b0C)\nR = log(ui/uf)                      #Ratio t/r\nr = t/R                             #Thermal time constant (s)\nA = p*V*cp/(3600*U*r)               #Required heating area (ft^3)\nTi_F = Ti*9/5+32                    #Initial temperature in fahrenheit scale (\u00b0F)\nTf_F = Tf*9/5+32                    #Final temperature in fahrenheit scale (\u00b0F)\nQ = p*V*cp*(Tf_F-Ti_F)              #Total amount of heat added (Btu)\n\n#Result:\nprint \"1. The required surface area of the heating coil is :\",(A,1),\" ft^3 .\"\nprint \"2. The total heat added to the liquid TCA is :\",round(Q),\" Btu .\"",
     "language": "python",
     "metadata": {},
     "outputs": [
      {
       "output_type": "stream",
       "stream": "stdout",
       "text": "1. The required surface area of the heating coil is : (3.2068907918330814e-06, 1)  ft^3 .\n2. The total heat added to the liquid TCA is : 36473.0  Btu .\n"
      }
     ],
     "prompt_number": 25
    },
    {
     "cell_type": "heading",
     "level": 3,
     "metadata": {},
     "source": "ILLUSTRATIVE EXAMPLE 22.24, Page number: 486"
    },
    {
     "cell_type": "code",
     "collapsed": false,
     "input": "'''62,000 lb/h of pure ethyl alcohol (hvap = 365 Btu/lb; specific gravity, s = 0.79) at 2.0 psig is\nto be condensed by water (r = 62.5 lb/ft^3) entering at 85\u00b0F and exiting at 120\u00b0F. A 1\u20132 horizontal\ncondenser consists of 700(Nt) one-inch outside diameter, 14 BWGtubes, 16-inch long on\na 1.25-inch triangular pitch. There are four (n) tube passes. Assume that the flow is countercurrent\nand that the alcohol is on the shell side. A fouling factor of 0.003 Btu/h.ft^2.\u00b0F is recommended.\nThe cooling water inside film coefficient has been previously determined to be\n862.4 Btu/h.ft^2.\u00b0F. Neglecting any pressure drop considerations, determine if the exchanger\nis suitable. Additional information is provided in Table 22.7.\nTable 22.7 Exchanger Information for Illustrative Example 22.24\nShell                                       Tubes\nID = 39 inch                            Pitch = 1.25 inch\nBaffle spacing = 39 inch                Flow area/tube = 0.546 in2\nFlow area = 2.11 ft^2                   ID = 0.834 inch\nCondensation temperature, tc = 173\u00b0F    Wall thickness = 0.083 inch\nFor film condensation on horizontal tubes (see also Chapter 12), the average heat transfer\ncoefficient is to be calculated from the equation (consistent units):\nh = 1.51((kf*pf^2gmuf)/(muf^24G))^1/3\nwhere kf = thermal conductivity\npf = fluid density\ng = acceleration due to gravity\nmuf = viscosity of the fluid\nG = loading, G = (m_ alcohol/LNt^(2/3))\nm_alcohol = condensate mass flow\nL = tube length\nNt = number of tubes in bundle\nV = velocity\nFor a clean (unused) tube, the overall heat transfer coefficient can be calculated from the\nfollowing equation:\nUC = Uclean =hioho/(hio + ho)\nwhere UC = Uclean = heat transfer coefficient of a clean (new/unused) tube\nhio = corrected inside heat transfer coefficient to the outside diameter, with\nhio = hi(Di/Do)\nThe dirt fouling factor may be calculated from:\nRD = Rdirty = (Uc - U)/UcU                                          (14.32)\nwhere RD = Rdirty = dirt (fouling) factor\nU = heat transfer coefficient calculated from the actual heat transfer\n'''\n\nfrom __future__ import division\nfrom math import log\n\n#Variable declaration:\nm1 = 62000                      #Mass flowrate of alcohol (lb/h)\nh1 = 365                        #Enthalpy of vapour (Btu/lb)\ncp = 1                          #Heat capacity of water (Btu/lb.\u00b0F)\nT1 = 85                         #Entering temperature of water (\u00b0F)\nT2 = 120                        #Exit temperature of water (\u00b0F)\na1 = 2.11                       #Flow area for the shell side (ft^2)\nN = 700                         #Total number of tubes\na2 = 0.546                      #Flow area per tube (in^2/tube)\nn = 4                           #Number of tube passes\np = 62.5                        #Density of water (lb/ft^3)\nL = 16                          #Length of condenser (ft)\nhio = 862.4                     #Cooling water inside film coefficient (Btu/h.ft^2.\u00b0F)\ng = 9.8                         #Gravitational accleration (m^2/s)\nRf = 0.003                      #Fouling factor (Btu/h.ft^2.\u00b0F)\n\n#Calculation:\nQ1 = m1*h1                      #Heat loss from alcohol (Btu/h)\nQ2 = Q1                         #Heat gained by water (Btu/h)\nDT = T2-T1                      #Temperature difference (\u00b0F)\nm2 = Q2/(cp*DT)                 #Water mass flow rate (lb/h)\nLMTD = ((T2-32)-(T1-32))/log((T2-32)/(T1-32))   #Log mean temperature difference (\u00b0F)\nat = (N*a2)/(144*n)             #Total flow area for tube side (ft^2)\nG1 = m1/a1                      #Mass velocity of flow in shell side (lb/h.ft^2)\nG2 = m2/at                      #Mass velocity of flow in tube side (lb/h.ft^2)\nV = G2/(3600*p)                 #Velocity of water (ft/s)\nG3 = m1/(L*N)**(2/3)            #Loading G (lb/h.ft)\n#For alcohol:\nkf = 0.105                      #Thermal conductivity (Btu/h.ft.\u00b0F)\nmuf = 0.55*2.42                 #Dynamic viscosity (lb/ft.h)\nsf = 0.79                       #\npf = sf*p                       #Density (lb/ft^3)\nh = 151*(((kf**3)*(pf**2)*g*muf)/((muf**2)*n*G3))**(1/3)   #Heat transfer coefficient for the shell side (Btu/h.ft^2.\u00b0F)\nho = h                          #Outside heat transfer coefficient of the tube bundle (Btu/h.ft^2.\u00b0F)\nUc = (hio*ho)/(hio+ho)          #Overall heat transfer coefficient for a new (clean) heat exchanger (Btu/h.ft^2.\u00b0F)\nA = N*L*0.2618                  #Area for heat transfer (ft^2)\nUd = Q1/(A*DT)                  #Design (D) overall heat transfer coefficient (Btu/h.ft^2.\u00b0F)\nRd = (Uc-Ud)/(Uc*Ud)            #Dirt (d) factor (Btu/h.ft^2.\u00b0F)\n\n#Result:\nprint \"The dirt (d) factor is :\",round(Rd,4),\" Btu/h.ft^2.\u00b0F .\"\nif (Rd>Rd):\n    print \"Therefore, the exchanger as specified is unsuitable for these process conditions since the fouling factor is above the recommended value. Cleaning is recommended.\"\nelse:\n    print \"Therefore, the exchanger as specified is suitable for these process conditions since the fouling factor is below the recommended value. Cleaning is not recommended.\"",
     "language": "python",
     "metadata": {},
     "outputs": [
      {
       "output_type": "stream",
       "stream": "stdout",
       "text": "The dirt (d) factor is : -0.0157  Btu/h.ft^2.\u00b0F .\nTherefore, the exchanger as specified is suitable for these process conditions since the fouling factor is below the recommended value. Cleaning is not recommended.\n"
      }
     ],
     "prompt_number": 27
    }
   ],
   "metadata": {}
  }
 ]
}