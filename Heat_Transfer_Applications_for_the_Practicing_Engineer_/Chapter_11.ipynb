{
 "metadata": {
  "name": "Chapter 11"
 },
 "nbformat": 3,
 "nbformat_minor": 0,
 "worksheets": [
  {
   "cells": [
    {
     "cell_type": "heading",
     "level": 1,
     "metadata": {},
     "source": "Chapter 11: Radiation"
    },
    {
     "cell_type": "heading",
     "level": 3,
     "metadata": {},
     "source": "ILLUSTRATIVE EXAMPLE 11.3, Page number: 181"
    },
    {
     "cell_type": "code",
     "collapsed": false,
     "input": "'''The intensity of radiation as a function of wavelength (l = mu*m) is specified as\nI = 40e^-l^2 ; Btu/h.ft^2.mu.m\nCalculate the total emissive power.\n'''\n\nfrom sympy import symbols, integrate,oo,exp,pi\n\n#Variable declaration:\nl = symbols('l')                        #Wavelength (mu.m)\nI = 40*exp(-l**2)                       #Intensity of radiation (Btu/h.ft^2.mu.m)\n\n#Calculation:\nE = integrate(I, (l,0,oo)).evalf()      #Total emissive power (Btu/h.ft^2)\n\n#Result:\nprint \"The total emissive power is :\",round(E,1),\" Btu/h.ft^2 .\" ",
     "language": "python",
     "metadata": {},
     "outputs": [
      {
       "output_type": "stream",
       "stream": "stdout",
       "text": "The total emissive power is : 35.4  Btu/h.ft^2 .\n"
      }
     ],
     "prompt_number": 3
    },
    {
     "cell_type": "heading",
     "level": 3,
     "metadata": {},
     "source": "ILLUSTRATIVE EXAMPLE 11.4, Page number: 182"
    },
    {
     "cell_type": "code",
     "collapsed": false,
     "input": "'''Estimate the Sun\u2019s temperature. Employ equation (11.4).\n'''\n\n#Variable declaration:\nl = 0.25                            #Wavelength (mu.m)\n#From equation 11.4:\nlT = 2884                           #Product of wavelength and absolute temperature (mu.m.\u00b0R)\n\n#Calculation:\nT = lT/l                            #Sun's temperature (\u00b0R)\n\n#Result:\nprint \"The Sun's temperature is :\",round(T,-2),\" \u00b0R .\"\nprint \"The Sun's temperature in fahrenheit scale is :\",round(T-460,-3),\" \u00b0F .\"",
     "language": "python",
     "metadata": {},
     "outputs": [
      {
       "output_type": "stream",
       "stream": "stdout",
       "text": "The Sun's temperature is : 11500.0  \u00b0R .\nThe Sun's temperature in fahrenheit scale is : 11000.0  \u00b0F .\n"
      }
     ],
     "prompt_number": 4
    },
    {
     "cell_type": "heading",
     "level": 3,
     "metadata": {},
     "source": "ILLUSTRATIVE EXAMPLE 11.5, Page number: 188"
    },
    {
     "cell_type": "code",
     "collapsed": false,
     "input": "'''Estimate the increase in heat transferred by radiation of a black body at 1500\u00b0F relative to one at\n1000\u00b0F.\n'''\n\n#Variable declaration:\nT1 = 1500.0+460.0                   #Absolute temperature 1 (\u00b0R)\nT2 = 1000.0+460.0                   #Absolute temperature 2 (\u00b0R)\n\n#Calculation:\nX = T1**4/T2**4                     #Ratio of quantity of heat transferred\nx = 100*(T1**4-T2**4)/T2**4         #Percentage increase in heat transfer (%)\n\n#Result:\nprint \"The ratio of the quantity/rate of heat transferred is :\",round(X,2),\" .\"\nprint \"The percentage increase in heat transfer is :\",round(x),\"%\"",
     "language": "python",
     "metadata": {},
     "outputs": [
      {
       "output_type": "stream",
       "stream": "stdout",
       "text": "The ratio of the quantity/rate of heat transferred is : 3.25  .\nThe percentage increase in heat transfer is : 225.0 %\n"
      }
     ],
     "prompt_number": 5
    },
    {
     "cell_type": "heading",
     "level": 3,
     "metadata": {},
     "source": "ILLUSTRATIVE EXAMPLE 11.6, Page number: 189"
    },
    {
     "cell_type": "code",
     "collapsed": false,
     "input": "'''Two large walls are required to be maintained at constant temperatures of 800\u00b0F and 1200\u00b0F.\nAssuming the walls are black bodies, how much heat must be removed from the colder wall\nto maintain a steady-state, constant temperature?\n'''\n\n#Variable declaration:\nT1 = 1200.0+460.0                       #Absolute temperature of wall 1 (\u00b0R)\nT2 = 800.0+460.0                        #Absolute temperature of wall 2 (\u00b0R)\n\n#Calculation:\n#From equation 11.23:\nX = 0.173*((T1/100.0)**4-(T2/100.0)**4) #Heat removed from colder wall (Btu/h.ft^2)\n\n#Result:\nprint \"The heat removed from the colder wall to maintain a steady-state is :\",round(X),\" Btu/h.ft^2 .\"",
     "language": "python",
     "metadata": {},
     "outputs": [
      {
       "output_type": "stream",
       "stream": "stdout",
       "text": "The heat removed from the colder wall to maintain a steady-state is : 8776.0  Btu/h.ft^2 .\n"
      }
     ],
     "prompt_number": 6
    },
    {
     "cell_type": "heading",
     "level": 3,
     "metadata": {},
     "source": "ILLUSTRATIVE EXAMPLE 11.7, Page number: 190"
    },
    {
     "cell_type": "code",
     "collapsed": false,
     "input": "'''If the two bodies from Illustrative Example 11.6 have emissivities of 0.5 and 0.75, respectively,\nwhat is the net energy exchange (per unit area)? Assume that the temperatures remain constant at\n1660\u00b0R and 1260\u00b0R, and the two bodies are of infinite size.\n'''\n\n#Variable declaration:\ns = 0.173                       #Stefan-Boltzmann constant (Btu/h.ft^2.\u00b0R)\nEH = 0.5                        #Energy transferred from hotter body (Btu/h.ft^2)\nEC = 0.75                       #Energy transferred to colder body (Btu/h.ft^2)\nTH = 1660.0                     #Absolute temperature of hotter body (\u00b0R)\nTC = 1260.0                     #Absolute temperature of colder body (\u00b0R)\n\n#Calculation:\nE = s*((TH/100.0)**4-(TC/100.0)**4)/((1.0/EH)+(1.0/EC)-1.0) #Net energy exchange per unit area (Btu/h.ft^2)\n\n#Result:\nprint \"The net energy exchange per unit area is :\",round(E,-1),\" Btu/h.ft^2 .\"",
     "language": "python",
     "metadata": {},
     "outputs": [
      {
       "output_type": "stream",
       "stream": "stdout",
       "text": "The net energy exchange per unit area is : 3760.0  Btu/h.ft^2 .\n"
      }
     ],
     "prompt_number": 7
    },
    {
     "cell_type": "heading",
     "level": 3,
     "metadata": {},
     "source": "ILLUSTRATIVE EXAMPLE 11.8, Page number: 191"
    },
    {
     "cell_type": "code",
     "collapsed": false,
     "input": "'''Compare and discuss the results of the last two illustrative examples.\n'''\n\n#Variable declaration:\n#From example 11.6-11.7:\nE1 = 8776.0                     #Energy exchange between black bodies (Btu/h.ft^2)\nE2 = 3760.0                     #Energy exchange between non-black bodies (Btu/h.ft^2)\n\n#Calculation:\nD = (E1-E2)/E1*100              #Percent difference in energy (%)\n\n#Result:\nprint \"The percent difference relative to the black body is:\",round(D,1),\" % .\"",
     "language": "python",
     "metadata": {},
     "outputs": [
      {
       "output_type": "stream",
       "stream": "stdout",
       "text": "The percent difference relative to the black body is: 57.2  % .\n"
      }
     ],
     "prompt_number": 1
    },
    {
     "cell_type": "heading",
     "level": 3,
     "metadata": {},
     "source": "ILLUSTRATIVE EXAMPLE 11.9, Page number: 192"
    },
    {
     "cell_type": "code",
     "collapsed": false,
     "input": "'''Calculate the radiation from a 2-inch IPS cast iron pipe (assume polished) carrying steam at\n300\u00b0F and passing through the center of a 1 ft x 1 ft galvanized zinc duct at 75\u00b0F and whose\noutside is insulated.\n'''\n\n#Variable declaration:\ns = 0.173*10**-8                        #Stefan-Boltzmann constant (Btu/h.ft^2.\u00b0R)\nTH = 300.0+460.0                        #Absolute temperature of external surface (\u00b0R)\nTC = 75.0+460.0                         #Absolute temperature of duct (\u00b0R)\n#From Table 6.2:\nAH = 0.622                              #External surface area of pipe (ft^2)\n#From Table 11.2:\nEH = 0.44                               #Emissivity of oxidized steel\nAC = 4.0*1.0*1.0                        #External surface area of duct (ft^2)\nEC = 0.23                               #Emissivity of galvanized zinc\n\n#Calculation:\nFE = 1.0/(1.0/EH+((AH/AC)*(1.0/EC-1.0))) #Emissivity correction factor\nQ = FE*AH*s*(TH**4-TC**4)                #Net radiation heat transfer (Btu/h.ft)\n\n#Result:\nprint \"The net radiation heat transfer is :\",round(Q,2),\" Btu/h.ft^2 .\"\nprint \"There is a calculation error in book.\"",
     "language": "python",
     "metadata": {},
     "outputs": [
      {
       "output_type": "stream",
       "stream": "stdout",
       "text": "The net radiation heat transfer is : 96.96  Btu/h.ft^2 .\nThere is a calculation error in book.\n"
      }
     ],
     "prompt_number": 9
    },
    {
     "cell_type": "heading",
     "level": 3,
     "metadata": {},
     "source": "ILLUSTRATIVE EXAMPLE 11.10, Page number: 193"
    },
    {
     "cell_type": "code",
     "collapsed": false,
     "input": "'''The outside temperature of a 10 ft2 hot insulated pipe is 140\u00b0F and the surrounding atmosphere\nis 60\u00b0F. The heat loss by free convection and radiation is 13,020 Btu/h, and the combined coefficient\nof heat transfer is estimated to be 2.10 Btu/h.ft^2.\u00b0F . How much of the heat loss is due to\nradiation? Assume the pipe emissivity is approximately 0.9.\n'''\n\n#Variable declaration:\nTH = 140.0+460.0                    #Absolute outside temperature of pipe (ft^2)\nTC = 60.0+460.0                     #Absolute temperature of surrounding atmosphere (ft^2)\nA = 10.0                            #Area of pipe (ft^2)\nE = 0.9                             #Emissivity of pipe\n\n#Calculation:\nQ = E*A*0.173*((TH/100.0)**4-(TC/100.0)**4) #Heat loss due to radiation (Btu/h)\n\n#Result:\nprint \"The heat loss due to radiation is :\",round(Q,-1),\" Btu/h .\"",
     "language": "python",
     "metadata": {},
     "outputs": [
      {
       "output_type": "stream",
       "stream": "stdout",
       "text": "The heat loss due to radiation is : 880.0  Btu/h .\n"
      }
     ],
     "prompt_number": 10
    },
    {
     "cell_type": "heading",
     "level": 3,
     "metadata": {},
     "source": "ILLUSTRATIVE EXAMPLE 11.11, Page number: 193"
    },
    {
     "cell_type": "code",
     "collapsed": false,
     "input": "'''With reference to Illustrative Example 11.10, calculate the radiation heat transfer coefficient, hr.\n'''\n\n#Variable declaration:\n#Froma example 11.10:\nQ = 880.0                   #Heat loss due to radiation (Btu/h)\nA = 10.0                    #Area of pipe (ft^2)\nTH = 140.0                  #Absolute outside temperature of pipe (\u00b0F)\nTC = 60.0                   #Absolute temperature of surrounding atmosphere (\u00b0F)\n\n#Calculation:\nhr = Q/(A*(TH-TC))          #Radiation heat transfer coefficient (Btu/h.ft^2.\u00b0F)\n\n#Result:\nprint \"The radiation heat transfer coefficient is :\",round(hr,1),\" Btu/h.ft^2.\u00b0F .\"",
     "language": "python",
     "metadata": {},
     "outputs": [
      {
       "output_type": "stream",
       "stream": "stdout",
       "text": "The radiation heat transfer coefficient is : 1.1  Btu/h.ft^2.\u00b0F .\n"
      }
     ],
     "prompt_number": 11
    },
    {
     "cell_type": "heading",
     "level": 3,
     "metadata": {},
     "source": "ILLUSTRATIVE EXAMPLE 11.12, Page number: 194"
    },
    {
     "cell_type": "code",
     "collapsed": false,
     "input": "'''A small oxidized horizontal metal tube is placed in a very large furnace enclosure with firebrick\nwalls. The metal tube has an outside diameter of 1 inch, a length of 2 ft, a surface emissivity of\n0.6, and its surface is maintained at 600\u00b0F. The hot air in the furnace is at 1500\u00b0F and the furnace\nbrick walls are at 1350\u00b0F. The convection heat transfer coefficient for the horizontal tube is 2.8\nBtu/h.ft2.\u00b0F . Calculate\n1. The convective, radiative, and total heat transferred to the metal tube;\n2. The percent of total heat transferred by radiation;\n3. The radiation heat transfer coefficient;\n4. Is it appropriate to use the approximate equation presented in Equation (11.30) for (3)?\n'''\n\nfrom math import pi\n\n#Variable declaration:\nD = 0.0833                          #Diameter of tube (ft)\nL = 2.0                             #Length of tube (ft)\nh = 2.8                             #Heat transfer coefficient (Btu/h.ft^2.\u00b0F)\nTa1 = 1500.0+460.0                  #Temperature of hot air in furnace (\u00b0R)\nTa2 = 1350.0+460.0                  #Temperature of hot air in the furnace brick walls (\u00b0R)\nTt = 600.0+460.0                    #Surface temperature of tube (\u00b0R)\nE = 0.6                             #Surface emissivity of tube\ns = 0.1713*10**-8                   #Stefan-Boltzmann constant\n\n\n#Calculation:\n#Case 1:\nA = pi*D*L                          #Area of tube (ft^2)\nQc = round(h*A*(Ta1-Tt),-1)         #Convection heat transfer from air to tube (Btu/h)\nQr = round(E*s*A*(Ta2**4-Tt**4),-2) #Radiation feat transfer from wall to tube (Btu/h)\nQ = Qr+Qc                           #Total heat transfer (Btu/h)\n#Case 2:\nQp = Qr/Q*100                       #Radiation percent \n#Case 3:\nhr = Qr/(A*(Ta2-Tt))                #Radiation heat transfer coefficient (Btu/h.ft^2.\u00b0F)\n#Case 4:\nT = Ta2-Tt                          #Temperature difference (\u00b0F)\n\n#Result:\nprint \"1. The convective heat transferred to the metal tube is :\",Qc,\" Btu/h .\"\nprint \"   The radiative heat transferred to the metal tube is :\",Qr,\" Btu/h .\"\nprint \"   The total heat transferred to the metal tube is :\",Q,\" Btu/h .\"\nprint \"2. The percent of total heat transferred by radiation is :\",round(Qp,1),\" % .\"\nprint \"3. The radiation heat transfer coefficient is :\",round(hr,1),\" Btu/h.ft^2.\u00b0F .\"\nif (T > 200):\n    print \"4. The use of the approximation Equation (11.30), hr = 4EsTav^3, is not appropriate.\"\nelif (T < 200):\n    print \"4. The use of the approximation Equation (11.30), hr = 4EsTav^3, is appropriate.\"",
     "language": "python",
     "metadata": {},
     "outputs": [
      {
       "output_type": "stream",
       "stream": "stdout",
       "text": "1. The convective heat transferred to the metal tube is : 1320.0  Btu/h .\n   The radiative heat transferred to the metal tube is : 5100.0  Btu/h .\n   The total heat transferred to the metal tube is : 6420.0  Btu/h .\n2. The percent of total heat transferred by radiation is : 79.4  % .\n3. The radiation heat transfer coefficient is : 13.0  Btu/h.ft^2.\u00b0F .\n4. The use of the approximation Equation (11.30), hr = 4EsTav^3, is not appropriate.\n"
      }
     ],
     "prompt_number": 14
    },
    {
     "cell_type": "heading",
     "level": 3,
     "metadata": {},
     "source": "ILLUSTRATIVE EXAMPLE 11.13, Page number: 194"
    },
    {
     "cell_type": "code",
     "collapsed": false,
     "input": "'''The filament of a light bulb is at a temperature of 900\u00b0C and emits 5W of heat toward the glass\nbulb. The interior of a light bulb can be considered a vacuum and the temperature of the glass\nbulb is 150\u00b0C. Ignoring heat transfer to the room and assuming the emissivity of the filament is\n1.0, calculate the surface area of the filament in cm^2.\n'''\n\n#Variable declaration:\nQ = 5.0                         #Radiation heat transfer (W)\nE = 1.0                         #Emissivity of filament\ns = 5.669*10**-8                #Stefan-Boltzmann constant\nT1 = 900.0+273.0                #Light bulb temperature (K)\nT2 = 150.0+273.0                #Glass bulb temperature (K)\n\n#Calculation:\nA = Q/(E*s*(T1**4-T2**4))       #Surface area of the filament (m^2)\n\n#Result:\nprint \"The surface area of the filament is :\",round(A*10**4,2), \"cm^2\"",
     "language": "python",
     "metadata": {},
     "outputs": [
      {
       "output_type": "stream",
       "stream": "stdout",
       "text": "The surface area of the filament is : 0.47 cm^2\n"
      }
     ],
     "prompt_number": 13
    },
    {
     "cell_type": "heading",
     "level": 3,
     "metadata": {},
     "source": "ILLUSTRATIVE EXAMPLE 11.14, Page number: 195"
    },
    {
     "cell_type": "code",
     "collapsed": false,
     "input": "'''A system consists of an uninsulated steam pipe made of anodized aluminum with a diameter\nD = 0.06 m and a length L = 100 m. The surface temperature is T1 = 127\u00b0C and the surface\nemissivity of anodized aluminum is 1 = 0.76. The pipe is in a large room with a wall temperature\nT2 = 20\u00b0C. The air in the room is at a temperature T3 = 22\u00b0C. The pipe convective heat\ntransfer coefficient is h = 15 W/m^2 . K.\nEstimate the emissive power, the total heat transfer by convection and radiation, and the radiation\nheat transfer coefficient. Assume steady-state operation, constant properties, and a room\nsurface area much larger than the pipe surface area.\n'''\n\nfrom math import pi\n\n#Variable declaration:\nT1 = 127.0+273.0                    #Surface temperature (K)\nT2 = 20.0+273.0                     #Wall temperature (K)\nT3 = 22.0+273.0                     #Air temperature (K)\ns = 5.669*10**-8                    #Stefan-Boltzmann constant\ne = 0.76                            #Surface emissivity of anodized aluminium\nD = 0.06                            #Diameter of pipe (m)\nL = 100.0                           #Length of pipe (m)\nh = 15.0                            #Pipe convective heat transfer coefficient (W/m^2.K)\n\n#Calculation:\nEb = s*T1**4                        #Emissive energy of pipe (W/m^2)\nE = e*Eb                            #Emissive power from surface of pipe (W/m^2)\nA = pi*D*L                          #Surface area of pipe (m^2)\nQc = h*A*(T1-T3)                    #Convection heat transfer to air (W)\nQr = e*s*A*(T1**4-T2**4)            #Radiation heat transfer rate (W)\nQ = Qc+Qr                           #Total heat transfer rate (Btu/h)\nTav = (T1+T2)/2.0                   #Average temperature (K)\nhr = 4*e*s*Tav**3                   #Radiation heat transfer coefficient (W/m^2.K)\n\n#Result:\nprint \"The emissive power from surface of pipe is :\",round(E),\" W/m^2 .\"\nprint \"The convection heat transfer to air is :\",round(Qc/10**3,1),\" kW .\"\nprint \"The radiation heat transfer rate is :\",round(Qr/10**3,1),\" kW \"\nprint \"The radiation heat transfer coefficient is :\",round(hr,1),\" W/m^2.K .\"",
     "language": "python",
     "metadata": {},
     "outputs": [
      {
       "output_type": "stream",
       "stream": "stdout",
       "text": "The emissive power from surface of pipe is : 1103.0  W/m^2 .\nThe convection heat transfer to air is : 29.7  kW .\nThe radiation heat transfer rate is : 14.8  kW \nThe radiation heat transfer coefficient is : 7.2  W/m^2.K .\n"
      }
     ],
     "prompt_number": 15
    },
    {
     "cell_type": "heading",
     "level": 3,
     "metadata": {},
     "source": "ILLUSTRATIVE EXAMPLE 11.15, Page number: 196"
    },
    {
     "cell_type": "code",
     "collapsed": false,
     "input": "'''Refer to Illustrative Example 11.14. How much does radiation contribute to the total heat\ntransfer?\n'''\n\n#Variable declaration:\n#From example 11.14:\nQc = 15.0                       #Convection heat transfer coefficient (W/m^2.K)\nhr = 7.2                        #Radiation heat transfer coefficient (W/m^2.K)\n\n#Calculation:\nX = hr/(Qc+hr)*100.0            #Percent heat transfer by radiation (%)\n\n#Result:\nprint \"The percent heat transfer by radiation is :\",round(X,1),\" % .\"",
     "language": "python",
     "metadata": {},
     "outputs": [
      {
       "output_type": "stream",
       "stream": "stdout",
       "text": "The percent heat transfer by radiation is : 32.4  % .\n"
      }
     ],
     "prompt_number": 16
    },
    {
     "cell_type": "heading",
     "level": 3,
     "metadata": {},
     "source": "ILLUSTRATIVE EXAMPLE 11.16, Page number: 200"
    },
    {
     "cell_type": "code",
     "collapsed": false,
     "input": "'''Refer to Illustrative Example 11.9. Calculate the heat transfer rate if Fv = 1.0.\n'''\n\n#Variable declaration:\nFV = 1.0                            #Correction factor\n#From example 11.9:\nFE = 0.358                          #Emissivity correction factor\nTH = 300.0+460.0                    #Absolute temperature of external surface (\u00b0R)\nTC = 75.0+460.0                     #Absolute temperature of duct (\u00b0R)\nAH = 0.622                          #Area of pipe (ft^2)\ns = 0.173*10**-8                    #Stefan-Boltzmann constant\n\n#Calculation:\nQ = FV*FE*AH*s*(TH**4-TC**4)        #Heat transfer rate (Btu/h.ft)\n\n#Result:\nprint \"The heat transfer rate is :\",round(Q,2),\" Btu/h.ft\"\nprint \"Since, 'Q' obtained in (11.9) is 96.96 Btu/h.ft, the solution does not match with book.\"",
     "language": "python",
     "metadata": {},
     "outputs": [
      {
       "output_type": "stream",
       "stream": "stdout",
       "text": "The heat transfer rate is : 96.96  Btu/h.ft\nSince, 'Q' obtained in (11.9) is 96.96 Btu/h.ft, the solution does not match with book.\n"
      }
     ],
     "prompt_number": 17
    },
    {
     "cell_type": "heading",
     "level": 3,
     "metadata": {},
     "source": "ILLUSTRATIVE EXAMPLE 11.17, Page number: 200"
    },
    {
     "cell_type": "code",
     "collapsed": false,
     "input": "'''Two parallel rectangular black plates 0.5 m by 2.0 m are spaced 1.0 m apart. One plate is maintained\nat 1000\u00b0C and the other at 2000\u00b0C. What is the net radiant heat exchange between the two\nplates?\n'''\n\n#Variable declaration:\n#From figure 11.2:\nL = 1.0                                 #Space between plates (m)\nX = 0.5                                 #Length of plate (m)\nY = 2.0                                 #Width of plate (m)\ns = 5.669*10**-8                        #Stefan-Boltzmann constant\nTH = 2000.0+273.0                       #Temperature of hotter plate (K)\nTC = 1000.0+273.0                       #Temperature of colder plate (K)\nBtu = 0.2934*10**-3                     #Btu/h in a KW\n\n#Calculation:\nA = X*Y                                 #Area of plate (m^2)\nZ1 = Y/L                                #Ratio of width with space\nZ2 = X/L                                #Ratio of length with space\n#From figure 11.2:\nFV = 0.18                               #Correction factor\nFE = 1.0                                #Emissivity correction factor\nQ1 = FV*FE*s*A*(TH**4-TC**4)            #Net radiant heat exchange between plates (kW)\nQ2 = Q1/Btu                             #Net radiant heat exchange between plates in Btu/h (Btu/h)\n\n#Result:\nprint \"The net radiant heat exchange between plates is :\",round(Q1,-2),\" kW .\"\nprint \"The net radiant heat exchange between plates in Btu/h is :\",round(Q2/10**8,2),\" x 10^8 Btu/h .\"",
     "language": "python",
     "metadata": {},
     "outputs": [
      {
       "output_type": "stream",
       "stream": "stdout",
       "text": "The net radiant heat exchange between plates is : 245600.0  kW .\nThe net radiant heat exchange between plates in Btu/h is : 8.37  x 10^8 Btu/h .\n"
      }
     ],
     "prompt_number": 18
    }
   ],
   "metadata": {}
  }
 ]
}