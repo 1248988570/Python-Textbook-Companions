{
 "metadata": {
  "name": "Chapter 18"
 },
 "nbformat": 3,
 "nbformat_minor": 0,
 "worksheets": [
  {
   "cells": [
    {
     "cell_type": "heading",
     "level": 1,
     "metadata": {},
     "source": "Chapter 18: Other Heat Exchange Equipment"
    },
    {
     "cell_type": "heading",
     "level": 3,
     "metadata": {},
     "source": "ILLUSTRATIVE EXAMPLE 18.2, Page number: 384"
    },
    {
     "cell_type": "code",
     "collapsed": false,
     "input": "'''Calculate the temperature when 50 lb of pure H2SO4 at 25\u00b0C is mixed adiabatically with 200 lb\nof a 50% by weight aqueous H2SO4 solution at 25\u00b0C. Also calculate the heat effect if the final\nmixture is at 25\u00b0C.\n'''\n\nfrom __future__ import division\n\n#Variable declaration:\nT1 = 25                      #Temperature of H2SO4 (\u00b0C)\nm = 50+200                   #Mass of H2SO4 (lb)\n#From figure 18.2:\nW1 = 50+100                  #Weight of H2SO4 (lb)\nW2 = 100                     #Weight of H2O (lb)\n\n#Calculation:\nm = W1/(W1+W2)*100          #Percent weight of H2SO4 (%)\nm2 = W1+W2                  #Mass of mixture (lb)\n#From fgure 18.2:\nT2 = 140                    #Final temperature between the 50% solution and pure H2SO4 at  25\u00b0C (\u00b0F)\nh1 = -86                    #Specific heat capacity of H2O (Btu/lb)\nh2 = -121.5                 #Specific heat capacity of H2SO4 (Btu/lb)\nQ = m2*(h2-h1)              #Heat transferred (Btu)\n\n#Result:\nprint \"The final temperature between the 50% solution and pure H2SO4 at  25\u00b0C is :\",round(T2),\" \u00b0F .\"\nprint \"The heat transferred is :\",round(Q),\" Btu .\"",
     "language": "python",
     "metadata": {},
     "outputs": [
      {
       "output_type": "stream",
       "stream": "stdout",
       "text": "The final temperature between the 50% solution and pure H2SO4 at  25\u00b0C is : 140.0  \u00b0F .\nThe heat transferred is : -8875.0  Btu .\n"
      }
     ],
     "prompt_number": 2
    },
    {
     "cell_type": "heading",
     "level": 3,
     "metadata": {},
     "source": "ILLUSTRATIVE EXAMPLE 18.3, Page number: 386"
    },
    {
     "cell_type": "code",
     "collapsed": false,
     "input": "'''A single-effect evaporator is to concentrate 10,000 lb/h of a 10% NaOH solution to 75%. The\nfeed enters at 120\u00b0F and the evaporator is to operate at an absolute pressure of 14.7 psi. The 75%\nNaOH solution leaves at the evaporator equilibrium temperature. For what heat transfer rate\n(Btu/h) should the evaporator be designed? Also calculate the area requirement in the evaporator\nif the overall heat transfer coefficient is 500 Btu/h.ft^2.\u00b0F and 103 psig (340\u00b0F) saturated\nsteam is employed in the steam chest. The NaOH\u2013H2O enthalpy-concentration diagram is provided\nin Figure 18.3. The enthalpy of saturated steam at 14.7 psia is approximately 1150 Btu/lb.\n'''\n\nfrom __future__ import division\n\n#Variable declaration:\nF = 10000                       #Mass flow rate of NaOH (lb/h)\nC1 = 10                         #Old concentration of NaOH solution (%)\nC2 = 75                         #New concentration of NaOH solution (%)\nh1 = 1150                       #Enthalpy of saturated steam at 14.7 psia (Btu/lb)\nU = 500                         #Overall heat transfer coefficient (Btu/h.ft^2.\u00b0F)\nT1 = 212                        #Absolute temperature of evaporator (\u00b0F)\nT2 = 340                        #Saturated steam temperature (\u00b0F)\n\n#Calculation:\nL = F*(C1/100)/(C2/100)         #Flow rate of steam leaving the evaporator (lb/h)\nV = F-L                         #Overall material balance (lb/h)\n#From figure 18.3:\nhF = 81                         #Enthalpy of solution entering the unit (Btu/lb)\nhL = 395                        #Enthalpy of the 75% NaOH solution (Btu/lb)\nQ = round(V)*h1+round(L)*hL-F*hF    #Evaporator heat required (Btu/h)\nA = Q/(U*(T2-T1))               #Area of the evaporaor (ft^2)\n\n#Result:\nprint \"The heat transfer rate required for the evaporator is :\",round(Q,-2),\" Btu/h .\"\nprint \"The area requirement in the evaporator is :\",round(A,1),\" ft^2 .\"",
     "language": "python",
     "metadata": {},
     "outputs": [
      {
       "output_type": "stream",
       "stream": "stdout",
       "text": "The heat transfer rate required for the evaporator is : 9683600.0  Btu/h .\nThe area requirement in the evaporator is : 151.3  ft^2 .\n"
      }
     ],
     "prompt_number": 3
    },
    {
     "cell_type": "heading",
     "level": 3,
     "metadata": {},
     "source": "ILLUSTRATIVE EXAMPLE 18.4, Page number: 388"
    },
    {
     "cell_type": "code",
     "collapsed": false,
     "input": "'''Given the triple-effect evaporator information below, calculate the temperature drop across the\nheating surface in the first effect:\nEffect       U, Btu/h.ft^2.\u00b0F        A, ft^3\n1               240                      125\n2               200                      150\n3               125                      160\nThe condensing stream temperature in the first effect and the vapor leaving the third effect are\n400\u00b0F and 120\u00b0F, respectively.\n'''\n\nfrom __future__ import division\n\n#Variable declaration:\nU1 = 240                    #Overall heat transfer coefficient for first effect (Btu/h.ft^2.\u00b0F)\nU2 = 200                    #Overall heat transfer coefficient for second effect (Btu/h.ft^2.\u00b0F)\nU3 = 125                    #Overall heat transfer coefficient for third effect (Btu/h.ft^2.\u00b0F)\nA1 = 125                    #Heating surface area in first effect (ft^3)\nA2 = 150                    #Heating surface area in second effect (ft^3)\nA3 = 160                    #Heating surface area in third effect (ft^3)\nT1 = 400                    #Condensation stream temperature in the first effect (\u00b0F)\nT2 = 120                    #Vapor leaving temperature in the first effect (\u00b0F)\n\n#Calculation:\nR1 = 1/(U1*A1)              #Resistance across first effect\nR2 = 1/(U2*A2)              #Resistance across second effect\nR3 = 1/(U3*A3)              #Resistance across third effect\nR = R1+R2+R3                #Total resistance\nDT1 = (R1/R)*(T1-T2)        #Temperature drop across the heating surface in the first effect (\u00b0F)\n\n#Result:\nprint \"The temperature drop across the heating surface in the first effect is :\",round(DT1),\" \u00b0F .\"",
     "language": "python",
     "metadata": {},
     "outputs": [
      {
       "output_type": "stream",
       "stream": "stdout",
       "text": "The temperature drop across the heating surface in the first effect is : 80.0  \u00b0F .\n"
      }
     ],
     "prompt_number": 4
    },
    {
     "cell_type": "heading",
     "level": 3,
     "metadata": {},
     "source": "ILLUSTRATIVE EXAMPLE 18.6, Page number: 389"
    },
    {
     "cell_type": "code",
     "collapsed": false,
     "input": "'''An evaporator is to be fed with 5000 lb of solution containing 2% solids by weight. The feed,\nF, is at a temperature of 100\u00b0F. It is to be concentrated to a solution of 5% solute by weight in\nan evaporator operating at a pressure of 1 atm in the vapor space. In order to carry out the\nevaporation, the heating surface is supplied with steam at 5 psig (227\u00b0F) and the overall heat\ntransfer coefficient of the evaporator, U, is 280 Btu/h.ft^2.\u00b0F. What is the mass of vapor\nproduced, the total mass of steam required, and the surface area required? Neglect enthalpy\nof solution effects.\n'''\n\nfrom __future__ import division\n\n#Variable declaration:\nF = 5000                        #Mass of soltuion fed in the evaporator (lb)\nxF = 2/100                      #Concentration of feed\nxL = 5/100                      #Concentration of liquor\nU = 280                         #Overall heat transfer coefficient (Btu/h.ft^2.\u00b0F)\n#From figure 18.1 & 18.3:\nTF = 100                        #Feed temperature (\u00b0F)\nTS = 227                        #Steam temperature (\u00b0F)\nTV = 212                        #Vapour temperature (\u00b0F)\nTL = 212                        #Liquor temperature (\u00b0F)\nTC = 227                        #Condensate temperature (\u00b0F)\n\n#Calculation:\n#From steam tables:\nhF = 68                         #Enthalpy of feed (Btu/lb)\nhL = 180                        #Enthalpy of liquor (Btu/lb)\nhV = 1150                       #Enthalpy of vapour (Btu/lb)\nhS = 1156                       #Enthalpy of steam (Btu/lb)\nhC = 195                        #Enthalpy of condensate (Btu/lb)\ns1 = F*xF                       #Total solids in feed (lb)\nw = F-s1                        #Total water in feed (lb)\ns2 = F*xF                       #Total solids in liquor (lb)\nL = s2/xL                       #Total water in liquor (lb)\nV = F-L                         #Overall balance (lb)\nS = (V*hV+L*hL-F*hF)/(hS-hC)    #Mass of steam (lb)\nQ = S*(hS-hC)                   #Total heat requirement (Btu)\nA = Q/(U*(TS-TL))               #Required surface aea (ft^2)\n\n#Result:\nprint \"The mass of vapor produced is :\",round(V),\" lb .\"\nprint \"The total mass of steam required is :\",round(S),\" lb .\"\nprint \"The surface area required is :\",round(A),\" ft^2 .\"",
     "language": "python",
     "metadata": {},
     "outputs": [
      {
       "output_type": "stream",
       "stream": "stdout",
       "text": "The mass of vapor produced is : 3000.0  lb .\nThe total mass of steam required is : 3611.0  lb .\nThe surface area required is : 826.0  ft^2 .\n"
      }
     ],
     "prompt_number": 6
    },
    {
     "cell_type": "heading",
     "level": 3,
     "metadata": {},
     "source": "ILLUSTRATIVE EXAMPLE 18.7, Page number: 390"
    },
    {
     "cell_type": "code",
     "collapsed": false,
     "input": "'''An evaporator is fed with 5000 lb/h of a 20% solution of sodium hydroxide at 100\u00b0F. This is to\nbe concentrated to a 40% solution. The evaporator is supplied with saturated steam at 5 psig.\nAlthough the unit operates with the vapor space at a pressure of 4 in Hg absolute, the boiling\ntemperature of the solution in the evaporator is 198\u00b0F (due to the superheat created by the\nexposed heating element). The overall heat transfer coefficient is 400 Btu/h.ft^2.\u00b0F.\nCalculate the steam rate and the required heat transfer area.\n'''\n\nfrom __future__ import division\n\n#Variable declaration:\nF = 5000                        #Mass flow rate of NaOH (lb/h)\nxF = 20/100                     #Old concentration of NaOH solution\nTF = 100                        #Feed temperature (\u00b0F)\nxL = 40/100                     #New concentration of NaOH solution\nxv = 0                          #Vapour concentration at x\nyv = 0                          #Vapour concentration at y\nT1 = 198                        #Boiling temperature of solution in the evaporator (\u00b0F)\nT2 = 125                        #Saturated steam temperature (\u00b0F)\nU = 400                         #Overall heat transfer coefficient (Btu/h.ft^2.\u00b0F)\nTs = 228                        #Steam temperature (\u00b0F)\n\n#Calculation:\n#From steam tables at 228\u00b0F and 5 psig:\nhS = 1156                       #Enthalpy of steam (Btu/lb)\nhC = 196                        #Enthalpy of condensate (Btu/lb)\nhV = hS-hC                      #Enthalpy of vapour (Btu/lb)\nTw = 125.4                      #Boiling point of water at 4 in Hg absolute (\u00b0F)\nhS2 = 1116                      #Enthalpy of saturated steam at 125\u00b0F (Btu/lb)\nhs = 0.46                       #Heat capacity of superheated steam (Btu/lb.\u00b0F)\n#From figure 18.3:\nhF = 55                         #Enthalpy of feed (Btu/lb)\nhL = 177                        #Enthalpy of liquor (Btu/lb)\nL = F*xF/xL                     #Mass of liquor (lb)\nV = L                           #Mass of vapour (lb)\nhV = hS2+hs*(T1-T2)             #Enthalpy of vapour leaving the solution (Btu/lb)\nS = (V*hV+L*hL-F*hF)/(hS-hC)    #Mass flow rate of steam (lb/h)\nQ = S*(hS-hC)                   #Total heat requirement (Btu)\nA = Q/(U*(Ts-T1))               #Required heat transfer area (ft^2)\n\n#Result:\nprint \"The steam flow rate is :\",round(S,-1),\" lb/h .\"\nprint \"The required heat transfer area is :\",round(A),\" ft^2 .\"",
     "language": "python",
     "metadata": {},
     "outputs": [
      {
       "output_type": "stream",
       "stream": "stdout",
       "text": "The steam flow rate is : 3170.0  lb/h .\nThe required heat transfer area is : 253.0  ft^2 .\n"
      }
     ],
     "prompt_number": 7
    },
    {
     "cell_type": "heading",
     "level": 3,
     "metadata": {},
     "source": "ILLUSTRATIVE EXAMPLE 18.10, Page number: 398"
    },
    {
     "cell_type": "code",
     "collapsed": false,
     "input": "'''Using Ganapathy\u2019s method, determine the required \u201clength\u201d of a waste heat boiler to be used to\ncool hot gases (average heat capacity = 0.279 Btu/lb.\u00b0F) from 2000 to 550\u00b0F and generate\n30,000 lb/h of steam at 3308F from water at 140\u00b0F. The boiler contains 800 1.5-inch ID tubes.\n'''\n\nfrom __future__ import division\n\n#Variable declaration:\nT1 = 2000                       #Hot gas temperature (\u00b0F)\nT2 = 550                        #Cool gas temperature (\u00b0F)\nT3 = 330                        #Steam temperature (\u00b0F)\nT4 = 140                        #Water temperature (\u00b0F)\nm = 30000                       #Mass flow rate of steam (lb/h)\ncp = 0.279                      #Average heat capacity of gas (Btu/lb.\u00b0F)\nN = 800                         #Number of boiler tubes\n\n#Calculation:\nDT = (T1-T3)/(T2-T3)            #Temperature difference ratio\nTav = (T1+T2)/2                 #Average gas temperature (\u00b0F)\n#From steam tables (Appendix):\nhs = 1187.7                     #Steam enthalpy (Btu/lb)\nhw = 107.89                     #Water enthalpy (Btu/lb)\nQ = m*(hs-hw)                   #Heat duty (Btu/h)\nmh = Q/cp*(T1-T2)               #Mass flow rate of gas (lb/h)\nx = mh/N                        #Gas mass flow rate per tube (lb/h)\n#From figure 18.5:\nL = 15                          #Length of boiler tubes (ft)\n\n#Result:\nprint \"The length of boiler tubes is :\",L,\" ft .\"",
     "language": "python",
     "metadata": {},
     "outputs": [
      {
       "output_type": "stream",
       "stream": "stdout",
       "text": "The length of boiler tubes is : 15  ft .\n"
      }
     ],
     "prompt_number": 10
    },
    {
     "cell_type": "heading",
     "level": 3,
     "metadata": {},
     "source": "ILLUSTRATIVE EXAMPLE 18.12, Page number: 399"
    },
    {
     "cell_type": "code",
     "collapsed": false,
     "input": "'''120,000 lb/h of flue gas from an incinerator is to be cooled from 1800 to 500\u00b0F in a waste heat\nboiler. If 2-inch ID tubes and a flow rate of 150 lb/h through each tube is to be used, estimate the\nrequired heat transfer area, tube length, heat duty, and water mass flow rate. Water at 200\u00b0F is\navailable for the steam generator; saturated steam at 80 psia is needed. The average heat capacity\nof the flue gas is 0.26 Btu/lb.\u00b0F. Use Ganapathy\u2019s method to solve the problem.\n'''\n\nfrom __future__ import division\n\n#Variable declaration:\nT1 = 1800                       #Hot gas temperature (\u00b0F)\nT2 = 500                        #Cool gas temperature (\u00b0F)\n#From steam tables:\nTw = 312                        #Boiling point of water at 80 psia (\u00b0F)\nm1 = 120000                     #Mass flow rate of flue gas (lb/h)\nD = 2/12                        #Inside diameter of tube (ft)\ncp = 0.26                       #Average heat capacity of flue gas (Btu/lb.\u00b0F)\n\n#Calculation:\nDT = (T1-Tw)/(T2-Tw)            #Temperature difference ratio\nTav = (T1+T2)/2                 #Average gas temperature (\u00b0F)\n#From figure 18.4:\nx = 150                         #Gas mass flow rate per tube (m/N) (lb/h)\nN = m1/x                        #Number of tubes\nL = 21.5                        #Length of tubes (ft)\nA = N*L*D                       #Total heat transfer area (ft^2)\nQ = m1*cp*(T1-T2)               #Heat duty (Btu/h)\n#From steam tables (Appendix):\nhs = 1183.1                     #Steam enthalpy at 80 psia (Btu/lb)\nhw = 168.1                      #Water enthalpy at 200\u00b0F (Btu/lb)\nm2 = Q/(hs-hw)                  #Mass flow rate of water (lb/h)\n\n#Result:\nprint \"The required heat transfer area is :\",round(A),\" ft^2 .\"\nprint \"The tube length is :\",L,\" ft .\"\nprint \"The heat duty is :\",round(Q/10**7,2),\" x 10^7 .\"\nprint \"The water mass flow rate is :\",round(m2,-4),\" lb/h .\"",
     "language": "python",
     "metadata": {},
     "outputs": [
      {
       "output_type": "stream",
       "stream": "stdout",
       "text": "The required heat transfer area is : 2867.0  ft^2 .\nThe tube length is : 21.5  ft .\nThe heat duty is : 4.06  x 10^7 .\nThe water mass flow rate is : 40000.0  lb/h .\n"
      }
     ],
     "prompt_number": 12
    },
    {
     "cell_type": "heading",
     "level": 3,
     "metadata": {},
     "source": "ILLUSTRATIVE EXAMPLE 18.18, Page number: 407"
    },
    {
     "cell_type": "code",
     "collapsed": false,
     "input": "'''It is proposed to cool 144,206 lb/h of a hot flue combustion gas by using ambient air at 70\u00b0F.\nCalculate the quantity (mass, mole, and volume basis) of air required to cool the gases from\n2050\u00b0F to an acceptable temperature of 560\u00b0F. Assume an average flue gas heat capacity of\n0.3 Btu/lb.\u00b0F.\n'''\n\n#Variable declaration:\nm1 = 144206                     #Mass flow rate of flue gas (lb/h)\ncp = 0.3                        #Average flue gas heat capacity (Btu/lb.\u00b0F)\nT1 = 2050                       #Initial temperature of gas (\u00b0F)\nT2 = 560                        #Final temperature of gas (\u00b0F)\nT3 = 70                         #Ambient air temperature (\u00b0F)\n\n#Calculation:\nQ = m1*cp*(T1-T2)               #Duty rate (Btu/h)\n#From appendix:\ncpa = 0.243                     #Average ambient air heat capacity 70\u00b0F (Btu/lb.\u00b0F)\nMW = 29                         #Molecular weight of air at 70\u00b0F\nma = round(Q,-5)/(cpa*(T2-T3))  #Mass of air required (lb/h)\nm2 = round(ma)/MW               #Moles of air required (lb mol/h)\nm3 = round(ma)*13.32            #Volume of air required (ft^3/h)\n\n#Result:\nprint \"The mass of air required is :\",round(ma,-2),\" lb/h .\"\nprint \"The moles of air required is :\",round(m2,-1),\"lb mol/h .\"\nprint \"The volume of air required is :\",round(m3,-3),\" ft^3/h .\"",
     "language": "python",
     "metadata": {},
     "outputs": [
      {
       "output_type": "stream",
       "stream": "stdout",
       "text": "The mass of air required is : 541700.0  lb/h .\nThe moles of air required is : 18680.0 lb mol/h .\nThe volume of air required is : 7215000.0  ft^3/h .\n"
      }
     ],
     "prompt_number": 18
    },
    {
     "cell_type": "heading",
     "level": 3,
     "metadata": {},
     "source": "ILLUSTRATIVE EXAMPLE 18.19, Page number: 407"
    },
    {
     "cell_type": "code",
     "collapsed": false,
     "input": "'''Design the air quench tank in the previous example if a 1.5-s residence time is required.'''\n\n#Variable declaration:\n#From example 18.19:\nm1 = 144200                     #Mass flow rate of flue gas (lb/h)\nm2 = 541700                     #Mass flow rate of air (lb/h)\nR = 0.73                        #Universal gas constant (psia.ft^3/lbmol.\u00b0R)\nP = 1                           #Absolute pressure (psia)\nT = 1020                        #Absolute temperature (\u00b0R)\nMW = 29                         #Molecular weight of air\nt = 1.5                         #Residence time (s)\n\n#Calculation:\nm = m1+m2                       #Total mass flow rate of the gas (lb/h)\nq = m*R*T/(P*MW)                #Volumetric flow at 560\u00b0F (ft^3/h)\nV = q*t/3600                    #Volume of tank (ft^3)\n\n#Result:\nprint \"The total mass flow rate of the gas is :\",round(m,-2),\" lb/h .\"\nprint \"The volumetric flow at 560\u00b0F is :\",round(q/10**7,2),\" x 10^7 ft^3/h .\"\nprint \"The volume of tank is :\",round(V),\" ft^3 .\"",
     "language": "python",
     "metadata": {},
     "outputs": [
      {
       "output_type": "stream",
       "stream": "stdout",
       "text": "The total mass flow rate of the gas is : 685900.0  lb/h .\nThe volumetric flow at 560\u00b0F is : 1.76  x 10^7 ft^3/h .\nThe volume of tank is : 7338.0  ft^3 .\n"
      }
     ],
     "prompt_number": 19
    },
    {
     "cell_type": "heading",
     "level": 3,
     "metadata": {},
     "source": "ILLUSTRATIVE EXAMPLE 18.20, Page number: 408"
    },
    {
     "cell_type": "code",
     "collapsed": false,
     "input": "'''Calculate the physical dimensions of the tank in the previous example.'''\n\nfrom __future__ import division\nfrom math import pi\n\n#Variable declaration:\n#Fro example 18.20:\nV = 7335                    #Volume of tank (ft^3)\n\n#Calculation:\nD = (4*V/pi)**(1/3)         #Diameter of tank (ft)\nH = D                       #Height of tube (ft)\n\n#Result:\nprint \"The diameter of tank is :\",round(H,2),\" ft .\"\nprint \"The height of tube is :\",round(D,2),\" ft .\"",
     "language": "python",
     "metadata": {},
     "outputs": [
      {
       "output_type": "stream",
       "stream": "stdout",
       "text": "The diameter of tank is : 21.06  ft .\nThe height of tube is : 21.06  ft .\n"
      }
     ],
     "prompt_number": 21
    },
    {
     "cell_type": "heading",
     "level": 3,
     "metadata": {},
     "source": "ILLUSTRATIVE EXAMPLE 18.21, Page number: 408"
    },
    {
     "cell_type": "code",
     "collapsed": false,
     "input": "'''It is proposed to reduce the temperature of 10% of the 144,206 lb/h of flue gas described\nin Illustrative Example 18.18 to 5508F using a solids contact method that operates on a 1-h\ncooling cycle. Assume the average heat capacities of the flue gas and solid to be 0.3 and\n0.88 Btu/lb.\u00b0F, respectively, over the temperature range in question. The initial temperature\nof the solids is 70\u00b0F. Assuming an approach temperature of 40\u00b0F, what mass of solid must be\nprovided in order to cool the flue gas to the required temperature during each hour of operation.\n'''\n\nfrom __future__ import division\n\n#Variable declaration:\nm1 = 144206                     #Mass flow rate of flue gas (lb/h)\ncp1 = 0.3                       #Average heat capacities of the flue gas (Btu/lb\u00b0F)\ncp2 = 0.88                      #Average heat capacities of the solid (Btu/lb\u00b0F)\n#From example 18.18:\nT1 = 550                        #Initial temperature of gas (\u00b0F)\nT2 = 2050                       #Final temperature of gas (\u00b0F)\nT3 = 70                         #Initial temperature of solid (\u00b0F)\nT4 = 550-40                     #Final temperature of solid (\u00b0F)\n\n#Calculation:\nDhf = m1*cp1*(T2-T1)            #For the flue gas, the enthalpy change for one hour of operation (Btu)\nDhs = round(Dhf,-4)             #For the solids, the enthalpy change for one hour of operation (Btu)\nm2 = Dhs/(cp2*(T4-T3))          #Mass of solid (lb)\n\n#Result:\nprint \"The mass of solid is :\",round(m2),\" lb .\"",
     "language": "python",
     "metadata": {},
     "outputs": [
      {
       "output_type": "stream",
       "stream": "stdout",
       "text": "The mass of solid is : 167588.0  lb .\n"
      }
     ],
     "prompt_number": 22
    },
    {
     "cell_type": "heading",
     "level": 3,
     "metadata": {},
     "source": "ILLUSTRATIVE EXAMPLE 18.22, Page number: 409"
    },
    {
     "cell_type": "code",
     "collapsed": false,
     "input": "'''With reference to the previous example, design a radiative heat exchanger to cool the entire\ncombustion gases (MW = 28.27) from 2050 to 180\u00b0F. The ambient air temperature is 60\u00b0F\nand an overall heat transfer coefficient for the cooler of 1.5 Btu/h.ft^2.\u00b0F may be assumed to\napply.\n'''\n\nfrom __future__ import division\nfrom math import log,sqrt,pi\n\n#Variable declaration:\n#From example 18.21:\nm = 144206                      #Mass flow rate of flue gas (lb/h)\ncp = 0.3                        #Average heat capacities of the flue gas (Btu/lb\u00b0F)\nT1 = 2050                       #Initial temperature of gas (\u00b0F)\nT2 = 180                        #Final temperature of gas (\u00b0F)\nT3 = 60                         #Ambient air temperature (\u00b0F)\nU = 1.5                         #Overall heat transfer coefficient for cooler (Btu/h.ft^2.\u00b0F)\nMW = 28.27                      #Molecular weight of gas\nR = 379                         #Universal gas constant (psia.ft^3/lbmol.\u00b0R)\nv = 60                          #Duct or pipe velcity at inlet (2050\u00b0F) (ft/s)\n\n#Calculation:\nQ = m*cp*(T1-T2)                #Heat duty (Btu/h)\nDTlm = ((T1-T3)-(T2-T3))/log((T1-T3)/(T2-T3))   #Log-mean temperature difference (\u00b0F)\nA1 = round(Q,-5)/(U*round(DTlm))                 #Radiative surface area (ft^2)\nq = m*R*(T1+460)/(T3+460)/MW    #Volumetric flow at inlet (ft^3/h)\nA2 = q/(v*3600)                 #Duct area (ft^2)\nD = sqrt(A2*4/pi)               #Duct diameter (ft)\nL = A1/(pi*D)                   #Length of required heat exchange ducting (ft)\n\n#Result:\nprint \" The radiative surface area required is :\",round(A1,-1),\" ft^2 .\"\nprint \" The length of required heat exchange ducting is :\",round(L),\" ft .\"",
     "language": "python",
     "metadata": {},
     "outputs": [
      {
       "output_type": "stream",
       "stream": "stdout",
       "text": " The radiative surface area required is : 80980.0  ft^2 .\n The length of required heat exchange ducting is : 3476.0  ft .\n"
      }
     ],
     "prompt_number": 23
    }
   ],
   "metadata": {}
  }
 ]
}