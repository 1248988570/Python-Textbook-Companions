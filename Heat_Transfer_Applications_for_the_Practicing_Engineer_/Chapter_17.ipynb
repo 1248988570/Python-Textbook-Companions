{
 "metadata": {
  "name": "Chapter 17"
 },
 "nbformat": 3,
 "nbformat_minor": 0,
 "worksheets": [
  {
   "cells": [
    {
     "cell_type": "heading",
     "level": 1,
     "metadata": {},
     "source": "Chapter 17: Fins and Extended Surfaces"
    },
    {
     "cell_type": "heading",
     "level": 3,
     "metadata": {},
     "source": "ILLUSTRATIVE EXAMPLE 17.1, Page number: 358"
    },
    {
     "cell_type": "code",
     "collapsed": false,
     "input": "'''Consider the longitudinal (rectangular) fin pictured in Figure 17.1. Estimate the fin face area,\nneglecting the (top) area contribution associated with the fin thickness if w = 1 ft and L =\n1.5 in. The fin thickness is 0.1 in. Also calculate the total area of the fin.\n'''\n\n#Variable declaration:\nw1 = 1.5                    #Thicknessof fin (in)\nL = 12.0                    #Length of fin (in)\nw2 = 0.1                    #Thickness of fin(in)\n\n#Calculation:\nAf = 2*w1*L                  #Face area of fin (in^2)\nAt = Af + L*w2               #Total area of fin (in^2)\n\n#Result:\nprint \"The face area of the fin is :\",round(Af),\" in^2 .\"\nprint \"The face area of the fin is :\",round(Af/12**2,2),\" ft^2 .\"\nprint \"The total area of the fin is :\",round(At,1),\" in^2 .\"\nprint \"The total area of the fin is :\",round(At/12**2,3),\" ft^2 .\"",
     "language": "python",
     "metadata": {},
     "outputs": [
      {
       "output_type": "stream",
       "stream": "stdout",
       "text": "The face area of the fin is : 36.0  in^2 .\nThe face area of the fin is : 0.25  ft^2 .\nThe total area of the fin is : 37.2  in^2 .\nThe total area of the fin is : 0.258  ft^2 .\n"
      }
     ],
     "prompt_number": 22
    },
    {
     "cell_type": "heading",
     "level": 3,
     "metadata": {},
     "source": "ILLUSTRATIVE EXAMPLE 17.3, Page number: 359"
    },
    {
     "cell_type": "code",
     "collapsed": false,
     "input": "'''Refer to Figure 17.2. Estimate the fin area, neglecting the area contribution associated with the\nfin thickness if r0 = 4.0 in, rf = 6.0 in, and t = 0.1 in.\n'''\n\nfrom math import pi\n\n#Variable declaration:\nrf = 6.0/12.0               #Outside radius of fin (ft)\nro = 4.0/12.0               #Outside radius of pipe (ft)\nt = 0.1/12.0                #Thickness of fin (ft)\n\n#Calculation:\nAf = 2*pi*(rf**2-ro**2)     #Face area of fin (ft^2)\nAt = Af + 2*pi*rf*t         #Total area of fin (ft^2)\n\n#Result:\nprint \"The total fin area is :\",round(At,3),\" ft^2 .\"",
     "language": "python",
     "metadata": {},
     "outputs": [
      {
       "output_type": "stream",
       "stream": "stdout",
       "text": "The total fin area is : 0.899  ft^2 .\n"
      }
     ],
     "prompt_number": 3
    },
    {
     "cell_type": "heading",
     "level": 3,
     "metadata": {},
     "source": "ILLUSTRATIVE EXAMPLE 17.4, Page number: 364"
    },
    {
     "cell_type": "code",
     "collapsed": false,
     "input": "'''The following information is provided for a straight rectangular fin: h = 15 W/m^2.K,\nk = 300 W/m.K, L = 3 in, and t = 1 in. Estimate the fin efficiency.\n'''\n\nfrom math import sqrt\n\n#Variable declaration:\nL = 3.0*0.0254                  #Height of fin (m)\nt = 1.0*0.0254                  #Thickness of fin (m)\nh = 15.0                        #Heat transfer coefficient (W/m^2.K)\nk = 300.0                       #Thermal conductivity (W/m.K)\n\n#Calculation:\nLc = L + t/2.0                  #Corrected height of fin (m)\nAp = Lc*t                       #Profile area of fin (m^2)\nx = sqrt((Lc**3*h)/(k*Ap))      #x-coordinate of figure 17.3\n#From figure 17.3:\nnf = 98.0                       #Fin efficiency\n\n#Result:\nprint \"The fin efficiency is :\",nf,\"% .\"",
     "language": "python",
     "metadata": {},
     "outputs": [
      {
       "output_type": "stream",
       "stream": "stdout",
       "text": "The fin efficiency is : 98.0 % .\n"
      }
     ],
     "prompt_number": 4
    },
    {
     "cell_type": "heading",
     "level": 3,
     "metadata": {},
     "source": "ILLUSTRATIVE EXAMPLE 17.5, Page number: 365"
    },
    {
     "cell_type": "code",
     "collapsed": false,
     "input": "'''Estimate the fin efficiency in the previous example using the equation developed by\nBarkwill et al.(3)\n'''\n\n#Variable declaration:\n#From example 17.4:\nX = 0.1246                      #X-coordinate of figure 17.3\n\n#Calculation:\n#Applying equation (A) from Table 17.3:\nY = 4.5128*X**3 - 10.079*X**2 - 31.413*X + 101.47\n\n#Result:\nprint \"The fin efficiency is :\",round(Y,1),\"% .\"",
     "language": "python",
     "metadata": {},
     "outputs": [
      {
       "output_type": "stream",
       "stream": "stdout",
       "text": "The fin efficiency is : 97.4 % .\n"
      }
     ],
     "prompt_number": 5
    },
    {
     "cell_type": "heading",
     "level": 3,
     "metadata": {},
     "source": "ILLUSTRATIVE EXAMPLE 17.6, Page number: 365"
    },
    {
     "cell_type": "code",
     "collapsed": false,
     "input": "'''A set of micro-fins is designed to cool an electronic circuit. Each micro-fin has a square\ncross-section of 0.2 cm by 0.2 cm and a length of 1 cm. The conductivity of the fin material\nis 400 W/m.K and the air heat transfer coefficient is 16 W/m^2.K. The circuit temperature\nis 100\u00b0C and the air temperature is 25\u00b0C. Calculate the heat transfer from each micro-fin in W.\n'''\n\nfrom math import sqrt,atan\n\n#Variable declaration:\nw = 0.2/100.0           #Width of fin (m)\nt = 0.2/100.0           #Thickness of fin (m)\nL = 1.0/100.0           #Length of fin (m)\nh = 16.0                #Heat transfer coefficient (W/m^2.K)\nk = 400.0               #Thermal conductivity of fin (W/m.K)\nTc = 100.0              #Circuit temperature (\u00b0C)\nTa = 25.0               #Air temperature (\u00b0C)\n\n#Calculation:\nP = 4*w                 #Fin cross-section parameter (m)\nAc = w*t                #Cross-sectional area of fin (m^2)\nLc = L+Ac/P             #Corrected height of fin (m)\nm = sqrt((h*P)/(k*Ac))  #Location of minimum temperature (m^-1)\nQ = (sqrt(h*P*k*Ac))*(Tc-Ta)*atan(h)*(m*Lc)     #Heat transfer from each micro-fin (W)\n\n#Result:\nprint \"The heat transfer from each micro-fin is :\",round(Q,2),\" W .\"",
     "language": "python",
     "metadata": {},
     "outputs": [
      {
       "output_type": "stream",
       "stream": "stdout",
       "text": "The heat transfer from each micro-fin is : 0.15  W .\n"
      }
     ],
     "prompt_number": 6
    },
    {
     "cell_type": "heading",
     "level": 3,
     "metadata": {},
     "source": "ILLUSTRATIVE EXAMPLE 17.8, Page number: 366"
    },
    {
     "cell_type": "code",
     "collapsed": false,
     "input": "'''Air and water are separated by a 1.5 mm plane wall made of steel (k = 38 W/m.K; density, r =\n7753 kg/m^3; heat capacity, cp = 486 J/kg.K). The air temperature, T4, is 19\u00b0C, and the water\ntemperature, T4, is 83\u00b0C. Denote the temperature at the air\u2013wall interface T1 and let T3 be the\ntemperature at the wall\u2013water interface. The air-side heat transfer coefficient, h1, is 13 W/m^2.K\nand the water side heat transfer coefficient, h3, is 260 W/m^2.K. Assume an area of the wall that\nis 1 m high and 1 m wide as a basis.\n1. Show whether the conduction resistance may be neglected.\n2. What is the rate of heat transfer from water to air?\nTo increase the rate of heat transfer, it is proposed to add steel fins to the wall. These straight\nrectangular steel fins will be 2.5 cm long, 1.3 mm thick, and will be spaced such that the fin\npitch, S, is 1.3 cm between centers.\n3. Calculate the percent increase in steady-state heat transfer rate that can be realized by\nadding fins to the air side of the plane wall.\n4. Calculate the percent increase in steady-state heat transfer rate that can be realized by\nadding fins to the water side of the plane wall.\n'''\nfrom __future__ import division\nfrom math import sqrt\n#Variable declaration:\nh1 = 13.0                       #Air-side heat transfer coefficient (W/m^2.K)\nA = 1.0                         #Base wall area (m^2)\nL = 2.5/100                     #Length of steel fins (m)\nL2 = 1.5/10**3                  #Length of steel wall (m)\nk = 13.0                        #Thermal conductivity of fin (W/m.K)\nk1 = 38.0                       #Thermal conductivity of steel wall (W/m.K)\nh2 = 260.0                      #Water side heat transfer coefficient (W/m^2.K)\nT4 = 19.0                       #Air temperature (\u00b0C)\nT1 = 83.0                       #Water temperature (\u00b0C)\nt = 1.3/10**3                   #Thickness of steel fins (m)\nw = 1.0                         #Width of wall (m)\nS = 1.3/100                     #Fin pitch(m)\n\n#Calculation:\nR1 = 1/(h1*A)                   #Air resistance (\u00b0C/W) (part 1)\nR2 = L2/(k1*A)                  #Conduction resistance (\u00b0C/W)\nR3 = 1/(h2*A)                   #Water resistance (\u00b0C/W)\nRt = (R1+R3)                    #Total resistance (\u00b0C/W) (part 2)\nQ = (T1-T4)/Rt                  #Total heat transfer (W)\nNf = 1/S                        #Number of fins (part 3)\nLbe = w - Nf*t                  #Unfinned exposed base surface\nAbe = w*Lbe                     #Exposed base surface area (m^2)\nLc = L+t/2                      #Corrected length (m)\nAp = Lc*t                       #Profile area (m^2)\nAf = 2*w*Lc                     #Fin surface area (m^2)\nBi = h1*(t/2)/k1                #Biot number\na = sqrt(Lc**3*h1/(k*Ap))       #Abscissa of the fin efficiency\n#From figure 17.3:\nnf = 0.88                       #Fin efficiency\nRb = 1/(h1*Abe)                 #Air thermal resistance of base wall (\u00b0C/W)\nRf = 1/(h1*Nf*Af*nf)            #Air thermal resistance of fins (\u00b0C/W)\nRT1 = 1/(1/Rb+1/Rf)             #Total outside resistance of the fin array (\u00b0C/W)\nRt3 = RT1+R3                    #Total resistance on air side fins (\u00b0C/W)\nQt = (T1-T4)/round(Rt3,5)       #Heat transfer rate on air side fins (W)\nI = (Qt/Q - 1)*100              #Percent increase in heat transfer rate to air side fins (W)\nA = sqrt(Lc**3*h2/(k1*Ap))      #Abscissa of the new fin efficiency (part 4)\n#From figure 17.3:\nnf2 = 38.0                      #New fin efficiency\nRb2 = 1/(h2*Abe)                #Thermal resistance of base wall (\u00b0C/W)\nRf2 = 1/(h2*Nf*Af*nf2)          #Thermal resistance of fins (\u00b0C/W)\nRt4 = 1/(1/Rb2+1/Rf2)           #Total resistance of the finned surface (\u00b0C/W)\nRt5 = R1+Rt4                    #Total resistance on water side fins (\u00b0C/W)\nQT1 = (T1-T4)/Rt5               #Heat transfer rate on water side fins (W)\nI2 = (QT1/Q - 1)*100            #Percent increase in heat transfer rate to water side fins (W)\n\n#Result:\nif (R2<R1 or R2<R3):\n    print \"1. The conduction resistance may be neglected.\"\nelse:\n    print \"1. The conduction resistance can not be neglected.\"\nprint \"2. The rate of heat transfer from water to air is :\",round(Q,1),\" W .\"\nprint \"3. The percent increase in steady-state heat transfer rate by adding fins to the air side of the plane wall is :\",round(I,1),\" % .\"\nprint \"4. The percent increase in steady-state heat transfer rate by adding fins to the water side of the plane wall is :\",round(I2,1),\" % .\"\nprint \"____There is a calculation mistake in book in calculating Qt(83-19/0.0214 = 2999), hence slight differences in answer______\"",
     "language": "python",
     "metadata": {},
     "outputs": [
      {
       "output_type": "stream",
       "stream": "stdout",
       "text": "1. The conduction resistance may be neglected.\n2. The rate of heat transfer from water to air is : 792.4  W .\n3. The percent increase in steady-state heat transfer rate by adding fins to the air side of the plane wall is : 276.7  % .\n4. The percent increase in steady-state heat transfer rate by adding fins to the water side of the plane wall is : 5.0  % .\n____There is a calculation mistake in book in calculating Qt(83-19/0.0214 = 2999), hence slight differences in answer______\n"
      }
     ],
     "prompt_number": 21
    },
    {
     "cell_type": "heading",
     "level": 3,
     "metadata": {},
     "source": "ILLUSTRATIVE EXAMPLE 17.10, Page number: 369"
    },
    {
     "cell_type": "code",
     "collapsed": false,
     "input": "'''A circular tube has an outside diameter of 2.5 cm and a surface tempeature, Tb, of 170\u00b0C. An\nannular aluminum fin of rectangular profile is attached to the tube. The fin has an outside\nradius, rf, of 2.75 cm, a thickness, t, of 1 mm, and a thermal conductivity, k, of 200 W/m . K.\nThe surrounding fluid is at a temperature Too = 25\u00b0C and the associated heat transfer coefficient,\nh, is 130 W/m^2.K. Calculate the heat transfer rate without the fin,Q\u02d9w/o,f, the corrected\nlength, Lc, the outer radius, r2c, the maximum heat transfer rate from the fin,Q\u02d9f,max, the fin efficiency,\nhf, the fin heat transfer rate, qf, and the fin thermal resistance, Rt,f.\n'''\n\nfrom __future__ import division\nfrom math import pi,sqrt\n\n#Variable declaration:\nDo = 2.5/100                    #Outside diameter of tube (m)\nt = 1/10**3                     #Thickness of fin (m)\nT = 25                          #Fluid temperature (\u00b0C)\nTb = 170                        #Surface temperature (\u00b0C)\nh = 130                         #Heat transfer coefficient (W/m^2.K)\nk = 200                         #Thermal conductivity of fin (W/m.K)\nrf = 2.75/100                   #Outside radius of fin (m)\n\n#Calculation:\nro = Do/2                       #Radius of tube (m)\nAb = 2*pi*ro*t                  #Area of the base of the fin (m^2)\nTe = Tb-T                       #Excess temperature at the base of the fin (K)\nQ1 = h*Ab*Te                    #Total heat transfer rate without the fin (W)\nBi = h*(t/2)/k                  #Biot number\nL = rf-ro                       #Fin height (m)\nrc = rf+t/2                     #Corrected radius (m)\nLc = L+t/2                      #Corrected height (m)\nAp = Lc*t                       #Profile area (m^2)\nAf = 2*pi*(rc**2-ro**2)         #Fin surface area (m^2)\nQm = h*Af*Te                    #Maximum fin heat transfer rate (W)\nA = sqrt(Lc**3*h/(k*Ap))        #Abscissa of fin efficiency\nC = rf/ro                       #Curve parameter of fin efficiency\n#From figure 17.4:\nnf = 0.86                       #Fin efficiency\nQf = nf*Qm                      #Fin heat transfer rate (W)\nR = Te/Qf                       #Fin resistance (K/W)\n\n#Result:\nprint \"1. The heat transfer rate without the fin is :\",round(Q1,2),\" W .\"\nprint \"Or, the heat transfer rate without the fin is :\",round(Q1*3.412),\" Btu/h .\"\nprint \"2. The corrected length is :\",round(Lc,4),\" m .\"\nprint \"3. The outer radius is :\",round(rc,3),\" m .\"\nprint \"4. The maximum heat transfer rate from the fin is :\",round(Qm,2),\" W .\" \nprint \"5. The fin efficiency is :\",round(nf*100),\" % .\" \nprint \"6. The fin heat transfer rate is :\",round(Qf),\" W .\"\nprint \"Or, the fin heat transfer rate is :\",round(Qf*3.412),\" Btu/h .\"\nprint \"7. The fin thermal resistance is :\",round(R,2),\" K/W .\"",
     "language": "python",
     "metadata": {},
     "outputs": [
      {
       "output_type": "stream",
       "stream": "stdout",
       "text": "1. The heat transfer rate without the fin is : 1.48  W .\nOr, the heat transfer rate without the fin is : 5.0  Btu/h .\n2. The corrected length is : 0.0155  m .\n3. The outer radius is : 0.028  m .\n4. The maximum heat transfer rate from the fin is : 74.35  W .\n5. The fin efficiency is : 86.0  % .\n6. The fin heat transfer rate is : 64.0  W .\nOr, the fin heat transfer rate is : 218.0  Btu/h .\n7. The fin thermal resistance is : 2.27  K/W .\n"
      }
     ],
     "prompt_number": 10
    },
    {
     "cell_type": "heading",
     "level": 3,
     "metadata": {},
     "source": "ILLUSTRATIVE EXAMPLE 17.11, Page number: 370"
    },
    {
     "cell_type": "code",
     "collapsed": false,
     "input": "'''Refer to Illustrative Example 17.10. Calculate the fin effectiveness, 1f, and whether the use of\nthe fin is justified.\n'''\n\n#Variable declaration:\n#From example 17.10:\nQf = 64                     #Fin heat transfer rate (W)\nQ1 = 1.48                   #Total heat transfer rate without the fin (W)\n\n#Calculation:\nE = Qf/Q1                   #Fin effectiveness\n\n#Result:\nprint \"The fin effectiveness is :\",round(E,1),\" .\"\nif E>2:\n    print \"Hence, the use of the fin is justified.\"",
     "language": "python",
     "metadata": {},
     "outputs": [
      {
       "output_type": "stream",
       "stream": "stdout",
       "text": "The fin effectiveness is : 43.2  .\nHence, the use of the fin is justified.\n"
      }
     ],
     "prompt_number": 11
    },
    {
     "cell_type": "heading",
     "level": 3,
     "metadata": {},
     "source": "ILLUSTRATIVE EXAMPLE 17.12, Page number: 370"
    },
    {
     "cell_type": "code",
     "collapsed": false,
     "input": "'''If the tube described in Illustrative Example 17.10 had a length of one meter and fin pitch of\n10 mm, what would be the total surface area for heat transfer, the exposed tube base total\nheat transfer rate,Q\u02d9t, the overall efficiency of the surface, and the overall surface effectiveness?\nNote: This problem is an extension of Illustrative Example 17.10. The information is\nobtained from it and its solution is used in the solution of this problem.\n'''\n\nfrom __future__ import division\nfrom math import pi\n\n#Variable declaration:\nw = 1                           #Length of tube (m)\nS = 10/10**3                    #Fin patch (m)\n#From example 17.10:\nt = 1/10**3                     #Thickness of fin (m)\nro = 0.0125                     #Radius of tube (m)\nAf = 3.94*10**-3                #Fin surface area (m^2)\nTb = 145                        #Excess temperature at the base of the fin (K)\nh = 130                         #Heat transfer coefficient (W/m^2.K)\nQf = 64                         #Fin heat transfer rate (W)\n\n#Calculation:\nNf = w/S                        #Number of fins in tube length\nwb = w-Nf*t                     #Unfinned base length (m)\nAb = 2*pi*ro*wb                 #Unfinned base area (m^2)\nAt =Ab+Nf*Af                    #Total transfer surface area (m^2)\nQt = h*(2*pi*ro*w*Tb)           #Total heat rate without fins (W)\nQb = h*Ab*Tb                    #Heat flow rate from the exposed tube base (W)\nQft = Nf*Qf                     #Heat flow rate from all the fins (W)\nQt2 = Qb+Qft                    #Total heat flow rate (W)\nQm = h*At*Tb                    #Maximum heat transfer rate (W)\nno = Qt2/Qm                     #Overall fin efficiency\nEo = Qt2/Qt                     #Overall effectiveness\nRb = 1/(h*Ab)                   #Thermal resistance of base (K/W)\nRf = 1/(h*Nf*Af*no)             #Thermal resistance of fins (K/W)\n\n#Result:\nprint \"1. The total surface area for heat transfer is :\",round(At,3),\" m^2 .\"\nprint \"2. The exposed tube base total heat transfer rate is :\",round(Qb,1),\" W .\"\nprint \"Or, the exposed tube base total heat transfer rate is :\",round(Qb*3.412),\" Btu/h .\"\nprint \"3. The overall efficiency of the surface is :\",round(no*100,1),\" % .\"\nprint \"4. The overall surface effectiveness is :\",round(Eo,2),\" .\"",
     "language": "python",
     "metadata": {},
     "outputs": [
      {
       "output_type": "stream",
       "stream": "stdout",
       "text": "1. The total surface area for heat transfer is : 0.465  m^2 .\n2. The exposed tube base total heat transfer rate is : 1332.4  W .\nOr, the exposed tube base total heat transfer rate is : 4546.0  Btu/h .\n3. The overall efficiency of the surface is : 88.3  % .\n4. The overall surface effectiveness is : 5.22  .\n"
      }
     ],
     "prompt_number": 13
    },
    {
     "cell_type": "heading",
     "level": 3,
     "metadata": {},
     "source": "ILLUSTRATIVE EXAMPLE 17.13, Page number: 374"
    },
    {
     "cell_type": "code",
     "collapsed": false,
     "input": "'''Consider the case of aluminum fins of triangular profile that are attached to a plane wall with a\nsurface temperature is 250\u00b0C. The fin base thickness is 2 mm and its length is 6 mm. The system\nis in ambient air at a temperature of 20\u00b0C and the surface convection coefficient is 40W/m2 . K.\nConsider a 1 m width of a single fin. Determine:\n1. the heat transfer rate without the fin,\n2. the maximum heat transfer rate from the fin, and\n3. the fin efficiency, thermal resistance, and effectiveness.\nProperties of the aluminum may be evaluated at the average temperature, (Tb + T1)/2 =\n(250 + 20)/2 = 135\u00b0C = 408 K, where k \u2243 240 W/m.K.\n'''\n\nfrom __future__ import division\nfrom math import sqrt\n\n#Variable declaration:\nw = 1                           #Width of single of fin (m)\nt = 2/10**3                     #Fin base thickness (m)\nl = 6/10**3                     #Fin length thickness (m)\nT1 = 250                        #Surface temperature (\u00b0C)\nT2 = 20                         #Ambient air temperature (\u00b0C)\nh = 40                          #Surface convection coefficient (W/m^2.K)\nk = 240                         #Thermal conductivity of fin (W/m.K)\n\n#Calculation:\nAb = t*w                        #Base area of the fin (m^2)\nTe = T1-T2                      #Excess temperature at the base of the fin (K)\nQw = h*Ab*Te                    #Heat transfer rate without a fin (W)\nAf = 2*w*(sqrt(l**2-(t/2)**2))  #Fin surface area (m^2)\nQm = h*Af*Te                    #Maximum heat transfer rate (m^2)\nBi = h*(t/2)/k                  #Biot number\nLc = l                          #Corrected length (m)\nAp = l*t/2                      #Profile area (m^2)\nA = sqrt((Lc**3*h)/k*Ap)        #Abscissa for the fin efficiency figure\n#From figure 17.4:\nnf = 0.99                       #Fin efficiency\nQf = nf*Qm                      #Fin heat transfer rate (W)\nR = Te/Qf                       #Fin thermal resistance (K/W)\nE = Qf/Qw                       #Fin effectiveness\n\n#Result:\nprint \"1. The heat transfer rate without the fin is :\",round(Qw,1),\" W .\"\nprint \"2. The maximum heat transfer rate from the fin is :\",round(Qm,-1),\" W .\"\nprint \"3. The fin efficiency is :\",round(nf*100),\" % .\"\nprint \"   The fin thermal resistance is :\",round(R,1),\" \u00b0C/W .\"\nprint \"   The fin effectiveness is :\",round(E,1),\" .\"",
     "language": "python",
     "metadata": {},
     "outputs": [
      {
       "output_type": "stream",
       "stream": "stdout",
       "text": "1. The heat transfer rate without the fin is : 18.4  W .\n2. The maximum heat transfer rate from the fin is : 110.0  W .\n3. The fin efficiency is : 99.0  % .\n   The fin thermal resistance is : 2.1  \u00b0C/W .\n   The fin effectiveness is : 5.9  .\n"
      }
     ],
     "prompt_number": 15
    },
    {
     "cell_type": "heading",
     "level": 3,
     "metadata": {},
     "source": "ILLUSTRATIVE EXAMPLE 17.14, Page number: 375"
    },
    {
     "cell_type": "code",
     "collapsed": false,
     "input": "'''Determine whether the use of the fin is justified in the previous example.'''\n\n#Variable declaration:\n#From example 17.13:\nQf = 108.9                  #Fin heat transfer rate (W)\nQw = 18.4                   #Total heat transfer rate without the fin (W)\n\n#Calculation:\nE = Qf/Qw                   #Fin effectiveness\n\n#Result:\nprint \"The fin effectiveness is :\",round(E,2),\" .\"\nif E>2:\n    print \"Hence, the use of the fin is justified.\"",
     "language": "python",
     "metadata": {},
     "outputs": [
      {
       "output_type": "stream",
       "stream": "stdout",
       "text": "The fin effectiveness is : 5.92  .\nHence, the use of the fin is justified.\n"
      }
     ],
     "prompt_number": 16
    },
    {
     "cell_type": "heading",
     "level": 3,
     "metadata": {},
     "source": "ILLUSTRATIVE EXAMPLE 17.15, Page number: 375"
    },
    {
     "cell_type": "code",
     "collapsed": false,
     "input": "'''Annular aluminum fins of rectangular profile are attached to a circular tube. The outside diameter\nof the tube is 50 mm and the temperature of its outer surface is 200\u00b0C. The fins are 4 mm\nthick and have a length of 15 mm. The system is in ambient air at a temperature of 20\u00b0C and the\nsurface convection coefficient is 40 W/m^2.K. The thermal conductivity of aluminum is\n240 W/m.K. What are the efficiency, thermal resistance, effectiveness, and heat transfer rate\nof a single fin? Is the use of the fin justified?\n'''\n\nfrom __future__ import division\nfrom math import pi,sqrt\n\n#Variable declaration:\nDo = 50/10**3                   #Outside diameter of tube (m)\nt = 4/10**3                     #Thickness of fin (m)\nT = 20                          #Fluid temperature (\u00b0C)\nTb = 200                        #Surface temperature (\u00b0C)\nh = 40                          #Heat transfer coefficient (W/m^2.K)\nk = 240                         #Thermal conductivity of fin (W/m.K)\nl = 15/10**3                    #Length of fin (m)\n\n#Calculation:\nro = Do/2                       #Radius of tube (m)\nrf = ro+l                       #Outside radius of fin (m)\nAb = 2*pi*ro*t                  #Area of the base of the fin (m^2)\nTe = Tb-T                       #Excess temperature at the base of the fin (K)\nQ1 = h*Ab*Te                    #Total heat transfer rate without the fin (W)\nBi = h*(t/2)/k                  #Biot number\nL = rf-ro                       #Fin height (m)\nrc = rf+t/2                     #Corrected radius (m)\nLc = L+t/2                      #Corrected height (m)\nAp = Lc*t                       #Profile area (m^2)\nAf = 2*pi*(rc**2-ro**2)         #Fin surface area (m^2)\nQm = h*Af*Te                    #Maximum fin heat transfer rate (W)\nA = sqrt(Lc**3*h/(k*Ap))        #Abscissa of fin efficiency\nC = rf/ro                       #Curve parameter of fin efficiency\n#From figure 17.4:\nnf = 0.97                       #Fin efficiency\nQf = nf*Qm                      #Fin heat transfer rate (W)\nR = Te/Qf                       #Fin resistance (K/W)\nE = Qf/Q1                       #Fin effectiveness\n\n#Result:\nprint \"The fin efficiency is :\",round(nf*100),\" % .\"\nprint \"The fin thermal resistance is :\",round(R,1),\" \u00b0C/W .\"\nprint \"The fin effectiveness is :\",round(E,2),\" .\"\nprint \"The maximum heat transfer rate from a single fin is :\",round(Qm,2),\" W .\"\nif E>2:\n    print \"Since Ef = FCP>2, the use of the fin is justified.\"",
     "language": "python",
     "metadata": {},
     "outputs": [
      {
       "output_type": "stream",
       "stream": "stdout",
       "text": "The fin efficiency is : 97.0  % .\nThe fin thermal resistance is : 3.6  \u00b0C/W .\nThe fin effectiveness is : 11.05  .\nThe maximum heat transfer rate from a single fin is : 51.53  W .\nSince Ef = FCP>2, the use of the fin is justified.\n"
      }
     ],
     "prompt_number": 17
    },
    {
     "cell_type": "heading",
     "level": 3,
     "metadata": {},
     "source": "ILLUSTRATIVE EXAMPLE 17.16, Page number: 376"
    },
    {
     "cell_type": "code",
     "collapsed": false,
     "input": "'''What is the rate of heat transfer per unit length of tube in the previous illustrative example, if\nthere are 125 such fins per meter of tube length? Also calculate the total efficiency and\neffectiveness.\n'''\n\nfrom __future__ import division\nfrom math import pi,sqrt\n\n#Variable declaration:\nNf = 125                        #Array of fins per meter\nw = 1                           #Length of fin (m)\n#From example 17.15:\nt = 4/10**3                     #Thickness of fin (m)\nDo = 50/10**3                   #Outside diameter of tube (m)\nAf = 7.157*10**-3               #Fin surface area (m^2)\nh = 40                          #Heat transfer coefficient (W/m^2.K)\nDTb = 180                       #Excess temperature at the base of the fin (K)\nQf = 50                         #Fin heat transfer rate (W)\n\n#Calculation:\nro = Do/2                       #Radius of tube (m)\nwb = w-Nf*t                     #Unfinned exposed base length (m)\nAb = 2*pi*ro*wb                 #Area of the base of the fin (m^2)\nAt = Ab+Nf*Af                   #Total heat transfer surface area (m^2)\nQw = h*(2*pi*ro*w)*DTb          #Heat rate without fin (W)\nQb = h*Ab*DTb                   #Heat rate from the base (W)\nQft = Nf*Qf                     #Heat rate from the fin (W)\nQt = Qb+Qft                     #Total heat rate (W)\nQm = h*At*DTb                   #Maximum heat transfer rate (W)\nn = Qt/Qm                       #Overall fin efficiency\nE = Qt/Qw                       #Overall fin effectiveness\nRb = 1/(h*Ab)                   #Thermal resistance of base (\u00b0C/W)\nRf = 1/(h*Nf*Af*n)              #Thermal resistance of fin (\u00b0C/W)\n\n#Result:\nprint \"The rate of heat transfer per unit length of tube is :\",round(Qt,1),\" W .\"\nprint \"Or, the rate of heat transfer per unit length of tube is :\",round(Qt/10**3,2),\" kW .\"\nprint \"The overall fin efficiency is :\",round(n*100,1),\" % .\"\nprint \"The overall fin effectiveness is :\",round(E,2),\" .\"",
     "language": "python",
     "metadata": {},
     "outputs": [
      {
       "output_type": "stream",
       "stream": "stdout",
       "text": "The rate of heat transfer per unit length of tube is : 6815.5  W .\nOr, the rate of heat transfer per unit length of tube is : 6.82  kW .\nThe overall fin efficiency is : 97.3  % .\nThe overall fin effectiveness is : 6.03  .\n"
      }
     ],
     "prompt_number": 2
    },
    {
     "cell_type": "heading",
     "level": 3,
     "metadata": {},
     "source": "ILLUSTRATIVE EXAMPLE 17.17, Page number: 377"
    },
    {
     "cell_type": "code",
     "collapsed": false,
     "input": "'''A metal fin 1 inch high and 1/8 inch thick has a thermal conductivity, k, of 25 Btu/h.ft.\u00b0F and a\nuniform base temperature of 250\u00b0F. It is exposed to an air stream at 60\u00b0F with a velocity past\nthe fin such that the convection coefficient of heat transfer, h, is 15 Btu/h.ft.\u00b0F. Calculate the\ntemperature at the tip of the fin and the heat transfer from the fin per foot of fin. Solve the problem\nanalytically.\n'''\n#Variable declaration:\nprint 'Analytical Solution'",
     "language": "python",
     "metadata": {},
     "outputs": [
      {
       "output_type": "stream",
       "stream": "stdout",
       "text": "Analytical Solution\n"
      }
     ],
     "prompt_number": 19
    },
    {
     "cell_type": "heading",
     "level": 3,
     "metadata": {},
     "source": "ILLUSTRATIVE EXAMPLE 17.18, Page number: 379"
    },
    {
     "cell_type": "code",
     "collapsed": false,
     "input": "'''Estimate the fin efficiency in the previous example, if the efficiency is defined (as noted earlier)\nas the actual heat transfer divided by the heat rate of the entire fin with the same temperature as its\nbase.\n'''\n\nfrom __future__ import division\n\n#Variable declaration:\n#From example 17.18:\nT = 250                         #Base temperature of fin (\u00b0F)\nh = 15                          #Convection coefficient of heat transfer (Btu/h.ft.\u00b0F)\nw = 1                           #Base width of fin (ft)\nt = 1                           #Thickness of fin (in)\nH = 1/8                         #Height of fin (in)\nl = 1                           #Length of fin (in)\nQ = 357.2                       #Heat transfer rate (Btu/h.ft)\n\n#Calculation:\nA = (l*w+t*w+H*w)/12            #Heat transfer area of fin (ft^2)\nQm = h*A*(T-70)                 #Maximum heat transfer rate (Btu/h.ft)\nn = Q/Qm*100                    #Fin efficiency\n\n#Result:\nprint \"The fin efficiency is :\",round(n,1),\" % .\"",
     "language": "python",
     "metadata": {},
     "outputs": [
      {
       "output_type": "stream",
       "stream": "stdout",
       "text": "The fin efficiency is : 74.7  % .\n"
      }
     ],
     "prompt_number": 20
    }
   ],
   "metadata": {}
  }
 ]
}