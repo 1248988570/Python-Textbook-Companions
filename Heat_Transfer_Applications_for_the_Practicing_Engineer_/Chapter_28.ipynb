{
 "metadata": {
  "name": "Chapter 28"
 },
 "nbformat": 3,
 "nbformat_minor": 0,
 "worksheets": [
  {
   "cells": [
    {
     "cell_type": "heading",
     "level": 1,
     "metadata": {},
     "source": "Chapter 28: Open-Ended Problems"
    },
    {
     "cell_type": "heading",
     "level": 3,
     "metadata": {},
     "source": "ILLUSTRATIVE EXAMPLE 28.11, Page number: 600"
    },
    {
     "cell_type": "code",
     "collapsed": false,
     "input": "'''A plant has three streams to be heated (see Table 28.3) and three streams to be cooled (see\nTable 28.4). Cooling water (90\u00b0F supply, 155\u00b0F return) and steam (saturated at 250 psia) are\navailable. Note that the saturated steam at 250 psia has a temperature of 401\u00b0F. Calculate the\nheating and cooling duties and indicate what utility (or utilities) should be employed.\n'''\n\n#Variable declaration:\n#From table 28.3:\n#For stream 1 to be heated:\nhm1 = 50000                      #Mass flowrate (lb/h)\nhcP1 = 0.65                      #Heat capacity (Btu/lb.\u00b0F)\nhTi1 = 70                        #Inlet temperature (\u00b0F)\nhTo1 = 300                       #Outlet temperature (\u00b0F)\n#For stream 2 to be heated:\nhm2 = 60000                      #Mass flowrate (lb/h)\nhcP2 = 0.58                      #Heat capacity (Btu/lb.\u00b0F)\nhTi2 = 120                       #Inlet temperature (\u00b0F)\nhTo2 = 310                       #Outlet temperature (\u00b0F)\n#For stream 3 to be heated:\nhm3 = 80000                      #Mass flowrate (lb/h)\nhcP3 = 0.78                      #Heat capacity (Btu/lb.\u00b0F)\nhTi3 = 90                        #Inlet temperature (\u00b0F)\nhTo3 = 250                       #Outlet temperature (\u00b0F)\n#From table 28.4:\n#For stream 1 to be cooled:\ncm1 = 60000                      #Mass flowrate (lb/h)\nccP1 = 0.70                      #Heat capacity (Btu/lb.\u00b0F)\ncTi1 = 420                       #Inlet temperature (\u00b0F)\ncTo1 = 120                       #Outlet temperature (\u00b0F)\n#For stream 2 to be cooled:\ncm2 = 40000                      #Mass flowrate (lb/h)\nccP2 = 0.52                      #Heat capacity (Btu/lb.\u00b0F)\ncTi2 = 300                       #Inlet temperature (\u00b0F)\ncTo2 = 100                       #Outlet temperature (\u00b0F)\n#For stream 3 to be cooled:\ncm3 = 35000                      #Mass flowrate (lb/h)\nccP3 = 0.60                      #Heat capacity (Btu/lb.\u00b0F)\ncTi3 = 240                       #Inlet temperature (\u00b0F)\ncTo3 = 90                        #Outlet temperature (\u00b0F)\n\n#Calculation:\nH1 = hm1*hcP1*(hTo1-hTi1)        #Heating duty for stream 1 (Btu/h)\nH2 = hm2*hcP2*(hTo2-hTi2)        #Heating duty for stream 2 (Btu/h)\nH3 = hm3*hcP3*(hTo3-hTi3)        #Heating duty for stream 1 (Btu/h)\nH = H1+H2+H3                     #Total heating duty (Btu/h)\nC1 = cm1*ccP1*(cTi1-cTo1)        #Cooling duty for stream 1 (Btu/h)\nC2 = cm2*ccP2*(cTi2-cTo2)        #Cooling duty for stream 2 (Btu/h)\nC3 = cm3*ccP3*(cTi3-cTo3)        #Cooling duty for stream 1 (Btu/h)\nC = C1+C2+C3                     #Total Cooling duty (Btu/h)\n\n#Result:\nprint \"Table: Duty Requirements.\"\nprint \"Stream                   Duty, Btu/h\"\nprint \"1                       \",round(H1)\nprint \"2                       \",round(H2)\nprint \"3                       \",round(H3)\nprint \"4                       \",round(C1)\nprint \"5                       \",round(C2)\nprint \"6                       \",round(C3)",
     "language": "python",
     "metadata": {},
     "outputs": [
      {
       "output_type": "stream",
       "stream": "stdout",
       "text": "Table: Duty Requirements.\nStream                   Duty, Btu/h\n1                        7475000.0\n2                        6612000.0\n3                        9984000.0\n4                        12600000.0\n5                        4160000.0\n6                        3150000.0\n"
      }
     ],
     "prompt_number": 11
    }
   ],
   "metadata": {}
  }
 ]
}