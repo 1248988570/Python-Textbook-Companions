{
 "metadata": {
  "name": "Chapter 16"
 },
 "nbformat": 3,
 "nbformat_minor": 0,
 "worksheets": [
  {
   "cells": [
    {
     "cell_type": "heading",
     "level": 1,
     "metadata": {},
     "source": "Chapter 16: Shell and Tube Heat Exchangers"
    },
    {
     "cell_type": "heading",
     "level": 3,
     "metadata": {},
     "source": "ILLUSTRATIVE EXAMPLE 16.5, Page number: 334"
    },
    {
     "cell_type": "code",
     "collapsed": false,
     "input": "'''Consider the shell and tube heat exchanger in Figure 16.13. Calculate the log mean temperature\ndriving force. Also perform the calculation for the exchanger described in Figure 16.14.\n'''\n\nfrom math import log\n\n#Variable declaration:\n#From figure 16.13, for ideal countercurrent heat exchanger:\nT1 = 150.0                      #Inlet temperature of hot fluid (\u00b0F)\nT2 = 100.0                      #Outet temperature of hot fluid (\u00b0F)\nt1 = 50.0                       #Inlet temperature of cold fluid (\u00b0F)\nt2 = 80.0                       #Outet temperature of hot fluid (\u00b0F)\n#From figure 16.14, for shell and tube exchanger:\nT_1 = 50.0                      #Inlet temperature of cold fluid (\u00b0F)\nT_2 = 80.0                      #Outet temperature of hot fluid (\u00b0F)\nt_1 = 150.0                     #Inlet temperature of hot fluid (\u00b0F)\nt_2 = 100.0                     #Outet temperature of hot fluid (\u00b0F)\n\n#Calculation:\nDT1 = T1 - t2                   #Temperature driving force 1 (\u00b0F)\nDT2 = T2 - t1                   #Temperature driving force 1 (\u00b0F)\nDTlm1 = ((DT1-DT2)/log(DT1/DT2))  #Log mean temperature driving force for ideal countercurrent heat exchanger (\u00b0F)\nP = (t2-t1)/(T1 - t1)           #Dimensionless ratio P\nR = (T1-T2)/(t2-t1)             #Dimensionless ratio R\n#From figure 16.7:\nF = 0.925                       #Correction Factor\nDTlm2 = F*DTlm1                 #Log mean temperature driving force for shell and tube exchanger (\u00b0F)\n\n#Result:\nprint \"The log mean temperature difference for ideal system is :\",round(DTlm1,1),\" \u00b0F .\"\nprint \"The log mean temperature difference for real system is :\",round(DTlm2,2),\" \u00b0F .\"",
     "language": "python",
     "metadata": {},
     "outputs": [
      {
       "output_type": "stream",
       "stream": "stdout",
       "text": "The log mean temperature difference for ideal system is : 59.4  \u00b0F .\nThe log mean temperature difference for real system is : 54.98  \u00b0F .\n"
      }
     ],
     "prompt_number": 5
    },
    {
     "cell_type": "heading",
     "level": 3,
     "metadata": {},
     "source": "ILLUSTRATIVE EXAMPLE 16.6, Page number: 335"
    },
    {
     "cell_type": "code",
     "collapsed": false,
     "input": "'''A shell and tube heat exchanger having two shell passes and four tube passes is being used\nfor cooling. The shell-side fluid enters at 400\u00b0F and leaves at 250\u00b0F and the tube-side fluid\nenters at 100\u00b0F and leaves at 175\u00b0F. What is the log mean temperature difference between the\nhot fluid and the cold fluid?\n'''\n\nfrom math import log\n5\n#Variable declaration:\nT1 = 400.0                      #Temperature of fluid entering the shell (\u00b0F)\nT2 = 250.0                      #Temperature of fluid leaving the shell (\u00b0F)\nt1 = 100.0                      #Temperature of fluid entering the tube (\u00b0F)\nt2 = 175.0                      #Temperature of fluid leaving the tube (\u00b0F)\n\n#Calculation:\nDT1 = T1 - T2                   #Temperature driving force 1 (\u00b0F)\nDT2 = t2 - t1                   #Temperature driving force 1 (\u00b0F)\nDTlm1 = ((DT1-DT2)/log(DT1/DT2))  #Log mean temperature driving force for ideal countercurrent heat exchanger (\u00b0F)\nP = (t2-t1)/(T1 - t1)           #Dimensionless ratio P\nR = (T1-T2)/(t2-t1)             #Dimensionless ratio R\n#From figure 16.8:\nF = 0.985                       #Correction factor\nDTlm2 = F*DTlm1                 #Log mean temperature driving force for shell and tube exchanger (\u00b0F)\n\n#Result:\nprint \"The log mean temperature difference between the hot fluid and the cold fluid is :\",round(DTlm2,1),\" \u00b0F .\"",
     "language": "python",
     "metadata": {},
     "outputs": [
      {
       "output_type": "stream",
       "stream": "stdout",
       "text": "The log mean temperature difference between the hot fluid and the cold fluid is : 106.6  \u00b0F .\n"
      }
     ],
     "prompt_number": 6
    },
    {
     "cell_type": "heading",
     "level": 3,
     "metadata": {},
     "source": "ILLUSTRATIVE EXAMPLE 16.7, Page number: 336"
    },
    {
     "cell_type": "code",
     "collapsed": false,
     "input": "'''Recalculate the results of the two previous examples using the equation upon which the graphs\nare based.\n'''\n#Variable declaration:\n#From example 16.5:\nP1 = 0.30                        #Dimensionless ratio P\nR1 = 1.67                        #Dimensionless ratio R\n#From example 16.6:\nP2 = 0.30                        #Dimensionless ratio P\nR2 = 1.67                        #Dimensionless ratio R\n\n#Calculation:\n#Applying Equation 16.27:\nF1 = 0.92                        #Correction Factor\n#Applying Equation 16.33:\nF2 = 0.985                       #Correction Factor\n#From example 16.6:\nLMTD1 = 59.4                      #Log mean temperature driving force 1 for ideal countercurrent heat exchanger (\u00b0F)\nLMTD2 = 108.0                     #Log mean temperature driving force 2 for ideal countercurrent heat exchanger (\u00b0F)\nDTlm1 = F1*LMTD1                  #Log mean temperature driving force 1 for shell and tube exchanger (\u00b0F)\nDTlm2 = F2*LMTD2                  #Log mean temperature driving force 2 for shell and tube exchanger (\u00b0F)\n\n#Result:\nprint \"The log mean temperature difference for real system (in example 16.5) is :\",round(DTlm1,2),\" \u00b0F .\"\nprint \"The log mean temperature difference for real system (in example 16.6) is :\",round(DTlm2,1),\" \u00b0F .\"",
     "language": "python",
     "metadata": {},
     "outputs": [
      {
       "output_type": "stream",
       "stream": "stdout",
       "text": "The log mean temperature difference for real system (in example 16.5) is : 54.65  \u00b0F .\nThe log mean temperature difference for real system (in example 16.6) is : 106.4  \u00b0F .\n"
      }
     ],
     "prompt_number": 7
    },
    {
     "cell_type": "heading",
     "level": 3,
     "metadata": {},
     "source": "ILLUSTRATIVE EXAMPLE 16.8, Page number: 337"
    },
    {
     "cell_type": "code",
     "collapsed": false,
     "input": "'''A shell and tube heat exchanger has one pass on the shell side and two passes on the tube side\n(i.e., a 1\u20132 shell and tube heat exchanger). It is being used for oil cooling. The oil flows in the\ntube side. It enters at 110\u00b0C and leaves at 75\u00b0C. The shell-side fluid is water at a flowrate of 1.133\nkg/s, entering at 35\u00b0C and leaving at 75\u00b0C. The heat capacity of the water is 4180 J/kg.K. The\noverall heat-transfer coefficient for the heat exchanger is 350W/m^2.K. The geometry factor F\nhas been previously estimated to be 0.965. Calculate the heat-transfer area requirement for this\nunit in square meters.(9)\n'''\n\nfrom math import log\n\n#Variable declaration:\nt2 = 75.0                       #Temperature of water leaving the shell (\u00b0C)\nt1 = 35.0                       #Temperature of water enteringing the shell (\u00b0C)\nT2 = 75.0                       #Temperature of oil leaving the tube (\u00b0C)\nT1 = 110.0                      #Temperature of oil entering the tube (\u00b0C)\nm = 1.133                       #Mass flowrate of water (kg/s)\ncp = 4180.0                     #Heat capacity of water (J/kg.K)\nF = 0.965                       #Correction factor\nU = 350.0                       #Overall heat transfer coefficient (W/m^2.K)\n\n#Calculation:\nQ = m*cp*(t2-t1)                #Heat load (W)\nDT1 = T1-t2                     #Temperature driving force 1 (\u00b0C)\nDT2 = T2-t1                     #Temperature driving force 2 (\u00b0C)\nDTlm1 = (DT1-DT2)/log(DT1/DT2)+273.0  #Countercurrent log-mean temperature difference (K)\nDTlm2 = F*DTlm1                 #Corrected log-mean temperature difference (K)\nA = Q/(U*DTlm2)                 #Required heat transfer area (m^2)\n\n#Result:\nprint \"The required heat-transfer area is :\",round(A,3),\" m^2 .\"",
     "language": "python",
     "metadata": {},
     "outputs": [
      {
       "output_type": "stream",
       "stream": "stdout",
       "text": "The required heat-transfer area is : 1.807  m^2 .\n"
      }
     ],
     "prompt_number": 8
    },
    {
     "cell_type": "heading",
     "level": 3,
     "metadata": {},
     "source": "ILLUSTRATIVE EXAMPLE 16.10, Page number: 338"
    },
    {
     "cell_type": "code",
     "collapsed": false,
     "input": "'''A shell and tube heat exchanger is to be designed for heating 10,000 kg/h of water from 16 \u00b0C to\n84 \u00b0C by a new high heat capacity hot engine oil flowing through the shell. The oil makes a single\nshell pass, entering at 160 \u00b0C and leaving at 94 \u00b0C. Thewater flows through 11 brass tubes of 22.9\nmm inside diameter and 25.4 mm outside diameter with each tube making four passes through\nthe shell. The overall heat transfer coefficient (including the fouling resistance effect) is approximately\n350 W/m^2.\u00b0C and the thermal conductivity of brass is 137 W/m.\u00b0C. Calculate\n1. the heat load, in MW,\n2. the countercurrent flow log mean temperature difference, and\n3. the F correction factor and the corrected log mean temperature difference.\n'''\n\nfrom math import log\n\n#Variable declaration:\nt2 = 84.0                       #Temperature of water leaving the tube (\u00b0C)\nt1 = 16.0                       #Temperature of water entering the tube (\u00b0C)\nm1 = 10000.0/3600.0             #Mass flowrate of water (kg/s)\nT2 = 94.0                       #Temperature of oil leaving the shell (\u00b0C)\nT1 = 160.0                      #Temperature of oil entering the shell (\u00b0C)\n\n#Calculation:\nTw = (t1+t2)/2.0                #Average bulk temperature of water (\u00b0C)\nTo = (T1+T2)/2.0                #Average bulk temperature of oil (\u00b0C)\n#From table 16.1:\np1 = 987.0                      #Density of water (kg/m^3)\ncp1 = 4176.0                    #Heat capacity of water (J/kg.\u00b0C)\np2 = 822.0                      #Density of oil (kg/m^3)\nQ = m1*cp1*(t2-t1)              #Heat load (W)\ncp2 = 4820.0                    #Heat capacity of oil (J/kg.\u00b0C)\nm2 = Q/(cp2*(T1-T2))            #Mass flowrate of oil (kg/s)\nDT1 = T2-t1                     #Temperature driving force 1 (\u00b0C)\nDT2 = T1-t2                     #Temperature driving force 2 (\u00b0C)\nDTlm1 = ((DT1-DT2)/log(DT1/DT2))  #Log mean temperature driving force for ideal countercurrent heat exchanger (\u00b0C)\nP = (t2-t1)/(T1 - t1)           #Dimensionless ratio P\nR = (T1-T2)/(t2-t1)             #Dimensionless ratio R\n#From figure 16.7:\nF = 0.965                       #Correction factor\nDTlm2 = F*DTlm1                 #Log mean temperature driving force for 1-4 shell and tube exchanger (\u00b0C)\n\n#Result:\nprint \"1. The heat load is :\",round(Q/10**6,3),\" MW .\"\nprint \"2. The countercurrent flow log mean temperature difference is :\",round(DTlm1),\" \u00b0C .\"\nprint \"3. The F correction factor and the corrected log mean temperature difference is :\",round(DTlm2,1),\" \u00b0C .\"",
     "language": "python",
     "metadata": {},
     "outputs": [
      {
       "output_type": "stream",
       "stream": "stdout",
       "text": "1. The heat load is : 0.789  MW .\n2. The countercurrent flow log mean temperature difference is : 77.0  \u00b0C .\n3. The F correction factor and the corrected log mean temperature difference is : 74.3  \u00b0C .\n"
      }
     ],
     "prompt_number": 10
    },
    {
     "cell_type": "heading",
     "level": 3,
     "metadata": {},
     "source": "ILLUSTRATIVE EXAMPLE 16.11, Page number: 340"
    },
    {
     "cell_type": "code",
     "collapsed": false,
     "input": "'''Refer to the previous example. Calculate the area and the length of the tubes required for this\nheat exchanger.\n'''\n\nfrom math import pi\n\n#Variable declaration:\n#From example 16.10:\nU = 350.0                       #Over all heat transfer coefficient (W/m^2.\u00b0C)\nDTlm = 74.3                     #Log mean temperature driving force for 1-4 shell and tube exchanger (\u00b0C)\nQ = 788800.0                    #Heat load (W)\nNt = 11.0                       #Number of tubes per pass\nNp = 4.0                        #Number of passes\nDi = 0.0229                     #Inside diameter of tube (m)\n\n#Calculation:\nA = Q/(U*DTlm)                  #Heat transfer area required for heat exchanger (m^2)\nN = Nt*Np                       #Total number of tubes\nL = A/(pi*Di*N)                 #Tube length (m)\n\n#Result:\nprint \"The heat transfer area required for the heat exchanger is :\",round(A,2),\" m^2 .\"\nprint \"The length of the tubes required for the heat exchanger is :\",round(L*3.28,1),\" ft .\"",
     "language": "python",
     "metadata": {},
     "outputs": [
      {
       "output_type": "stream",
       "stream": "stdout",
       "text": "The heat transfer area required for the heat exchanger is : 30.33  m^2 .\nThe length of the tubes required for the heat exchanger is : 31.4  ft .\n"
      }
     ],
     "prompt_number": 11
    },
    {
     "cell_type": "heading",
     "level": 3,
     "metadata": {},
     "source": "ILLUSTRATIVE EXAMPLE 16.18, Page number: 349"
    },
    {
     "cell_type": "code",
     "collapsed": false,
     "input": "'''Refer to Illustrative Example 16.10. Determine the effectiveness and number of transfer units.'''\n\n#Variable declaration:\n#From example 16.10:\nm1 = 2.778                      #Mass flowrate of water (kg/s)\ncp1 = 4176.0                    #Heat capacity of water (J/kg.\u00b0C)\ncp2 = 4820.0                    #Heat capacity of oil (J/kg.\u00b0C)\nm2 = 2.48                       #Mass flowrate of oil (kg/s)\nt2 = 84.0                       #Temperature of water leaving the tube (\u00b0C)\nt1 = 16.0                       #Temperature of water entering the tube (\u00b0C)\nT2 = 94.0                       #Temperature of oil leaving the shell (\u00b0C)\nT1 = 160.0                      #Temperature of oil entering the shell (\u00b0C)\nU = 350.0                       #Over all heat transfer coefficient (W/m^2.\u00b0C)\nA = 30.33                       #Heat transfer area required for heat exchanger (m^2)\n\n#Calculation:\nC1 = m1*cp1                     #Capacitance rate of water (W/\u00b0C)\nC2 = m2*cp2                     #Capacitance rate of oil (W/\u00b0C)\nQ = C1*(t2-t1)                  #Heat load of water (W)\nQmax = C1*(T1-t1)               #Maximum heat load of water (W)\nE = Q/Qmax                      #Effectiveness\nif (C1<C2):\n    Cmin = C1                   #Minimum capacitance rate (W/\u00b0C)\n    Cmax = C2                   #Maximum capacitance rate (W/\u00b0C)\nelse:\n    Cmin = C2                   #Minimum capacitance rate (W/\u00b0C)\n    Cmax = C1                   #Maximum capacitance rate (W/\u00b0C)\nNTU = U*A/Cmin                  #Number of transfer units\nC = Cmin/Cmax                   #Capacitance rate ratio\n\n#Result:\nprint \"The effectiveness is :\",round(E,3),\".\"\nprint \"The number of transfer units is :\",round(NTU,3),\".\"\nprint \"The capacitance rate ratio is :\",round(C,3),\".\"",
     "language": "python",
     "metadata": {},
     "outputs": [
      {
       "output_type": "stream",
       "stream": "stdout",
       "text": "The effectiveness is : 0.472 .\nThe number of transfer units is : 0.915 .\nThe capacitance rate ratio is : 0.97 .\n"
      }
     ],
     "prompt_number": 18
    },
    {
     "cell_type": "heading",
     "level": 3,
     "metadata": {},
     "source": "ILLUSTRATIVE EXAMPLE 16.19, Page number: 351"
    },
    {
     "cell_type": "code",
     "collapsed": false,
     "input": "'''The feedwater heater for a boiler supplies 10,000 kg/h of water at 65\u00b0C. The raw feedwater\nenters the tubes with an inlet temperature of 20\u00b0C and is to be heated in a single-shell, twotube\npass heat exchanger by condensing steam at 1.30 bars. Water is on the tube side and\nsteam is on the shell side. The overall heat transfer coefficient is 2000W/m^2.K. Determine\nthe required heat transfer area for the exchanger. Use both the LMTD method and the E-NTU\napproach to obtain the results.\n'''\n\nfrom math import log\n\n#Variable declaration:\n#From table 16.4:\nCw = 11680.3                    #Capacitance rate of water (W/\u00b0C)\nt2 = 65.0                       #Temperature of water leaving the tube (\u00b0C)\nt1 = 20.0                       #Temperature of water entering the tube (\u00b0C)\nT2 = 107.3                      #Temperature of steam leaving the shell (\u00b0C)\nT1 = 107.3                      #Temperature of steam entering the shell (\u00b0C)\nhv = 2.238*10**6                #Latenet heat of condensation for steam (J/kg)\nU = 2000.0                      #Overall heat transfer coefficient (W/m^2.\u00b0C)\n\n#Calculation:\nQ = Cw*(t2-t1)                  #Heat load (W)\nm2 = Q/hv                       #Steam condensation rate (kg/s)\nDT1 = T2-t1                     #Temperature driving force 1 (\u00b0C)\nDT2 = T1-t2                     #Temperature driving force 2 (\u00b0C)\nDTlm1 = ((DT1-DT2)/log(DT1/DT2))  #Log mean temperature driving force for ideal countercurrent heat exchanger (\u00b0C)\nF = 1.0                         #Correction factor (since, T2 = T1)\nDTlm2 = F*DTlm1                 #Log mean temperature driving force for shell and tube exchanger (\u00b0C)\nA1 = Q/(U*DTlm2)                #Heat transfer area using LMTD method (m^2)\nE = (t2-t1)/(T1-t1)             #Effectiveness\n#From figure 16.18:\nNTU = 0.7                       #Number of transfer units\nA2 = (NTU*Cw)/U                 #Heat transfer area using E-NTU method (m^2)\n\n#Result:\nprint \"The heat transfr area for the exchanger (using LMTD method) is :\",round(A1,2),\" m^2 .\"\nprint \"The heat transfr area for the exchanger (using E-NTU method) is :\",round(A2,1),\" m^2 .\"",
     "language": "python",
     "metadata": {},
     "outputs": [
      {
       "output_type": "stream",
       "stream": "stdout",
       "text": "The heat transfr area for the exchanger (using LMTD method) is : 4.23  m^2 .\nThe heat transfr area for the exchanger (using E-NTU method) is : 4.1  m^2 .\n"
      }
     ],
     "prompt_number": 19
    },
    {
     "cell_type": "heading",
     "level": 3,
     "metadata": {},
     "source": "ILLUSTRATIVE EXAMPLE 16.21, Page number: 353"
    },
    {
     "cell_type": "code",
     "collapsed": false,
     "input": "'''A shell and tube heat exchanger has one pass on the shell side and two passes on the tube side\n(i.e., 1\u20132 shell and tube heat exchanger). It is being used for oil cooling. The oil flows in the\ntube side. It enters at 110\u00b0C and leaves at 75\u00b0C. The shell-side fluid is water at a flow rate of\n1.133 kg/s, entering at 35\u00b0C and leaving at 75\u00b0C. The oil flows in the tubes at an average\nvelocity of 0.3 m/s. The tube inside diameter is 3/4 inch or 0.01905 m. The overall heat transfer\ncoefficient for a clean heat exchanger is 350W/m^2.K. The fouling factor, Rf, is 0.00027 m2 .\nK/W. The oil properties are: p_oil = 850 kg/m3 and c_oil = 1900 J/kg.K. Calculate:\n1. the mass flow rate of the oil\n2. the minimum and maximum heat capacity rate\n3. the heat load, Q\u02d9\n4. the total number of tubes\n5. the tube length.\n'''\n\nfrom math import pi,log\n\n#Variable declaration:\n#From table 16.5:\nt2 = 75.0                       #Temperature of water leaving the shell (\u00b0C)\nt1 = 35.0                       #Temperature of water entering the shell (\u00b0C\nT2 = 75.0                       #Temperature of oil leaving the tube (\u00b0C)\nT1 = 110.0                      #Temperature of oil entering the tube (\u00b0C)\nmw = 1.133                      #Mass flowrtae of water (kg/s)\ncpw = 4180.0                    #Heat capacity of water (J/kg.K)\ncpo = 1900.0                    #Heat capacity of oil (J/kg.K)\np = 850.0                       #Density of oil (kg/m^3)\nDi = 0.01905                    #Inside diameter of tube (m)\nV = 0.3                         #Average velocity of oil flow inside the tube (m/s)\nNp = 2.0                        #Number of passes\nUc = 350.0                      #Overall heat transfer coefficient for clean heat exchanger (W/m^2)\nRf = 0.00027                    #Fouling factor (m^2.K/w)\n\n#Calculation:\nCw = mw*cpw                     #Water capacitance rate (W/K)\nQ = Cw*(t2-t1)                  #Heat load (W)\nCo = Q/(T1-T2)                  #Oil capacitance rate (W/K)\nmo = Co/cpo                     #Total flowrate of oil (kg/s)\nif (Cw<Co):\n    Cmin = Cw                   #Minimum capacitance rate (W/K)\n    Cmax = Co                   #Maximum capacitance rate (W/K)\nelse:\n    Cmin = Co                   #Minimum capacitance rate (W/K)\n    Cmax = Cw                   #Maximum capacitance rate (W/K)\nm_ot = p*V*(pi/4.0)*Di**2       #Oil flowrate per tube (kg/s)\nNt = mo/m_ot                    #Number of tubes per pass\nN = Nt*Np                       #Number of tubes\nDT1 = T2-t1                     #Temperature driving force 1 (\u00b0C)\nDT2 = T1-t2                     #Temperature driving force 2 (\u00b0C)\nDTlm1 = ((DT1-DT2)/log(DT1/DT2))  #Log mean temperature driving force for ideal countercurrent heat exchanger (\u00b0C)\nP = (t2-t1)/(T1 - t1)           #Dimensionless parameter P\nR = (T1-T2)/(t2-t1)             #Dimensionless parameter R\n#From figure 16.7:\nF = 0.81                        #Correction factor\nDTlm2 = F*DTlm1                 #Log mean temperature driving force for shell and tube exchanger (\u00b0C)\nUd = 1.0/(1.0/Uc+Rf)            #Dirty overall heat transfer coefficient (W/m^2.K)\nA = Q/(Ud*DTlm2)                #Required heat transfer area (m^2)\nL = A/(N*pi*Di)                 #Tube length (m)\n\n#Result:\nprint \"1. The mass flow rate of the oil is :\",round(mo,2),\" kg/s .\"\nprint \"2. The minimum and maximum heat capacity rate is :\",round(Cmin),\" and \",round(Cmax,1),\" W/K .\"\nprint \"3. The heat load, Q is :\",round(Q),\" W .\"\nprint \"4. The total number of tubes is :\",round(N,-1),\".\"\nprint \"5. The tube length is :\",round(L,1),\" m .\"",
     "language": "python",
     "metadata": {},
     "outputs": [
      {
       "output_type": "stream",
       "stream": "stdout",
       "text": "1. The mass flow rate of the oil is : 2.85  kg/s .\n2. The minimum and maximum heat capacity rate is : 4736.0  and  5412.5  W/K .\n3. The heat load, Q is : 189438.0  W .\n4. The total number of tubes is : 80.0 .\n5. The tube length is : 4.2  m .\n"
      }
     ],
     "prompt_number": 21
    },
    {
     "cell_type": "heading",
     "level": 3,
     "metadata": {},
     "source": "ILLUSTRATIVE EXAMPLE 16.22, Page number: 356"
    },
    {
     "cell_type": "code",
     "collapsed": false,
     "input": "'''Determine the effectiveness and NTU for the previous example.'''\n\n#Variable declaration:\n#From example 16.22:\nt2 = 75.0                       #Temperature of water leaving the shell (\u00b0F)\nt1 = 35.0                       #Temperature of water entering the shell (\u00b0F)\nT2 = 75.0                       #Temperature of oil leaving the tube (\u00b0F)\nT1 = 110.0                      #Temperature of oil entering the tube (\u00b0F)\nU = 320.0                       #Overall heat transfer coefficient (W/m^2.K)\nA = 19.5                        #Required heat transfer area (m^2)\nCmin = 4736.0                   #Minimum capacitance rate (W/K)\n\n#Calculation:\nDT1 = t2-t1                     #Actual water temperature change (\u00b0F)\nDT2 = T1 - t1                   #Maximum water temperature change (\u00b0F)\nE = DT1/DT2                     #Effectiveness\nNTU = (U*A)/Cmin                #Number of transfer units\n\n#Result:\nprint \"The effectiveness is :\",round(E,3),\".\"\nprint \"The NTU is :\",round(NTU,3),\".\"",
     "language": "python",
     "metadata": {},
     "outputs": [
      {
       "output_type": "stream",
       "stream": "stdout",
       "text": "The effectiveness is : 0.533 .\nThe NTU is : 1.318 .\n"
      }
     ],
     "prompt_number": 22
    }
   ],
   "metadata": {}
  }
 ]
}