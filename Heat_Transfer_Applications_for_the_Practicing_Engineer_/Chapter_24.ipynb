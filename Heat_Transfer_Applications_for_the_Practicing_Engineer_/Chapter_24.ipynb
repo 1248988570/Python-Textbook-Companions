{
 "metadata": {
  "name": "Chapter 24"
 },
 "nbformat": 3,
 "nbformat_minor": 0,
 "worksheets": [
  {
   "cells": [
    {
     "cell_type": "heading",
     "level": 1,
     "metadata": {},
     "source": "Chapter 24: Accident and Emergency Management"
    },
    {
     "cell_type": "heading",
     "level": 3,
     "metadata": {},
     "source": "ILLUSTRATIVE EXAMPLE 24.4, Page number: 514"
    },
    {
     "cell_type": "code",
     "collapsed": false,
     "input": "'''Calculate the upper flammability limit (UFL) and the lower flammability limit (LFL) of a gas\nmixture that consists of 30% methane (m), 50% ethane (e), and 20% pentane ( p) by volume.\nEmploy the following equation:\nFL(mixture, n components) = 1/(fi/FLi) ; fi = mole fraction i ; i = 1 to n\n'''\n\nfrom __future__ import division\n\n#Variable declaration:\nfm = 30/100                         #Mole fraction of methane\nfe = 50/100                         #Mole fraction of ethane\nfp = 20/100                         #Mole fraction of pentane\nLFLm = 0.046                        #Lower flammability limit for methane\nLFLe = 0.035                         #Lower flammability limit for ethane\nLFLp = 0.014                        #Lower flammability limit for propane\nUFLm = 0.142                        #Upper flammability limit for methane\nUFLe = 0.151                        #Upper flammability limit for ethane\nUFLp = 0.078                        #Upper flammability limit for propane\n\n#Calculation:\nLFLmix = 1/((fm/LFLm)+(fe/LFLe)+(fp/LFLp))  #Lower flammability limit of gas mixture\nUFLmix = 1/((fm/UFLm)+(fe/UFLe)+(fp/UFLp))  #Upper flammability limit of gas mixture\n\n#Result:\nprint \"The upper flammability limit (UFL) of the gas mixture is :\",round(UFLmix*100,2),\" % .\"\nprint \"The lower flammability limit (LFL) of the gas mixture is :\",round(LFLmix*100,2),\" % .\"\nprint \"There is a printing mistake in book.\"",
     "language": "python",
     "metadata": {},
     "outputs": [
      {
       "output_type": "stream",
       "stream": "stdout",
       "text": "The upper flammability limit (UFL) of the gas mixture is : 12.52  % .\nThe lower flammability limit (LFL) of the gas mixture is : 2.85  % .\nThere is a printing mistake in book.\n"
      }
     ],
     "prompt_number": 4
    },
    {
     "cell_type": "heading",
     "level": 3,
     "metadata": {},
     "source": "ILLUSTRATIVE EXAMPLE 24.5, Page number: 514"
    },
    {
     "cell_type": "code",
     "collapsed": false,
     "input": "'''Two boiler tubes are drawn in succession from a lot of 100 tubes, of which 10 are defective.\nWhat is the probability that both tubes are defective if (a) the first is replaced before the\nsecond is drawn and (b) the first is not replaced before the second is drawn.\n'''\n\nfrom __future__ import division\nfrom sympy import nsimplify as changeToFraction\n\n#Variable declaration:\nP_A = 10/100                               #Probability that the first tube is defective if the first is replaced\nP_B = 10/100                               #Probability that the second tube is defective if the first is replaced\n\n#Calculation:\nP_AB = P_A*P_B                             #Probability that the two tubes are defective if the first is replaced\nP_B_A = 9/99                               #Probability that the second tube is defective if the first tube is not replaced\nPd_AB = P_A*P_B_A                          #Probability that both tubes are defective if the first tube is not replaced\n\n#Result:\nprint \"The probability that both tubes are defective if :\"\nprint \"(a) the first is replaced before the second is drawn is :\",changeToFraction(P_AB),\" .\"\nprint \"(b) the first is not replaced before the second is drawn is :\",changeToFraction(Pd_AB),\" .\"",
     "language": "python",
     "metadata": {},
     "outputs": [
      {
       "output_type": "stream",
       "stream": "stdout",
       "text": "The probability that both tubes are defective if :\n(a) the first is replaced before the second is drawn is : 1/100  .\n(b) the first is not replaced before the second is drawn is : 1/110  .\n"
      }
     ],
     "prompt_number": 9
    },
    {
     "cell_type": "heading",
     "level": 3,
     "metadata": {},
     "source": "ILLUSTRATIVE EXAMPLE 24.6, Page number: 515"
    },
    {
     "cell_type": "code",
     "collapsed": false,
     "input": "'''The difference between the magnitude of a large earthquake at a nuclear power plant, on the\nRichter scale, and the threshold value of 3.25, is a random variable X having the following\nprobability distribution function (pdf):\n f(X) = 1.7 exp(-1.7X) ; X > 0\n      = 0 ; elsewhere\nFind the probability that X will have a value between 2 and 6; that is, P(2 < X < 6).\n'''\n\nfrom sympy import symbols, integrate, exp\n\n#Variable declaration:\nX = symbols('X')                        #Range of X\nPx = 1.7*(exp(-1.7*X))                  #Probability distribution function\n\n#Calculation:\nP = integrate(Px, (X,2,6))              #Probability that X will have a value between 2 and 6\n\n#Result:\nprint \"The probability that X will have a value between 2 and 6 is :\",round(P,4),\" .\"",
     "language": "python",
     "metadata": {},
     "outputs": [
      {
       "output_type": "stream",
       "stream": "stdout",
       "text": "The probability that X will have a value between 2 and 6 is : 0.0333  .\n"
      }
     ],
     "prompt_number": 6
    },
    {
     "cell_type": "heading",
     "level": 3,
     "metadata": {},
     "source": "ILLUSTRATIVE EXAMPLE 24.7, Page number: 517"
    },
    {
     "cell_type": "code",
     "collapsed": false,
     "input": "'''A coolant sprinkler system in a reactor has 20 independent spray components each of which\nfails with a probability of 0.1. The coolant system is considered to \u201cfail\u201d only if four or more\nof the sprays fail. What is the probability that the sprinkler systems fails?\n'''\n\nfrom __future__ import division\nfrom math import factorial\n\n#Variable Declaration:\nn = 20                  #Total number of components\np = 0.1                 #Probability of success\n\n#Calculations:\ndef binomial(n,p,x):\n    P=0\n    for x in range(0,x,1):\n        P = P + p**x*(1-p)**(n-x)*factorial(n)/(factorial(x)*factorial(n-x))\n    return P\n\n#Results:\nprint \"Probability that the sprinkler system fails :\",round((1-binomial(n,p,4))*100,2),\"%\"",
     "language": "python",
     "metadata": {},
     "outputs": [
      {
       "output_type": "stream",
       "stream": "stdout",
       "text": "Probability that the sprinkler system fails : 13.3 %\n"
      }
     ],
     "prompt_number": 7
    },
    {
     "cell_type": "heading",
     "level": 3,
     "metadata": {},
     "source": "ILLUSTRATIVE EXAMPLE 24.8, Page number: 518"
    },
    {
     "cell_type": "code",
     "collapsed": false,
     "input": "'''Assume the time to failure (in hours), t, of a tube in a heat exchanger has aWeibull distribution\nwith a = 1.3x10^-3 and b = 0.77. Find the probability that a tube in a heat exchanger will fail\nin 1000 hours.\n'''\n\nfrom sympy import symbols, integrate, exp\n\n#Variable declaration:\na = 1.3*10**-3                      #Constant a\nB = 0.77                            #Constant B\nt = symbols('t')                    #Time (h)\nFt = a*B*t**(B-1)*(exp(-a*t**B))     #Pdf for heat exchanger tube\nPt = integrate(Ft, (t,0,1000))      #Probability that a heat exchanger will fail within 100 hours\n\n#Result:\nprint \"The probability that a tube in a heat exchanger will fail in 1000 hours is :\",round(Pt,2),\" .\"",
     "language": "python",
     "metadata": {},
     "outputs": [
      {
       "output_type": "stream",
       "stream": "stdout",
       "text": "The probability that a tube in a heat exchanger will fail in 1000 hours is : 0.23  .\n"
      }
     ],
     "prompt_number": 21
    },
    {
     "cell_type": "heading",
     "level": 3,
     "metadata": {},
     "source": "ILLUSTRATIVE EXAMPLE 24.9, Page number: 519"
    },
    {
     "cell_type": "code",
     "collapsed": false,
     "input": "'''The measurement of the pitch diameter of an acceptable thread of a boiler tube is normally distributed\nwith mean of 0.4008 inch and standard deviation of 0.0004 inch. The specifications are\ngiven as 0.4000+0.0010 and 0.4000-0.0010. What is the probability of a \u201cdefect\u201d occurring?\n'''\n\nfrom __future__ import division\nfrom scipy.stats import norm as f\n\n#Variable declaration:\nm = 0.4008                     #Mean(inch)\ns = 0.0004                   #Standard Deviation(inch)\nUL = 0.4000+0.001            #Upper Limit\nLL = 0.4000-0.001            #Upper Limit\n\n#Calculation:\nPs = f.cdf(UL,m,s)-f.cdf(LL,m,s)#Probability of meeting specs\nPd = 1-Ps                    #Probability of defect\n\n#Results:\nprint 'Probability of meeting specifications:',round(Ps*100,2),'%'\nprint 'Probability of Defect:',round(Pd*100,2),'%'",
     "language": "python",
     "metadata": {},
     "outputs": [
      {
       "output_type": "stream",
       "stream": "stdout",
       "text": "Probability of meeting specifications: 69.15 %\nProbability of Defect: 30.85 %\n"
      }
     ],
     "prompt_number": 10
    },
    {
     "cell_type": "heading",
     "level": 3,
     "metadata": {},
     "source": "ILLUSTRATIVE EXAMPLE 24.10, Page number: 522"
    },
    {
     "cell_type": "code",
     "collapsed": false,
     "input": "'''Three thermometers (A, B, C) are positioned near the outlet of a heat exchanger. Assume that\nthe individual thermometer component lifetimes are normally distributed with ms and\nstandard deviations provided in Table 24.3.\nUsing the following random numbers, simulate the lifetime (time to failure) of the temperature\nrecording system and estimate its m and standard deviation. The lifetime to failure is\ndefined as the time (in weeks) for one of the thermometers to \u201cfail\u201d.\nMonte Carlo simulation is a procedure for mimicking observations on a random variable that\npermits verification of results that would ordinarily require difficult mathematical calculations or\nextensive experimentation. The method normally uses computer programs called random\nnumber generators. A random number is a number selected from the interval (0, 1) in such a\nway that the probabilities that the number comes from any two subintervals of equal length\nare equal. For example, the probability the number is in the sub-interval (0.1, 0.3) is the\nsame as the probability that the number is in the subinterval (0.5, 0.7). Thus, random numbers\nare observations on a random variable X having a uniform distribution on the interval (0, 1). This\nms that the pdf of X is specified by:\nf(x) = 1; 0 , x , 1\n     = 0; elsewhere\nThe above pdf assigns equal probability to subintervals of equal length in the interval (0, 1).\nUsing random number generators, Monte Carlo simulation can generate observed values of a\nrandom variable having any specified pdf. For example, to generate observed values of T, the\ntime to failure, when T is assumed to have a pdf specified by f (t), first use the random\nnumber generator to generate a value of X between 0 and 1. The solution is an observed\nvalue of the random variable T having pdf specified by f (t). Additional information on\nMonte Carlo methods is provided in Chapter 26.\n'''\n\nfrom __future__ import division\nfrom numpy import array,minimum\nfrom math import sqrt\n\n#variable Declaration:\nmTa = array([100]*10)                   #Mean weeks for thermometer failure(A)\nmTb = array([90]*10)                    #Mean weeks for thermometer failure(B)\nmTc = array([80]*10)                    #Mean weeks for thermometer failure(C)\nsTa = 30                                #Standard deviation (weeks) for thermometer failure(A)\nsTb = 20                                #Standard deviation (weeks) for thermometer failure(B)\nsTc = 10                                #Standard deviation (weeks) for thermometer failure(C)\nRa = array([0.52,0.80,0.45,0.68,0.59,0.01,0.50,0.29,0.34,0.46])         #Random No corrosponding to A\nRb = array([0.77,0.54,0.96,0.02,0.73,0.67,0.31,0.34,0.00,0.48])         #Random No corrosponding to B\nRc = array([0.14,0.39,0.06,0.86,0.87,0.90,0.28,0.51,0.56,0.82])         #Random No corrosponding to B\nZa = array([0.05,0.84,-0.13,0.47,0.23,-2.33,0.00,-0.55,-0.41,-0.10])    #Normal variable corrosponding to random No for A\nZb = array([0.74,0.10,1.75,-2.05,0.61,0.44,-0.50,-0.41,-3.90,-0.05])    #Normal variable corrosponding to random No for B\nZc = array([-1.08,-0.28,-1.56,1.08,1.13,1.28,-0.58,0.03,0.15,0.92])     #Normal variable corrosponding to random No for C\n\n#Calculations:\nTa = mTa+sTa*Za\nTb = mTb+sTb*Zb\nTc = mTc+sTc*Zc\nTs = minimum(Ta,Tb)\nTs = minimum(Ts,Tc)\nm = array([sum(Ts)/len(Ts)]*10)\ns = sqrt(sum((Ts-m)**2)/(len(Ts)-1))\n\n#Results:\nprint 'Standard deviation :',round(s,1),\" Weeks\"",
     "language": "python",
     "metadata": {},
     "outputs": [
      {
       "output_type": "stream",
       "stream": "stdout",
       "text": "Standard deviation : 25.9  Weeks\n"
      }
     ],
     "prompt_number": 22
    },
    {
     "cell_type": "heading",
     "level": 3,
     "metadata": {},
     "source": "ILLUSTRATIVE EXAMPLE 24.15, Page number: 531"
    },
    {
     "cell_type": "code",
     "collapsed": false,
     "input": "'''A heat exchanger is located in a relatively large laboratory with a volume of 1100 m^3 at 22\u00b0C and\n1 atm. The exchanger can leak as much as 0.75 gmol of hydrocarbon (HC) from the flowing\nliquid into the room if the exchanger ruptures. A hydrocarbon mole fraction in the air greater\nthan 425 parts per billion (ppb) constitutes a health and safety hazard.\nSuppose the heat exchanger fails and the maximum amount of HC is released instantaneously.\nAssume the air flow in the room is sufficient to cause the room to behave as a continuously\nstirred tank reactor (CSTR^(17 \u2013 19)); i.e., the air composition is spatially uniform.\nCalculate the ppb of hydrocarbon in the room. Is there a health risk? From a treatment pointof-\nview, what can be done to decrease the environmental hazard or to improve the safety of\nthe exchanger?\n'''\n\nfrom __future__ import division\n\n#Variable declaration:\nt = 273                     #Standard temperature (K)\nv = 0.0224                  #Volume of air occupied by 1 gmol of ideal gas (m^3)\nV = 1100                    #Volume of heat exchanger (m^3)\nT = 22+273                  #Temperature of heat exchanger (K)\nx1 = 0.75                   #gmols of hydrocarbon leaking from the exchanger (gmol)\n\n#Calculation:\nn = V*(1/v)*(t/T)           #Total number of gmols of air in the room (gmol)\nxHC = (x1/(n+x1))*10**6     #The mole fraction of hydrocarbon in the room (ppm)\n\n#Result:\nprint \"1. The mole fraction of hydrocarbon in the room is :\",round(xHC*1000,-1),\" ppb .\"",
     "language": "python",
     "metadata": {},
     "outputs": [
      {
       "output_type": "stream",
       "stream": "stdout",
       "text": "1. The mole fraction of hydrocarbon in the room is : 16500.0  ppb .\n"
      }
     ],
     "prompt_number": 3
    }
   ],
   "metadata": {}
  }
 ]
}