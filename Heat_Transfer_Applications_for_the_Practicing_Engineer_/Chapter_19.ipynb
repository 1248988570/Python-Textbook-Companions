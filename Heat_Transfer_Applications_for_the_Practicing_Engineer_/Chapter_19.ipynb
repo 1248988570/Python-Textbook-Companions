{
 "metadata": {
  "name": "Chapter 19"
 },
 "nbformat": 3,
 "nbformat_minor": 0,
 "worksheets": [
  {
   "cells": [
    {
     "cell_type": "heading",
     "level": 1,
     "metadata": {},
     "source": "Chapter 19: Insulation and Refractory"
    },
    {
     "cell_type": "heading",
     "level": 3,
     "metadata": {},
     "source": "ILLUSTRATIVE EXAMPLE 19.1, Page number: 413"
    },
    {
     "cell_type": "code",
     "collapsed": false,
     "input": "'''The following data is provided: a rectangular plane room wall, 2.5 m high and 4 m wide, has an\noutside surface temperature, T1 = 24\u00b0C; the outside air temperature is T3 = -15\u00b0C. Calculate\nthe heat transfer rate. The convective heat transfer coefficient between the outside surface and\nthe air is 11W/m^2.K.\nIf loosely packed wool with k = 0.04 W/m.K and a thickness of 7.62 mm (3 in.) is used\nfor insulation on the outer wall, calculate a revised heat transfer rate.\n'''\n\nfrom __future__ import division\n\n#Variable declaration:\nH = 2.5                         #Height of wall (m)\nW = 4                           #Width of wall (m)\nh = 11                          #Convective heat transfer coefficient (W/m^2.K)\nT1 = 24                         #Outside surface temperature (\u00b0C)\nT3 = -15                        #Outside air temperature (\u00b0C)\nL = 7.62/10**3                  #Insulation thickness (m)\nk = 0.04                        #Thermal conductivity of wool (W/m.K)\n\n#Calculation:\nA = H*W                         #Heat transfer area (m^2)\nQ = h*A*(T1-T3)                 #Heat transfer rate (W)\nRi = L/(k*A)                    #Insuation resistance (K/W)\nRc = 1/(h*A)                    #Convective resitance (K/W)\nR = Ri+Rc                       #Total resistance (K/W)\nQt = (T1-T3)/R                  #Revised heat transfer rate (Btu/h)\n \n#Result:\nprint \"1. The heat transfer rate without insulation is :\",round(Q),\" W .\"\nprint \"Or, the heat transfer rate without insulation is :\",round(Q*3.412),\" Btu/h .\"\nprint \"2. The revised heat transfer rate with insulation is :\",round(Qt),\" W .\"\nprint \"Or, the revised heat transfer rate with insulation is :\",round(Qt*3.412),\" Btu/h .\"\nprint \"There is a calculation mistake in book.\"",
     "language": "python",
     "metadata": {},
     "outputs": [
      {
       "output_type": "stream",
       "stream": "stdout",
       "text": "1. The heat transfer rate without insulation is : 4290.0  W .\nOr, the heat transfer rate without insulation is : 14637.0  Btu/h .\n2. The revised heat transfer rate with insulation is : 1386.0  W .\nOr, the revised heat transfer rate with insulation is : 4729.0  Btu/h .\nThere is a calculation mistake in book.\n"
      }
     ],
     "prompt_number": 4
    },
    {
     "cell_type": "heading",
     "level": 3,
     "metadata": {},
     "source": "ILLUSTRATIVE EXAMPLE 19.2, Page number: 414"
    },
    {
     "cell_type": "code",
     "collapsed": false,
     "input": "'''Refer to Illustrative Example 19.1. Calculate the temperature at the wall-insulation surface.\n'''\n\n#Variable declaration:\n#From example 19.1:\nT1 = 24                         #Outside surface temperature (\u00b0C)\nRi = 0.0191                     #Insulation resistance (K/W)\nQ = 1383                        #Revised heat transfer rate (Btu/h)\n\n#Calculation:\nT2 = T1-Q*Ri                    #Temperature at outer surface of insulation (\u00b0C)\n\n#Result:\nprint \"The temperature at the outer surface of the insulation is :\",round(T2,1),\" \u00b0C .\"",
     "language": "python",
     "metadata": {},
     "outputs": [
      {
       "output_type": "stream",
       "stream": "stdout",
       "text": "The temperature at the outer surface of the insulation is : -2.4  \u00b0C .\n"
      }
     ],
     "prompt_number": 5
    },
    {
     "cell_type": "heading",
     "level": 3,
     "metadata": {},
     "source": "ILLUSTRATIVE EXAMPLE 19.3, Page number: 415"
    },
    {
     "cell_type": "code",
     "collapsed": false,
     "input": "'''Calculate the Biot number in the previous example and comment on the results.'''\n\n#Variable declaration:\n#From example 19.1:\nh = 11                          #Convective heat transfer coefficient (W/m^2.K)\nL = 7.62/10**3                  #Insulation thickness (m)\nk = 0.04                        #Thermal conductivity of wool (W/m.K)\n\n#Calculation:\nBi = h*L/k                      #Biot number\n\n#Result:\nprint \"The Biot nmuber is :\",round(Bi,1),\" .\"",
     "language": "python",
     "metadata": {},
     "outputs": [
      {
       "output_type": "stream",
       "stream": "stdout",
       "text": "The Biot nmuber is : 2.1  .\n"
      }
     ],
     "prompt_number": 6
    },
    {
     "cell_type": "heading",
     "level": 3,
     "metadata": {},
     "source": "ILLUSTRATIVE EXAMPLE 19.4, Page number: 415"
    },
    {
     "cell_type": "code",
     "collapsed": false,
     "input": "'''One wall of an oven has a 3-inch insulation cover. The temperature on the inside of the wall is at\n400\u00b0F; the temperature on the outside is at 25\u00b0C. What is the heat flux (heat flow rate per unit\narea) across the wall if the insulation is made of glass wool (k = 0.022 Btu/h.ft.\u00b0F)?\n'''\n\nfrom __future__ import division\n\n#Variable declaration:\nk = 0.022                       #Thermal conductivity of glass wool (Btu/h.ft.\u00b0F)\nT1 = 400                        #Inside wall temperature (\u00b0F)\nT2 = 25                         #Outside wall temperature (\u00b0C)\nL = 3/12                        #Length of insulation cover (ft)\n\n#Calculation:\nT_2 = T2*(9/5)+32               #Outside wall temperature in fahrenheit scale (\u00b0F)\nQbyA = k*(T1-T_2)/L              #Heat flux across the wall (Btu/h.ft^2)\n\n#Result:\nprint \"The heat flux across the wall is :\",round(QbyA,1),\" Btu/h.ft^2 .\"",
     "language": "python",
     "metadata": {},
     "outputs": [
      {
       "output_type": "stream",
       "stream": "stdout",
       "text": "The heat flux across the wall is : 28.4  Btu/h.ft^2 .\n"
      }
     ],
     "prompt_number": 7
    },
    {
     "cell_type": "heading",
     "level": 3,
     "metadata": {},
     "source": "ILLUSTRATIVE EXAMPLE 19.5, Page number: 415"
    },
    {
     "cell_type": "code",
     "collapsed": false,
     "input": "'''A cold-storage room has a plane rectangular wall 8 m wide (w) and 3 m high (H). The temperature\nof the outside surface of the wall T1 is -18\u00b0C. The surrounding air temperature T3 is 26\u00b0C.\nThe convective heat transfer coefficient between the air and the surface is 21 W/m^2.K. A layer\nof cork board insulation (thermal conductivity, k = 0.0433 W/m.K) is to be attached to the\noutside wall to reduce the cooling load by 80%.\n1. Calculate the rate of heat flow through the rectangular wall without insulation. Express\nthe answer in tons of refrigeration (1 ton of refrigeration = 12,000 Btu/h). Which direction\nis the heat flowing?\n2. Determine the required thickness of the insulation board.\n'''\n\nfrom __future__ import division\n\n#Variable declaration:\nw = 8                           #Width of wall (m)\nH = 3                           #Height of wall (m)\nh = 21                          #Convective heat transfer coefficient between the air and the surface (W/m^2.K)\nT1 = -18                        #Outside surace of wall temperature (\u00b0C)\nT3 = 26                         #Surrounding air temperature (\u00b0C)\nl1 = 80/100                     #Reduction in cooling load\nk = 0.0433                      #Thermal conductivity of cork board insulation (W/m.K)\nT = 12000                       #Units Btu/h in 1 ton of refrigeration\n\n#Calculation:\nA = w*H                         #Heat transfer area (m^2) (part 1)\nQ1 = h*A*(T1-T3)                #Rate of heat flow in the absence of insulation (W)\nQ2 = Q1*3.4123/T                #Rate of heat flow in the absence of insulation (ton of refrigeration)\nl2 = 1-l1                       #Reduced cooling load (part 2)\nQ3 = l2*Q1                      #Heat rate with insulation (W)\nRt = (T1-T3)/Q3                 #Total thermal resistance (\u00b0C/W)\nR2 = 1/(h*A)                    #Convection thermal resistance (\u00b0C/W)\nR1 = Rt-R2                      #Insulation conduction resistance (\u00b0C/W)\nL = R1*k*A                      #Required insulation thickness (m)\n\n#Result:\nprint \"1. The rate of heat flow through the rectangular wall without insulation is :\",round(Q1/10**3,2),\" kW .\"\nprint \"Or, the rate of heat flow through the rectangular wall without insulation in tons of refrigeration is :\",round(Q2,1),\" ton of refrigeration .\"\nif (Q1<0):\n    print \"   The negative sign indicates heat flow from the surrounding air into the cold room.\"\nelse :\n    print \"   The positive sign indicates heat flow from the surrounding air into the cold room.\"\nprint \"2. The required thickness of the insulation board is :\",round(L*10**3,2),\" mm .\"",
     "language": "python",
     "metadata": {},
     "outputs": [
      {
       "output_type": "stream",
       "stream": "stdout",
       "text": "1. The rate of heat flow through the rectangular wall without insulation is : -22.18  kW .\nOr, the rate of heat flow through the rectangular wall without insulation in tons of refrigeration is : -6.3  ton of refrigeration .\n   The negative sign indicates heat flow from the surrounding air into the cold room.\n2. The required thickness of the insulation board is : 8.25  mm .\n"
      }
     ],
     "prompt_number": 12
    },
    {
     "cell_type": "heading",
     "level": 3,
     "metadata": {},
     "source": "ILLUSTRATIVE EXAMPLE 19.6, Page number: 417"
    },
    {
     "cell_type": "code",
     "collapsed": false,
     "input": "'''Refer to the previous example.\n1. Calculate the temperature at the interface between the cork board and the air.\n2. Calculate the Biot number, Bi.\n3. What can one conclude?\n'''\n\n#Variable declaration:\n#From example 19.5:\nQ = -4435.2                     #Heat rate with insulation (W)\nR2 = 0.00198                    #Convection thermal resistance (\u00b0C/W)\nT3 = 26                         #Surrounding air temperature (\u00b0C)\nh = 21                          #Convective heat transfer coefficient between the air and the surface (W/m^2.K)\nk = 0.0433                      #Thermal conductivity of cork board insulation (W/m.K)\nL = 0.00825                     #Required insulation thickness (m)\n\n#Calculation:\nT2 = T3+Q*R2                    #Interface temperature (\u00b0C) (part 1)\nBi = h*L/k                      #Biot number (part 2)\n\n#Result:\nprint \"1. The interface temperature is :\",round(T2,2),\" \u00b0C .\"\nprint \"2. The Biot number is :\",round(Bi),\" .\"\nprint \"3. Theoretical part.\"",
     "language": "python",
     "metadata": {},
     "outputs": [
      {
       "output_type": "stream",
       "stream": "stdout",
       "text": "1. The interface temperature is : 17.22  \u00b0C .\n2. The Biot number is : 4.0  .\n3. Theoretical part.\n"
      }
     ],
     "prompt_number": 9
    },
    {
     "cell_type": "heading",
     "level": 3,
     "metadata": {},
     "source": "ILLUSTRATIVE EXAMPLE 19.7, Page number: 417"
    },
    {
     "cell_type": "code",
     "collapsed": false,
     "input": "'''A hypodermic needle with an external diameter D1 of 0.50 mm is to be used to transfer a reactant\npreheated to 95\u00b0C in a laboratory reactor. To reduce the heat loss from the transfer line, the hypodermic\nneedle is threaded through the center of a solid rubber insulating tube (thermal conductivity,\nk2 = 0.2 W/m.K) with a diameter of D2 of 2 mm.\n1. Calculate the rate of the heat loss from the hypodermic needle with and without the\nrubber insulation.\n2. Calculate the Biot and Nusselt numbers for the uninsulated needle taking the characteristic\ndimension to be the diameter of the needle.\nThe stainless steel needle has a thermal conductivity, k1, of 16 W/m.K. The ambient air\ntemperature is 20\u00b0C. The thermal conductivity of the air, k3, is 0.0242 W/m.K. The heat transfer\ncoefficient, h3, from the outside surface of the transfer line to the surrounding air is primarily\ndue to natural convection and is approximately equal to 12 W/m^2.K; it may also be assumed\nindependent of the radius or the temperature.\n'''\n\nfrom __future__ import division\nfrom math import pi,log\n\n#Variable declaration:\nD2 = 0.5/10**3                  #External diameter of needle (m)\nh3 = 12                         #Heat transfer coefficient (W/m^2.K)\nL = 1                           #Insulation thickness (m)\nT1 = 95                         #Reactant temperature (\u00b0C)\nT3 = 20                         #Ambient air temperature (\u00b0C)\nk1 = 16                         #Thermal conductivity of needle (W/m.K)\nk3 = 0.0242                     #Thermal conductivity of air (W/m.K)\nD3 = 2/10**3                    #Diameter of rubber tube (m)\n\n#Calculation:\nr2 = D2/2                       #External radius of needle (m)\nr3 = D3/2                       #Radius of rubber tube (m)\nRt1 = 1/(h3*(2*pi*r2*L))        #Thermal resistance (\u00b0C/W)\nQ1 = (T1-T3)/Rt1                #Rate of heat flow in the absence of insulation (W)\nBi = h3*D2/k1                   #Biot number \nNu = h3*D2/k3                   #Nusselt number\nR2 = log(r3/r2)                 #Thermal resistance of needle (\u00b0C/W)\nR3 = 1/(h3*(2*pi*r3*L))         #Thermal resistance of rubber tube (\u00b0C/W)\nRt2 = R2+R3                     #Total thermal resistance (\u00b0C/W)\nQ2 = (T1-T3)/Rt2                #Rate of heat loss (W)\n\n#Result:\nprint \"1. The rate of the heat loss from the hypodermic needle with the rubber insulation is :\",round(Q1,2),\" W .\"\nprint \"   The rate of the heat loss from the hypodermic needle without the rubber insulation is :\",round(Q2,2),\" W .\"\nprint \"2. The Biot number is :\",round(Bi,6),\" .\"\nprint \"   The nusselt number is :\",round(Nu,3),\" .\"",
     "language": "python",
     "metadata": {},
     "outputs": [
      {
       "output_type": "stream",
       "stream": "stdout",
       "text": "1. The rate of the heat loss from the hypodermic needle with the rubber insulation is : 1.41  W .\n   The rate of the heat loss from the hypodermic needle without the rubber insulation is : 5.12  W .\n2. The Biot number is : 0.000375  .\n   The nusselt number is : 0.248  .\n"
      }
     ],
     "prompt_number": 11
    },
    {
     "cell_type": "heading",
     "level": 3,
     "metadata": {},
     "source": "ILLUSTRATIVE EXAMPLE 19.9, Page number: 420"
    },
    {
     "cell_type": "code",
     "collapsed": false,
     "input": "'''The surface temperature of a circular conducting rod is maintained at 200\u00b0C (T1) by the passage\nof an electric current. The rod diameter is 10 mm, the length is 2.5 m, the thermal conductivity is\n60 W/m.K, the density is 7850 kg/m^3, and the heat capacity is 434 J/kg.K. A bakelite coating\n(thermal conductivity = 1.4 W/m.K) is applied to the rod. The rod is in a fluid at 25\u00b0C (T3),\nand the convection heat transfer coefficient is 140 W/m^2.K. The thermal conductivity of the\nfluid is 0.6 W/m.K.\n1. Calcualte the rate of heat transfer for the bare rod?\n2. What is the critical radius associated with the bakelite coating? What is the heat transfer\nrate at the critical radius?\n3. If the bakelite insulation thickness is 55 mm, determine the fractional reduction in heat\ntransfer rate relative to the case of a bare rod.\n'''\n\nfrom __future__ import division\nfrom math import log, pi\n\n#Variable declaration:\nh = 140                             #Convention heat transfer coefficient (W/m^2.K)\nD1 = 10/10**3                       #Rod diameter (m)\nL = 2.5                             #Rod length (m)\nT1 = 200                            #Surface temperature of rod (\u00b0C)\nT2 = 25                             #Fluid temperature (\u00b0C)\nk = 1.4                             #Thermal conductivity of bakellite (W/m.K)\nl = 55/10**3                        #Insulation thickness (m)\n\n#Calculation:\nQ1 = h*pi*D1*L*(T1-T2)              #Rate of heat transfer for the bare rod (W) (part 1)\nBi = 2                              #Critical Biot number (part 2)\nD2 = Bi*k/h                         #Critical diameter associated with the bakelite coating (m)\nr2 = D2/2                           #Critical radius associated with the bakelite coating (m)\nr1 = D1/2                           #Rod radius (m)\nR1 = log(r2/r1)/(2*pi*k*L)          #Insulation conduction resistance (\u00b0C/W)\nR2 = 1/(h*(2*pi*r2*L))              #Convection thermal resistance (\u00b0C/W)\nRt1 = R1+R2                         #Total thermal resistance (\u00b0C/W)\nQc = (T1-T2)/Rt1                    #Heat transfer rate at the critical radius (W)\nr3 = r1+l                           #New radius associated with the bakelite coating after insulation (m) (part 3)\nR3 = log(r3/r1)/(2*pi*k*L)          #Insulation conduction bakelite resistance (\u00b0C/W)\nR4 = 1/(h*(2*pi*r3*L))              #Convection bakelite thermal resistance (\u00b0C/W)\nRt2 = R3+R4                         #Total bakelite thermal resistance (\u00b0C/W)\nQ2 = (T1-T2)/Rt2                    #Heat transfer rate at the bakelite critical radius (W)\nRe = ((Q1-Q2)/Q1)*100               #Percent reduction in heat transfer rate relative to the case of a bare rod (%)\n\n#Result:\nprint \"1. The rate of heat transfer for the bare rod is :\",round(Q1),\" W .\"\nprint \"2. The critical radius associated with the bakelite coating is :\",round(r2*10**3),\" mm.\"\nprint \" & the heat transfer rate at the critical radius is :\",round(Qc),\" W .\"\nprint \"3. The fractional reduction in heat transfer rate relative to the case of a bare rod is :\",round(Re,1),\" % .\"",
     "language": "python",
     "metadata": {},
     "outputs": [
      {
       "output_type": "stream",
       "stream": "stdout",
       "text": "1. The rate of heat transfer for the bare rod is : 1924.0  W .\n2. The critical radius associated with the bakelite coating is : 10.0  mm.\n & the heat transfer rate at the critical radius is : 2273.0  W .\n3. The fractional reduction in heat transfer rate relative to the case of a bare rod is : 24.6  % .\n"
      }
     ],
     "prompt_number": 15
    },
    {
     "cell_type": "heading",
     "level": 3,
     "metadata": {},
     "source": "ILLUSTRATIVE EXAMPLE 19.10, Page number: 421"
    },
    {
     "cell_type": "code",
     "collapsed": false,
     "input": "'''A stainless steel tube carries hot ethylene glycol at 124\u00b0C (T1). The surrounding air outside the\ntube is at 2\u00b0C (T5). To reduce the heat losses from the ethylene glycol, the tube is surrounded by\nasbestos insulation. For a 1 m length of the tube, calculate:\n1. the rate of heat transfer without insulation,\n2. the rate of heat transfer with insulation, and\n3. the overall heat transfer coefficient based on the inside area of the tube,\n4. the overall heat transfer coefficient based on the outside area of the insulation,\n5. the temperature, T3, at the steel\u2013insulation interface,\n6. the inside and outside Biot numbers, and the outside Nusselt number, and\n7. the log mean radius of insulation.\nThe following data is provided.\nStainless steel pipe: inside radius, r1 = 1.1 cm; outside radius, r2 = 1.3 cm; thermal conductivity,\nk2 = 19 W/m.K; heat transfer coefficient from ethylene glycol to the stainless\nsteel pipe, h1 = 190 W/m^2.K.\nAsbestos insulation: inside radius, r2 = 1.3 cm; outside radius, r3 = 3.8 cm; thermal conductivity,\nk3 = 0.2 W/m.K.\nThe outside heat transfer coefficient from the air to the surface of the insulation (or of the\npipe, in the case of no insulation), h3 = 14 W/m^2.K. The thermal conductivity, k4, of the air\nis 0.0242 W/m.K.\n'''\n\nfrom __future__ import division\nfrom math import pi, log\n\n#Variable declaration:\nr1 = 1.1/100                    #Inside radius of pipe (m)\nr2 = 1.3/100                    #Outside radius of pipe (m)\nr3 = 3.8/100                    #Outside radius of asbestos insulation (m)\nL = 1                           #Length of tube (m)\nh1 = 190                        #Heat transfer coefficient from ethylene glycol to the stainless steel pipe (W/m^2.K)\nk2 = 19                         #Thermal conductivity of pipe (W/m.K)\nh2 = 14                         #Outside heat transfer coefficient from the air to the surface of the insulation (W/m^2.K)\nk3 = 0.2                        #Thermal conductivity of asbestos (W/m.K)\nT1 = 124                        #Hot ethylene glycol temperature (\u00b0C)\nT5 = 2                          #Surrounding air temperature (\u00b0C)\nk4 = 0.0242                     #Thermal conductivity of air (W/m.K)\n\n#Calculation:\nA1 = 2*pi*r1*L                  #Inside surface area of pipe (m^2) (part1)\nA2 = 2*pi*r2*L                  #Outside surface area of pipe (m^2)\nA3 = 2*pi*r3*L                  #Outside surface area of asbestos insulation (m^2)\nR1 = 1/(h1*A1)                  #Inside convection resistance (\u00b0C/W)\nR2 = log(r2/r1)/(2*pi*k2*L)     #Conduction resistance through the tube (\u00b0C/W)\nR3 = 1/(h2*A2)                  #Outside convection resistance (\u00b0C/W)\nRt1 = R1+R2+R3                  #Total resistance without insulation (\u00b0C/W)\nQ1 = (T1 - T5)/Rt1              #Heat transfer rate without insulation (W)\nR4 = log(r3/r2)/(2*pi*k3*L)     #Conduction resistance associated with the insulation (\u00b0C/W) (part 2)\nR5 = 1/(h2*A3)                  #Outside convection resistance (\u00b0C/W)\nRt2 = R1+R2+R4+R5               #Total rsistance with the insulation (\u00b0C/W)\nQ2 = (T1-T5)/Rt2                #Heat transfer rate with the insulation (W)\nU1 = 1/(Rt2*A1)                 #Overall heat transfer coefficient based on the inside area (W/m^2.K) (part 3)\nU3 = 1/(Rt2*A3)                 #Overall heat transfer coefficient based on the outside area (W/m^2.K) (part 4)\nT3 = T1-(R1+R2)*Q2              #Temperature at the steel\u2013insulation interface (\u00b0C) (part 5)\nBi1 = h2*(2*r3)/k3              #Outside Biot number (part 6)\nBi2 = h1*(2*r1)/k2              #Inside Biot number\nNu = h1*(2*r1)/k4               #Nusselt number of the air\nrlm = (r3-r2)/log(r3/r2)        #Log mean radius of the insulation (m) (part 7)\n\n#Result:\nprint \"1. The rate of heat transfer without insulation is :\",round(Q1,1),\" W.\"\nprint \"2. The rate of heat transfer with insulation is :\",round(Q2,1),\" W.\"\nprint \"3. The overall heat transfer coefficient based on the inside area of the tube is :\",round(U1,2),\" W/m^2.K .\"\nprint \"4. The overall heat transfer coefficient based on the outside area of the insulation is :\",round(U3,1),\" W/m^2.K .\"\nprint \"5. The temperature, T3, at the steel\u2013insulation interface is :\",round(T3,1),\" \u00b0C.\"\nprint \"6. The inside Biot numbers is :\",round(Bi2,2),\" .\"\nprint \"   The outside Biot numbers is :\",round(Bi1,2),\" .\"\nprint \"   The Nusselt number is :\",round(Nu,1),\" .\"\nprint \"7. The log mean radius of insulation is :\",round(rlm*100,2),\" cm.\"\nprint \"There is a printing mistake in book for unit in part 7.\"",
     "language": "python",
     "metadata": {},
     "outputs": [
      {
       "output_type": "stream",
       "stream": "stdout",
       "text": "1. The rate of heat transfer without insulation is : 128.1  W.\n2. The rate of heat transfer with insulation is : 99.2  W.\n3. The overall heat transfer coefficient based on the inside area of the tube is : 11.76  W/m^2.K .\n4. The overall heat transfer coefficient based on the outside area of the insulation is : 3.4  W/m^2.K .\n5. The temperature, T3, at the steel\u2013insulation interface is : 116.3  \u00b0C.\n6. The inside Biot numbers is : 0.22  .\n   The outside Biot numbers is : 5.32  .\n   The Nusselt number is : 172.7  .\n7. The log mean radius of insulation is : 2.33  cm.\nThere is a printing mistake in book for unit in part 7.\n"
      }
     ],
     "prompt_number": 16
    },
    {
     "cell_type": "heading",
     "level": 3,
     "metadata": {},
     "source": "ILLUSTRATIVE EXAMPLE 19.11, Page number: 424"
    },
    {
     "cell_type": "code",
     "collapsed": false,
     "input": "'''A recently developed synthetic oil is stored in a vertical tank 10 feet in diameter and 30 feet\nhigh which is insulated with a 2-inch layer of insulation (k = 0.039 Btu/h.ft.\u00b0F). To prevent\nfreezing of the oil, it is maintained at a temperature of 115\u00b0F by a heating coil consisting of an\n18-gauge, 3/4-inch copper tube (k = 224 Btu/h.ft.\u00b0F) containing saturated steam at 10 psig.\nAssuming that the minimum outdoor temperature is 5\u00b0F and that the oil temperature is uniform,\ncalculate of copper tubing required in feet to maintain the tank at 120\u00b0F in the coldest weather.\nNeglect upper and lower tank surface heat losses. The following additional information is\nprovided:\nSteam condensing inside coil, h = 800 Btu/h.ft^2.\u00b0F\nOil outside coil, h = 40 Btu/h.ft^2\u00b0F\nOil inside tank wall, h = 40 Btu/h.ft^2\u00b0F\nOuter tank wall to ambient air, h = 2.0 Btu/h.ft^2.\u00b0F\n'''\n\nfrom __future__ import division\nfrom math import pi\n\n#Variable declaration:\nh1 = 800                        #Heat transfer coefficient for steam condensing inside coil (Btu/h.ft^2.\u00b0F)\nh2 = 40                         #Heat transfer coefficient for oil outside coil (Btu/h.ft^2.\u00b0F)\nh3 = 40                         #Heat transfer coefficient for oil inside tank wal (Btu/h.ft^2.\u00b0F)\nh4 = 2                          #Heat transfer coefficient for outer tank wall to ambient air (Btu/h.ft^2.\u00b0F)\nk1 = 0.039                      #Thermal conductivity of insulation layer (Btu/h.ft.\u00b0F)\nl1 = 2/12                       #Thickness of insulation layer (ft)\nD = 10                          #Diameter of tank (ft)\nH = 30                          #Height of tank (ft)\nk2 = 224                        #Thermal conductivity of copper tube (Btu/h.ft.\u00b0F)\nl2 = (3/4)/12                   #Thickness of insulation layer (ft)\nT1 = 120                        #Temperature of tank (\u00b0F)\nT2 = 5                          #Outdoor temperature (\u00b0F)\n\n#Calculation:\nUo1 = 1/(1/h3+(l1/k1)+1/h4)     #Overall heat transfer coefficient for tank (Btu/h.ft^2.\u00b0F)\nAt = pi*(D+2*l1)*H              #Surface area of tank (ft^2)\nQ = Uo1*At*(T1-T2)              #Heat transfer rate lost from the tank (Btu/h)\n#From table 6.3:\nl2 = 0.049/12                   #Thickness of coil (ft)\nA = 0.1963                      #Area of 18 guage, 3/4-inch copper tube (ft^2/ft)\nUo2 = 1/(1/h2+(l2/k2)+1/h1)     #Overall heat transfer coefficient for coil (Btu/h.ft^2.\u00b0F)\n#From steam tables:\nTst = 240                       #Temperature for 10 psia (24.7 psia) steam (\u00b0F)\nAc = Q/(Uo2*(Tst-T1))           #Area of tube (ft^2)\nL = Ac/A                        #Lengt of tube (ft)\n\n#Result:\nprint \"The length ofcopper tubing required is :\",round(L,1),\" ft .\"",
     "language": "python",
     "metadata": {},
     "outputs": [
      {
       "output_type": "stream",
       "stream": "stdout",
       "text": "The length ofcopper tubing required is : 26.0  ft .\n"
      }
     ],
     "prompt_number": 17
    },
    {
     "cell_type": "heading",
     "level": 3,
     "metadata": {},
     "source": "ILLUSTRATIVE EXAMPLE 19.12, Page number: 426"
    },
    {
     "cell_type": "code",
     "collapsed": false,
     "input": "'''Ricci and Theodore (R&T) Consultants have been assigned the job of selecting insulation for all\nthe plant piping at the local power plant. Included in the plant piping are 8000 ft of 1-inch schedule\n40 steel (1% C) pipe carrying steam at 240\u00b0F. It is estimated that the heat transfer coefficient\nfor condensing steam on the inside of the pipe is 2000 Btu/h.ft^2.\u00b0F. The air temperature outside\nof the pipe can drop to 20\u00b0F, and with wind motion the outside heat transfer coefficient can\nbe as high as 100 Btu/h.ft.\u00b0F.\nR&T have decided to use a fiberglass insulation having a thermal conductivity of 0.01\nBtu/h . ft . \u00b0F. It is available in 6 ft lengths in the four thicknesses listed below:\n3/8-inch thick $1.51/6 ft length\n1/2-inch thick $3.54/6 ft length\n3/4-inch thick $5.54/6 ft length\n1-inch thick $8.36/6 ft length\nCalculate the energy saved per dollar of insulation investment in going from 3/8-inch to 1/2-inch\nthick insulation. Repeat this calculation in going from 1/2-inch to 3/4-inch and 3/4-inch to 1-inch.\nExpress the results in units of Btu/h per dollar.\n'''\n\nfrom __future__ import division\nfrom math import pi, log\nfrom numpy import array,log as LOG\n\n#Variable declaration:\n#For 1-inch pipe schedule 40:\nDi = 1.049/12                   #Inside diameter (ft)\nDo = 1.315/12                   #Outside diameter (ft)\nL = 8000                        #Length of pipe (ft)\nhi = 2000                       #Heat transfer coefficient inside of the pipe (Btu/h.ft^2.\u00b0F)\nho = 100                        #Outside heat transfer coefficient (Btu/h.ft.\u00b0F)\nkl = 0.01                       #Thermal conductivity of insulation (Btu/h.ft.\u00b0F)\nT1 = 240                        #Steam temperature (\u00b0F)\nT2 = 20                         #Air temperature (\u00b0F)\nk = 24.8                        #Thermal conductivity for steel (Btu/h.ft.\u00b0F)\nDxl = array([3/8,1/2,3/4,1])/12 #thickness(ft)\namt = array([1.51,3.54,5.54,8.36])/6 #Cost per feet($)   \n\n#Calculation:\nD_ = (Do-Di)/log(Do/Di)         #Log-mean diameter of the pipe (ft)\nDl = Do+2*(Dxl)                 #Insulation thickness (ft)\nD_l = (Dl-Do)/LOG(Dl/Do)        #Log mean diameter of pipe (ft)\nDxw = (Do-Di)/2                 #Pipe thickness (ft)\nRw = Dxw/(k*pi*D_*L)            #Wall resistance ((Btu/h.\u00b0F)^-1)\nRi = 1/(hi*pi*Di*L)             #Inside steam convection resistance ((Btu/h.\u00b0F)^-1)\nRl = Dxl/(kl*pi*D_l*L)          #Insulation resistance ((Btu/h.\u00b0F)^-1)\nRo = 1/(ho*pi*Dl*L)             #Outside air convection resistance ((Btu/h.\u00b0F)^-1)\nR = Ri+Rw+Rl+Ro                 #Total resistance  ((Btu/h.\u00b0F)^-1)\nUo = 1/(R*pi*Dl*L)              #Overall outside heat transfer coefficient (Btu/h.ft^2.\u00b0F)\nUi = 1/(R*pi*Di*L)              #Overall inside heat transfer coefficient (Btu/h.ft^2.\u00b0F)\ndT = T1-T2\nAi = pi*Di*L                    #Inside area (ft^2)\nQ = Ui*Ai*dT                   #Energy loss (Btu/h)\ndef energyPerDollar(Q1,Q2,amt1,amt2):\n    return round((Q1-Q2)/(8000*(amt2-amt1)),1)\n\n#Results:\nprint \"Energy saved per dollar ingoing from 3/8 to 1/2 inch is :\",energyPerDollar(Q[0],Q[1],amt[0],amt[1]),' Btu/h.$'\nprint \"Energy saved per dollar ingoing from 1/2 to 3/4 inch is :\",energyPerDollar(Q[1],Q[2],amt[1],amt[2]),' Btu/h.$'\nprint \"Energy saved per dollar ingoing from 3/4 to 1 inch is :\",energyPerDollar(Q[2],Q[3],amt[2],amt[3]),' Btu/h.$'",
     "language": "python",
     "metadata": {},
     "outputs": [
      {
       "output_type": "stream",
       "stream": "stdout",
       "text": "Energy saved per dollar ingoing from 3/8 to 1/2 inch is : 18.2  Btu/h.$\nEnergy saved per dollar ingoing from 1/2 to 3/4 inch is : 18.8  Btu/h.$\nEnergy saved per dollar ingoing from 3/4 to 1 inch is : 6.8  Btu/h.$\n"
      }
     ],
     "prompt_number": 3
    },
    {
     "cell_type": "heading",
     "level": 3,
     "metadata": {},
     "source": "ILLUSTRATIVE EXAMPLE 19.16, Page number: 434"
    },
    {
     "cell_type": "code",
     "collapsed": false,
     "input": "'''Calculate the outer critical radius of insulation on a 2.0-inch OD pipe. Assume the air flow coefficient\nto be 1.32 Btu/h.ft^2.\u00b0F and the loosely-packed insulation\u2019s thermal conductivity to be\n0.44 Btu/h.ft.\u00b0F. Comment on the effect of insulation on the heat rate lost from the pipe.\n'''\n\nfrom __future__ import division\n\n#Variable declaration:\nki = 0.44                       #Thermal conductivity of insulation (Btu/h.ft.\u00b0F)\nho = 1.32                       #Air flow coefficient (Btu/h.ft^2.\u00b0F)\nOD = 2                          #Outside diameter of pipe (in)\n\n#Calculation:\nrc = (ki/ho)*12                 #Outer critical radius of insulation (in)\nro = OD/2                       #Outside radius of pipe (in)\nL = rc-ro                       #Critical insulation thickness (in)\n\n#Result:\nprint \"The outer critical radius of insulation is :\",round(rc),\" in .\"\nif ro<rc:\n    print \"Since, ro<rc, the heat loss will increase as insulation is added.\"\nelse :\n    print \"Sice, ro>rc, the heat loss will decrease as insulation is added.\"",
     "language": "python",
     "metadata": {},
     "outputs": [
      {
       "output_type": "stream",
       "stream": "stdout",
       "text": "The outer critical radius of insulation is : 4.0  in .\nSince, ro<rc, the heat loss will increase as insulation is added.\n"
      }
     ],
     "prompt_number": 21
    },
    {
     "cell_type": "heading",
     "level": 3,
     "metadata": {},
     "source": "ILLUSTRATIVE EXAMPLE 19.18, Page number: 439"
    },
    {
     "cell_type": "code",
     "collapsed": false,
     "input": "'''A flat incinerator wall with a surface area of 480 ft^2 consists of 6 inches of firebrick with a thermal\nconductivity of 0.61 Btu/h.ft.\u00b0F and an 8-inch outer layer of rock wool insulation with a\nthermal conductivity of 0.023 Btu/h.ft.\u00b0F. If the temperature of the insulation of the inside\nface of the firebrick and the outside surface of the rock wool insulation are 1900 and 140\u00b0F,\nrespectively, calculate the following:\n1. The heat loss through the wall in Btu/h.\n2. The temperature of the interface between the firebrick and the rock wool.\n'''\n\nfrom __future__ import division\n\n#Variable declaration:\nLf = 6/12                           #Length of firebrick (ft)\nkf = 0.61                           #Thermal conductivity of firebrick (Btu/h.ft.\u00b0F)\nA = 480                             #Surface area of wall (ft^2)\nLw = 8/12                           #Length of rock wool (ft)\nkw = 0.023                          #Thermal conductivity of rock wool (Btu/h.ft.\u00b0F)\nT1 = 1900                           #Temperature of insulation of firebrick (\u00b0F)\nT2 = 140                            #Temperature of insulation of rock wool (\u00b0F)\n\n#Calculation:\nRf = Lf/(kf*A)                      #Resistance of firebrick (h.\u00b0F/Btu)\nRw = Lw/(kw*A)                      #Resistance of rock wool (h.\u00b0F/Btu)\nR = Rf+Rw                           #Total resitance (h.\u00b0F/Btu)\nQ = (T1-T2)/R                       #Heat loss through the wall (Btu/h)\n\n#Result:\nprint \"The heat loss through the wall is :\",round(Q),\" Btu/h .\"\n ",
     "language": "python",
     "metadata": {},
     "outputs": [
      {
       "output_type": "stream",
       "stream": "stdout",
       "text": "The heat loss through the wall is : 28344.0  Btu/h .\n"
      }
     ],
     "prompt_number": 24
    },
    {
     "cell_type": "heading",
     "level": 3,
     "metadata": {},
     "source": "ILLUSTRATIVE EXAMPLE 19.19, Page number: 440"
    },
    {
     "cell_type": "code",
     "collapsed": false,
     "input": "'''Heat is flowing from steam on one side of a 0.375-inch thick vertical steel sheet to air on the\nother side. The steam heat-transfer coefficient is 1700 Btu/h.ft^2.\u00b0F and that of the air is\n2.0 Btu/h.ft^2.\u00b0F. The total temperature difference is 120\u00b0F. How would the rate of heat transfer\nbe affected if:\n1. the wall was copper rather than steel,\n2. by increasing the steam coefficient to 2500, and\n3. by increasing the air coefficient to 12.0?\nNote that the thermal conductivities, k, for steel and copper are 26 and 218 Btu/h.ft.\u00b0F,\nrespectively.\n'''\n\nfrom __future__ import division\n\n#Variable declaration:\nh1 = 1700                       #Steam heat-transfer coefficient (Btu/h.ft^2.\u00b0F)\nh2 = 2                          #Air heat-transfer coefficient (Btu/h.ft^2.\u00b0F)\nA = 1                           #Area of base (ft^2) (assumption)\nk1 = 26                         #Thermal conductivity of steel (Btu/h.ft.\u00b0F)\nk2 = 218                        #Thermal conductivity of copper (Btu/h.ft.\u00b0F)\nt = 0.375                       #Thickness of steel sheet (in)\nh3 = 2500                       #Increased steam heat-transfer coefficient (Btu/h.ft^2.\u00b0F)\nh4 = 12                         #Increased air heat-transfer coefficient (Btu/h.ft^2.\u00b0F)\n\n#Calculation:\nR1 = 1/(h1*A)                   #Steam resistance (h.\u00b0F/Btu)\nR2 = 1/(h2*A)                   #Air resistance (h.\u00b0F/Btu)\nR3 = (t/12)/(k1*A)              #Steel resistance (h.\u00b0F/Btu)\nRt1 = R1+R2+R3                  #Total resistance (with steel) (h.\u00b0F/Btu)\nR4 = (t/12)/(k2*A)              #Copper resistance (h.\u00b0F/Btu) (part 1)\nRt2 = R1+R2+R4                  #Total resistance (with copper) (h.\u00b0F/Btu)\nR5 = 1/(h1*A)                   #New steam resistance (h.\u00b0F/Btu)\nRt3 = R5+R2+R3                  #Total resistance after increasing the steam coefficient (h.\u00b0F/Btu)\nR6 = 1/(h4*A)                   #Air resistance (h.\u00b0F/Btu)\nRt4 = R1+R6+R3                  #Total resistance after increasing the air coefficient (h.\u00b0F/Btu)\n\n#Result:\nif (Rt1==Rt2):\n    print \"1.The rate of heat transfer is essentially unaffected.\"\nelse :\n    print \"1. The rate of heat transfer is essentially affected.\"\nif (Rt1==Rt3):\n    print \"2. The rate is again unaffected.\"\nelse :\n    print \"2. The rate is again affected.\"\nif (Rt1==Rt4):\n    print \"3. The rate is unaffected for this case.\"\nelse :\n    print \"3. The rate is affected for this case.\"",
     "language": "python",
     "metadata": {},
     "outputs": [
      {
       "output_type": "stream",
       "stream": "stdout",
       "text": "1. The rate of heat transfer is essentially affected.\n2. The rate is again unaffected.\n3. The rate is affected for this case.\n"
      }
     ],
     "prompt_number": 25
    },
    {
     "cell_type": "heading",
     "level": 3,
     "metadata": {},
     "source": "ILLUSTRATIVE EXAMPLE 19.20, Page number: 441"
    },
    {
     "cell_type": "code",
     "collapsed": false,
     "input": "'''An incinerator is 30 ft long, has a 12-ft ID and is constructed of 3/4-inch carbon steel. The inside of\nthe steel shell is protected by 10 in. of firebrick (k = 0.608 Btu/h.ft.\u00b0F) and 5 inches of Sil-o-cel\ninsulation (k = 0.035 Btu/h.ft.\u00b0F) covers the outside. The ambient air temperature is 85\u00b0F\nand the average inside temperature is 1800\u00b0F. The present heat loss through the furnace wall\nis 6% of the heat generated by combustion of a fuel. Calculate the thickness of Sil-o-cel\ninsulation that must be added to cut the losses to 3%.\n'''\n\nfrom __future__ import division\nfrom math import pi, log, exp\n\n#Variable declaration:\nrfo = 12/2                      #Outside radius of firebrick (ft)\nrfi = 5.167                     #Inside radius of firebrick (ft)\nrso = 6.479                     #Outside radius of sil-o-cel (ft)\nrsi = 6.063                     #Inside radius of fsil-o-cel (ft)\nL = 30                          #Length of incinerator (ft)\nkf = 0.608                      #Thermal conductivity of firebrick (Btu/h.ft.\u00b0F)\nks = 0.035                      #Thermal conductivity of sil-o-cel (Btu/h.ft.\u00b0F)\n\n#Calculation:\nRf= log(rfo/rfi)/(2*pi*L*kf)    #Resistance of firebrick (h.ft.\u00b0F/Btu)\nRs= log(rso/rsi)/(2*pi*L*ks)    #Resistance of sil-o-cel (h.ft.\u00b0F/Btu)\nR = Rf+Rs                       #Total resistance (h.ft.\u00b0F/Btu)\nro = exp(R*(2*pi*L*ks))*rso     #New outside radius of sil-o-cel (ft)\nr= ro-rso                       #Extra thickness (ft)\n\n#Result:\nprint \"The extra thickness is :\",round(r,3),\" ft.\"\nprint \"Or, the extra thickness is :\",round(r*12,2),\" in.\"",
     "language": "python",
     "metadata": {},
     "outputs": [
      {
       "output_type": "stream",
       "stream": "stdout",
       "text": "The extra thickness is : 0.504  ft.\nOr, the extra thickness is : 6.05  in.\n"
      }
     ],
     "prompt_number": 28
    }
   ],
   "metadata": {}
  }
 ]
}