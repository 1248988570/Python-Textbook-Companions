{
 "metadata": {
  "name": "Chapter11"
 },
 "nbformat": 3,
 "nbformat_minor": 0,
 "worksheets": [
  {
   "cells": [
    {
     "cell_type": "heading",
     "level": 1,
     "metadata": {},
     "source": "11: Lasers"
    },
    {
     "cell_type": "heading",
     "level": 2,
     "metadata": {},
     "source": "Example number 11.1, Page number 249"
    },
    {
     "cell_type": "code",
     "collapsed": false,
     "input": "#To calculate the ratio of spontaneous emission to stimulated emission for visible and microwave region\n\n#importing modules\nimport math\nfrom __future__ import division\n\n#Variable declaration\nh = 6.626*10**-34;     #Planck's constant(Js)\nc = 3*10**8;     #Speed of light in free space(m/s)\nk = 1.38*10**-23;     #Boltzmann constant(J/K)\nT = 300;     #Temperature at absolute scale(K)\nlamda1 = 5500;     #Wavelength of visible light(A)\nlamda2 = 10**-2;     #Wavelength of microwave(m)\n\n#Calculation\nlamda1 = lamda1*10**-10;     #Wavelength of visible light(m)\nrate_ratio = math.exp(h*c/(lamda1*k*T))-1;    #Ratio of spontaneous emission to stimulated emission\nrate_ratio1 = math.exp(h*c/(lamda2*k*T))-1;     #Ratio of spontaneous emission to stimulated emission\nrate_ratio1 = math.ceil(rate_ratio1*10**5)/10**5;     #rounding off the value of rate_ratio1 to 5 decimals\n\n#Result\nprint \"The ratio of spontaneous emission to stimulated emission for visible region is\",rate_ratio\nprint \"The ratio of spontaneous emission to stimulated emission for microwave region is\", rate_ratio1",
     "language": "python",
     "metadata": {},
     "outputs": [
      {
       "output_type": "stream",
       "stream": "stdout",
       "text": "The ratio of spontaneous emission to stimulated emission for visible region is 8.19422217477e+37\nThe ratio of spontaneous emission to stimulated emission for microwave region is 0.00482\n"
      }
     ],
     "prompt_number": 3
    },
    {
     "cell_type": "heading",
     "level": 2,
     "metadata": {},
     "source": "Example number 11.2, Page number 250"
    },
    {
     "cell_type": "code",
     "collapsed": false,
     "input": "#To calculate the energy of excited state\n\n#importing modules\nimport math\nfrom __future__ import division\n\n#Variable declaration\ne = 1.6*10**-19;   #Energy equivalent of 1 eV(J/eV)\nh = 6.626*10**-34;    #Planck's constant(Js)\nc = 3*10**8;    #Speed of light in free space(m/s)\nlamda = 690;    #Wavelength of laser light(nm)\nE_lower = 30.5;    #Energy of lower state(eV)\n\n#Calculation\nlamda = lamda*10**-9;     #Wavelength of laser light(m)\nE = h*c/lamda;    #Energy of the laser light(J)\nE = E/e;     #Energy of the laser light(eV)\nE_ex = E_lower + E;    #Energy of excited state of laser system(eV)\nE_ex = math.ceil(E_ex*10**2)/10**2;     #rounding off the value of E_ex to 2 decimals\n\n#Result\nprint \"The energy of excited state of laser system is\",E_ex, \"eV\"",
     "language": "python",
     "metadata": {},
     "outputs": [
      {
       "output_type": "stream",
       "stream": "stdout",
       "text": "The energy of excited state of laser system is 32.31 eV\n"
      }
     ],
     "prompt_number": 4
    },
    {
     "cell_type": "heading",
     "level": 2,
     "metadata": {},
     "source": "Example number 11.3, Page number 250"
    },
    {
     "cell_type": "code",
     "collapsed": false,
     "input": "#To determine the condition under which stimulated emission equals spontaneous emission\n\n#importing modules\nimport math\nfrom __future__ import division\nimport numpy as np\n\n#Variable declaration\nh = 6.626*10**-34;     #Planck's constant(Js)\nk = 1.38*10**-23;      #Boltzmann constant(J/K)\n\n#Calculation\n#Stimulated Emission = Spontaneous Emission <=> exp(h*f/(k*T))-1 = 1 i.e.\n#f/T = log(2)*k/h = A\nA =  np.log(2)*k/h;     #Frequency per unit temperature(Hz/K)\nA = A/10**10;\nA = math.ceil(A*10**3)/10**3;     #rounding off the value of A to 3 decimals\n\n#Result\nprint \"The stimulated emission equals spontaneous emission iff f/T =\",A,\"*10**10 Hz/k\"",
     "language": "python",
     "metadata": {},
     "outputs": [
      {
       "output_type": "stream",
       "stream": "stdout",
       "text": "The stimulated emission equals spontaneous emission iff f/T = 1.444 *10**10 Hz/k\n"
      }
     ],
     "prompt_number": 7
    },
    {
     "cell_type": "heading",
     "level": 2,
     "metadata": {},
     "source": "Example number 11.4, Page number 250"
    },
    {
     "cell_type": "code",
     "collapsed": false,
     "input": "#To calculate the area of the spot and intensity at the focus \n\n#importing modules\nimport math\nfrom __future__ import division\n\n#Variable declaration\nlamda = 500;     #Wavelength of laser light(nm)\nf = 15;     #Focal length of the lens(cm)\nd = 2;      #Diameter of the aperture of source(cm)\nP = 5;      #Power of the laser(mW)\n\n#Calculation\nP =  P*10**-3;    #Power of the laser(W)\nlamda = lamda*10**-9;      #Wavelength of laser light(m)\nd = d*10**-2;      #Diameter of the aperture of source(m)\nf = f*10**-2;      #Focal length of the lens(m)\na = d/2;    #Radius of the aperture of source(m)\nA = math.pi*lamda**2*f**2/a**2;     #Area of the spot at the focal plane, metre square\nI = P/A;     #Intensity at the focus(W/m**2)\nI = I/10**7;\nI = math.ceil(I*10**4)/10**4;     #rounding off the value of I to 1 decimal\n\n#Result\nprint \"The area of the spot at the focal plane is\",A, \"m**2\"\nprint \"The intensity at the focus is\",I,\"*10**7 W/m**2\"",
     "language": "python",
     "metadata": {},
     "outputs": [
      {
       "output_type": "stream",
       "stream": "stdout",
       "text": "The area of the spot at the focal plane is 1.76714586764e-10 m**2\nThe intensity at the focus is 2.8295 *10**7 W/m**2\n"
      }
     ],
     "prompt_number": 14
    },
    {
     "cell_type": "heading",
     "level": 2,
     "metadata": {},
     "source": "Example number 11.5, Page number 251"
    },
    {
     "cell_type": "code",
     "collapsed": false,
     "input": "#To calculate the energy released per pulse and number of photons\n\n#importing modules\nimport math\nfrom __future__ import division\n\n#Variable declaration\nh = 6.626*10**-34;     #Planck's constant(Js)\nc = 3*10**8;     #Speed of light in free space(m/s)\nlamda = 1064;    #Wavelength of laser light(nm)\nP = 0.8;    #Average power output per laser pulse(W)\ndt = 25;    #Pulse width of laser(ms)\n\n#Calculation\ndt = dt*10**-3;       #Pulse width of laser(s)\nlamda = lamda*10**-9;     #Wavelength of laser light(m)\nE = P*dt;   #Energy released per pulse(J)\nE1 = E*10**3;\nN = E/(h*c/lamda);    #Number of photons in a pulse\n\n#Result\nprint \"The energy released per pulse is\",E1,\"*10**-3 J\"\nprint \"The number of photons in a pulse is\", N\n",
     "language": "python",
     "metadata": {},
     "outputs": [
      {
       "output_type": "stream",
       "stream": "stdout",
       "text": "The energy released per pulse is 20.0 *10**-3 J\nThe number of photons in a pulse is 1.07053023443e+17\n"
      }
     ],
     "prompt_number": 17
    },
    {
     "cell_type": "heading",
     "level": 2,
     "metadata": {},
     "source": "Example number 11.6, Page number 251"
    },
    {
     "cell_type": "code",
     "collapsed": false,
     "input": "#To calculate the angular spread and diameter of the beam\n\n#importing modules\nimport math\nfrom __future__ import division\n\n#Variable declaration\nlamda = 693;     #Wavelength of laser beam(nm)\nD = 3;       #Diameter of laser beam(mm)\nd = 300;    #Height of a satellite above the surface of earth(km)\n\n#Calculation\nD = D*10**-3;    #Diameter of laser beam(m)\nlamda = lamda*10**-9;     #Wavelength of laser beam(m)\nd = d*10**3;     #Height of a satellite above the surface of earth(m)\nd_theta = 1.22*lamda/D;    #Angular spread of laser beam(rad)\ndtheta = d_theta*10**4;\ndtheta = math.ceil(dtheta*10**2)/10**2;     #rounding off the value of dtheta to 2 decimals\na = d_theta*d;      #Diameter of the beam on the satellite(m)\na = math.ceil(a*10)/10;     #rounding off the value of a to 1 decimal\n\n#Result\nprint \"The height of a satellite above the surface of earth is\",dtheta,\"*10**-4 rad\"\nprint \"The diameter of the beam on the satellite is\",a, \"m\"\n",
     "language": "python",
     "metadata": {},
     "outputs": [
      {
       "output_type": "stream",
       "stream": "stdout",
       "text": "The height of a satellite above the surface of earth is 2.82 *10**-4 rad\nThe diameter of the beam on the satellite is 84.6 m\n"
      }
     ],
     "prompt_number": 25
    },
    {
     "cell_type": "code",
     "collapsed": false,
     "input": "",
     "language": "python",
     "metadata": {},
     "outputs": []
    }
   ],
   "metadata": {}
  }
 ]
}