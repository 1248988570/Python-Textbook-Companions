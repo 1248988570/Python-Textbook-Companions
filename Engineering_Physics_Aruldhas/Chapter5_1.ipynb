{
 "metadata": {
  "name": "Chapter5"
 },
 "nbformat": 3,
 "nbformat_minor": 0,
 "worksheets": [
  {
   "cells": [
    {
     "cell_type": "heading",
     "level": 1,
     "metadata": {},
     "source": "5: Polarization"
    },
    {
     "cell_type": "heading",
     "level": 2,
     "metadata": {},
     "source": "Example number 5.1, Page number 113"
    },
    {
     "cell_type": "code",
     "collapsed": false,
     "input": "#To calculate the angle of incidence for complete polarization\n\n#importing modules\nfrom __future__ import division\nimport math\n\n#Variable declaration\nmew_g = 1.72;    #Refractive index of glass\nmew_w = 4/3;      #Refractive index of water\n\n#Calculation\n#For polarization to occur on flint glass, tan(i) = mew_g/mew_w\n#Solving for i\ni_g = math.atan(mew_g/mew_w);      #angle of incidence for complete polarization for flint glass(rad)\na = 180/math.pi;       #conversion factor from radians to degrees\ni_g = i_g*a;      #angle of incidence(degrees)\ni_g = math.ceil(i_g*10**2)/10**2;     #rounding off the value of i_g to 2 decimals\n#For polarization to occur on water, tan(i) = mew_w/mew_g\n#Solving for i\ni_w = math.atan(mew_w/mew_g);     #angle of incidence for complete polarization for water(rad)\ni_w = i_w*a;       #angle of incidence(degrees)\ni_w = math.ceil(i_w*10**3)/10**3;     #rounding off the value of i_w to 3 decimals\n\n#Result\nprint \"The angle of incidence for complete polarization to occur on flint glass is\",i_g, \"degrees\"\nprint \"The angle of incidence for complete polarization to occur on water is\",i_w, \"degrees\"",
     "language": "python",
     "metadata": {},
     "outputs": [
      {
       "output_type": "stream",
       "stream": "stdout",
       "text": "The angle of incidence for complete polarization to occur on flint glass is 52.22 degrees\nThe angle of incidence for complete polarization to occur on water is 37.783 degrees\n"
      }
     ],
     "prompt_number": 5
    },
    {
     "cell_type": "heading",
     "level": 2,
     "metadata": {},
     "source": "Example number 5.2, Page number 113"
    },
    {
     "cell_type": "code",
     "collapsed": false,
     "input": "#To calculate the percentage transmission of incident light\n\n#importing modules\nfrom __future__ import division\nimport math\n\n#Variable declaration\nI0 = 1;    #For simplicity, we assume the intensity of light falling on the second Nicol prism to be unity(W/m**2)\ntheta = 30;    #Angle through which the crossed Nicol is rotated(degrees)\n\n#Calculation\ntheeta = 90-theta;     #angle between the planes of transmission after rotating through 30 degrees\na = math.pi/180;           #conversion factor from degrees to radians\ntheeta = theeta*a;     ##angle between the planes of transmission(rad)\nI = I0*math.cos(theeta)**2;    #Intensity of the emerging light from second Nicol(W/m**2)\nT = (I/(2*I0))*100;    #Percentage transmission of incident light\nT = math.ceil(T*100)/100;     #rounding off the value of T to 2 decimals\n\n#Result\nprint \"The percentage transmission of incident light after emerging through the Nicol prism is\",T, \"%\"",
     "language": "python",
     "metadata": {},
     "outputs": [
      {
       "output_type": "stream",
       "stream": "stdout",
       "text": "The percentage transmission of incident light after emerging through the Nicol prism is 12.51 %\n"
      }
     ],
     "prompt_number": 6
    },
    {
     "cell_type": "heading",
     "level": 2,
     "metadata": {},
     "source": "Example number 5.3, Page number 113"
    },
    {
     "cell_type": "code",
     "collapsed": false,
     "input": "#To calculate the thickness of Quarter Wave plate\n\n#importing modules\nfrom __future__ import division\nimport math\n\n#Variable declaration\nlamda = 6000;    #Wavelength of incident light(A)\nmew_e = 1.55;    #Refractive index of extraordinary ray\nmew_o = 1.54;     #Refractive index of ordinary ray\n\n#Calculation\nlamda = lamda*10**-8;      #Wavelength of incident light(cm)\nt = lamda/(4*(mew_e-mew_o));    #Thickness of Quarter Wave plate of positive crystal(cm)\n\n#Result\nprint \"The thickness of Quarter Wave plate is\",t, \"cm\"",
     "language": "python",
     "metadata": {},
     "outputs": [
      {
       "output_type": "stream",
       "stream": "stdout",
       "text": "The thickness of Quarter Wave plate is 0.0015 cm\n"
      }
     ],
     "prompt_number": 7
    },
    {
     "cell_type": "heading",
     "level": 2,
     "metadata": {},
     "source": "Example number 5.4, Page number 114"
    },
    {
     "cell_type": "code",
     "collapsed": false,
     "input": "#To show the behaviour of the plate\n\n#Calculation\n#the thickness of a half wave plate of calcite for wavelength lamda is\n#t = lamda/(2*(mew_e - mew_o)) = (2*lamda)/(4*(mew_e - mew_o))\n\n#Result\nprint \"The half wave plate for lamda will behave as a quarter wave plate for 2*lamda for negligible variation of refractive index with wavelength\"",
     "language": "python",
     "metadata": {},
     "outputs": [
      {
       "output_type": "stream",
       "stream": "stdout",
       "text": "The half wave plate for lamda will behave as a quarter wave plate for 2*lamda for negligible variation of refractive index with wavelength\n"
      }
     ],
     "prompt_number": 8
    },
    {
     "cell_type": "heading",
     "level": 2,
     "metadata": {},
     "source": "Example number 5.5, Page number 114"
    },
    {
     "cell_type": "code",
     "collapsed": false,
     "input": "#To calculate the phase retardation\n\n#importing modules\nfrom __future__ import division\nimport math\n\n#Variable declaration\nlamda = 500;    #Wavelength of incident light(nm)\nmew_e = 1.5508;    #Refractive index of extraordinary ray\nmew_o = 1.5418;     #Refractive index of ordinary ray\nt = 0.032;     #Thickness of quartz plate(mm)\n\n#Calculation\nlamda = lamda*10**-9;     #Wavelength of incident light(m)\nt = t*10**-3;     #Thickness of quartz plate(m)\ndx = (mew_e - mew_o)*t;    #Path difference between E-ray and O-ray(m)\ndphi = (2*math.pi)/lamda*dx;    #Phase retardation for quartz for given wavelength(rad)\ndphi = dphi/math.pi;\n\n#Result\nprint \"The phase retardation for quartz for given wavelength is\",dphi, \"pi rad\"",
     "language": "python",
     "metadata": {},
     "outputs": [
      {
       "output_type": "stream",
       "stream": "stdout",
       "text": "The phase retardation for quartz for given wavelength is 1.152 pi rad\n"
      }
     ],
     "prompt_number": 9
    },
    {
     "cell_type": "heading",
     "level": 2,
     "metadata": {},
     "source": "Example number 5.6, Page number 114"
    },
    {
     "cell_type": "code",
     "collapsed": false,
     "input": "#To calculate the Brewster angle at the boundary\n\n#importing modules\nimport math\n\n#Variable declaration\nC = 52;    #Critical angle for total internal reflection(degrees)\n\n#Calculation\na = math.pi/180;           #conversion factor from degrees to radians\nC = C*a;      #Critical angle for total internal reflection(rad)\n#From Brewster's law, math.tan(i_B) = 1_mew_2\n#Also math.sin(C) = 1_mew_2, so that math.tan(i_B) = math.sin(C), solving for i_B\ni_B = math.atan(math.sin(C));    #Brewster angle at the boundary(rad)\nb = 180/math.pi;           #conversion factor from radians to degrees\ni_B = i_B*b;     #Brewster angle at the boundary(degrees)\n\n#Result\nprint \"The Brewster angle at the boundary between two materials is\",int(i_B), \"degrees\"",
     "language": "python",
     "metadata": {},
     "outputs": [
      {
       "output_type": "stream",
       "stream": "stdout",
       "text": "The Brewster angle at the boundary between two materials is 38 degrees\n"
      }
     ],
     "prompt_number": 13
    },
    {
     "cell_type": "code",
     "collapsed": false,
     "input": "",
     "language": "python",
     "metadata": {},
     "outputs": [],
     "prompt_number": 10
    }
   ],
   "metadata": {}
  }
 ]
}