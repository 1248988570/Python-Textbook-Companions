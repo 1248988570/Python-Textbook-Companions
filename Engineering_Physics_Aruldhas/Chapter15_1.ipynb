{
 "metadata": {
  "name": "Chapter15"
 },
 "nbformat": 3,
 "nbformat_minor": 0,
 "worksheets": [
  {
   "cells": [
    {
     "cell_type": "heading",
     "level": 1,
     "metadata": {},
     "source": "15: Thermal Properties "
    },
    {
     "cell_type": "heading",
     "level": 2,
     "metadata": {},
     "source": "Example number 15.1, Page number 323"
    },
    {
     "cell_type": "code",
     "collapsed": false,
     "input": "#To calculate the Debye temperature\n\n#importing modules\nimport math\nfrom __future__ import division\n\n#Variable declaration\nk = 1.38*10**-23;      #Boltzmann constant(J/K)\nh = 6.626*10**-34;      #Planck's constant(Js)\nf_D = 64*10**11;         #Debye frequency for Al(Hz)\n\n#Calculation\ntheta_D = h*f_D/k;     #Debye temperature(K)\ntheta_D = math.ceil(theta_D*10)/10;     #rounding off the value of theta_D to 1 decimal\n\n#Result\nprint \"The Debye temperature of aluminium is\",theta_D, \"K\"",
     "language": "python",
     "metadata": {},
     "outputs": [
      {
       "output_type": "stream",
       "stream": "stdout",
       "text": "The Debye temperature of aluminium is 307.3 K\n"
      }
     ],
     "prompt_number": 2
    },
    {
     "cell_type": "heading",
     "level": 2,
     "metadata": {},
     "source": "Example number 15.2, Page number 323"
    },
    {
     "cell_type": "code",
     "collapsed": false,
     "input": "#To calculate the lattice specific heat\n\n#importing modules\nimport math\nfrom __future__ import division\n\n#Variable declaration\nN = 6.02*10**26;    #Avogadro's number(per kmol)\nk = 1.38*10**-23;    #Boltzmann constant(J/K)\nh = 6.626*10**-34;    #Planck's constant(Js)\nf_D = 40.5*10**12;     #Debye frequency for Al(Hz)\nT = 30;        #Temperature of carbon(Ks)\n\n#Calculation\ntheta_D = h*f_D/k;      #Debye temperature(K)\nC_l = 12/5*math.pi**4*N*k*(T/theta_D)**3;       #Lattice specific heat of carbon(J/k-mol/K)\nC_l = math.ceil(C_l*10**3)/10**3;     #rounding off the value of C_l to 3 decimals\n\n#Result\nprint \"The lattice specific heat of carbon is\",C_l, \"J/k-mol/K\"\n\n#answer given in the book is wrong in the 2nd decimal",
     "language": "python",
     "metadata": {},
     "outputs": [
      {
       "output_type": "stream",
       "stream": "stdout",
       "text": "The lattice specific heat of carbon is 7.132 J/k-mol/K\n"
      }
     ],
     "prompt_number": 3
    },
    {
     "cell_type": "heading",
     "level": 2,
     "metadata": {},
     "source": "Example number 15.3, Page number 323"
    },
    {
     "cell_type": "code",
     "collapsed": false,
     "input": "#To show that the frequency falls in the infrared region\n\n#importing modules\nimport math\nfrom __future__ import division\n\n#Variable declaration\nk = 1.38*10**-23;       #Boltzmann constant(J/K)\nh = 6.626*10**-34;      #Planck's constant(Js)\ntheta_E = 1990;        #Einstein temperature of Cu(K)\n\n#Calculation\nf_E = k*theta_E/h;     #Einstein frequency for Cu(K)\n\n#Result\nprint \"The Einstein frequency for Cu is\",f_E, \"Hz\"\nprint \"The frequency falls in the near infrared region\"",
     "language": "python",
     "metadata": {},
     "outputs": [
      {
       "output_type": "stream",
       "stream": "stdout",
       "text": "The Einstein frequency for Cu is 4.14458194989e+13 Hz\nThe frequency falls in the near infrared region\n"
      }
     ],
     "prompt_number": 4
    },
    {
     "cell_type": "heading",
     "level": 2,
     "metadata": {},
     "source": "Example number 15.4, Page number 323"
    },
    {
     "cell_type": "code",
     "collapsed": false,
     "input": "#To calculate the electronic and lattice heat capacities\n\n#importing modules\nimport math\nfrom __future__ import division\n\n#Variable declaration\ne = 1.6*10**-19;     #Energy equivalent of 1 eV(J/eV)\nN = 6.02*10**23;      #Avogadro's number(per mol)\nT = 0.05;       #Temperature of Cu(K)\nE_F = 7;       #Fermi energy of Cu(eV)\nk = 1.38*10**-23;     #Boltzmann constant(J/K)\nh = 6.626*10**-34;     #Planck's constant(Js)\ntheta_D = 348;      #Debye temperature of Cu(K)\n\n#Calculation\nC_e = math.pi**2*N*k**2*T/(2*E_F*e);     #Electronic heat capacity of Cu(J/mol/K)\nC_V = (12/5)*math.pi**4*(N*k)*(T/theta_D)**3;      #Lattice heat capacity of Cu(J/mol/K)\n\n#Result\nprint \"The electronic heat capacity of Cu is\",C_e, \"J/mol/K\"\nprint \"The lattice heat capacity of Cu is\",C_V, \"J/mol/K\"\n\n#answer for lattice heat capacity given in the book is wrong",
     "language": "python",
     "metadata": {},
     "outputs": [
      {
       "output_type": "stream",
       "stream": "stdout",
       "text": "The electronic heat capacity of Cu is 2.52566877726e-05 J/mol/K\nThe lattice heat capacity of Cu is 5.76047891492e-09 J/mol/K\n"
      }
     ],
     "prompt_number": 5
    },
    {
     "cell_type": "heading",
     "level": 2,
     "metadata": {},
     "source": "Example number 15.5, Page number 324"
    },
    {
     "cell_type": "code",
     "collapsed": false,
     "input": "#To calculate the heat capacity\n\n#importing modules\nimport math\nfrom __future__ import division\n\n#Variable declaration\nT = 1;      #For simplicity assume temperature to be unity(K)\nR = 1;      #For simplicity assume molar gas constant to be unity(J/mol/K)\ntheta_E = T;    #Einstein temperature(K)\n\n#Calculation\nC_V = 3*R*(theta_E/T)**2*math.exp(theta_E/T)/(math.exp(theta_E/T)-1)**2;    #Einstein lattice specific heat(J/mol/K)\nC_V = C_V/3;\nC_V = math.ceil(C_V*10**3)/10**3;     #rounding off the value of C_V to 3 decimals\n\n#Result\nprint \"The Einstein lattice specific heat is\",C_V, \"X 3R\"",
     "language": "python",
     "metadata": {},
     "outputs": [
      {
       "output_type": "stream",
       "stream": "stdout",
       "text": "The Einstein lattice specific heat is 0.921 X 3R\n"
      }
     ],
     "prompt_number": 6
    },
    {
     "cell_type": "heading",
     "level": 2,
     "metadata": {},
     "source": "Example number 15.6, Page number 324"
    },
    {
     "cell_type": "code",
     "collapsed": false,
     "input": "#To calculate the molar electronic heat capacity\n\n#importing modules\nimport math\nfrom __future__ import division\n\n#Variable declaration\ne = 1.6*10**-19;      #Energy equivalent of 1 eV(J/eV)\nv = 2;     #Valency of Zn atom\nN = v*6.02*10**23;      #Avogadro's number(per mol)\nT = 300;     #Temperature of Zn(K)\nE_F = 9.38;     #Fermi energy of Zn(eV)\nk = 1.38*10**-23;    #Boltzmann constant(J/K)\nh = 6.626*10**-34;    #Planck's constant(Js)\n\n#Calculation\nN = v*6.02*10**23;      #Avogadro's number(per mol)\nC_e = math.pi**2*N*k**2*T/(2*E_F*e);    #Electronic heat capacity of Zn(J/mol/K)\nC_e = math.ceil(C_e*10**4)/10**4;     #rounding off the value of C_e to 4 decimals\n\n#Result\nprint \"The molar electronic heat capacity of zinc is\",C_e, \"J/mol/K\"",
     "language": "python",
     "metadata": {},
     "outputs": [
      {
       "output_type": "stream",
       "stream": "stdout",
       "text": "The molar electronic heat capacity of zinc is 0.2262 J/mol/K\n"
      }
     ],
     "prompt_number": 8
    },
    {
     "cell_type": "code",
     "collapsed": false,
     "input": "",
     "language": "python",
     "metadata": {},
     "outputs": []
    }
   ],
   "metadata": {}
  }
 ]
}