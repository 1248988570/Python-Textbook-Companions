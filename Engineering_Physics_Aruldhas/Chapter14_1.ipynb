{
 "metadata": {
  "name": "Chapter14"
 },
 "nbformat": 3,
 "nbformat_minor": 0,
 "worksheets": [
  {
   "cells": [
    {
     "cell_type": "heading",
     "level": 1,
     "metadata": {},
     "source": "14: Magnetic Properties of Materials"
    },
    {
     "cell_type": "heading",
     "level": 2,
     "metadata": {},
     "source": "Example number 14.1, Page number 306"
    },
    {
     "cell_type": "code",
     "collapsed": false,
     "input": "#To calculate the spontaneous magnetisation\n\n#importing modules\nimport math\nfrom __future__ import division\n\n#Variable declaration\nN = 6.02*10**23;      #Avogadro's number(per mole)\nA = 56;      #Atomic weight of the substance(g/mole)\nd = 7.9;     #Density of the substance(g/cm**3)\nm_B = 9.27*10**-24;     #Bohr's Magneton(J/T)\n\n#Calculation\nm = 2.2*m_B;       #Magnetic moment of substance(J/T)\nn = d*N/A ;      #Number of atoms per unit volume of the substance(per cm**3)\nn = n*10**6;     #Number of atoms per unit volume of the substance(per m**3)\nM = n*m;         #Spontaneous magnetisation of the substance(A/m)\nM = M/10**6;\nM = math.ceil(M*10**3)/10**3;     #rounding off the value of M to 3 decimals\n\n#Result\nprint \"The spontaneous magnetisation of the substance is\",M,\"*10**6 A/m\"",
     "language": "python",
     "metadata": {},
     "outputs": [
      {
       "output_type": "stream",
       "stream": "stdout",
       "text": "The spontaneous magnetisation of the substance is 1.732 *10**6 A/m\n"
      }
     ],
     "prompt_number": 5
    },
    {
     "cell_type": "heading",
     "level": 2,
     "metadata": {},
     "source": "Example number 14.2, Page number 307"
    },
    {
     "cell_type": "code",
     "collapsed": false,
     "input": "#To calculate the relative permeability\n\n#importing modules\nimport math\nfrom __future__ import division\n\n#Variable declaration\nH = 200;        #Field strength to which the ferromagnetic material is subjected(A/m)\nM = 3100;       #Magnetisation of the ferromagnetic material(A/m)\n\n#Calculation\nchi = M/H;      #Magnetic susceptibility\nmew_r = 1 + chi;    #Relative permeability of ferromagnetic material\n\n#Result\nprint \"The relative permeability of ferromagnetic material is\",mew_r",
     "language": "python",
     "metadata": {},
     "outputs": [
      {
       "output_type": "stream",
       "stream": "stdout",
       "text": "The relative permeability of ferromagnetic material is 16.5\n"
      }
     ],
     "prompt_number": 6
    },
    {
     "cell_type": "heading",
     "level": 2,
     "metadata": {},
     "source": "Example number 14.3, Page number 307"
    },
    {
     "cell_type": "code",
     "collapsed": false,
     "input": "#To calculate the relative permeability\n\n#importing modules\nimport math\nfrom __future__ import division\n\n#Variable declaration\nH = 300;        #Field strength to which the ferromagnetic material is subjected(A/m)\nM = 4400;       #Magnetisation of the ferromagnetic material(A/m)\n\n#Calculation\nchi = M/H;      #Magnetic susceptibility\nmew_r = 1 + chi;    #Relative permeability of ferromagnetic material\nmew_r = math.ceil(mew_r*100)/100;     #rounding off the value of mew_r to 2 decimals\n\n#Result\nprint \"The relative permeability of ferromagnetic material is\",mew_r\n",
     "language": "python",
     "metadata": {},
     "outputs": [
      {
       "output_type": "stream",
       "stream": "stdout",
       "text": "The relative permeability of ferromagnetic material is 15.67\n"
      }
     ],
     "prompt_number": 7
    },
    {
     "cell_type": "heading",
     "level": 2,
     "metadata": {},
     "source": "Example number 14.4, Page number 307"
    },
    {
     "cell_type": "code",
     "collapsed": false,
     "input": "#To calculate the magnetisation and flux density\n\n#importing modules\nimport math\n\n#Variable declaration\nmew_0 = 4*math.pi*10**-7;       #Magnetic permeability of free space(Tm/A)\nH = 10000;         #Field strength to which the diamagnetic material is subjected(A/m)\nchi = -0.4*10**-5;       #Magnetic susceptibility\n\n#Calculation\nM = chi*H;        #Magnetisation of the diamagnetic material(A/m)\nB = mew_0*(H + M);      #Magnetic flux density of diamagnetic material(T)\nB = math.ceil(B*10**4)/10**4;     #rounding off the value of B to 4 decimals\n\n#Result\nprint \"The magnetisation of diamagnetic material is\",M, \"A/m\"\nprint \"The magnetic flux density of diamagnetic material is\",B, \"T\"",
     "language": "python",
     "metadata": {},
     "outputs": [
      {
       "output_type": "stream",
       "stream": "stdout",
       "text": "The magnetisation of diamagnetic material is -0.04 A/m\nThe magnetic flux density of diamagnetic material is 0.0126 T\n"
      }
     ],
     "prompt_number": 8
    },
    {
     "cell_type": "heading",
     "level": 2,
     "metadata": {},
     "source": "Example number 14.5, Page number 307"
    },
    {
     "cell_type": "code",
     "collapsed": false,
     "input": "#To calculate the magnetisation, relative permeability and flux density\n\n#importing modules\nimport math\nfrom __future__ import division\n\n#Variable declaration\nmew_0 = 4*math.pi*10**-7;      #Magnetic permeability of free space(Tm/A)\nH = 1.2*10**5;      #Field strength to which the diamagnetic material is subjected(A/m)\nchi = -4.2*10**-6;      #Magnetic susceptibility\n\n#Calculation\nM = chi*H;      #Magnetisation of the diamagnetic material(A/m)\nB = mew_0*(H + M);     #Magnetic flux density of diamagnetic material(T)\nB = math.ceil(B*10**3)/10**3;     #rounding off the value of B to 3 decimals\nmew_r = M/H + 1;       #The relative permeability of diamagnetic material\nmew_r = math.ceil(mew_r*10**6)/10**6;     #rounding off the value of mew_r to 6 decimals\n\n#Result\nprint \"The magnetisation of diamagnetic material is\",M, \"A/m\"\nprint \"The magnetic flux density of diamagnetic material is\",B, \"T\"\nprint \"The relative permeability of diamagnetic material is\",mew_r\n",
     "language": "python",
     "metadata": {},
     "outputs": [
      {
       "output_type": "stream",
       "stream": "stdout",
       "text": "The magnetisation of diamagnetic material is -0.504 A/m\nThe magnetic flux density of diamagnetic material is 0.151 T\nThe relative permeability of diamagnetic material is 0.999996\n"
      }
     ],
     "prompt_number": 10
    },
    {
     "cell_type": "heading",
     "level": 2,
     "metadata": {},
     "source": "Example number 14.6, Page number 308"
    },
    {
     "cell_type": "code",
     "collapsed": false,
     "input": "#To calculate the mean radius of the atom\n\n#importing modules\nimport math\nfrom __future__ import division\n\n#Variable declaration\nchi = 5.6*10**-6;      #Magnetic susceptibility of diamagnetic material\nm = 9.1*10**-31;      #Mass of an electron(kg)\nmew_0 = 4*math.pi*10**-7;      #Magnetic permeability of free space(Tm/A)\nZ = 1;      #Atomic number\ne = 1.6*10**-19;     #Electronic charge(C)\na = 2.53;     #Lattice parameter of bcc structure(A)\n\n#Calculation\na = a*10**-10;    #Lattice parameter of bcc structure(m)\nN = 2/a**3;       #The number of electrons per unit volume(per metre cube)\nr = math.sqrt(chi*6*m/(mew_0*Z*e**2*N));    #Mean radius of body centered cubic structure(m)\nr = r*10**10;      #Mean radius of body centered cubic structure(A)\nr = math.ceil(r*100)/100;     #rounding off the value of r to 2 decimals\n\n#Result\nprint \"The mean radius of body centered cubic structure is\",r, \"A\"",
     "language": "python",
     "metadata": {},
     "outputs": [
      {
       "output_type": "stream",
       "stream": "stdout",
       "text": "The mean radius of body centered cubic structure is 0.88 A\n"
      }
     ],
     "prompt_number": 11
    },
    {
     "cell_type": "heading",
     "level": 2,
     "metadata": {},
     "source": "Example number 14.7, Page number 308"
    },
    {
     "cell_type": "code",
     "collapsed": false,
     "input": "#To calculate the magnetic susceptibility and magnetisation\n\n#importing modules\nimport math\nfrom __future__ import division\n\n#Variable declaration\nmew_0 = 4*math.pi*10**-7;     #Magnetic permeability of free space(Tm/A)\nN_A = 6.02*10**26;       #Avogadro's number(per kmol)\nrho = 4370;       #Density of paramegnetic salt(kg/metre cube)\nM = 168.5;      #Molecular weight of paramagnetic salt(g/mol)\nT = 27;     #Temperature of paramagnetic salt(C)\nH = 2*10**5;     #Field strength to which the  paramagnetic salt is subjected(A/m)\nmew_B = 9.27*10**-24;      #Bohr's magneton(Am**2)\np = 2;          #Number of Bohr magnetons per molecule\nk = 1.38*10**-23;      #Boltzmann constant(J/K)\n\n#Calculation\nT = T+273;     #Temperature of paramagnetic salt(K)\nN = rho*N_A/M;       #Total density of atoms in the paramagnetic salt(per meter cube)\nchi_para = mew_0*N*p**2*mew_B**2/(3*k*T);      #Magnetic susceptibility of paramagnetic salt\nchi_para = chi_para*10**4;\nchi_para = math.ceil(chi_para*10**2)/10**2;     #rounding off the value of chi_para to 2 decimals\nM = chi*H;       #Magnetisation of paramagnetic salt(A/m)\nM = math.ceil(M*10)/10;     #rounding off the value of M to 1 decimal\n\n#Result\nprint \"The magnetic susceptibility of paramagnetic salt is\",chi_para,\"*10**-4\"\nprint \"The magnetisation of paramagnetic salt is\",M, \"A/m\"\n\n#answer for magnetisation is not given in the textbook",
     "language": "python",
     "metadata": {},
     "outputs": [
      {
       "output_type": "stream",
       "stream": "stdout",
       "text": "The magnetic susceptibility of paramagnetic salt is 5.43 *10**-4\nThe magnetisation of paramagnetic salt is 1.2 A/m\n"
      }
     ],
     "prompt_number": 14
    },
    {
     "cell_type": "code",
     "collapsed": false,
     "input": "",
     "language": "python",
     "metadata": {},
     "outputs": []
    }
   ],
   "metadata": {}
  }
 ]
}