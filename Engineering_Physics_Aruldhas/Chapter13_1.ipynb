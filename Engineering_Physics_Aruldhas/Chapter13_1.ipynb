{
 "metadata": {
  "name": "Chapter13"
 },
 "nbformat": 3,
 "nbformat_minor": 0,
 "worksheets": [
  {
   "cells": [
    {
     "cell_type": "heading",
     "level": 1,
     "metadata": {},
     "source": "13: Dielectric Properties of Materials"
    },
    {
     "cell_type": "heading",
     "level": 2,
     "metadata": {},
     "source": "Example number 13.1, Page number 287"
    },
    {
     "cell_type": "code",
     "collapsed": false,
     "input": "#To calculate the electronic polarizability \n\n#importing modules\nimport math\n\n#Variable declaration\nepsilon_0 = 8.85*10**-12;    #Absolute electrical permittivity of free space(F/m)\nR = 0.52;       #Radius of hydrogen atom(A)\nn = 9.7*10**26;      #Number density of hydrogen(per metre cube)\n\n#Calculation\nR = R*10**-10;       #Radius of hydrogen atom(m)\nalpha_e = 4*math.pi*epsilon_0*R**3;      #Electronic polarizability of hydrogen atom(Fm**2)\n\n#Result\nprint \"The electronic polarizability of hydrogen atom is\", alpha_e, \"Fm**2\"",
     "language": "python",
     "metadata": {},
     "outputs": [
      {
       "output_type": "stream",
       "stream": "stdout",
       "text": "The electronic polarizability of hydrogen atom is 1.56373503182e-41 Fm**2\n"
      }
     ],
     "prompt_number": 1
    },
    {
     "cell_type": "heading",
     "level": 2,
     "metadata": {},
     "source": "Example number 13.2, Page number 287"
    },
    {
     "cell_type": "code",
     "collapsed": false,
     "input": "#To calculate the capacitance of capacitor and charge on the plates\n\n#importing modules\nimport math\nfrom __future__ import division\n\n#Variable declaration\nepsilon_0 = 8.854*10**-12;    #Absolute electrical permittivity of free space(F/m)\nA = 100;      #Area of a plate of parallel plate capacitor(cm**2)\nd = 1;     #Distance between the plates of the capacitor(cm)\nV = 100;    #Potential applied to the plates of the capacitor(V)\n\n#Calculation\nA= A*10**-4;     #Area of a plate of parallel plate capacitor(m**2)\nd = d*10**-2;     #Distance between the plates of the capacitor(m)\nC = epsilon_0*A/d;     #Capacitance of parallel plate capacitor(F)\nQ = C*V;      #Charge on the plates of the capacitor(C)\n\n#Result\nprint \"The capacitance of parallel plate capacitor is\",C, \"F\"\nprint \"The charge on the plates of the capacitor is\",Q, \"C\"\n",
     "language": "python",
     "metadata": {},
     "outputs": [
      {
       "output_type": "stream",
       "stream": "stdout",
       "text": "The capacitance of parallel plate capacitor is 8.854e-12 F\nThe charge on the plates of the capacitor is 8.854e-10 C\n"
      }
     ],
     "prompt_number": 2
    },
    {
     "cell_type": "heading",
     "level": 2,
     "metadata": {},
     "source": "Example number 13.3, Page number 288"
    },
    {
     "cell_type": "code",
     "collapsed": false,
     "input": "#To calculate the dielectric displacement\n\n#importing modules\nimport math\nfrom __future__ import division\n\n#Variable declaration\nepsilon_0 = 8.854*10**-12;     #Absolute electrical permittivity of free space(F/m)\nepsilon_r = 5.0;     #Dielectric constant of the material between the plates of capacitor\nV = 15;      #Potential difference applied between the plates of the capacitor(V)\nd = 1.5;     #Separation between the plates of the capacitor(mm)\n\n#Calculation\nd = d*10**-3;      #Separation between the plates of the capacitor(m)\n#Electric displacement, D = epsilon_0*epsilon_r*E, as E = V/d, so \nD = epsilon_0*epsilon_r*V/d;      #Dielectric displacement(C/m**2)\n\n#Result\nprint \"The dielectric displacement is\",D, \"C/m**2\"",
     "language": "python",
     "metadata": {},
     "outputs": [
      {
       "output_type": "stream",
       "stream": "stdout",
       "text": "The dielectric displacement is 4.427e-07 C/m**2\n"
      }
     ],
     "prompt_number": 3
    },
    {
     "cell_type": "heading",
     "level": 2,
     "metadata": {},
     "source": "Example number 13.4, Page number 288"
    },
    {
     "cell_type": "code",
     "collapsed": false,
     "input": "#To calculate the relative dielectric constant\n\n#importing modules\nimport math\nfrom __future__ import division\n\n#Variable declaration\nepsilon_0 = 8.854*10**-12;      #Absolute electrical permittivity of free space(F/m)\nN = 3*10**28;       #Number density of solid elemental dielectric(atoms/metre cube)\nalpha_e = 10**-40;      #Electronic polarizability(Fm**2)\n\n#Calculation\nepsilon_r = 1 + (N*alpha_e/epsilon_0);      #Relative dielectric constant of the material\nepsilon_r = math.ceil(epsilon_r*10**3)/10**3;     #rounding off the value of epsilon_r to 3 decimals\n\n#Result\nprint \"The Relative dielectric constant of the material is\",epsilon_r\n",
     "language": "python",
     "metadata": {},
     "outputs": [
      {
       "output_type": "stream",
       "stream": "stdout",
       "text": "The Relative dielectric constant of the material is 1.339\n"
      }
     ],
     "prompt_number": 5
    },
    {
     "cell_type": "heading",
     "level": 2,
     "metadata": {},
     "source": "Example number 13.5, Page number 288"
    },
    {
     "cell_type": "code",
     "collapsed": false,
     "input": "#To calculate the electronic polarizability\n\n#importing modules\nimport math\nfrom __future__ import division\n\n#Variable declaration\nN_A = 6.02*10**23;     #Avogadro's number(per mole)\nepsilon_0 = 8.854*10**-12;     #Absolute electrical permittivity of free space(F/m)\nepsilon_r = 3.75;      #Relative dielectric constant\nd = 2050;      #Density of sulphur(kg/metre cube)\ny = 1/3;      #Internal field constant\nM = 32;      #Atomic weight of sulphur(g/mol)\n\n#Calculation\nN = N_A*10**3*d/M;      #Number density of atoms of sulphur(per metre cube)\n#Lorentz relation for local fields give E_local = E + P/(3*epsilon_0) which gives\n#(epsilon_r - 1)/(epsilon_r + 2) = N*alpha_e/(3*epsilon_0), solving for alpha_e\nalpha_e = (epsilon_r - 1)/(epsilon_r + 2)*3*epsilon_0/N;      #Electronic polarizability of sulphur(Fm**2)\n\n#Result\nprint \"The electronic polarizability of sulphur is\",alpha_e, \"Fm**2\"",
     "language": "python",
     "metadata": {},
     "outputs": [
      {
       "output_type": "stream",
       "stream": "stdout",
       "text": "The electronic polarizability of sulphur is 3.2940125351e-40 Fm**2\n"
      }
     ],
     "prompt_number": 6
    },
    {
     "cell_type": "heading",
     "level": 2,
     "metadata": {},
     "source": "Example number 13.6, Page number 289"
    },
    {
     "cell_type": "code",
     "collapsed": false,
     "input": "#To calculate the electronic polarizability\n\n#importing modules\nimport math\nfrom __future__ import division\n\n#Variable declaration\nN = 3*10**28;      #Number density of atoms of dielectric material(per metre cube)\nepsilon_0 = 8.854*10**-12;     #Absolute electrical permittivity of free space(F/m)\nn = 1.6;     #Refractive index of dielectric material\n\n#Calculation\n#As (n^2 - 1)/(n^2 + 2) = N*alpha_e/(3*epsilon_0), solving for alpha_e\nalpha_e = (n**2 - 1)/(n**2 + 2)*3*epsilon_0/N;      #Electronic polarizability of dielectric material(Fm**2)\n\n#Result\nprint \"The electronic polarizability of dielectric material is\",alpha_e, \"Fm**2\"",
     "language": "python",
     "metadata": {},
     "outputs": [
      {
       "output_type": "stream",
       "stream": "stdout",
       "text": "The electronic polarizability of dielectric material is 3.029e-40 Fm**2\n"
      }
     ],
     "prompt_number": 8
    },
    {
     "cell_type": "heading",
     "level": 2,
     "metadata": {},
     "source": "Example number 13.7, Page number 289"
    },
    {
     "cell_type": "code",
     "collapsed": false,
     "input": "#To calculate the ratio of electronic polarizability to ionic polarizability\n\n#importing modules\nimport math\nfrom __future__ import division\n\n#Variable declaration\nepsilon_r = 4.9;       #Absolute relative dielectric constant of material(F/m)\nn = 1.6;       #Refractive index of dielectric material\n\n#Calculation\n#As (n^2 - 1)/(n^2 + 2)*(alpha_e + alpha_i)/alpha_e = N*(alpha_e + alpha_i)/(3*epsilon_0) = (epsilon_r - 1)/(epsilon_r + 2)\n#let alpha_ratio = alpha_i/alpha_e\nalpha_ratio = ((epsilon_r - 1)/(epsilon_r + 2)*(n**2 + 2)/(n**2 - 1) - 1)**(-1);  #Ratio of electronic polarizability to ionic polarizability\nalpha_ratio = math.ceil(alpha_ratio*10**3)/10**3;     #rounding off the value of alpha_ratio to 3 decimals\n\n#Result\nprint \"The ratio of electronic polarizability to ionic polarizability is\",alpha_ratio",
     "language": "python",
     "metadata": {},
     "outputs": [
      {
       "output_type": "stream",
       "stream": "stdout",
       "text": "The ratio of electronic polarizability to ionic polarizability is 1.534\n"
      }
     ],
     "prompt_number": 9
    },
    {
     "cell_type": "code",
     "collapsed": false,
     "input": "",
     "language": "python",
     "metadata": {},
     "outputs": []
    }
   ],
   "metadata": {}
  }
 ]
}