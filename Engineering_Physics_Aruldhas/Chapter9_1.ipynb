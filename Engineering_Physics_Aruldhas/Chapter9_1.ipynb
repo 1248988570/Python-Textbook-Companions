{
 "metadata": {
  "name": "Chapter9"
 },
 "nbformat": 3,
 "nbformat_minor": 0,
 "worksheets": [
  {
   "cells": [
    {
     "cell_type": "heading",
     "level": 1,
     "metadata": {},
     "source": "9: Quantum Mechanics"
    },
    {
     "cell_type": "heading",
     "level": 2,
     "metadata": {},
     "source": "Example number 9.1, Page number 202"
    },
    {
     "cell_type": "code",
     "collapsed": false,
     "input": "#To calculate the De-Broglie wavelength of electron\n\n#importing modules\nimport math\nfrom __future__ import division\n\n#Variable declaration\nV = 100;     #Accelerating potential for electron(volt)\n\n#Calculation\nlamda = math.sqrt(150/V)*10**-10;     #de-Broglie wavelength of electron(m)\n\n#Result\nprint \"The De-Broglie wavelength of electron is\",lamda, \"m\"",
     "language": "python",
     "metadata": {},
     "outputs": [
      {
       "output_type": "stream",
       "stream": "stdout",
       "text": "The De-Broglie wavelength of electron is 1.22474487139e-10 m\n"
      }
     ],
     "prompt_number": 1
    },
    {
     "cell_type": "heading",
     "level": 2,
     "metadata": {},
     "source": "Example number 9.2, Page number 203"
    },
    {
     "cell_type": "code",
     "collapsed": false,
     "input": "#To calculate the De-Broglie wavelength of electron\n\n#importing modules\nimport math\nfrom __future__ import division\n\n#Variable declaration\ne = 1.6*10**-19;     #Energy equivalent of 1 eV(J/eV)\nh = 6.626*10**-34;    #Planck's constant(Js)\nm = 9.11*10**-31;     #Mass of the electron(kg)\nEk = 10;     #Kinetic energy of electron(eV)\n\n#Calculation\np = math.sqrt(2*m*Ek*e);     #Momentum of the electron(kg-m/s)\nlamda = h/p ;     #de-Broglie wavelength of electron from De-Broglie relation(m)\nlamda = lamda*10**9;     #de-Broglie wavelength of electron from De-Broglie relation(nm)\nlamda = math.ceil(lamda*10**2)/10**2;     #rounding off the value of lamda to 2 decimals\n\n#Result\nprint \"The de-Broglie wavelength of electron is\",lamda, \"nm\"",
     "language": "python",
     "metadata": {},
     "outputs": [
      {
       "output_type": "stream",
       "stream": "stdout",
       "text": "The de-Broglie wavelength of electron is 0.39 nm\n"
      }
     ],
     "prompt_number": 2
    },
    {
     "cell_type": "heading",
     "level": 2,
     "metadata": {},
     "source": "Example number 9.3, Page number 203. theoritical proof"
    },
    {
     "cell_type": "heading",
     "level": 2,
     "metadata": {},
     "source": "Example number 9.4, Page number 203"
    },
    {
     "cell_type": "code",
     "collapsed": false,
     "input": "#To calculate the uncertainty in position of electron\n\n#importing modules\nimport math\nfrom __future__ import division\n\n#Variable declaration\nh = 6.626*10**-34;      #Planck's constant(Js)\nm = 9.11*10**-31;       #Mass of the electron(kg)\nv = 1.1*10**6;     #Speed of the electron(m/s)\npr = 0.1;        #precision in percent\n\n#Calculation\np = m*v;     #Momentum of the electron(kg-m/s)\ndp = pr/100*p;    #Uncertainty in momentum(kg-m/s)\nh_bar = h/(2*math.pi);     #Reduced Planck's constant(Js)\ndx = h_bar/(2*dp);         #Uncertainty in position(m)\n\n#Result\nprint \"The uncertainty in position of electron is\",dx, \"m\"",
     "language": "python",
     "metadata": {},
     "outputs": [
      {
       "output_type": "stream",
       "stream": "stdout",
       "text": "The uncertainty in position of electron is 5.26175358211e-08 m\n"
      }
     ],
     "prompt_number": 3
    },
    {
     "cell_type": "heading",
     "level": 2,
     "metadata": {},
     "source": "Example number 9.5, Page number 203"
    },
    {
     "cell_type": "code",
     "collapsed": false,
     "input": "#To calculate the uncertainty in energy of the excited state\n\n#importing modules\nimport math\nfrom __future__ import division\n\n#Variable declaration\ne = 1.6*10**-19;     #Energy equivalent of 1 eV(J/eV)\nh = 6.626*10**-34;    #Planck's constant(Js)\ndt = 10**-8;      #Uncertainty in time(s)\n\n#Calculation\nh_bar = h/(2*math.pi);    #Reduced Planck's constant(Js)\ndE = h_bar/(2*dt*e);       #Uncertainty in energy of the excited state(m)\n\n#Result\nprint \"The uncertainty in energy of the excited state is\",dE, \"eV\"\n\n#answer given in the book is wrong",
     "language": "python",
     "metadata": {},
     "outputs": [
      {
       "output_type": "stream",
       "stream": "stdout",
       "text": "The uncertainty in energy of the excited state is 3.2955020404e-08 eV\n"
      }
     ],
     "prompt_number": 4
    },
    {
     "cell_type": "heading",
     "level": 2,
     "metadata": {},
     "source": "Example number 9.6, Page number 204"
    },
    {
     "cell_type": "code",
     "collapsed": false,
     "input": "#To calculate the width of spectral line\n\n#importing modules\nimport math\nfrom __future__ import division\n\n#Variable declaration\nc = 3*10**8;      #Speed of light(m/s)\ndt = 10**-8;      #Average lifetime(s)\nlamda = 400;    #Wavelength of spectral line(nm)\n\n#Calculation\nlamda = lamda*10**-9;      #Wavelength of spectral line(m)\n#From Heisenberg uncertainty principle,\n#dE = h_bar/(2*dt) and also dE = h*c/lambda^2*d_lambda, which give\n#h_bar/(2*dt) = h*c/lambda^2*d_lambda, solving for d_lambda\nd_lamda = (lamda**2)/(4*math.pi*c*dt);     #Width of spectral line(m)\n\n#Result\nprint \"The width of spectral line is\",d_lamda, \"m\"",
     "language": "python",
     "metadata": {},
     "outputs": [
      {
       "output_type": "stream",
       "stream": "stdout",
       "text": "The width of spectral line is 4.24413181578e-15 m\n"
      }
     ],
     "prompt_number": 5
    },
    {
     "cell_type": "heading",
     "level": 2,
     "metadata": {},
     "source": "Example number 9.7, Page number 204. theoritical proof"
    },
    {
     "cell_type": "heading",
     "level": 2,
     "metadata": {},
     "source": "Example number 9.8, Page number 204. theoritical proof"
    },
    {
     "cell_type": "heading",
     "level": 2,
     "metadata": {},
     "source": "Example number 9.9, Page number 205. theoritical proof"
    },
    {
     "cell_type": "heading",
     "level": 2,
     "metadata": {},
     "source": "Example number 9.10, Page number 205. theoritical proof"
    },
    {
     "cell_type": "heading",
     "level": 2,
     "metadata": {},
     "source": "Example number 9.11, Page number 205. theoritical proof"
    },
    {
     "cell_type": "heading",
     "level": 2,
     "metadata": {},
     "source": "Example number 9.12, Page number 206. theoritical proof"
    },
    {
     "cell_type": "heading",
     "level": 2,
     "metadata": {},
     "source": "Example number 9.13, Page number 206. theoritical proof "
    },
    {
     "cell_type": "heading",
     "level": 2,
     "metadata": {},
     "source": "Example number 9.14, Page number 207"
    },
    {
     "cell_type": "code",
     "collapsed": false,
     "input": "#To calculate the probability of finding the electron\n\n#importing modules\nimport math\nfrom __future__ import division\nfrom scipy.integrate import quad\n\n#Variable declaration\na = 2*10**-10;    # Width of 1D box(m)\nx1=0;    # Position of first extreme of the box(m)\nx2=1*10**-10;   # Position of second extreme of the box(m)\n\n#Calculation\ndef intg(x):\n    return ((2/a)*(math.sin(2*math.pi*x/a))**2)\nS=quad(intg,x1,x2)[0]\n\n#Result\nprint \"The probability of finding the electron between x = 0 and x = 10**-10 is\",S",
     "language": "python",
     "metadata": {},
     "outputs": [
      {
       "output_type": "stream",
       "stream": "stdout",
       "text": "The probability of finding the electron between x = 0 and x = 10**-10 is 0.5\n"
      }
     ],
     "prompt_number": 7
    },
    {
     "cell_type": "code",
     "collapsed": false,
     "input": "",
     "language": "python",
     "metadata": {},
     "outputs": []
    }
   ],
   "metadata": {}
  }
 ]
}