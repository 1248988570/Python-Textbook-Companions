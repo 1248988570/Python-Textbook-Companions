{
 "metadata": {
  "name": "Chapter17"
 },
 "nbformat": 3,
 "nbformat_minor": 0,
 "worksheets": [
  {
   "cells": [
    {
     "cell_type": "heading",
     "level": 1,
     "metadata": {},
     "source": "17: Ultrasonics"
    },
    {
     "cell_type": "heading",
     "level": 2,
     "metadata": {},
     "source": "Example number 17.1, Page number 352"
    },
    {
     "cell_type": "code",
     "collapsed": false,
     "input": "#To calculate the thickness of vibrating quartz\n\n#importing modules\nimport math\nfrom __future__ import division\n\n#Variable declaration\nf = 3;        #Fundamental vibrational frequency of quartz crystal(MHz)\nY = 7.9*10**10;       #Young's modulus of quartz(N/m**2)\nrho = 2650;      #Density of quartz(kg/m**3)\n\n#Calculation\nf = f*10**6;    #Fundamental vibrational frequency of quartz crystal(Hz)\nl = 1/(2*f)*math.sqrt(Y/rho);    #Thickness of vibrating quartz at resonance(m)\nl = l*10**3;       #Thickness of vibrating quartz at resonance(mm)\nl = math.ceil(l*100)/100;     #rounding off the value of l to 2 decimals\n\n#Result\nprint \"The thickness of vibrating quartz at resonance is\",l, \"mm\"",
     "language": "python",
     "metadata": {},
     "outputs": [
      {
       "output_type": "stream",
       "stream": "stdout",
       "text": "The thickness of vibrating quartz at resonance is 0.91 mm\n"
      }
     ],
     "prompt_number": 1
    },
    {
     "cell_type": "code",
     "collapsed": false,
     "input": "",
     "language": "python",
     "metadata": {},
     "outputs": []
    }
   ],
   "metadata": {}
  }
 ]
}