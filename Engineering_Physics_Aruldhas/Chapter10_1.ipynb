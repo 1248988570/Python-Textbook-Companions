{
 "metadata": {
  "name": "Chapter10"
 },
 "nbformat": 3,
 "nbformat_minor": 0,
 "worksheets": [
  {
   "cells": [
    {
     "cell_type": "heading",
     "level": 1,
     "metadata": {},
     "source": "10: Statistical Mechanics"
    },
    {
     "cell_type": "heading",
     "level": 2,
     "metadata": {},
     "source": "Example number 10.1, Page number 222"
    },
    {
     "cell_type": "code",
     "collapsed": false,
     "input": "#To calculate the ratio of occupancy of the excited to the ground state\n\n#importing modules\nfrom __future__ import division\nimport math\n\n#Variable declaration\nk = 1.38*10**-23;    #Boltzmann constant(J/K)\ne = 1.6*10**-19;     #Energy equivalent of 1 eV(J/eV)\ng1 = 2;    #The degeneracy of ground state\ng2 = 8;    #The degeneracy of excited state\ndelta_E = 10.2;     #Energy of excited state above the ground state(eV)\nT = 6000;    #Temperature of the state(K)\n\n#Calculation\nD_ratio = g2/g1;    #Ratio of degeneracy of states\nx = k*T/e;\nN_ratio = D_ratio*math.exp(-delta_E/x);     #Ratio of occupancy of the excited to the ground state\n\n#Result\nprint \"The ratio of occupancy of the excited to the ground state is\",N_ratio",
     "language": "python",
     "metadata": {},
     "outputs": [
      {
       "output_type": "stream",
       "stream": "stdout",
       "text": "The ratio of occupancy of the excited to the ground state is 1.10167326887e-08\n"
      }
     ],
     "prompt_number": 1
    },
    {
     "cell_type": "heading",
     "level": 2,
     "metadata": {},
     "source": "Example number 10.2, Page number 222"
    },
    {
     "cell_type": "code",
     "collapsed": false,
     "input": "#To calculate the ground state energy of 10 non-interacting bosons\n\n#Calculation\n#an energy level can accomodate any number of bosons. Hence 10 bosons will be in n=1 state\n#energy is given by E1 = (pi**2*h**2)/(2*m*a**2)\na = 10/2;\n#enegy of 10 bosons is E = (10*pi**2*h**2)/(2*m*a**2) = (5*pi**2*h**2)/(m*a**2)\n\n#Result\nprint \"enegy of 10 bosons is E = \",int(a),\"(pi**2*h**2)/(m*a**2)\"",
     "language": "python",
     "metadata": {},
     "outputs": [
      {
       "output_type": "stream",
       "stream": "stdout",
       "text": "enegy of 10 bosons is E =  5 (pi**2*h**2)/(m*a**2)\n"
      }
     ],
     "prompt_number": 5
    },
    {
     "cell_type": "heading",
     "level": 2,
     "metadata": {},
     "source": "Example number 10.3, Page number 223"
    },
    {
     "cell_type": "code",
     "collapsed": false,
     "input": "#To calculate the ground state energy of the system\n\n#importing modules\nimport math\n\n#Variable declaration\nn1=1;    #1st level\nn2=2;    #2nd level\nn3=3;    #3rd level\nn4=4;    #4th level\nn5=5;    #5th level\n\n#Calculation\n#an energy level can accomodate only 2 fermions. hence there will be 2 fermions in each level\n#thus total ground state energy will be E = (2*E1)+(2*E2)+(2*E3)+(2*E4)+E5\n#let X = ((pi**2)*(h**2)/(2*m*a**2)). E = X*((2*n1**2)+(2*n2**2)+(2*n3**2)+(2*n4**2)+(n5**2))\nA = (2*n1**2)+(2*n2**2)+(2*n3**2)+(2*n4**2)+(n5**2);\n#thus E = A*X\n\n#Result\nprint \"the ground state energy of the system is\",A,\"(pi**2)*(h**2)/(2*m*a**2)\"",
     "language": "python",
     "metadata": {},
     "outputs": [
      {
       "output_type": "stream",
       "stream": "stdout",
       "text": "the ground state energy of the system is 85 (pi**2)*(h**2)/(2*m*a**2)\n"
      }
     ],
     "prompt_number": 6
    },
    {
     "cell_type": "heading",
     "level": 2,
     "metadata": {},
     "source": "Example number 10.4, Page number 223"
    },
    {
     "cell_type": "code",
     "collapsed": false,
     "input": "#To calculate the number density of conduction electrons and Fermi energy of silver\n\n#importing modules\nimport math\nfrom __future__ import division\n\n#Variable declaration\ne = 1.6*10**-19;    #Energy equivalent of 1 eV(J/eV)\nN_A = 6.02*10**23;    #Avogadro's number\nh = 6.626*10**-34;    #Planck's constant(Js)\nme = 9.1*10**-31;    #Mass of electron(kg)\nrho = 10.5;    #Density of silver(g/cm)\nm = 108;    #Molecular mass of silver(g/mol)\n\n#Calculation\nN_D = rho*N_A/m;    #Number density of conduction electrons(per cm**3)\nN_D = N_D*10**6;    #Number density of conduction electrons(per m**3)\nE_F = ((h**2)/(8*me))*(3/math.pi*N_D)**(2/3);     #fermi energy(J)\nE_F = E_F/e;          #fermi energy(eV)\nE_F = math.ceil(E_F*10**2)/10**2;     #rounding off the value of E_F to 2 decimals\n\n#Result\nprint \"The number density of conduction electrons is\",N_D, \"per metre cube\"\nprint \"The Fermi energy of silver is\",E_F, \"eV\"",
     "language": "python",
     "metadata": {},
     "outputs": [
      {
       "output_type": "stream",
       "stream": "stdout",
       "text": "The number density of conduction electrons is 5.85277777778e+28 per metre cube\nThe Fermi energy of silver is 5.51 eV\n"
      }
     ],
     "prompt_number": 7
    },
    {
     "cell_type": "heading",
     "level": 2,
     "metadata": {},
     "source": "Example number 10.5, Page number 224"
    },
    {
     "cell_type": "code",
     "collapsed": false,
     "input": "#To calculate the electronic contribution to molar specific heat of sodium\n\n#importing modules\nimport math\nfrom __future__ import division\n\n#Variable declaration\nN_A = 6.02*10**23;     #Avogadro's number\nk = 1.38*10**-23;      #Boltzmann constant(J/K)\nT = 293;     #Temperature of sodium(K)\nE_F = 3.24;    #Fermi energy of sodium(eV)\ne = 1.6*10**-19;    #Energy equivalent of 1 eV(J/eV)\n\n#Calculation\nC_v = math.pi**2*N_A*k**2*T/(2*E_F*e);     #Molar specific heat of sodium(per mole)\nC_v = math.ceil(C_v*10**2)/10**2;     #rounding off the value of C_v to 2 decimals\n\n#Result\nprint \"The electronic contribution to molar specific heat of sodium is\",C_v, \"per mole\"",
     "language": "python",
     "metadata": {},
     "outputs": [
      {
       "output_type": "stream",
       "stream": "stdout",
       "text": "The electronic contribution to molar specific heat of sodium is 0.32 per mole\n"
      }
     ],
     "prompt_number": 8
    },
    {
     "cell_type": "heading",
     "level": 2,
     "metadata": {},
     "source": "Example number 10.6, Page number 224"
    },
    {
     "cell_type": "code",
     "collapsed": false,
     "input": "#To calculate the Fermi energy and mean energy of  the electron\n\n#importing modules\nimport math\nfrom __future__ import division\n\n#Variable declaration\ne = 1.6*10**-19;    #Energy equivalent of 1 eV(J/eV)\nh = 6.626*10**-34;     #Planck's constant(Js)\nm = 9.1*10**-31;       #Mass of the electron(kg)\nN_D = 18.1*10**28;       #Number density of conduction electrons in Al(per metre cube)\n\n#Calculation\nE_F = h**2/(8*m)*(3/math.pi*N_D)**(2/3);     #N_D = N/V. Fermi energy of aluminium(J)\nE_F = E_F/e;      #Fermi energy of aluminium(eV)\nE_F = math.ceil(E_F*10**3)/10**3;     #rounding off the value of E_F to 3 decimals\nEm_0 = 3/5*E_F;     #Mean energy of  the electron at 0K(eV)\nEm_0 = math.ceil(Em_0*10**3)/10**3;     #rounding off the value of Em_0 to 3 decimals\n\n#Result\nprint \"The Fermi energy of aluminium is\",E_F, \"eV\"\nprint \"The mean energy of  the electron is\",Em_0, \"eV\"",
     "language": "python",
     "metadata": {},
     "outputs": [
      {
       "output_type": "stream",
       "stream": "stdout",
       "text": "The Fermi energy of aluminium is 11.696 eV\nThe mean energy of  the electron is 7.018 eV\n"
      }
     ],
     "prompt_number": 9
    },
    {
     "cell_type": "code",
     "collapsed": false,
     "input": "",
     "language": "python",
     "metadata": {},
     "outputs": []
    }
   ],
   "metadata": {}
  }
 ]
}