{
 "metadata": {
  "name": "Chapter 7"
 }, 
 "nbformat": 2, 
 "worksheets": [
  {
   "cells": [
    {
     "cell_type": "markdown", 
     "source": [
     ]
    }, 
    {
     "cell_type": "markdown", 
     "source": [
     ]
    }, 
    {
     "cell_type": "code", 
     "collapsed": false, 
     "input": [
      "", 
      "v = 2450.00                                    # volume of gaseous products in cm^3", 
      "P = 7.00                                       # pressure of gaseous product in bar", 
      "T = 867.00                                     # temperature of gaseous product in degree celcius", 
      "T0 = 300.00                                    # in kelvin", 
      "P0 = 1.013                                     # in bar", 
      "", 
      "u = 880.35                                     # in kj/kg", 
      "u0 = 214.07                                    # in kj/kg", 
      "s0T = 3.11883                                  # in kj/kg.k", 
      "s0T0 = 1.70203                                 # in kj/kg.k", 
      "", 
      "import math", 
      "e = (u-u0) + (P0*(8.314/28.97)*(((T+273)/P)-(T0/P0))) - T0*(s0T-s0T0-(8.314/28.97)*math.log(P/P0))  # kj/kg", 
      "", 
      "print '-> The specific exergy of the gas is ',round(e,3),'kJ/kg.'"
     ], 
     "language": "python", 
     "outputs": [
      {
       "output_type": "stream", 
       "stream": "stdout", 
       "text": [
        "-> The specific exergy of the gas is  368.912 kJ/kg."
       ]
      }
     ], 
     "prompt_number": 1
    }, 
    {
     "cell_type": "markdown", 
     "source": [
     ]
    }, 
    {
     "cell_type": "code", 
     "collapsed": false, 
     "input": [
      "", 
      "mR = 1.11                               # mass of the refrigerant in kg", 
      "T1 = -28.00                             # initial temperature of the saturated vapor in degree celcius", 
      "P2 = 1.4                                # final pressure of the refrigerant in bar", 
      "T0 = 293.00                             # in kelvin", 
      "P0 = 1.00                               # in bar", 
      "", 
      "u1 = 211.29                             # in kj/kg", 
      "v1 = 0.2052                             # in m^3/kg", 
      "s1 = 0.9411                             # in kj/kg.k", 
      "u0 = 246.67                             # in kj/kg", 
      "v0 = 0.23349                            # in m^3/kg", 
      "s0 = 1.0829                             # in kj/kg.k", 
      "", 
      "u2 = 300.16                             # in kj/kg", 
      "s2 = 1.2369                             # in kj/kg.k", 
      "v2 = v1", 
      "", 
      "E1 = mR*((u1-u0) + P0*(10**5)*(v1-v0)*(10**(-3))-T0*(s1-s0))", 
      "E2 = mR*((u2-u0) + P0*(10**5)*(v2-v0)*(10**(-3))-T0*(s2-s0))", 
      "", 
      "print '-> Part(a) The initial exergy is ',round(E1,2),'kJ.'", 
      "print '-> The final exergy is ',round(E2,2),'kJ.'", 
      "print '-> The change in exergy of the refrigerant is ',round(E2-E1,2),'kJ.'", 
      "", 
      "", 
      "deltaU = mR*(u2-u1)", 
      "deltaPE = -deltaU", 
      "deltaE = deltaPE", 
      "", 
      "print '-> Part(b)The change in exergy of the suspended mass is ',round(deltaE,3),'kJ.'", 
      "", 
      "", 
      "deltaEiso = (E2-E1) + deltaE", 
      "", 
      "print '-> Part(c)The change in exergy of an isolated system of the vessel and pulley\u2013mass assembly is ',round(deltaEiso,2),'kJ.'"
     ], 
     "language": "python", 
     "outputs": [
      {
       "output_type": "stream", 
       "stream": "stdout", 
       "text": [
        "-> Part(a) The initial exergy is  3.71 kJ.", 
        "-> The final exergy is  6.15 kJ.", 
        "-> The change in exergy of the refrigerant is  2.44 kJ.", 
        "-> Part(b)The change in exergy of the suspended mass is  -98.646 kJ.", 
        "-> Part(c)The change in exergy of an isolated system of the vessel and pulley\u2013mass assembly is  -96.2 kJ."
       ]
      }
     ], 
     "prompt_number": 2
    }, 
    {
     "cell_type": "markdown", 
     "source": [
     ]
    }, 
    {
     "cell_type": "code", 
     "collapsed": false, 
     "input": [
      "", 
      "T = 373.15                                              # initial temperature of saturated liquid in kelvin", 
      "T0 = 293.15                                             # in kelvin", 
      "P0 = 1.014                                              # in bar", 
      "", 
      "ug = 2506.5                                             # in kj/kg", 
      "uf = 418.94                                             # in kj/kg", 
      "vg = 1.673                                              # in m^3/kg", 
      "vf = 1.0435*(10**(-3))                                  # in m^3/kg", 
      "sg = 7.3549                                             # in kj/kg.k", 
      "sf = 1.3069                                             # in kj/kg.k", 
      "", 
      "", 
      "etaw = 0                                                # since p = p0", 
      "Q = 2257                                                # in kj/kg,obtained from example 6.1", 
      "etah = (1-(T0/T))*Q", 
      "", 
      "ed = 0                                                  # since the process is accomplished without any irreversibilities", 
      "deltae = ug-uf + P0*(10**5)*(vg-vf)/(10**3)-T0*(sg-sf)", 
      "", 
      "print '-> Part(a)the change in exergy is',round(deltae,2),'kJ/kg.'", 
      "print '-> The exergy transfer accompanying work is',round(etaw,2),'kJ/kg.'", 
      "print '-> The exergy transfer accompanying heat is',round(etah,2),'kJ/kg.'", 
      "print '-> The exergy destruction is',round(ed,2),'kJ/kg.'", 
      "", 
      "", 
      "Deltae = deltae                                          # since the end states are same ", 
      "Etah = 0                                                 # since process is adiabatic", 
      "W = -2087.56                                             # in kj/kg from example 6.2", 
      "Etaw = W- P0*(10**5)*(vg-vf)/(10**3)", 
      "Ed = -(Deltae+Etaw)", 
      "", 
      "print '-> Part(b)the change in exergy is ',round(Deltae,2),'kJ/kg.'", 
      "print '-> The exergy transfer accompanying work is',round(Etaw,2),'kJ/kg.'", 
      "print '-> The exergy transfer accompanying heat is',round(Etah,2),'kJ/kg.'", 
      "print '-> The exergy destruction is',round(Ed,2),'kJ/kg.'"
     ], 
     "language": "python", 
     "outputs": [
      {
       "output_type": "stream", 
       "stream": "stdout", 
       "text": [
        "-> Part(a)the change in exergy is 484.13 kJ/kg.", 
        "-> The exergy transfer accompanying work is 0.0 kJ/kg.", 
        "-> The exergy transfer accompanying heat is 483.88 kJ/kg.", 
        "-> The exergy destruction is 0.0 kJ/kg.", 
        "-> Part(b)the change in exergy is  484.13 kJ/kg.", 
        "-> The exergy transfer accompanying work is -2257.1 kJ/kg.", 
        "-> The exergy transfer accompanying heat is 0.0 kJ/kg.", 
        "-> The exergy destruction is 1772.97 kJ/kg."
       ]
      }
     ], 
     "prompt_number": 3
    }, 
    {
     "cell_type": "markdown", 
     "source": [
     ]
    }, 
    {
     "cell_type": "code", 
     "collapsed": false, 
     "input": [
      "", 
      "T0 = 293.00                                         # in kelvin", 
      "Qdot = -1.2                                         # in KW, from example 6.4a", 
      "Tb = 300.00                                         # temperature at the outer surface of the gearbox in kelvin from example 6.4a", 
      "sigmadot = 0.004                                    # rate of entropy production in KW/k from example 6.4a", 
      "", 
      "R = -(1-T0/Tb)*Qdot                                  # time rate of exergy transfer accompanying heat", 
      "Eddot = T0*sigmadot                                 # rate of exergy destruction", 
      "", 
      "print '-> Balance sheet'", 
      "print '* Rate of exergy in high speed shaft 60Kw' ", 
      "print '-> Disposition of the exergy: Rate of exergy out low-speed shaft 58.8Kw' ", 
      "print '-> Heat transfer is',round(R,3),'kw.'", 
      "print '-> Rate of exergy destruction is',round(Eddot,3),'kw.'"
     ], 
     "language": "python", 
     "outputs": [
      {
       "output_type": "stream", 
       "stream": "stdout", 
       "text": [
        "-> Balance sheet", 
        "* Rate of exergy in high speed shaft 60Kw", 
        "-> Disposition of the exergy: Rate of exergy out low-speed shaft 58.8Kw", 
        "-> Heat transfer is 0.028 kw.", 
        "-> Rate of exergy destruction is 1.172 kw."
       ]
      }
     ], 
     "prompt_number": 4
    }, 
    {
     "cell_type": "markdown", 
     "source": [
     ]
    }, 
    {
     "cell_type": "code", 
     "collapsed": false, 
     "input": [
      "", 
      "p1 = 3.0                                              # entry pressure in Mpa", 
      "p2 = 0.5                                              # exit pressure in Mpa", 
      "T1 = 320.0                                            # entry temperature in degree celcius", 
      "T0 = 25.0                                             # in degree celcius", 
      "p0 = 1.0                                              # in atm", 
      "", 
      "h1 = 3043.4                                           # in kj/kg", 
      "s1 = 6.6245                                           # in kj/kg.k", 
      "h2 = h1                                               # from reduction of the steady-state mass and energy rate balances", 
      "s2 = 7.4223                                           # Interpolating at a pressure of 0.5 MPa with h2 = h1, units in kj/kg.k", 
      "", 
      "h0 = 104.89                                           # in kj/kg", 
      "s0 = 0.3674                                           # in kj/kg.k", 
      "", 
      "ef1 = h1-h0-(T0+273)*(s1-s0)                          # flow exergy at the inlet", 
      "ef2 = h2-h0-(T0+273)*(s2-s0)                          # flow exergy at the exit", 
      "Ed = ef1-ef2                                          # the exergy destruction per unit of mass flowing is", 
      "", 
      "print '-> The specific flow exergy at the inlet is ',round(ef1,2),'kJ/kg.'", 
      "print '-> The specific flow exergy at the exit is',round(ef2,2),'kJ/kg.'", 
      "print '-> The exergy destruction per unit of mass flowing is',round(Ed,2),'kJ/kg.'"
     ], 
     "language": "python", 
     "outputs": [
      {
       "output_type": "stream", 
       "stream": "stdout", 
       "text": [
        "-> The specific flow exergy at the inlet is  1073.89 kJ/kg.", 
        "-> The specific flow exergy at the exit is 836.15 kJ/kg.", 
        "-> The exergy destruction per unit of mass flowing is 237.74 kJ/kg."
       ]
      }
     ], 
     "prompt_number": 5
    }, 
    {
     "cell_type": "markdown", 
     "source": [
     ]
    }, 
    {
     "cell_type": "code", 
     "collapsed": false, 
     "input": [
      "", 
      "T1 = 610.0                                                # temperature of the air entering heat exchanger in kelvin", 
      "p1 = 10.0                                                 # pressure of the air entering heat exchanger in bar", 
      "T2 = 860.0                                                # temperature of the air exiting the heat exchanger in kelvin", 
      "p2 = 9.70                                                 # pressure of the air exiting the heat exchanger in bar", 
      "T3 = 1020.0                                               # temperature of entering hot combustion gas in kelvin", 
      "p3 = 1.10                                                 # pressure of entering hot  combustion gas in bar", 
      "p4 = 1.0                                                  # pressure of exiting hot combustion gas in bar", 
      "mdot = 90.0                                               # mass flow rate in kg/s", 
      "T0 = 300.0                                                # in kelvin", 
      "p0 = 1.0                                                  # in bar", 
      "", 
      "h1 = 617.53                                               # in kj/kg", 
      "h2 = 888.27                                               # in kj/kg", 
      "h3 = 1068.89                                              # in kj/kg", 
      "", 
      "\"\"\"From reduction of mass and energy rate balances for the control volume at", 
      "steady state \"\"\"", 
      "h4 = h3+h1-h2", 
      "", 
      "T4 = 778                                                  # in kelvin", 
      "", 
      "print '-> The exit temperature of the combustion gas   is',T4,'kelvin.'", 
      "", 
      "s2 = 2.79783                                              # in kj/kg.k", 
      "s1 = 2.42644                                              # in kj/kg.k", 
      "s4 = 2.68769                                              # in kj/kg.k", 
      "s3 = 2.99034                                              # in kj/kg.k", 
      "", 
      "import math", 
      "deltaR = (mdot*((h2-h1)-T0*(s2-s1-(8.314/28.97)*math.log(p2/p1))))/1000", 
      "deltRc = mdot*((h4-h3)-T0*(s4-s3-(8.314/28.97)*math.log(p4/p3)))/1000", 
      "", 
      "print '-> The net change in the flow exergy rate from inlet to exit of compressed gas   is',round(deltaR,3),'MW.'", 
      "print '-> The net change in the flow exergy rate from inlet to exit of hot combustion gas   is',round(deltRc,3),'MW.'", 
      "", 
      "Eddot = -deltaR-deltRc", 
      "", 
      "print '-> The rate exergy  destroyed,   is',round(Eddot,3),'MW.'"
     ], 
     "language": "python", 
     "outputs": [
      {
       "output_type": "stream", 
       "stream": "stdout", 
       "text": [
        "-> The exit temperature of the combustion gas   is 778 kelvin.", 
        "-> The net change in the flow exergy rate from inlet to exit of compressed gas   is 14.103 MW.", 
        "-> The net change in the flow exergy rate from inlet to exit of hot combustion gas   is -16.934 MW.", 
        "-> The rate exergy  destroyed,   is 2.831 MW."
       ]
      }
     ], 
     "prompt_number": 6
    }, 
    {
     "cell_type": "markdown", 
     "source": [
     ]
    }, 
    {
     "cell_type": "code", 
     "collapsed": false, 
     "input": [
      "", 
      "p1 = 30.0                                             # pressure of entering steam in bar", 
      "t1 = 400.0                                            # temperature of entering steam in degree celcius", 
      "v1 = 160.0                                            # velocity of entering steam in m/s", 
      "t2 = 100.0                                            # temperature of exiting saturated vapor in degree celcius", 
      "v2 = 100.0                                            # velocity of exiting saturated vapor in m/s", 
      "W = 540.0                                             # rate of work developed in kj per kg of steam", 
      "Tb = 350.0                                            # the temperature on the boundary where heat transfer occurs in kelvin", 
      "T0 = 25.0                                             # in degree celcius", 
      "p0 = 1.0                                              # in atm", 
      "", 
      "h1 = 3230.9                                           # in kj/kg", 
      "s1 = 6.9212                                           # in kj/kg.k", 
      "h2 = 2676.1                                           # in kj/kg", 
      "s2 = 7.3549                                           # in kj/kg.k", 
      "Q = -22.6                                             # in kj/kg", 
      "  ", 
      "DELTAef = (h1-h2)-(T0+273)*(s1-s2)+(v1**2-v2**2)/(2*1000)", 
      "Eq = (1-(T0+273)/Tb)*(Q)                              # exergy transfer accompanying heat in kj/kg", 
      "Ed = ((1-(T0+273)/Tb)*(Q))-W+(DELTAef)                # The exergy destruction determined by rearranging the steady-state form of the exergy ", 
      "                                                      # rate balance", 
      "", 
      "print '-> Balance sheet'", 
      "print '-> Net rate of exergy ',DELTAef,'kJ/kg,'", 
      "print '-> Disposition of the exergy:'", 
      "print '* Rate of exergy out'", 
      "print '-> Work',W,'kJ/kg.'", 
      "print '-> Heat transfer',-Eq,'.'", 
      "print '\u2022 Rate of exergy destruction',Ed,'kJ/kg.'"
     ], 
     "language": "python", 
     "outputs": [
      {
       "output_type": "stream", 
       "stream": "stdout", 
       "text": [
        "-> Balance sheet", 
        "-> Net rate of exergy  691.8426 kJ/kg,", 
        "-> Disposition of the exergy:", 
        "* Rate of exergy out", 
        "-> Work 540.0 kJ/kg.", 
        "-> Heat transfer 3.35771428571 .", 
        "\u2022 Rate of exergy destruction 148.484885714 kJ/kg."
       ]
      }
     ], 
     "prompt_number": 7
    }, 
    {
     "cell_type": "markdown", 
     "source": [
     ]
    }, 
    {
     "cell_type": "code", 
     "collapsed": false, 
     "input": [
      "", 
      "m1dot = 69.78                                             # in kg/s", 
      "p1 = 1.0                                                  # in bar", 
      "T1 = 478.0                                                # in kelvin", 
      "T2 = 400.0                                                # in kelvin", 
      "p2 = 1.0                                                  # in bar", 
      "p3 = 0.275                                                # in Mpa", 
      "T3 = 38.9                                                 # in degree celcius", 
      "m3dot = 2.08                                              # in kg/s", 
      "T4 = 180.0                                                # in degree celcius", 
      "p4 = 0.275                                                # in Mpa", 
      "p5 = 0.07                                                 # in bar", 
      "x5 = 0.93", 
      "Wcvdot = 876.8                                            # in kW", 
      "T0 = 298.0                                                # in kelvin", 
      "", 
      "", 
      "h1 = 480.35                                               # in kj/kg", 
      "h2 = 400.97                                               # in kj/kg", 
      "s1 = 2.173                                                # in kj/kg", 
      "s2 = 1.992                                                # in kj/kg", 
      "", 
      "h3 = 162.82                                               # in kj/kg", 
      "s3 = 0.5598                                               # in kj/kg.k", 
      "h5 = 2403.27                                              # in kj/kg", 
      "s5 = 7.739                                                # in kj/kg.k", 
      "", 
      "h4 = 2825.0                                               # in kj/kg", 
      "s4 = 7.2196                                               # in kj/kg.k", 
      "import math", 
      "netRE = m1dot*(h1-h2-T0*(s1-s2-(8.314/28.97)*math.log(p1/p2))) # the net rate exergy  carried into the control volume", 
      "netREout = m3dot*(h5-h3-T0*(s5-s3))", 
      "Eddot = netRE + m3dot*(h3-h4-T0*(s3-s4))                  # the rate exergy is destroyed in the heat-recovery steam generator", 
      "", 
      "EdDot = -Wcvdot + m3dot*(h4-h5-T0*(s4-s5))                # the rate exergy is destroyed in the tpurbine", 
      "", 
      "print '-> balance sheet'", 
      "print '- Net rate of exergy in:',netRE,'kJ/kg.'", 
      "print '-> Disposition of the exergy:'", 
      "print '\u2022 Rate of exergy out'", 
      "print '-> power developed',1772.8-netREout-Eddot-EdDot,'kJ/kg.'", 
      "print '-> water stream  ',netREout", 
      "print '\u2022 Rate of exergy destruction'", 
      "print '-> heat-recovery steam generator',Eddot,'kJ/kg'", 
      "print '-> turbine',EdDot"
     ], 
     "language": "python", 
     "outputs": [
      {
       "output_type": "stream", 
       "stream": "stdout", 
       "text": [
        "-> balance sheet", 
        "- Net rate of exergy in: 1775.34276 kJ/kg.", 
        "-> Disposition of the exergy:", 
        "\u2022 Rate of exergy out", 
        "-> power developed 874.25724 kJ/kg.", 
        "-> water stream   210.180672", 
        "\u2022 Rate of exergy destruction", 
        "-> heat-recovery steam generator 366.018792 kJ/kg", 
        "-> turbine 322.343296"
       ]
      }
     ], 
     "prompt_number": 8
    }, 
    {
     "cell_type": "markdown", 
     "source": [
     ]
    }, 
    {
     "cell_type": "code", 
     "collapsed": false, 
     "input": [
      "", 
      "T0 = 273.00                                                 # in kelvin", 
      "pricerate = 0.08                                            # exergy value at $0.08 per kw.h", 
      "", 
      "sigmadotComp = 17.5e-4                                      # in kw/k", 
      "sigmadotValve = 9.94e-4                                     # in kw/k", 
      "sigmadotcond = 7.95e-4                                      # in kw/k", 
      "", 
      "EddotComp = T0*sigmadotComp                                 # in kw", 
      "EddotValve = T0*sigmadotValve                               # in kw", 
      "Eddotcond = T0*sigmadotcond                                 # in kw", 
      "", 
      "mCP = 3.11                                                  # From the solution to Example 6.14, the magnitude of the compressor power in kW", 
      "", 
      "print '-> Daily cost in dollars of exergy destruction due to compressor irreversibilities = ',round(EddotComp*pricerate*24,3)", 
      "print '-> Daily cost in dollars of exergy destruction due to irreversibilities in the throttling valve = ',round(EddotValve*pricerate*24,3)", 
      "print '-> Daily cost in dollars of exergy destruction due to irreversibilities in the condenser = ',round(Eddotcond*pricerate*24,3)", 
      "print '-> Daily cost in dollars  of electricity to operate compressor = ',round(mCP*pricerate*24,3)"
     ], 
     "language": "python", 
     "outputs": [
      {
       "output_type": "stream", 
       "stream": "stdout", 
       "text": [
        "-> Daily cost in dollars of exergy destruction due to compressor irreversibilities =  0.917", 
        "-> Daily cost in dollars of exergy destruction due to irreversibilities in the throttling valve =  0.521", 
        "-> Daily cost in dollars of exergy destruction due to irreversibilities in the condenser =  0.417", 
        "-> Daily cost in dollars  of electricity to operate compressor =  5.971"
       ]
      }
     ], 
     "prompt_number": 9
    }, 
    {
     "cell_type": "markdown", 
     "source": [
     ]
    }, 
    {
     "cell_type": "code", 
     "collapsed": false, 
     "input": [
      "", 
      "EfFdot = 100.00                                             # exergy rate of fuel entering the boiler in MW", 
      "cF = 1.44                                                   # unit cost of fuel in cents per kw.h", 
      "Zbdot = 1080.00                                             # the cost of owning and operating boiler in dollars per hour", 
      "Ef1dot = 35.00                                              # exergy rate of exiting steam from the boiler in MW", 
      "p1 = 50.00                                                  # pressure of exiting steam from the boiler in bar", 
      "T1 = 466.00                                                 # temperature of exiting steam from the boiler in degree celcius", 
      "Ztdot = 92.00                                               # the cost of owning and operating turbine in dollars per hour", 
      "p2 = 5.00                                                   # pressure of exiting steam from the turbine in bars", 
      "T2 = 205.00                                                 # temperature of exiting steam from the turbine in degree celcius", 
      "m2dot = 26.15                                               # mass flow rate of exiting steam from the turbine in kg/s", 
      "T0 = 298.00                                                 # in kelvin ", 
      "", 
      "", 
      "h1 = 3353.54                                                # in kj/kg", 
      "h2 = 2865.96                                                # in kj/kg", 
      "s1 = 6.8773                                                 # in kj/kg.k", 
      "s2 = 7.0806                                                 # in kj/kg.k", 
      "", 
      "Wedot = m2dot *(h1-h2)/1000                                 # power in MW", 
      "Ef2dot = Ef1dot+m2dot*(h2-h1-T0*(s2-s1))/1000               # the rate exergy exits with the steam in MW", 
      "", 
      "print '-> For the turbine,the power is',round(Wedot,2),'MW.'", 
      "print '-> For the turbine,the rate exergy exits with the steam is',round(Ef2dot,2),'  MW.'", 
      "", 
      "c1 = cF*(EfFdot/Ef1dot) + ((Zbdot/Ef1dot)/10**3)*100         # unit cost of exiting steam from boiler in cents/Kw.h", 
      "c2 = c1                                                      # Assigning the same unit cost to the steam entering and exiting the turbine", 
      "ce = c1*((Ef1dot-Ef2dot)/Wedot) + ((Ztdot/Wedot)/10**3)*100  # unit cost of power in cents/kw.h", 
      "", 
      "print '-> The unit costs of the steam exiting the boiler of exergy is:',round(c1,2),'  cents per kw.h.'", 
      "print '-> The unit costs of the steam exiting the turbine of exergy is:',round(c2,2),'  cents per kw.h.'", 
      "print '-> Unit cost of power is:',ce,'cents per kw.h.'", 
      "", 
      "C2dot = (c2*Ef2dot*10**3)/100                                # cost rate for low-pressure steam in dollars per hour", 
      "Cedot = (ce*Wedot*10**3)/100                                 # cost rate for power in dollars per hour", 
      "", 
      "print '-> The cost rate of the steam exiting the turbine is:',round(C2dot,2),'  dollars per hour.'", 
      "print '-> The cost rate of the power is: ',round(Cedot,2),'  dollars per hour.'"
     ], 
     "language": "python", 
     "outputs": [
      {
       "output_type": "stream", 
       "stream": "stdout", 
       "text": [
        "-> For the turbine,the power is 12.75 MW.", 
        "-> For the turbine,the rate exergy exits with the steam is 20.67   MW.", 
        "-> The unit costs of the steam exiting the boiler of exergy is: 7.2   cents per kw.h.", 
        "-> The unit costs of the steam exiting the turbine of exergy is: 7.2   cents per kw.h.", 
        "-> Unit cost of power is: 8.81617975223 cents per kw.h.", 
        "-> The cost rate of the steam exiting the turbine is: 1487.92   dollars per hour.", 
        "-> The cost rate of the power is:  1124.08   dollars per hour."
       ]
      }
     ], 
     "prompt_number": 10
    }
   ]
  }
 ]
}