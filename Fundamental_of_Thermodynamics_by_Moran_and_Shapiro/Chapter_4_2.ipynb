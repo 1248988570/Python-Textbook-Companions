{
 "metadata": {
  "name": "Chapter 4"
 }, 
 "nbformat": 2, 
 "worksheets": [
  {
   "cells": [
    {
     "cell_type": "markdown", 
     "source": [
     ]
    }, 
    {
     "cell_type": "markdown", 
     "source": [
     ]
    }, 
    {
     "cell_type": "code", 
     "collapsed": false, 
     "input": [
      "", 
      "p1= 7.0                                        # pressure in bar", 
      "T2= 200.0                                      # temperature in degree celcius", 
      "m1dot= 40.0                                    # mass flow rate in kg/s", 
      "", 
      "p2= 7.0                                        # pressure in bar", 
      "T2= 40.0                                       # temperature in degree celcius", 
      "A2= 25.0                                       # area in cm^2", 
      "", 
      "p3= 7.0                                        # pressure in bar", 
      "AV3= 0.06                                      # Volumetric flow rate through wxir in m^3/s", 
      "", 
      "v3 = (1.108)*(10**(-3))                        # specific volume at the exit in m^3/kg", 
      "", 
      "v2= (1.0078)*(10**(-3))                        # specific volume in state 2 in m^3/kg", 
      "", 
      "m3dot= AV3/v3                                  # mass flow rate at exit", 
      "m2dot = m3dot-m1dot                            # mass flow rate at inlet 2", 
      "V2= (m2dot*v2)/(A2*(10**(-4)))", 
      "", 
      "print '-> The mass flow rate at the inlet 2 is', round(m2dot,2),' kg/s.'", 
      "print '-> The mass flow rate at the exit is', round(m3dot,2),' kg/s.'", 
      "print '-> The velocity at the inlet is ', round(V2,2),'m/s.'"
     ], 
     "language": "python", 
     "outputs": [
      {
       "output_type": "stream", 
       "stream": "stdout", 
       "text": [
        "-> The mass flow rate at the inlet 2 is 14.15  kg/s.", 
        "-> The mass flow rate at the exit is 54.15  kg/s.", 
        "-> The velocity at the inlet is  5.7 m/s."
       ]
      }
     ], 
     "prompt_number": 1
    }, 
    {
     "cell_type": "markdown", 
     "source": [
     ]
    }, 
    {
     "cell_type": "code", 
     "collapsed": false, 
     "input": [
      "", 
      "p1= 40.0                                     # pressure in bar", 
      "T1= 400.0                                    # temperature in degree celcius", 
      "V1= 10.0                                     # velocity m/s", 
      "", 
      "p2= 10.0                                     # pressure in bar", 
      "V2= 665.0                                    # velocity in m/s", 
      "mdot= 2.0                                    # mass flow rate in kg/s", 
      "", 
      "h1= 3213.6                                   # snpecific enthalpy in kJ/kg", 
      "v2 = 0.1627                                  # specific volume at the exit in m^3/kg", 
      "", 
      "h2 = h1 + ((V1**2-V2**2)/2)/1000             # snpecific enthalpy in kJ/kg", 
      "A2=(mdot*v2)/V2                              # Exit area", 
      "", 
      "print '-> The exit Area of the nozzle is', round(A2,4),'m^2.'"
     ], 
     "language": "python", 
     "outputs": [
      {
       "output_type": "stream", 
       "stream": "stdout", 
       "text": [
        "-> The exit Area of the nozzle is 0.0005 m^2."
       ]
      }
     ], 
     "prompt_number": 2
    }, 
    {
     "cell_type": "markdown", 
     "source": [
     ]
    }, 
    {
     "cell_type": "code", 
     "collapsed": false, 
     "input": [
      "", 
      "m1dot = 4600.0                                    # mass flow rate in kg/h", 
      "Wcvdot= 1000.0                                    # turbine power output in kv", 
      "p1= 60.0                                          # pressure in bar", 
      "T1=400.0                                          # temperature in degree celc", 
      "V1= 10.0                                          # velocity in m/s", 
      "", 
      "p2= 0.10                                          # pressure in bar", 
      "q2= 0.90                                          # quality ", 
      "V2= 50.0                                          # velocity in m/s", 
      "", 
      "h1= 3177.2                                        # specific enthalpy at inlet in kJ/kg", 
      "hf2= 191.83", 
      "hg2= 2584.63", 
      "", 
      "h2 = hf2+q2*(hg2-hf2)                             # specific enthalpy at exit in kJ/kg", 
      "Qcvdot = Wcvdot + m1dot*((h2-h1)+(V2**2- V1**2)/(2*1000))/3600", 
      " ", 
      "print '-> The rate of heat transfer between the turbine and surroundings is',round(Qcvdot,2),'kW.'"
     ], 
     "language": "python", 
     "outputs": [
      {
       "output_type": "stream", 
       "stream": "stdout", 
       "text": [
        "-> The rate of heat transfer between the turbine and surroundings is -61.39 kW."
       ]
      }
     ], 
     "prompt_number": 3
    }, 
    {
     "cell_type": "markdown", 
     "source": [
     ]
    }, 
    {
     "cell_type": "code", 
     "collapsed": false, 
     "input": [
      "", 
      "p1=1.00                                         # pressure in bar", 
      "t1= 290.00                                      # temperature in kelvin", 
      "A1= 0.1                                         # area in m^2", 
      "V1= 6.00                                        # velocity in m/s", 
      "", 
      "", 
      "p2=7.00                                         # pressure in bar", 
      "t2= 450.00                                      # temperature in kelvin", 
      "V2= 2.00                                        # velocity in m/s", 
      "Qcvdot= -180.0                                  # heat transfer rate in kJ/min", 
      "R= 8.314                                        # universal gas constant in SI units", 
      "", 
      "", 
      "h1= 290.16                                      # specific enthalpy in kJ/kg", 
      "h2= 451.8                                       # specific enthalpy in kJ/kg", 
      "", 
      "", 
      "v1 =  (R*1000*t1)/(28.97*p1*10**5)              # specific volume", 
      "mdot=(A1*V1)/v1                                 # mass flow rate", 
      "Wcvdot = Qcvdot/60 + mdot*((h1-h2)+(V1**2-V2**2)/(2*1000))", 
      "", 
      "                      ", 
      "print '-> The power input to the compressor is ',round(Wcvdot,2),'kW.'"
     ], 
     "language": "python", 
     "outputs": [
      {
       "output_type": "stream", 
       "stream": "stdout", 
       "text": [
        "-> The power input to the compressor is  -119.52 kW."
       ]
      }
     ], 
     "prompt_number": 4
    }, 
    {
     "cell_type": "markdown", 
     "source": [
     ]
    }, 
    {
     "cell_type": "code", 
     "collapsed": false, 
     "input": [
      "", 
      "t1=20.0                                          # Temperatue in deg celcius", 
      "p1=1.0                                           # pressure in atm", 
      "AV1= 0.1                                         # volumetric flow rate in litre/s", 
      "D1=2.5                                           # Diameter of th hose in cm", 
      "", 
      "t2=23.0                                          # temperatuer in deg celcius", 
      "p2=1.0                                           # pressure in atm", 
      "V2=50.0                                          # Velocity in m/s", 
      "Z2=5.0                                           # elevation in m", 
      "g= 9.8                                           # acceleration due to gravity in m/s^2", 
      "", 
      "", 
      "v= (1.0018)*((10.0)**(-3))                       # specific volume in m^3/kg", 
      "c= 4.18 ", 
      "", 
      "mdot = (AV1/1000)/v                              # mass flow rate in kg/s", 
      "V1= (AV1/1000)/(3.14*(D1/(2*100))**2)            # Entry velocity in m/s", 
      "deltah = c*(t2-t1)+v*(p2-p1)", 
      "Wcvdot= ((mdot*10)/9)*(-deltah+(V1**2-V2**2)/(2*1000)+g*(0-Z2)/1000)", 
      "", 
      "print '-> The power input to the motor is', round(Wcvdot,2),'KW.'"
     ], 
     "language": "python", 
     "outputs": [
      {
       "output_type": "stream", 
       "stream": "stdout", 
       "text": [
        "-> The power input to the motor is -1.53 KW."
       ]
      }
     ], 
     "prompt_number": 5
    }, 
    {
     "cell_type": "markdown", 
     "source": [
     ]
    }, 
    {
     "cell_type": "code", 
     "collapsed": false, 
     "input": [
      "", 
      "p1=0.1                                        # pressure in bar", 
      "x1= 0.95                                      # Quality", 
      "p2= 0.1                                       # pressure in bar", 
      "t2= 45.0                                        # temperature in deg celcius", 
      "t3=20.0                                         # temperature of cooling entry in deg cel", 
      "t4=35.0                                         # temperature of cooling exit", 
      "", 
      "hf= 191.53                                    # Enthalpy in KJ/kg", 
      "hg= 2584.7                                    # Enthalpy in KJ/kg", 
      "h2=188.45                                     # Assumption at states 2,3 and 4, h is approx equal to hf(T), in kJ/kg", 
      "deltah4_3= 62.7                               # Assumption 4, in kJ/kg", 
      "", 
      "", 
      "h1= hf + x1*(hg-hf)", 
      "ratio= (h1-h2)/(deltah4_3)", 
      "QRate= (h2-h1)                                # Part B", 
      "", 
      "print '-> The rate of the mass flow rate of the cooling water to the mass flow rate of the condenstaing stream is (m3dot/m1dot)',round(ratio,2)", 
      "print '-> The rate of energy transfer from the condensing steam to the cooling water of the steam passing through the condenser is',round(QRate,2),'kJ/kg.'"
     ], 
     "language": "python", 
     "outputs": [
      {
       "output_type": "stream", 
       "stream": "stdout", 
       "text": [
        "-> The rate of the mass flow rate of the cooling water to the mass flow rate of the condenstaing stream is (m3dot/m1dot) 36.31", 
        "-> The rate of energy transfer from the condensing steam to the cooling water of the steam passing through the condenser is -2276.59 kJ/kg."
       ]
      }
     ], 
     "prompt_number": 6
    }, 
    {
     "cell_type": "markdown", 
     "source": [
     ]
    }, 
    {
     "cell_type": "code", 
     "collapsed": false, 
     "input": [
      "", 
      "T1 = 293.0                                            # In kelvin", 
      "P1= 1.01325 * (10**5)                                 # In pascal", 
      "V1max= 1.3                                            # maximum velocity of entering air in m/s", 
      "T2max= 305.0                                          # maximum temperature at the exit in kelvin", 
      "pec= -80.0                                            # power received by electronic components in watt", 
      "Pf= -18.0                                             # Power received by fan in watt", 
      "R= 8.314                                              # Universal gas constant", 
      "M= 28.97*(10**(-3))                                   # Molar mass of air in kg", 
      "Qcvdot=0                                              # Heat transfer from the outer surface of the electronics enclosure to the surroundings is negligible.", 
      "Cp= 1.005*(10**3)                                     # in j/kg*k", 
      "pi=3.14", 
      "", 
      "", 
      "Wcvdot = pec +Pf                                      # total electric power provided to electronic components and fan in watt", 
      "mdotmin=  (-Wcvdot)/(Cp*(T2max-T1))                   # minimum mass flow rate", 
      "v1= ((R/M)*T1)/P1                                     # specific volume", 
      "A1min = (mdotmin*v1)/V1max", 
      "D1min = (4*A1min/(pi))**(0.5)", 
      "", 
      "print '-> The smallest fan inlet diameter is',round(D1min*100,2),'cm.'"
     ], 
     "language": "python", 
     "outputs": [
      {
       "output_type": "stream", 
       "stream": "stdout", 
       "text": [
        "-> The smallest fan inlet diameter is 8.13 cm."
       ]
      }
     ], 
     "prompt_number": 7
    }, 
    {
     "cell_type": "markdown", 
     "source": [
     ]
    }, 
    {
     "cell_type": "code", 
     "collapsed": false, 
     "input": [
      "", 
      "P1 = 20.0                             # pressure in supply line in bars", 
      "P2 = 1.0                              # exhaust pressure in bar", 
      "T2 = 120.0                            # exhaust temperature in degree celcius", 
      "", 
      "hf1 = 908.79                        # Enthalpy in kj/kg", 
      "hg1 = 2799.5                        # Enthalpy in kj/kg", 
      "", 
      "h2 = 2766.6                         # in kj/kg", 
      "h1 = h2                             # from throttling process assumption", 
      "", 
      "", 
      "x1 = (h1-hf1)/(hg1-hf1)", 
      "", 
      "print '-> The quality of the steam in the supply line is',round(x1,2)"
     ], 
     "language": "python", 
     "outputs": [
      {
       "output_type": "stream", 
       "stream": "stdout", 
       "text": [
        "-> The quality of the steam in the supply line is 0.98"
       ]
      }
     ], 
     "prompt_number": 8
    }, 
    {
     "cell_type": "markdown", 
     "source": [
     ]
    }, 
    {
     "cell_type": "code", 
     "collapsed": false, 
     "input": [
      "", 
      "P1 = 1.0                      # pressure of industrial discharge in bar", 
      "T1 = 478.0                    # temperature of industrial discharge in kelvin", 
      "m1dot = 69.78                 # mass flow rate of industrial discharge in kg/s", 
      "T2 = 400.0                    # temperature of exit products from steam generator in kelvin", 
      "P2 = 1.0                      # pressure of exit products from steam generator in bar", 
      "P3 = 0.275                    # pressure of water stream entering the generator in Mpa", 
      "T3 = 38.9                     # temperature of water stream entering the generator in degree celcius", 
      "m3dot = 2.079                 # mass flow rate of water stream entering in kg/s", 
      "P5 = 0.07                     # exit pressure of the turbine in bars", 
      "x5 = 0.93                     # quality of turbine exit", 
      "", 
      "m2dot = m1dot                 # since gas and water streams do not mix", 
      "m5dot = m3dot                 # --DO", 
      "", 
      "h1 = 480.3                    # in kj/kg", 
      "h2 = 400.98                   # in Kj/kg", 
      "h3 = 162.9                    # assumption: h3 = hf(T3), units in Kj/kg", 
      "hf5 = 161.0                   # in kj/kg", 
      "hg5 = 2571.72                 # in kj/kg", 
      "", 
      "P4 = P3                       # from the assumption that there is no pressure drop for water flowing through the steam generator", 
      "T4 = 180                      # in degree celcius", 
      "", 
      "h5 = hf5 + x5*(hg5-hf5)", 
      "Wcvdot = m1dot*h1 + m3dot*h3 - m2dot*h2 - m5dot*h5", 
      "h4 = h3 + (m1dot/m3dot)*(h1 -h2)    # from steady state energy rate balance", 
      "                                    # interpolating in table A-4, with these P4 and h4", 
      "print '-> The power developed by the turbine is ',round(Wcvdot,2),'kJ/s.'", 
      "print '-> Turbine inlet temperature is',round(T4,2),'degree celcius.'"
     ], 
     "language": "python", 
     "outputs": [
      {
       "output_type": "stream", 
       "stream": "stdout", 
       "text": [
        "-> The power developed by the turbine is  877.84 kJ/s.", 
        "-> Turbine inlet temperature is 180.0 degree celcius."
       ]
      }
     ], 
     "prompt_number": 9
    }, 
    {
     "cell_type": "markdown", 
     "source": [
     ]
    }, 
    {
     "cell_type": "code", 
     "collapsed": false, 
     "input": [
      "", 
      "V = 0.85                               # volume of tank in m^3", 
      "T1 = 260.0                             # initial temperature of the tank in degree celcius", 
      "X1 = 0.7                               # initial quality", 
      "", 
      "uf1 = 1128.4                           # in kg/kg", 
      "ug1 = 2599.0                           # in kg/kg", 
      "", 
      "vf1 = 1.2755e-3                        # in m^3/kg", 
      "vg1 = 0.04221                          # in m^3/kg", 
      "", 
      "", 
      "", 
      "u2 = 2599.0                             # units in KJ/kg ", 
      "v2 = 42.21e-3                           # units in m^3/Kg", 
      "he = 2796.6                             # units in KJ/kg", 
      "", 
      "u1 = uf1 + X1*(ug1-uf1)                 # in kj/kg", 
      "v1 = vf1 + X1*(vg1-vf1)                 # in m^3/kg", 
      "m1 = V/v1                               # initial mass in kg", 
      "m2 =  V/v2                              # final mass in kg", 
      "U2 = m2*u2                              # final internal energy in KJ", 
      "U1 = m1*u1                              # initial internal energy in KJ", 
      "Qcv = (U2-U1) - he*(m2-m1) ", 
      "", 
      "print '-> The amount of heat transfer is',round(Qcv,2),'KJ.'"
     ], 
     "language": "python", 
     "outputs": [
      {
       "output_type": "stream", 
       "stream": "stdout", 
       "text": [
        "-> The amount of heat transfer is 14162.16 KJ."
       ]
      }
     ], 
     "prompt_number": 10
    }, 
    {
     "cell_type": "markdown", 
     "source": [
     ]
    }, 
    {
     "cell_type": "code", 
     "collapsed": false, 
     "input": [
      "", 
      "Pv = 15.0                                            # pressure in the vessel in bar", 
      "Tv = 320.0                                           # temperature in the vessel in degree celcius", 
      "Vt = 0.6                                             # volume of a tank in m^3", 
      "Tt = 400.0                                           # temperature in the tank in degree celcius when the tank is full", 
      "", 
      "m1 = 0", 
      "u1 = 0", 
      "", 
      "v2 = 0.203                                           # Volume in m^3/kg", 
      "m2 = Vt/v2                                           # mass within the tank at the end of the process in kg", 
      "hi = 3081.9                                          # in kj/kg", 
      "u2 = 2951.3                                          # in kj/kg", 
      "", 
      "deltaUcv = m2*u2-m1*u1", 
      "Wcv = hi*(m2-m1)-deltaUcv", 
      "", 
      "print '-> The amount of work developed by the turbine is ',round(Wcv,2),'kJ.'"
     ], 
     "language": "python", 
     "outputs": [
      {
       "output_type": "stream", 
       "stream": "stdout", 
       "text": [
        "-> The amount of work developed by the turbine is  386.01 kJ."
       ]
      }
     ], 
     "prompt_number": 11
    }
   ]
  }
 ]
}