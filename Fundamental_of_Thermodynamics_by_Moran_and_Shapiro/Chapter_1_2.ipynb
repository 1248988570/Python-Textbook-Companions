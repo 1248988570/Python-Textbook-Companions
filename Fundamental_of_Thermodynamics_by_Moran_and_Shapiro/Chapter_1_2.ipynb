{
 "metadata": {
  "name": "Chapter 1"
 }, 
 "nbformat": 2, 
 "worksheets": [
  {
   "cells": [
    {
     "cell_type": "markdown", 
     "source": [
      "#Chapter 1:- Introductory Concepts and Definitions "
     ]
    }, 
    {
     "cell_type": "code", 
     "collapsed": true, 
     "input": [
      "# Theortical Chapter"
     ], 
     "language": "python", 
     "outputs": []
    }
   ]
  }
 ]
}