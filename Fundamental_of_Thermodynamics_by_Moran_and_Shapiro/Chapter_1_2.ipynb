{
 "metadata": {
  "name": "Chapter 1"
 }, 
 "nbformat": 2, 
 "worksheets": [
  {
   "cells": [
    {
     "cell_type": "markdown", 
     "source": [
     ]
    }, 
    {
     "cell_type": "code", 
     "collapsed": true, 
     "input": [
     ], 
     "language": "python", 
     "outputs": []
    }
   ]
  }
 ]
}