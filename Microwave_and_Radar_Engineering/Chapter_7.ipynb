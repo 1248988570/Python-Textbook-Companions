{
 "metadata": {
  "name": "Chapter 7"
 },
 "nbformat": 3,
 "nbformat_minor": 0,
 "worksheets": [
  {
   "cells": [
    {
     "cell_type": "heading",
     "level": 1,
     "metadata": {},
     "source": [
      "Chapter 7:Microwave Measurements"
     ]
    },
    {
     "cell_type": "heading",
     "level": 2,
     "metadata": {},
     "source": [
      "Example 7.1, Page number 278"
     ]
    },
    {
     "cell_type": "code",
     "collapsed": false,
     "input": [
      "''' Calculating VSWR'''\n",
      "\n",
      "import math\n",
      "\n",
      "#Variable declaration\n",
      "f = 10*10**9          #frequency(Hz)\n",
      "a = 4                 #length of waveguide(cms)\n",
      "b = 2.5               #breadth of waveguide(cms)\n",
      "d = 1*10**-1          #d2- d1(m)\n",
      "c = 3*10**10          #velocity of propgation(m/s)\n",
      "\n",
      "#Calculations\n",
      "lamda_c = 2*a\n",
      "lamda_o = c/f\n",
      "lamda_g = lamda_o/math.sqrt(1-((lamda_o/lamda_c)**2))\n",
      "s = lamda_g/(math.pi*d)\n",
      "\n",
      "#Results\n",
      "print \"VSWR =\",round(s)\n"
     ],
     "language": "python",
     "metadata": {},
     "outputs": [
      {
       "output_type": "stream",
       "stream": "stdout",
       "text": [
        "VSWR = 10.0\n"
       ]
      }
     ],
     "prompt_number": 7
    },
    {
     "cell_type": "heading",
     "level": 2,
     "metadata": {},
     "source": [
      "Example 7.2, Page number 279"
     ]
    },
    {
     "cell_type": "code",
     "collapsed": false,
     "input": [
      "'''Find the value of reflected power nad VSWR'''\n",
      "\n",
      "import math\n",
      "\n",
      "#Variable declaation & Calculations\n",
      "Pi = 3*10**-3*100          #incident power(w)\n",
      "Pr = 0.1*10**-3*100        #reflected power(W)\n",
      "rho = math.sqrt(Pr/Pi)\n",
      "s = (1+rho)/(1-rho)\n",
      "\n",
      "#Results\n",
      "print \"Reflected power =\",round(rho,2),\"W\"\n",
      "print \"VSWR =\",round(s,2)"
     ],
     "language": "python",
     "metadata": {},
     "outputs": [
      {
       "output_type": "stream",
       "stream": "stdout",
       "text": [
        "Reflected power = 0.18 W\n",
        "VSWR = 1.45\n"
       ]
      }
     ],
     "prompt_number": 8
    },
    {
     "cell_type": "heading",
     "level": 2,
     "metadata": {},
     "source": [
      "Example 7.3, Page number 279"
     ]
    },
    {
     "cell_type": "code",
     "collapsed": false,
     "input": [
      "'''Find value of VSWR'''\n",
      "\n",
      "import math\n",
      "\n",
      "#Variable declaration\n",
      "Pr = 0.15*10**-3     #reflected power(W)\n",
      "Pi = 2.5*10**-3      #incident power(W)\n",
      "\n",
      "#Calculations\n",
      "rho = math.sqrt(Pr/Pi)\n",
      "s = (1+rho)/(1-rho)\n",
      "\n",
      "#Results\n",
      "print \"VSWR =\",round(s,2)"
     ],
     "language": "python",
     "metadata": {},
     "outputs": [
      {
       "output_type": "stream",
       "stream": "stdout",
       "text": [
        "VSWR = 1.65\n"
       ]
      }
     ],
     "prompt_number": 10
    },
    {
     "cell_type": "heading",
     "level": 2,
     "metadata": {},
     "source": [
      "Example 7.4, Page number 279"
     ]
    },
    {
     "cell_type": "code",
     "collapsed": false,
     "input": [
      "''' Find value of reflected power'''\n",
      "\n",
      "import math\n",
      "\n",
      "#Variable declaration\n",
      "s = 2.                    #VSWR\n",
      "Pi = 4.5*10**-3*1000      #incident power(W)\n",
      "c = 30                    #couplers\n",
      "\n",
      "#Calculations\n",
      "#s = (1+rho)/(1-rho)\n",
      "rho = (s-1)/(s+1)\n",
      "Pr = rho**2*Pi\n",
      "\n",
      "#Results\n",
      "print \"Reflected power =\",Pr,\"W\""
     ],
     "language": "python",
     "metadata": {},
     "outputs": [
      {
       "output_type": "stream",
       "stream": "stdout",
       "text": [
        "Reflected power = 0.5 W\n"
       ]
      }
     ],
     "prompt_number": 19
    }
   ],
   "metadata": {}
  }
 ]
}