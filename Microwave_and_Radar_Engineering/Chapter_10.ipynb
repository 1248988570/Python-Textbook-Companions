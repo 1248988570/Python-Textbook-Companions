{
 "metadata": {
  "name": "Chapter 10"
 },
 "nbformat": 3,
 "nbformat_minor": 0,
 "worksheets": [
  {
   "cells": [
    {
     "cell_type": "heading",
     "level": 1,
     "metadata": {},
     "source": [
      "Chapter 10: Microwave Communication Systems"
     ]
    },
    {
     "cell_type": "heading",
     "level": 2,
     "metadata": {},
     "source": [
      "Example 10.1, Page number 486"
     ]
    },
    {
     "cell_type": "code",
     "collapsed": false,
     "input": [
      "'''Find the maximum distance through which the TV signal could be received by space popagation and \n",
      "the raio horizon'''\n",
      "\n",
      "from math import sqrt\n",
      "\n",
      "#Variable declaration\n",
      "ht = 144      #transmitter antenna height(m)\n",
      "hr = 25       #receiving antenna height(M)\n",
      "\n",
      "#Calculations\n",
      "dt = 4*sqrt(ht)\n",
      "dr = 4*sqrt(hr)\n",
      "d = dt+dr\n",
      "\n",
      "#Results\n",
      "print \"Radio horizon is\",dt,\"km\"\n",
      "print \"The maximum distance of propagation of the TV signal is\",d,\"km\""
     ],
     "language": "python",
     "metadata": {},
     "outputs": [
      {
       "output_type": "stream",
       "stream": "stdout",
       "text": [
        "Radio horizon is 48.0 km\n",
        "The maximum distance of propagation of the TV signal is 68.0 km\n"
       ]
      }
     ],
     "prompt_number": 2
    },
    {
     "cell_type": "heading",
     "level": 2,
     "metadata": {},
     "source": [
      "Example 10.2, Page number 486"
     ]
    },
    {
     "cell_type": "code",
     "collapsed": false,
     "input": [
      "'''Calculate the value of the factor by which the horizon distance of the transmitter can be modified'''\n",
      "\n",
      "from fractions import Fraction\n",
      "\n",
      "#Variable declaration\n",
      "r = 6370*10**3          #radius of earth(km)\n",
      "du_dh = -0.05*10**-6    #refractive index of air near ground\n",
      "\n",
      "#Calculations\n",
      "k = 1/(1+(r*du_dh))\n",
      "\n",
      "#Result\n",
      "print \"The horizon distance of the transmitter can be modified by replaing r by r' is\",round(k,3),\"r\""
     ],
     "language": "python",
     "metadata": {},
     "outputs": [
      {
       "output_type": "stream",
       "stream": "stdout",
       "text": [
        "The horizon distance of the transmitter can be modified by replaing r by r' is 1.467 r\n"
       ]
      }
     ],
     "prompt_number": 5
    },
    {
     "cell_type": "heading",
     "level": 2,
     "metadata": {},
     "source": [
      "Example 10.3, Page number 487"
     ]
    },
    {
     "cell_type": "code",
     "collapsed": false,
     "input": [
      "'''Calculate the carrier transmitter power required'''\n",
      "\n",
      "import math \n",
      "#Variable declaration\n",
      "c = 3.*10**8       #velocity of propagation(m/s)\n",
      "f = 2*10**9       #frequency(Hz)\n",
      "r = 50*10**3      #repeater spacing(km)\n",
      "Pr = 20           #carrier power(dBm)\n",
      "Gt = 34           #antenna gain(dB)\n",
      "L = 10            #dB\n",
      "Gr = 34           #dB\n",
      "\n",
      "#Calculations\n",
      "lamda = c/f\n",
      "Pt = -Pr+(10*math.log10(4*math.pi*r**2))-Gt-(10*math.log10(lamda**2/(4*math.pi)))+L-Gr\n",
      "\n",
      "#Results\n",
      "print \"The carrier tansmitted power required is\",round(Pt,2),\"dBm\""
     ],
     "language": "python",
     "metadata": {},
     "outputs": [
      {
       "output_type": "stream",
       "stream": "stdout",
       "text": [
        "The carrier tansmitted power required is 54.44 dBm\n"
       ]
      }
     ],
     "prompt_number": 25
    },
    {
     "cell_type": "heading",
     "level": 2,
     "metadata": {},
     "source": [
      "Exampl 10.4, Page number 487"
     ]
    },
    {
     "cell_type": "code",
     "collapsed": false,
     "input": [
      "'''Calculate the received power at input of satellite receiver'''\n",
      "\n",
      "import math\n",
      "\n",
      "#Variable declaration\n",
      "f = 6.*10**9     #uplink frequency(Hz)\n",
      "e = 5            #elevation angle(degrees)\n",
      "Pt = 1.*10**3     #transmitter power(W)\n",
      "Gt = 60.         #gain of transmitter(dB)\n",
      "Gr = 0           #gain of receiver(dB)\n",
      "d = 36000*10**3  #distance between ground and satellite(m)\n",
      "c = 3.*10**8     #velocity of propagation(m/s)\n",
      "\n",
      "#Calculation\n",
      "Gt1 = 10**(Gt/10)\n",
      "Gr1 = 10.**(Gr/10)\n",
      "r = d/(math.sin(math.radians(e)))\n",
      "lamda = c/f\n",
      "Pr = (Pt*Gt1*Gr1*lamda**2)/(4*math.pi*r**2*4*math.pi)\n",
      "\n",
      "#Result\n",
      "print \"Received power =\",round((Pr/1E-14),1),\"*10^-14 W\""
     ],
     "language": "python",
     "metadata": {},
     "outputs": [
      {
       "output_type": "stream",
       "stream": "stdout",
       "text": [
        "Received power = 9.3 *10^-14 W\n"
       ]
      }
     ],
     "prompt_number": 41
    },
    {
     "cell_type": "heading",
     "level": 2,
     "metadata": {},
     "source": [
      "Example 10.5, Page number 487"
     ]
    },
    {
     "cell_type": "code",
     "collapsed": false,
     "input": [
      "'''Calculate the antenna beam angle'''\n",
      "\n",
      "import math\n",
      "\n",
      "#Variable declaration\n",
      "r = 6371           #radius of the earth(km)\n",
      "\n",
      "#Calculation\n",
      "d = 35855+r        #distance of satellite from center of the earth(km)\n",
      "b = (math.degrees(math.pi)*r)/d\n",
      "\n",
      "#Result\n",
      "print \"Antenna beam angle =\",round(b,2),\"degrees\""
     ],
     "language": "python",
     "metadata": {},
     "outputs": [
      {
       "output_type": "stream",
       "stream": "stdout",
       "text": [
        "Antenna beam angle = 27.16 degrees\n"
       ]
      }
     ],
     "prompt_number": 47
    },
    {
     "cell_type": "heading",
     "level": 2,
     "metadata": {},
     "source": [
      "Example 10.6, Page number 488"
     ]
    },
    {
     "cell_type": "code",
     "collapsed": false,
     "input": [
      "'''Calculate the round trip time between earth station and satellite. Find the same for vertical transmission'''\n",
      "\n",
      "import math\n",
      "\n",
      "#Variable declaration\n",
      "r = 6371         #radius of earth(km)\n",
      "h = 35855        #height(km) \n",
      "phi = 5          #elevation angle(degrees)\n",
      "c = 3*10**8      #velocity of propagation(m/s)\n",
      "B = 90           #angle for vertical transmission(degrees)\n",
      "\n",
      "#Calculations\n",
      "d = math.sqrt(((r+h)**2)-((r*math.cos(math.radians(phi)))**2))- (r*math.sin(math.radians(phi)))\n",
      "T = (2*d*10**3)/c\n",
      "dv = math.sqrt(((r+h)**2)-(r**2))\n",
      "Tv = (2*(dv-r)*10**3)/c\n",
      "\n",
      "#Results\n",
      "print \"The round trip time between earth station and satellite is\",round((T/1E-3),2),\"msec\"\n",
      "print \"The round trip time for vertical transmission is\",round((Tv/1E-3),2),\"msec\""
     ],
     "language": "python",
     "metadata": {},
     "outputs": [
      {
       "output_type": "stream",
       "stream": "stdout",
       "text": [
        "The round trip time between earth station and satellite is 274.61 msec\n",
        "The round trip time for vertical transmission is 235.81 msec\n"
       ]
      }
     ],
     "prompt_number": 53
    },
    {
     "cell_type": "heading",
     "level": 2,
     "metadata": {},
     "source": [
      "Example 10.7, Page number 488"
     ]
    },
    {
     "cell_type": "code",
     "collapsed": false,
     "input": [
      "'''Calculate the figure of merit for an earth station'''\n",
      "\n",
      "import math\n",
      "\n",
      "#Variable declaration\n",
      "Tant = 25      #effective noise temperature for antenna(K)\n",
      "Tr = 75        #receiver oise temperature(K)\n",
      "G = 45         #power gain(dB)\n",
      "\n",
      "#Calculations\n",
      "T = Tant+Tr\n",
      "Tdb = 10*math.log10(T)\n",
      "M = G - Tdb\n",
      "\n",
      "#Results\n",
      "print \"The figure of merit for earth station is\",M,\"dB\""
     ],
     "language": "python",
     "metadata": {},
     "outputs": [
      {
       "output_type": "stream",
       "stream": "stdout",
       "text": [
        "The figure of merit for earth station is 25.0 dB\n"
       ]
      }
     ],
     "prompt_number": 5
    },
    {
     "cell_type": "heading",
     "level": 2,
     "metadata": {},
     "source": [
      "Example 10.8, Page number 488"
     ]
    },
    {
     "cell_type": "code",
     "collapsed": false,
     "input": [
      "'''Determine carrier to noise ratio'''\n",
      "\n",
      "#Variable declaration\n",
      "EIRP = 55.5   #satellite ESM(dBW)\n",
      "M = 35        #freespace loss(dB)\n",
      "Lfs = 245.3   #GT of earth station(dB)\n",
      "\n",
      "#Calculation\n",
      "C_No = EIRP + M - Lfs + 228.6\n",
      "\n",
      "#Result\n",
      "print \"The carrier to noise ratio is\",round(C_No,2),\"dB\""
     ],
     "language": "python",
     "metadata": {},
     "outputs": [
      {
       "output_type": "stream",
       "stream": "stdout",
       "text": [
        "The carrier to noise ratio is 73.8 dB\n"
       ]
      }
     ],
     "prompt_number": 9
    },
    {
     "cell_type": "heading",
     "level": 2,
     "metadata": {},
     "source": [
      "Example 10.9, Page number 489"
     ]
    },
    {
     "cell_type": "code",
     "collapsed": false,
     "input": [
      "'''Calculate the system noise temperature'''\n",
      "\n",
      "import math\n",
      "\n",
      "#Variable declaration\n",
      "D = 30         #diameter of dish(m)\n",
      "f = 4*10**9    #downlink frequency(Hz)\n",
      "M = 20         #G/T ratio of earth station\n",
      "c = 3.*10**8    #velocity of propagation(m/s)\n",
      "\n",
      "#Calculations\n",
      "Ae = (math.pi*D**2)/4\n",
      "lamda = c/f\n",
      "G = (4*math.pi*Ae)/lamda**2\n",
      "Gdb = 10*math.log10(G)\n",
      "Ts = Gdb - M\n",
      "\n",
      "#Result\n",
      "print \"The system noise temperature is\",round(Ts,2),\"dB\" "
     ],
     "language": "python",
     "metadata": {},
     "outputs": [
      {
       "output_type": "stream",
       "stream": "stdout",
       "text": [
        "The system noise temperature is 41.98 dB\n"
       ]
      }
     ],
     "prompt_number": 24
    },
    {
     "cell_type": "heading",
     "level": 2,
     "metadata": {},
     "source": [
      "Example 10.10, Page number 489"
     ]
    },
    {
     "cell_type": "code",
     "collapsed": false,
     "input": [
      "''' Find the diameter & half power beam width of paraboic antenna'''\n",
      "\n",
      "import math\n",
      "\n",
      "#Variable declaration\n",
      "Gp = 1500           #power gain\n",
      "lamda = 10*10**-2   #m\n",
      "\n",
      "#Calculations\n",
      "D = math.sqrt((Gp*(lamda**2))/(math.pi**2))\n",
      "HPBW = 58*lamda/D\n",
      "\n",
      "#Results\n",
      "print \"The diamater of parabolic antenna is\",round(D,2),\"m\"\n",
      "print \"Half power beam width of paraboic antenna =\",round(HPBW,2)"
     ],
     "language": "python",
     "metadata": {},
     "outputs": [
      {
       "output_type": "stream",
       "stream": "stdout",
       "text": [
        "15791.3670417\n",
        "The diamater of parabolic antenna is 1.23 m\n",
        "Half power beam width of paraboic antenna = 4.7\n"
       ]
      }
     ],
     "prompt_number": 37
    },
    {
     "cell_type": "heading",
     "level": 2,
     "metadata": {},
     "source": [
      "Example 10.11, Page number 490"
     ]
    },
    {
     "cell_type": "code",
     "collapsed": false,
     "input": [
      "'''Calculate overall gain of the system'''\n",
      "\n",
      "import math\n",
      "\n",
      "#Variable declaration\n",
      "'''Let Gp1 be the gain and d1 be the diameter of the parabolic reflectors in the original system\n",
      "then Gp1 = (6*D1**2)/(lamda**2)\n",
      "If the gain and diameter of the antenna in the modified system is Gp2 and d2,\n",
      "then Gp2 = (6*D2**2)/(lamda**2)\n",
      "Gain = 10*log(Gp2/Gp1)\n",
      "Substituting D2=2D1 in Gp2, we get,'''\n",
      "\n",
      "#Calculations\n",
      "G = 10*math.log10(2)\n",
      "Gall = 2*G\n",
      "\n",
      "#Results\n",
      "print \"Overall gain of the system is\",round(Gall,2),\"dB\""
     ],
     "language": "python",
     "metadata": {},
     "outputs": [
      {
       "output_type": "stream",
       "stream": "stdout",
       "text": [
        "Overall gain of the system is 6.02 dB\n"
       ]
      }
     ],
     "prompt_number": 45
    },
    {
     "cell_type": "heading",
     "level": 2,
     "metadata": {},
     "source": [
      "Esample 10.12, Page number 490"
     ]
    },
    {
     "cell_type": "code",
     "collapsed": false,
     "input": [
      "'''Calculate -\n",
      "a)beamwidth between first nulls\n",
      "b)beamwidth between half power points\n",
      "c)gain of antenna'''\n",
      "\n",
      "#Variable declaration\n",
      "D = 3*10**2     #diameter of paraboloid(cm)\n",
      "f = 3.*10**9     #frequency(Hz)\n",
      "c = 3.*10**10     #velocity of propagation(m/s)\n",
      "\n",
      "#Calculations\n",
      "lamda = c/f\n",
      "BWFN = (140*lamda)/D\n",
      "BWHP = (70*lamda)/D\n",
      "Gp = (6*D**2)/(lamda**2)\n",
      "\n",
      "#Results\n",
      "print \"Beamwidth between first nulls =\",round(BWFN,2),\"degrees\"\n",
      "print \"Beamwidth between half power points =\",round(BWHP,2),\"degrees\"\n",
      "print \"Gain of antenna =\",round(Gp,2)"
     ],
     "language": "python",
     "metadata": {},
     "outputs": [
      {
       "output_type": "stream",
       "stream": "stdout",
       "text": [
        "Beamwidth between first nulls = 4.67 degrees\n",
        "Beamwidth between half power points = 2.33 degrees\n",
        "Gain of antenna = 5400.0\n"
       ]
      }
     ],
     "prompt_number": 51
    },
    {
     "cell_type": "heading",
     "level": 2,
     "metadata": {},
     "source": [
      "Example 10.13, Page number 490"
     ]
    },
    {
     "cell_type": "code",
     "collapsed": false,
     "input": [
      "'''Calculate power gain of optimum horn antenna'''\n",
      "\n",
      "#Variable declaration\n",
      "'''A = 5*lamda   #square aperture of a side dimension\n",
      "Gp = 4.5* A^2/lamda^2'''\n",
      "A = 5\n",
      "\n",
      "#Calculation\n",
      "Gp = 4.5*A**2\n",
      "\n",
      "#Result\n",
      "print \"Power gain of optimum horn antenna =\",Gp\n"
     ],
     "language": "python",
     "metadata": {},
     "outputs": [
      {
       "output_type": "stream",
       "stream": "stdout",
       "text": [
        "Power gain of optimum horn antenna = 112.5\n"
       ]
      }
     ],
     "prompt_number": 53
    }
   ],
   "metadata": {}
  }
 ]
}