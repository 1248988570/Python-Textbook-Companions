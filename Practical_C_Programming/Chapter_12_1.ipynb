{
 "metadata": {
  "name": "Chapter 12"
 },
 "nbformat": 3,
 "nbformat_minor": 0,
 "worksheets": [
  {
   "cells": [
    {
     "cell_type": "heading",
     "level": 1,
     "metadata": {},
     "source": "Chapter 12: Advanced types"
    },
    {
     "cell_type": "heading",
     "level": 3,
     "metadata": {},
     "source": "Example 12.1, Page number: 212"
    },
    {
     "cell_type": "code",
     "collapsed": false,
     "input": "# Example 12.1.py\n# To illustrate the use of a 'union'\n\n\n# Union declaration\nfrom ctypes import *\nclass value (Union) :\n   _fields_ = [(\"i_value\", c_int),\n               (\"f_value\", c_float)]\n\n# Calculation and result\ndata = value (3, 5.0)\nprint (data.i_value, data.f_value)",
     "language": "python",
     "metadata": {},
     "outputs": [
      {
       "output_type": "stream",
       "stream": "stdout",
       "text": "(1084227584, 5.0)\n"
      }
     ],
     "prompt_number": 1
    }
   ],
   "metadata": {}
  }
 ]
}