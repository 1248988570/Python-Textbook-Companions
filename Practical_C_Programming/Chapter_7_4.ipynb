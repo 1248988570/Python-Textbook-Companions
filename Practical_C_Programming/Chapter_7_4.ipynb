{
 "metadata": {
  "name": "Chapter 7"
 },
 "nbformat": 3,
 "nbformat_minor": 0,
 "worksheets": [
  {
   "cells": [
    {
     "cell_type": "heading",
     "level": 1,
     "metadata": {},
     "source": "Chapter 7: Programming process"
    },
    {
     "cell_type": "heading",
     "level": 3,
     "metadata": {},
     "source": "Example 7.1, Page number: 126"
    },
    {
     "cell_type": "code",
     "collapsed": false,
     "input": "# Example 7.1.py\n# To perform an operation based on operator input by the user\n\n\n# Variable declaration\nresult = 0\ni = 0\n\n# Calculation and result\nwhile (i < 3) :\n   print ('Result: %d' % result)\n   operator = '+'\n   value = 10\n\n   if operator == '+' :\n      result += value\n   else :\n      print ('Unknown operator %c' % operator)\n   i = i + 1         ",
     "language": "python",
     "metadata": {},
     "outputs": [
      {
       "output_type": "stream",
       "stream": "stdout",
       "text": "Result: 0\nResult: 10\nResult: 20\n"
      }
     ],
     "prompt_number": 1
    },
    {
     "cell_type": "heading",
     "level": 3,
     "metadata": {},
     "source": "Example 7.2, Page number: 133"
    },
    {
     "cell_type": "code",
     "collapsed": false,
     "input": "# Example 7.2.py\n# To perform various arithmetic operations based on operator input by the user\n\n\n# Variable declaration\nresult = 0\ni = 0\n\n# Calculation and result\nwhile (i < 3) :\n   print ('Result: %d' % result)\n   operator = '+'\n   value = 5\n\n   if operator == 'q' or operator == 'Q' :\n      break\n\n   if operator == '+' :\n      result += value\n\n   if operator == '-' :\n      result -= value\n\n   if operator == '*' :\n      result *= value\n\n   if operator == '/' :\n      if value == 0 :\n         print ('Error: Divide by zero')\n         print ('operation ignored') \n      else :\n         result /= value\n\n   i = i + 1",
     "language": "python",
     "metadata": {},
     "outputs": [
      {
       "output_type": "stream",
       "stream": "stdout",
       "text": "Result: 0\nResult: 5\nResult: 10\n"
      }
     ],
     "prompt_number": 4
    },
    {
     "cell_type": "heading",
     "level": 3,
     "metadata": {},
     "source": "Example 7.3, Page number: 140"
    },
    {
     "cell_type": "code",
     "collapsed": false,
     "input": "# Example 7.3.py\n# Guess - A simple guessing game\n# A random number is chosen between 1 and 100. \n# The player is given a set of bounds and \n# must choose a number between them. \n# If the player chooses the correct number, he wins.\n# Otherwise, the bounds are adjusted to reflect\n# the player's guess and the game continues.\n\n# Variable declaration, calculation and result\nimport sys\nimport random\nwhile (1) :\n\n   # random number to be guessed\n   number_to_guess = random.randrange (1, 101, 1)\n\n   # current lower limit of player's range\n   low_limit = 0\n\n   # current upper limit of player's range\n   high_limit = 100\n   \n   # number of times player guessed\n   guess_count = 0\n\n   while (1) :\n      \n      # tell user what the bounds are and get his guess\n      print ('Bounds %d - %d\\n' % (low_limit, high_limit))\n      print ('Value[%d]?' % guess_count)\n      \n      guess_count += 1\n\n      # number gotten from the player\n      player_number = 50\n\n      # did he guess right?\n      if (player_number == number_to_guess) :\n         break\n\n      # adjust bounds for next guess\n      if (player_number < number_to_guess) :\n         low_limit = player_number\n    \n      else :\n         high_limit = player_number\n\n   print ('Bingo\\n')",
     "language": "python",
     "metadata": {},
     "outputs": []
    }
   ],
   "metadata": {}
  }
 ]
}