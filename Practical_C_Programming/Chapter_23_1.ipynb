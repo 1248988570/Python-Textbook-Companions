{
 "metadata": {
  "name": "Chapter 23"
 },
 "nbformat": 3,
 "nbformat_minor": 0,
 "worksheets": [
  {
   "cells": [
    {
     "cell_type": "heading",
     "level": 1,
     "metadata": {},
     "source": "Chapter 23: Programming adages"
    },
    {
     "cell_type": "heading",
     "level": 3,
     "metadata": {},
     "source": "Example 23.1, Page number: 447"
    },
    {
     "cell_type": "code",
     "collapsed": false,
     "input": "# Example 23.1.py\n# To check whether the number input by the user is 2 or not\n\n\n# Variable declaration\nnumber = 2\n\n# Calculation and result\nif (number != 2) :\n   print ('Number is not two\\n')\nelse :\n   print ('Number is two\\n')",
     "language": "python",
     "metadata": {},
     "outputs": [
      {
       "output_type": "stream",
       "stream": "stdout",
       "text": "Number is two\n\n"
      }
     ],
     "prompt_number": 1
    }
   ],
   "metadata": {}
  }
 ]
}