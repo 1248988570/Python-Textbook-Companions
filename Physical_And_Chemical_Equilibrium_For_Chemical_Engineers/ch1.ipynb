{
 "metadata": {
  "name": ""
 },
 "nbformat": 3,
 "nbformat_minor": 0,
 "worksheets": [
  {
   "cells": [
    {
     "cell_type": "heading",
     "level": 1,
     "metadata": {},
     "source": [
      "Chapter 1 :  Introduction to Equilibrium"
     ]
    },
    {
     "cell_type": "heading",
     "level": 3,
     "metadata": {},
     "source": [
      "Example 1.1  Page: 9"
     ]
    },
    {
     "cell_type": "code",
     "collapsed": false,
     "input": [
      "# Calculate Mass Fraction, Mole fraction, Molality and PPM.\n",
      "\n",
      "import math \n",
      "\n",
      "# Variables\n",
      "m_i = 10.            #[g]\n",
      "m_w = 990.           #[g]\n",
      "M_i = 342.3          #[g]\n",
      "M_w = 18.            #[g]\n",
      "\n",
      "# Calculations\n",
      "# The mass fraction is \n",
      "# ( mass fraction of sucrose ) = x_i (by mass) = m_i/(sum of all subsmath.tances)\n",
      "\n",
      "x_i = m_i/(m_i+m_w)\n",
      "x_i = x_i*100.      # [in percentage]\n",
      "\n",
      "# This is also the weight fraction.\n",
      "# The mole fraction is\n",
      "# ( mole fraction of sucrose ) = x_j (by mole) = n_i/(sum of number moles of all the subsmath.tances)\n",
      "n_i = m_i/M_i       # number of moles of sucrose\n",
      "n_w = m_w/M_w       # number of moles of water\n",
      "x_j = n_i/(n_i+n_w)\n",
      "x_j = x_j*100       # [in percentage]\n",
      "\n",
      "# The molality, a concentration unit is widely used in equilibrium calculations, is defined as \n",
      "# m (molality) = (moles of solute)/(kg of solvent)\n",
      "m = n_i/m_w*1000            #[molal]\n",
      "# For solutions of solids and liquids (but not gases) ppm almost always means ppm by mass, so \n",
      "x_ppm = x_i*10**(6)/100.     #[ppm]\n",
      "\n",
      "# Results\n",
      "print \" sucrose concentration in terms of the mass fraction is %f%%\"%(x_i)\n",
      "print \" sucrose concentration in terms of the mole fraction is %f%%\"%(x_j)\n",
      "print \" sucrose concentration in terms of the molality is      %f molal\"%(m)\n",
      "print \" sucrose concentration in terms of the ppm is           %f ppm\"%(x_ppm)\n"
     ],
     "language": "python",
     "metadata": {},
     "outputs": [
      {
       "output_type": "stream",
       "stream": "stdout",
       "text": [
        " sucrose concentration in terms of the mass fraction is 1.000000%\n",
        " sucrose concentration in terms of the mole fraction is 0.053088%\n",
        " sucrose concentration in terms of the molality is      0.029509 molal\n",
        " sucrose concentration in terms of the ppm is           10000.000000 ppm\n"
       ]
      }
     ],
     "prompt_number": 3
    },
    {
     "cell_type": "heading",
     "level": 3,
     "metadata": {},
     "source": [
      "Example 1.2  Page: 9"
     ]
    },
    {
     "cell_type": "code",
     "collapsed": false,
     "input": [
      "# Calculate Mass concentration , Mole concentration and Molarity\n",
      "\n",
      "import math \n",
      "\n",
      "# Variables\n",
      "T = 20.                       #[C]\n",
      "d = 1.038143/1000*10.**(6)    #[kg/m**(3)]\n",
      "m_i = 10.                     #[g] mass of sucrose\n",
      "M_i = 342.3                   #[g/mol] molecular weight of sucrose\n",
      "\n",
      "# Calculations\n",
      "# In the previous example i.e. example 1.1 the mass was chosen to be 1.00 kg, so that\n",
      "m = 1.00                      #[kg]\n",
      "V = m/d*1000                  #[L]\n",
      "\n",
      "# The mass concentration is\n",
      "# m_1 ( mass concentration of sucrose ) = (mass of sucrose)/(volume of solution)\n",
      "m_1 = m_i/V                   #[g/L]\n",
      "\n",
      "# The mole concentration is \n",
      "# m_2 ( mole concentration of sucrose ) = (moles of sucrose)/(volume of solution)\n",
      "\n",
      "m_2 = (m_i/M_i)/V             #[mol/L]\n",
      "\n",
      "# Results\n",
      "print \" Mass concentration of the solution is %f g/L\"%(m_1)\n",
      "print \" Mole concentration of the solution is %f mol/L\"%(m_2)\n",
      "\n",
      "# By the definition of the molarity, molarity is mole concentration of the solute\n",
      "# so molarity \n",
      "print \" Molarity of the solution is           %f mol/L\"%(m_2)\n"
     ],
     "language": "python",
     "metadata": {},
     "outputs": [
      {
       "output_type": "stream",
       "stream": "stdout",
       "text": [
        " Mass concentration of the solution is 10.381430 g/L\n",
        " Mole concentration of the solution is 0.030328 mol/L\n",
        " Molarity of the solution is           0.030328 mol/L\n"
       ]
      }
     ],
     "prompt_number": 4
    },
    {
     "cell_type": "code",
     "collapsed": false,
     "input": [],
     "language": "python",
     "metadata": {},
     "outputs": []
    }
   ],
   "metadata": {}
  }
 ]
}