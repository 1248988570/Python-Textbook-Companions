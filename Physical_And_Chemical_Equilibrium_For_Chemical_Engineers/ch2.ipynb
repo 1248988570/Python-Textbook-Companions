{
 "metadata": {
  "name": ""
 },
 "nbformat": 3,
 "nbformat_minor": 0,
 "worksheets": [
  {
   "cells": [
    {
     "cell_type": "heading",
     "level": 1,
     "metadata": {},
     "source": [
      "\n",
      "Chapter 2 : Basic Thermodynamics"
     ]
    },
    {
     "cell_type": "heading",
     "level": 3,
     "metadata": {},
     "source": [
      "Example 2.1  Page: 27"
     ]
    },
    {
     "cell_type": "code",
     "collapsed": false,
     "input": [
      "''' Calculate internal energy of the steam\n",
      "enthalpy of the steam,entropy of the steam and Piston expanding.\n",
      "'''\n",
      "import math \n",
      "\n",
      "m = 1.          #[lbm] Mass of the steam\n",
      "T_1 = 300.      #[F] Initial temperature\n",
      "P_1 = 14.7      #[psia] Initial pressure\n",
      "P_sorronding = 14.7     #[psia]\n",
      "Q = 50.         #[Btu] Amount of the energy added to the system as heat\n",
      "\n",
      "\n",
      "u_initial = 1109.6      #[Btu/lbm] Internal energy of the steam\n",
      "h_initial = 1192.6      #[Btu/lbm] Enthalpy of the steam\n",
      "s_initial = 1.8157      #[Btu/(lbm*R)] Entropy of the steam\n",
      "\n",
      "\n",
      "h_final = h_initial + Q     #[Btu/lbm]\n",
      "\n",
      "T_2 = 405.7                 #[F] Final temperature\n",
      "\n",
      "u_final = 1147.7            #[Btu/lbm]\n",
      "s_final = 1.8772            #[Btu/(lbm*R)]\n",
      "\n",
      "delta_u = u_final - u_initial       #[Btu/lbm]\n",
      "delta_s = s_final - s_initial       #[Btu/(lbm*R)]\n",
      "delta_h = Q                         #[Btu/lbm]\n",
      "\n",
      "w = delta_h - delta_u               #[Btulbm]\n",
      "\n",
      "print \"The increase in internal energy of the steam by adding the heat is %0.2f Btu/lbm\"%(delta_u)\n",
      "print \"The increase in enthalpy of the steam by adding the heat is        %0.2f Btu/lbm\"%(delta_h)\n",
      "print \"The increase in entropy of the steam by adding the heat is         %0.4f Btu/lbm\"%(delta_s)\n",
      "print \"Work done by the piston expanding against the atmosphere is       %0.2f Btu/lbm\"%(w)\n"
     ],
     "language": "python",
     "metadata": {},
     "outputs": [
      {
       "output_type": "stream",
       "stream": "stdout",
       "text": [
        "The increase in internal energy of the steam by adding the heat is 38.10 Btu/lbm\n",
        "The increase in enthalpy of the steam by adding the heat is        50.00 Btu/lbm\n",
        "The increase in entropy of the steam by adding the heat is         0.0615 Btu/lbm\n",
        "Work done by the piston expanding against the atmosphere is       11.90 Btu/lbm\n"
       ]
      }
     ],
     "prompt_number": 4
    },
    {
     "cell_type": "heading",
     "level": 3,
     "metadata": {},
     "source": [
      "Example 2.2  Page: 28\n"
     ]
    },
    {
     "cell_type": "code",
     "collapsed": false,
     "input": [
      "\n",
      "import math \n",
      "\n",
      "T_in = 600.      #[F] Input steam temperature\n",
      "P_in = 200.      #[psia] Input steam pressure\n",
      "P_exit = 50.     #[psia]\n",
      "\n",
      "\n",
      "h_in = 1322.1       #[Btu/lbm]\n",
      "s_in = 1.6767       #[Btu/(lb*R)]\n",
      "\n",
      "\n",
      "\n",
      "T_in = 307.1        #[R]\n",
      "\n",
      "h_out = 1188.1      #[Btu/lb]\n",
      "\n",
      "W_per_pound = (h_in - h_out)       #[Btu/lb]\n",
      "\n",
      "print \" The work output of the turbine of steam is %0.1f Btu/lb\"%(-W_per_pound)\n"
     ],
     "language": "python",
     "metadata": {},
     "outputs": [
      {
       "output_type": "stream",
       "stream": "stdout",
       "text": [
        " The work output of the turbine of steam is -134.0 Btu/lb\n"
       ]
      }
     ],
     "prompt_number": 1
    },
    {
     "cell_type": "heading",
     "level": 3,
     "metadata": {},
     "source": [
      "Example 2.3   Page: 38"
     ]
    },
    {
     "cell_type": "code",
     "collapsed": false,
     "input": [
      "\n",
      "import math \n",
      "\n",
      "\n",
      "T = 500.        #[F]\n",
      "P = 680.        #[psi]\n",
      "\n",
      "T_c = 647.1*1.8     #[R]\n",
      "P_c = 220.55*14.51  #[psia]\n",
      "w = 0.345\n",
      "T_r = (T+459.67)/T_c\n",
      "P_r = P/P_c\n",
      "z_0 = 1+P_r/T_r*(0.083-0.422/T_r**(1.6))\n",
      "z_1 = P_r/T_r*(0.139-0.172/T_r**(4.2))\n",
      "z = z_0+w*z_1\n",
      "\n",
      "print \"The compressibility factor of steam at the given state is %0.3f\"%(z)\n",
     ],
     "language": "python",
     "metadata": {},
     "outputs": [
      {
       "output_type": "stream",
       "stream": "stdout",
       "text": [
        "The compressibility factor of steam at the given state is 0.851\n"
       ]
      }
     ],
     "prompt_number": 6
    },
    {
     "cell_type": "code",
     "collapsed": false,
     "input": [],
     "language": "python",
     "metadata": {},
     "outputs": []
    }
   ],
   "metadata": {}
  }
 ]
}