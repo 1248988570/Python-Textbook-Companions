{
 "metadata": {
  "name": ""
 },
 "nbformat": 3,
 "nbformat_minor": 0,
 "worksheets": [
  {
   "cells": [
    {
     "cell_type": "heading",
     "level": 1,
     "metadata": {},
     "source": [
      "Chapter 6 :  Partial Molal Properties"
     ]
    },
    {
     "cell_type": "heading",
     "level": 3,
     "metadata": {},
     "source": [
      " Example 6.1  Page: 108\n"
     ]
    },
    {
     "cell_type": "code",
     "collapsed": false,
     "input": [
      "'''\n",
      "calculate\n",
      "Partial molal volume of ethanol in water at zero molality\n",
      "Partial molal volume of ethanol in water at unity molality \n",
      "'''\n",
      "\n",
      "import math \n",
      "\n",
      "T = 20.             #[C]\n",
      "m_1 = 0.            #[molal]\n",
      "m_2 = 1.            #[molal]\n",
      "\n",
      "m = 0               #[molal]\n",
      "v_1 = 0.054668-2*0.000418*m         #[L/mol]\n",
      "m = 1.              #[molal]\n",
      "v_2 = 0.054668-2*0.000418*m         #[L/mol]\n",
      "v_1 = v_1*1000                      #[cm**(3)/mol]\n",
      "v_2 = v_2*1000                      #[cm**(3)/mol]\n",
      "\n",
      "print \"Partial molal volume of ethanol in water at zero molality is  %f cm**3/mol\"%(v_1)\n",
      "print \" Partial molal volume of ethanol in water at unity molality is %f cm**3/mol\"%(v_2)\n"
     ],
     "language": "python",
     "metadata": {},
     "outputs": [
      {
       "output_type": "stream",
       "stream": "stdout",
       "text": [
        "Partial molal volume of ethanol in water at zero molality is  54.668000 cm**3/mol\n",
        " Partial molal volume of ethanol in water at unity molality is 53.832000 cm**3/mol\n"
       ]
      }
     ],
     "prompt_number": 11
    },
    {
     "cell_type": "heading",
     "level": 3,
     "metadata": {},
     "source": [
      " Example 6.2  Page: 109\n"
     ]
    },
    {
     "cell_type": "code",
     "collapsed": false,
     "input": [
      "\n",
      "import math \n",
      "\n",
      "n_eth = 1.          #[mol]\n",
      "W_water = 1.        #[kg]\n",
      "Temp = 20.          #[C]\n",
      "\n",
      "v_ethanol = 58.4            #[cm**(3)/mol]\n",
      "v_ethanol = v_ethanol/1000  # [L/mol]\n",
      "v_water = 1.0019            #[L/1000g]\n",
      "\n",
      "m = n_eth/W_water           #[molal]\n",
      "V_final_mix = 1.0019+0.054668*m-0.000418*m**(2)\n",
      "\n",
      "V_exp = V_final_mix-v_ethanol-v_water       #[L]\n",
      "V_exp = V_exp*1000                          #[cm**(3)]\n",
      "\n",
      "print \"Volume change on mixing emath.tanol and water is %0.3f cubic cm\"%(V_exp)\n",
      "\n"
     ],
     "language": "python",
     "metadata": {},
     "outputs": [
      {
       "output_type": "stream",
       "stream": "stdout",
       "text": [
        "Volume change on mixing emath.tanol and water is -4.150 cubic cm\n"
       ]
      }
     ],
     "prompt_number": 12
    },
    {
     "cell_type": "heading",
     "level": 3,
     "metadata": {},
     "source": [
      " Example 6.3  Page: 109\n"
     ]
    },
    {
     "cell_type": "code",
     "collapsed": false,
     "input": [
      "\n",
      "import math \n",
      "\n",
      "v_i_average = 0.05425       #[L/mol]\n",
      "v_i_0 = 0.0584              #[L/mol]\n",
      "delta_n = 1.00              #[mol]\n",
      "\n",
      "delta_V_mixing = (v_i_average-v_i_0)*delta_n        #[L]\n",
      "delta_V_mixing = delta_V_mixing*1000                #[cm**(3)]\n",
      "\n",
      "print \"Volume change on mixing etanol and water is %f cm**3\"%(delta_V_mixing)\n",
     ],
     "language": "python",
     "metadata": {},
     "outputs": [
      {
       "output_type": "stream",
       "stream": "stdout",
       "text": [
        "Volume change on mixing etanol and water is -4.150000 cm**3\n"
       ]
      }
     ],
     "prompt_number": 13
    },
    {
     "cell_type": "heading",
     "level": 3,
     "metadata": {},
     "source": [
      " Example 6.4  Page: 113\n"
     ]
    },
    {
     "cell_type": "code",
     "collapsed": false,
     "input": [
      "'''\n",
      "calculate\n",
      "Partial molar volume of the ethanol \n",
      "Partial molar volume of the water \n",
      "'''\n",
      "import math \n",
      "\n",
      "m = 1.              #[molal] Molality of the solution with respect to ethanol\n",
      "M_water = 18.       #[g/mol] molecular weight of water\n",
      "\n",
      "x_ethanol = m/(m + 1000/M_water)\n",
      "\n",
      "\n",
      "v_math_tan = 0.018032 + 0.037002*x_ethanol - \\\n",
      "0.039593*x_ethanol**(2) + 0.21787*x_ethanol**(3)            #[L/mol]\n",
      "\n",
      "v_derv_math_tan = 0.037002 - 2*0.039593*x_ethanol + 3*0.21787*x_ethanol**(2)        #[L/mol]\n",
      "\n",
      "\n",
      "x_math_tan = x_ethanol\n",
      "v_ethanol = v_math_tan + (1-x_math_tan)*(v_derv_math_tan)       #[L/mol]\n",
      "v_water = v_math_tan - x_math_tan*(v_derv_math_tan)             #[L/mol]\n",
      "\n",
      "print \" Partial molar volume of the ethanol in the given solution is %f L/mol\"%(v_ethanol)\n",
      "print \" Partial molar volume of the water in the given solution is %f L/mol\"%(v_water)\n"
     ],
     "language": "python",
     "metadata": {},
     "outputs": [
      {
       "output_type": "stream",
       "stream": "stdout",
       "text": [
        " Partial molar volume of the ethanol in the given solution is 0.053848 L/mol\n",
        " Partial molar volume of the water in the given solution is 0.018042 L/mol\n"
       ]
      }
     ],
     "prompt_number": 14
    },
    {
     "cell_type": "heading",
     "level": 3,
     "metadata": {},
     "source": [
      " Example 6.7  Page: 117\n"
     ]
    },
    {
     "cell_type": "code",
     "collapsed": false,
     "input": [
      "'''\n",
      "calculate\n",
      "Partial molar enthalpy of water in the mixture\n",
      "Partial molar enthalpy of H2SO4 in the mixture\n",
      "'''\n",
      "\n",
      "import math \n",
      "\n",
      "x_sulph = 0.6\n",
      "x_water = 0.4\n",
      "Temp = 200.             #[F]\n",
      "h_water_per_pound = 25.         #[Btu/lbm]\n",
      "h_sulph_per_pound = -100.       #[Btu/lbm]\n",
      "M_water = 18.                   #[lbm/lbmol]\n",
      "M_sulph = 98.                   #[lbm/lbmol]\n",
      "\n",
      "h_water = h_water_per_pound*M_water     #[Btu/lbmol]\n",
      "h_sulph = h_sulph_per_pound*M_sulph     #[Btu/lbmol]\n",
      "\n",
      "print \"Partial molar enthalpy of water in the mixture is  %f Btu/lbmol\"%(h_water)\n",
      "print \" Partial molar enthalpy of H2SO4 in the mixture is %f Btu/lbmol\"%(h_sulph)\n"
     ],
     "language": "python",
     "metadata": {},
     "outputs": [
      {
       "output_type": "stream",
       "stream": "stdout",
       "text": [
        "Partial molar enthalpy of water in the mixture is  450.000000 Btu/lbmol\n",
        " Partial molar enthalpy of H2SO4 in the mixture is -9800.000000 Btu/lbmol\n"
       ]
      }
     ],
     "prompt_number": 15
    },
    {
     "cell_type": "heading",
     "level": 3,
     "metadata": {},
     "source": [
      " Example 6.8  Page: 119\n"
     ]
    },
    {
     "cell_type": "code",
     "collapsed": false,
     "input": [
      "\n",
      "import math \n",
      "\n",
      "x_sulph = 0.6\n",
      "x_water = 0.4\n",
      "M_i = 18.           #[lbm/lbmol]\n",
      "Temp = 200.         #[F]\n",
      "h_i = 25.           #[Btu/lbm]\n",
      "h_in = 168.         #[Btu/lbm]\n",
      "\n",
      "dQ_by_dm_in = h_i-h_in          #[Btu/lbm]\n",
      "dQ_by_dn_in = M_i*dQ_by_dm_in       #[Btu/lbmol]\n",
      "\n",
      "print \"The amount of heat removed to keep the temperature consmath.tant is %f Btu/lbm of water added\"%(dQ_by_dm_in)\n",
     ],
     "language": "python",
     "metadata": {},
     "outputs": [
      {
       "output_type": "stream",
       "stream": "stdout",
       "text": [
        "The amount of heat removed to keep the temperature consmath.tant is -143.000000 Btu/lbm of water added\n"
       ]
      }
     ],
     "prompt_number": 16
    },
    {
     "cell_type": "heading",
     "level": 3,
     "metadata": {},
     "source": [
      " Example 6.9  Page: 119\n"
     ]
    },
    {
     "cell_type": "code",
     "collapsed": false,
     "input": [
      "import math \n",
      "\n",
      "m_sulph = 0.4\n",
      "m_water = 0.6\n",
      "m = m_sulph+m_water\n",
      "Temp = 200.             #[F]\n",
      "h_solution = -43.       #[Btu/lbm]\n",
      "h_sulph = 168.           #[Btu/lbm]\n",
      "h_0_water = 53.        #[Btu/lbm]\n",
      "\n",
      "delta_Q = m*h_solution-(m_sulph*h_sulph+m_water*h_0_water)      #[Btu]\n",
      "\n",
      "print \"The amount of heat added or removed is %f Btu\"%(delta_Q)\n",
     ],
     "language": "python",
     "metadata": {},
     "outputs": [
      {
       "output_type": "stream",
       "stream": "stdout",
       "text": [
        "The amount of heat added or removed is -142.000000 Btu\n"
       ]
      }
     ],
     "prompt_number": 7
    },
    {
     "cell_type": "heading",
     "level": 3,
     "metadata": {},
     "source": [
      " Example 6.10  Page: 120\n"
     ]
    },
    {
     "cell_type": "code",
     "collapsed": false,
     "input": [
      "\n",
      "import math \n",
      "\n",
      "x_sulph = 0.6\n",
      "x_water = 0.4\n",
      "Temp = 200.         #[F]\n",
      "h_water = 25.       #[Btu/lbm]\n",
      "h_sulph = -100.     #[Btu/lbm]\n",
      "\n",
      "h_solution = h_water*x_water+h_sulph*x_sulph        # [Btu/lbm]\n",
      "\n",
      "print \"Enthalpy of the solution is %f Btu/lbm\"%(h_solution)\n"
     ],
     "language": "python",
     "metadata": {},
     "outputs": [
      {
       "output_type": "stream",
       "stream": "stdout",
       "text": [
        "Enthalpy of the solution is -50.000000 Btu/lbm\n"
       ]
      }
     ],
     "prompt_number": 18
    },
    {
     "cell_type": "heading",
     "level": 3,
     "metadata": {},
     "source": [
      " Example 6.11  Page: 121\n"
     ]
    },
    {
     "cell_type": "code",
     "collapsed": false,
     "input": [
      "\n",
      "import math \n",
      "\n",
      "x_b = 0\n",
      "x_a = 1\n",
      "dv_b_by_dx_a = x_a*(-3*x_b-2)\n",
      "\n",
      "print \"Value of the dv_b/dx_a at x_b =0 is %0.0f\"%(dv_b_by_dx_a)\n"
     ],
     "language": "python",
     "metadata": {},
     "outputs": [
      {
       "output_type": "stream",
       "stream": "stdout",
       "text": [
        "Value of the dv_b/dx_a at x_b =0 is -2\n"
       ]
      }
     ],
     "prompt_number": 19
    },
    {
     "cell_type": "code",
     "collapsed": false,
     "input": [],
     "language": "python",
     "metadata": {},
     "outputs": []
    }
   ],
   "metadata": {}
  }
 ]
}