{
 "metadata": {
  "name": ""
 },
 "nbformat": 3,
 "nbformat_minor": 0,
 "worksheets": [
  {
   "cells": [
    {
     "cell_type": "heading",
     "level": 1,
     "metadata": {},
     "source": [
      "Chapter3 : Excess Carriers in Semiconductor"
     ]
    },
    {
     "cell_type": "heading",
     "level": 3,
     "metadata": {},
     "source": [
      "Example 3.2 Page No 111"
     ]
    },
    {
     "cell_type": "code",
     "collapsed": false,
     "input": [
      "#Example 3.2\n",
      "#What is Minimum required energy \n",
      "\n",
      "#given data\n",
      "l=6000                 #in Angstrum\n",
      "h=6.6*10**(-34)             #Planks constant\n",
      "c=3*10**8                   #speed of light in m/s\n",
      "e=1.602*10**(-19)            #Constant\n",
      "\n",
      "#calculation\n",
      "phi=c*h/(e*l*10**(-10))\n",
      "\n",
      "#result\n",
      "print\"Minimum required energy is\",round(phi,2),\"eV \"\n"
     ],
     "language": "python",
     "metadata": {},
     "outputs": [
      {
       "output_type": "stream",
       "stream": "stdout",
       "text": [
        "Minimum required energy is 2.06 eV \n"
       ]
      }
     ],
     "prompt_number": 3
    },
    {
     "cell_type": "heading",
     "level": 3,
     "metadata": {},
     "source": [
      "Example 3.3 Page No 112"
     ]
    },
    {
     "cell_type": "code",
     "collapsed": false,
     "input": [
      "#Exa 3.3\n",
      "#calculate Work function of the cathode material\n",
      "\n",
      "#given data\n",
      "Emax=2.5                   #maximum energy of emitted electrons in eV \n",
      "l=2537.0                #in Angstrum\n",
      "\n",
      "#Calculation\n",
      "EeV=12400.0/l           #in eV\n",
      "phi=EeV-Emax               #in eV\n",
      "\n",
      "#result\n",
      "print \"Work function of the cathode material is \",round(phi,2),\"eV\""
     ],
     "language": "python",
     "metadata": {},
     "outputs": [
      {
       "output_type": "stream",
       "stream": "stdout",
       "text": [
        "Work function of the cathode material is  2.39 eV\n"
       ]
      }
     ],
     "prompt_number": 6
    },
    {
     "cell_type": "heading",
     "level": 3,
     "metadata": {},
     "source": [
      "Example 3.4 Page No 115"
     ]
    },
    {
     "cell_type": "code",
     "collapsed": false,
     "input": [
      "#Example 3.4\n",
      "#Find (i)The fraction of each photon energy unit which is converted into heat\",f\n",
      "#(ii)Energy converted into heat in ,((2-1.43)/2)*0.009,\"J/s\"\n",
      "#(iii)Number of photons per second given off from recombination events \",0.009/(e*2)\n",
      "\n",
      "#given data\n",
      "t=0.46*10**-4                 #in centi meters\n",
      "hf1=2                          #in ev\n",
      "hf2=1.43\n",
      "Pin=10                        #in mW\n",
      "alpha=50000                   # in per cm\n",
      "e=1.6*10**-19                 #constant\n",
      "Io=0.01                   #in mW\n",
      "\n",
      "import math\n",
      "\n",
      "#Calculation\n",
      "It=Io*math.exp(-alpha*t)           #in mW\n",
      "Iabs=Io-It\n",
      "f=(hf1-hf2)/hf1\n",
      "E=f*Iabs\n",
      "N=Iabs/(e*hf1)\n",
      "\n",
      "#result\n",
      "print\"(i)Thus power absorbed is \",round(Iabs,3),\"J/s\"\n",
      "print\"(ii)Energy converted into heat is\",round(E,4),\"J/s\"\n",
      "print\"(iii)Number of photons per second given off from recombination events \",round(N,-14)\n",
      "#In book there is calculation mistake in Number of photons."
     ],
     "language": "python",
     "metadata": {},
     "outputs": [
      {
       "output_type": "stream",
       "stream": "stdout",
       "text": [
        "(i)Thus power absorbed is  0.009 J/s\n",
        "(ii)Energy converted into heat is 0.0026 J/s\n",
        "(iii)Number of photons per second given off from recombination events  2.81e+16\n"
       ]
      }
     ],
     "prompt_number": 1
    },
    {
     "cell_type": "heading",
     "level": 3,
     "metadata": {},
     "source": [
      "Example 3.5 Page No 123"
     ]
    },
    {
     "cell_type": "code",
     "collapsed": false,
     "input": [
      "#Example 3.5\n",
      "#What is Photoconductor gain \n",
      "#Electron transit time.\n",
      "\n",
      "#given data\n",
      "L=100                     #in uM\n",
      "A=10&-7                   #in cm**2\n",
      "th=10**-6                 #in sec\n",
      "V=12                      #in Volts\n",
      "ue=0.13                   #in m**2/V-s\n",
      "uh=0.05                   #in m**2/V-s\n",
      "\n",
      "#Calculation\n",
      "E=V/(L*10**-6)            #in V/m\n",
      "tn=(L*10**-6)/(ue*E)\n",
      "Gain=(1+uh/ue)*(th/tn)\n",
      "\n",
      "#result\n",
      "print\"Electron transit time in sec is \",round(tn,10),\"s\"\n",
      "print\"Photoconductor gain is \",Gain"
     ],
     "language": "python",
     "metadata": {},
     "outputs": [
      {
       "output_type": "stream",
       "stream": "stdout",
       "text": [
        "Electron transit time in sec is  6.4e-09 s\n",
        "Photoconductor gain is  216.0\n"
       ]
      }
     ],
     "prompt_number": 29
    },
    {
     "cell_type": "heading",
     "level": 3,
     "metadata": {},
     "source": [
      "Example 3.6 Page No128"
     ]
    },
    {
     "cell_type": "code",
     "collapsed": false,
     "input": [
      "#Example3.6\n",
      "#Calculate Current flowing through diode .\n",
      "\n",
      "#given datex\n",
      "import math\n",
      "Io=0.15                    #in uA\n",
      "V=0.12                     #in mVolt\n",
      "Vt=26                      #in mVolt\n",
      "\n",
      "#calculation\n",
      "I=Io*10**-6*(math.exp(V/(Vt*10**-3))-1)          #in A\n",
      "\n",
      "#result\n",
      "print\"Current flowing through diode is \",round(I*10**6,2),\"micra A\""
     ],
     "language": "python",
     "metadata": {},
     "outputs": [
      {
       "output_type": "stream",
       "stream": "stdout",
       "text": [
        "Current flowing through diode is  15.0 micra A\n"
       ]
      }
     ],
     "prompt_number": 30
    },
    {
     "cell_type": "heading",
     "level": 3,
     "metadata": {},
     "source": [
      "Example 3.7 Page No 128"
     ]
    },
    {
     "cell_type": "code",
     "collapsed": false,
     "input": [
      "#Exa 3.7\n",
      "#Determine the Forward voltage \n",
      "\n",
      "#given data\n",
      "import math\n",
      "Io=2.5              #in uA\n",
      "I=10                #in mA\n",
      "Vt=26               #in mVolt\n",
      "n=2                 #for silicon\n",
      "\n",
      "#Calculation\n",
      "V=n*Vt*10**-3*math.log((I*10**-3)/(Io*10**-6))\n",
      "\n",
      "#Result\n",
      "print \"Forward voltage  is \",round(V,2),\"V\""
     ],
     "language": "python",
     "metadata": {},
     "outputs": [
      {
       "output_type": "stream",
       "stream": "stdout",
       "text": [
        "Forward voltage  is  0.43 V\n"
       ]
      }
     ],
     "prompt_number": 31
    },
    {
     "cell_type": "heading",
     "level": 3,
     "metadata": {},
     "source": [
      "Example 3.8 Page No 128"
     ]
    },
    {
     "cell_type": "code",
     "collapsed": false,
     "input": [
      "#Example 3.8\n",
      "#What is Reverse saturation current density \n",
      "\n",
      "#given data\n",
      "ND=10**21                #in m**-3\n",
      "NA=10**22                #in m**-3\n",
      "De=3.4*10**-3            #in m**2-s**-1\n",
      "Dh=1.2*10**-3            #in m**2-s**-1\n",
      "Le=7.1*10**-4            #in meters\n",
      "Lh=3.5*10**-4            #in meters\n",
      "ni=1.6*10**16            #in m**-3\n",
      "e=1.602*10**-19          #constant\n",
      "\n",
      "#calculation\n",
      "IoA=e*ni**2*(Dh/(Lh*ND)+De/(Le*NA))\n",
      "\n",
      "#Result\n",
      "print\"Reverse saturation current density is \",round(IoA*10**6,2),\"uA \""
     ],
     "language": "python",
     "metadata": {},
     "outputs": [
      {
       "output_type": "stream",
       "stream": "stdout",
       "text": [
        "Reverse saturation current density is  0.16 uA \n"
       ]
      }
     ],
     "prompt_number": 33
    },
    {
     "cell_type": "code",
     "collapsed": false,
     "input": [],
     "language": "python",
     "metadata": {},
     "outputs": []
    }
   ],
   "metadata": {}
  }
 ]
}