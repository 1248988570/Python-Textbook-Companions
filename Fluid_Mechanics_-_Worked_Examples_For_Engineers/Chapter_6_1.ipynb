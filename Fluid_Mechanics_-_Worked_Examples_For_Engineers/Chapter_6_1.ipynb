{
 "metadata": {
  "name": "Chapter 6"
 },
 "nbformat": 3,
 "nbformat_minor": 0,
 "worksheets": [
  {
   "cells": [
    {
     "cell_type": "heading",
     "level": 1,
     "metadata": {},
     "source": "Chapter 6:Tank drainage and variable head flow"
    },
    {
     "cell_type": "heading",
     "level": 2,
     "metadata": {},
     "source": "Example 6.1,Page 143"
    },
    {
     "cell_type": "code",
     "collapsed": false,
     "input": "#finding no. of orifice\n\n#variable decleration\nfrom math import pi\nimport math\nQ =5000.0/3600/24; #m^3 per second\nC_d =0.6;\nr =0.01/2; # m\ng =9.8; #m/ s ^2\nH =0.2; # m\n\n\n#calculation\na_o = pi *r**2;\nn=Q/C_d/ a_o / math.sqrt (2*g*H);\n\n#result\nprint\"The number of orifices required are \",round (n)\n",
     "language": "python",
     "metadata": {},
     "outputs": [
      {
       "output_type": "stream",
       "stream": "stdout",
       "text": "The number of orifices required are  621.0\n"
      }
     ],
     "prompt_number": 10
    },
    {
     "cell_type": "heading",
     "level": 2,
     "metadata": {},
     "source": "Example 6.2,Page 145"
    },
    {
     "cell_type": "code",
     "collapsed": false,
     "input": "#Finding coeff. of velocity\n\n#variable decleration\nfrom math import pi\nimport math\nx =0.86; # m\ng =9.8; # m/ s\ny =0.96; # m\nH =0.2; # m\n\n#calculation\nv_act =x* math.sqrt (g /2/ y);\nv= math.sqrt (2* g*H);\nCv= v_act /v;\n\n#result\nprint \"The coeff. of velocity for the orifices found to be \",round(Cv,3)\n",
     "language": "python",
     "metadata": {},
     "outputs": [
      {
       "output_type": "stream",
       "stream": "stdout",
       "text": "The coeff. of velocity for the orifices found to be  0.981\n"
      }
     ],
     "prompt_number": 1
    },
    {
     "cell_type": "heading",
     "level": 2,
     "metadata": {},
     "source": "Example 6.3,Page 147"
    },
    {
     "cell_type": "code",
     "collapsed": false,
     "input": "#Finding time taken for drainage\n\n#variable declaration\nfrom math import pi\nimport math\nVt =1; # m^3\nd_t =1; # m\nC_d =0.6;\nd_o =0.02; # m\ng =9.8; # m/ s ^2\n\n\n#calculation\na_o = pi *( d_o ) **2/4;\nA= pi *( d_t ) **2/4;\nH1 =4* Vt/ pi /( d_t) **2;\nt=A/C_d/ a_o * math.sqrt (2* H1/g);\n\n#results\nprint\" Total drainage is found to take (s) \",round(t,2)\n",
     "language": "python",
     "metadata": {},
     "outputs": [
      {
       "output_type": "stream",
       "stream": "stdout",
       "text": " Total drainage is found to take (s)  2124.49586383\n"
      }
     ],
     "prompt_number": 14
    },
    {
     "cell_type": "heading",
     "level": 2,
     "metadata": {},
     "source": "Example 6.4,Page 149"
    },
    {
     "cell_type": "code",
     "collapsed": false,
     "input": "#Finding time taken to drain tank\n\n#variable declaration\nfrom math import pi\nimport math\nC_d =0.6;\nd_o =0.05; #m\ng =9.81; # m/ s ^ 2 ;\nR =2; \nH1 =1.5; \n\n#calculation\na_o = pi *d_o **2/4;\nt= pi /C_d/ a_o*(1.333* R*H1 **(1.5) -0.4* H1 **(2.5))/math.sqrt(2*g);\n\n#results\nprint\"The time to drain the tank is found to be (s)\",round(t,3);",
     "language": "python",
     "metadata": {},
     "outputs": [
      {
       "output_type": "stream",
       "stream": "stdout",
       "text": "The time to drain the tank is found to be (s) 2285.001\n"
      }
     ],
     "prompt_number": 16
    },
    {
     "cell_type": "heading",
     "level": 2,
     "metadata": {},
     "source": "Example 6.6,Page 153"
    },
    {
     "cell_type": "code",
     "collapsed": false,
     "input": "#Finding time taken to drain tank and rate of flow\n\n#variable declaration\nimport math\nCd =0.62;\na =0.01;# m^2\ng =9.81; # m/ s ^2\nH =0.3; #m\nA1 =4*2; # m^2\nH1 =0.300; # m\nH2 =0.100; # m\nA2 =2*2; # m^2\n\n#calculation\nQ=Cd*a* math.sqrt (2* g*H);\nt =2* A1 *( math.sqrt(H1) -math.sqrt(H2) )/( Cd*a* math.sqrt (2*g) *(1+ A1/A2));\n\n#results\nprint \"The rate of flow(m^3/s) =\",round(Q,3)\nprint \"The time taken to reduce the difference in levels to 10 cm is (s) \", round(t,3)\n\n",
     "language": "python",
     "metadata": {},
     "outputs": [
      {
       "output_type": "stream",
       "stream": "stdout",
       "text": "The rate of flow(m^3/s) = 0.01504\nThe time taken to reduce the difference in levels to 10 cm is (s)  44.957\n"
      }
     ],
     "prompt_number": 4
    },
    {
     "cell_type": "heading",
     "level": 2,
     "metadata": {},
     "source": "Example 6.8,Page 157"
    },
    {
     "cell_type": "code",
     "collapsed": false,
     "input": "#Finding time taken to level tank \n\n#variable declaration\nimport math\nQs =0.4; #m^3/ s\nH1 =1.5; # m\nQ =0.2; #m^3/ s\nH2 =0.5; # m\nl =15; # m\nb =10; #m\ne=2.69;\n\n#calculation\nA=l*b;\nk=Qs*H1 **( -0.5) ;\nt=-2*A/k**2*(Q*math.log((Q-k*math.sqrt( H2))/(Q-k*math.sqrt(H1)),e)+k*(math.sqrt(H2)-math.sqrt(H1)));\n#result\nprint \"The time reqd. for the level in the tank to fall to 1 m is(s) \",round(t,3)\n\n",
     "language": "python",
     "metadata": {},
     "outputs": [
      {
       "output_type": "stream",
       "stream": "stdout",
       "text": "The time reqd. for the level in the tank to fall to 1 m is(s)  1536.35\n"
      }
     ],
     "prompt_number": 5
    },
    {
     "cell_type": "heading",
     "level": 2,
     "metadata": {},
     "source": "Example 6.9,Page 159"
    },
    {
     "cell_type": "code",
     "collapsed": false,
     "input": "#Finding time taken to level tank \n\n#variable declaration\nfrom math import pi\nimport numpy as np\nimport numpy \nimport math\nCd =0.62;\nd =0.05;\na_o = pi *d **2/4;\ng =9.81; #m/ s ^2\n\n#calculation\nk=Cd*a_o* math.sqrt (2*g);\n# We have g o t two s imultaneous equations\n#Q_k \u0003 0 . 6 5 ^ ( 1 / 2 ) =0.1/90\u0003A\n# Q_k \u0003 1 . 2 2 5 ^ ( 1 / 2 ) =0.05/120\u0003A\n\nM=np.array([[1,-0.1/90],[1,-0.05/120]]);\nN=np.array([[k *math.sqrt(0.65)] ,[k *math.sqrt(1.225)]]);\nX=np.linalg.solve(M,N)\nQ=X[0][0];\nA=X[1][0];\nprint \"The Area of the tank(m^2) =\",round(A,3)\nprint \" Flow rate(m^3/s) =\",round(Q,3)\n",
     "language": "python",
     "metadata": {},
     "outputs": [
      {
       "output_type": "stream",
       "stream": "stdout",
       "text": "The Area of the tank(m^2) = 2.334\n Flow rate(m^3/s) = 0.007\n"
      }
     ],
     "prompt_number": 6
    },
    {
     "cell_type": "heading",
     "level": 2,
     "metadata": {},
     "source": "Example 6.10,Page 161"
    },
    {
     "cell_type": "code",
     "collapsed": false,
     "input": "#Finding time taken to level tank \n\n#variable declaration\nfrom math import pi\nfrom numpy import matrix\nfrom numpy import linalg\nimport math\nH1 =1.5; # m\nV =0.75; # m^3\nd1 =1.2; # m\nu =0.08; # Ns/m^2\nL =3; # m\nrho =1100; # kg /m^3\ng =9.81; # m/ s ^2\nd =0.025; # m\ne=2.71;\n\n#calculation\na= pi*d **2/4;\nA= pi*d1 **2/4;\nH2=H1 -(V/A);\nround(H2,2);\nt= -32*u*L*A/(a*rho*g*d **2) *math.log(H2/H1,e);\n\n#result\nprint\"Time taken(s) =\",round(t,3);",
     "language": "python",
     "metadata": {},
     "outputs": [
      {
       "output_type": "stream",
       "stream": "stdout",
       "text": "Time taken(s) = 1535.7565254\n"
      }
     ],
     "prompt_number": 17
    },
    {
     "cell_type": "code",
     "collapsed": false,
     "input": "",
     "language": "python",
     "metadata": {},
     "outputs": []
    }
   ],
   "metadata": {}
  }
 ]
}