{
 "metadata": {
  "name": "Chapter 3"
 },
 "nbformat": 3,
 "nbformat_minor": 0,
 "worksheets": [
  {
   "cells": [
    {
     "cell_type": "heading",
     "level": 1,
     "metadata": {},
     "source": "Chapter 3,Laminar Flow and Lubrication"
    },
    {
     "cell_type": "heading",
     "level": 2,
     "metadata": {},
     "source": "Example 3.2,Page 63"
    },
    {
     "cell_type": "code",
     "collapsed": false,
     "input": "#Finding fartherest distance\n\n#variable decleration\nRe =2000.0;\nd =0.008; #m\n\n#calculation\nL1 =0.058* Re*d;\n\n#result\nprint\"The furtherest distance the fluid can flow into the 8 mm inside diameter pipe (m)=\",round(L1,3);\n",
     "language": "python",
     "metadata": {},
     "outputs": [
      {
       "output_type": "stream",
       "stream": "stdout",
       "text": "The furtherest distance the fluid can flow into the 8 mm inside diameter pipe (m)= 0.928\n"
      }
     ],
     "prompt_number": 1
    },
    {
     "cell_type": "heading",
     "level": 2,
     "metadata": {},
     "source": "Example 3.4,Page 67"
    },
    {
     "cell_type": "code",
     "collapsed": false,
     "input": "#Finding flow rate\nfrom math import pi\n\n#variable decleration\ndel_p =90*10**3; # N/m^2\nd =0.126; # m\nR =0.126/2; # m\nu =1.2;\nL =60; # m\nRho =1260;\n\n\n#calculation\nQ= pi * del_p * R**4 / (8*u*L);\nRe =4* Rho *Q/(u*pi*d);\n\n#result\nprint \"The glycerol delivery rate is (m^3/s) \",round(Q,4);\nprint\"The Reynolds number is \",round(Re,3);\nprint\"As Re is below 2000 , so, laminar flow\"",
     "language": "python",
     "metadata": {},
     "outputs": [
      {
       "output_type": "stream",
       "stream": "stdout",
       "text": "The glycerol delivery rate is (m^3/s)  0.0077\nThe Reynolds number is  82.047\nAs Re is below 2000 , so, laminar flow\n"
      }
     ],
     "prompt_number": 2
    },
    {
     "cell_type": "heading",
     "level": 2,
     "metadata": {},
     "source": "Example 3.5,Page 69"
    },
    {
     "cell_type": "code",
     "collapsed": false,
     "input": "#Finding diameter\nfrom math import pi\n\n#variable decleration\nu =0.015; #Ns/m^2\nQ =0.004/60; #m^3/ s\ndp =100;\nrho =1100.0; #kg /m^3\n\n\n#calculation\nR =(8* u*Q/( pi *dp)) **(0.25) ;\nRe =(4* rho *Q/( pi*u *(2* R)));\n\n#result\nprint\"Diameter of the pipe(m) =\",round(R,3);\nprint\"Reynolds number =\",round(Re,2)\n",
     "language": "python",
     "metadata": {},
     "outputs": [
      {
       "output_type": "stream",
       "stream": "stdout",
       "text": "Diameter of the pipe(m) = 0.013\nReynolds number = 246.38\n"
      }
     ],
     "prompt_number": 6
    },
    {
     "cell_type": "heading",
     "level": 2,
     "metadata": {},
     "source": "Example 3.6,Page 71"
    },
    {
     "cell_type": "code",
     "collapsed": false,
     "input": "#Finding pressure difference\nfrom math import pi\n\n#variable decleration\nmu =0.03; #Ns/m^2\nQ =10.0**( -7) ; #m^3/ s\nu=(7.0);\n\n#calculation\ndp= 8*mu*Q*u/3/pi/0.005**4;\n\n#result\nprint\" pressure difference (N/m^2)=\",round(dp,2)\n",
     "language": "python",
     "metadata": {},
     "outputs": [
      {
       "output_type": "stream",
       "stream": "stdout",
       "text": " pressure difference (N/m^2)= 28.52\n"
      }
     ],
     "prompt_number": 5
    },
    {
     "cell_type": "heading",
     "level": 2,
     "metadata": {},
     "source": "Example 3.8,Page 75"
    },
    {
     "cell_type": "code",
     "collapsed": false,
     "input": "#Finding pressure difference\nfrom math import pi\n\n#variable decleration\nu =0.1; #Ns/m^2\nd =0.1; #m\nR =0.05; # m\nRho =900; #kg /m^3\nv_max =2; # m/ s\nv= v_max /2; # m/ s\n\n#calculation\nTw = 2*u* v_max /R;\ndel_p =4* u* v_max /R **2;\n\n#result\nprint \"At the pipe wa l l ( r =R) , shear stress (N/m^2)= \",Tw;\nprint\" pressure drop per metre lengthh of pipe is (N/m^2)\",del_p;\n",
     "language": "python",
     "metadata": {},
     "outputs": [
      {
       "output_type": "stream",
       "stream": "stdout",
       "text": "At the pipe wa l l ( r =R) , shear stress (N/m^2)=  8.0\n pressure drop per metre lengthh of pipe is (N/m^2) 320.0\n"
      }
     ],
     "prompt_number": 9
    },
    {
     "cell_type": "heading",
     "level": 2,
     "metadata": {},
     "source": "Example 3.9,Page 77"
    },
    {
     "cell_type": "code",
     "collapsed": false,
     "input": "#Finding inside diameter\n\n#variable decleration\nimport math\nu =0.032; #Ns/m^2\nRe =2000.0; #maximum v a l u e\nRho =854.0;\ndel_p =150.0; #N/m^2\n\n#calculation\nd =(32* u **2* Re /( Rho* del_p ))**(0.33)  ;\n\nprint \"The maximum inside diameter is found to be (m) \",round(d,3);\n",
     "language": "python",
     "metadata": {},
     "outputs": [
      {
       "output_type": "stream",
       "stream": "stdout",
       "text": "The maximum inside diameter is found to be (m)  0.082\n"
      }
     ],
     "prompt_number": 7
    },
    {
     "cell_type": "heading",
     "level": 2,
     "metadata": {},
     "source": "Example 3.10,Page 79"
    },
    {
     "cell_type": "code",
     "collapsed": false,
     "input": "#Finding pressure drop\n\nfrom math import pi\n#variable decleration\nrho =1000; #kg /m^3\nu =0.1; #Ns/m^2\ng =9.81; #m/ s ^2\nL =10; #m\nH =2; #m\nQ =14.0/3600; #m^3/ s\nd =0.05; #m\n\n#calculation\ndp=rho*g*(L+H) - (128* Q*u*L/pi /d**4) ;\n\n#result\nprint\" Pressure drop across the valve (N/m^2)=\",round(dp,2)\n",
     "language": "python",
     "metadata": {},
     "outputs": [
      {
       "output_type": "stream",
       "stream": "stdout",
       "text": " Pressure drop across the valve (N/m^2)= 92368.39\n"
      }
     ],
     "prompt_number": 4
    },
    {
     "cell_type": "heading",
     "level": 2,
     "metadata": {},
     "source": "Example 3.12,Page 83"
    },
    {
     "cell_type": "code",
     "collapsed": false,
     "input": "#Finding inclination and viscosity\n\n#variable decleration\nfrom math import pi\nimport math\nQ =3*10**( -6) ; #m^3/ s\nu =0.001; #Ns/m^2\nW =1;\nrho =1000; #kg /m^3\ng =9.81; #m/ s ^2\nd =1.016*10**( -4) ; #m\nd1 =1.25*10**( -4) ; # m\n\n\n#calculation\ntheta = math.asin (3*Q*u/W/rho/g/d **3) ;\nu1=W*rho *g* math.sin ( theta )*( d1 **3) /(3* Q);\n\n#result\nprint\"Exact angle of inclination (radians) =\",round(theta,3)\nprint\" Viscosity of the second liquid (Ns/m^2)=\",round(u1,4)\n",
     "language": "python",
     "metadata": {},
     "outputs": [
      {
       "output_type": "stream",
       "stream": "stdout",
       "text": "Exact angle of inclination (radians) = 1.065\n Viscosity of the second liquid (Ns/m^2)= 0.0019\n"
      }
     ],
     "prompt_number": 3
    },
    {
     "cell_type": "heading",
     "level": 2,
     "metadata": {},
     "source": "Example 3.17,Page 93"
    },
    {
     "cell_type": "code",
     "collapsed": false,
     "input": "#Finding shear stress\n\n#variable decleration\nu =1.5; #Ns/m^2\nv =0.5; # m/ s\nH =0.02/2; # m\n\n#calculation\nt=-u*3*v/H;\n\n#result\nprint \"The shear stress (N/m^2)=\",t\nprint\"acting on opp. direction of flow\" \n",
     "language": "python",
     "metadata": {},
     "outputs": [
      {
       "output_type": "stream",
       "stream": "stdout",
       "text": "The shear stress (N/m^2)= -225.0\nacting on opp. direction of flow\n"
      }
     ],
     "prompt_number": 34
    },
    {
     "cell_type": "heading",
     "level": 2,
     "metadata": {},
     "source": "Example 3.18,Page 95"
    },
    {
     "cell_type": "code",
     "collapsed": false,
     "input": "#Finding torque and viscosity\nfrom math import pi\nfrom scipy import integrate\n\n#variable decleration\nN =600.0/60; #r e v o l u t i o n s pe r s e c\nr =0.025; #m\nt =400; # N/m^2\nl =0.002; # m\ntime=2.0/1000; #s\n\n#calculation\nw =2* pi*N;\nu=t*l/w/r;\ndef integrand (R,w,u,time):\n    return 2*pi*u*w/time*R**3\n\n#a=lambda r:2*pi*0.509*62.8/2*r**3*1000;\nT=integrate.quad(integrand, 0,0.025,args=(w,u,time));\n\n#result\nprint\" Viscosity,(Ns/m^2)=\",round(u,3)\nprint\"Torque(Nm) =\",round(T[0],4)\n",
     "language": "python",
     "metadata": {},
     "outputs": [
      {
       "output_type": "stream",
       "stream": "stdout",
       "text": " Viscosity,(Ns/m^2)= 0.509\nTorque(Nm) = 0.0098\n"
      }
     ],
     "prompt_number": 18
    },
    {
     "cell_type": "heading",
     "level": 2,
     "metadata": {},
     "source": "Example 3.19,Page 97"
    },
    {
     "cell_type": "code",
     "collapsed": false,
     "input": "#Finding torque and frictional resistance\nfrom math import pi\n\n#variable decleration\nu =0.153; #Ns/m^2\nr =0.05; # m\nN =30; # rps\nt =2.0/10**5; # s\nL =0.2; #m\n\n\n#calculation\ntau =u *(2* pi *N*r/t);\nF= tau *2* pi *r*L;\nT=F*r;\nw =2* pi*N;\nP=T*w;\n\n#result\nprint \"The torque on the bearing is found to be (Nm)= \",round(T,3);\nprint \" and the power required to overcome the resistance is (W)=\",round(P,3);\n\n",
     "language": "python",
     "metadata": {},
     "outputs": [
      {
       "output_type": "stream",
       "stream": "stdout",
       "text": "The torque on the bearing is found to be (Nm)=  226.507\n and the power required to overcome the resistance is (W)= 42695.643\n"
      }
     ],
     "prompt_number": 19
    },
    {
     "cell_type": "heading",
     "level": 2,
     "metadata": {},
     "source": "Example 3.20,Page 99"
    },
    {
     "cell_type": "code",
     "collapsed": false,
     "input": "#Finding viscosity of oil\n\n#variable decleration\nt =0.0005;#s\nP =22; \nr =300.0/60; \nR_1 =0.1; \nR_2 =0.0625; \npi=3.14;\n\n#calculation\nw =2* pi*r;\nu =2* t*P/( pi *w **2*(( R_1 )**4 -( R_2) **4) );\n\n#result\nprint\"The viscosity of the oil is (Ns/m^2)= \",round(u,4);\n",
     "language": "python",
     "metadata": {},
     "outputs": [
      {
       "output_type": "stream",
       "stream": "stdout",
       "text": "The viscosity of the oil is (Ns/m^2)=  0.0839\n"
      }
     ],
     "prompt_number": 20
    },
    {
     "cell_type": "code",
     "collapsed": false,
     "input": "",
     "language": "python",
     "metadata": {},
     "outputs": []
    }
   ],
   "metadata": {}
  }
 ]
}