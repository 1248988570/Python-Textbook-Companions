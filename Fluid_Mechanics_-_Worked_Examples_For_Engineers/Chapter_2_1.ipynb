{
 "metadata": {
  "name": "Chapter 2"
 },
 "nbformat": 3,
 "nbformat_minor": 0,
 "worksheets": [
  {
   "cells": [
    {
     "cell_type": "heading",
     "level": 1,
     "metadata": {},
     "source": "Chapter 2,Continuity Momentum and Energy"
    },
    {
     "cell_type": "heading",
     "level": 2,
     "metadata": {},
     "source": "Example 2.1,Page 36"
    },
    {
     "cell_type": "code",
     "collapsed": false,
     "input": "#Finding Velocity and Flow rate\nfrom math import pi\n\n\n#variable decleration\nQ1 =0.02; #m^3/ s\nd1 =0.15; #m\nd2 =0.05; #m\nd3 =0.1; #m\nv2 =3; #m/ s\n\n\n#calculation\nQ2=pi*d2 **2/4* v2;\nv3 =(4* Q1/pi -d2 **2* v2)/d3 **2;\nQ3=pi*d3 **2/4* v3;\nv1 =4*( Q2+Q3)/pi/d1 **2;\n\n\n#result\nprint\" Flow rate at pipe 3(m^3/s) =\",round(Q3,4)\nprint\" Flow rate at pipe 2(m^3/s)= \",round(Q2,4)\nprint\" Flow rate at pipe 1(m^3/s)= \",round(Q1,4)\nprint\" Velocity at pipe 1(m/s) =\",round(v1,3)\nprint\" Velocity at pipe 2(m/s) =\",round(v2,3)\nprint\" Velocity at pipe 3(m/s) =\",round(v3,3)\n",
     "language": "python",
     "metadata": {},
     "outputs": [
      {
       "output_type": "stream",
       "stream": "stdout",
       "text": " Flow rate at pipe 3(m^3/s) = 0.0141\n Flow rate at pipe 2(m^3/s)=  0.0059\n Flow rate at pipe 1(m^3/s)=  0.02\n Velocity at pipe 1(m/s) = 1.132\n Velocity at pipe 2(m/s) = 3.0\n Velocity at pipe 3(m/s) = 1.796\n"
      }
     ],
     "prompt_number": 1
    },
    {
     "cell_type": "heading",
     "level": 2,
     "metadata": {},
     "source": "Example 2.2,Page 38"
    },
    {
     "cell_type": "code",
     "collapsed": false,
     "input": "#Finding Force exerted\n#variable decleration\nimport math\nfrom math import pi\nd1 =0.2; #m\nd2=d1;\np1 =1*10**5; #N/m^2\np2 =80*10**3; #N/m^2\nQ =150.0; #m^3/h\nrho =900; #kg /m^3\ntheta1 =0; # r a d i a n s\ntheta2 =pi; # r a d i a n s\n\n#calculation\na1=pi*d1 **2/4;\na2=pi*d2 **2/4;\nF1=p1*a1; # Upstream f o r c e\nF2=p2*a2; # Downstream f o r c e\nv1 =4*Q /3600/ pi/d1 **2;\nv2=v1;\nflux =rho*Q /3600* v2; #Momentum f l u x\nFx=F1* math.cos ( theta1 )-F2* math.cos ( theta2 )+ flux *( math.cos ( theta2 ) -\nmath.cos ( theta1 ));\nFy=F1* math.sin ( theta1 )-F2* math.sin ( theta2 )-flux *( math.sin ( theta2 )-\nmath.sin ( theta1 ));\nF= math.sqrt (Fx **2+ Fy **2);\n\n#result\nprint\" Force exerted by liquid (kN) =\",round(F,2)\n",
     "language": "python",
     "metadata": {},
     "outputs": [
      {
       "output_type": "stream",
       "stream": "stdout",
       "text": " Force exerted by liquid (kN) = 5552.47608322\n"
      }
     ],
     "prompt_number": 12
    },
    {
     "cell_type": "heading",
     "level": 2,
     "metadata": {},
     "source": "Example 2.3,Page 40"
    },
    {
     "cell_type": "code",
     "collapsed": false,
     "input": "#Finding pressure\nfrom math import pi\n\n#variable decleration\nrho =1000; # kg /m^3\nd =0.05; #m\nL =500; #m\nv =1.7; #m/ s\n\n#calculation\na= pi *d **2/4;\nF= rho *a*L*v;\nP=F/a /10**3;\n \n#result    \nprint\"Average pressure(kN/m^2) =\",round(P)\n",
     "language": "python",
     "metadata": {},
     "outputs": [
      {
       "output_type": "stream",
       "stream": "stdout",
       "text": "Average pressure(kN/m^2) = 850.0\n"
      }
     ],
     "prompt_number": 6
    },
    {
     "cell_type": "heading",
     "level": 2,
     "metadata": {},
     "source": "Example 2.4,Page 42"
    },
    {
     "cell_type": "code",
     "collapsed": false,
     "input": "#Finding pressure and velocity\n\n#variable decleration\nimport math\ng =9.8; #m/ s ^2\ndz =0.2; #m ; dz1=z1-z2=z1-z2\nrho =1000; # kg /m^3\ndz1 =2; #m ; dz1=z1-z A\ndz2 =0; #m ; dz2=z1-z B\ndz3 = -1.5; #m ; dz3=z1-z C\n\n#calculation\nv2= math.sqrt (2* g*dz);\nv_A =v2;\nv_B =v2;\nv_C =v2;\np_A = rho *g*( dz1 - v_A **2/2/ g);\np_B = rho *g*( dz2 - v_B **2/2/ g);\np_C = rho *g*( dz3 - v_C **2/2/ g);\n\n#result\nprint\" Velocity at pt . A(m/s) =\",round(v_A,2);\nprint\" Velocity at pt . B(m/s) =\",round(v_B,2);\nprint\" Velocity at pt . C(m/s) =\",round(v_C,2);\nprint\" Pressure at pt . A(kN/m^2) =\",round(p_A)\nprint\" Pressure at pt . B (kN/m^2)=\",round(p_B)\nprint\" Pressure at pt . C (kN/m^2)=\",round(p_C)\n",
     "language": "python",
     "metadata": {},
     "outputs": [
      {
       "output_type": "stream",
       "stream": "stdout",
       "text": " Velocity at pt . A(m/s) = 1.98\n Velocity at pt . B(m/s) = 1.98\n Velocity at pt . C(m/s) = 1.98\n Pressure at pt . A(kN/m^2) = 17640.0\n Pressure at pt . B (kN/m^2)= -1960.0\n Pressure at pt . C (kN/m^2)= -16660.0\n"
      }
     ],
     "prompt_number": 2
    },
    {
     "cell_type": "heading",
     "level": 2,
     "metadata": {},
     "source": "Example 2.5,Page 44"
    },
    {
     "cell_type": "code",
     "collapsed": false,
     "input": "#Finding pressure drop\nfrom math import pi\n\n#variable decleration\nQ =10.0; # m^3/ hr\nd1 =0.05; #m\nd2 =0.1; #m\nrho =1000.0; #kg /m^3\ng=9.81;\n\n\n#calculation\na1=pi*d1 **2/4;\na2=pi*d2 **2/4;\nv1=Q /3600/ a1;\nv2 =( d1/d2) **2* v1;\nPD=rho*0.057*g;\n\n#results\nprint\" Presure drop (N/m^2)=\",round(PD,3)\n",
     "language": "python",
     "metadata": {},
     "outputs": [
      {
       "output_type": "stream",
       "stream": "stdout",
       "text": " Presure drop (N/m^2)= 375.26364312\n"
      }
     ],
     "prompt_number": 7
    },
    {
     "cell_type": "heading",
     "level": 2,
     "metadata": {},
     "source": "Example 2.7,Page 48"
    },
    {
     "cell_type": "code",
     "collapsed": false,
     "input": "#Finding force required\n\n#variable decleration\nQ =100; #m^3/ hr\nd1 =0.2; #m\nd2 =0.15; #m\np1 =80*10**3; #N/m^2\nrho =1000; # kg /m^3\ng =9.8; #m/ s ^2\npi=3.14;\n\n#calculation\na1=pi*d1 **2/4;\na2=pi*d2 **2/4;\nv1=Q /3600/ a1;\nv2=Q /3600/ a2;\nH_L =0.2* v2 **2/2/ g;\np2=p1+ rho /2*( v1 **2- v2 **2) -rho*g* H_L ;\nF_u =p1*a1; # Upstream f o r c e\nF_d =p2*a2; # Downstream f o r c e\nF_x = rho *Q /3600*( v2 -v1)-F_u +F_d;\n\n#results\nprint\" Force required (N) =\",round(F_x)\n",
     "language": "python",
     "metadata": {},
     "outputs": [
      {
       "output_type": "stream",
       "stream": "stdout",
       "text": " Force required (N) = -1099.0\n"
      }
     ],
     "prompt_number": 17
    },
    {
     "cell_type": "heading",
     "level": 2,
     "metadata": {},
     "source": "Example 2.9,Page 53"
    },
    {
     "cell_type": "code",
     "collapsed": false,
     "input": "#Finding depression\n\n#variable decleration\nN =60; #rpm\nr2 =0.25; #m\ng =9.8; #m/ s ^2\npi=3.14;\n\nw =2* pi*N /60;\ndz_12 =(w*r2) **2/2/ g; # dz 1 2=z2-z1\nc=w*r2 **2;\ndz_23 =c **2/2/ g/r2 **2; # dz 2 3=z3-z2\ndz_13 = dz_23 + dz_12 ;\n\n#results\nprint\" Total depression(m) =\",round(dz_13,3)\n",
     "language": "python",
     "metadata": {},
     "outputs": [
      {
       "output_type": "stream",
       "stream": "stdout",
       "text": " Total depression(m) = 0.252\n"
      }
     ],
     "prompt_number": 3
    },
    {
     "cell_type": "code",
     "collapsed": false,
     "input": "",
     "language": "python",
     "metadata": {},
     "outputs": []
    }
   ],
   "metadata": {}
  }
 ]
}