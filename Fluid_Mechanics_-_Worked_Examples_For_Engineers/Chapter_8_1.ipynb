{
 "metadata": {
  "name": "Chapter 8"
 },
 "nbformat": 3,
 "nbformat_minor": 0,
 "worksheets": [
  {
   "cells": [
    {
     "cell_type": "heading",
     "level": 1,
     "metadata": {},
     "source": "Chapter 8,Pipe Friction and Turbulent Flow"
    },
    {
     "cell_type": "heading",
     "level": 2,
     "metadata": {},
     "source": "Example 8.4,Page 199"
    },
    {
     "cell_type": "code",
     "collapsed": false,
     "input": "#Finding Internal diameter and reynold's number\n\n#variable declaration\nfrom math import pi\nimport math\nrho =867.0; #kg /m^3\nQ =12.0/3600; #m^3/ s\nu =7.5*10**( -4) ; # Ns/m^2\nL =200.0; # m\nH =10.0; # m\ng =9.81; # m/ s ^2\ne=2.718;\n\n#calculation\nd=(H*2*g /(4*0.079*(4* rho *Q/pi/u)**( -0.25) *L *(4* Q/pi)**2) )**( -0.2105);\nd=round(d,4);\nRe =4* rho *Q/ pi /d/u;\n\n#result\nprint\" Internal diameter of the pipe line (m)=\",round(d,5)\nprint\"Re =\",round(Re,2)\nprint(\"The value o f Reynolds number l i e s between 4000 and 10^5 , confirming the validity of using the Blasius equationfor smooth walled pipes\")",
     "language": "python",
     "metadata": {},
     "outputs": [
      {
       "output_type": "stream",
       "stream": "stdout",
       "text": " Internal diameter of the pipe line (m)= 0.0505\nRe = 97152.8\nThe value o f Reynolds number l i e s between 4000 and 10^5 , confirming the validity of using the Blasius equationfor smooth walled pipes\n"
      }
     ],
     "prompt_number": 1
    },
    {
     "cell_type": "heading",
     "level": 2,
     "metadata": {},
     "source": "Example 8.5,Page 202"
    },
    {
     "cell_type": "code",
     "collapsed": false,
     "input": "#Finding minimum allowable height\n\n#variable declaration\nfrom math import pi\nimport math\nm =40.0/60; # kg / s\nrho =873; #kg /m^3\nd =0.025; #m\nu =8.8*10** -4; # Ns/m^2\ndp =55.0*10**3; #N/m^2\nL =18; #m\ng =9.81; # m/ s ^2\n\n#calculation\nv2 =4*m/ rho / pi /d **2;\nRe=rho*v2*d/u;\n#using MOODY's Chart\nf =0.0055;\nH=dp/rho/g + v2 **2/2/ g + v2 **2/2/ g *(4* f*L/d +1.5) ;\n\n#result\nprint \"The minimum allowable height (m) =\",round(H,3)\n",
     "language": "python",
     "metadata": {},
     "outputs": [
      {
       "output_type": "stream",
       "stream": "stdout",
       "text": "The minimum allowable height (m) = 8.684\n"
      }
     ],
     "prompt_number": 2
    },
    {
     "cell_type": "heading",
     "level": 2,
     "metadata": {},
     "source": "Example 8.6,Page 204"
    },
    {
     "cell_type": "code",
     "collapsed": false,
     "input": "#Finding minimum allowable height\n\n#variable declaration\nfrom math import pi\nimport math\nQ =15.0/3600; # m^3/ s\nd =0.05; #m\nRho =780.0;\nu =1.7*10**( -3) ; #Ns/m^2\nf =0.0065;\nL =100; #m\ng =9.8; #m^2/ s\n\n#calculation\nv =4* Q/ pi /d **2;\ndel_pf =2*f* Rho *v**2*L/d;\nH_f =4* f*L*v **2/( d*2*g);\nH_exit =v **2/2/ g;\nH_entrance =v **2/4/ g;\nH= H_f+ H_exit + H_entrance ;\n\n#result\nprint \"The pressure drop due to friction is (kN/m^2)\",round(del_pf,2)\nprint \" and the difference in levels is (m)\",round(H,3)\n",
     "language": "python",
     "metadata": {},
     "outputs": [
      {
       "output_type": "stream",
       "stream": "stdout",
       "text": "The pressure drop due to friction is (kN/m^2) 91324.16\n and the difference in levels is (m) 12.292\n"
      }
     ],
     "prompt_number": 3
    },
    {
     "cell_type": "heading",
     "level": 2,
     "metadata": {},
     "source": "Example 8.7,Page 206"
    },
    {
     "cell_type": "code",
     "collapsed": false,
     "input": "#Finding rate of flow\n\n#variable declaration\nimport math\nf =0.005;\nL =10; # m\nd =0.025; # m\ng =9.81; # m/ s ^2\n\n#Calculations\n# H L=4\u0003 f \u0003L/d\u0003v ^2/2/ g+0.5\u0003 v ^2/2/ g\n# H L=8.5\u0003 v ^2/2/ g\n# By Be r n o u l l i e q u a t i o n we g e t\n#H=2.62+9.5\u0003 v2 ^2/2/ g\n# Applying the Be r n o u l l i e q u a t i o n between the liquid surface and discharge point\n# H L=33.5\u0003 v2 ^2/2/ g\n#Solving above two we g e t\nH =2.62+9.5* v2 **2/2/ g;\nv2 =1.9; # m/ s\nQ= pi*d **2/4* v2;\n\n#result\nprint\"Rate of flow (m^3/s)=\",round(Q,5)\nprint\"The minimum allowable height(m) =\",round(H,3)\n",
     "language": "python",
     "metadata": {},
     "outputs": [
      {
       "output_type": "stream",
       "stream": "stdout",
       "text": "Rate of flow (m^3/s)= 0.0009321875\nThe minimum allowable height(m) = 4.36796126402\n"
      }
     ],
     "prompt_number": 16
    },
    {
     "cell_type": "heading",
     "level": 2,
     "metadata": {},
     "source": "Example 8.8,Page 208"
    },
    {
     "cell_type": "code",
     "collapsed": false,
     "input": "#Finding rate of flow\n\n#variable declaration\nimport math\nd_A =0.025; # m\nv_A =1.21; # m/ s\nd_B =0.05; # m\nv_B =1.71; # m/ s\n\n#calculation\nQ_A = pi *d_A **2* v_A /4;\nQ_B = pi *d_B **2* v_B /4;\n\n#result\nprint \"The rate of flow through parallel pipes A is \",round(Q_A,5)\nprint\"The rate of flow through parallel pipes B is (m^3/s)=\",round(Q_B,5);\n\n",
     "language": "python",
     "metadata": {},
     "outputs": [
      {
       "output_type": "stream",
       "stream": "stdout",
       "text": "The rate of flow through parallel pipes A is  0.00059\nThe rate of flow through parallel pipes B is (m^3/s)= 0.00336\n"
      }
     ],
     "prompt_number": 4
    },
    {
     "cell_type": "heading",
     "level": 2,
     "metadata": {},
     "source": "Example 8.9,Page 210"
    },
    {
     "cell_type": "code",
     "collapsed": false,
     "input": "#Finding rate of flow\n\n#variable declaration\nfrom math import pi\nimport math\nd2 =0.06; # m\nd1 =0.12; # m\nk =0.44;\nf =0.05;\nL1 =500; # m\ng =9.81; # m/ s ^2\n\n#Calcualtion\n# v1=d2 ^2/ d1 ^2\u0003 v2\n# H f=4\u0003 f \u0003L1 /16/ d\u0003 v2 ^2/2/ g\n# H c=k\u0003 v2 ^2/2/ g\n# H f=4\u0003 f \u0003L2/d\u0003 v2 ^2/2/ g\n# H_exit=v2 ^2/2/ g\nv2= math.sqrt (30*2* g /173.4);\nQ= pi*d2 **2/4* v2;\n\n#result\nprint\"The rate of flow (m^3/s) =\",round(Q,5)\n",
     "language": "python",
     "metadata": {},
     "outputs": [
      {
       "output_type": "stream",
       "stream": "stdout",
       "text": "The rate of flow (m^3/s) = 0.00521\n"
      }
     ],
     "prompt_number": 5
    },
    {
     "cell_type": "heading",
     "level": 2,
     "metadata": {},
     "source": "Example 8.10,Page 212"
    },
    {
     "cell_type": "code",
     "collapsed": false,
     "input": "#Finding rate of flow\n\n#variable declaration\nimport math\nm =12.0*10**3/3600; #kg / s\nRho =815; #kg /m^3\nd =0.05; #m\ne =0.02;\nd1 =50; # m\nd2 =0.038; # m\ng =9.8; #m\n\n#calculation\nv =4* m/ Rho / pi /d**2;\nf1 =1/(2* math.log (d1/e,10) +2.28) **2;\nL_eq =d1 +2* d1*d;\nH_50mm =4* f1* L_eq *v **2/( d *2* g);\nv =4* m/( Rho * pi *d2 **2) ;\nf2 =1/(2* math.log (38/ e,10) +2.28) **2;\nL_eq =d1 +2* d1*d2;\nH_38mm =4* f2* L_eq *v **2/( d2 *2* g);\nHr =0.2* v **2/(2* g);\nH_L = H_50mm + H_38mm +Hr;\ndel_p_f =Rho*g* H_L ;\n\n#result\nprint \"The total pressure drop due to friction through the pipe system is (N/m^2) =\",round(del_p_f,3)\n",
     "language": "python",
     "metadata": {},
     "outputs": [
      {
       "output_type": "stream",
       "stream": "stdout",
       "text": "The total pressure drop due to friction through the pipe system is (N/m^2) = 479792.576\n"
      }
     ],
     "prompt_number": 6
    },
    {
     "cell_type": "heading",
     "level": 2,
     "metadata": {},
     "source": "Example 8.11,Page 214"
    },
    {
     "cell_type": "code",
     "collapsed": false,
     "input": "#Finding rate of flow\n\n#variable declaration\nimport math\n#H L=1.2\u0003 v ^2/2/ g\n# H L=4\u0003 f \u0003 L eq /d\u0003V^2/2/ g\n# L eq=60\u0003d\n# H L=240\u0003 f \u0003v ^2/2/ g\n# Combining the two e q u a t i o n s f o r head l o s s\n# 1.2\u0003v^2/2/ g=240\u0003 f_\u0003v^2/2/ g\n\nf =1.2/240;\nprint \" Friction factor =\",round(f,3)\n",
     "language": "python",
     "metadata": {},
     "outputs": [
      {
       "output_type": "stream",
       "stream": "stdout",
       "text": " Friction factor = 0.005\n"
      }
     ],
     "prompt_number": 7
    },
    {
     "cell_type": "heading",
     "level": 2,
     "metadata": {},
     "source": "Example 8.12,Page 216"
    },
    {
     "cell_type": "code",
     "collapsed": false,
     "input": "#Finding rate of flow\n\n#variable declaration\nimport math\n# dp AB+dp BC=dp AD+dp DC\n# dp AD=2\u0003 f \u0003 rho \u0003v ^2\u0003L/d\n# dp AD=16600\u0003(3_Q) ^2\n# Li k ewi s e\n# dp AB=16600\u0003Q^2\n# dp BC=16600\u0003(Q+0.5) ^2\n# dp DC=16600\u0003(2.1_Q) ^2\n#By s o l v i n g above 5 e qu a t i o ns , we g e t\nQ =1.175; # litres per second\n\n#Calculation\ndp_AD =16600*(3 - Q) **2;\ndp_AB =16600* Q**2;\ndp_BC =16600*( Q +0.5) **2;\ndp_DC =16600*(2.1 - Q) **2;\n\nprint\"The rate of flow from B to C (l/s)=\",round(Q+0.5,3)\nprint \"dp_AD(kN/m^2 =\",round(dp_AD/1000,3);\nprint\"dp AB (kN/m^2)=\",round(dp_AB/1000,3);\nprint\"dp BC(kN/m^2) =\",round(dp_BC/1000,3);\nprint\"dp DC (kN/m^2)=\",round(dp_DC/1000,3);\nprint\"The lowest pressure is in the pipe coneecting C and D\"",
     "language": "python",
     "metadata": {},
     "outputs": [
      {
       "output_type": "stream",
       "stream": "stdout",
       "text": "The rate of flow from B to C (l/s)= 1.675\ndp_AD(kN/m^2 = 55.288\ndp AB (kN/m^2)= 22.918\ndp BC(kN/m^2) = 46.573\ndp DC (kN/m^2)= 14.203\nThe lowest pressure is in the pipe coneecting C and D\n"
      }
     ],
     "prompt_number": 8
    },
    {
     "cell_type": "heading",
     "level": 2,
     "metadata": {},
     "source": "Example 8.13,Page 221"
    },
    {
     "cell_type": "code",
     "collapsed": false,
     "input": "#Finding time taken\n\n#variable declaration\nfrom math import pi\nimport math\nfrom scipy import integrate\nH2 =0.5; #m\nH1 =2.0; #m\nA =4.0; #m^2\nf =0.005;\nL =20.0; #m\nd =0.025; #m\ng =9.81; # m/ s ^2\n\n#calculation\na= pi *d **2/4;\nc=A*math.sqrt( 4*f*L/d  +2.5)/a/math.sqrt(2*g); # constant term of integration\ndef integrand(H,c):\n    return -c*(H)**(-0.5)\n#integrate function '-A\u0003*sqrt ( ( 4*f \u0003L/d ) +2.5) / a /( sqrt(2\u0003*g ) )* \u0003(H) ^(-1/2)\n#f=lambda H:-4*1978.18*H**(-0.5);\n\n\nt=integrate.quad(integrand,H1,H2,args=(c))\n                 \n#result\nprint \"Time taken (s)=\",round(t[0],2)",
     "language": "python",
     "metadata": {},
     "outputs": [
      {
       "output_type": "stream",
       "stream": "stdout",
       "text": "Time taken (s)= 11190.29\n"
      }
     ],
     "prompt_number": 39
    },
    {
     "cell_type": "heading",
     "level": 2,
     "metadata": {},
     "source": "Example 8.14,Page 223"
    },
    {
     "cell_type": "code",
     "collapsed": false,
     "input": "#Finding pressure drop\n\n#variable decleration\nfrom math import pi\nd0 =0.15; # m\nd1 =0.1; #m\nQ =50.0/3600; # m^3/ s\nf =0.0052;\nRho =972;\n\n\n#calculation\na= pi /4*(( d0)**2 -( d1) **2) ;\nP= pi *(( d0)+( d1));\nd_eq =4*a/P;\nv=Q/a;\ndel_p_f =2*f* Rho *v**2/ d_eq ;\n\n#result\nprint\" the pressure drop due to friction per metre lenfth of tube is found to be(Nm^2/m)\",round(del_p_f,3)\n",
     "language": "python",
     "metadata": {},
     "outputs": [
      {
       "output_type": "stream",
       "stream": "stdout",
       "text": " the pressure drop due to friction per metre lenfth of tube is found to be(Nm^2/m) 404.636\n"
      }
     ],
     "prompt_number": 12
    },
    {
     "cell_type": "heading",
     "level": 2,
     "metadata": {},
     "source": "Example 8.15,Page 225"
    },
    {
     "cell_type": "code",
     "collapsed": false,
     "input": "#Finding Head Loss\n\n#variable decleration\nfrom math import pi\nfrom scipy import integrate\nf =0.005;\nQ =0.07; #m^3/ s\ng =9.81; #m/ s ^2\nL=3;\n\n#calculation\nu=0.3-0.0666*L;\ndef integrand(l,f,Q,g,u):\n    return 32*f*Q**2/pi**2/g*(0.3-0.0666*l)**-5    \n\nH_f=integrate.quad(integrand,0,3,args=(f,Q,g,u));\nH_f=round(H_f[0],1)\n\n#result\nprint\" Fractional head loss(m) =\",H_f\n",
     "language": "python",
     "metadata": {},
     "outputs": [
      {
       "output_type": "stream",
       "stream": "stdout",
       "text": " Fractional head loss(m) = 0.3\n"
      }
     ],
     "prompt_number": 3
    },
    {
     "cell_type": "heading",
     "level": 2,
     "metadata": {},
     "source": "Example 8.16,Page 228"
    },
    {
     "cell_type": "code",
     "collapsed": false,
     "input": "#variable decleration\nfrom math import pi\nimport math\ng =9.81; # m/ s ^2\nH =4; # m\nf =0.006;\nL =50; # m\nd =0.1; # m\ne=2.718;\n\n\n#calculation\nv1= math.sqrt (2* g*H /(4* f*L/d + 13) );\nv2=0.99*v1;\nt=2/v1*math.log((v1+v2)/(v1-v2),e)\n\n#result\nprint\"Time taken (s)=\",round(t,2)\n",
     "language": "python",
     "metadata": {},
     "outputs": [
      {
       "output_type": "stream",
       "stream": "stdout",
       "text": "Time taken (s)= 5.98\n"
      }
     ],
     "prompt_number": 14
    },
    {
     "cell_type": "code",
     "collapsed": false,
     "input": "",
     "language": "python",
     "metadata": {},
     "outputs": []
    }
   ],
   "metadata": {}
  }
 ]
}