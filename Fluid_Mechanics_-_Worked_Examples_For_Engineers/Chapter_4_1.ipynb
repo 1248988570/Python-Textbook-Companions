{
 "metadata": {
  "name": "Chapter 4"
 },
 "nbformat": 3,
 "nbformat_minor": 0,
 "worksheets": [
  {
   "cells": [
    {
     "cell_type": "heading",
     "level": 1,
     "metadata": {},
     "source": "Chapter 4, Dimensional Analysis"
    },
    {
     "cell_type": "heading",
     "level": 2,
     "metadata": {},
     "source": "Example 4.5,Page 108"
    },
    {
     "cell_type": "code",
     "collapsed": false,
     "input": "#Finding pressure drop\n\n#Variable Declaration\nRho_full =800.0; # kg /m^3\nv_full =1.8; # m/ s\nu_full =9.0/10000 ; # Nm/ s ^2\nRho_model =1000.0; # kg /m^3\nu_model =1.0/1000 ; # Ns/m^2\nd_full = 2.0;\nd_model =1.0;\ndel_p_fmodel =4000.0; # N/m^2\n\n#Calculation\nv_model = (( Rho_full * v_full / u_full )/( Rho_model /u_model ))*( d_full / d_model );\n#del_p_f = del_p_fmodel * Rho_full *( v_full )**2/ Rho_model /(v_model )**2;\n\n#result\nprint \"The velocity in the full scale pipe is expected to be(m/s)\",round(v_model,2);\n",
     "language": "python",
     "metadata": {},
     "outputs": [
      {
       "output_type": "stream",
       "stream": "stdout",
       "text": "The velocity in the full scale pipe is expected to be(m/s) 3.2\n"
      }
     ],
     "prompt_number": 1
    },
    {
     "cell_type": "code",
     "collapsed": false,
     "input": "",
     "language": "python",
     "metadata": {},
     "outputs": []
    }
   ],
   "metadata": {}
  }
 ]
}