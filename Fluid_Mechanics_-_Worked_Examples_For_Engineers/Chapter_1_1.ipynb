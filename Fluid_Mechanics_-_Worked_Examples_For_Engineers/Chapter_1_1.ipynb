{
 "metadata": {
  "name": "Chapter 1"
 },
 "nbformat": 3,
 "nbformat_minor": 0,
 "worksheets": [
  {
   "cells": [
    {
     "cell_type": "heading",
     "level": 1,
     "metadata": {},
     "source": "Chapter1: Fluid Statics"
    },
    {
     "cell_type": "heading",
     "level": 2,
     "metadata": {},
     "source": "Example 1.1,Page 3"
    },
    {
     "cell_type": "code",
     "collapsed": false,
     "input": "#Finding Force\n\n# Variable Decleration\nrho=924; #density\ng=9.81; #grivity\nH=2; #height\nd=2; # depth \n\n#Calculation\np=rho*g*H;\na=d*H;\nF=p*a/2;\n\n#result\nprint\" Total force exerted over the wall in(N) =\",round(F,3)",
     "language": "python",
     "metadata": {},
     "outputs": [
      {
       "output_type": "stream",
       "stream": "stdout",
       "text": " Total force exerted over the wall in(N) = 36257.76\n"
      }
     ],
     "prompt_number": 2
    },
    {
     "cell_type": "heading",
     "level": 2,
     "metadata": {},
     "source": "Example 1.2,Page 5"
    },
    {
     "cell_type": "code",
     "collapsed": false,
     "input": "#Finding Force and Pressure\nimport math\n\n#Variable declaration\np_v =50*1000; #pressure\nr =1; #m\np_atm =101.3*1000; #atmospheric pressure\nrho =1000; #density\nH =2.5; #m\ng =9.81; #m/s^2\n\n\n#Calculation\nF= p_v*math.pi*r*r;\np= p_atm + p_v + rho *g*H;\nFd =( p_v+ rho *g*H)*math.pi*r*r+rho*g*2*math.pi*r*r/3;\n\n#result\nprint \" Total vertical force tending to lift the dome (N)\", round(F,3)\nprint \" Absolute pressure at the bottom o f the vessel (Pa)\",round(p,3)\nprint \"Downward force imposed by the gas and liquid (N)\", round(Fd,3)",
     "language": "python",
     "metadata": {},
     "outputs": [
      {
       "output_type": "stream",
       "stream": "stdout",
       "text": " Total vertical force tending to lift the dome (N) 157079.633\n Absolute pressure at the bottom o f the vessel (Pa) 175825.0\nDownward force imposed by the gas and liquid (N) 254673.208\n"
      }
     ],
     "prompt_number": 5
    },
    {
     "cell_type": "heading",
     "level": 2,
     "metadata": {},
     "source": "Example 1.3,Page 7"
    },
    {
     "cell_type": "code",
     "collapsed": false,
     "input": "#Finding Force\n\n#Variable Decleration\na1 =0.3; #m^2\nm =1000; # kg\na2 =0.003; #m^2\nrho_oil =750; #kg /m^3\nH =2; #m\ng =9.81; #m/ s ^2\n\n# Calcualtion\nF1=m*g;\nF2=a2 *( F1/a1 - rho_oil *g*H);\n\n#result\nprint \"The force on the plunger(N)\",round(F2,3)",
     "language": "python",
     "metadata": {},
     "outputs": [
      {
       "output_type": "stream",
       "stream": "stdout",
       "text": "The force on the plunger(N) 53.955\n"
      }
     ],
     "prompt_number": 3
    },
    {
     "cell_type": "heading",
     "level": 2,
     "metadata": {},
     "source": "Example 1.4,Page 8"
    },
    {
     "cell_type": "code",
     "collapsed": false,
     "input": "#Finding Height\n\n#variable Decleration\nrho_0 =800; # kg /m^3\nrho_aq =1100; # density of aqueous solution\n\n#calculation\nH =0.5* rho_aq /( rho_aq - rho_0 );\n# For a fixed length of chamber o f 3 m, the\n#interface between the two phases is determined\n#from the p r e s s u r e i n the chamber and d i s c h a r g e\n#p o i n t .\n#r h o 0 \u0003g\u0003H1+rho a q \u0003g\u0003H2=rho a q \u0003g \u0003(H\udbc0\udc000.5) ;\n#H=H1+H2\nrho_0 =600; #kg /m^3\nH1 =0.5* rho_aq /( rho_aq - rho_0 );\n\n#result\nprint \"H(m)\",round(H,3)\nprint \"The lowest possible position of the interface in the chamber below the overflow (m)\",round(H1,2)",
     "language": "python",
     "metadata": {},
     "outputs": [
      {
       "output_type": "stream",
       "stream": "stdout",
       "text": "H(m) 1.833\nThe lowest possible position of the interface in the chamber below the overflow (m) 1.1\n"
      }
     ],
     "prompt_number": 2
    },
    {
     "cell_type": "heading",
     "level": 2,
     "metadata": {},
     "source": "Example 1.5, Page11"
    },
    {
     "cell_type": "code",
     "collapsed": false,
     "input": "#position of interface between legs\n\n#variable decleration\nrho_o =900; #kg /m^3\nrho_n =1070; #kg /m^3\nH =1; #m\ng =9.81; #m/ s ^2\ndp =10*10**3; #change in pressure\n\n#H=H1+H2\n#calculation\nH1 =(dp - rho_n *g*H)/( rho_o - rho_n )/g;\n\n#result\nprint \"The position of the interface between the legs (m)\", round(H1,2)",
     "language": "python",
     "metadata": {},
     "outputs": [
      {
       "output_type": "stream",
       "stream": "stdout",
       "text": "The position of the interface between the legs (m) 0.3\n"
      }
     ],
     "prompt_number": 2
    },
    {
     "cell_type": "heading",
     "level": 2,
     "metadata": {},
     "source": "Example 1.6,Page 13"
    },
    {
     "cell_type": "code",
     "collapsed": false,
     "input": "#Finding Density and Fraction\n\n# Variable defining\ndp =22*10**3; #N/m^2\ng =9.81;#m/ s ^2\nH =1.5;#m\nrho =1495.00;#kg /m^3\nrho_s =1270;#kg /m^3\nrho_c =2698;#kg /m^3\n\n# Calculation\np=dp/g/H;\n#rho=f 1 \u0003 r h o s+f 2 \u0003 r h o c\n#f 1+f 2=1\nf2 =( rho - rho_s )/( rho_c - rho_s );\n\n#result\nprint \" the density of the solution with crystals (kg/m^3)\",round(p,3)\nprint \"The fraction of crystals \", round(f2,3)",
     "language": "python",
     "metadata": {},
     "outputs": [
      {
       "output_type": "stream",
       "stream": "stdout",
       "text": " the density of the solution with crystals (kg/m^3) 1495.073\nThe fraction of crystals  0.158\n"
      }
     ],
     "prompt_number": 12
    },
    {
     "cell_type": "heading",
     "level": 2,
     "metadata": {},
     "source": "Example 1.7, Page 15"
    },
    {
     "cell_type": "code",
     "collapsed": false,
     "input": "#Finding radius\n\n#Variable defining\np_atm =101.3*10**3; #N/m^2\nrho =1000; #kg /m^3\ng =9.81; #m/ s ^2\nH1 =3; #m\na =0.073; #N/m\nr1 =5*10**( -4) ; #m\np1= p_atm + rho *g*H1 +2* a/r1;\n\n#calculation\n# p2=p atm+rho \u0003g\u0003H2+2\u0003a / r2 ;\n# p1 \u00034/3\u0003%pi\u0003 r1 ^3=p2 \u00034/3\u0003%pi\u0003 r2 ^3\n# Solving above two equations we get\nr2 =0.053; #//mm\n\n#result\nprint\"Radius of the bubble(mm)\",round(r2,3)",
     "language": "python",
     "metadata": {},
     "outputs": [
      {
       "output_type": "stream",
       "stream": "stdout",
       "text": "Radius of the bubble(mm) 0.053\n"
      }
     ],
     "prompt_number": 3
    },
    {
     "cell_type": "heading",
     "level": 2,
     "metadata": {},
     "source": "Example 1.8,Page 17"
    },
    {
     "cell_type": "code",
     "collapsed": false,
     "input": "#Finding Pressure Difference\n\n#Variable defining\nH =0.2; #m\nrho =1000; #kg /m^3\nrho_Hg =13600; #kg /m^3\ng =9.81; #m/ s ^2\n\n#calculation\ndp =( rho_Hg -rho)*g*H;\n\n#result\nprint \" Differential pressure(Pa)\",round(dp,2)",
     "language": "python",
     "metadata": {},
     "outputs": [
      {
       "output_type": "stream",
       "stream": "stdout",
       "text": " Differential pressure(Pa) 24721.2\n"
      }
     ],
     "prompt_number": 9
    },
    {
     "cell_type": "heading",
     "level": 2,
     "metadata": {},
     "source": "Example 1.9,Page 19"
    },
    {
     "cell_type": "code",
     "collapsed": false,
     "input": "#Finding pressure drop\n\n#variable defining\nrho =1000;\ng =9.81; # m/ s ^2\nH =0.4; #m\n\n#calculation\ndp=rho*g*H;\n\n#result\nprint\" Pressure drop in the pipe(Pa)\",round(dp)",
     "language": "python",
     "metadata": {},
     "outputs": [
      {
       "output_type": "stream",
       "stream": "stdout",
       "text": " Pressure drop in the pipe(Pa) 3924.0\n"
      }
     ],
     "prompt_number": 1
    },
    {
     "cell_type": "heading",
     "level": 2,
     "metadata": {},
     "source": "Example 1.10,Page 21"
    },
    {
     "cell_type": "code",
     "collapsed": false,
     "input": "#finding quantity\nimport math\n\n#variable defining\ndp =20*10**3; #N/m^2\nrho_Hg =13600; # kg /m^3\nrho =700; #kg /m^3\ng =9.81; #m/ s ^2\nd =0.02; #m\n\n\n#calculation\nH=dp*(rho_Hg - rho)**-1/g;\nV= math.pi /4*d*d*H;\n\n#result\nprint\"Quantity of mercury to be removed (m^3)\",round(V,9)",
     "language": "python",
     "metadata": {},
     "outputs": [
      {
       "output_type": "stream",
       "stream": "stdout",
       "text": "Quantity of mercury to be removed (m^3) 4.965e-05\n"
      }
     ],
     "prompt_number": 11
    },
    {
     "cell_type": "heading",
     "level": 2,
     "metadata": {},
     "source": "Example 1.11,Page 23"
    },
    {
     "cell_type": "code",
     "collapsed": false,
     "input": "#Finding Pressure\n\n#Variable defining\nimport math\nfrom math import sin\nrho =800; #kg /m^3\ng =9.81; #m/ s ^2\nL =0.12;\n\n\n#calculations\ntheta = math.pi /180*20; #radians\ndp=rho*g*L*(sin(theta));\n\n#result\nprint \"The gauge pressure across the filter(Pa)\",round(dp,2)",
     "language": "python",
     "metadata": {},
     "outputs": [
      {
       "output_type": "stream",
       "stream": "stdout",
       "text": "The gauge pressure across the filter(Pa) 322.100890178\n"
      }
     ],
     "prompt_number": 1
    },
    {
     "cell_type": "heading",
     "level": 2,
     "metadata": {},
     "source": "Example 1.12,Page 25"
    },
    {
     "cell_type": "code",
     "collapsed": false,
     "input": "#Finding tension\n\n#Variable defining\nmc =100; #kg\ng =9.81; #m/ s ^2\nrho =1000; #kg /m^3\nrho_c =7930; #kg /m^3\n\n#calculation\nm=mc*rho/ rho_c ;\nF=mc*g-m*g; #tension\n\n#result\nprint(\"The tension in the cable(N)\",round(F,2))\n",
     "language": "python",
     "metadata": {},
     "outputs": [
      {
       "output_type": "stream",
       "stream": "stdout",
       "text": "('The tension in the cable(N)', 863.28)\n"
      }
     ],
     "prompt_number": 13
    },
    {
     "cell_type": "heading",
     "level": 2,
     "metadata": {},
     "source": "Example 1.13,Page 27"
    },
    {
     "cell_type": "code",
     "collapsed": false,
     "input": "#Finding length\n\n#Variale defining\nrho =1000.0;\nx =0.06;\nrho_0 =800.0;\nx_0 =0.04;\nrho_L =900.0;\n\n#calculation\nL=( rho*x- rho_0 *x_0)/( rho - rho_0 );\nx_L =L-rho/ rho_L *(L-x);\n\n#result\nprint \" Length of the stem above the liquid of SG 0.9 is (m)\",round(x_L,3)",
     "language": "python",
     "metadata": {},
     "outputs": [
      {
       "output_type": "stream",
       "stream": "stdout",
       "text": " Length of the stem above the liquid of SG 0.9 is (m) 0.05\n"
      }
     ],
     "prompt_number": 5
    },
    {
     "cell_type": "heading",
     "level": 2,
     "metadata": {},
     "source": "Example 1.14,Page 29\n"
    },
    {
     "cell_type": "code",
     "collapsed": false,
     "input": "#Finding Time and Quantity\n\n#variable defining\nm_s =5*10**6; #kg\nT2 =4.5; #m\nT1 =3; #m\nrho_hc =950; #kg /m^3\nQ =125; #m^3/h\n\n#calculation\nm_hc =m_s *( T2/T1 -1);\nt= m_hc / rho_hc /Q;\n\n#result\nprint\"Quantity delivered(kg)\",round(m_hc,2)\nprint \"Time taken(hours)\",round(t,3)",
     "language": "python",
     "metadata": {},
     "outputs": [
      {
       "output_type": "stream",
       "stream": "stdout",
       "text": "Quantity delivered(kg) 2500000.0\nTime taken(hours) 21.053\n"
      }
     ],
     "prompt_number": 1
    },
    {
     "cell_type": "code",
     "collapsed": false,
     "input": "",
     "language": "python",
     "metadata": {},
     "outputs": []
    }
   ],
   "metadata": {}
  }
 ]
}