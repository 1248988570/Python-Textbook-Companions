{
 "metadata": {
  "name": "Chapter7"
 },
 "nbformat": 3,
 "nbformat_minor": 0,
 "worksheets": [
  {
   "cells": [
    {
     "cell_type": "heading",
     "level": 1,
     "metadata": {},
     "source": "7: Superconductivity"
    },
    {
     "cell_type": "heading",
     "level": 2,
     "metadata": {},
     "source": "Example number 7.1, Page number 152"
    },
    {
     "cell_type": "code",
     "collapsed": false,
     "input": "#To calculate the critical field\n\n#importing modules\nfrom __future__ import division\nimport math\n\n#Variable declaration\nTc=3.722;      #critical temperature(K)\nT=2;          #temperature(K)\nBc_0=0.0305;     #critical field(T)\n\n#Calculation\nBc_T=Bc_0*(1-(T/Tc)**2);     #critical field at 2K(T)\nBc_T = math.ceil(Bc_T*10**4)/10**4;     #rounding off the value of Bc_T to 4 decimals\n\n#Result\nprint \"The critical field at 2K is\",Bc_T, \"T\"",
     "language": "python",
     "metadata": {},
     "outputs": [
      {
       "output_type": "stream",
       "stream": "stdout",
       "text": "The critical field at 2K is 0.0217 T\n"
      }
     ],
     "prompt_number": 1
    },
    {
     "cell_type": "heading",
     "level": 2,
     "metadata": {},
     "source": "Example number 7.2, Page number 152"
    },
    {
     "cell_type": "code",
     "collapsed": false,
     "input": "#To calculate the frequency of Josephson current\n\n#importing modules\nfrom __future__ import division\nimport math\n\n#Variable declaration\nV = 1;     #DC voltage applied across the Josephson junction(micro-volt)\ne = 1.6*10**-19;    #Charge on an electron(C)\nh = 6.626*10**-34;    #Planck's constant(Js)\n\n#Calculation\nV = V*10**-6;     #DC voltage applied across the Josephson junction(V)\nf = 2*e*V/h;      #Frequency of Josephson current(Hz)\nf = f*10**-6;      #Frequency of Josephson current(MHz)\nf = math.ceil(f*10**2)/10**2;     #rounding off the value of f to 2 decimals\n\n#Result\nprint \"The frequency of Josephson current is\",f, \"MHz\"",
     "language": "python",
     "metadata": {},
     "outputs": [
      {
       "output_type": "stream",
       "stream": "stdout",
       "text": "The frequency of Josephson current is 482.95 MHz\n"
      }
     ],
     "prompt_number": 2
    },
    {
     "cell_type": "heading",
     "level": 2,
     "metadata": {},
     "source": "Example number 7.3, Page number 152"
    },
    {
     "cell_type": "code",
     "collapsed": false,
     "input": "#To calculate the superconducting energy gap\n\n#importing modules\nfrom __future__ import division\nimport math\n\n#Variable declaration\nT_c = 0.517;    #Critical temperature for cadmium(K)\nk = 1.38*10**-23;    #Boltzmann constant(J/K)\ne = 1.6*10**-19;     #Energy equivalent of 1 eV(J/eV)\n\n#Calculation\nE_g = 3.5*k*T_c/e;    #Superconducting energy gap at absolute zero(eV)\nE_g = E_g*10**4;\nE_g = math.ceil(E_g*10**3)/10**3;     #rounding off the value of E_g to 3 decimals\n\n#Result\nprint \"The superconducting energy gap for Cd at absolute zero is\",E_g,\"*10**-4 eV\"",
     "language": "python",
     "metadata": {},
     "outputs": [
      {
       "output_type": "stream",
       "stream": "stdout",
       "text": "The superconducting energy gap for Cd at absolute zero is 1.561 *10**-4 eV\n"
      }
     ],
     "prompt_number": 8
    },
    {
     "cell_type": "heading",
     "level": 2,
     "metadata": {},
     "source": "Example number 7.4, Page number 152"
    },
    {
     "cell_type": "code",
     "collapsed": false,
     "input": "#To calculate the wavelength of photon\n\n#importing modules\nfrom __future__ import division\nimport math\n\n#Variable declaration\ne = 1.6*10**-19;    #Energy equivalent of 1 eV(J/eV)\nc = 3*10**8;     #Speed of light in free space(m/s)\nh = 6.626*10**-34;    #Planck's constant(Js)\nE_g = 1.5*10**-4;     #Superconducting energy gap for a material(eV)\n\n#Calculation\n#As E_g = h*new = h*c/lamda, solving for lambda\nlamda = h*c/(E_g*e);    #Wavelength of photon to break up a Cooper-pair(m)\nlamda = lamda*10**3;\nlamda = math.ceil(lamda*10**3)/10**3;     #rounding off the value of lamda to 3 decimals\n\n#Result\nprint \"The wavelength of photon to break up a Cooper-pair is\",lamda,\"*10**-3 m\"",
     "language": "python",
     "metadata": {},
     "outputs": [
      {
       "output_type": "stream",
       "stream": "stdout",
       "text": "The wavelength of photon to break up a Cooper-pair is 8.283 *10**-3 m\n"
      }
     ],
     "prompt_number": 12
    },
    {
     "cell_type": "heading",
     "level": 2,
     "metadata": {},
     "source": "Example number 7.5, Page number 153"
    },
    {
     "cell_type": "code",
     "collapsed": false,
     "input": "#To calculate the London penetration depth of lead\n\n#importing modules\nfrom __future__ import division\nimport math\n\n#Variable declaration\nlambda_0 = 37;     #Penetration depth of lead at 0 kelvin(nm)\nT_c = 7.193;      #Critical temperature of superconducting transition for lead(kelvin)\nT = 5.2;        #Temperature at which penetration depth for lead becomes lambda_T(kelvin) \n\n#Calculation\nlambda_T = lambda_0*(1-(T/T_c)**4)**(-1/2);     #Penetration depth of lead at 5.2 kelvin(nm)\nlambda_T = math.ceil(lambda_T*10)/10;     #rounding off the value of lamda_T to 1 decimal\n\n#Result\nprint \"The penetration depth of lead is\",lambda_T, \"nm\"",
     "language": "python",
     "metadata": {},
     "outputs": [
      {
       "output_type": "stream",
       "stream": "stdout",
       "text": "The penetration depth of lead is 43.4 nm\n"
      }
     ],
     "prompt_number": 13
    },
    {
     "cell_type": "heading",
     "level": 2,
     "metadata": {},
     "source": "Example number 7.6, Page number 153"
    },
    {
     "cell_type": "code",
     "collapsed": false,
     "input": "#To calculate the mass of isotope of mercury\n\n#importing modules\nfrom __future__ import division\nimport math\n\n#Variable declaration\nM1 = 199;    #Mass of an isotope of mercury(amu)\nT_C1 = 4.185;    #Transition temperature of the isoptope of Hg(K)\nT_C2 = 4.153;    #Transition temperature of another isoptope of Hg(K)\nalpha = 0.5;     #Isotope coefficient\n\n#Calculation\nM2 = M1*(T_C1/T_C2)**(1/alpha);    #Mass of another isotope of mercury(amu)\nM2 = math.ceil(M2*100)/100;     #rounding off the value of M2 to 2 decimals\n\n#Result\nprint \"The mass of another isotope of mercury is\",M2, \"amu\"",
     "language": "python",
     "metadata": {},
     "outputs": [
      {
       "output_type": "stream",
       "stream": "stdout",
       "text": "The mass of another isotope of mercury is 202.08 amu\n"
      }
     ],
     "prompt_number": 16
    },
    {
     "cell_type": "code",
     "collapsed": false,
     "input": "",
     "language": "python",
     "metadata": {},
     "outputs": []
    }
   ],
   "metadata": {}
  }
 ]
}