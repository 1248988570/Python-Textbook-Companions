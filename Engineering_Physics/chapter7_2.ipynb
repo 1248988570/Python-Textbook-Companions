{
 "metadata": {
  "name": "chapter7"
 },
 "nbformat": 3,
 "nbformat_minor": 0,
 "worksheets": [
  {
   "cells": [
    {
     "cell_type": "heading",
     "level": 1,
     "metadata": {},
     "source": "Semiconductors"
    },
    {
     "cell_type": "heading",
     "level": 2,
     "metadata": {},
     "source": "Example number 7.1, Page number 251"
    },
    {
     "cell_type": "code",
     "collapsed": false,
     "input": "# To calculate the number of electron hole pairs\n\n#import module\nimport math\nfrom __future__ import division\n\n#Variable decleration\nT1=300;    #temp in K\nT2=310;    #temp in K\nni1=2.5*10**19;   #per cubic metre\nEgeV1=0.72;       #value of Eg in eV\nEgeV2=1.12;       #value of Eg in eV\n\n#Calculation\nEg1=EgeV1*1.6*10**-19;    #Eg in J\nEg2=EgeV2*1.6*10**-19;    #Eg in J\nKB=1.38*10**-23;          #boltzmann constant in J/k\n#density of electron hole pair is ni = A*(T**(3/2))*exp(-Eg/(2*KB*T))\n#let (T**(3/2))*exp(-Eg/(2*KB*T)) be X\nX1=(T1**(3/2))*math.exp(-Eg1/(2*KB*T1));\nX2=(T2**(3/2))*math.exp(-Eg2/(2*KB*T2));\n#therefore ni1=A*X1 and ni2=A*X2. dividing ni2/ni1 we get X2/X1\nni2=ni1*(X2/X1);\n\n#Result\nprint(\"the number of electron hole pairs per cubic metre is\",ni2);\n\n#answer given in the book is wrong",
     "language": "python",
     "metadata": {},
     "outputs": [
      {
       "output_type": "stream",
       "stream": "stdout",
       "text": "('the number of electron hole pairs per cubic metre is', 2.3207901206362184e+16)\n"
      }
     ],
     "prompt_number": 1
    },
    {
     "cell_type": "heading",
     "level": 2,
     "metadata": {},
     "source": "Example number 7.2, Page number 251"
    },
    {
     "cell_type": "code",
     "collapsed": false,
     "input": "# To calculate the charge carrier density and electron mobility\n\n#import module\nimport math\nfrom __future__ import division\n\n#Variable decleration\nRH=3.66*10**-4;   #hall coefficient in m^3/coulomb\nsigma=112;    #conductivity in ohm-1 m-1\ne=1.6*10**-19;\n\n#Calculation\nne=1/(RH*e);\n#sigma = e*ne*(mew_e+mew_h)\n#assuming mew_h = 0\nmew_e=sigma/(e*ne);\n\n#Result\nprint(\"the charge carrier density per m^3 is\",ne);\nprint(\"electron mobility in m^2/Vs is\",mew_e);\n\n#answer given in the book is wrong",
     "language": "python",
     "metadata": {},
     "outputs": [
      {
       "output_type": "stream",
       "stream": "stdout",
       "text": "('the charge carrier density per m^3 is', 1.7076502732240434e+22)\n('electron mobility in m^2/Vs is', 0.040992)\n"
      }
     ],
     "prompt_number": 2
    },
    {
     "cell_type": "heading",
     "level": 2,
     "metadata": {},
     "source": "Example number 7.3, Page number 252"
    },
    {
     "cell_type": "code",
     "collapsed": false,
     "input": "# To calculate the conductivity of intrinsic silicon and resultant conductivity\n\n#import module\nimport math\nfrom __future__ import division\n\n#Variable decleration\nni=1.5*10**16;   #intrinsic concentration per m^3\ne=1.6*10**-19;\nmew_e=0.13;    #mobility of electrons in m^2/Vs\nmew_h=0.05;    #mobility of holes in m^2/Vs\nND=5*10**20;    #conductivity in atoms/m^3\n\n#Calculation\nsigma1=ni*e*(mew_e+mew_h);\nnd=(ni**2)/ND;\nsigma2=ND*e*mew_e;\nNA=5*10**20;\nna=(ni**2)/NA;\nsigma3=NA*e*mew_h;\nsigma1=math.ceil(sigma1*10**7)/10**7;   #rounding off to 7 decimals\nsigma2=math.ceil(sigma2*10**2)/10**2;   #rounding off to 2 decimals\n\n#Result\nprint(\"intrinsic conductivity of Si in ohm-1 m-1 is\",sigma1);\nprint(\"conductivity of Si during donor impurity in ohm-1 m-1 is\",sigma2);\nprint(\"conductivity of Si during acceptor impurity in ohm-1 m-1 is\",round(sigma3));",
     "language": "python",
     "metadata": {},
     "outputs": [
      {
       "output_type": "stream",
       "stream": "stdout",
       "text": "('intrinsic conductivity of Si in ohm-1 m-1 is', 0.000432)\n('conductivity of Si during donor impurity in ohm-1 m-1 is', 10.41)\n('conductivity of Si during acceptor impurity in ohm-1 m-1 is', 4.0)\n"
      }
     ],
     "prompt_number": 7
    },
    {
     "cell_type": "heading",
     "level": 2,
     "metadata": {},
     "source": "Example number 7.4, Page number 253"
    },
    {
     "cell_type": "code",
     "collapsed": false,
     "input": "# To calculate the conductivity\n\n#import module\nimport math\nfrom __future__ import division\n\n#Variable decleration\nsigma1=2;    #conductivity in ohm-1 m-1\nEgeV=0.72;    #band gap in eV\nKB=1.38*10**-23;    #boltzmann constant\nT1=20;    #temp in C\nT2=40;    #temp in C\n\n#Calculation\nEg=EgeV*1.6*10**-19;    #in J\nT1=T1+273;   #temp in K\nT2=T2+273;   #temp in K\n#sigma2/sigma1 = exp((-Eg/(2*KB))*((1/T2)-(1/T1)))\n#by taking log on both sides we get 2.303*log10(sigma2/sigma1) = (Eg/(2*KB))*((1/T1)-(1/T2))\n#let (Eg/(2*KB))*((1/T1)-(1/T2)) be X\nX=(Eg/(2*KB))*((1/T1)-(1/T2));\n#let log10(sigma2/sigma1) be Y\nY=X/2.303;\n#log10(sigma2/sigma1) = log10(sigma2)-log10(sigma1)\n#let log10(sigma2) be A\nA=Y+math.log10(sigma1);\nsigma2=10**A;\nsigma2=math.ceil(sigma2*10**2)/10**2;   #rounding off to 2 decimals\n\n#Result\nprint(\"the conductivity in mho m-1 is\",sigma2);",
     "language": "python",
     "metadata": {},
     "outputs": [
      {
       "output_type": "stream",
       "stream": "stdout",
       "text": "('the conductivity in mho m-1 is', 4.97)\n"
      }
     ],
     "prompt_number": 11
    },
    {
     "cell_type": "heading",
     "level": 2,
     "metadata": {},
     "source": "Example number 7.5, Page number 253"
    },
    {
     "cell_type": "code",
     "collapsed": false,
     "input": "# To calculate the concentration of holes and electrons \n\n#import module\nimport math\nfrom __future__ import division\n\n#Variable decleration\nmew_n=1300*10**-4;   #in m^2/Vs\nmew_p=500*10**-4;   #in m^2/Vs\nsigma=3*10**4;   #conductivity in ohm-1 m-1\ne=1.6*10**-19;\n\n#Calculation\nN=sigma/(e*mew_n);\nni=1.5*10**16;    #per m^3\np=(ni**2)/N;\nP=sigma/(e*mew_p);\nn=(ni**2)/P;\nN=math.ceil(N*10**4)/10**4;   #rounding off to 4 decimals\n\n#Result\nprint(\"concentration of electrons in n-type per cubic metre are\",N);\nprint(\"concentration of holes in n-type per cubic metre are\",round(p));\nprint(\"concentration of electrons in p-type per cubic metre are\",round(n));\nprint(\"concentration of holes in p-type per cubic metre are\",P);",
     "language": "python",
     "metadata": {},
     "outputs": [
      {
       "output_type": "stream",
       "stream": "stdout",
       "text": "('concentration of electrons in n-type per cubic metre are', 1.4423076923076921e+24)\n('concentration of holes in n-type per cubic metre are', 156000000.0)\n('concentration of electrons in p-type per cubic metre are', 60000000.0)\n('concentration of holes in p-type per cubic metre are', 3.7499999999999995e+24)\n"
      }
     ],
     "prompt_number": 16
    },
    {
     "cell_type": "heading",
     "level": 2,
     "metadata": {},
     "source": "Example number 7.6, Page number 254"
    },
    {
     "cell_type": "code",
     "collapsed": false,
     "input": "# To calculate the resistivity\n\n#import module\nimport math\nfrom __future__ import division\n\n#Variable decleration\nni=2.37*10**19;   #intrinsic carrier density per m^3\nmew_e=0.38;    #in m**2/Vs\nmew_n=0.18;    #in m**2/Vs\n\n#Calculation\ne=1.6*10**-19;\nsigmai=ni*e*(mew_e+mew_n);\nrho=1/sigmai;\nrho=math.ceil(rho*10**3)/10**3;   #rounding off to 3 decimals\n\n#Result\nprint(\"resistivity in ohm m is\",rho);",
     "language": "python",
     "metadata": {},
     "outputs": [
      {
       "output_type": "stream",
       "stream": "stdout",
       "text": "('resistivity in ohm m is', 0.471)\n"
      }
     ],
     "prompt_number": 19
    },
    {
     "cell_type": "heading",
     "level": 2,
     "metadata": {},
     "source": "Example number 7.7, Page number 254"
    },
    {
     "cell_type": "code",
     "collapsed": false,
     "input": "# To calculate the position of fermi level\n\n#import module\nimport math\nfrom __future__ import division\n\n#Variable decleration\nEg=1.12;   #band gap in eV\nK=1.38*10**-23;\nT=300;   #temp in K\n\n#Calculation\n#EF = (Eg/2)+(3*K*T/4)*log(mh/me)\n#given me=0.12m0 and mh=0.28m0. therefore mh/me = 0.28/0.12 \n#let mh/me be X. therefore X=0.28/0.12 \nX=0.28/0.12;\nEF=(Eg/2)+((3*K*T/4)*math.log(X));\n\n#Result\nprint(\"the position of fermi level in eV is\",EF);\n\n#answer given in the book is wrong",
     "language": "python",
     "metadata": {},
     "outputs": [
      {
       "output_type": "stream",
       "stream": "stdout",
       "text": "('the position of fermi level in eV is', 0.56)\n"
      }
     ],
     "prompt_number": 21
    },
    {
     "cell_type": "heading",
     "level": 2,
     "metadata": {},
     "source": "Example number 7.8, Page number 254"
    },
    {
     "cell_type": "code",
     "collapsed": false,
     "input": "# To calculate the concentration of intrinsic charge carriers\n\n#import module\nimport math\nfrom __future__ import division\n\n#Variable decleration\nKB=1.38*10**-23;\nT=300;   #temp in K\nh=6.626*10**-34;\nm0=9.11*10**-31;\nmh=m0;\nme=m0;\nEgeV=0.7;    #energy gap in eV\n\n#Calculation\nEg=EgeV*1.6*10**-19;    #in J\nA=((2*math.pi*KB/(h**2))**(3/2))*(me*mh)**(3/4);\nB=T**(3/2);\nC=math.exp(-Eg/(2*KB*T));\nni=2*A*B*C;\n\n#Result\nprint(\"concentration of intrinsic charge carriers per cubic metre is\",ni);",
     "language": "python",
     "metadata": {},
     "outputs": [
      {
       "output_type": "stream",
       "stream": "stdout",
       "text": "('concentration of intrinsic charge carriers per cubic metre is', 3.3481803992458756e+19)\n"
      }
     ],
     "prompt_number": 22
    },
    {
     "cell_type": "heading",
     "level": 2,
     "metadata": {},
     "source": "Example number 7.9, Page number 255"
    },
    {
     "cell_type": "code",
     "collapsed": false,
     "input": "# To calculate the resistivity\n\n#import module\nimport math\nfrom __future__ import division\n\n#Variable decleration\nni=2.4*10**19;\nmew_e=0.39;\nmew_h=0.19;\ne=1.6*10**-19;\n\n#Result\nsigmai=ni*e*(mew_e+mew_h);\nrhoi=1/sigmai;\nrhoi=math.ceil(rhoi*10**2)/10**2;   #rounding off to 2 decimals\n\n#Result\nprint(\"resistivity in ohm m is\",rhoi);",
     "language": "python",
     "metadata": {},
     "outputs": [
      {
       "output_type": "stream",
       "stream": "stdout",
       "text": "('resistivity in ohm m is', 0.45)\n"
      }
     ],
     "prompt_number": 24
    },
    {
     "cell_type": "heading",
     "level": 2,
     "metadata": {},
     "source": "Example number 7.10, Page number 255"
    },
    {
     "cell_type": "code",
     "collapsed": false,
     "input": "# To calculate the resistance\n\n#import module\nimport math\nfrom __future__ import division\n\n#Variable decleration\nl=1;    #length in cm\nl=l*10**-2;    #length in m\ne=1.6*10**-19;\nw=1;    #width in mm\nt=1;     #thickness in mm\n\n#Calculation\nw=w*10**-3;    #width in m\nt=t*10**-3;      #thickness in m\nA=w*t;\nni=2.5*10**19;\nmew_e=0.39;\nmew_p=0.19;\nsigma=ni*e*(mew_p+mew_e);\nR=l/(sigma*A);\n\n#Result\nprint(\"resistance of intrinsic Ge rod in ohm is\",R);",
     "language": "python",
     "metadata": {},
     "outputs": [
      {
       "output_type": "stream",
       "stream": "stdout",
       "text": "('resistance of intrinsic Ge rod in ohm is', 4310.3448275862065)\n"
      }
     ],
     "prompt_number": 25
    },
    {
     "cell_type": "heading",
     "level": 2,
     "metadata": {},
     "source": "Example number 7.11, Page number 255"
    },
    {
     "cell_type": "code",
     "collapsed": false,
     "input": "# To calculate the conductivity\n\n#import module\nimport math\nfrom __future__ import division\n\n#Variable decleration\nEg=1.1;   #energy gap in eV\nm=9.109*10**-31;\nk=1.38*10**-23;\nT=300;\ne=1.6*10**-19;\nh=6.626*10**-34;\nmew_e=0.48;     #electron mobility\nmew_h=0.013;    #hole mobility\n\n#Calculation\nC=2*(2*math.pi*m*k/(h**2))**(3/2);\nX=2*k*T/e;\nY=-Eg/X;\nA=math.exp(Y);\nni=C*(T**(3/2))*A;\nsigma=ni*e*(mew_e+mew_h);\nsigma=math.ceil(sigma*10**6)/10**6      #rounding off to 6 decimals\n\n#Result\nprint(\"conductivity in ohm-1 m-1 is\",sigma);\n\n# answer given in the book is wrong, Page number 255",
     "language": "python",
     "metadata": {},
     "outputs": [
      {
       "output_type": "stream",
       "stream": "stdout",
       "text": "('conductivity in ohm-1 m-1 is', 0.001162)\n"
      }
     ],
     "prompt_number": 28
    },
    {
     "cell_type": "heading",
     "level": 2,
     "metadata": {},
     "source": "Example number 7.12, Page number 256"
    },
    {
     "cell_type": "code",
     "collapsed": false,
     "input": "# To calculate the intrinsic carrier density and conductivity\n\n#import module\nimport math\nfrom __future__ import division\n\n#Variable decleration\nm=9.109*10**-31;\nk=1.38*10**-23;\nT=300;\ne=1.6*10**-19;\nh=6.626*10**-34;\nEg=0.7;\nmew_e=0.4;     #electron mobility\nmew_h=0.2;     #hole mobility\n\n#Calculation\nC=2*(2*math.pi*m*k/((h**2)))**(3/2);\nX=2*k*T/e;\nni=C*(T**(3/2))*math.exp(-Eg/X);\nsigma=ni*e*(mew_e+mew_h);\nsigma=math.ceil(sigma*10**3)/10**3      #rounding off to 3 decimals\n\n#Result\nprint(\"conductivity in ohm-1 m-1\",sigma);\n\n#answer given in the book is wrong",
     "language": "python",
     "metadata": {},
     "outputs": [
      {
       "output_type": "stream",
       "stream": "stdout",
       "text": "('conductivity in ohm-1 m-1', 3.214)\n"
      }
     ],
     "prompt_number": 30
    },
    {
     "cell_type": "heading",
     "level": 2,
     "metadata": {},
     "source": "Example number 7.13, Page number 256"
    },
    {
     "cell_type": "code",
     "collapsed": false,
     "input": "# To calculate the energy band gap\n\n#import module\nimport math\nfrom __future__ import division\n\n#Variable decleration\nk=8.616*10**-5;\nT1=20;    #temp in C\nT1=T1+273;    #temp in K\nT2=32;     #temp in C\nrho2=4.5;    #resistivity in ohm m\nrho1=2;    #resistivity in ohm m\n\n#Calculation\nT2=T2+273;    #temp in K\ndy=math.log10(rho2)-math.log10(rho1);\ndx=(1/T1)-(1/T2);\nEg=2*k*dy/dx;\nEg=math.ceil(Eg*10**3)/10**3      #rounding off to 3 decimals\n\n#Result\nprint(\"energy band gap in eV is\",Eg);",
     "language": "python",
     "metadata": {},
     "outputs": [
      {
       "output_type": "stream",
       "stream": "stdout",
       "text": "('energy band gap in eV is', 0.452)\n"
      }
     ],
     "prompt_number": 1
    },
    {
     "cell_type": "heading",
     "level": 2,
     "metadata": {},
     "source": "Example number 7.13, Page number 256"
    },
    {
     "cell_type": "code",
     "collapsed": false,
     "input": "# To calculate the energy band gap\n\n#import module\nimport math\nfrom __future__ import division\n\n#Variable decleration\nk=8.616*10**-5;\nT1=20;    #temp in C\nT2=32;     ##temp in C\nrho2=4.5;    #resistivity in ohm m\nrho1=2;    #resistivity in ohm m\n\n#Calculation\nT1=T1+273;    #temp in K\nT2=T2+273;    #temp in K\ndy=math.log10(rho2)-math.log10(rho1);\ndx=(1/T1)-(1/T2);\nEg=2*k*dy/dx;\nEg=math.ceil(Eg*10**3)/10**3      #rounding off to 3 decimals\n\n#Result\nprint(\"energy band gap in eV is\",Eg);",
     "language": "python",
     "metadata": {},
     "outputs": [
      {
       "output_type": "stream",
       "stream": "stdout",
       "text": "('energy band gap in eV is', 0.452)\n"
      }
     ],
     "prompt_number": 3
    },
    {
     "cell_type": "heading",
     "level": 2,
     "metadata": {},
     "source": "Example number 7.14, Page number 257"
    },
    {
     "cell_type": "code",
     "collapsed": false,
     "input": "# To calculate the temperature\n\n#import module\nimport math\nfrom __future__ import division\n\n#Variable decleration\nEgeV=1;   #energy in eV\nk=1.38*10**-23;\nEg=EgeV*1.602*10**-19;    #in J\n#EF can be taken as (Ev+0.5)eV\n#therefore (Ev+0.5)eV = (Ec+Ev)/2--------(1)\n#let fermi level shift by 10% then (Ev+0.6)eV = ((Ec+Ev)/2)+((3*k*T/4)*log(4))-----(2)\n#subtracting (1) from (2)\n#0.1 eV = (3*k*T/4)*math.log(4)\nE=0.1;    #energy in eV\nE=E*1.602*10**-19;    #energy in J\nT=(4*E)/(3*k*math.log(4));\n\n#Result\nprint(\"temperature in K is\",T);",
     "language": "python",
     "metadata": {},
     "outputs": [
      {
       "output_type": "stream",
       "stream": "stdout",
       "text": "('temperature in K is', 1116.520509905372)\n"
      }
     ],
     "prompt_number": 6
    },
    {
     "cell_type": "heading",
     "level": 2,
     "metadata": {},
     "source": "Example number 7.15, Page number 257"
    },
    {
     "cell_type": "code",
     "collapsed": false,
     "input": "# To calculate the conductivity of intrinsic silicon\n\n#import module\nimport math\nfrom __future__ import division\n\n#Variable decleration\nni=1.5*10**16;\ne=1.6*10**-19;\nmew_e=0.13;\nmew_h=0.05;\n\n#Calculation\nsigma=ni*e*(mew_e+mew_h);\nM=28.1;    #atomic weight of Si\nd=2.33*10**3;   #density in kg/m^3\nv=M/d;\nN=6.02*10**26;\nN1=N/v;\n#1 donor type impurity is added to 1 impurity atom\nND=N1/(10**8);\np=(ni**2)/ND;\nsigma_exd=ND*e*mew_e;\n#1 acceptor type impurity is added to 1 impurity atom\nNa=N1/(10**8);\nn=(ni**2)/Na;\nsigma_exa=Na*e*mew_h;\nsigma=math.ceil(sigma*10**7)/10**7      #rounding off to 7 decimals\nsigma_exd=math.ceil(sigma_exd*10**3)/10**3      #rounding off to 3 decimals\nsigma_exa=math.ceil(sigma_exa*10**3)/10**3      #rounding off to 3 decimals\n\n#Result\nprint(\"conductivity in ohm-1 m-1 is\",sigma);\nprint(\"number of Si atoms per m^3 is\",N1);\nprint(\"conductivity for donor type impurity in ohm-1 m-1 is\",sigma_exd);\nprint(\"conductivity for acceptor type impurity in ohm-1 m-1 is\",sigma_exa);",
     "language": "python",
     "metadata": {},
     "outputs": [
      {
       "output_type": "stream",
       "stream": "stdout",
       "text": "('conductivity in ohm-1 m-1 is', 0.000432)\n('number of Si atoms per m^3 is', 4.991672597864769e+28)\n('conductivity for donor type impurity in ohm-1 m-1 is', 10.383)\n('conductivity for acceptor type impurity in ohm-1 m-1 is', 3.994)\n"
      }
     ],
     "prompt_number": 10
    },
    {
     "cell_type": "heading",
     "level": 2,
     "metadata": {},
     "source": "Example number 7.16, Page number 258"
    },
    {
     "cell_type": "code",
     "collapsed": false,
     "input": "# To calculate the diffusion coefficient of electrons\n\n#import module\nimport math\nfrom __future__ import division\n\n#Variable decleration\nT=300;   #temperature in K\nKB=1.38*10**-23;\ne=1.6*10**-19;\nmew_e=0.19;    #mobility of electrons in m^2/Vs\n\n#Calculation\nDn=mew_e*KB*T/e;\nDn=math.ceil(Dn*10**6)/10**6      #rounding off to 6 decimals\n\n#Result\nprint(\"diffusion coefficient of electrons in m^2/s is\",Dn);",
     "language": "python",
     "metadata": {},
     "outputs": [
      {
       "output_type": "stream",
       "stream": "stdout",
       "text": "('diffusion coefficient of electrons in m^2/s is', 0.004917)\n"
      }
     ],
     "prompt_number": 13
    },
    {
     "cell_type": "heading",
     "level": 2,
     "metadata": {},
     "source": "Example number 7.17, Page number 259"
    },
    {
     "cell_type": "code",
     "collapsed": false,
     "input": "# To calculate the Hall voltage\n\n#import module\nimport math\nfrom __future__ import division\n\n#Variable decleration\nRH=3.66*10**-4;     #hall coefficient in m^3/coulomb\nI=10**-2;    #current in amp\nB=0.5;    #magnetic field in wb/m^2\nt=1;    #thickness in mm\n\n#Calculation\nt=t*10**-3;    #thickness in m\nVH=(RH*I*B)/t;\nVH=VH*10**3;    #converting from Volts to mV\n\n#Result\nprint(\"Hall voltage in mV is\",VH);",
     "language": "python",
     "metadata": {},
     "outputs": [
      {
       "output_type": "stream",
       "stream": "stdout",
       "text": "('Hall voltage in mV is', 1.83)\n"
      }
     ],
     "prompt_number": 14
    },
    {
     "cell_type": "heading",
     "level": 2,
     "metadata": {},
     "source": "Example number 7.18, Page number 259"
    },
    {
     "cell_type": "code",
     "collapsed": false,
     "input": "# To calculate the density and mobility of charge carrier\n\n#import module\nimport math\nfrom __future__ import division\n\n#Variable decleration\nRH=-7.35*10**-5;    #hall coefficient\ne=1.6*10**-19;\nsigma=200;\n\n#Calculation\nn=(-1/(RH*e));\nmew=sigma/(n*e);\n\n#Result\nprint(\"density of charge carriers in m^3 is\",n);\nprint(\"mobility of charge carriers in m^2/Vs is\",mew);",
     "language": "python",
     "metadata": {},
     "outputs": [
      {
       "output_type": "stream",
       "stream": "stdout",
       "text": "('density of charge carriers in m^3 is', 8.503401360544217e+22)\n('mobility of charge carriers in m^2/Vs is', 0.0147)\n"
      }
     ],
     "prompt_number": 15
    },
    {
     "cell_type": "heading",
     "level": 2,
     "metadata": {},
     "source": "Example number 7.19, Page number 259"
    },
    {
     "cell_type": "code",
     "collapsed": false,
     "input": "# To calculate the magnitude of Hall voltage\n\n#import module\nimport math\nfrom __future__ import division\n\n#Variable decleration\nI=50;    #current in amp\nB=1.5;   #magnetic field in T\nn=8.4*10**28;     #free electron concentration in electron/m^3\nt=0.5;    #thickness in cm\ne=1.6*10**-19;\n\n#Calculation\nt=t*10**-2;    #thickness in m\nVH=(I*B)/(n*e*t);\nVH=VH*10**6;   #converting VH from V to micro V\nVH=math.ceil(VH*10**4)/10**4      #rounding off to 4 decimals\n\n#Result\nprint(\"magnitude of Hall voltage in microVolt is\",VH);",
     "language": "python",
     "metadata": {},
     "outputs": [
      {
       "output_type": "stream",
       "stream": "stdout",
       "text": "('magnitude of Hall voltage in microVolt is', 1.1161)\n"
      }
     ],
     "prompt_number": 17
    },
    {
     "cell_type": "heading",
     "level": 2,
     "metadata": {},
     "source": "Example number 7.20, Page number 260"
    },
    {
     "cell_type": "code",
     "collapsed": false,
     "input": "# To calculate mew and n\n\n#import module\nimport math\nfrom __future__ import division\n\n#Variable decleration\nRH=3.66*10**-4;\ne=1.6*10**-19;\nrho_n=8.93*10**-3;\n\n#Calculation\nn=1/(RH*e);\nmew_e=RH/rho_n;\nmew_e=math.ceil(mew_e*10**5)/10**5      #rounding off to 5 decimals\n\n#Result\nprint(\"n per m^3 is\",n);\nprint(\"mew_e in m^2/V is\",mew_e);",
     "language": "python",
     "metadata": {},
     "outputs": [
      {
       "output_type": "stream",
       "stream": "stdout",
       "text": "('n per m^3 is', 1.7076502732240434e+22)\n('mew_e in m^2/V is', 0.04099)\n"
      }
     ],
     "prompt_number": 19
    },
    {
     "cell_type": "heading",
     "level": 2,
     "metadata": {},
     "source": "Example number 7.21, Page number 260"
    },
    {
     "cell_type": "code",
     "collapsed": false,
     "input": "# To calculate the conductivity and equilibrium hole concentration\n\n#import module\nimport math\nfrom __future__ import division\n\n#Variable decleration\nmew_e=0.13;    #electron mobility in m^2/Vs\nmew_h=0.048;   #hole mobility in m^2/Vs\nni=1.5*10**16;\ne=1.6*10**-19;\nT=300;   #temp in K\nND=10**23;    #density per m^3\n\n#Calculation\nsigmai=ni*e*(mew_e+mew_h);\nsigma=ND*mew_e*e;\np=(ni**2)/ND;\nsigmai=math.ceil(sigmai*10**5)/10**5      #rounding off to 5 decimals\n\n#Result\nprint(\"conductivity of intrinsic Si in s is\",sigmai);\nprint(\"conductivity in s is\",sigma);\nprint(\"equilibrium hole concentration per m^3 is\",round(p));\n\n#answers for sigmai and sigma given in the book are wrong",
     "language": "python",
     "metadata": {},
     "outputs": [
      {
       "output_type": "stream",
       "stream": "stdout",
       "text": "('conductivity of intrinsic Si in s is', 0.00043)\n('conductivity in s is', 2080.0)\n('equilibrium hole concentration per m^3 is', 2250000000.0)\n"
      }
     ],
     "prompt_number": 22
    },
    {
     "cell_type": "heading",
     "level": 2,
     "metadata": {},
     "source": "Example number 7.22, Page number 261"
    },
    {
     "cell_type": "code",
     "collapsed": false,
     "input": "# To calculate the forbidden energy gap\n\n#import module\nimport math\nfrom __future__ import division\n\n#Variable decleration\nT=300;   #temp in K\nkB=1.38*10**-23;\nmew_e=0.36;    #mobility of electrons in m^2/Vs\ne=1.6*10**-19;\nmew_h=0.7;    #mobility of electrons in m^2/Vs\nsigma=2.12;    #conductivity in ohm-1 m-1\nC=4.83*10**21;    #proportional constant\n\n#Calculation\nni=sigma/(e*(mew_e+mew_h));\n#exp(-Eg/(2*kB*T)) = (C*(T^(3/2)))/ni\n#let X be (C*(T^(3/2)))/ni\nX=(C*(T**(3/2)))/ni;\n#exp(-Eg/(2*kB*T)) = X \n#applyinf log on both sides\n#Eg/(2*kB*T) = log(X)\nEg=2*kB*T*math.log(X);\n\n#Result\nprint(\"forbidden energy gap in eV is\",Eg);\n\n#answer given in the book is wrong",
     "language": "python",
     "metadata": {},
     "outputs": [
      {
       "output_type": "stream",
       "stream": "stdout",
       "text": "('forbidden energy gap in eV is', 1.2016388762259164e-19)\n"
      }
     ],
     "prompt_number": 23
    },
    {
     "cell_type": "heading",
     "level": 2,
     "metadata": {},
     "source": "Example number 7.23, Page number 261"
    },
    {
     "cell_type": "code",
     "collapsed": false,
     "input": "# To calculate the probability of occupation\n\n#import module\nimport math\nfrom __future__ import division\n\n#Variable decleration\nEg=0.4;    #energy gap in eV\nEg=Eg*1.6*10**-19;    #Eg in J\nKB=1.38*10**-23;\nT1=0;   #temp 1 in C\nT2=50;   #temp 2 in C\nT3=100;   #temp 3 in C\n\n#Calculation\nT1k=T1+273;    #temp 1 in K\nT2k=T2+273;    #temp 2 in K\nT3k=T3+273;    #temp 3 in K\n#F(E) = 1/(1+(exp((E-Ep)/(KB*T))))\n#but E-Ep = (1/2)*Eg\n#therefore F(E) = 1/(1+(exp(Eg/(2*KB*T))))\nFE1=1/(1+(math.exp(Eg/(2*KB*T1k))));\nFE2=1/(1+(math.exp(Eg/(2*KB*T2k))));\nFE3=1/(1+(math.exp(Eg/(2*KB*T3k))));\nFE1=math.ceil(FE1*10**6)/10**6      #rounding off to 6 decimals\nFE2=math.ceil(FE2*10**6)/10**6      #rounding off to 6 decimals\nFE3=math.ceil(FE3*10**6)/10**6      #rounding off to 6 decimals\n\n#Result\nprint(\"probability of occupation at 0 C in eV is\",FE1);\nprint(\"probability of occupation at 50 C in eV is\",FE2);\nprint(\"probability of occupation at 100 C in eV is\",FE3);\n\n#answers given in the book are wrong",
     "language": "python",
     "metadata": {},
     "outputs": [
      {
       "output_type": "stream",
       "stream": "stdout",
       "text": "('probability of occupation at 0 C in eV is', 0.000205)\n('probability of occupation at 50 C in eV is', 0.000762)\n('probability of occupation at 100 C in eV is', 0.001992)\n"
      }
     ],
     "prompt_number": 26
    },
    {
     "cell_type": "heading",
     "level": 2,
     "metadata": {},
     "source": "Example number 7.24, Page number 262"
    },
    {
     "cell_type": "code",
     "collapsed": false,
     "input": "# To calculate the ratio between conductivity\n\n#import module\nimport math\nfrom __future__ import division\n\n#Variable decleration\nEg=1.2;   #energy in eV\nEg=Eg*1.6*10**-19;    #in J\nKB=1.38*10**-23;\nT1=600;   #temp in K\nT2=300;   #temp in K\n\n#Calculation\n#sigma is proportional to exp(-Eg/(2*KB*T))\n#let sigma1/sigma2 be R\nR=math.exp((Eg/(2*KB))*((1/T2)-(1/T1)));\n\n#Result\nprint(\"the ratio between conductivity is\",round(R));\n\n#answer given in the book is wrong",
     "language": "python",
     "metadata": {},
     "outputs": [
      {
       "output_type": "stream",
       "stream": "stdout",
       "text": "('the ratio between conductivity is', 108467.0)\n"
      }
     ],
     "prompt_number": 28
    },
    {
     "cell_type": "heading",
     "level": 2,
     "metadata": {},
     "source": "Example number 7.25, Page number 263"
    },
    {
     "cell_type": "code",
     "collapsed": false,
     "input": "# To calculate the resistivity of doped Ge\n\n#import module\nimport math\nfrom __future__ import division\n\n#Variable decleration\nni=2.5*10**19;   #density of charge carriers in m^3\nr=1/(10**6);    #ratio\ne=1.6*10**-19;\nmew_e=0.36;   #mobility of electrons in m^2/Vs\nmew_h=0.18;   #mobility of holes in m^2/Vs\nN=4.2*10**28;    #number of Si atoms per m^3\n\n#Calculation\nNe=r*N;\nNh=(ni**2)/Ne;\nsigma=(Ne*e*mew_e)+(Nh*e*mew_h);\nrho=1/sigma;\nrho=math.ceil(rho*10**8)/10**8      #rounding off to 8 decimals\n\n#Result\nprint(\"number of impurity atoms per m^3 is\",Ne);\nprint(\"the resistivity of doped Ge in ohm m is\",rho);",
     "language": "python",
     "metadata": {},
     "outputs": [
      {
       "output_type": "stream",
       "stream": "stdout",
       "text": "('number of impurity atoms per m^3 is', 4.2e+22)\n('the resistivity of doped Ge in ohm m is', 0.00041336)\n"
      }
     ],
     "prompt_number": 30
    },
    {
     "cell_type": "heading",
     "level": 2,
     "metadata": {},
     "source": "Example number 7.26, Page number 264"
    },
    {
     "cell_type": "code",
     "collapsed": false,
     "input": "# To calculate the conductivity of material\n\n#import module\nimport math\nfrom __future__ import division\n\n#Variable decleration\nn=5*10**17;   #concentration in m^3\nvd=350;   #drift velocity in m/s\nE=1000;   #electric field in V/m\ne=1.6*10**-19;\n\n#Calculation\nmew=vd/E;\nsigma=n*e*mew;\nsigma=math.ceil(sigma*10**4)/10**4      #rounding off to 4 decimals\n\n#Result\nprint(\"the conductivity of material in ohm m is\",sigma);",
     "language": "python",
     "metadata": {},
     "outputs": [
      {
       "output_type": "stream",
       "stream": "stdout",
       "text": "('the conductivity of material in ohm m is', 0.028)\n"
      }
     ],
     "prompt_number": 32
    },
    {
     "cell_type": "heading",
     "level": 2,
     "metadata": {},
     "source": "Example number 7.27, Page number 264"
    },
    {
     "cell_type": "code",
     "collapsed": false,
     "input": "# To calculate the concentration\n\n#import module\nimport math\nfrom __future__ import division\n\n#Variable decleration\nsigma_e=2.2*10**-4;   #conductivity\nmew_e=125*10**-3;    #mobility of electrons in m^2/Vs\ne=1.602*10**-19;\n\n#Calculation\nne=sigma_e/(e*mew_e);\n\n#Result\nprint(\"concentration in m^3 is\",ne);",
     "language": "python",
     "metadata": {},
     "outputs": [
      {
       "output_type": "stream",
       "stream": "stdout",
       "text": "('concentration in m^3 is', 1.0986267166042448e+16)\n"
      }
     ],
     "prompt_number": 33
    },
    {
     "cell_type": "heading",
     "level": 2,
     "metadata": {},
     "source": "Example number 7.28, Page number 265"
    },
    {
     "cell_type": "code",
     "collapsed": false,
     "input": "# To calculate the mobility and density of charge carrier\n\n#import module\nimport math\nfrom __future__ import division\n\n#Variable decleration\nRH=3.66*10**-4;    #hall coefficient in m^3/c\nrho_i=8.93*10**-3;    #resistivity in ohm m\ne=1.6*10**-19;\n\n#Calculation\nnh=1/(RH*e);\nmew_h=1/(rho_i*nh*e);\nmew_h=math.ceil(mew_h*10**4)/10**4      #rounding off to 4 decimals\n\n#Result\nprint(\"density of charge carriers in m^3 is\",nh);\nprint(\"mobility of charge carriers is %f m^2/Vs\",mew_h);",
     "language": "python",
     "metadata": {},
     "outputs": [
      {
       "output_type": "stream",
       "stream": "stdout",
       "text": "('density of charge carriers in m^3 is', 1.7076502732240434e+22)\n('mobility of charge carriers is %f m^2/Vs', 0.041)\n"
      }
     ],
     "prompt_number": 35
    },
    {
     "cell_type": "heading",
     "level": 2,
     "metadata": {},
     "source": "Example number 7.29, Page number 265"
    },
    {
     "cell_type": "code",
     "collapsed": false,
     "input": "# To calculate the Hall voltage and charge carrier concentration\n\n#import module\nimport math\nfrom __future__ import division\n\n#Variable decleration\nI=3;    #current in mA\nI=I*10**-3;    #current in amp\ne=1.6*10**-19;\nRH=3.66*10**-4;    #hall coefficient in m^3/C\nB=1;    #flux density in w/m^2\nd=2;   #dimension along Y in cm\nz=1;   #dimension along z in mm\n\n#Calculation\nd=d*10**-2;   #dimension along Y in m\nz=z*10**-3;    #dimension along z in m\nA=d*z;   #area in m^2\nEH=RH*I*B/A;\nVH=EH*d;\nVH=VH*10**3;    #converting from V to mV\nn=1/(RH*e);\nVH=math.ceil(VH*10**2)/10**2      #rounding off to 2 decimals\n\n#Result\nprint(\"Hall voltage in mV is\",VH);\nprint(\"charge carrier concentration in m^3 is\",n);",
     "language": "python",
     "metadata": {},
     "outputs": [
      {
       "output_type": "stream",
       "stream": "stdout",
       "text": "('Hall voltage in mV is', 1.1)\n('charge carrier concentration in m^3 is', 1.7076502732240434e+22)\n"
      }
     ],
     "prompt_number": 37
    },
    {
     "cell_type": "code",
     "collapsed": false,
     "input": "",
     "language": "python",
     "metadata": {},
     "outputs": []
    }
   ],
   "metadata": {}
  }
 ]
}