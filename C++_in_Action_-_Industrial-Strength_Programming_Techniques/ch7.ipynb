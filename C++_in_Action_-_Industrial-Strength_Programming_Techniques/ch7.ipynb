{
 "metadata": {
  "name": "ch7"
 },
 "nbformat": 3,
 "nbformat_minor": 0,
 "worksheets": [
  {
   "cells": [
    {
     "cell_type": "heading",
     "level": 1,
     "metadata": {},
     "source": "Chapter Seven : The class interface"
    },
    {
     "cell_type": "heading",
     "level": 3,
     "metadata": {},
     "source": "EXAMPLE 7.1 page no : 57\n"
    },
    {
     "cell_type": "code",
     "collapsed": false,
     "input": "'''\nA class with inline member functions\n'''\nclass Point:\n    def __init__(self,x,y):\n        self.xM = x\n        self.yM = y\n\n    def x(self):\n        return self.xM\n        \n    def y(self):\n        return self.yM\n\n    def x_(self,x):\n        self.xM = x\n        \n    def y_(self,y):\n        self.yM = y\n\n    def __add__(self,p2):    \n        return Point(self.x() + p2.x(), self.y() + p2.y())",
     "language": "python",
     "metadata": {},
     "outputs": [],
     "prompt_number": 1
    },
    {
     "cell_type": "heading",
     "level": 3,
     "metadata": {},
     "source": "example 7.2 page no : 59\n"
    },
    {
     "cell_type": "code",
     "collapsed": false,
     "input": "'''\nDifferent types of function parameters\nNote : python doesn't have pass by reference kind of functions.\n'''\n\ndef valueFunc(t):\n    pass\n\ndef pointerFunc(tp):\n    pass\n\ndef referenceFunc(tr):\n    pass",
     "language": "python",
     "metadata": {},
     "outputs": [],
     "prompt_number": 2
    },
    {
     "cell_type": "heading",
     "level": 3,
     "metadata": {},
     "source": "example 7.3 page no : 60\n"
    },
    {
     "cell_type": "code",
     "collapsed": false,
     "input": "'''\nPassing parameters by value\n'''\n\ndef func1(c):\n    pass\n\ndef func2(i):\n    pass\n    \ndef func3(d):\n    pass\n    \ndef func(c):\n    pass",
     "language": "python",
     "metadata": {},
     "outputs": [],
     "prompt_number": 3
    },
    {
     "cell_type": "heading",
     "level": 3,
     "metadata": {},
     "source": "EXAMPLE 7.4 page no : 61\n"
    },
    {
     "cell_type": "code",
     "collapsed": false,
     "input": "'''\n'''\nclass EmcMathVector:\n    def __init__(self,x,y):\n        self.xM = x\n        self.yM = y\n\n    def __mul__(self,i):\n        self.xM *= i\n        self.yM *= i\n\n    def x(self):\n        return self.xM\n        \n    def y(self):\n        return self.yM\n\n    def x_(self,x):\n        self.xM = x\n        \n    def y_(self,y):\n        yM = y\n\na = EmcMathVector(5,10)\nprint a.xM,a.yM\na * 5\nprint a.xM,a.yM",
     "language": "python",
     "metadata": {},
     "outputs": [
      {
       "output_type": "stream",
       "stream": "stdout",
       "text": "5 10\n25 50\n"
      }
     ],
     "prompt_number": 4
    },
    {
     "cell_type": "heading",
     "level": 3,
     "metadata": {},
     "source": "EXAMPLE 7.5 page no : 63\n"
    },
    {
     "cell_type": "code",
     "collapsed": false,
     "input": "'''\nPassing arguments of unknown type\n'''\n\nclass vector:\n    def __init__(self,first,last):\n        pass\n\n    def begin(self):\n        pass\n\n    def push_back(self,x):\n        pass\n    \n    def insert(self,x):\n        pass",
     "language": "python",
     "metadata": {},
     "outputs": [],
     "prompt_number": 5
    },
    {
     "cell_type": "heading",
     "level": 3,
     "metadata": {},
     "source": "EXAMPLE 7.6 page no : 64\n"
    },
    {
     "cell_type": "code",
     "collapsed": false,
     "input": "'''\nPassing base class reference\n'''\n\nclass basic_ofstream:\n    def __init__(self,x,y):\n        self.x = x\n        self.y = y\n\n    def print_(self):\n        print self.x , \", \" , self.y;\n\n\nv = basic_ofstream(1.2, 5.5);\nv.print_()",
     "language": "python",
     "metadata": {},
     "outputs": [
      {
       "output_type": "stream",
       "stream": "stdout",
       "text": "1.2 ,  5.5\n"
      }
     ],
     "prompt_number": 6
    },
    {
     "cell_type": "heading",
     "level": 3,
     "metadata": {},
     "source": "EXAMPLE 7.7 page no : 65 \n"
    },
    {
     "cell_type": "code",
     "collapsed": false,
     "input": "'''\nPassing base class object by value\n''' \n\ndef uselessPrint(v):\n    # NO: Compile error\n    print v.x() , \", \" , v.y();",
     "language": "python",
     "metadata": {},
     "outputs": [],
     "prompt_number": 7
    },
    {
     "cell_type": "heading",
     "level": 3,
     "metadata": {},
     "source": "example 7.8 page no : 65\n"
    },
    {
     "cell_type": "code",
     "collapsed": false,
     "input": "'''\nReturn value from assignment operators\n'''\n\narray = ['','','']\n# assign to first element\narrayPointer =  42 #*(arrayPointer = array) = 42\nprint arrayPointer",
     "language": "python",
     "metadata": {},
     "outputs": [
      {
       "output_type": "stream",
       "stream": "stdout",
       "text": "42\n"
      }
     ],
     "prompt_number": 8
    },
    {
     "cell_type": "heading",
     "level": 3,
     "metadata": {},
     "source": "EXAMPLE 7.10 page no : 67\n"
    },
    {
     "cell_type": "code",
     "collapsed": false,
     "input": "'''\nUsing parameter as a local variable\n'''\n\ndef arraySum(array,first,last):\n    s = 0\n    for i in array:\n        # It is possible to update first since\n        # it has not been declared const.\n        s += i\n    return s;\n    \nprint arraySum([5,4,3,2],5,2)    ",
     "language": "python",
     "metadata": {},
     "outputs": [
      {
       "output_type": "stream",
       "stream": "stdout",
       "text": "14\n"
      }
     ],
     "prompt_number": 9
    },
    {
     "cell_type": "heading",
     "level": 3,
     "metadata": {},
     "source": "EXAMPLE 7.11 page no : 68\n"
    },
    {
     "cell_type": "code",
     "collapsed": false,
     "input": "'''\nCopyable type parameter\n'''\nclass EmcStack:\n    def __init__(self):\n        self.repM = []\n        self.allocatedM = 0\n        self.topM = 0\n        \n    def push(t):\n        if self.topM == allocatedM : # allocate more memory\n            pass    #size_t newSize = 2 * allocatedM;\n        self.repM.append(t)\n        self.topM +=1",
     "language": "python",
     "metadata": {},
     "outputs": [],
     "prompt_number": 10
    },
    {
     "cell_type": "heading",
     "level": 3,
     "metadata": {},
     "source": "EXAMPLE 7.12 page no : 69\n"
    },
    {
     "cell_type": "code",
     "collapsed": false,
     "input": "'''\nAccessing string literals\n'''\n\nmessage1 = \"Calling Orson\";\nmessage2 = \"Ice Hockey\";\nmessage3 = \"Terminator\";\nmessage4 = \"I like candy\"\n\nprint message1\nprint message2\nprint message3\nprint message4",
     "language": "python",
     "metadata": {},
     "outputs": [
      {
       "output_type": "stream",
       "stream": "stdout",
       "text": "Calling Orson\nIce Hockey\nTerminator\nI like candy\n"
      }
     ],
     "prompt_number": 11
    },
    {
     "cell_type": "heading",
     "level": 3,
     "metadata": {},
     "source": "EXAMPLE 7.13 page no : 70\n"
    },
    {
     "cell_type": "code",
     "collapsed": false,
     "input": "'''\nImplications of const\nUselessString is a class that has not declared any const member functions.\n'''\n\nclass UselessString:\n    def __init__(self,c=None):\n        pass\n        \n    def cStr(self):\n        pass\n        \n    def length(self):\n        pass\n        \n    def at(self,index):\n        pass\n        \n    def print_(self):\n        print self.s ",
     "language": "python",
     "metadata": {},
     "outputs": [],
     "prompt_number": 12
    },
    {
     "cell_type": "heading",
     "level": 3,
     "metadata": {},
     "source": "EXAMPLE 7.14 page no : 71\n"
    },
    {
     "cell_type": "code",
     "collapsed": false,
     "input": "'''\nAccessing objects inside const member function\n'''\nclass Silly:\n    def __init__(self,val):\n        self.valM = val\n        \n    def me(self,s):\n        pass",
     "language": "python",
     "metadata": {},
     "outputs": [],
     "prompt_number": 13
    },
    {
     "cell_type": "heading",
     "level": 3,
     "metadata": {},
     "source": "EXAMPLE 7.15 page no : 72\n"
    },
    {
     "cell_type": "code",
     "collapsed": false,
     "input": "'''\nAccessing characters in a string\n'''\n\nname = \"John Bauer\";\nprint name[0]",
     "language": "python",
     "metadata": {},
     "outputs": [
      {
       "output_type": "stream",
       "stream": "stdout",
       "text": "J\n"
      }
     ],
     "prompt_number": 14
    },
    {
     "cell_type": "heading",
     "level": 3,
     "metadata": {},
     "source": "EXAMPLE 7.16 page no : 75\n"
    },
    {
     "cell_type": "code",
     "collapsed": false,
     "input": "'''\nOverloaded member functions\n'''\ncosmonaut = \"Juri Gagarin\"\nc = 'a';\ncValue = c in cosmonaut # cValue == true\nuri = \"uri\"\nuriValue = uri in cosmonaut # uriValue == true\nprint cValue\nprint uriValue",
     "language": "python",
     "metadata": {},
     "outputs": [
      {
       "output_type": "stream",
       "stream": "stdout",
       "text": "True\nTrue\n"
      }
     ],
     "prompt_number": 15
    },
    {
     "cell_type": "heading",
     "level": 3,
     "metadata": {},
     "source": "EXAMPLE 7.17 page no : 76 \n"
    },
    {
     "cell_type": "code",
     "collapsed": false,
     "input": "'''\nOperator overloading\n'''\ndef max_(x,y):\n    if (x > y): # could use: < instead\n        # We also expect that:\n        # y < x\n        return x;\n    else:\n        # We also expect that:\n        # x <= y\n        return y;\n\nx = 42;\ny = 0;\nprint max(x,y)\n\n",
     "language": "python",
     "metadata": {},
     "outputs": [
      {
       "output_type": "stream",
       "stream": "stdout",
       "text": "42\n"
      }
     ],
     "prompt_number": 16
    },
    {
     "cell_type": "heading",
     "level": 3,
     "metadata": {},
     "source": "EXAMPLE 7.18 page no : 76\n"
    },
    {
     "cell_type": "code",
     "collapsed": false,
     "input": "'''\nImplementation of closely related operators\nPython has inbuilt this facility. No need to write functions for that.\n''' ",
     "language": "python",
     "metadata": {},
     "outputs": [
      {
       "metadata": {},
       "output_type": "pyout",
       "prompt_number": 17,
       "text": "'\\nEXAMPLE 7.18 page no : 76\\nImplementation of closely related operators\\nPython has inbuilt this facility. No need to write functions for that.\\n'"
      }
     ],
     "prompt_number": 17
    },
    {
     "cell_type": "heading",
     "level": 3,
     "metadata": {},
     "source": "EXAMPLE 7.19 page no : 77\n"
    },
    {
     "cell_type": "code",
     "collapsed": false,
     "input": "'''\nHiding member functions\n'''\nclass Base:\n    def f(char):\n        pass\n    def f(i):\n        pass\n    def v(char):\n        pass\n\nclass Derived(Base):\n    def __init__(self):\n        pass\n\n    def f(self,i):\n        pass\n    \n    def v(self,c):\n        self.f(c)",
     "language": "python",
     "metadata": {},
     "outputs": [],
     "prompt_number": 18
    },
    {
     "cell_type": "heading",
     "level": 3,
     "metadata": {},
     "source": "EXAMPLE 7.20 page no : 79\n"
    },
    {
     "cell_type": "code",
     "collapsed": false,
     "input": "'''\nInheriting overloaded virtual member functions\nSuppose the template EmcBoundedCollection<T> inherits from EmcCollec-\ntion<T>. Objects of the same derived class are possible to compare more efficiently\nthan if the objects are of different classes. This is the reason to why the member func-\ntion isEqual is overloaded in the derived class, but to avoid surprises the base class\nversion is also made accessible.\n'''\nclass EmcCollection:\n    def isEqual(self):\n        pass\n        \nclass EmcBoundedCollection(EmcCollection):\n\n    def isEqual(a):\n        pass",
     "language": "python",
     "metadata": {},
     "outputs": [],
     "prompt_number": 19
    },
    {
     "cell_type": "heading",
     "level": 3,
     "metadata": {},
     "source": "example 7.21 page no : 80\n"
    },
    {
     "cell_type": "code",
     "collapsed": false,
     "input": "'''\nAdding default arguments\n'''\n\ndef f(x,y = 2):\n    print x\n    print y\n#void f(int x = 1, int y); // NOT RECOMMENDED\n\nf(1)\nf(2,3)",
     "language": "python",
     "metadata": {},
     "outputs": [
      {
       "output_type": "stream",
       "stream": "stdout",
       "text": "1\n2\n2\n3\n"
      }
     ],
     "prompt_number": 20
    },
    {
     "cell_type": "heading",
     "level": 3,
     "metadata": {},
     "source": "EXAMPLE 7.22 page no : 80\n"
    },
    {
     "cell_type": "code",
     "collapsed": false,
     "input": "'''\nDefault arguments for member function\n'''\n\nclass RanDraw:\n    def __init__(self, limit,seed, t = 'Good' ):\n        pass # Default argument for t in class definition\n",
     "language": "python",
     "metadata": {},
     "outputs": [],
     "prompt_number": 21
    },
    {
     "cell_type": "heading",
     "level": 3,
     "metadata": {},
     "source": "EXAMPLE 7.23 page no : 82\n"
    },
    {
     "cell_type": "code",
     "collapsed": false,
     "input": "'''\nOne-argument constructor\n'''\nclass Other:\n    def __init__(self,a): #No implicit conversion from Any\n        pass\n        \n    def foo(self,o):\n        pass",
     "language": "python",
     "metadata": {},
     "outputs": [],
     "prompt_number": 22
    },
    {
     "cell_type": "heading",
     "level": 3,
     "metadata": {},
     "source": "example 7.24 page no : 82\n"
    },
    {
     "cell_type": "code",
     "collapsed": false,
     "input": "'''\nHow to avoid conversion operator function\nOur string class EmcString provides a member function cStr() for the purpose of\nreturning the string representation as a const char*.\n'''\nclass EmcString:\n    def cStr(): # conversion to const char*\n        pass\n\n    def log(cp):   \n        pass\n\nmagicPlace =\"Ngoro-Ngoro crater at dusk\"\nprint magicPlace # Explicit conversion from String to const char*",
     "language": "python",
     "metadata": {},
     "outputs": [
      {
       "output_type": "stream",
       "stream": "stdout",
       "text": "Ngoro-Ngoro crater at dusk\n"
      }
     ],
     "prompt_number": 23
    },
    {
     "cell_type": "code",
     "collapsed": false,
     "input": "",
     "language": "python",
     "metadata": {},
     "outputs": []
    }
   ],
   "metadata": {}
  }
 ]
}