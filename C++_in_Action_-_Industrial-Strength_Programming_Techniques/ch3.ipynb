{
 "metadata": {
  "name": "ch3"
 },
 "nbformat": 3,
 "nbformat_minor": 0,
 "worksheets": [
  {
   "cells": [
    {
     "cell_type": "heading",
     "level": 1,
     "metadata": {},
     "source": "Chapter Three : Comments"
    },
    {
     "cell_type": "heading",
     "level": 3,
     "metadata": {},
     "source": "EXAMPLE 3.1 Page no : 22\n"
    },
    {
     "cell_type": "code",
     "collapsed": false,
     "input": "'''\nStatic string identifying the file\n'''\n\nrcsid = \"$Id: $\"\nprint rcsid",
     "language": "python",
     "metadata": {},
     "outputs": [
      {
       "output_type": "stream",
       "stream": "stdout",
       "text": "$Id: $\n"
      }
     ],
     "prompt_number": 1
    },
    {
     "cell_type": "heading",
     "level": 3,
     "metadata": {},
     "source": "EXAMPLE 3.2 Page no : 22\n"
    },
    {
     "cell_type": "code",
     "collapsed": false,
     "input": "'''\nComments in C++\n'''\ncpM = ''; # A String variable\nlenM = 0  # The length of the character array ",
     "language": "python",
     "metadata": {},
     "outputs": [],
     "prompt_number": 3
    },
    {
     "cell_type": "heading",
     "level": 3,
     "metadata": {},
     "source": "Example 3.3 Page no : 22\n"
    },
    {
     "cell_type": "code",
     "collapsed": false,
     "input": "'''\nNested Python-style comment\n'''\n\n''' No: this nesting of C-style comments will not work !!!\nchar* cpM;\nint lenM;\n# A pointer to the characters\n# The length of the character array \n'''",
     "language": "python",
     "metadata": {},
     "outputs": [
      {
       "metadata": {},
       "output_type": "pyout",
       "prompt_number": 4,
       "text": "' No: this nesting of C-style comments will not work !!!\\nchar* cpM;\\nint lenM;\\n# A pointer to the characters\\n# The length of the character array \\n'"
      }
     ],
     "prompt_number": 4
    },
    {
     "cell_type": "code",
     "collapsed": false,
     "input": "",
     "language": "python",
     "metadata": {},
     "outputs": []
    }
   ],
   "metadata": {}
  }
 ]
}