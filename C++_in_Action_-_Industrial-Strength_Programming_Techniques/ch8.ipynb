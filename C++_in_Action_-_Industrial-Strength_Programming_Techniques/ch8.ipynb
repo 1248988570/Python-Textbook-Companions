{
 "metadata": {
  "name": "ch8"
 },
 "nbformat": 3,
 "nbformat_minor": 0,
 "worksheets": [
  {
   "cells": [
    {
     "cell_type": "heading",
     "level": 1,
     "metadata": {},
     "source": "Chapter Eight : new and delete"
    },
    {
     "cell_type": "heading",
     "level": 3,
     "metadata": {},
     "source": "EXAMPLE 8.1 page no : 89\n"
    },
    {
     "cell_type": "code",
     "collapsed": false,
     "input": "'''\nAllocate and deallocate free store object\nNote : Python does deallocation it self.\n'''\n\nsp = \"Hello\" \narraySize = 5;\nsa = []\nprint sp, arraySize\n",
     "language": "python",
     "metadata": {},
     "outputs": [
      {
       "output_type": "stream",
       "stream": "stdout",
       "text": "Hello 5\n"
      }
     ],
     "prompt_number": 1
    },
    {
     "cell_type": "heading",
     "level": 3,
     "metadata": {},
     "source": "EXAMPLE 8.2 page no : 90\n"
    },
    {
     "cell_type": "code",
     "collapsed": false,
     "input": "'''\nDangerous access to deleted object\nNote : python deallocates variable memory when program exits.   \n'''\n\nsp = \"Hello\"\nprint sp\n",
     "language": "python",
     "metadata": {},
     "outputs": [
      {
       "output_type": "stream",
       "stream": "stdout",
       "text": "Hello\n"
      }
     ],
     "prompt_number": 2
    },
    {
     "cell_type": "heading",
     "level": 3,
     "metadata": {},
     "source": "EXAMPLE 8.3 page no : 90\n"
    },
    {
     "cell_type": "code",
     "collapsed": false,
     "input": "'''\nObjects that commit suicide\n'''\nclass W:\n    def __init__(self):\n        pass\n\n    def goAway(self):\n        pass\n        \n    def foo(self):\n        pass\n    \n    def bar(self):\n        pass",
     "language": "python",
     "metadata": {},
     "outputs": [],
     "prompt_number": 3
    },
    {
     "cell_type": "heading",
     "level": 3,
     "metadata": {},
     "source": "EXAMPLE 8.4 page no : 91\n"
    },
    {
     "cell_type": "code",
     "collapsed": false,
     "input": "'''\nPlacement new\nA common form of placement new, that is part of the standard library, takes a memory\naddress as argument.\n'''\n\nmaxSize = 100; # get storage for object\nstorage = [] # call placement new to create object\n#ap1 =  A(); # A() class is not defined here.",
     "language": "python",
     "metadata": {},
     "outputs": [],
     "prompt_number": 4
    },
    {
     "cell_type": "heading",
     "level": 3,
     "metadata": {},
     "source": "EXAMPLE 8.5 page no : 93 \n"
    },
    {
     "cell_type": "code",
     "collapsed": false,
     "input": "'''\nClass with customized memory management\nNote : Python does not have new operator, so can not be overloaded.\n'''\n\nclass BadArgument:\n    def __init__(self):\n        pass\n\nclass A:\n    def __init__(self):\n        pass",
     "language": "python",
     "metadata": {},
     "outputs": [],
     "prompt_number": 5
    },
    {
     "cell_type": "code",
     "collapsed": false,
     "input": "",
     "language": "python",
     "metadata": {},
     "outputs": []
    }
   ],
   "metadata": {}
  }
 ]
}