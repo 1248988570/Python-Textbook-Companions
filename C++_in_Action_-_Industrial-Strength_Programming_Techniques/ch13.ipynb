{
 "metadata": {
  "name": "ch13"
 }, 
 "name": "ch13", 
 "nbformat": 2, 
 "worksheets": [
  {
   "cells": [
    {
     "cell_type": "markdown", 
     "source": "<h1> Chapter Thirteen :  Parts of C++ to avoid"
    }, 
    {
     "cell_type": "markdown", 
     "source": "<h3>EXAMPLE 13.1 page no :  159"
    }, 
    {
     "cell_type": "code", 
     "collapsed": false, 
     "input": "'''\nC-style I/O is not adequate for objects\n'''\n\ns = 'abc' #raw_input()\nprint s", 
     "language": "python", 
     "outputs": [
      {
       "output_type": "stream", 
       "stream": "stdout", 
       "text": "abc"
      }
     ], 
     "prompt_number": 2
    }, 
    {
     "cell_type": "markdown", 
     "source": "<h3>EXAMPLE 13.2 page no : 160"
    }, 
    {
     "cell_type": "code", 
     "collapsed": false, 
     "input": "'''\nPassing objects to printf()\nThe function printf() should not be given an object as argument even if the object\nis of a class that can be implicitly converted to a type that printf() knows how to\nhandle.\n'''\nclass DangerousString:\n    def __init__(self,cp):\n        pass\n    \n    def char(self):\n        pass\n\nhello = \"Hello World!\";\nprint hello # Works perfectly\nprint \"%s\"%hello", 
     "language": "python", 
     "outputs": [
      {
       "output_type": "stream", 
       "stream": "stdout", 
       "text": "Hello World!\nHello World!"
      }
     ], 
     "prompt_number": 3
    }, 
    {
     "cell_type": "markdown", 
     "source": "<h3>EXAMPLE 13.3 page no : 160"
    }, 
    {
     "cell_type": "code", 
     "collapsed": false, 
     "input": "'''\nOverloading of operator<<\n'''\nclass EmcString:\n    def __init__(self,cp):\n        pass\n\n\ns = \"Hello World!\";\nprint s ", 
     "language": "python", 
     "outputs": [
      {
       "output_type": "stream", 
       "stream": "stdout", 
       "text": "Hello World!"
      }
     ], 
     "prompt_number": 4
    }, 
    {
     "cell_type": "markdown", 
     "source": "<h3>EXAMPLE 13.4  page no :161"
    }, 
    {
     "cell_type": "code", 
     "collapsed": false, 
     "input": "'''\nMacros do not obey scope rules\n'''\n#define SIZE 1024\nSIZE = 1024;\nprint SIZE", 
     "language": "python", 
     "outputs": [
      {
       "output_type": "stream", 
       "stream": "stdout", 
       "text": "1024"
      }
     ], 
     "prompt_number": 5
    }, 
    {
     "cell_type": "markdown", 
     "source": "<h3>EXAMPLE 13.5 page no : 162"
    }, 
    {
     "cell_type": "code", 
     "collapsed": true, 
     "input": "'''\nRecommended way to define constants\nYou can often define constants within a class.\n'''\nclass X:\n    class Color:\n        green = 1\n        yellow = 2\n        red = 3", 
     "language": "python", 
     "outputs": [], 
     "prompt_number": 6
    }, 
    {
     "cell_type": "markdown", 
     "source": "<h3>EXAMPLE 13.6 page no :  162"
    }, 
    {
     "cell_type": "code", 
     "collapsed": true, 
     "input": "'''\nUsing an enum instead of static const int\nOlder compilers will not allow you to define ordinary constants inside a class. A com-\nmon trick is to use an anonymous enum instead.\n'''\nclass X:\n    maxBuf = 1024\n    class Color:\n        green = 1\n        yellow = 2\n        red = 3", 
     "language": "python", 
     "outputs": [], 
     "prompt_number": 7
    }, 
    {
     "cell_type": "markdown", 
     "source": "<h3>EXAMPLE 13.7 page no : 162"
    }, 
    {
     "cell_type": "code", 
     "collapsed": false, 
     "input": "'''\nFunction-like macro, SQUARE\n'''\n# Not recommended to have function-like macro\ndef SQUARE(x):\n    return x*x\n\ni = SQUARE(3 + 4); \nprint i", 
     "language": "python", 
     "outputs": [
      {
       "output_type": "stream", 
       "stream": "stdout", 
       "text": "49"
      }
     ], 
     "prompt_number": 8
    }, 
    {
     "cell_type": "markdown", 
     "source": "<h3>EXAMPLE 13.8 page no :  163"
    }, 
    {
     "cell_type": "code", 
     "collapsed": false, 
     "input": "'''\nInline function, square\n'''\ndef square(x):\n    return x * x;\nc = 2;\nd = square(c)\nprint d", 
     "language": "python", 
     "outputs": [
      {
       "output_type": "stream", 
       "stream": "stdout", 
       "text": "4"
      }
     ], 
     "prompt_number": 9
    }, 
    {
     "cell_type": "markdown", 
     "source": "<h3>EXAMPLE 13.9 page no : 163"
    }, 
    {
     "cell_type": "code", 
     "collapsed": false, 
     "input": "'''\nFunction-like macros are not type safe\nNote : this would give error.\n'''\ndef SQUARE(x):\n    return x*x\ni = SQUARE(\"hello\");\nprint i", 
     "language": "python", 
     "outputs": [
      {
       "ename": "TypeError", 
       "evalue": "can't multiply sequence by non-int of type 'str'", 
       "output_type": "pyerr", 
       "traceback": [
        "\u001b[0;31m---------------------------------------------------------------------------\u001b[0m\n\u001b[0;31mTypeError\u001b[0m                                 Traceback (most recent call last)", 
        "\u001b[0;32m/home/jay/<ipython-input-10-df398cb9cbc0>\u001b[0m in \u001b[0;36m<module>\u001b[0;34m()\u001b[0m\n\u001b[1;32m      6\u001b[0m \u001b[0;32mdef\u001b[0m \u001b[0mSQUARE\u001b[0m\u001b[0;34m(\u001b[0m\u001b[0mx\u001b[0m\u001b[0;34m)\u001b[0m\u001b[0;34m:\u001b[0m\u001b[0;34m\u001b[0m\u001b[0m\n\u001b[1;32m      7\u001b[0m     \u001b[0;32mreturn\u001b[0m \u001b[0mx\u001b[0m\u001b[0;34m*\u001b[0m\u001b[0mx\u001b[0m\u001b[0;34m\u001b[0m\u001b[0m\n\u001b[0;32m----> 8\u001b[0;31m \u001b[0mi\u001b[0m \u001b[0;34m=\u001b[0m \u001b[0mSQUARE\u001b[0m\u001b[0;34m(\u001b[0m\u001b[0;34m\"hello\"\u001b[0m\u001b[0;34m)\u001b[0m\u001b[0;34m;\u001b[0m\u001b[0;34m\u001b[0m\u001b[0m\n\u001b[0m\u001b[1;32m      9\u001b[0m \u001b[0;32mprint\u001b[0m \u001b[0mi\u001b[0m\u001b[0;34m\u001b[0m\u001b[0m\n", 
        "\u001b[0;32m/home/jay/<ipython-input-10-df398cb9cbc0>\u001b[0m in \u001b[0;36mSQUARE\u001b[0;34m(x)\u001b[0m\n\u001b[1;32m      5\u001b[0m '''\n\u001b[1;32m      6\u001b[0m \u001b[0;32mdef\u001b[0m \u001b[0mSQUARE\u001b[0m\u001b[0;34m(\u001b[0m\u001b[0mx\u001b[0m\u001b[0;34m)\u001b[0m\u001b[0;34m:\u001b[0m\u001b[0;34m\u001b[0m\u001b[0m\n\u001b[0;32m----> 7\u001b[0;31m     \u001b[0;32mreturn\u001b[0m \u001b[0mx\u001b[0m\u001b[0;34m*\u001b[0m\u001b[0mx\u001b[0m\u001b[0;34m\u001b[0m\u001b[0m\n\u001b[0m\u001b[1;32m      8\u001b[0m \u001b[0mi\u001b[0m \u001b[0;34m=\u001b[0m \u001b[0mSQUARE\u001b[0m\u001b[0;34m(\u001b[0m\u001b[0;34m\"hello\"\u001b[0m\u001b[0;34m)\u001b[0m\u001b[0;34m;\u001b[0m\u001b[0;34m\u001b[0m\u001b[0m\n\u001b[1;32m      9\u001b[0m \u001b[0;32mprint\u001b[0m \u001b[0mi\u001b[0m\u001b[0;34m\u001b[0m\u001b[0m\n", 
        "\u001b[0;31mTypeError\u001b[0m: can't multiply sequence by non-int of type 'str'"
       ]
      }
     ], 
     "prompt_number": 10
    }, 
    {
     "cell_type": "markdown", 
     "source": "<h3>EXAMPLE 13.10 page no : 163"
    }, 
    {
     "cell_type": "code", 
     "collapsed": false, 
     "input": "'''\nHow to define synonyms for a type\nNote : Python doesnot have synonyms for type as we do not have to explicitely \ndeclare variables.\n'''\n#define Velocity int\n#typedef int Velocity;\n# Not recommended", 
     "language": "python", 
     "outputs": [
      {
       "output_type": "pyout", 
       "prompt_number": 11, 
       "text": "'\\nEXAMPLE 13.10 page no : 163\\nHow to define synonyms for a type\\nNote : Python doesnot have synonyms for type as we do not have to explicitely \\ndeclare variables.\\n'"
      }
     ], 
     "prompt_number": 11
    }, 
    {
     "cell_type": "markdown", 
     "source": "<h3>EXAMPLE 13.11 page no : 164"
    }, 
    {
     "cell_type": "code", 
     "collapsed": true, 
     "input": "'''\nPassing array to function\n'''\n\n# Fruit is a base class\ndef printFruits(fruits,size):\n    # Not recommended to pass arrays to functions\n    for i in range(size):\n        print fruits[i] ", 
     "language": "python", 
     "outputs": [], 
     "prompt_number": 12
    }, 
    {
     "cell_type": "code", 
     "collapsed": true, 
     "input": "", 
     "language": "python", 
     "outputs": []
    }
   ]
  }
 ]
}