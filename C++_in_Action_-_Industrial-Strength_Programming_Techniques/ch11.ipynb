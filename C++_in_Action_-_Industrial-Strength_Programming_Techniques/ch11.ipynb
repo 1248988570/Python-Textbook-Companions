{
 "metadata": {
  "name": "",
  "signature": "sha256:8fd9f65c8a3cbb619fe291dbff540345e03b3be12cb5c6908ed137d152dc018d"
 },
 "nbformat": 3,
 "nbformat_minor": 0,
 "worksheets": [
  {
   "cells": [
    {
     "cell_type": "markdown",
     "metadata": {},
     "source": [
      "<h1>Chapter Eleven : Assertions"
     ]
    },
    {
     "cell_type": "markdown",
     "metadata": {},
     "source": [
      "<h3>EXAMPLE 11.1 page no : 130"
     ]
    },
    {
     "cell_type": "code",
     "collapsed": true,
     "input": [
      "\n",
      "\n",
      "def check(answer):\n",
      "    assert answer ==42"
     ],
     "language": "python",
     "metadata": {},
     "outputs": [],
     "prompt_number": 1
    },
    {
     "cell_type": "markdown",
     "metadata": {},
     "source": [
      "<h3>EXAMPLE 11.2 page no : 131"
     ]
    },
    {
     "cell_type": "code",
     "collapsed": true,
     "input": [
      "\n",
      "# Checked version\n",
      "class EmcString:\n",
      "    def at(self,index):\n",
      "        if (index >= self.lengthM):\n",
      "            raise Exception;\n",
      "        return self.cpM[index];\n",
      "\n",
      "    # Unchecked version\n",
      "    def operator(self,index):\n",
      "        assert(index < self.lengthM)\n",
      "        return self.cpM[index];"
     ],
     "language": "python",
     "metadata": {},
     "outputs": [],
     "prompt_number": 2
    },
    {
     "cell_type": "code",
     "collapsed": true,
     "input": [],
     "language": "python",
     "metadata": {},
     "outputs": []
    }
   ],
   "metadata": {}
  }
 ]
}