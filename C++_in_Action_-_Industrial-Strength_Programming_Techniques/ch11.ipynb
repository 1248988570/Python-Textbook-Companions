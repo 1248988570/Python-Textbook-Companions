{
 "metadata": {
  "name": "ch11"
 }, 
 "name": "ch11", 
 "nbformat": 2, 
 "worksheets": [
  {
   "cells": [
    {
     "cell_type": "markdown", 
     "source": "<h1>Chapter Eleven : Assertions"
    }, 
    {
     "cell_type": "markdown", 
     "source": "<h3>EXAMPLE 11.1 page no : 130"
    }, 
    {
     "cell_type": "code", 
     "collapsed": true, 
     "input": "'''\nStandard assert macro\n'''\n\ndef check(answer):\n    assert answer ==42", 
     "language": "python", 
     "outputs": [], 
     "prompt_number": 1
    }, 
    {
     "cell_type": "markdown", 
     "source": "<h3>EXAMPLE 11.2 page no : 131"
    }, 
    {
     "cell_type": "code", 
     "collapsed": true, 
     "input": "'''\nAssertions and exceptions\n'''\n# Checked version\nclass EmcString:\n    def at(self,index):\n        if (index >= self.lengthM):\n            raise Exception;\n        return self.cpM[index];\n\n    # Unchecked version\n    def operator(self,index):\n        assert(index < self.lengthM)\n        return self.cpM[index];", 
     "language": "python", 
     "outputs": [], 
     "prompt_number": 2
    }, 
    {
     "cell_type": "code", 
     "collapsed": true, 
     "input": "", 
     "language": "python", 
     "outputs": []
    }
   ]
  }
 ]
}