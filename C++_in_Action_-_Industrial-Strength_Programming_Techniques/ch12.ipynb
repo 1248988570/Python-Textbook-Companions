{
 "metadata": {
  "name": "ch12"
 }, 
 "name": "ch12", 
 "nbformat": 2, 
 "worksheets": [
  {
   "cells": [
    {
     "cell_type": "markdown", 
     "source": "<h1>Chapter  Twelve : Error handling"
    }, 
    {
     "cell_type": "markdown", 
     "source": "<h3>EXAMPLE 12.1 page no : 135"
    }, 
    {
     "cell_type": "code", 
     "collapsed": false, 
     "input": "'''\nChecking status value\nNote : we dont have socket function so would give error.\n'''\n'''\nThe socket() function is a UNIX library function that creates a communication\nchannel between two processes. If the call succeeds, it returns a socket file descriptor\nthat is >= 0, otherwise -1 is returned.\n// create socket\n'''\nsocketfd = socket(AF_UNIX, SOCK_STREAM, 0);\nif(socketfd < 0):\n    pass", 
     "language": "python", 
     "outputs": [
      {
       "ename": "NameError", 
       "evalue": "name 'socket' is not defined", 
       "output_type": "pyerr", 
       "traceback": [
        "\u001b[0;31m---------------------------------------------------------------------------\u001b[0m\n\u001b[0;31mNameError\u001b[0m                                 Traceback (most recent call last)", 
        "\u001b[0;32m/home/jay/<ipython-input-1-7161141a3c7c>\u001b[0m in \u001b[0;36m<module>\u001b[0;34m()\u001b[0m\n\u001b[1;32m     10\u001b[0m \u001b[0;34m//\u001b[0m \u001b[0mcreate\u001b[0m \u001b[0msocket\u001b[0m\u001b[0;34m\u001b[0m\u001b[0m\n\u001b[1;32m     11\u001b[0m '''\n\u001b[0;32m---> 12\u001b[0;31m \u001b[0msocketfd\u001b[0m \u001b[0;34m=\u001b[0m \u001b[0msocket\u001b[0m\u001b[0;34m(\u001b[0m\u001b[0mAF_UNIX\u001b[0m\u001b[0;34m,\u001b[0m \u001b[0mSOCK_STREAM\u001b[0m\u001b[0;34m,\u001b[0m \u001b[0;36m0\u001b[0m\u001b[0;34m)\u001b[0m\u001b[0;34m;\u001b[0m\u001b[0;34m\u001b[0m\u001b[0m\n\u001b[0m\u001b[1;32m     13\u001b[0m \u001b[0;32mif\u001b[0m\u001b[0;34m(\u001b[0m\u001b[0msocketfd\u001b[0m \u001b[0;34m<\u001b[0m \u001b[0;36m0\u001b[0m\u001b[0;34m)\u001b[0m\u001b[0;34m:\u001b[0m\u001b[0;34m\u001b[0m\u001b[0m\n\u001b[1;32m     14\u001b[0m     \u001b[0;32mpass\u001b[0m\u001b[0;34m\u001b[0m\u001b[0m\n", 
        "\u001b[0;31mNameError\u001b[0m: name 'socket' is not defined"
       ]
      }
     ], 
     "prompt_number": 1
    }, 
    {
     "cell_type": "markdown", 
     "source": "<h3>EXAMPLE 12.2 page no : 136"
    }, 
    {
     "cell_type": "code", 
     "collapsed": true, 
     "input": "'''\nThrowing an exception\nOne way to encapsulate the UNIX system calls is to provide a wrapper function that\nthrows an exception instead of returning a status value.\n'''\nclass EmcException:\n    def operator(self,n):\n        pass\n\nclass EmcSystemException( EmcException):\n    def __init__(self,m):\n        pass\n    \n    def emcSocket(self,family,t,protocol):\n        # create socket\n        socketfd = socket(family, t, protocol);\n        if (socketfd < 0): # check status value\n            raise EmcSystemException(\"emcSocket\");\n        return socketfd;", 
     "language": "python", 
     "outputs": [], 
     "prompt_number": 2
    }, 
    {
     "cell_type": "markdown", 
     "source": "<h3>EXAMPLE 12.3 page no :  139"
    }, 
    {
     "cell_type": "code", 
     "collapsed": true, 
     "input": "'''\nMember function with precondition\nnote : only constructor is given.\n'''\n\ndef __init__(self,cp):\n    self.lengthM = len(cp)\n    self.cpM = cp", 
     "language": "python", 
     "outputs": [], 
     "prompt_number": 13
    }, 
    {
     "cell_type": "markdown", 
     "source": "<h3>EXAMPLE 12.5 page no : 141"
    }, 
    {
     "cell_type": "code", 
     "collapsed": true, 
     "input": "'''\nPreventing exceptions inside destructors\nNote : uncaught_exception() is not defined here so it would give error.\n'''\nclass EmcLog:\n    def __init__(self,filename):\n        pass\n\n    def message(self,EmcString):\n        pass\n\n    def __del__(self):\n        if uncaught_exception():\n            self.flush()\n            \n    def flush(self):\n        if ( not uncaught_exception()):\n            raise EmcSystemException(\"EmcLog::flush()\")", 
     "language": "python", 
     "outputs": [], 
     "prompt_number": 4
    }, 
    {
     "cell_type": "markdown", 
     "source": "<h3>EXAMPLE 12.6 page no : 142"
    }, 
    {
     "cell_type": "code", 
     "collapsed": true, 
     "input": "'''\nException class constructor\n'''\nclass EmcException:\n    def __init__(self,m):\n        maxSizeM = 100\n        actualLength = len(m);\n        self.lengthM = min(maxSizeM,actualLength);\n        self.messageM = message", 
     "language": "python", 
     "outputs": [], 
     "prompt_number": 5
    }, 
    {
     "cell_type": "markdown", 
     "source": "<h3>EXAMPLE 12.7"
    }, 
    {
     "cell_type": "code", 
     "collapsed": true, 
     "input": "'''\nUnsafe memory allocation\nNote : Python does memory allocation by it self. no need to allocate explicitely.\n'''\n\ndef f():\n    ip = 1\n    g(ip)\n\n# Not recommended\n# create int with new\ndef g(i):\n    raise Exception(i)", 
     "language": "python", 
     "outputs": [], 
     "prompt_number": 6
    }, 
    {
     "cell_type": "markdown", 
     "source": "<h3>EXAMPLE 12.8 page no :  146"
    }, 
    {
     "cell_type": "code", 
     "collapsed": true, 
     "input": "'''\nHaving a try-block to manage memory\n\nIt is possible to rewrite our previous example so that the memory leak is avoided with-\nout introducing any new classes. The function should have a try-block with a handler\nthat catches all possible exceptions.\n'''\n\ndef f():\n    ip = 1\n    g(ip)\n\n# Not recommended\n# create int with new\ndef g(i):\n    raise Exception(i)", 
     "language": "python", 
     "outputs": [], 
     "prompt_number": 7
    }, 
    {
     "cell_type": "markdown", 
     "source": "<h3>EXAMPLE 12.9 page no :146"
    }, 
    {
     "cell_type": "code", 
     "collapsed": true, 
     "input": "'''\nException safe allocation of free store objects\n\n'''\ndef f():\n    ip = 1\n    g(ip)", 
     "language": "python", 
     "outputs": [], 
     "prompt_number": 8
    }, 
    {
     "cell_type": "markdown", 
     "source": "<h3>EXAMPLE 12.10 page no : 148"
    }, 
    {
     "cell_type": "code", 
     "collapsed": true, 
     "input": "'''\nException safe copy assignment operator\nThe template EmcStack uses a built-in array, vectorM, to store copies of objects.\nThe pointer topM stores an index to the next element in the array to assign. The data\nmember allocatedM stores the number of currently allocated objects, and is always\na positive number.\n'''\n\nclass EmcStack:\n    defaultSizeM = 100\n    def __init__(self,size = 100):\n        pass\n\n    def __del__(self):\n        pass\n\n    def operator(self,s):\n        pass\n\n    def empty(self):\n        pass\n        \n    def top(self):\n        pass\n\n    def push(self,i):\n        pass\n    \n    def pop(self):\n        pass", 
     "language": "python", 
     "outputs": [], 
     "prompt_number": 9
    }, 
    {
     "cell_type": "markdown", 
     "source": "<h3>EXAMPLE 12.12 page no :  151"
    }, 
    {
     "cell_type": "code", 
     "collapsed": true, 
     "input": "'''\nInheritance of exception classes\nIt is good to have a general exception class at the top that allows you to print a descrip-\ntion of the error. Most users are satisfied with knowing what went wrong and would\nonly have one handler for a whole hierarchy of exception classes.\nIn our examples we have used the class EmcException, that stores strings that\ndescribe the error condition.\n'''\nclass EmcException:\n    def __init__(self,m):\n        pass\n        # EmcException objects can be printed\n\n    def operator(self,o,EmcException):\n        pass\n\n    def printOn(self,o):   \n        print self.messageM;", 
     "language": "python", 
     "outputs": [], 
     "prompt_number": 10
    }, 
    {
     "cell_type": "markdown", 
     "source": "<h3>EXAMPLE 12.13 page no : 153"
    }, 
    {
     "cell_type": "code", 
     "collapsed": false, 
     "input": "'''\nHandling many exceptions with one handler\nA handler for EmcException can be used to handle an EmcSystemException,\nsince the latter class inherits from EmcException.\nNote : emcSocket() is not defined here. so would give error.\n'''\ntry:\n    socketfd = emcSocket(AF_UNIX, SOCK_STREAM, 0);\nexcept Exception,e:\n    print e", 
     "language": "python", 
     "outputs": [
      {
       "output_type": "stream", 
       "stream": "stdout", 
       "text": "name 'emcSocket' is not defined"
      }
     ], 
     "prompt_number": 11
    }, 
    {
     "cell_type": "markdown", 
     "source": "<h3>EXAMPLE 12.14 page no :  155"
    }, 
    {
     "cell_type": "code", 
     "collapsed": true, 
     "input": "'''\nException specification\n'''\n\ndef at(s,pos):\n    if (pos > len(s)):\n        raise Exception;", 
     "language": "python", 
     "outputs": [], 
     "prompt_number": 12
    }, 
    {
     "cell_type": "code", 
     "collapsed": true, 
     "input": "", 
     "language": "python", 
     "outputs": []
    }
   ]
  }
 ]
}