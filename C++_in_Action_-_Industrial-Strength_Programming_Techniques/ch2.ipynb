{
 "metadata": {
  "name": "ch2"
 },
 "nbformat": 3,
 "nbformat_minor": 0,
 "worksheets": [
  {
   "cells": [
    {
     "cell_type": "heading",
     "level": 1,
     "metadata": {},
     "source": "Chapter : Two :  Organizing the code"
    },
    {
     "cell_type": "heading",
     "level": 3,
     "metadata": {},
     "source": "EXAMPLE 2.1 Page no : 12\n"
    },
    {
     "cell_type": "code",
     "collapsed": false,
     "input": "'''\nTesting for self-containment\nNote : would give error because we dont have EmcArray and iostream packages.\n'''\nimport EmcArray # EmcArray.py\nimport iostream # The rest of the EmcArray.cc file ",
     "language": "python",
     "metadata": {},
     "outputs": [
      {
       "ename": "ImportError",
       "evalue": "No module named EmcArray",
       "output_type": "pyerr",
       "traceback": [
        "\u001b[1;31m---------------------------------------------------------------------------\u001b[0m\n\u001b[1;31mImportError\u001b[0m                               Traceback (most recent call last)",
        "\u001b[1;32m<ipython-input-1-b23807a66872>\u001b[0m in \u001b[0;36m<module>\u001b[1;34m()\u001b[0m\n\u001b[0;32m      4\u001b[0m \u001b[0mNote\u001b[0m \u001b[1;33m:\u001b[0m \u001b[0mwould\u001b[0m \u001b[0mgive\u001b[0m \u001b[0merror\u001b[0m \u001b[0mbecause\u001b[0m \u001b[0mwe\u001b[0m \u001b[0mdont\u001b[0m \u001b[0mhave\u001b[0m \u001b[0mEmcArray\u001b[0m \u001b[1;32mand\u001b[0m \u001b[0miostream\u001b[0m \u001b[0mpackages\u001b[0m\u001b[1;33m.\u001b[0m\u001b[1;33m\u001b[0m\u001b[0m\n\u001b[0;32m      5\u001b[0m '''\n\u001b[1;32m----> 6\u001b[1;33m \u001b[1;32mimport\u001b[0m \u001b[0mEmcArray\u001b[0m \u001b[1;31m# EmcArray.py\u001b[0m\u001b[1;33m\u001b[0m\u001b[0m\n\u001b[0m\u001b[0;32m      7\u001b[0m \u001b[1;32mimport\u001b[0m \u001b[0miostream\u001b[0m \u001b[1;31m# The rest of the EmcArray.cc file\u001b[0m\u001b[1;33m\u001b[0m\u001b[0m\n",
        "\u001b[1;31mImportError\u001b[0m: No module named EmcArray"
       ]
      }
     ],
     "prompt_number": 1
    },
    {
     "cell_type": "heading",
     "level": 3,
     "metadata": {},
     "source": "EXAMPLE 2.2 page no : 13\n"
    },
    {
     "cell_type": "code",
     "collapsed": false,
     "input": "'''\nData member of class type\n'''\n\n#import A \n\nclass X :\n    def __init__(self):\n        pass    #self.aM = A()\n    \n    def returnA(self):\n        pass    #return self.aM\n        \n    def withAParameter(self,a):\n        pass    #self.aM = a",
     "language": "python",
     "metadata": {},
     "outputs": [],
     "prompt_number": 2
    },
    {
     "cell_type": "heading",
     "level": 3,
     "metadata": {},
     "source": "EXAMPLE 2.3 page no :14\n"
    },
    {
     "cell_type": "code",
     "collapsed": false,
     "input": "'''\nForward declaration\nNote : Python does not require forward declaration\n'''\n\nclass Y :\n    def __init__(self):\n        pass    #self.bM = B()\n    \n    def returnBPtr(self):\n        pass    #return self.aM\n        \n    def withAParameter(self,b):\n        pass    #self.bM = a\n",
     "language": "python",
     "metadata": {},
     "outputs": [],
     "prompt_number": 3
    },
    {
     "cell_type": "heading",
     "level": 3,
     "metadata": {},
     "source": "EXAMPLE 2.4 page no : 15\n"
    },
    {
     "cell_type": "code",
     "collapsed": false,
     "input": "'''\nInclude guard\n'''\ndef module_exists(module_name):\n    try:\n        __import__(module_name)\n    except ImportError:\n        return False\n    else:\n        return True",
     "language": "python",
     "metadata": {},
     "outputs": [],
     "prompt_number": 4
    },
    {
     "cell_type": "heading",
     "level": 3,
     "metadata": {},
     "source": "EXAMPLE 2.5 page no : 15\n"
    },
    {
     "cell_type": "code",
     "collapsed": false,
     "input": "'''\nDefining function\n'''\n\ndef cStr(cpM):\n    return cpM\n",
     "language": "python",
     "metadata": {},
     "outputs": [],
     "prompt_number": 5
    },
    {
     "cell_type": "heading",
     "level": 3,
     "metadata": {},
     "source": "EXAMPLE 2.6 page no : 17\n"
    },
    {
     "cell_type": "code",
     "collapsed": false,
     "input": "'''\nFunction template\n'''\n\ndef max_(x,y):\n    if x > y:\n        return x\n    return y\n\ndef function(i,j):\n    m = max_(i,j) # must instantiate max(int,int)\n    print m\n\nfunction(5,10)    \n    ",
     "language": "python",
     "metadata": {},
     "outputs": [
      {
       "output_type": "stream",
       "stream": "stdout",
       "text": "10\n"
      }
     ],
     "prompt_number": 6
    },
    {
     "cell_type": "heading",
     "level": 3,
     "metadata": {},
     "source": "EXAMPLE 2.7 page no : 17\n"
    },
    {
     "cell_type": "code",
     "collapsed": false,
     "input": "'''\nClass template\n'''\n\nclass EmcQueue:\n    def __init__(self):\n        pass\n     \n    def insert(self,t):\n        pass\n\nq = EmcQueue()\nq.insert(42);",
     "language": "python",
     "metadata": {},
     "outputs": [],
     "prompt_number": 7
    },
    {
     "cell_type": "heading",
     "level": 3,
     "metadata": {},
     "source": "EXAMPLE 2.8 page no : 18\n"
    },
    {
     "cell_type": "code",
     "collapsed": false,
     "input": "'''\ndefining class\n''' \n\nclass EmcQueue:\n    pass",
     "language": "python",
     "metadata": {},
     "outputs": [],
     "prompt_number": 8
    },
    {
     "cell_type": "code",
     "collapsed": false,
     "input": "",
     "language": "python",
     "metadata": {},
     "outputs": []
    }
   ],
   "metadata": {}
  }
 ]
}