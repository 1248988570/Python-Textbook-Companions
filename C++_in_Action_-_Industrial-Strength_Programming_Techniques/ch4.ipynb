{
 "metadata": {
  "name": "ch4"
 },
 "nbformat": 3,
 "nbformat_minor": 0,
 "worksheets": [
  {
   "cells": [
    {
     "cell_type": "heading",
     "level": 1,
     "metadata": {},
     "source": "Chapter Four : Control flow"
    },
    {
     "cell_type": "heading",
     "level": 3,
     "metadata": {},
     "source": "Example 4.1 page no : 27\n"
    },
    {
     "cell_type": "code",
     "collapsed": false,
     "input": "'''\nBlock after for-loop\n'''\n\nnumberOfObjects = 42;\na = []\nfor i in range(numberOfObjects):\n    # Recommended\n    print  i \n    a.append(i)",
     "language": "python",
     "metadata": {},
     "outputs": [
      {
       "output_type": "stream",
       "stream": "stdout",
       "text": "0\n1\n2\n3\n4\n5\n6\n7\n8\n9\n10\n11\n12\n13\n14\n15\n16\n17\n18\n19\n20\n21\n22\n23\n24\n25\n26\n27\n28\n29\n30\n31\n32\n33\n34\n35\n36\n37\n38\n39\n40\n41\n"
      }
     ],
     "prompt_number": 1
    },
    {
     "cell_type": "heading",
     "level": 3,
     "metadata": {},
     "source": "EXAMPLE 4.2 page no :27\n"
    },
    {
     "cell_type": "code",
     "collapsed": false,
     "input": "'''\nBlocks in if-statement\n'''\nnumberOfObjects = 42;\na = []\nfor i in range(numberOfObjects):\n    # Recommended\n    a.append(i)\n\nprint \"Enter value: \";\nvalue = int(raw_input())\n\nif value == 1 or value==2:\n    print \"1 or 2: \" , a[value] \nelse:\n    if (value > 2 and value < numberOfObjects):\n        print \"Not 1 or 2: \" , a[value] ",
     "language": "python",
     "metadata": {},
     "outputs": [
      {
       "output_type": "stream",
       "stream": "stdout",
       "text": "Enter value: \n"
      },
      {
       "name": "stdout",
       "output_type": "stream",
       "stream": "stdout",
       "text": "10\n"
      },
      {
       "output_type": "stream",
       "stream": "stdout",
       "text": "Not 1 or 2:  10\n"
      }
     ],
     "prompt_number": 2
    },
    {
     "cell_type": "heading",
     "level": 3,
     "metadata": {},
     "source": "EXAMPLE 4.3 page no : 28\n"
    },
    {
     "cell_type": "code",
     "collapsed": false,
     "input": "'''\nHow to write switch statements\n'''\n\nclass Status:\n    red = 1\n    green = 2\n\ndef convertStatus(status):\n    if status == Status.red:\n        return \"Red\"\n    elif status == Status.green:\n        return \"Green\"\n    else: \n        return \"Illegal value\"        \n\nprint convertStatus(1)        \nprint convertStatus(2)\nprint convertStatus(5)",
     "language": "python",
     "metadata": {},
     "outputs": [
      {
       "output_type": "stream",
       "stream": "stdout",
       "text": "Red\nGreen\nIllegal value\n"
      }
     ],
     "prompt_number": 3
    },
    {
     "cell_type": "heading",
     "level": 3,
     "metadata": {},
     "source": "EXAMPLE 4.4 page no : 29"
    },
    {
     "cell_type": "code",
     "collapsed": false,
     "input": "'''\nHow to break out of a loop\n'''\nm = 10;\nerrorflag = False;\n\nfor i in range(m):\n    if (True):\n        errorflag = True;\n        break; # leaves loop\n\n# no goto needed\nif(errorflag):\n    pass",
     "language": "python",
     "metadata": {},
     "outputs": [],
     "prompt_number": 4
    },
    {
     "cell_type": "code",
     "collapsed": false,
     "input": "",
     "language": "python",
     "metadata": {},
     "outputs": []
    }
   ],
   "metadata": {}
  }
 ]
}