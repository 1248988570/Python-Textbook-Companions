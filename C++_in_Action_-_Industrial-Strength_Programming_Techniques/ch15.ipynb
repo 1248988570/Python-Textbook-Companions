{
 "metadata": {
  "name": "ch15"
 }, 
 "name": "ch15", 
 "nbformat": 2, 
 "worksheets": [
  {
   "cells": [
    {
     "cell_type": "markdown", 
     "source": "<h1> Chapter Fifteen : Portability"
    }, 
    {
     "cell_type": "markdown", 
     "source": "<h3>EXAMPLE 15.1 page no : 172"
    }, 
    {
     "cell_type": "code", 
     "collapsed": true, 
     "input": "'''\nImplementation-defined behavior\n'''\nc = -100;\nif (c < 0):\n    pass", 
     "language": "python", 
     "outputs": [], 
     "prompt_number": 1
    }, 
    {
     "cell_type": "markdown", 
     "source": "<h3>EXAMPLE 15.2 page no : 173"
    }, 
    {
     "cell_type": "code", 
     "collapsed": false, 
     "input": "'''\nUnspecified behavior\n'''\n\nclass BasicAttrType:\n    counterGauge = 0x1000\n    counterPeg = 0x2000\n    conterAcc = 0x3000\n    \n\n\nt = BasicAttrType.counterGauge\nprint t", 
     "language": "python", 
     "outputs": [
      {
       "output_type": "stream", 
       "stream": "stdout", 
       "text": "4096"
      }
     ], 
     "prompt_number": 2
    }, 
    {
     "cell_type": "markdown", 
     "source": "<h3>EXAMPLE 15.3 page no : 173"
    }, 
    {
     "cell_type": "code", 
     "collapsed": false, 
     "input": "'''\nUndefined behavior\n'''\na = ''\nprint a", 
     "language": "python", 
     "outputs": [
      {
       "output_type": "stream", 
       "stream": "stdout", 
       "text": ""
      }
     ], 
     "prompt_number": 3
    }, 
    {
     "cell_type": "markdown", 
     "source": "<h3>example 15.5 page no : 174"
    }, 
    {
     "cell_type": "code", 
     "collapsed": false, 
     "input": "'''\nType of fixed size\n'''\n\nresult = 1234 * 567\nprint result", 
     "language": "python", 
     "outputs": [
      {
       "output_type": "stream", 
       "stream": "stdout", 
       "text": "699678"
      }
     ], 
     "prompt_number": 4
    }, 
    {
     "cell_type": "markdown", 
     "source": "<h3>Example 15.6 page no : 175"
    }, 
    {
     "cell_type": "code", 
     "collapsed": true, 
     "input": "'''\nGood and bad way of including files\n'''\nimport math # python has only one way to importing file.\nfrom math import *", 
     "language": "python", 
     "outputs": [], 
     "prompt_number": 5
    }, 
    {
     "cell_type": "markdown", 
     "source": "<h3>exmaple 15.7 page no : 176"
    }, 
    {
     "cell_type": "code", 
     "collapsed": false, 
     "input": "'''\nDirectory names in include directives\nNote : python has . operator to import a file from directory\n'''\n\n \n#   import inc.MyFile\n#   import inc.MyFile\n\n#   import gui.xinterface", 
     "language": "python", 
     "outputs": [
      {
       "output_type": "pyout", 
       "prompt_number": 6, 
       "text": "'\\nexmaple 15.7 page no : 176\\nDirectory names in include directives\\nNote : python has . operator to import a file from directory\\n'"
      }
     ], 
     "prompt_number": 6
    }, 
    {
     "cell_type": "markdown", 
     "source": "<h3>EXAMPLE 15.8 page no : 176"
    }, 
    {
     "cell_type": "code", 
     "collapsed": true, 
     "input": "'''\nCase-sensitivity of header file name\n'''\n\nimport math\n# import Math # does not work", 
     "language": "python", 
     "outputs": [], 
     "prompt_number": 7
    }, 
    {
     "cell_type": "markdown", 
     "source": "<h3>EXAMPLE 15.9 page no : 178"
    }, 
    {
     "cell_type": "code", 
     "collapsed": true, 
     "input": "'''\nOffset of data member\n'''\n\nclass PersonRecord:\n    ageM = ''\n    phoneNumberM = 0\n    nameM = ''", 
     "language": "python", 
     "outputs": [], 
     "prompt_number": 8
    }, 
    {
     "cell_type": "markdown", 
     "source": "<h3>EXAMPLE 15.10 page no :  178"
    }, 
    {
     "cell_type": "code", 
     "collapsed": false, 
     "input": "'''\nCast must obey alignment rules\n'''\ndef stepAndConvert(a,n):\n    b = a + str(n) # step n chars ahead\n    return b # NO: Dangerous cast of const char* to int*\n\n\ndata = \"abcdefghijklmnop\"\nanInt = 3;\ni = stepAndConvert(data, anInt)\nprint i", 
     "language": "python", 
     "outputs": [
      {
       "output_type": "stream", 
       "stream": "stdout", 
       "text": "abcdefghijklmnop3"
      }
     ], 
     "prompt_number": 9
    }, 
    {
     "cell_type": "markdown", 
     "source": "<h3>EXAMPLE 15.11 page  no :  179"
    }, 
    {
     "cell_type": "code", 
     "collapsed": true, 
     "input": "'''\nMixing signed and unsigned integers\nThe standard header limits.h defines a number of constants that describe the range\nof the built-in types, for example INT_MIN, INT_MAX, UINT_MIN and UINT_MAX. If\nyou work with very large numbers, be sure to check against these values.\n'''\nINT_MIN = -2147483648\nINT_MAX = 2147483647\nUINT_MAX = 4294967295\ni = 42\nui  = 2222222242;\nj = i - ui;\nprint j", 
     "language": "python", 
     "outputs": [
      {
       "output_type": "stream", 
       "stream": "stdout", 
       "text": "-2222222200"
      }
     ], 
     "prompt_number": 10
    }, 
    {
     "cell_type": "markdown", 
     "source": "<h3>EXAMPLE 15.12 page no : 180"
    }, 
    {
     "cell_type": "code", 
     "collapsed": false, 
     "input": "'''\nchars can be signed or unsigned\n'''\nzero = 0;\none = 1;\nminusOne = zero - one;\nprint minusOne\nresult = one + minusOne;\nprint result", 
     "language": "python", 
     "outputs": [
      {
       "output_type": "stream", 
       "stream": "stdout", 
       "text": "-1\n0"
      }
     ], 
     "prompt_number": 11
    }, 
    {
     "cell_type": "markdown", 
     "source": "<h3>EXAMPLE 15.13 page no :  180"
    }, 
    {
     "cell_type": "code", 
     "collapsed": false, 
     "input": "'''\nOS-specific typedef\nNote : It would shoot error because fork() is not defined here.\n'''\npid1 = fork(); # NO: should use pid_t\n\npid2 = fork();", 
     "language": "python", 
     "outputs": [
      {
       "ename": "NameError", 
       "evalue": "name 'fork' is not defined", 
       "output_type": "pyerr", 
       "traceback": [
        "\u001b[0;31m---------------------------------------------------------------------------\u001b[0m\n\u001b[0;31mNameError\u001b[0m                                 Traceback (most recent call last)", 
        "\u001b[0;32m/home/jay/<ipython-input-12-ef16c6a16507>\u001b[0m in \u001b[0;36m<module>\u001b[0;34m()\u001b[0m\n\u001b[1;32m      4\u001b[0m \u001b[0mNote\u001b[0m \u001b[0;34m:\u001b[0m \u001b[0mIt\u001b[0m \u001b[0mwould\u001b[0m \u001b[0mshoot\u001b[0m \u001b[0merror\u001b[0m \u001b[0mbecause\u001b[0m \u001b[0mfork\u001b[0m\u001b[0;34m(\u001b[0m\u001b[0;34m)\u001b[0m \u001b[0;32mis\u001b[0m \u001b[0;32mnot\u001b[0m \u001b[0mdefined\u001b[0m \u001b[0mhere\u001b[0m\u001b[0;34m.\u001b[0m\u001b[0;34m\u001b[0m\u001b[0m\n\u001b[1;32m      5\u001b[0m '''\n\u001b[0;32m----> 6\u001b[0;31m \u001b[0mpid1\u001b[0m \u001b[0;34m=\u001b[0m \u001b[0mfork\u001b[0m\u001b[0;34m(\u001b[0m\u001b[0;34m)\u001b[0m\u001b[0;34m;\u001b[0m \u001b[0;31m# NO: should use pid_t\u001b[0m\u001b[0;34m\u001b[0m\u001b[0m\n\u001b[0m\u001b[1;32m      7\u001b[0m \u001b[0;34m\u001b[0m\u001b[0m\n\u001b[1;32m      8\u001b[0m \u001b[0mpid2\u001b[0m \u001b[0;34m=\u001b[0m \u001b[0mfork\u001b[0m\u001b[0;34m(\u001b[0m\u001b[0;34m)\u001b[0m\u001b[0;34m;\u001b[0m\u001b[0;34m\u001b[0m\u001b[0m\n", 
        "\u001b[0;31mNameError\u001b[0m: name 'fork' is not defined"
       ]
      }
     ], 
     "prompt_number": 12
    }, 
    {
     "cell_type": "markdown", 
     "source": "<h3>EXAMPLE 15.14 page no : 181"
    }, 
    {
     "cell_type": "code", 
     "collapsed": false, 
     "input": "'''\nPrefixed name\n'''\nfamousClimber = \"Edmund Hillary\"; # Uses Emc as prefix\nprint famousClimber", 
     "language": "python", 
     "outputs": [
      {
       "output_type": "stream", 
       "stream": "stdout", 
       "text": "Edmund Hillary"
      }
     ], 
     "prompt_number": 13
    }, 
    {
     "cell_type": "markdown", 
     "source": "<h3>EXAMPLE 15.15 page no : 183"
    }, 
    {
     "cell_type": "code", 
     "collapsed": true, 
     "input": "'''\nUnsupported keyword as empty macro\n'''\n\nclass EmcArray:\n    def __init__(self,size):\n        pass", 
     "language": "python", 
     "outputs": [], 
     "prompt_number": 14
    }, 
    {
     "cell_type": "markdown", 
     "source": "<h3>EXAMPLE 15.16 page no :  183"
    }, 
    {
     "cell_type": "code", 
     "collapsed": true, 
     "input": "'''\nForward-compatibility macros\n'''\n\n\nfalse = 0;\ntrue = 1;", 
     "language": "python", 
     "outputs": [], 
     "prompt_number": 15
    }, 
    {
     "cell_type": "markdown", 
     "source": "<h3>EXAMPLE 15.17 page no : 184"
    }, 
    {
     "cell_type": "code", 
     "collapsed": false, 
     "input": "'''\nReusing a loop variable\nNote : It would shoot error as last() and first() are not defined function here.\n'''\ni = 0;\nfor i in range(last()):\n    pass\n\nfor i in range(first()):\n    pass", 
     "language": "python", 
     "outputs": [
      {
       "ename": "NameError", 
       "evalue": "name 'last' is not defined", 
       "output_type": "pyerr", 
       "traceback": [
        "\u001b[0;31m---------------------------------------------------------------------------\u001b[0m\n\u001b[0;31mNameError\u001b[0m                                 Traceback (most recent call last)", 
        "\u001b[0;32m/home/jay/<ipython-input-16-119935826b55>\u001b[0m in \u001b[0;36m<module>\u001b[0;34m()\u001b[0m\n\u001b[1;32m      5\u001b[0m '''\n\u001b[1;32m      6\u001b[0m \u001b[0mi\u001b[0m \u001b[0;34m=\u001b[0m \u001b[0;36m0\u001b[0m\u001b[0;34m;\u001b[0m\u001b[0;34m\u001b[0m\u001b[0m\n\u001b[0;32m----> 7\u001b[0;31m \u001b[0;32mfor\u001b[0m \u001b[0mi\u001b[0m \u001b[0;32min\u001b[0m \u001b[0mrange\u001b[0m\u001b[0;34m(\u001b[0m\u001b[0mlast\u001b[0m\u001b[0;34m(\u001b[0m\u001b[0;34m)\u001b[0m\u001b[0;34m)\u001b[0m\u001b[0;34m:\u001b[0m\u001b[0;34m\u001b[0m\u001b[0m\n\u001b[0m\u001b[1;32m      8\u001b[0m     \u001b[0;32mpass\u001b[0m\u001b[0;34m\u001b[0m\u001b[0m\n\u001b[1;32m      9\u001b[0m \u001b[0;34m\u001b[0m\u001b[0m\n", 
        "\u001b[0;31mNameError\u001b[0m: name 'last' is not defined"
       ]
      }
     ], 
     "prompt_number": 16
    }, 
    {
     "cell_type": "markdown", 
     "source": "<h3>EXAMPLE 15.18 page no : 185"
    }, 
    {
     "cell_type": "code", 
     "collapsed": true, 
     "input": "'''\nUsing a template\n'''\n\ndef emcMax(a,  b):\n    if a>b:\n        return a\n    return b\n\ndef foo(i,j):\n    m = emcMax(i, j); # usage of emcMax\n\nq = 0 # usage of class EmcQueue<int> and\ns = 0 # EmcQueue<int>:s default constructor", 
     "language": "python", 
     "outputs": [], 
     "prompt_number": 1
    }, 
    {
     "cell_type": "markdown", 
     "source": "<h3>EXAMPLE 15.19 page no : 186"
    }, 
    {
     "cell_type": "code", 
     "collapsed": true, 
     "input": "'''\nTemplate header file\nBy having a macro EXTERNAL_TEMPLATE_DEFINITION it is possible, at compile-\ntime, to control whether the implementation file is included by the header file or not.\n'''\nclass EmcQueue:\n    pass", 
     "language": "python", 
     "outputs": [], 
     "prompt_number": 2
    }, 
    {
     "cell_type": "markdown", 
     "source": "<h3>EXAMPLE 15.20 page no : 187"
    }, 
    {
     "cell_type": "code", 
     "collapsed": true, 
     "input": "'''\nTemporary objects\n'''\n\nclass DangerousString:\n    def __init__(self,cp):\n        pass\n\n    def char(self):\n        pass", 
     "language": "python", 
     "outputs": [], 
     "prompt_number": 3
    }, 
    {
     "cell_type": "markdown", 
     "source": "<h3>example 15.22 page no : 189"
    }, 
    {
     "cell_type": "code", 
     "collapsed": true, 
     "input": "'''\nHow to declare main()\n'''\ndef main(self):\n    return 0", 
     "language": "python", 
     "outputs": [], 
     "prompt_number": 4
    }, 
    {
     "cell_type": "markdown", 
     "source": "<h3>EXAMPLE 15.23"
    }, 
    {
     "cell_type": "code", 
     "collapsed": true, 
     "input": "'''\nEvaluation order of arguments\nNote : It will give error as f1(),f2(),f3() are not defined here.\n'''\n\nfunc(f1(), f2(), f3()) # f1 may be evaluated before f2 and f3,\n# but don't depend on it!", 
     "language": "python", 
     "outputs": []
    }, 
    {
     "cell_type": "markdown", 
     "source": "<h3>EXAMPLE 15.24 page no : 189"
    }, 
    {
     "cell_type": "code", 
     "collapsed": false, 
     "input": "'''\nEvaluation order of subexpressions\n'''\na = [0,0,0]\ni = 0\na[i] = i;\ni += 1\nprint i \n# NO: i may be incremented before or\n# after its value is used on", 
     "language": "python", 
     "outputs": [
      {
       "output_type": "stream", 
       "stream": "stdout", 
       "text": "1"
      }
     ], 
     "prompt_number": 6
    }, 
    {
     "cell_type": "code", 
     "collapsed": true, 
     "input": "", 
     "language": "python", 
     "outputs": []
    }
   ]
  }
 ]
}