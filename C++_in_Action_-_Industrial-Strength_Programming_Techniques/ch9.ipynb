{
 "metadata": {
  "name": "ch9"
 },
 "nbformat": 3,
 "nbformat_minor": 0,
 "worksheets": [
  {
   "cells": [
    {
     "cell_type": "heading",
     "level": 1,
     "metadata": {},
     "source": "Chapter Nine : Static Objects"
    },
    {
     "cell_type": "heading",
     "level": 3,
     "metadata": {},
     "source": "EXAMPLE 9.1 page no : 97\n"
    },
    {
     "cell_type": "code",
     "collapsed": false,
     "input": "'''\nFunction local static object\n'''\n\ndef randomValue(seed):\n    oldValue = seed; # calculate new value\n    return oldValue\n    \nprint randomValue(5)    ",
     "language": "python",
     "metadata": {},
     "outputs": [
      {
       "output_type": "stream",
       "stream": "stdout",
       "text": "5\n"
      }
     ],
     "prompt_number": 1
    },
    {
     "cell_type": "heading",
     "level": 3,
     "metadata": {},
     "source": "EXAMPLE 9.2 page no : 97\n"
    },
    {
     "cell_type": "code",
     "collapsed": false,
     "input": "'''\nStatic data member\n'''\n\nclass EmcSingleton:\n    def instance():\n        pass\n    \n    def create(i = 0):\n        self.instanceM = EmcSingleton(i)\n\n    def __init__(self,i):\n        pass\n\n",
     "language": "python",
     "metadata": {},
     "outputs": [],
     "prompt_number": 6
    },
    {
     "cell_type": "heading",
     "level": 3,
     "metadata": {},
     "source": "EXAMPLE 9.3 page no : 98\n"
    },
    {
     "cell_type": "code",
     "collapsed": false,
     "input": "'''\nUnnamed namespace\nNote : python doesnt have namespace.\n'''\nsccsid = \"@(#)myfile.cc\"\nprint sccsid",
     "language": "python",
     "metadata": {},
     "outputs": [
      {
       "output_type": "stream",
       "stream": "stdout",
       "text": "@(#)myfile.cc\n"
      }
     ],
     "prompt_number": 7
    },
    {
     "cell_type": "heading",
     "level": 3,
     "metadata": {},
     "source": "EXAMPLE 9.4 page no :  98\n"
    },
    {
     "cell_type": "code",
     "collapsed": false,
     "input": "'''\nStatic objects in file scope\n'''\nsccsid = \"@(#)myfile.cc\"\nprint sccsid",
     "language": "python",
     "metadata": {},
     "outputs": [
      {
       "output_type": "stream",
       "stream": "stdout",
       "text": "@(#)myfile.cc\n"
      }
     ],
     "prompt_number": 8
    },
    {
     "cell_type": "heading",
     "level": 3,
     "metadata": {},
     "source": "EXAMPLE 9.5 page no :  98\n"
    },
    {
     "cell_type": "code",
     "collapsed": false,
     "input": "'''\nAccess to static object inside constructor\nSuppose a constructor writes a message to cout. If the iostream library would not\nhave provided a method for safe initialization of cout, such constructors would be\ndangerous to use for static objects.\n'''\n\nclass EmcLog:\n    def __init__(self,out=None):\n        print \"Creating log\"\n\nt = EmcLog()",
     "language": "python",
     "metadata": {},
     "outputs": [
      {
       "output_type": "stream",
       "stream": "stdout",
       "text": "Creating log\n"
      }
     ],
     "prompt_number": 10
    },
    {
     "cell_type": "heading",
     "level": 3,
     "metadata": {},
     "source": "EXAMPLE 9.6 page no : 100\n"
    },
    {
     "cell_type": "code",
     "collapsed": false,
     "input": "'''\nInitialization order of static objects\n'''\n\nsccsid = \"@(#)myfile.cc\"\nrelease = \"@(#)Emc Class Library, 1.2\"\nprint sccsid, release",
     "language": "python",
     "metadata": {},
     "outputs": [
      {
       "output_type": "stream",
       "stream": "stdout",
       "text": "@(#)myfile.cc @(#)Emc Class Library, 1.2\n"
      }
     ],
     "prompt_number": 11
    },
    {
     "cell_type": "heading",
     "level": 3,
     "metadata": {},
     "source": "EXAMPLE 9.7 page no :  100\n"
    },
    {
     "cell_type": "code",
     "collapsed": false,
     "input": "'''\nInitialization object\nSuppose you have a class EmcObject that requires initialization. The class provides a\nnested class Initor for that purpose. The implementation of Initor uses two mem-\nber functions provided by EmcObject, initialize and finalize, that do the\nactual initialization and finalization of the class. An initialization object should be cre-\nated before operating upon EmcObject objects.\n\nNote : Python does not have static stuff.\n'''\n\nclass EmcObject:\n    def __init__(self):\n        pass\n    \n    def __del__(self):\n        pass\n        \n    def initialize(self):\n        pass\n        \n    def finalize(self):\n        pass",
     "language": "python",
     "metadata": {},
     "outputs": [],
     "prompt_number": 12
    },
    {
     "cell_type": "code",
     "collapsed": false,
     "input": "",
     "language": "python",
     "metadata": {},
     "outputs": []
    }
   ],
   "metadata": {}
  }
 ]
}