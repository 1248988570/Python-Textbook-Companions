{
 "metadata": {
  "name": "ch10"
 }, 
 "name": "ch10", 
 "nbformat": 2, 
 "worksheets": [
  {
   "cells": [
    {
     "cell_type": "markdown", 
     "source": "<h1> Chapter Ten : Object-oriented programming </h1>"
    }, 
    {
     "cell_type": "markdown", 
     "source": "<h3>Example 10.1 page no :105"
    }, 
    {
     "cell_type": "code", 
     "collapsed": false, 
     "input": "'''\nReturning non-const reference to object\n'''\n\ns = \"hello\"  # length() == 5\nprint s\nprint len(s)", 
     "language": "python", 
     "outputs": [
      {
       "output_type": "stream", 
       "stream": "stdout", 
       "text": "hello\n5"
      }
     ], 
     "prompt_number": 1
    }, 
    {
     "cell_type": "markdown", 
     "source": "<h3>EXAMPLE 10.2 page no : 106"
    }, 
    {
     "cell_type": "code", 
     "collapsed": false, 
     "input": "'''\nAssigning to string element\n'''\ns = \"Hello\"\n#s[0] = 'h'\ns = s.lower()\nprint s", 
     "language": "python", 
     "outputs": [
      {
       "output_type": "stream", 
       "stream": "stdout", 
       "text": "hello"
      }
     ], 
     "prompt_number": 2
    }, 
    {
     "cell_type": "markdown", 
     "source": "<h3> example 10.3 page no :107"
    }, 
    {
     "cell_type": "code", 
     "collapsed": false, 
     "input": "'''\nfactory class\n\nNote : Python does not have virtual function concept.\n\n'''\n\nclass EmcCollection:\n    # insert one element\n    def insert(self,t):\n        pass\n    \n    def operator(self, coll):\n        pass\n\nclass EmcArrayCollection(EmcCollection):\n    initialSize = 10\n\n    def __init__(self,maxsize):\n        pass\n\n\nclass InvalidCollectionType(EmcException):\n    \n    def __init__(self,i):\n        pass\n\nclass EmcCollectionFactory:\n    def __init__(self):\n        pass\n\n    def create(self,type):\n        pass\n\n    def createArray(self):\n        pass", 
     "language": "python", 
     "outputs": [
      {
       "ename": "NameError", 
       "evalue": "name 'EmcException' is not defined", 
       "output_type": "pyerr", 
       "traceback": [
        "\u001b[0;31m---------------------------------------------------------------------------\u001b[0m\n\u001b[0;31mNameError\u001b[0m                                 Traceback (most recent call last)", 
        "\u001b[0;32m/home/jay/<ipython-input-3-5d8a499d2644>\u001b[0m in \u001b[0;36m<module>\u001b[0;34m()\u001b[0m\n\u001b[1;32m     22\u001b[0m \u001b[0;34m\u001b[0m\u001b[0m\n\u001b[1;32m     23\u001b[0m \u001b[0;34m\u001b[0m\u001b[0m\n\u001b[0;32m---> 24\u001b[0;31m \u001b[0;32mclass\u001b[0m \u001b[0mInvalidCollectionType\u001b[0m\u001b[0;34m(\u001b[0m\u001b[0mEmcException\u001b[0m\u001b[0;34m)\u001b[0m\u001b[0;34m:\u001b[0m\u001b[0;34m\u001b[0m\u001b[0m\n\u001b[0m\u001b[1;32m     25\u001b[0m \u001b[0;34m\u001b[0m\u001b[0m\n\u001b[1;32m     26\u001b[0m     \u001b[0;32mdef\u001b[0m \u001b[0m__init__\u001b[0m\u001b[0;34m(\u001b[0m\u001b[0mself\u001b[0m\u001b[0;34m,\u001b[0m\u001b[0mi\u001b[0m\u001b[0;34m)\u001b[0m\u001b[0;34m:\u001b[0m\u001b[0;34m\u001b[0m\u001b[0m\n", 
        "\u001b[0;31mNameError\u001b[0m: name 'EmcException' is not defined"
       ]
      }
     ], 
     "prompt_number": 3
    }, 
    {
     "cell_type": "markdown", 
     "source": "<h3>example 10.4 page no :109"
    }, 
    {
     "cell_type": "code", 
     "collapsed": false, 
     "input": "'''\ndynamic binding\nNote : This program will give you error as there is no any class declared in this program.\n'''\n\nfactory = EmcCollectionFactory()\ncollection = factory.create(ArrayId)\ncollection.insert(42); # EmcArrayCollection<int>::insert() is called\nprint collection", 
     "language": "python", 
     "outputs": [
      {
       "ename": "NameError", 
       "evalue": "name 'EmcCollectionFactory' is not defined", 
       "output_type": "pyerr", 
       "traceback": [
        "\u001b[0;31m---------------------------------------------------------------------------\u001b[0m\n\u001b[0;31mNameError\u001b[0m                                 Traceback (most recent call last)", 
        "\u001b[0;32m/home/jay/<ipython-input-4-9ee6096719fb>\u001b[0m in \u001b[0;36m<module>\u001b[0;34m()\u001b[0m\n\u001b[1;32m      5\u001b[0m '''\n\u001b[1;32m      6\u001b[0m \u001b[0;34m\u001b[0m\u001b[0m\n\u001b[0;32m----> 7\u001b[0;31m \u001b[0mfactory\u001b[0m \u001b[0;34m=\u001b[0m \u001b[0mEmcCollectionFactory\u001b[0m\u001b[0;34m(\u001b[0m\u001b[0;34m)\u001b[0m\u001b[0;34m\u001b[0m\u001b[0m\n\u001b[0m\u001b[1;32m      8\u001b[0m \u001b[0mcollection\u001b[0m \u001b[0;34m=\u001b[0m \u001b[0mfactory\u001b[0m\u001b[0;34m.\u001b[0m\u001b[0mcreate\u001b[0m\u001b[0;34m(\u001b[0m\u001b[0mArrayId\u001b[0m\u001b[0;34m)\u001b[0m\u001b[0;34m\u001b[0m\u001b[0m\n\u001b[1;32m      9\u001b[0m \u001b[0mcollection\u001b[0m\u001b[0;34m.\u001b[0m\u001b[0minsert\u001b[0m\u001b[0;34m(\u001b[0m\u001b[0;36m42\u001b[0m\u001b[0;34m)\u001b[0m\u001b[0;34m;\u001b[0m \u001b[0;31m# EmcArrayCollection<int>::insert() is called\u001b[0m\u001b[0;34m\u001b[0m\u001b[0m\n", 
        "\u001b[0;31mNameError\u001b[0m: name 'EmcCollectionFactory' is not defined"
       ]
      }
     ], 
     "prompt_number": 4
    }, 
    {
     "cell_type": "markdown", 
     "source": "<h3>example 10.5 page no : 111"
    }, 
    {
     "cell_type": "code", 
     "collapsed": true, 
     "input": "'''\ndeleting object\n'''\nclass EmcCollection:\n    def __del__(self):\n        pass\n\nclass EmcArrayCollection( EmcCollection):\n    def __del__(self):\n        pass", 
     "language": "python", 
     "outputs": [], 
     "prompt_number": 5
    }, 
    {
     "cell_type": "markdown", 
     "source": "<h3>example 10.6 page no :112"
    }, 
    {
     "cell_type": "code", 
     "collapsed": true, 
     "input": "'''\nvirtual base class\n'''\nclass EmcLogged:\n    def writeClassName(self,o):\n        pass\n\n    def writeValue(self,o):\n        pass\n\n    def logMessage(self,message):\n        pass\n\n    def __del__(self):\n        pass\n\nclass EmcLoggedCollection(EmcCollection):\n\n    def writeValue(self,o):\n        pass\n\n    def __del__(self):\n        pass        ", 
     "language": "python", 
     "outputs": [], 
     "prompt_number": 6
    }, 
    {
     "cell_type": "markdown", 
     "source": "<h3>EXAMPLE 10.7 Page no :  117"
    }, 
    {
     "cell_type": "code", 
     "collapsed": true, 
     "input": "'''\nPre- and postconditions\n'''\n\n\nclass EmcIntStack:\n    def empty(self):\n        pass\n\n    def full(self):\n        pass\n        \n    def top(self):\n        pass\n        \n    def push(self,i):\n        pass\n    \n    def pop(self):\n        pass", 
     "language": "python", 
     "outputs": [], 
     "prompt_number": 7
    }, 
    {
     "cell_type": "markdown", 
     "source": "<h3>EXAMPLE 10.8 Page no : 117"
    }, 
    {
     "cell_type": "code", 
     "collapsed": true, 
     "input": "'''\nUsing member function with precondition\n'''\n\ndef makeString(stack):\n    returnValue = ''\n    copy = stack\n    while (not copy.empty()):\n        # loop condition makes precondition valid\n        print copy.pop() # Precondition: ! copy.empty()\n        returnValue += copy.pop\n\n    return returnValue;", 
     "language": "python", 
     "outputs": [], 
     "prompt_number": 8
    }, 
    {
     "cell_type": "markdown", 
     "source": "<h3>EXAMPLE 10.9 page no : 118"
    }, 
    {
     "cell_type": "code", 
     "collapsed": true, 
     "input": "'''\nClass with invariant\n'''\n\nclass EmcString:\n    def cStr(self):\n        pass\n        # cStr() returns 0-terminated string\n\n    def length(self):\n        pass", 
     "language": "python", 
     "outputs": [], 
     "prompt_number": 9
    }, 
    {
     "cell_type": "markdown", 
     "source": "<h3>EXAMPLE 10.10 page no : 119"
    }, 
    {
     "cell_type": "code", 
     "collapsed": true, 
     "input": "'''\nUsing comments to specify class template\n'''\n\nclass EmcCollection:\n    def __del__(self):\n        pass\n\n    def insert(self,T):\n        pass\n\n    def clear(self):\n        pass\n\n    def remove(self):\n        pass", 
     "language": "python", 
     "outputs": [], 
     "prompt_number": 10
    }, 
    {
     "cell_type": "markdown", 
     "source": "<h3>EXAMPLE 10.11 page no : 120"
    }, 
    {
     "cell_type": "code", 
     "collapsed": false, 
     "input": "'''\nChecking precondition\nNote : This program will give error as it has no declaration of EmcCollectionFactory\n'''\n\nfactrory = EmcCollectionFactory()\ncollection = factory.create(ArrayId);\nif (not collection.isFull()):\n    collection.insert(42);", 
     "language": "python", 
     "outputs": [
      {
       "ename": "NameError", 
       "evalue": "name 'EmcCollectionFactory' is not defined", 
       "output_type": "pyerr", 
       "traceback": [
        "\u001b[0;31m---------------------------------------------------------------------------\u001b[0m\n\u001b[0;31mNameError\u001b[0m                                 Traceback (most recent call last)", 
        "\u001b[0;32m/home/jay/<ipython-input-11-0508dec5ea10>\u001b[0m in \u001b[0;36m<module>\u001b[0;34m()\u001b[0m\n\u001b[1;32m      5\u001b[0m '''\n\u001b[1;32m      6\u001b[0m \u001b[0;34m\u001b[0m\u001b[0m\n\u001b[0;32m----> 7\u001b[0;31m \u001b[0mfactrory\u001b[0m \u001b[0;34m=\u001b[0m \u001b[0mEmcCollectionFactory\u001b[0m\u001b[0;34m(\u001b[0m\u001b[0;34m)\u001b[0m\u001b[0;34m\u001b[0m\u001b[0m\n\u001b[0m\u001b[1;32m      8\u001b[0m \u001b[0mcollection\u001b[0m \u001b[0;34m=\u001b[0m \u001b[0mfactory\u001b[0m\u001b[0;34m.\u001b[0m\u001b[0mcreate\u001b[0m\u001b[0;34m(\u001b[0m\u001b[0mArrayId\u001b[0m\u001b[0;34m)\u001b[0m\u001b[0;34m;\u001b[0m\u001b[0;34m\u001b[0m\u001b[0m\n\u001b[1;32m      9\u001b[0m \u001b[0;32mif\u001b[0m \u001b[0;34m(\u001b[0m\u001b[0;32mnot\u001b[0m \u001b[0mcollection\u001b[0m\u001b[0;34m.\u001b[0m\u001b[0misFull\u001b[0m\u001b[0;34m(\u001b[0m\u001b[0;34m)\u001b[0m\u001b[0;34m)\u001b[0m\u001b[0;34m:\u001b[0m\u001b[0;34m\u001b[0m\u001b[0m\n", 
        "\u001b[0;31mNameError\u001b[0m: name 'EmcCollectionFactory' is not defined"
       ]
      }
     ], 
     "prompt_number": 11
    }, 
    {
     "cell_type": "markdown", 
     "source": "<h3>EXAMPLE 10.12 page no : 121"
    }, 
    {
     "cell_type": "code", 
     "collapsed": true, 
     "input": "'''\nSubstitutability\n'''\n\n# insertObject() works for any class with\n# EmcCollection<T> as public base class.\ndef insertObject(c,element):\n    # throw (bad_alloc)\n    # return false if insertion fails, true otherwise\n    if (not c.isFull()):\n        c.insert(element)\n        return True\n    return False", 
     "language": "python", 
     "outputs": [], 
     "prompt_number": 12
    }, 
    {
     "cell_type": "markdown", 
     "source": "<h3>EXAMPLE 10.13 Page no :  121"
    }, 
    {
     "cell_type": "code", 
     "collapsed": true, 
     "input": "'''\nSpecification of overriden member function\n'''\n\ndef insert(T):\n    pass", 
     "language": "python", 
     "outputs": [], 
     "prompt_number": 13
    }, 
    {
     "cell_type": "markdown", 
     "source": "<h3>EXAMPLE 10.14 page no : 123"
    }, 
    {
     "cell_type": "code", 
     "collapsed": true, 
     "input": "'''\nDescribing template argument requirements\n'''\n\n# T must be: DefaultConstructible\n# copyConstructible\n# Assignable\n# Destructible\n# EqualityComparable\n\nclass EmcCollection:\n    pass", 
     "language": "python", 
     "outputs": [], 
     "prompt_number": 14
    }, 
    {
     "cell_type": "markdown", 
     "source": "<h3>EXAMPLE 10.15 page no : 124"
    }, 
    {
     "cell_type": "code", 
     "collapsed": true, 
     "input": "'''\nChecking type constraints\n'''\nclass EmcCollection:\n    def templateRequirements(self):\n        pass\n\n    def templateRequirements(self):\n        # T must be:\n        t1 = T1()\n        # DefaultContructible\n        t2 =t1\n        # CopyConstructible\n        t2 = t1;\n        # Assignable\n        b = (t2 == t1); # EqualityComparable", 
     "language": "python", 
     "outputs": [], 
     "prompt_number": 15
    }, 
    {
     "cell_type": "code", 
     "collapsed": true, 
     "input": "", 
     "language": "python", 
     "outputs": []
    }
   ]
  }
 ]
}