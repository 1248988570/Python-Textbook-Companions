{
 "metadata": {
  "name": "ch6"
 },
 "nbformat": 3,
 "nbformat_minor": 0,
 "worksheets": [
  {
   "cells": [
    {
     "cell_type": "heading",
     "level": 1,
     "metadata": {},
     "source": "Chapter Six : Conversions"
    },
    {
     "cell_type": "heading",
     "level": 3,
     "metadata": {},
     "source": "EXAMPLE 6.1 page no : 48\n"
    },
    {
     "cell_type": "code",
     "collapsed": false,
     "input": "'''\nExplicit conversions \nNote : converting int to float\n'''\nlarge = 456789; # Potentially dangerous conversion\nsize = float(large)\nprint size",
     "language": "python",
     "metadata": {},
     "outputs": [
      {
       "output_type": "stream",
       "stream": "stdout",
       "text": "456789.0\n"
      }
     ],
     "prompt_number": 1
    },
    {
     "cell_type": "heading",
     "level": 3,
     "metadata": {},
     "source": "EXAMPLE 6.2 page no : 49\n"
    },
    {
     "cell_type": "code",
     "collapsed": false,
     "input": "'''\nConversion of string object to const char*\nclass defining\n'''\n\nclass DangerousString :\n    def __init__(self):\n        pass # self.s = ''\n\n    def __str__(self):\n        pass # return self.s",
     "language": "python",
     "metadata": {},
     "outputs": [],
     "prompt_number": 2
    },
    {
     "cell_type": "heading",
     "level": 3,
     "metadata": {},
     "source": "EXAMPLE 6.3 page no : 51\n"
    },
    {
     "cell_type": "code",
     "collapsed": false,
     "input": "'''\nUsing static_cast\n'''\n\nlarge = 456789\nsize = int(large);\nthree = \"three\" \nprint large,size,three",
     "language": "python",
     "metadata": {},
     "outputs": [
      {
       "output_type": "stream",
       "stream": "stdout",
       "text": "456789 456789 three\n"
      }
     ],
     "prompt_number": 9
    },
    {
     "cell_type": "heading",
     "level": 3,
     "metadata": {},
     "source": "EXAMPLE 6.4 page no : 51\n"
    },
    {
     "cell_type": "code",
     "collapsed": false,
     "input": "'''\nNew style casts\n'''\nclass B:\n    pass\n    \nclass D( B):\n    pass\n\nclass E:\n    pass\n    \ndef dynamicCast(b):\n    # Must use dynamic_cast when base class is virtual.\n    return D(b)\n\ndef constCast(d1):\n    # Should use const_cast when casting away const.\n    return D(d1)\n\ndef reinterpretCast(d):\n    # Should use reinterpret_cast when casting pointer\n    # to pointer of unrelated type.\n    return E(d)",
     "language": "python",
     "metadata": {},
     "outputs": [],
     "prompt_number": 5
    },
    {
     "cell_type": "heading",
     "level": 3,
     "metadata": {},
     "source": "EXAMPLE 6.5 page no : 52\n"
    },
    {
     "cell_type": "code",
     "collapsed": false,
     "input": "'''\nCasting away const\n'''\n\ndef addToFileList(s):\n    pass\n    \ndef addFiles(s):\n    m = len(s)\n    for i in range(m):\n        addToFileList(s[i])",
     "language": "python",
     "metadata": {},
     "outputs": [],
     "prompt_number": 6
    },
    {
     "cell_type": "heading",
     "level": 3,
     "metadata": {},
     "source": "EXAMPLE 6.6 page no : 52\n"
    },
    {
     "cell_type": "code",
     "collapsed": false,
     "input": "'''\nObject in write-protected memory\n''' \n\n# ci may be in write-protected memory\nci = 22;\npi = ci # NO: Const cast away\ni = pi; # OK\n# writing into write-protected memory?\npi = 7 \nprint ci, pi, i ",
     "language": "python",
     "metadata": {},
     "outputs": [
      {
       "output_type": "stream",
       "stream": "stdout",
       "text": "22 7 22\n"
      }
     ],
     "prompt_number": 7
    },
    {
     "cell_type": "heading",
     "level": 3,
     "metadata": {},
     "source": "example 6.7 page no : 53\n"
    },
    {
     "cell_type": "code",
     "collapsed": false,
     "input": "'''\nClass with mutable data member\n'''\nclass EmcMatrix:\n    def __init__(self):\n        self.isDirtyM = False\n        self.detM = 0.0\n\n    def calculateDeterminant(self):\n        pass\n\n    def determinant(self):\n        if(isDirtyM):\n            # OK, access to mutable data members\n            self.detM = self.calculateDeterminant();\n            self.isDirtyM = False;\n        return self.detM;",
     "language": "python",
     "metadata": {},
     "outputs": [],
     "prompt_number": 8
    },
    {
     "cell_type": "code",
     "collapsed": false,
     "input": "",
     "language": "python",
     "metadata": {},
     "outputs": []
    }
   ],
   "metadata": {}
  }
 ]
}