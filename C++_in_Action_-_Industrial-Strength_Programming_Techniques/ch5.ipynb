{
 "metadata": {
  "name": "ch5"
 },
 "nbformat": 3,
 "nbformat_minor": 0,
 "worksheets": [
  {
   "cells": [
    {
     "cell_type": "heading",
     "level": 1,
     "metadata": {},
     "source": "Chapter Five : Object Life Cycle"
    },
    {
     "cell_type": "heading",
     "level": 3,
     "metadata": {},
     "source": "Example 5.1 page no: 32\n"
    },
    {
     "cell_type": "code",
     "collapsed": false,
     "input": "'''\nInitializing variables\nInstead of declaring the variable at the beginning of a code block and giving it a value\nmuch later:\n'''\n\ni = 10;\nj = 10;",
     "language": "python",
     "metadata": {},
     "outputs": [],
     "prompt_number": 1
    },
    {
     "cell_type": "heading",
     "level": 3,
     "metadata": {},
     "source": "Example 5.2 page no : 33\n"
    },
    {
     "cell_type": "code",
     "collapsed": false,
     "input": "'''\nInitialization instead of assignment\n'''\n\n# Not recommended\nstring1 = \"hello\";\nstring2 = \"hello\"; \nprint string1, string2",
     "language": "python",
     "metadata": {},
     "outputs": [
      {
       "output_type": "stream",
       "stream": "stdout",
       "text": "hello hello\n"
      }
     ],
     "prompt_number": 2
    },
    {
     "cell_type": "heading",
     "level": 3,
     "metadata": {},
     "source": "EXAMPLE 5.3 page no : 33\n"
    },
    {
     "cell_type": "code",
     "collapsed": false,
     "input": "'''\nAssignment instead of initialization\n'''\n\ni = int(raw_input()) # no reason to initialize i\nprint i",
     "language": "python",
     "metadata": {},
     "outputs": [
      {
       "name": "stdout",
       "output_type": "stream",
       "stream": "stdout",
       "text": "5\n"
      },
      {
       "output_type": "stream",
       "stream": "stdout",
       "text": "5\n"
      }
     ],
     "prompt_number": 3
    },
    {
     "cell_type": "heading",
     "level": 3,
     "metadata": {},
     "source": "EXAMPLE 5.4 page no : 34\n"
    },
    {
     "cell_type": "code",
     "collapsed": false,
     "input": "'''\nDeclaring multiple variables\n'''\noldLm = 0;\nnewLm = 0;",
     "language": "python",
     "metadata": {},
     "outputs": [],
     "prompt_number": 4
    },
    {
     "cell_type": "heading",
     "level": 3,
     "metadata": {},
     "source": "EXAMPLE 5.5 page no : 34\n"
    },
    {
     "cell_type": "code",
     "collapsed": false,
     "input": "'''\nCorrect use of magic number\n'''\n# Literal in definition of const,\ncharMapSize = 256;\n# but not to specify array size!\nfor i in range(charMapSize):\n    pass",
     "language": "python",
     "metadata": {},
     "outputs": [],
     "prompt_number": 5
    },
    {
     "cell_type": "heading",
     "level": 3,
     "metadata": {},
     "source": "EXAMPLE 5.6 page no : 36\n"
    },
    {
     "cell_type": "code",
     "collapsed": false,
     "input": "'''\nConstructor initialization lists\n'''\n\nclass Base:\n    def __init__(self,i=0):\n        self.iM = 0\n\nclass Derived(Base):\n    def __init__(self,i=0):\n        Base.__init__(self,i)\n        self.jM = i",
     "language": "python",
     "metadata": {},
     "outputs": [],
     "prompt_number": 6
    },
    {
     "cell_type": "heading",
     "level": 3,
     "metadata": {},
     "source": "EXAMPLE 5.7 page no : 37\n"
    },
    {
     "cell_type": "code",
     "collapsed": false,
     "input": "'''\nOrder of initializers\n'''\nclass Base:\n    def __init__(self,i=0):\n        self.iM = 0\n\nclass Derived(Base):\n    def __init__(self,i=0):\n        self.jM = i\n        bm = Base(i)",
     "language": "python",
     "metadata": {},
     "outputs": [],
     "prompt_number": 7
    },
    {
     "cell_type": "heading",
     "level": 3,
     "metadata": {},
     "source": "example 5.8 page no : 40\n"
    },
    {
     "cell_type": "code",
     "collapsed": false,
     "input": "'''\nReturning dangling pointers and references\n'''\n\ndef dangerous():\n    i = 5;\n    return i\nj = dangerous(); # NO: j is dangerous to use\nprint j;\n",
     "language": "python",
     "metadata": {},
     "outputs": [
      {
       "output_type": "stream",
       "stream": "stdout",
       "text": "5\n"
      }
     ],
     "prompt_number": 8
    },
    {
     "cell_type": "heading",
     "level": 3,
     "metadata": {},
     "source": "EXAMPLE 5.9 page no : 41\n"
    },
    {
     "cell_type": "code",
     "collapsed": false,
     "input": "'''\nclass declaration\n'''\n\nclass CommunicationPort:\n    def __init__(self,port):\n        pass\n    \n    def __del__(self):\n        pass",
     "language": "python",
     "metadata": {},
     "outputs": [],
     "prompt_number": 9
    },
    {
     "cell_type": "heading",
     "level": 3,
     "metadata": {},
     "source": "EXAMPLE 5.10 page no : 42\n"
    },
    {
     "cell_type": "code",
     "collapsed": false,
     "input": "'''\nCopyable class that manages memory\n'''\n\nclass EmcIntStack:\n    def __init__(self,d):\n        self.allocatedM = d\n        self.vectorM = []\n\n    def __del__():\n        pass   ",
     "language": "python",
     "metadata": {},
     "outputs": [],
     "prompt_number": 10
    },
    {
     "cell_type": "heading",
     "level": 3,
     "metadata": {},
     "source": "example 5.11 page no : 43\n"
    },
    {
     "cell_type": "code",
     "collapsed": false,
     "input": "'''\nSelf-assignment\n'''\n\ns = \"Aguirre\";\ns = s;\nprint s ",
     "language": "python",
     "metadata": {},
     "outputs": [
      {
       "output_type": "stream",
       "stream": "stdout",
       "text": "Aguirre\n"
      }
     ],
     "prompt_number": 11
    },
    {
     "cell_type": "heading",
     "level": 3,
     "metadata": {},
     "source": "example 5.12 page no : 43\n"
    },
    {
     "cell_type": "code",
     "collapsed": false,
     "input": "'''\nImplementing a copy assignment operator\nin Python, = operator no need to implement.\n'''\ns = \"Aguirre\";\nr = s;\nprint r",
     "language": "python",
     "metadata": {},
     "outputs": [
      {
       "output_type": "stream",
       "stream": "stdout",
       "text": "Aguirre\n"
      }
     ],
     "prompt_number": 12
    },
    {
     "cell_type": "code",
     "collapsed": false,
     "input": "",
     "language": "python",
     "metadata": {},
     "outputs": []
    }
   ],
   "metadata": {}
  }
 ]
}