{
 "metadata": {
  "name": "CH21"
 },
 "nbformat": 3,
 "nbformat_minor": 0,
 "worksheets": [
  {
   "cells": [
    {
     "cell_type": "heading",
     "level": 1,
     "metadata": {},
     "source": [
      "Chapter 21: Optical Properties"
     ]
    },
    {
     "cell_type": "heading",
     "level": 3,
     "metadata": {},
     "source": [
      "Example 21.1 Page No 125"
     ]
    },
    {
     "cell_type": "code",
     "collapsed": false,
     "input": [
      "# Calculation of absorption coefficient\n",
      "\n",
      "#Given\n",
      "# x is thickness of glass(mm)\n",
      "x=200\n",
      "#It is intensity of non-absorbed radiation\n",
      "#Io is intensity of non-relected radiation\n",
      "f=0.98  #f=It/Io\n",
      "\n",
      "#Calculation\n",
      "#b is absorption coefficient\n",
      "b=-math.log(f)/x\n",
      "\n",
      "#result\n",
      "print\"Absorption coefficient is \",round(b,4),\"mm**-1\"\n",
      "\n"
     ],
     "language": "python",
     "metadata": {},
     "outputs": [
      {
       "output_type": "stream",
       "stream": "stdout",
       "text": [
        "Absorption coefficient is  0.0001 mm**-1\n"
       ]
      }
     ],
     "prompt_number": 2
    }
   ],
   "metadata": {}
  }
 ]
}