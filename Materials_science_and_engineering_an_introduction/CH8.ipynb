{
 "metadata": {
  "name": "CH8"
 },
 "nbformat": 3,
 "nbformat_minor": 0,
 "worksheets": [
  {
   "cells": [
    {
     "cell_type": "heading",
     "level": 1,
     "metadata": {},
     "source": [
      "Chapter 8: Failure"
     ]
    },
    {
     "cell_type": "heading",
     "level": 3,
     "metadata": {},
     "source": [
      "Example 8.1 Page no 217"
     ]
    },
    {
     "cell_type": "code",
     "collapsed": false,
     "input": [
      "#Maximum Flaw Length Computation\n",
      "\n",
      "#Given\n",
      "sigma=40*10**6    # in Pa  Tensile stress\n",
      "E=69*10**9        #Modulus of elaticity  in pa\n",
      "Ys=0.3            #Specific surface energy  in N/m**2\n",
      "\n",
      "#Calculation\n",
      "#Maximum length of a surface flaw\n",
      "a=2*E*Ys/(math.pi*sigma**2)\n",
      "\n",
      "#Result\n",
      "print\"Maximum lemgth of a surface flaw without fracture is \",round(a*10**6,1),\"micro m\"\n",
      "\n"
     ],
     "language": "python",
     "metadata": {},
     "outputs": [
      {
       "output_type": "stream",
       "stream": "stdout",
       "text": [
        "Maximum lemgth of a surface flaw without fracture is  8.2 micro m\n"
       ]
      }
     ],
     "prompt_number": 3
    },
    {
     "cell_type": "heading",
     "level": 3,
     "metadata": {},
     "source": [
      "Design Example 8.2 Page no 242"
     ]
    },
    {
     "cell_type": "code",
     "collapsed": false,
     "input": [
      "#Rupture Lifetime Prediction\n",
      "\n",
      "#Given\n",
      "T=800.0+273.0      # Temperature in K\n",
      "\n",
      "#Calculation\n",
      "import math\n",
      "#From Graph of Fig. 8.32 Larson-Miller Parameter is deduced\n",
      "L_M=24*10**3\n",
      "#math.log(t)=((L_M/T)-20)\n",
      "t=math.pow(10,(L_M/T)-20)\n",
      "    \n",
      "#result\n",
      "print\"Time to rupture is \",round(t,0),\"h\"\n",
      "\n"
     ],
     "language": "python",
     "metadata": {},
     "outputs": [
      {
       "output_type": "stream",
       "stream": "stdout",
       "text": [
        "Time to rupture is  233.0 h\n"
       ]
      }
     ],
     "prompt_number": 16
    },
    {
     "cell_type": "code",
     "collapsed": false,
     "input": [],
     "language": "python",
     "metadata": {},
     "outputs": []
    }
   ],
   "metadata": {}
  }
 ]
}