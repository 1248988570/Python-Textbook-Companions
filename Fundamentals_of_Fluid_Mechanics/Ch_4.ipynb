{
 "metadata": {
  "name": "Ch 4"
 },
 "nbformat": 3,
 "nbformat_minor": 0,
 "worksheets": [
  {
   "cells": [
    {
     "cell_type": "heading",
     "level": 1,
     "metadata": {},
     "source": [
      "Chapter 4:fluid kinematics"
     ]
    },
    {
     "cell_type": "heading",
     "level": 3,
     "metadata": {},
     "source": [
      "Example 4.6 Page no.165"
     ]
    },
    {
     "cell_type": "code",
     "collapsed": false,
     "input": [
      "#Example 4.6\n",
      "#Determine how fast the manufacture must travell along the route.\n",
      "#given\n",
      "pratet=-8           #dollars/hr\n",
      "pratex=0.2        #dollars/mi\n",
      "\n",
      "u=(-pratet)/pratex\n",
      "\n",
      "#Result\n",
      "print \"The delivery speed=\",round(u,1),\"mi/hr\""
     ],
     "language": "python",
     "metadata": {},
     "outputs": [
      {
       "output_type": "stream",
       "stream": "stdout",
       "text": [
        "The delivery speed= 40.0 mi/hr\n"
       ]
      }
     ],
     "prompt_number": 1
    }
   ],
   "metadata": {}
  }
 ]
}