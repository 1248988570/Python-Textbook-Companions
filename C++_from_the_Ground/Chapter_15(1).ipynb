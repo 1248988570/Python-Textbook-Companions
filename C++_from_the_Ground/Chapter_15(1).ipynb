{
 "metadata": {
  "name": "Chapter 15"
 },
 "nbformat": 3,
 "nbformat_minor": 0,
 "worksheets": [
  {
   "cells": [
    {
     "cell_type": "markdown",
     "metadata": {},
     "source": "<h1>Chapter 15: Virtual Functions and Polymorphism<h1>"
    },
    {
     "cell_type": "markdown",
     "metadata": {},
     "source": "<h3>Example 15.1, Page Number: 358<h3>"
    },
    {
     "cell_type": "code",
     "collapsed": false,
     "input": "'''Using base pointers on derived class objects'''\n\n\nclass B_class:\n    def __init__(self):\n        self.author=None\n    def put_author(self,s):\n        self.author=s\n    def show_author(self):\n        print self.author\n        \nclass D_class(B_class):\n    def __init__(self):\n        self.title=None\n    def put_title(self,num):\n        self.title=num\n    def show_title(self):\n        print \"Title:\",self.title\n        \n#Variable declaration\np=[B_class()]       #acts as a pointer to B_class type\nB_ob=B_class()\n\ndp=[D_class()]      #acts as a pointer to D_class type\nD_ob=D_class()\n\np[0]=B_ob           #assigning p to object of base\n\n\n#Access B_class via pointer\np[0].put_author(\"Tom Clancy\")\n\n#Access D_class via base pointer\np[0]=D_ob\np[0].put_author(\"William Shakespeare\")\n\n#Show that each author went into proper object\nB_ob.show_author()\nD_ob.show_author()\nprint \"\\n\"\n\n#Since put_title() and show_title() are not part of the base class, \n#they are not accessible via the base pointer p and must be accessed \n#either directly, or, as shown here, through a pointer to the \n#derived type\ndp[0]=D_ob\ndp[0].put_title(\"The Tempest\")\np[0].show_author()\ndp[0].show_title()\n",
     "language": "python",
     "metadata": {},
     "outputs": [
      {
       "output_type": "stream",
       "stream": "stdout",
       "text": "Tom Clancy\nWilliam Shakespeare\n\n\nWilliam Shakespeare\nTitle: The Tempest\n"
      }
     ],
     "prompt_number": 2
    },
    {
     "cell_type": "markdown",
     "metadata": {},
     "source": "<h3>Example 15.2, Page Number: 361<h3>"
    },
    {
     "cell_type": "code",
     "collapsed": false,
     "input": "'''A short example that uses virtual functions'''\n#All functions in python are effectively virtual, hence virtual keyword not required\n\n\nclass base:\n    def who(self):                #virtual function\n        print \"Base\"\n\nclass first_d(base):\n    def who(self):                #redifine who() relative to first_d\n        print \"First derivation\"\n        \nclass second_d(base):\n    def who(self):                #redifine who() relative to second_d\n        print \"Second derivation\"\n \n        \n#Variable declaration\nbase_obj=base()\np=[base()]\nfirst_obj=first_d()\nsecond_obj=second_d()\n\np[0]=base_obj\np[0].who()           #access base's who\n\np[0]=first_obj\np[0].who()           #access first_d's who\n\np[0]=second_obj\np[0].who()           #access second_d's who\n\n",
     "language": "python",
     "metadata": {},
     "outputs": [
      {
       "output_type": "stream",
       "stream": "stdout",
       "text": "Base\nFirst derivation\nSecond derivation\n"
      }
     ],
     "prompt_number": 3
    },
    {
     "cell_type": "markdown",
     "metadata": {},
     "source": "<h3>Example 15.3, Page Number: 363<h3>"
    },
    {
     "cell_type": "code",
     "collapsed": false,
     "input": "'''An example that shows virtual functions are inherited'''\n\n\nclass base:\n    def who(self):                #virtual function\n        print \"Base\"\n\nclass first_d(base):\n    def who(self):                #redifine who() relative to first_d\n        print \"First derivation\"\n        \nclass second_d(base):\n    #who not defined\n    pass\n \n        \n#Variable declaration\nbase_obj=base()\np=[base()]\nfirst_obj=first_d()\nsecond_obj=second_d()\n\np[0]=base_obj\np[0].who()           #access base's who\n\np[0]=first_obj\np[0].who()           #access first_d's who\n\np[0]=second_obj\np[0].who()           #access base's who because\n                     #second_d does not redefine it.\n\n",
     "language": "python",
     "metadata": {},
     "outputs": [
      {
       "output_type": "stream",
       "stream": "stdout",
       "text": "Base\nFirst derivation\nBase\n"
      }
     ],
     "prompt_number": 4
    },
    {
     "cell_type": "markdown",
     "metadata": {},
     "source": "<h3>Example 15.4, Page Number: 364<h3>"
    },
    {
     "cell_type": "code",
     "collapsed": false,
     "input": "'''Virtual function in hierarchical inheritance'''\n\n\nclass base:\n    def who(self):                #virtual function\n        print \"Base\"\n\nclass first_d(base):\n    def who(self):                #redifine who() relative to first_d\n        print \"First derivation\"\n \n#second_d now inherited first_d -- not base\nclass second_d(first_d):\n    #who not defined\n    pass\n \n        \n#Variable declaration\nbase_obj=base()\np=[base()]\nfirst_obj=first_d()\nsecond_obj=second_d()\n\np[0]=base_obj\np[0].who()           #access base's who\n\np[0]=first_obj\np[0].who()           #access first_d's who\n\np[0]=second_obj\np[0].who()           #access first_d's who because\n                     #second_d does not redefine it.\n\n",
     "language": "python",
     "metadata": {},
     "outputs": [
      {
       "output_type": "stream",
       "stream": "stdout",
       "text": "Base\nFirst derivation\nFirst derivation\n"
      }
     ],
     "prompt_number": 5
    },
    {
     "cell_type": "markdown",
     "metadata": {},
     "source": "<h3>Example 15.5, Page Number: 366<h3>"
    },
    {
     "cell_type": "code",
     "collapsed": false,
     "input": "'''A simple application of virtual functions'''\n\nclass figure:\n    def __init__(self):\n        self._x=None\n        self._y=None\n    def set_dim(self,i,j):\n        self._x=i\n        self._y=j\n    def show_area(self):\n        print \"No area computation defined\",\n        print \"for this class.\"\n        \nclass triangle(figure):\n    def show_area(self):\n        print \"Triangle with height\",\n        print self._x,\"and base\",self._y,\n        print \"has an area of\",\n        print self._x*0.5*self._y,\".\"\n        \nclass rectangle(figure):\n     def show_area(self):\n        print \"Rectangle with dimensions\",\n        print self._x,\"x\",self._y,\n        print \"has an area of\",\n        print self._x*self._y,\".\"\n        \n#Variable declaration\np=[figure()]                #pointer to base type\nt=triangle()                #objects of derived type\nr=rectangle()\n\np[0]=t\np[0].set_dim(10.0,5.0)\np[0].show_area()\n\np[0]=r\np[0].set_dim(10.0,5.0)\np[0].show_area()\n        ",
     "language": "python",
     "metadata": {},
     "outputs": [
      {
       "output_type": "stream",
       "stream": "stdout",
       "text": "Triangle with height 10.0 and base 5.0 has an area of 25.0 .\nRectangle with dimensions 10.0 x 5.0 has an area of 50.0 .\n"
      }
     ],
     "prompt_number": 6
    },
    {
     "cell_type": "markdown",
     "metadata": {},
     "source": "<h3>Example 15.6, Page Number: 368<h3>"
    },
    {
     "cell_type": "code",
     "collapsed": false,
     "input": "'''An expanded version of previous program'''\n\nclass figure:\n    def __init__(self):\n        self._x=None\n        self._y=None\n    def set_dim(self,i,j=0):\n        self._x=i\n        self._y=j\n    def show_area(self):\n        print \"No area computation defined\",\n        print \"for this class.\"\n        \nclass triangle(figure):\n    def show_area(self):\n        print \"Triangle with height\",\n        print self._x,\"and base\",self._y,\n        print \"has an area of\",\n        print self._x*0.5*self._y,\".\"\n        \nclass rectangle(figure):\n     def show_area(self):\n        print \"Rectangle with dimensions\",\n        print self._x,\"x\",self._y,\n        print \"has an area of\",\n        print self._x*self._y,\".\"\n        \nclass circle(figure):\n     def show_area(self):\n        print \"Circle with radius\",\n        print self._x,\n        print \"has an area of\",\n        print 3.14*self._x*self._x,\".\"\n        \n        \n#Variable declaration\np=[figure()]                #pointer to base type\nt=triangle()                #objects of derived type\nr=rectangle()\nc=circle()\n\np[0]=t\np[0].set_dim(10.0,5.0)\np[0].show_area()\n\np[0]=r\np[0].set_dim(10.0,5.0)\np[0].show_area()\n\np[0]=c\np[0].set_dim(9.0)\np[0].show_area()\n        ",
     "language": "python",
     "metadata": {},
     "outputs": [
      {
       "output_type": "stream",
       "stream": "stdout",
       "text": "Triangle with height 10.0 and base 5.0 has an area of 25.0 .\nRectangle with dimensions 10.0 x 5.0 has an area of 50.0 .\nCircle with radius 9.0 has an area of 254.34 .\n"
      }
     ],
     "prompt_number": 7
    },
    {
     "cell_type": "code",
     "collapsed": false,
     "input": "",
     "language": "python",
     "metadata": {},
     "outputs": []
    }
   ],
   "metadata": {}
  }
 ]
}