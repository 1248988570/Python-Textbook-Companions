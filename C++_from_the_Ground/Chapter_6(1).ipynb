{
 "metadata": {
  "name": "Chapter 6"
 },
 "nbformat": 3,
 "nbformat_minor": 0,
 "worksheets": [
  {
   "cells": [
    {
     "cell_type": "markdown",
     "metadata": {},
     "source": "<h1>Chapter 6: Pointers<h1>"
    },
    {
     "cell_type": "markdown",
     "metadata": {},
     "source": "<h3>Example 6.1, Page Number: 107<h3>"
    },
    {
     "cell_type": "code",
     "collapsed": false,
     "input": "'''Implementing pointers in python'''\n\nfrom ctypes import *\n\nbalance =c_int(3200)       #int variable\nbalptr=pointer(balance)    #pointer to int\nvalue=balptr[0]            #accessing the value using the pointer\n\n#Result\nprint \"balance: \",value    \n\n",
     "language": "python",
     "metadata": {},
     "outputs": [
      {
       "output_type": "stream",
       "stream": "stdout",
       "text": "balance:  3200\n"
      }
     ],
     "prompt_number": 1
    },
    {
     "cell_type": "markdown",
     "metadata": {},
     "source": "<h3>Example 6.2, Page Number: 109<h3>"
    },
    {
     "cell_type": "code",
     "collapsed": false,
     "input": "'''This program will not create the problem as in C++ since \n   python does'nt have specific data types'''\n\n#Variable declaration\nx=123.23\ny=c_double()\np=POINTER(c_int)\n\np=pointer(c_int(int(x)))    #type case double to int\ny=p[0]\n\n#Result\nprint y",
     "language": "python",
     "metadata": {},
     "outputs": [
      {
       "output_type": "stream",
       "stream": "stdout",
       "text": "123\n"
      }
     ],
     "prompt_number": 2
    },
    {
     "cell_type": "markdown",
     "metadata": {},
     "source": "<h3>Example 6.3, Page Number: 110<h3>"
    },
    {
     "cell_type": "code",
     "collapsed": false,
     "input": "'''Demonstrate usage of pointers'''\n\nfrom ctypes import *\n\n#Variable declaration\nnum=c_int()            #declaring int\np=pointer(num)         #pointer to int\n\np[0]=100\nprint num.value,\np[0]+=1\nprint num.value,\np[0]-=1\nprint num.value",
     "language": "python",
     "metadata": {},
     "outputs": [
      {
       "output_type": "stream",
       "stream": "stdout",
       "text": "100 101 100\n"
      }
     ],
     "prompt_number": 2
    },
    {
     "cell_type": "markdown",
     "metadata": {},
     "source": "<h3>Example 6.4, Page Number: 111<h3>"
    },
    {
     "cell_type": "code",
     "collapsed": false,
     "input": "'''Demonstrate pointer arithmetic'''\n\nfrom ctypes import *\n\n#Variable declaration\nj=c_int()\ng=c_double()\ni=pointer(j)\nf=pointer(g)\n\n\nfor x in range(10):\n    print addressof(i.contents)+x,addressof(f.contents)+x\n    \n    ",
     "language": "python",
     "metadata": {},
     "outputs": [
      {
       "output_type": "stream",
       "stream": "stdout",
       "text": "84638480 84639248\n84638481 84639249\n84638482 84639250\n84638483 84639251\n84638484 84639252\n84638485 84639253\n84638486 84639254\n84638487 84639255\n84638488 84639256\n84638489 84639257\n"
      }
     ],
     "prompt_number": 10
    },
    {
     "cell_type": "markdown",
     "metadata": {},
     "source": "<h3>Example 6.5, Page Number: 114<h3>"
    },
    {
     "cell_type": "code",
     "collapsed": false,
     "input": "'''Tokenizing program: pointer verion'''\n\nfrom ctypes import *\n\n#Variable declaration\nstr=\"This is a test\"\ntoken =\"\"\ni=0\n\n#Read a token at a time from the string\nwhile i<len(str):\n    token=c_char_p(\"\")    #set token to null string\n    q=pointer(token)           \n    #Read characters until either a space or the null terminator is encountered'''\n    while i<len(str) and not(str[i]==\" \"):\n        q[0]+=str[i]\n        i+=1\n    i+=1                 #advance past the space\n    print q[0]",
     "language": "python",
     "metadata": {},
     "outputs": [
      {
       "output_type": "stream",
       "stream": "stdout",
       "text": "This\nis\na\ntest\n"
      }
     ],
     "prompt_number": 12
    },
    {
     "cell_type": "markdown",
     "metadata": {},
     "source": "<h3>Example 6.6, Page Number: 115<h3>"
    },
    {
     "cell_type": "code",
     "collapsed": false,
     "input": "'''Tokenizing program: array-indexing verion'''\n\n#Variable declaration\nstr=\"This is a test\"\ni=0\n\n#Read a token at a time from the string\nwhile i<len(str):\n    token=\"\"           #set q to null string\n    #Read characters until either a space or the null terminator is encountered'''\n    while i<len(str) and not(str[i]==\" \"):\n        token+=str[i]\n        i+=1\n    i+=1           #advance past the space\n    print token",
     "language": "python",
     "metadata": {},
     "outputs": [
      {
       "output_type": "stream",
       "stream": "stdout",
       "text": "This\nis\na\ntest\n"
      }
     ],
     "prompt_number": 14
    },
    {
     "cell_type": "markdown",
     "metadata": {},
     "source": "<h3>Example 6.7, Page Number: 115<h3>"
    },
    {
     "cell_type": "code",
     "collapsed": false,
     "input": "'''Converting to uppercase using pointer indexing'''\n\nimport string\n\nstr=c_char_p(\"hello tom\")\nq=\"\"\np=pointer(str)              #put address of str into p\n   \np[0]=string.upper(p[0])\n\n#Result\nprint p[0]",
     "language": "python",
     "metadata": {},
     "outputs": [
      {
       "output_type": "stream",
       "stream": "stdout",
       "text": "HELLO TOM\n"
      }
     ],
     "prompt_number": 15
    },
    {
     "cell_type": "markdown",
     "metadata": {},
     "source": "<h3>Example 6.8, Page Number: 117<h3>"
    },
    {
     "cell_type": "code",
     "collapsed": false,
     "input": "'''Pointers and string literals'''\n\n#Varible declaration\ns=\"Pointers are fun to use\"\n\n#Result\nprint s\n\n",
     "language": "python",
     "metadata": {},
     "outputs": [
      {
       "output_type": "stream",
       "stream": "stdout",
       "text": "Pointers are fun to use\n"
      }
     ],
     "prompt_number": 4
    },
    {
     "cell_type": "markdown",
     "metadata": {},
     "source": "<h3>Example 6.9, Page Number: 118<h3>"
    },
    {
     "cell_type": "code",
     "collapsed": false,
     "input": "'''An example of pointers and arrays'''\n\nfrom ctypes import *\n\n#Variable declaration\nnum=[]\n\n#User input\nfor i in range(10):\n    num.append(i)\n    \nstart=num          #set start to the starting pointer \nfor i in range(10):\n    print start[i],\n    \n",
     "language": "python",
     "metadata": {},
     "outputs": [
      {
       "output_type": "stream",
       "stream": "stdout",
       "text": "0 1 2 3 4 5 6 7 8 9\n"
      }
     ],
     "prompt_number": 5
    },
    {
     "cell_type": "markdown",
     "metadata": {},
     "source": "<h3>Example 6.10, Page Number: 119<h3>"
    },
    {
     "cell_type": "code",
     "collapsed": false,
     "input": "'''A fortune cookie program'''\n\nimport random\n\nfortunes=[\"Soon, you will come into some money.\",\n          \"A new love will enter your lifr. \",\n          \"You will live long and prosper.\",\n          \"Now is a good time to invest for the future.\",\n          \"A close friend will ask for a favour.\"]\n\nprint \"To see your fortune, press a key: \"\n\n#Randomize the random number generator\nchance=random.randint(0,100)\nchance=chance%5\n\n#Result\nprint fortunes[chance]",
     "language": "python",
     "metadata": {},
     "outputs": [
      {
       "output_type": "stream",
       "stream": "stdout",
       "text": "To see your fortune, press a key: \nA close friend will ask for a favour.\n"
      }
     ],
     "prompt_number": 6
    },
    {
     "cell_type": "markdown",
     "metadata": {},
     "source": "<h3>Example 6.11, Page Number: 120<h3>"
    },
    {
     "cell_type": "code",
     "collapsed": false,
     "input": "'''A simple C++ keyword synopsis program'''\n\nkeyword=[[\"for\",\"for(initialization; condition; increment\"],\n         [\"if\",\"if(condition) ... else ...\"],\n         [\"switch\",\"switch(value) { case-list }\"],\n         [\"while\",\"while(condition) ...\"],\n         [\"\",\"\"]]     #Terminates the list with nulls\n          \n#User input      \nprint \"Enter keyword: \"\nstr=\"for\"              \n\nfor i in range(4):\n    if str==keyword[i][0]:\n        print keyword[i][1]\n        \n",
     "language": "python",
     "metadata": {},
     "outputs": [
      {
       "output_type": "stream",
       "stream": "stdout",
       "text": "Enter keyword: \nfor(initialization; condition; increment\n"
      }
     ],
     "prompt_number": 7
    },
    {
     "cell_type": "markdown",
     "metadata": {},
     "source": "<h3>Example 6.12, Page Number: 123<h3>"
    },
    {
     "cell_type": "code",
     "collapsed": false,
     "input": "'''Demonstrate multiple indirection'''\n\nfrom ctypes import *\n\n#Variable declaration\nx=c_int(10)          #int variable\np=pointer(x)         #pointer to int\nq=pointer(p)         #pointer to a pointer\n\n#Result\nprint q[0][0]        #accessing the value using a pointer to a pointer\n",
     "language": "python",
     "metadata": {},
     "outputs": [
      {
       "output_type": "stream",
       "stream": "stdout",
       "text": "10\n"
      }
     ],
     "prompt_number": 3
    },
    {
     "cell_type": "markdown",
     "metadata": {},
     "source": "<h3>Example 6.13, Page Number: 126<h3>"
    },
    {
     "cell_type": "code",
     "collapsed": false,
     "input": "'''Print ASCII value of each character of string using pointer'''\n\nfrom ctypes import *\n\n#Variable declaration\ns=c_char_p()\np1=pointer(s)\nx=0\n\nwhile True:\n    print \"\\nEnter a string: \",\n    if x==2:\n        p1[0]=c_char_p(\"done\")\n    else:\n        p1[0]=c_char_p(\"Hello\")\n    #print the ASCII values of each characcter\n    for i in range(0,len(p1[0])):\n        print ord(p1[0][i]),\n    x+=1\n    if p1[0]==\"done\":\n        break\n        \n\n",
     "language": "python",
     "metadata": {},
     "outputs": [
      {
       "output_type": "stream",
       "stream": "stdout",
       "text": "\nEnter a string:  72 101 108 108 111 \nEnter a string:  72 101 108 108 111 \nEnter a string:  100 111 110 101\n"
      }
     ],
     "prompt_number": 9
    },
    {
     "cell_type": "code",
     "collapsed": false,
     "input": "",
     "language": "python",
     "metadata": {},
     "outputs": []
    }
   ],
   "metadata": {}
  }
 ]
}