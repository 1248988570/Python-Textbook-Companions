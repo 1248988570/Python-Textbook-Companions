{
 "metadata": {
  "name": "Chapter 14"
 },
 "nbformat": 3,
 "nbformat_minor": 0,
 "worksheets": [
  {
   "cells": [
    {
     "cell_type": "markdown",
     "metadata": {},
     "source": "<h1>Chapter 14: Inheritance<h1>"
    },
    {
     "cell_type": "markdown",
     "metadata": {},
     "source": "<h3>Example 14.1, Page Number: 333<h3>"
    },
    {
     "cell_type": "code",
     "collapsed": false,
     "input": "'''Demonstrate inheritance'''\n\n#Define base class for vehicles\nclass road_vehicle:\n    def __init__(self):\n        self.__wheels=None\n        self.__passengers=None\n    def set_wheels(self,num):\n        self.__wheels=num\n    def get_wheels(self):\n        return self.__wheels\n    def set_pass(self,num):\n        self.__passengers=num\n    def get_pass(self):\n        return self.__passengers\n\n#Define a truck\nclass truck(road_vehicle):\n    def __init__(self):\n        self.__cargo=None\n    def set_cargo(self,size):\n        self.__cargo=size\n    def get_cargo(self):\n        return self.__cargo\n    def show(self):\n        print \"wheels: \",self.get_wheels()\n        print \"passengers: \",self.get_pass()\n        print \"cargo capacity in cubic feet: \",self.__cargo\n \n#Define an enum type\n(car,van,wagon)=(1,2,3)\ntype=[\"car\",\"van\",\"wagon\"]\n \n#Define an automobile\nclass automobile(road_vehicle):\n    def __init__(self):\n        self.car_type=None\n    def set_type(self,t):\n        self.car_type=t\n    def get_type(self):\n        return self.car_type\n    def show(self):\n        print \"wheels: \",self.get_wheels()\n        print \"passengers: \",self.get_pass()\n        print \"type: \",\n        if self.get_type()==1:\n            print \"car\"\n        elif self.get_type()==2:\n            print \"van\"\n        elif self.get_type()==3:\n            print \"wagon\"\n \n#Variable declaration\nt1=truck()\nt2=truck()\nc=automobile()\n\nt1.set_wheels(18)\nt1.set_pass(2)\nt1.set_cargo(3200)\n\nt2.set_wheels(6)\nt2.set_pass(3)\nt2.set_cargo(1200)\n\nt1.show()\nt2.show()\n\nc.set_wheels(4)\nc.set_pass(6)\nc.set_type(van)\n\nc.show()          \n    ",
     "language": "python",
     "metadata": {},
     "outputs": [
      {
       "output_type": "stream",
       "stream": "stdout",
       "text": "wheels:  18\npassengers:  2\ncargo capacity in cubic feet:  3200\nwheels:  6\npassengers:  3\ncargo capacity in cubic feet:  1200\nwheels:  4\npassengers:  6\ntype:  van\n"
      }
     ],
     "prompt_number": 1
    },
    {
     "cell_type": "markdown",
     "metadata": {},
     "source": "<h3>Example 14.2, Page Number: 335<h3>"
    },
    {
     "cell_type": "code",
     "collapsed": false,
     "input": "'''Base class access control'''\n\nclass base:\n    def __init__(self):\n        self.__i=self.__j=None\n    def set(self,a,b):\n        self.__i=a\n        self.__j=b\n    def show(self):\n        print self.__i,self.__j\n        \nclass derived(base):\n    def __init__(self,x):\n        self.__k=x\n    def showk(self):\n        print self.__k\n \n#Variable declaration\nob = derived(3)\n\nob.set(1,2)         #access member of base\nob.show()           #access member of base\n\nob.showk()          #uses member of derived class\n        ",
     "language": "python",
     "metadata": {},
     "outputs": [
      {
       "output_type": "stream",
       "stream": "stdout",
       "text": "1 2\n3\n"
      }
     ],
     "prompt_number": 1
    },
    {
     "cell_type": "markdown",
     "metadata": {},
     "source": "<h3>Example 14.3, Page Number: 337<h3>"
    },
    {
     "cell_type": "code",
     "collapsed": false,
     "input": "'''Implementing protected members'''\n\nclass base:\n    def __init__(self):\n        self.__i=self.__j=None  #These act as protected members\n    def set(self,a,b):\n        self.__i=a\n        self.__j=b\n    def show(self):\n        print self.__i,self.__j\n        \nclass derived(base):\n    def __init__(self):\n        self.__k=None\n    def setk(self):\n        self.__k=self._base__i*self._base__j  #accessing private variables in derived class\n    def showk(self):\n        print self.__k\n \n#Variable declaration\nob = derived()\n\nob.set(2,3)         #OK, known to be derived\nob.show()           #OK, known to be derived\n\nob.setk()\nob.showk()          #uses member of derived class\n        ",
     "language": "python",
     "metadata": {},
     "outputs": [
      {
       "output_type": "stream",
       "stream": "stdout",
       "text": "2 3\n6\n"
      }
     ],
     "prompt_number": 10
    },
    {
     "cell_type": "markdown",
     "metadata": {},
     "source": "<h3>Example 14.4, Page Number: 338<h3>"
    },
    {
     "cell_type": "code",
     "collapsed": false,
     "input": "'''Hierarchical Inheritance in python'''\n\nclass base:\n    def __init__(self):\n        self.__i=None\n        self.__j=None\n    def set(self,a,b):\n        self.__i=a\n        self.__j=b\n    def show(self):\n        print self.__i,self.__j\n        \nclass derived1(base):\n    def __init__(self):\n        self.__k=None\n    def setk(self):\n        self.__k=self._base__i*self._base__j\n    def showk(self):\n        print self.__k\n\nclass derived2(derived1):\n    def __init__(self):\n        self.__m=None\n    def setm(self):\n        self.__m=self._base__i-self._base__j\n    def showm(self):\n        print self.__m\n        \n        \n#Variable declaration\nob1 = derived1()\nob2 = derived2()\n\nob1.set(2,3)         #access member of base\nob1.show()           #access member of base\nob1.setk()           #uses member of derived1 class\nob1.showk()          #uses member of derived1 class\n\nob2.set(3,4)         #access member of base\nob2.show()           #access member of base\nob2.setk()           #access member of derived1 class\nob2.setm()           #access member of derived2 class\nob2.showk()          #uses member of derived1 class\nob2.showm()          #uses member of derived1 class\n        ",
     "language": "python",
     "metadata": {},
     "outputs": [
      {
       "output_type": "stream",
       "stream": "stdout",
       "text": "2 3\n6\n3 4\n12\n-1\n"
      }
     ],
     "prompt_number": 11
    },
    {
     "cell_type": "markdown",
     "metadata": {},
     "source": "<h3>Example 14.5, Page Number: 341<h3>"
    },
    {
     "cell_type": "code",
     "collapsed": false,
     "input": "'''Demonstrate inheriting a protected base class'''\n\nclass base:\n    def __init__(self):\n        self.__i=None\n        self._j=None\n        self.k=None\n    def seti(self,a):\n        self.__i=a\n    def geti(self):\n        return i\n    \nclass derived(base):\n    def setj(self,a):\n        self._j=a\n    def setk(self,a):\n        self.k=a\n    def getj(self):\n        return self._j\n    def getk(self):\n        return self.k\n   \n#Variable declaration    \nob=derived()\n\nob.setk(10)\nprint ob.getk(),\nob.setj(12)\nprint ob.getj()",
     "language": "python",
     "metadata": {},
     "outputs": [
      {
       "output_type": "stream",
       "stream": "stdout",
       "text": "10 12\n"
      }
     ],
     "prompt_number": 1
    },
    {
     "cell_type": "markdown",
     "metadata": {},
     "source": "<h3>Example 14.6, Page Number: 342<h3>"
    },
    {
     "cell_type": "code",
     "collapsed": false,
     "input": "'''An example of multiple base classes'''\n\nclass base1:\n    def __init__(self):\n        self.x=None\n    def showx(self):\n        print self.x\n    \nclass base2:\n    def __init__(self):\n        self.y=None\n    def showy(self):\n        print self.y\n        \nclass derived(base1,base2):\n    def set(self,i,j):\n        self.x=i\n        self.y=j\n \n#Variable declaration\nob = derived()\n\nob.set(10,20)  #provided by derived\nob.showx()     #from base1\nob.showy()     #from base2\n",
     "language": "python",
     "metadata": {},
     "outputs": [
      {
       "output_type": "stream",
       "stream": "stdout",
       "text": "10\n20\n"
      }
     ],
     "prompt_number": 17
    },
    {
     "cell_type": "markdown",
     "metadata": {},
     "source": "<h3>Example 14.7, Page Number: 343<h3>"
    },
    {
     "cell_type": "code",
     "collapsed": false,
     "input": "'''Constructors, Destructors and Inheritance'''\n\nclass base:\n    def __init__(self):\n        print \"Constructing base\"\n    def __del__(self):\n        print \"Destructing base\"\n\nclass derived(base):\n    def __init__(self):\n        base.__init__(self)\n        print \"Constructing derived\"\n    def __del__(self):\n        print \"Destructing derived\"\n        for b in self.__class__.__bases__:\n            b.__del__(self)\n\n#Variable declaration\nob=derived()\n\n#Does nothing but construct and destruct ob",
     "language": "python",
     "metadata": {},
     "outputs": [
      {
       "output_type": "stream",
       "stream": "stdout",
       "text": "Constructing base\nConstructing derived\nDestructing derived\nDestructing base\n"
      }
     ],
     "prompt_number": 19
    },
    {
     "cell_type": "markdown",
     "metadata": {},
     "source": "<h3>Example 14.8, Page Number: 344<h3>"
    },
    {
     "cell_type": "code",
     "collapsed": false,
     "input": "#Inheritance 344 eg:14.8\n'''Constructors, Destructors and Inheritance'''\n\nclass base:\n    def __init__(self):\n        print \"Constructing base\"\n    def __del__(self):\n        print \"Destructing base\"\n\nclass derived1(base):\n    def __init__(self):\n        base.__init__(self)\n        print \"Constructing derived1\"\n    def __del__(self):\n        print \"Destructing derived1\"\n        super(derived1,self).__del__(self)\n\nclass derived2(derived1):\n    def __init__(self):\n        derived1.__init__(self)\n        print \"Constructing derived2\"\n    def __del__(self):\n        print \"Destructing derived2\"\n        super(self.__class__,self).__del__(self)\n            \n#Variable declaration\nob=derived2()\n\n#Does nothing but construct and destruct ob",
     "language": "python",
     "metadata": {},
     "outputs": []
    },
    {
     "cell_type": "markdown",
     "metadata": {},
     "source": "<h3>Example 14.9, Page Number: 345<h3>"
    },
    {
     "cell_type": "code",
     "collapsed": false,
     "input": "'''Constructors and Destructors in Multiple Inheritance'''\n\nclass base1:\n    def __init__(self):\n        print \"Constructing base1\"\n    def __del__(self):\n        print \"Destructing base1\"\n    \nclass base2:\n    def __init__(self):\n        print \"Constructing base2\"\n    def __del__(self):\n        print \"Destructing base2\"\n        \nclass derived(base1,base2):\n    def __init__(self):\n        for b in self.__class__.__bases__:\n            b.__init__(self)\n        print \"Constructing derived\"\n    def __del__(self):\n        print \"Destructing derived\"\n        for b in self.__class__.__bases__:\n            b.__del__(self)\n \n#Variable declaration\nob = derived()\n\n",
     "language": "python",
     "metadata": {},
     "outputs": [
      {
       "output_type": "stream",
       "stream": "stdout",
       "text": "Constructing base1\nConstructing base2\nConstructing derived\nDestructing derived\nDestructing base1\nDestructing base2\n"
      }
     ],
     "prompt_number": 21
    },
    {
     "cell_type": "markdown",
     "metadata": {},
     "source": "<h3>Example 14.10, Page Number: 347<h3>"
    },
    {
     "cell_type": "code",
     "collapsed": false,
     "input": "'''Passing parameters to parent constructors in inheritance'''\n\nclass base:\n    def __init__(self,x):\n        self._i=x\n        print \"Constructing base\"\n    def __del__(self):\n        print \"Destructing base\"\n\nclass derived(base):\n    def __init__(self,x,y):\n        base.__init__(self,y)\n        self.__j=x\n        print \"Constructing derived\"\n    def __del__(self):\n        print \"Destructing derived\"\n        for b in self.__class__.__bases__:\n            b.__del__(self)\n    def show(self):\n        print self._i,self.__j\n\n#Variable declaration\nob=derived(3,4)\n\n#Result\nob.show()              #shows 4 3",
     "language": "python",
     "metadata": {},
     "outputs": [
      {
       "output_type": "stream",
       "stream": "stdout",
       "text": "Constructing base\nConstructing derived\nDestructing derived\nDestructing base\n4 3\n"
      }
     ],
     "prompt_number": 23
    },
    {
     "cell_type": "markdown",
     "metadata": {},
     "source": "<h3>Example 14.11, Page Number: 348<h3>"
    },
    {
     "cell_type": "code",
     "collapsed": false,
     "input": "'''Example that uses multiple base classes'''\n\nclass base1:\n    def __init__(self,x):\n        self._i=x\n        print \"Constructing base1\"\n    def __del__(self):\n        print \"Destructing base1\"\n    \nclass base2:\n    def __init__(self,x):\n        self._k=x\n        print \"Constructing base2\"\n    def __del__(self):\n        print \"Destructing base2\"\n        \nclass derived(base1,base2):\n    def __init__(self,x,y,z):\n        self.__j=x\n        i=0\n        for b in self.__class__.__bases__:\n            if i==0:\n                b.__init__(self,y)\n            else :\n                b.__init__(self,z)\n            i+=1\n        print \"Constructing derived\"\n    def __del__(self):\n        print \"Destructing derived\"\n        for b in self.__class__.__bases__:\n            b.__del__(self)\n    def show(self):\n        print self._i,self.__j,self._k\n \n#Variable declaration\nob = derived(3,4,5)\n\n#Result\nob.show()\n\n",
     "language": "python",
     "metadata": {},
     "outputs": [
      {
       "output_type": "stream",
       "stream": "stdout",
       "text": "Constructing base1\nConstructing base2\nConstructing derived\nDestructing derived\nDestructing base1\nDestructing base2\n4 3 5\n"
      }
     ],
     "prompt_number": 25
    },
    {
     "cell_type": "markdown",
     "metadata": {},
     "source": "<h3>Example 14.12, Page Number: 348<h3>"
    },
    {
     "cell_type": "code",
     "collapsed": false,
     "input": "'''Another example that uses multiple base classes'''\n\nclass base1:\n    def __init__(self,x):\n        self._i=x\n        print \"Constructing base1\"\n    def __del__(self):\n        print \"Destructing base1\"\n    \nclass base2:\n    def __init__(self,x):\n        self._k=x\n        print \"Constructing base2\"\n    def __del__(self):\n        print \"Destructing base2\"\n        \nclass derived(base1,base2):\n    def __init__(self,x,y):\n        i=0\n        for b in self.__class__.__bases__:\n            if i==0:\n                b.__init__(self,x)\n            else :\n                b.__init__(self,y)\n            i+=1\n        print \"Constructing derived\"\n    def __del__(self):\n        print \"Destructing derived\"\n        for b in self.__class__.__bases__:\n            b.__del__(self)\n    def show(self):\n        print self._i,self._k\n \n#Variable declaration\nob = derived(3,4)\n\n#Result\nob.show()\n\n",
     "language": "python",
     "metadata": {},
     "outputs": [
      {
       "output_type": "stream",
       "stream": "stdout",
       "text": "Constructing base1\nConstructing base2\nConstructing derived\nDestructing derived\nDestructing base1\nDestructing base2\n3 4\n"
      }
     ],
     "prompt_number": 26
    },
    {
     "cell_type": "markdown",
     "metadata": {},
     "source": "<h3>Example 14.13, Page Number: 351<h3>"
    },
    {
     "cell_type": "code",
     "collapsed": false,
     "input": "'''Acessing member variables'''\n\nclass base:\n    def __init__(self):\n        self.__i=None\n        self.j=self.k=None\n    def seti(self,x):\n        self.__i=x\n    def geti(self):\n        return self.__i\n\nclass derived(base):\n    def __init__(self):\n        self.a=None\n\n\n#Variable declaration\nob=derived()\n\nob._base__i=10     #Accessing private members of base class\nob.j=20            #legal because j and k are public variable in base\nob.k=30\n\nob.a=40           #legal because a is public in derived class\nob.seti(10)\n\n#Result\nprint ob.geti(),ob.j,ob.a",
     "language": "python",
     "metadata": {},
     "outputs": [
      {
       "output_type": "stream",
       "stream": "stdout",
       "text": "10 20 40\n"
      }
     ],
     "prompt_number": 28
    },
    {
     "cell_type": "markdown",
     "metadata": {},
     "source": "<h3>Example 14.14, Page Number: 354<h3>"
    },
    {
     "cell_type": "code",
     "collapsed": false,
     "input": "'''Virtual base class'''\n#All classes in pyhton are effectively virtual, hence scope resolution is not needed\n\nclass base:\n    def __init__(self):\n        self.i=None\n\n#derived1 inherits base\nclass derived1(base):\n    def __init__(self):\n        self.__j=None\n          \n#derived2 inherits base\nclass derived2(base):\n    def __init__(self):\n        self.__k=None\n\n#derived3 inherits from both derived1 and derived2\nclass derived3(derived1,derived2):\n    def __init__(self):\n        self.__sum=None\n \n#Variable declaration\nob=derived3()\n\nob.i=10\nob.j=20\nob.k=30\n\nob.sum=ob.i+ob.j+ob.k\n\n#Result\nprint ob.i,ob.j,ob.k,ob.sum",
     "language": "python",
     "metadata": {},
     "outputs": [
      {
       "output_type": "stream",
       "stream": "stdout",
       "text": "10 20 30 60\n"
      }
     ],
     "prompt_number": 29
    },
    {
     "cell_type": "markdown",
     "metadata": {},
     "source": "<h3>Example 14.15, Page Number: 355<h3>"
    },
    {
     "cell_type": "code",
     "collapsed": false,
     "input": "'''Virtual base class'''\n#All classes in pyhton are effectively virtual, hence virtual keyword is not needed\n\nclass base:\n    def __init__(self):\n        self.i=None\n\n#derived1 inherits base\nclass derived1(base):\n    def __init__(self):\n        self.__j=None\n          \n#derived2 inherits base\nclass derived2(base):\n    def __init__(self):\n        self.__k=None\n\n#derived3 inherits from both derived1 and derived2\nclass derived3(derived1,derived2):\n    def __init__(self):\n        self.__sum=None\n \n#Variable declaration\nob=derived3()\n\nob.i=10\nob.j=20\nob.k=30\n\nob.sum=ob.i+ob.j+ob.k\n\n#Result\nprint ob.i,ob.j,ob.k,ob.sum",
     "language": "python",
     "metadata": {},
     "outputs": [
      {
       "output_type": "stream",
       "stream": "stdout",
       "text": "10 20 30 60\n"
      }
     ],
     "prompt_number": 30
    },
    {
     "cell_type": "code",
     "collapsed": false,
     "input": "",
     "language": "python",
     "metadata": {},
     "outputs": []
    }
   ],
   "metadata": {}
  }
 ]
}