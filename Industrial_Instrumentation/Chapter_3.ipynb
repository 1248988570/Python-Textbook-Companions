{
 "metadata": {
  "name": "Chapter_3"
 }, 
 "nbformat": 2, 
 "worksheets": [
  {
   "cells": [
    {
     "cell_type": "markdown", 
     "source": [
      "<h1>Chapter_3: Force Torque and Velocity<h1>"
     ]
    }, 
    {
     "cell_type": "markdown", 
     "source": [
      "<h3>Example 3.1, Page Number: 163<h3>"
     ]
    }, 
    {
     "cell_type": "code", 
     "collapsed": false, 
     "input": [
      "'''Force calculation'''", 
      "", 
      "#variable declaration", 
      "m1=20                       #mass of the body in Kg ", 
      "a=5                         #acceleration in m/s^2", 
      "", 
      "#calculation", 
      "F=m1*a", 
      "", 
      "#result", 
      "print('F = %d Newtons'%F)"
     ], 
     "language": "python", 
     "outputs": [
      {
       "output_type": "stream", 
       "stream": "stdout", 
       "text": [
        "F = 100 Newtons"
       ]
      }
     ], 
     "prompt_number": 6
    }, 
    {
     "cell_type": "markdown", 
     "source": [
      "<h3>Example 3.2, Page Number: 163<h3>"
     ]
    }, 
    {
     "cell_type": "code", 
     "collapsed": false, 
     "input": [
      "'''Weight calculation'''", 
      "", 
      "#variable declaration", 
      "m1=50                      #mass of the body in Kg ", 
      "g1=9.8                     #acceleration due to gravity", 
      "", 
      "#calculation", 
      "W2=m1*g1", 
      "", 
      "#result", 
      "print('W = %d Newtons = %d kgf' %(W2,m1))"
     ], 
     "language": "python", 
     "outputs": [
      {
       "output_type": "stream", 
       "stream": "stdout", 
       "text": [
        "W = 490 Newtons = 50 kgf"
       ]
      }
     ], 
     "prompt_number": 7
    }, 
    {
     "cell_type": "markdown", 
     "source": [
      "<h3>Example 3.3, Page Number: 164<h3>"
     ]
    }, 
    {
     "cell_type": "code", 
     "collapsed": false, 
     "input": [
      "'''calculation of specific gravity'''", 
      "", 
      "#variable declaration", 
      "wt_material=2500.0         #weight of 1 m^3 material", 
      "wt_water=1000.0            #weight of 1 m^3 water", 
      "", 
      "#calculation", 
      "spe_grav=wt_material/wt_water", 
      "", 
      "#result", 
      "print('Specific gravity of the material = %.1f' %spe_grav)"
     ], 
     "language": "python", 
     "outputs": [
      {
       "output_type": "stream", 
       "stream": "stdout", 
       "text": [
        "Specific gravity of the material = 2.5"
       ]
      }
     ], 
     "prompt_number": 8
    }, 
    {
     "cell_type": "markdown", 
     "source": [
      "<h3>Example 3.4, Page Number: 164<h3>"
     ]
    }, 
    {
     "cell_type": "code", 
     "collapsed": false, 
     "input": [
      "'''Estimation of uncertainty due to sensitivity'''", 
      "", 
      "import math", 
      "#variable declaration", 
      "L=20.0                     # length in cm", 
      "W=2000.0                   # Weight of mass in gm       ", 
      "db=0.02                    # length in cm ", 
      "Wb=100.0                   # Weight of mass in gm       ", 
      "dG=0.5                     # length in cm", 
      "", 
      "#calculation", 
      "S=L/(2*W*db+Wb*dG)", 
      "fi=0.2", 
      "DeltaW=fi*math.pi/(180*S)", 
      "", 
      "#result", 
      "print('S = %.3f rad/g' %S)", 
      "print('\\nDeltaW = %.3f g' %DeltaW)"
     ], 
     "language": "python", 
     "outputs": [
      {
       "output_type": "stream", 
       "stream": "stdout", 
       "text": [
        "S = 0.154 rad/g", 
        "", 
        "DeltaW = 0.023 g"
       ]
      }
     ], 
     "prompt_number": 9
    }, 
    {
     "cell_type": "markdown", 
     "source": [
      "<h3>Example 3.5, Page Number: 164<h3>"
     ]
    }, 
    {
     "cell_type": "code", 
     "collapsed": false, 
     "input": [
      "'''Torque Calculation'''", 
      "", 
      "import math", 
      "", 
      "#variable declaration", 
      "hp=746.0                   # horse power", 
      "P=5*hp                     # Saft power in Watts", 
      "N=1500.0                   # speed in rpm", 
      "", 
      "#calculation", 
      "n=N/60.0", 
      "T=P*60/(2*math.pi*n)", 
      "", 
      "#result", 
      "print('T = %.0f Newton meters' %(math.ceil(T)))"
     ], 
     "language": "python", 
     "outputs": [
      {
       "output_type": "stream", 
       "stream": "stdout", 
       "text": [
        "T = 1425 Newton meters"
       ]
      }
     ], 
     "prompt_number": 10
    }, 
    {
     "cell_type": "markdown", 
     "source": [
      "<h3>Example 3.6, Page Number: 165<h3>"
     ]
    }, 
    {
     "cell_type": "code", 
     "collapsed": false, 
     "input": [
      "'''Force calculation'''", 
      "", 
      "#variable declaration", 
      "ch_l=0.075               #change in length", 
      "orig_l=50.0              #Original length", 
      "", 
      "#calculation", 
      "S=ch_l/orig_l", 
      "E=9.66*10**5", 
      "stress=E*S", 
      "area=1.5", 
      "f=stress*area", 
      "", 
      "#result", 
      "print('Strain = %.4f cm/cm\\nStress =%d kg/cm^2\\nForce = %.1f kg'%(S,stress,f))"
     ], 
     "language": "python", 
     "outputs": [
      {
       "output_type": "stream", 
       "stream": "stdout", 
       "text": [
        "Strain = 0.0015 cm/cm", 
        "Stress =1449 kg/cm^2", 
        "Force = 2173.5 kg"
       ]
      }
     ], 
     "prompt_number": 11
    }, 
    {
     "cell_type": "markdown", 
     "source": [
      "<h3>Example 3.7, Page Number: 165<h3>"
     ]
    }, 
    {
     "cell_type": "code", 
     "collapsed": false, 
     "input": [
      "'''resistance strain gauge'''", 
      "", 
      "import math", 
      "", 
      "#(a)", 
      "", 
      "#variable declaration", 
      "R1=120.0                    # resistance in Ohm", 
      "R2=120.0                    # resistance in Ohm", 
      "R3=120.0                    # resistance in Ohm", 
      "R4=120.0                    # resistance in Ohm", 
      "Rg=100.0                    # resistance in Ohm", 
      "", 
      "#calculation", 
      "C=(R1*R2*R4)+(R1*R3*R4)+(R1*R2*R3)+(R2*R3*R4)+(Rg*(R1+R4)*(R2+R3))", 
      "C=C/(10**7)", 
      "", 
      "#result", 
      "print('(a)\\nC=%.3f*10^7' %C)", 
      "E=10", 
      "F=(E*R3*R1*2*10**3)/(C*10**7)", 
      "print('\\nF = %.1f *10^3 A/mm = %.1f mA/mm'%(F,F))", 
      "", 
      "#(b)", 
      "", 
      "#calculation", 
      "Fe=2*10**-4", 
      "E=10", 
      "DeltaE=Fe*E/(4+4*10**-4)", 
      "DeltaE=DeltaE*10**3", 
      "", 
      "#Result", 
      "print('\\n(b)\\nDeltaEg=%.1f mV' %DeltaE)"
     ], 
     "language": "python", 
     "outputs": [
      {
       "output_type": "stream", 
       "stream": "stdout", 
       "text": [
        "(a)", 
        "C=1.267*10^7", 
        "", 
        "F = 22.7 *10^3 A/mm = 22.7 mA/mm", 
        "", 
        "(b)", 
        "DeltaEg=0.5 mV"
       ]
      }
     ], 
     "prompt_number": 12
    }, 
    {
     "cell_type": "markdown", 
     "source": [
      "<h3>Example 3.8, PAge Number: 167<h3>"
     ]
    }, 
    {
     "cell_type": "code", 
     "collapsed": false, 
     "input": [
      "'''speed measurement using stroboscope'''", 
      "", 
      "#(a)", 
      "import math", 
      "", 
      "#variable Declaration", 
      "r1=2500.0                       # Highest flasing rate ", 
      "r2=1500.0                       # next Highest flasing rate ", 
      "", 
      "#calculation", 
      "n=(r1*r2)/(r1-r2)", 
      "", 
      "#result", 
      "print('(a)\\nn = %d rpm'%n)", 
      "", 
      "#(b)", 
      "", 
      "#variable declaration", 
      "N=5.0                         # Fift time syncronization for same speed", 
      "", 
      "#calculation", 
      "r5=n*r1/((r1*(N-1))+n)", 
      "r5=math.ceil(r5)", 
      "", 
      "#result", 
      "print('\\n(b)\\nr5=%d Flashes/Minute' %r5)"
     ], 
     "language": "python", 
     "outputs": [
      {
       "output_type": "stream", 
       "stream": "stdout", 
       "text": [
        "(a)", 
        "n = 3750 rpm", 
        "", 
        "(b)", 
        "r5=682 Flashes/Minute"
       ]
      }
     ], 
     "prompt_number": 13
    }, 
    {
     "cell_type": "markdown", 
     "source": [
      "<h3>Example 3.9, Page Number: 167<h3>"
     ]
    }, 
    {
     "cell_type": "code", 
     "collapsed": false, 
     "input": [
      "'''speed measurement using proximity'''", 
      "", 
      "#variable declaration", 
      "rpm=1500.0                   #rotation in rpm", 
      "f=200.0                      #frequency", 
      "", 
      "#calculation", 
      "N=60*f/rpm", 
      "", 
      "#result", 
      "print('No of teeth on the wheel\\nN=%d' %N)"
     ], 
     "language": "python", 
     "outputs": [
      {
       "output_type": "stream", 
       "stream": "stdout", 
       "text": [
        "No of teeth on the wheel", 
        "N=8"
       ]
      }
     ], 
     "prompt_number": 14
    }
   ]
  }
 ]
}