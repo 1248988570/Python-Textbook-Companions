{
 "metadata": {
  "name": "Chapter_7"
 }, 
 "nbformat": 2, 
 "worksheets": [
  {
   "cells": [
    {
     "cell_type": "markdown", 
     "source": [
      "<h1>Chapter 7: Velocity Humidity and Moisture<h1>"
     ]
    }, 
    {
     "cell_type": "markdown", 
     "source": [
      "<h3>Example 7.1, Page NUmber: 436<h3>"
     ]
    }, 
    {
     "cell_type": "code", 
     "collapsed": false, 
     "input": [
      "'''calculation of absolute viscosity'''", 
      "", 
      "#variable declaration", 
      "f=2*9.8*10**5            # Force in Dynes", 
      "A=100.0                  # area in cm^2", 
      "V=20.0                   # velocity in m/sec", 
      "l=10.0                   # length in cm", 
      "", 
      "#calculation", 
      "mu=(f/A)/(V/l)", 
      "mu=mu/1000.0", 
      "", 
      "#result", 
      "print('The absolute viscosity mu = %.1f*10^5 centipoises'%mu)"
     ], 
     "language": "python", 
     "outputs": [
      {
       "output_type": "stream", 
       "stream": "stdout", 
       "text": [
        "The absolute viscosity mu = 9.8*10^5 centipoises"
       ]
      }
     ], 
     "prompt_number": 4
    }, 
    {
     "cell_type": "markdown", 
     "source": [
      "<h3>Example 7.2, Page Number:437<h3>"
     ]
    }, 
    {
     "cell_type": "code", 
     "collapsed": false, 
     "input": [
      "'''calculation of kinematic relative and absolute viscosity'''", 
      "", 
      "#(a)", 
      "", 
      "#variable declaration", 
      "v=10.0                # absolute viscosity", 
      "", 
      "#calculation", 
      "F=1/v", 
      "", 
      "#result", 
      "print('(a)\\nFluidity = %.1f rhe'%F)", 
      "", 
      "#(b)", 
      "", 
      "#variable declaration", 
      "mu=10.0                  # absolute viscosity", 
      "rho=0.8                  # density in m/cm^3", 
      "", 
      "#calculation", 
      "ve=mu/rho", 
      "", 
      "#result", 
      "print('\\n(b)\\nKinematic viscosity (v)= %.1f cm^2/sec'%ve)", 
      "", 
      "", 
      "#(c)", 
      "", 
      "#variable declaration", 
      "ab=1000.0                # absolute viscosity ", 
      "abwt=1.002               # absolute viscosity of water at 20 deree celcius", 
      "", 
      "#calculation", 
      "rv=ab/abwt", 
      "", 
      "#result", 
      "print('\\n(c)\\nRelative viscosity = %d centipoises'%rv)", 
      "", 
      "#(d)", 
      "", 
      "#variable declaration", 
      "PAS=10.0", 
      "", 
      "#Result", 
      "print('\\n(c)\\nAbsolute viscosity = 1000 centipoises =10 poises = 1PAS')"
     ], 
     "language": "python", 
     "outputs": [
      {
       "output_type": "stream", 
       "stream": "stdout", 
       "text": [
        "(a)", 
        "Fluidity = 0.1 rhe", 
        "", 
        "(b)", 
        "Kinematic viscosity (v)= 12.5 cm^2/sec", 
        "", 
        "(c)", 
        "Relative viscosity = 998 centipoises", 
        "", 
        "(c)", 
        "Absolute viscosity = 1000 centipoises =10 poises = 1PAS"
       ]
      }
     ], 
     "prompt_number": 5
    }, 
    {
     "cell_type": "markdown", 
     "source": [
      "<h3>Example 7.3, Page Number: 438<h3>"
     ]
    }, 
    {
     "cell_type": "code", 
     "collapsed": false, 
     "input": [
      "'''Absolute viscosity of the Newtonian fluid'''", 
      "", 
      "import math", 
      "#b)", 
      "", 
      "#variable declaration", 
      "R=0.5                      # radius", 
      "L=5                        # length", 
      "p_diff=800.0               # pressure difference", 
      "V=10.0                     # volume", 
      "", 
      "#calculation", 
      "mu=(math.pi*R**4)*p_diff/(8*V*L)", 
      "", 
      "#result", 
      "print('(b)\\nmu=%.4f poise =%.2f centipoise'%(mu,mu*100))"
     ], 
     "language": "python", 
     "outputs": [
      {
       "output_type": "stream", 
       "stream": "stdout", 
       "text": [
        "(b)", 
        "mu=0.3927 poise =39.27 centipoise"
       ]
      }
     ], 
     "prompt_number": 6
    }, 
    {
     "cell_type": "markdown", 
     "source": [
      "<h3>Example 7.4, Page Number: 439<h3>"
     ]
    }, 
    {
     "cell_type": "code", 
     "collapsed": false, 
     "input": [
      "'''kinematic viscosity and density calculation'''", 
      "", 
      "import math ", 
      "#(a)", 
      "", 
      "#variable declaration", 
      "g=980.0                   # acceleration due to gravity", 
      "h=4                       # Height", 
      "R=0.5                     # radius", 
      "V=10.0                    # volume ", 
      "l=5.0                     # length ", 
      "t=1.0", 
      "", 
      "#calculation", 
      "v=(math.pi*g*h*t*R**4)/(8*l*V)", 
      "", 
      "#result", 
      "print('(a)\\n v = %.2f stokes'%v)", 
      "", 
      "#calculation", 
      "mu=0.3925", 
      "rho=mu/v", 
      "", 
      "#result", 
      "print('\\n(b)\\n Density of the fluid rho = %.3f gm/cm^3'%rho)"
     ], 
     "language": "python", 
     "outputs": [
      {
       "output_type": "stream", 
       "stream": "stdout", 
       "text": [
        "(a)", 
        " v = 1.92 stokes", 
        "", 
        "(b)", 
        " Density of the fluid rho = 0.204 gm/cm^3"
       ]
      }
     ], 
     "prompt_number": 7
    }, 
    {
     "cell_type": "markdown", 
     "source": [
      "<h3>Example 7.5, Page Number: 440<h3>"
     ]
    }, 
    {
     "cell_type": "code", 
     "collapsed": false, 
     "input": [
      "'''Kinematic Viscosity in Saybolts Universal viscometer'''", 
      "", 
      "#variable declaration", 
      "", 
      "#(a)", 
      "A=0.226      # value of A as per equation", 
      "B=195.0      # value of B as per equation", 
      "t=60.0       # Efflux time", 
      "", 
      "#calcullation", 
      "v=A*t-B/t", 
      "A1=0.220", 
      "B1=135.0", 
      "t1=140.0", 
      "v1=A1*t1-B1/t1", 
      "", 
      "#result", 
      "print('(a) Fluid X\\n v = %.2f centipoises'%v)", 
      "print('\\n(b)Fluid Y\\n v = %.1f centipoises'%v1)"
     ], 
     "language": "python", 
     "outputs": [
      {
       "output_type": "stream", 
       "stream": "stdout", 
       "text": [
        "(a) Fluid X", 
        " v = 10.31 centipoises", 
        "", 
        "(b)Fluid Y", 
        " v = 29.8 centipoises"
       ]
      }
     ], 
     "prompt_number": 8
    }, 
    {
     "cell_type": "markdown", 
     "source": [
      "<h3>Example 7.6, Page Number: 441<h3>"
     ]
    }, 
    {
     "cell_type": "code", 
     "collapsed": false, 
     "input": [
      "'''calculation of absolute viscosity'''", 
      "", 
      "import math", 
      "", 
      "#variable declaration", 
      "t=12.0                    # time interval of falling ball in sec ", 
      "Rsb=7.0                   # Specific gravity of ball", 
      "Rsf=1.12                  # Specific gravity of fluid", 
      "B=1.5                     # Ball constant in centipoises", 
      "", 
      "#calculation", 
      "mu=t*(Rsb-Rsf)*B", 
      "", 
      "#result", 
      "print('mu= %.2f centipoises = %d centipoises(approx)'%(mu,math.ceil(mu)))"
     ], 
     "language": "python", 
     "outputs": [
      {
       "output_type": "stream", 
       "stream": "stdout", 
       "text": [
        "mu= 105.84 centipoises = 106 centipoises(approx)"
       ]
      }
     ], 
     "prompt_number": 9
    }, 
    {
     "cell_type": "markdown", 
     "source": [
      "<h3>Example 7.7, Page Number: 441<h3>"
     ]
    }, 
    {
     "cell_type": "code", 
     "collapsed": false, 
     "input": [
      "'''calculation of relative humidity'''", 
      "", 
      "#(a)", 
      "", 
      "#variable declaration", 
      "B=45.0             # dry bulb temperature", 
      "W=25.0             # wet bulb temperature", 
      "", 
      "#result", 
      "print('\\n(b)\\nPsychromatic differential : %d\u00b0C'%(B-W))", 
      "print('\\n Relative humidity is 80%% corresponding to')", 
      "print(' \\ntemperature 45\u00b0C  and psychromatic differential 20\u00b0C')", 
      "", 
      "#(b)", 
      "", 
      "#variable declaration", 
      "B1=30.0               # dry bulb temperature", 
      "W1=27.0               # wet bulb temperature", 
      "", 
      "#result", 
      "print('\\n(b)\\nPsychromatic differential : %d\u00b0C'%(B1-W1))", 
      "print('\\n Relative humidity is 80%% corresponding to')", 
      "print(' \\ntemperature 30\u00b0C  and psychromatic differential 3\u00b0C')"
     ], 
     "language": "python", 
     "outputs": [
      {
       "output_type": "stream", 
       "stream": "stdout", 
       "text": [
        "", 
        "(b)", 
        "Psychromatic differential : 20\u00b0C", 
        "", 
        " Relative humidity is 80%% corresponding to", 
        " ", 
        "temperature 45\u00b0C  and psychromatic differential 20\u00b0C", 
        "", 
        "(b)", 
        "Psychromatic differential : 3\u00b0C", 
        "", 
        " Relative humidity is 80%% corresponding to", 
        " ", 
        "temperature 30\u00b0C  and psychromatic differential 3\u00b0C"
       ]
      }
     ], 
     "prompt_number": 10
    }, 
    {
     "cell_type": "markdown", 
     "source": [
      "<h3>Example 7.8, Page Number: 441<h3>"
     ]
    }, 
    {
     "cell_type": "code", 
     "collapsed": false, 
     "input": [
      "'''calculation of Relative Humidity dew point and moisture content'''", 
      "", 
      "#variable declaration", 
      "D=80.0                # intersection point of DB temperature", 
      "W=66.5                # intersection point of WB temperature", 
      "", 
      "#Result", 
      "", 
      "#(a)", 
      "print('(a)\\nThe intersection point of DB temperature 80\u00b0F and WB temperature 66.5\u00b0F')", 
      "print(' \\nlines on the relative humidity curve for 50%.\\n RH = 50%')", 
      "", 
      "#(b)", 
      "print('\\n(b)\\nFrom the point of intersection of the dry and wet bulb curves, move left')", 
      "print(' \\nhorizontally to the dew point temperature curve where it meets at 60\u00b0F')", 
      "print('\\nDew Point = 60\u00b0F')", 
      "", 
      "#(c)", 
      "print('\\n(c)\\nFrom the point of intersection of the dry and wet bulb curves,')", 
      "print('\\nhorizontally to the right to the moisture content plot where it meets at 76.')", 
      "print('\\nMoisture Content : 76 grains of water per pound of dry air.')"
     ], 
     "language": "python", 
     "outputs": [
      {
       "output_type": "stream", 
       "stream": "stdout", 
       "text": [
        "(a)", 
        "The intersection point of DB temperature 80\u00b0F and WB temperature 66.5\u00b0F", 
        " ", 
        "lines on the relative humidity curve for 50%.", 
        " RH = 50%", 
        "", 
        "(b)", 
        "From the point of intersection of the dry and wet bulb curves, move left", 
        " ", 
        "horizontally to the dew point temperature curve where it meets at 60\u00b0F", 
        "", 
        "Dew Point = 60\u00b0F", 
        "", 
        "(c)", 
        "From the point of intersection of the dry and wet bulb curves,", 
        "", 
        "horizontally to the right to the moisture content plot where it meets at 76.", 
        "", 
        "Moisture Content : 76 grains of water per pound of dry air."
       ]
      }
     ], 
     "prompt_number": 11
    }, 
    {
     "cell_type": "markdown", 
     "source": [
      "<h3>Example 7.9, Page Number: 442<h3>"
     ]
    }, 
    {
     "cell_type": "code", 
     "collapsed": false, 
     "input": [
      "'''calculation of relative humidity'''", 
      "", 
      "#variable declaration", 
      "wt_vap=500.0           # Amount of water vapour present", 
      "wt_vap_to_sat=1500.0   # Amount of water vapour added to saturate", 
      "", 
      "#calculation", 
      "total=wt_vap+wt_vap_to_sat", 
      "Rh=(wt_vap/total)*100", 
      "", 
      "#result", 
      "print('RH = %d%%'%Rh)"
     ], 
     "language": "python", 
     "outputs": [
      {
       "output_type": "stream", 
       "stream": "stdout", 
       "text": [
        "RH = 25%"
       ]
      }
     ], 
     "prompt_number": 12
    }, 
    {
     "cell_type": "markdown", 
     "source": [
      "<h3>Example 7.10, Page Number: 442<h3>"
     ]
    }, 
    {
     "cell_type": "code", 
     "collapsed": false, 
     "input": [
      "'''percentage relative humidity'''", 
      "", 
      "#variable declaration", 
      "pv=30.0             # partial pressure of water vapour", 
      "ps=60.0             # Saturation partial pressure ", 
      "", 
      "#calculations", 
      "Rh=(pv/ps)*100", 
      "", 
      "#Result", 
      "print('%%RH = %d%%'%Rh)"
     ], 
     "language": "python", 
     "outputs": [
      {
       "output_type": "stream", 
       "stream": "stdout", 
       "text": [
        "%RH = 50%"
       ]
      }
     ], 
     "prompt_number": 13
    }, 
    {
     "cell_type": "markdown", 
     "source": [
      "<h3>Example 7.11, Page Number: 442<h3>"
     ]
    }, 
    {
     "cell_type": "code", 
     "collapsed": false, 
     "input": [
      "'''percentage increase in moisture content'''", 
      "", 
      "#variable declaration", 
      "i1=250.0                  # ionazation current ", 
      "i2=350.0                  # ionazation current ", 
      "", 
      "#calculation", 
      "m=(i2-i1)*100/i1", 
      "", 
      "#result", 
      "print('%% increase in moisture content = %d%%'%m)"
     ], 
     "language": "python", 
     "outputs": [
      {
       "output_type": "stream", 
       "stream": "stdout", 
       "text": [
        "% increase in moisture content = 40%"
       ]
      }
     ], 
     "prompt_number": 14
    }, 
    {
     "cell_type": "markdown", 
     "source": [
      "<h3>Example 7.12, Page Number: 443<h3>"
     ]
    }, 
    {
     "cell_type": "code", 
     "collapsed": false, 
     "input": [
      "'''calculation of moisture content'''", 
      "", 
      "#variable declaraton", 
      "i2=150.0    # wet weight", 
      "i1=125.0    # dry weight", 
      "", 
      "#calculation", 
      "m=(i2-i1)*100/i1", 
      "", 
      "#result", 
      "print('Moisture percentage = %d%%'%m)"
     ], 
     "language": "python", 
     "outputs": [
      {
       "output_type": "stream", 
       "stream": "stdout", 
       "text": [
        "Moisture percentage = 20%"
       ]
      }
     ], 
     "prompt_number": 15
    }
   ]
  }
 ]
}