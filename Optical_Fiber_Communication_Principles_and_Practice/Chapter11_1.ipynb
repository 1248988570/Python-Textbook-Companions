{
 "metadata": {
  "name": "Chapter_11"
 },
 "nbformat": 3,
 "nbformat_minor": 0,
 "worksheets": [
  {
   "cells": [
    {
     "cell_type": "heading",
     "level": 1,
     "metadata": {},
     "source": "Chapter 1 : Integrated optics and photonics"
    },
    {
     "cell_type": "heading",
     "level": 2,
     "metadata": {},
     "source": "Example 11.1, page 624"
    },
    {
     "cell_type": "code",
     "collapsed": false,
     "input": "import math\n\n#Variable declaration\nh=1.3*10**-6                            #wavlength\nd=25*10**-6                             #distance between the electrodes\nn1=2.1                                  #refractive index\nr=30.8*10**-12                          #electro-optic coefficient\nl=2*10**-2                              #length\n\n\n#Calculation\nV=(h*d)/(n1**3*r*l)                       #voltage\n\n#Result\nprint'Voltage = %.1f V'%V",
     "language": "python",
     "metadata": {},
     "outputs": [
      {
       "output_type": "stream",
       "stream": "stdout",
       "text": "Voltage = 5.7 V\n"
      }
     ],
     "prompt_number": 1
    },
    {
     "cell_type": "heading",
     "level": 2,
     "metadata": {},
     "source": "Example 11.2, page 629"
    },
    {
     "cell_type": "code",
     "collapsed": false,
     "input": "import math\n\n#Variable declaration\nn1=3.1                                         #refractive index\nthet=1                                      #angle in degree\nh=1.52*10**-6                                  #wavelength\nl=10**-2                                         #length\n\n#Calculation\nne=n1*math.sin(2*thet*math.pi/180)             #effective refractive index\nD=h/(2*ne)                                     #Corrugation period\ns=D*h/l                                        #filter bandwidth\n\n\n#Result\nprint'Corrugation period = %.1f um'%(D*10**6)\nprint'Filter 3 dB bandwidth = %.1f \u00c5 '%(s*10**10)",
     "language": "python",
     "metadata": {},
     "outputs": [
      {
       "output_type": "stream",
       "stream": "stdout",
       "text": "Corrugation period = 7.0 um\nFilter 3 dB bandwidth = 10.7 \u00c5 \n"
      }
     ],
     "prompt_number": 2
    }
   ],
   "metadata": {}
  }
 ]
}